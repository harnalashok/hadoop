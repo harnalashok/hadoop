{
  "nbformat": 4,
  "nbformat_minor": 0,
  "metadata": {
    "colab": {
      "name": "spark install.ipynb",
      "provenance": [],
      "collapsed_sections": [
        "yC40UHIKPJEL"
      ],
      "include_colab_link": true
    },
    "kernelspec": {
      "name": "python3",
      "display_name": "Python 3"
    },
    "language_info": {
      "name": "python"
    }
  },
  "cells": [
    {
      "cell_type": "markdown",
      "metadata": {
        "id": "view-in-github",
        "colab_type": "text"
      },
      "source": [
        "<a href=\"https://colab.research.google.com/github/harnalashok/hadoop/blob/main/spark_dataframe_expts.ipynb\" target=\"_parent\"><img src=\"https://colab.research.google.com/assets/colab-badge.svg\" alt=\"Open In Colab\"/></a>"
      ]
    },
    {
      "cell_type": "code",
      "metadata": {
        "id": "4q64Z8IYb8fr"
      },
      "source": [
        "# Last amended: 12th June, 2021\n",
        "# Myfolder: github/hadoop\n",
        "# Objectives:\n",
        "#             i) Install pyspark on colab\n",
        "#             ii) Install koalas on colab\n",
        "#\n",
        "#\n",
        "# Java 8 install: https://stackoverflow.com/a/58191107\n",
        "# Hadoop install: https://hadoop.apache.org/docs/stable/hadoop-project-dist/hadoop-common/SingleCluster.html\n",
        "# Spark install:  https://stackoverflow.com/a/64183749\n",
        "#                 https://www.analyticsvidhya.com/blog/2020/11/a-must-read-guide-on-how-to-work-with-pyspark-on-google-colab-for-data-scientists/"
      ],
      "execution_count": null,
      "outputs": []
    },
    {
      "cell_type": "markdown",
      "metadata": {
        "id": "Y3vw_quGSgrW"
      },
      "source": [
        "# Full spark install"
      ]
    },
    {
      "cell_type": "markdown",
      "metadata": {
        "id": "yC40UHIKPJEL"
      },
      "source": [
        "### 1.0 Libraries"
      ]
    },
    {
      "cell_type": "code",
      "metadata": {
        "id": "HBVUrlkidyaE"
      },
      "source": [
        "# 1.0 How to set environment variable\n",
        "import os  \n",
        "import time  "
      ],
      "execution_count": 1,
      "outputs": []
    },
    {
      "cell_type": "markdown",
      "metadata": {
        "id": "w8cVWRNoPOS6"
      },
      "source": [
        "## 2.0 Define some functions"
      ]
    },
    {
      "cell_type": "markdown",
      "metadata": {
        "id": "mfFBQ0FLcolo"
      },
      "source": [
        "#### ssh_install()"
      ]
    },
    {
      "cell_type": "code",
      "metadata": {
        "id": "mgS9HNCyR7C0"
      },
      "source": [
        "# 2.0 Function to install ssh client and sshd (Server)\n",
        "def ssh_install():\n",
        "  print(\"\\n--1. Download and install ssh server----\\n\")\n",
        "  ! sudo apt-get remove openssh-client openssh-server\n",
        "  ! sudo apt install openssh-client openssh-server\n",
        "  \n",
        "  print(\"\\n--2. Restart ssh server----\\n\")\n",
        "  ! service ssh restart"
      ],
      "execution_count": 2,
      "outputs": []
    },
    {
      "cell_type": "markdown",
      "metadata": {
        "id": "IJNKSScPcsDS"
      },
      "source": [
        "#### Java install"
      ]
    },
    {
      "cell_type": "code",
      "metadata": {
        "id": "BsFu84PSR9jR"
      },
      "source": [
        "# 3.0 Function to download and install java 8\n",
        "def install_java():\n",
        "  ! rm -rf /usr/java\n",
        "\n",
        "  print(\"\\n--Download and install Java 8----\\n\")\n",
        "  !apt-get install -y openjdk-8-jdk-headless -qq > /dev/null        # install openjdk\n",
        "  os.environ[\"JAVA_HOME\"] = \"/usr/lib/jvm/java-8-openjdk-amd64\"     # set environment variable\n",
        "\n",
        "  !update-alternatives --set java /usr/lib/jvm/java-8-openjdk-amd64/jre/bin/java\n",
        "  !update-alternatives --set javac /usr/lib/jvm/java-8-openjdk-amd64/bin/javac\n",
        "  \n",
        "  !mkdir -p /usr/java\n",
        "  ! ln -s \"/usr/lib/jvm/java-8-openjdk-amd64\"  \"/usr/java\"\n",
        "  ! mv \"/usr/java/java-8-openjdk-amd64\"  \"/usr/java/latest\"\n",
        "  \n",
        "  !java -version       #check java version\n",
        "  !javac -version"
      ],
      "execution_count": 3,
      "outputs": []
    },
    {
      "cell_type": "markdown",
      "metadata": {
        "id": "Y159J8TDc3wS"
      },
      "source": [
        "#### setup ssh passphrase"
      ]
    },
    {
      "cell_type": "code",
      "metadata": {
        "id": "EOFbfw7n0Pps"
      },
      "source": [
        "# 6.0 Function tp setup ssh passphrase\n",
        "def set_keys():\n",
        "  print(\"\\n---22. Generate SSH keys----\\n\")\n",
        "  ! cd ~ ; pwd \n",
        "  ! cd ~ ; ssh-keygen -t rsa -P '' -f ~/.ssh/id_rsa\n",
        "  ! cd ~ ; cat ~/.ssh/id_rsa.pub >> ~/.ssh/authorized_keys\n",
        "  ! cd ~ ; chmod 0600 ~/.ssh/authorized_keys\n"
      ],
      "execution_count": 4,
      "outputs": []
    },
    {
      "cell_type": "markdown",
      "metadata": {
        "id": "7M2kWg3dc6FT"
      },
      "source": [
        "#### Set environment"
      ]
    },
    {
      "cell_type": "code",
      "metadata": {
        "id": "CRSn9XAV4rsR"
      },
      "source": [
        "# 7.0 Function to set up environmental variables\n",
        "def set_env():\n",
        "  print(\"\\n---23. Set Environment variables----\\n\")\n",
        "  # 'export' command does not work in colab\n",
        "  # https://stackoverflow.com/a/57240319\n",
        "  os.environ[\"JAVA_HOME\"] = \"/usr/lib/jvm/java-8-openjdk-amd64\"     #set environment variable\n",
        "  os.environ[\"JRE_HOME\"] = \"/usr/lib/jvm/java-8-openjdk-amd64/jre\"   \n",
        "  "
      ],
      "execution_count": 5,
      "outputs": []
    },
    {
      "cell_type": "markdown",
      "metadata": {
        "id": "WII-UNCzc9qJ"
      },
      "source": [
        "#### function to install prerequisites\n",
        "java and ssh<br>\n"
      ]
    },
    {
      "cell_type": "code",
      "metadata": {
        "id": "oh1Mi0rHFpkU"
      },
      "source": [
        "# 8.0 Function to call all functions\n",
        "def install_components():\n",
        "  print(\"\\n--Install java----\\n\")\n",
        "  ssh_install()\n",
        "  install_java()  \n",
        "  #set_keys()\n",
        "  set_env()\n"
      ],
      "execution_count": 6,
      "outputs": []
    },
    {
      "cell_type": "markdown",
      "metadata": {
        "id": "iHJyHMhUdCRZ"
      },
      "source": [
        "## 3.0 Install components\n",
        "Start downloading, install and configure. Takes around 2 minutes<br>\n",
        "Your <u>input *'y'* is required </u>at one place while overwriting earlier ssh keys"
      ]
    },
    {
      "cell_type": "code",
      "metadata": {
        "id": "77YQikvsJiTm",
        "colab": {
          "base_uri": "https://localhost:8080/"
        },
        "outputId": "24c86d33-8413-4fec-ba74-7d4242886841"
      },
      "source": [
        "# 9.0 Start installation\n",
        "start = time.time()\n",
        "install_components()\n",
        "end = time.time()\n",
        "print(\"\\n---Time taken----\\n\")\n",
        "print((end- start)/60)"
      ],
      "execution_count": 7,
      "outputs": [
        {
          "output_type": "stream",
          "text": [
            "\n",
            "--Install java----\n",
            "\n",
            "\n",
            "--1. Download and install ssh server----\n",
            "\n",
            "Reading package lists... Done\n",
            "Building dependency tree       \n",
            "Reading state information... Done\n",
            "Package 'openssh-server' is not installed, so not removed\n",
            "The following packages will be REMOVED:\n",
            "  openssh-client\n",
            "0 upgraded, 0 newly installed, 1 to remove and 39 not upgraded.\n",
            "After this operation, 4,162 kB disk space will be freed.\n",
            "(Reading database ... 160772 files and directories currently installed.)\n",
            "Removing openssh-client (1:7.6p1-4ubuntu0.3) ...\n",
            "Processing triggers for man-db (2.8.3-2ubuntu0.1) ...\n",
            "Reading package lists... Done\n",
            "Building dependency tree       \n",
            "Reading state information... Done\n",
            "The following additional packages will be installed:\n",
            "  ncurses-term openssh-sftp-server python3-certifi python3-chardet\n",
            "  python3-idna python3-pkg-resources python3-requests python3-six\n",
            "  python3-urllib3 ssh-import-id\n",
            "Suggested packages:\n",
            "  keychain libpam-ssh monkeysphere ssh-askpass molly-guard rssh ufw\n",
            "  python3-setuptools python3-cryptography python3-openssl python3-socks\n",
            "The following NEW packages will be installed:\n",
            "  ncurses-term openssh-client openssh-server openssh-sftp-server\n",
            "  python3-certifi python3-chardet python3-idna python3-pkg-resources\n",
            "  python3-requests python3-six python3-urllib3 ssh-import-id\n",
            "0 upgraded, 12 newly installed, 0 to remove and 39 not upgraded.\n",
            "Need to get 1,762 kB of archives.\n",
            "After this operation, 11.8 MB of additional disk space will be used.\n",
            "Get:1 http://archive.ubuntu.com/ubuntu bionic-updates/main amd64 openssh-client amd64 1:7.6p1-4ubuntu0.3 [614 kB]\n",
            "Get:2 http://archive.ubuntu.com/ubuntu bionic-updates/main amd64 ncurses-term all 6.1-1ubuntu1.18.04 [248 kB]\n",
            "Get:3 http://archive.ubuntu.com/ubuntu bionic-updates/main amd64 openssh-sftp-server amd64 1:7.6p1-4ubuntu0.3 [45.6 kB]\n",
            "Get:4 http://archive.ubuntu.com/ubuntu bionic-updates/main amd64 openssh-server amd64 1:7.6p1-4ubuntu0.3 [333 kB]\n",
            "Get:5 http://archive.ubuntu.com/ubuntu bionic/main amd64 python3-certifi all 2018.1.18-2 [144 kB]\n",
            "Get:6 http://archive.ubuntu.com/ubuntu bionic/main amd64 python3-pkg-resources all 39.0.1-2 [98.8 kB]\n",
            "Get:7 http://archive.ubuntu.com/ubuntu bionic/main amd64 python3-chardet all 3.0.4-1 [80.3 kB]\n",
            "Get:8 http://archive.ubuntu.com/ubuntu bionic/main amd64 python3-idna all 2.6-1 [32.5 kB]\n",
            "Get:9 http://archive.ubuntu.com/ubuntu bionic/main amd64 python3-six all 1.11.0-2 [11.4 kB]\n",
            "Get:10 http://archive.ubuntu.com/ubuntu bionic-updates/main amd64 python3-urllib3 all 1.22-1ubuntu0.18.04.2 [86.2 kB]\n",
            "Get:11 http://archive.ubuntu.com/ubuntu bionic-updates/main amd64 python3-requests all 2.18.4-2ubuntu0.1 [58.3 kB]\n",
            "Get:12 http://archive.ubuntu.com/ubuntu bionic-updates/main amd64 ssh-import-id all 5.7-0ubuntu1.1 [10.9 kB]\n",
            "Fetched 1,762 kB in 1s (1,674 kB/s)\n",
            "debconf: unable to initialize frontend: Dialog\n",
            "debconf: (No usable dialog-like program is installed, so the dialog based frontend cannot be used. at /usr/share/perl5/Debconf/FrontEnd/Dialog.pm line 76, <> line 12.)\n",
            "debconf: falling back to frontend: Readline\n",
            "debconf: unable to initialize frontend: Readline\n",
            "debconf: (This frontend requires a controlling tty.)\n",
            "debconf: falling back to frontend: Teletype\n",
            "dpkg-preconfigure: unable to re-open stdin: \n",
            "Selecting previously unselected package openssh-client.\n",
            "(Reading database ... 160729 files and directories currently installed.)\n",
            "Preparing to unpack .../00-openssh-client_1%3a7.6p1-4ubuntu0.3_amd64.deb ...\n",
            "Unpacking openssh-client (1:7.6p1-4ubuntu0.3) ...\n",
            "Selecting previously unselected package ncurses-term.\n",
            "Preparing to unpack .../01-ncurses-term_6.1-1ubuntu1.18.04_all.deb ...\n",
            "Unpacking ncurses-term (6.1-1ubuntu1.18.04) ...\n",
            "Selecting previously unselected package openssh-sftp-server.\n",
            "Preparing to unpack .../02-openssh-sftp-server_1%3a7.6p1-4ubuntu0.3_amd64.deb ...\n",
            "Unpacking openssh-sftp-server (1:7.6p1-4ubuntu0.3) ...\n",
            "Selecting previously unselected package openssh-server.\n",
            "Preparing to unpack .../03-openssh-server_1%3a7.6p1-4ubuntu0.3_amd64.deb ...\n",
            "Unpacking openssh-server (1:7.6p1-4ubuntu0.3) ...\n",
            "Selecting previously unselected package python3-certifi.\n",
            "Preparing to unpack .../04-python3-certifi_2018.1.18-2_all.deb ...\n",
            "Unpacking python3-certifi (2018.1.18-2) ...\n",
            "Selecting previously unselected package python3-pkg-resources.\n",
            "Preparing to unpack .../05-python3-pkg-resources_39.0.1-2_all.deb ...\n",
            "Unpacking python3-pkg-resources (39.0.1-2) ...\n",
            "Selecting previously unselected package python3-chardet.\n",
            "Preparing to unpack .../06-python3-chardet_3.0.4-1_all.deb ...\n",
            "Unpacking python3-chardet (3.0.4-1) ...\n",
            "Selecting previously unselected package python3-idna.\n",
            "Preparing to unpack .../07-python3-idna_2.6-1_all.deb ...\n",
            "Unpacking python3-idna (2.6-1) ...\n",
            "Selecting previously unselected package python3-six.\n",
            "Preparing to unpack .../08-python3-six_1.11.0-2_all.deb ...\n",
            "Unpacking python3-six (1.11.0-2) ...\n",
            "Selecting previously unselected package python3-urllib3.\n",
            "Preparing to unpack .../09-python3-urllib3_1.22-1ubuntu0.18.04.2_all.deb ...\n",
            "Unpacking python3-urllib3 (1.22-1ubuntu0.18.04.2) ...\n",
            "Selecting previously unselected package python3-requests.\n",
            "Preparing to unpack .../10-python3-requests_2.18.4-2ubuntu0.1_all.deb ...\n",
            "Unpacking python3-requests (2.18.4-2ubuntu0.1) ...\n",
            "Selecting previously unselected package ssh-import-id.\n",
            "Preparing to unpack .../11-ssh-import-id_5.7-0ubuntu1.1_all.deb ...\n",
            "Unpacking ssh-import-id (5.7-0ubuntu1.1) ...\n",
            "Setting up ncurses-term (6.1-1ubuntu1.18.04) ...\n",
            "Setting up python3-idna (2.6-1) ...\n",
            "Setting up python3-six (1.11.0-2) ...\n",
            "Setting up python3-certifi (2018.1.18-2) ...\n",
            "Setting up python3-pkg-resources (39.0.1-2) ...\n",
            "Setting up python3-chardet (3.0.4-1) ...\n",
            "Setting up python3-urllib3 (1.22-1ubuntu0.18.04.2) ...\n",
            "Setting up openssh-client (1:7.6p1-4ubuntu0.3) ...\n",
            "Setting up openssh-sftp-server (1:7.6p1-4ubuntu0.3) ...\n",
            "Setting up python3-requests (2.18.4-2ubuntu0.1) ...\n",
            "Setting up ssh-import-id (5.7-0ubuntu1.1) ...\n",
            "Setting up openssh-server (1:7.6p1-4ubuntu0.3) ...\n",
            "debconf: unable to initialize frontend: Dialog\n",
            "debconf: (No usable dialog-like program is installed, so the dialog based frontend cannot be used. at /usr/share/perl5/Debconf/FrontEnd/Dialog.pm line 76.)\n",
            "debconf: falling back to frontend: Readline\n",
            "\n",
            "Creating config file /etc/ssh/sshd_config with new version\n",
            "Creating SSH2 RSA key; this may take some time ...\n",
            "2048 SHA256:E3fZG7yScKqHhf1vEyT5KKBS3X+WFrJkl1jGHIZ85uw root@a4023f182bba (RSA)\n",
            "Creating SSH2 ECDSA key; this may take some time ...\n",
            "256 SHA256:Q7DryIQkmmWIxvPp/dVPM7u25LGFr5S+7QM39YD3aDE root@a4023f182bba (ECDSA)\n",
            "Creating SSH2 ED25519 key; this may take some time ...\n",
            "256 SHA256:z3Jtyf9R1rX8myZiaj5ikZk2NA4e5TGTfcpJ+ns5QFU root@a4023f182bba (ED25519)\n",
            "Created symlink /etc/systemd/system/sshd.service → /lib/systemd/system/ssh.service.\n",
            "Created symlink /etc/systemd/system/multi-user.target.wants/ssh.service → /lib/systemd/system/ssh.service.\n",
            "invoke-rc.d: could not determine current runlevel\n",
            "invoke-rc.d: policy-rc.d denied execution of start.\n",
            "Processing triggers for man-db (2.8.3-2ubuntu0.1) ...\n",
            "Processing triggers for systemd (237-3ubuntu10.47) ...\n",
            "\n",
            "--2. Restart ssh server----\n",
            "\n",
            " * Restarting OpenBSD Secure Shell server sshd\n",
            "   ...done.\n",
            "\n",
            "--Download and install Java 8----\n",
            "\n",
            "update-alternatives: using /usr/lib/jvm/java-8-openjdk-amd64/jre/bin/java to provide /usr/bin/java (java) in manual mode\n",
            "update-alternatives: using /usr/lib/jvm/java-8-openjdk-amd64/bin/javac to provide /usr/bin/javac (javac) in manual mode\n",
            "openjdk version \"1.8.0_292\"\n",
            "OpenJDK Runtime Environment (build 1.8.0_292-8u292-b10-0ubuntu1~18.04-b10)\n",
            "OpenJDK 64-Bit Server VM (build 25.292-b10, mixed mode)\n",
            "javac 1.8.0_292\n",
            "\n",
            "---23. Set Environment variables----\n",
            "\n",
            "\n",
            "---Time taken----\n",
            "\n",
            "0.4588386654853821\n"
          ],
          "name": "stdout"
        }
      ]
    },
    {
      "cell_type": "markdown",
      "metadata": {
        "id": "XBFVWWuafLBL"
      },
      "source": [
        "## 4.0 Install spark\n",
        "koalas will also be installed"
      ]
    },
    {
      "cell_type": "markdown",
      "metadata": {
        "id": "CyuLCFRJsvW3"
      },
      "source": [
        "### Define functions"
      ]
    },
    {
      "cell_type": "markdown",
      "metadata": {
        "id": "kk3BP0OfYpT1"
      },
      "source": [
        "`findspark`: PySpark isn't on `sys.path` by default, but that doesn't mean it can't be used as a regular library. You can address this by either symlinking pyspark into your site-packages, or adding `pyspark` to `sys.path` at runtime. `findspark` does the latter."
      ]
    },
    {
      "cell_type": "code",
      "metadata": {
        "id": "opLGqtPRfM_5"
      },
      "source": [
        "# 1.0 Function to download and unzip spark\n",
        "def spark_koalas_install():\n",
        "  print(\"\\n--1.1 Install findspark----\\n\")\n",
        "  !pip install -q findspark\n",
        "\n",
        "  print(\"\\n--1.2 Install databricks Koalas----\\n\")\n",
        "  !pip install koalas\n",
        "\n",
        "  print(\"\\n--1.3 Download Apache tar.gz----\\n\")\n",
        "  ! wget -c https://apachemirror.wuchna.com/spark/spark-3.1.2/spark-3.1.2-bin-hadoop3.2.tgz\n",
        "\n",
        "  print(\"\\n--1.4 Transfer downloaded content and unzip tar.gz----\\n\")\n",
        "  !  mv /content/spark*   /opt/\n",
        "  ! tar -xzf /opt/spark-3.1.2-bin-hadoop3.2.tgz  --directory /opt/\n",
        "\n",
        "  print(\"\\n--1.5 Check folder for files----\\n\")\n",
        "  ! ls -la /opt\n"
      ],
      "execution_count": 8,
      "outputs": []
    },
    {
      "cell_type": "code",
      "metadata": {
        "id": "ebXfvQ1qiQHz"
      },
      "source": [
        "# 1.1 Function to set environment\n",
        "def set_spark_env():\n",
        "  print(\"\\n---2. Set Environment variables----\\n\")\n",
        "  os.environ[\"JAVA_HOME\"] = \"/usr/lib/jvm/java-8-openjdk-amd64\" \n",
        "  os.environ[\"JRE_HOME\"] = \"/usr/lib/jvm/java-8-openjdk-amd64/jre\" \n",
        "  os.environ[\"SPARK_HOME\"] = \"/opt/spark-3.1.2-bin-hadoop3.2\"     \n",
        "  os.environ[\"LD_LIBRARY_PATH\"] += \":/opt/spark-3.1.2-bin-hadoop3.2/lib/native\"\n",
        "  os.environ[\"PATH\"] += \":/opt/spark-3.1.2-bin-hadoop3.2/bin:/opt/spark-3.1.2-bin-hadoop3.2/sbin\"\n",
        "  print(\"\\n---2.1. Check Environment variables----\\n\")\n",
        "  # Check\n",
        "  ! echo $PATH\n",
        "  ! echo $LD_LIBRARY_PATH"
      ],
      "execution_count": 9,
      "outputs": []
    },
    {
      "cell_type": "code",
      "metadata": {
        "id": "qUsZggDHj13U"
      },
      "source": [
        "# 1.2 Function to configure spark \n",
        "def spark_conf():\n",
        "  print(\"\\n---3. Configure spark to access hadoop----\\n\")\n",
        "  !mv /opt/spark-3.1.2-bin-hadoop3.2/conf/spark-env.sh.template  /opt/spark-3.1.2-bin-hadoop3.2/conf/spark-env.sh\n",
        "  #!echo \"HADOOP_CONF_DIR=/opt/hadoop-3.2.2/etc/hadoop/\" >> /opt/spark-3.1.2-bin-hadoop3.2/conf/spark-env.sh\n",
        "  print(\"\\n---3.1 Check ----\\n\")\n",
        "  #!cat /opt/spark-3.1.1-bin-hadoop3.2/conf/spark-env.sh"
      ],
      "execution_count": 10,
      "outputs": []
    },
    {
      "cell_type": "markdown",
      "metadata": {
        "id": "M7kLbAFLszN3"
      },
      "source": [
        "### Install spark\n"
      ]
    },
    {
      "cell_type": "code",
      "metadata": {
        "id": "z_eaLhtPktHJ"
      },
      "source": [
        "# 2.0 Call all the three functions\n",
        "def install_spark():\n",
        "  spark_koalas_install()\n",
        "  set_spark_env()\n",
        "  spark_conf()\n"
      ],
      "execution_count": 11,
      "outputs": []
    },
    {
      "cell_type": "code",
      "metadata": {
        "id": "emaHs1XxRt5z",
        "colab": {
          "base_uri": "https://localhost:8080/"
        },
        "outputId": "b6657111-1c69-4d06-d526-cd682cee8ccf"
      },
      "source": [
        "# 2.1 \n",
        "install_spark()"
      ],
      "execution_count": 12,
      "outputs": [
        {
          "output_type": "stream",
          "text": [
            "\n",
            "--1.1 Install findspark----\n",
            "\n",
            "\n",
            "--1.2 Install databricks Koalas----\n",
            "\n",
            "Collecting koalas\n",
            "\u001b[?25l  Downloading https://files.pythonhosted.org/packages/b8/6f/d0454b8b7a8ac4cd9838f510ceff0d9eb20d64245c4627f425c06ca6b685/koalas-1.8.0-py3-none-any.whl (720kB)\n",
            "\u001b[K     |████████████████████████████████| 727kB 3.9MB/s \n",
            "\u001b[?25hRequirement already satisfied: pyarrow>=0.10 in /usr/local/lib/python3.7/dist-packages (from koalas) (3.0.0)\n",
            "Requirement already satisfied: pandas>=0.23.2 in /usr/local/lib/python3.7/dist-packages (from koalas) (1.1.5)\n",
            "Requirement already satisfied: numpy<1.20.0,>=1.14 in /usr/local/lib/python3.7/dist-packages (from koalas) (1.19.5)\n",
            "Requirement already satisfied: python-dateutil>=2.7.3 in /usr/local/lib/python3.7/dist-packages (from pandas>=0.23.2->koalas) (2.8.1)\n",
            "Requirement already satisfied: pytz>=2017.2 in /usr/local/lib/python3.7/dist-packages (from pandas>=0.23.2->koalas) (2018.9)\n",
            "Requirement already satisfied: six>=1.5 in /usr/local/lib/python3.7/dist-packages (from python-dateutil>=2.7.3->pandas>=0.23.2->koalas) (1.15.0)\n",
            "Installing collected packages: koalas\n",
            "Successfully installed koalas-1.8.0\n",
            "\n",
            "--1.3 Download Apache tar.gz----\n",
            "\n",
            "--2021-06-14 23:46:39--  https://apachemirror.wuchna.com/spark/spark-3.1.2/spark-3.1.2-bin-hadoop3.2.tgz\n",
            "Resolving apachemirror.wuchna.com (apachemirror.wuchna.com)... 143.110.177.196\n",
            "Connecting to apachemirror.wuchna.com (apachemirror.wuchna.com)|143.110.177.196|:443... connected.\n",
            "HTTP request sent, awaiting response... 200 OK\n",
            "Length: 228834641 (218M) [application/x-gzip]\n",
            "Saving to: ‘spark-3.1.2-bin-hadoop3.2.tgz’\n",
            "\n",
            "spark-3.1.2-bin-had 100%[===================>] 218.23M  11.2MB/s    in 22s     \n",
            "\n",
            "2021-06-14 23:47:02 (10.1 MB/s) - ‘spark-3.1.2-bin-hadoop3.2.tgz’ saved [228834641/228834641]\n",
            "\n",
            "\n",
            "--1.4 Transfer downloaded content and unzip tar.gz----\n",
            "\n",
            "\n",
            "--1.5 Check folder for files----\n",
            "\n",
            "total 223492\n",
            "drwxr-xr-x  1 root root      4096 Jun 14 23:47 .\n",
            "drwxr-xr-x  1 root root      4096 Jun 14 23:44 ..\n",
            "drwxr-xr-x  1 root root      4096 Jun  1 13:35 google\n",
            "drwxr-xr-x  4 root root      4096 Jun  1 13:29 nvidia\n",
            "drwxr-xr-x 13 1000 1000      4096 May 24 04:45 spark-3.1.2-bin-hadoop3.2\n",
            "-rw-r--r--  1 root root 228834641 May 24 05:01 spark-3.1.2-bin-hadoop3.2.tgz\n",
            "\n",
            "---2. Set Environment variables----\n",
            "\n",
            "\n",
            "---2.1. Check Environment variables----\n",
            "\n",
            "/usr/local/nvidia/bin:/usr/local/cuda/bin:/usr/local/sbin:/usr/local/bin:/usr/sbin:/usr/bin:/sbin:/bin:/tools/node/bin:/tools/google-cloud-sdk/bin:/opt/bin:/opt/spark-3.1.2-bin-hadoop3.2/bin:/opt/spark-3.1.2-bin-hadoop3.2/sbin\n",
            "/usr/local/nvidia/lib:/usr/local/nvidia/lib64:/opt/spark-3.1.2-bin-hadoop3.2/lib/native\n",
            "\n",
            "---3. Configure spark to access hadoop----\n",
            "\n",
            "\n",
            "---3.1 Check ----\n",
            "\n"
          ],
          "name": "stdout"
        }
      ]
    },
    {
      "cell_type": "markdown",
      "metadata": {
        "id": "L6XYg1IGs17n"
      },
      "source": [
        "# Test spark\n"
      ]
    },
    {
      "cell_type": "markdown",
      "metadata": {
        "id": "eZwLRxQWZryJ"
      },
      "source": [
        "Call some libraries"
      ]
    },
    {
      "cell_type": "code",
      "metadata": {
        "id": "6_1RXFGClfCy",
        "colab": {
          "base_uri": "https://localhost:8080/"
        },
        "outputId": "1e22e323-ed5b-4e4c-b6a7-f5e747615528"
      },
      "source": [
        "# 3.0 Just call some libraries to test\n",
        "import pandas as pd\n",
        "import numpy as np\n",
        "import os\n",
        "\n",
        "# 3.1 Get spark in sys.path\n",
        "import findspark\n",
        "findspark.init()\n",
        "\n",
        "# 3.2 Call other spark libraries\n",
        "#     Just to test\n",
        "from pyspark.sql import SparkSession\n",
        "import databricks.koalas as ks\n",
        "from pyspark.ml.feature import VectorAssembler\n",
        "from pyspark.ml.regression import LinearRegression"
      ],
      "execution_count": 13,
      "outputs": [
        {
          "output_type": "stream",
          "text": [
            "WARNING:root:'PYARROW_IGNORE_TIMEZONE' environment variable was not set. It is required to set this environment variable to '1' in both driver and executor sides if you use pyarrow>=2.0.0. Koalas will set it for you but it does not work if there is a Spark context already launched.\n"
          ],
          "name": "stderr"
        }
      ]
    },
    {
      "cell_type": "markdown",
      "metadata": {
        "id": "JRcydbfmqzGX"
      },
      "source": [
        "### Understanding SparkSession\n",
        "For Spark configuration options, see [here](http://spark.apache.org/docs/latest/configuration.html#spark-properties)"
      ]
    },
    {
      "cell_type": "code",
      "metadata": {
        "id": "ISNdxVmMmUVz"
      },
      "source": [
        "# 3.1 Build  spark session\n",
        "#     with certain configuration options\n",
        "#     .master => Connect to spark which URL? \"local\" to run locally, \n",
        "#                \"local[4]\" to run locally with 4 cores,\n",
        "#                or \"spark://master:7077\" to run on a Spark standalone cluster.\n",
        "#\n",
        "spark = SparkSession. \\\n",
        "                    builder. \\\n",
        "                    master(\"local[*]\"). \\\n",
        "                    config(\"spark.driver.memory\", \"1g\"). \\\n",
        "                    getOrCreate()\n"
      ],
      "execution_count": 14,
      "outputs": []
    },
    {
      "cell_type": "code",
      "metadata": {
        "id": "GhFDaRinqTBg",
        "colab": {
          "base_uri": "https://localhost:8080/",
          "height": 0
        },
        "outputId": "166f5ebd-53e2-471e-dce8-522f125dde27"
      },
      "source": [
        "# 3.1.1\n",
        "# Get spark configuration\n",
        "spark.conf.get(\"spark.driver.memory\")"
      ],
      "execution_count": 15,
      "outputs": [
        {
          "output_type": "execute_result",
          "data": {
            "application/vnd.google.colaboratory.intrinsic+json": {
              "type": "string"
            },
            "text/plain": [
              "'1g'"
            ]
          },
          "metadata": {
            "tags": []
          },
          "execution_count": 15
        }
      ]
    },
    {
      "cell_type": "code",
      "metadata": {
        "id": "_RD05F9IqZOs"
      },
      "source": [
        "# 3.1.2 \n",
        "# Get spark session \n",
        "abc = spark.builder.getOrCreate()"
      ],
      "execution_count": 16,
      "outputs": []
    },
    {
      "cell_type": "markdown",
      "metadata": {
        "id": "YkeUhzdMsDwZ"
      },
      "source": [
        "### Creating spark dataframe"
      ]
    },
    {
      "cell_type": "markdown",
      "metadata": {
        "id": "4Hkt2OyksJAh"
      },
      "source": [
        "#### From pandas dataframe"
      ]
    },
    {
      "cell_type": "code",
      "metadata": {
        "id": "oVlRiGQJmk58",
        "colab": {
          "base_uri": "https://localhost:8080/",
          "height": 0
        },
        "outputId": "e647a7a9-a1ff-4a0a-9912-7cefeee80907"
      },
      "source": [
        "# 4.0 Pandas DataFrame\n",
        "pdf = pd.DataFrame({\n",
        "        'x1': ['a','a','b','b', 'b', 'c', 'd','d'],\n",
        "        'x2': ['apple', 'orange', 'orange','orange', 'peach', 'peach','apple','orange'],\n",
        "        'x3': [1, 1, 2, 2, 2, 4, 1, 2],\n",
        "        'x4': [2.4, 2.5, 3.5, 1.4, 2.1,1.5, 3.0, 2.0],\n",
        "        'y1': [1, 0, 1, 0, 0, 1, 1, 0],\n",
        "        'y2': ['yes', 'no', 'no', 'yes', 'yes', 'yes', 'no', 'yes']\n",
        "    })\n",
        "\n",
        "# 4.1\n",
        "pdf"
      ],
      "execution_count": 17,
      "outputs": [
        {
          "output_type": "execute_result",
          "data": {
            "text/html": [
              "<div>\n",
              "<style scoped>\n",
              "    .dataframe tbody tr th:only-of-type {\n",
              "        vertical-align: middle;\n",
              "    }\n",
              "\n",
              "    .dataframe tbody tr th {\n",
              "        vertical-align: top;\n",
              "    }\n",
              "\n",
              "    .dataframe thead th {\n",
              "        text-align: right;\n",
              "    }\n",
              "</style>\n",
              "<table border=\"1\" class=\"dataframe\">\n",
              "  <thead>\n",
              "    <tr style=\"text-align: right;\">\n",
              "      <th></th>\n",
              "      <th>x1</th>\n",
              "      <th>x2</th>\n",
              "      <th>x3</th>\n",
              "      <th>x4</th>\n",
              "      <th>y1</th>\n",
              "      <th>y2</th>\n",
              "    </tr>\n",
              "  </thead>\n",
              "  <tbody>\n",
              "    <tr>\n",
              "      <th>0</th>\n",
              "      <td>a</td>\n",
              "      <td>apple</td>\n",
              "      <td>1</td>\n",
              "      <td>2.4</td>\n",
              "      <td>1</td>\n",
              "      <td>yes</td>\n",
              "    </tr>\n",
              "    <tr>\n",
              "      <th>1</th>\n",
              "      <td>a</td>\n",
              "      <td>orange</td>\n",
              "      <td>1</td>\n",
              "      <td>2.5</td>\n",
              "      <td>0</td>\n",
              "      <td>no</td>\n",
              "    </tr>\n",
              "    <tr>\n",
              "      <th>2</th>\n",
              "      <td>b</td>\n",
              "      <td>orange</td>\n",
              "      <td>2</td>\n",
              "      <td>3.5</td>\n",
              "      <td>1</td>\n",
              "      <td>no</td>\n",
              "    </tr>\n",
              "    <tr>\n",
              "      <th>3</th>\n",
              "      <td>b</td>\n",
              "      <td>orange</td>\n",
              "      <td>2</td>\n",
              "      <td>1.4</td>\n",
              "      <td>0</td>\n",
              "      <td>yes</td>\n",
              "    </tr>\n",
              "    <tr>\n",
              "      <th>4</th>\n",
              "      <td>b</td>\n",
              "      <td>peach</td>\n",
              "      <td>2</td>\n",
              "      <td>2.1</td>\n",
              "      <td>0</td>\n",
              "      <td>yes</td>\n",
              "    </tr>\n",
              "    <tr>\n",
              "      <th>5</th>\n",
              "      <td>c</td>\n",
              "      <td>peach</td>\n",
              "      <td>4</td>\n",
              "      <td>1.5</td>\n",
              "      <td>1</td>\n",
              "      <td>yes</td>\n",
              "    </tr>\n",
              "    <tr>\n",
              "      <th>6</th>\n",
              "      <td>d</td>\n",
              "      <td>apple</td>\n",
              "      <td>1</td>\n",
              "      <td>3.0</td>\n",
              "      <td>1</td>\n",
              "      <td>no</td>\n",
              "    </tr>\n",
              "    <tr>\n",
              "      <th>7</th>\n",
              "      <td>d</td>\n",
              "      <td>orange</td>\n",
              "      <td>2</td>\n",
              "      <td>2.0</td>\n",
              "      <td>0</td>\n",
              "      <td>yes</td>\n",
              "    </tr>\n",
              "  </tbody>\n",
              "</table>\n",
              "</div>"
            ],
            "text/plain": [
              "  x1      x2  x3   x4  y1   y2\n",
              "0  a   apple   1  2.4   1  yes\n",
              "1  a  orange   1  2.5   0   no\n",
              "2  b  orange   2  3.5   1   no\n",
              "3  b  orange   2  1.4   0  yes\n",
              "4  b   peach   2  2.1   0  yes\n",
              "5  c   peach   4  1.5   1  yes\n",
              "6  d   apple   1  3.0   1   no\n",
              "7  d  orange   2  2.0   0  yes"
            ]
          },
          "metadata": {
            "tags": []
          },
          "execution_count": 17
        }
      ]
    },
    {
      "cell_type": "code",
      "metadata": {
        "id": "L3pSQ7sDmnjt",
        "colab": {
          "base_uri": "https://localhost:8080/"
        },
        "outputId": "771d3f18-68c8-452f-de69-3901f178b332"
      },
      "source": [
        "# 4.2 Transform to Spark DataFrame\n",
        "#     and print\n",
        "df = spark.createDataFrame(pdf)\n",
        "df.show()"
      ],
      "execution_count": 18,
      "outputs": [
        {
          "output_type": "stream",
          "text": [
            "+---+------+---+---+---+---+\n",
            "| x1|    x2| x3| x4| y1| y2|\n",
            "+---+------+---+---+---+---+\n",
            "|  a| apple|  1|2.4|  1|yes|\n",
            "|  a|orange|  1|2.5|  0| no|\n",
            "|  b|orange|  2|3.5|  1| no|\n",
            "|  b|orange|  2|1.4|  0|yes|\n",
            "|  b| peach|  2|2.1|  0|yes|\n",
            "|  c| peach|  4|1.5|  1|yes|\n",
            "|  d| apple|  1|3.0|  1| no|\n",
            "|  d|orange|  2|2.0|  0|yes|\n",
            "+---+------+---+---+---+---+\n",
            "\n"
          ],
          "name": "stdout"
        }
      ]
    },
    {
      "cell_type": "code",
      "metadata": {
        "id": "p91zAEU2qo9q",
        "colab": {
          "base_uri": "https://localhost:8080/"
        },
        "outputId": "2f47b46f-4a12-4913-ec3a-21fab323d029"
      },
      "source": [
        "df1 = abc.createDataFrame(pdf)\n",
        "df1.show()"
      ],
      "execution_count": 19,
      "outputs": [
        {
          "output_type": "stream",
          "text": [
            "+---+------+---+---+---+---+\n",
            "| x1|    x2| x3| x4| y1| y2|\n",
            "+---+------+---+---+---+---+\n",
            "|  a| apple|  1|2.4|  1|yes|\n",
            "|  a|orange|  1|2.5|  0| no|\n",
            "|  b|orange|  2|3.5|  1| no|\n",
            "|  b|orange|  2|1.4|  0|yes|\n",
            "|  b| peach|  2|2.1|  0|yes|\n",
            "|  c| peach|  4|1.5|  1|yes|\n",
            "|  d| apple|  1|3.0|  1| no|\n",
            "|  d|orange|  2|2.0|  0|yes|\n",
            "+---+------+---+---+---+---+\n",
            "\n"
          ],
          "name": "stdout"
        }
      ]
    },
    {
      "cell_type": "code",
      "metadata": {
        "id": "sTjT6sQYbgz3"
      },
      "source": [
        "############"
      ],
      "execution_count": 20,
      "outputs": []
    },
    {
      "cell_type": "markdown",
      "metadata": {
        "id": "Zn3xhm6LdXvK"
      },
      "source": [
        "# Your experiments"
      ]
    },
    {
      "cell_type": "code",
      "metadata": {
        "id": "qpTXf5CwFhDt",
        "colab": {
          "base_uri": "https://localhost:8080/"
        },
        "outputId": "148c7e7a-9684-4944-9733-b6c9110ed667"
      },
      "source": [
        "from google.colab import drive\n",
        "drive.mount('/content/drive')"
      ],
      "execution_count": 21,
      "outputs": [
        {
          "output_type": "stream",
          "text": [
            "Mounted at /content/drive\n"
          ],
          "name": "stdout"
        }
      ]
    },
    {
      "cell_type": "code",
      "metadata": {
        "id": "s4zk5AxcSe6s"
      },
      "source": [
        "pathToFolder = \"/content/drive/MyDrive/healthcare-analytics/breast_cancer_wisconsin/\"\n",
        "pathToFolder = \"/content/drive/MyDrive/Colab_data_files/census/\""
      ],
      "execution_count": 36,
      "outputs": []
    },
    {
      "cell_type": "code",
      "metadata": {
        "id": "iIqjW83OfmMq"
      },
      "source": [
        "# Get existing spark session using builder object\n",
        "abc = SparkSession.builder.getOrCreate()"
      ],
      "execution_count": 23,
      "outputs": []
    },
    {
      "cell_type": "code",
      "metadata": {
        "id": "pbF3f4b4fm8y",
        "colab": {
          "base_uri": "https://localhost:8080/",
          "height": 35
        },
        "outputId": "dfdb73dd-651a-4753-bb1a-a2c4cf7c2d4d"
      },
      "source": [
        "abc.conf.get(\"spark.driver.memory\")"
      ],
      "execution_count": 24,
      "outputs": [
        {
          "output_type": "execute_result",
          "data": {
            "application/vnd.google.colaboratory.intrinsic+json": {
              "type": "string"
            },
            "text/plain": [
              "'1g'"
            ]
          },
          "metadata": {
            "tags": []
          },
          "execution_count": 24
        }
      ]
    },
    {
      "cell_type": "code",
      "metadata": {
        "id": "OrqJj2_rp0mg"
      },
      "source": [
        "df = spark.read.csv(\n",
        "                     pathToFolder+\"breast_cancer.csv\",\n",
        "                     header = True\n",
        "                     )"
      ],
      "execution_count": 25,
      "outputs": []
    },
    {
      "cell_type": "code",
      "metadata": {
        "id": "jGOlnO7XETi1"
      },
      "source": [
        "df = spark.read.csv(\n",
        "                     pathToFolder+\"adultdata_modified.csv\",\n",
        "                     header = True\n",
        "                     )"
      ],
      "execution_count": 37,
      "outputs": []
    },
    {
      "cell_type": "code",
      "metadata": {
        "id": "1FeKt1eruCDI",
        "colab": {
          "base_uri": "https://localhost:8080/"
        },
        "outputId": "16e2b503-19cf-42df-84ef-72cc01f140f3"
      },
      "source": [
        "df.show(5)"
      ],
      "execution_count": 38,
      "outputs": [
        {
          "output_type": "stream",
          "text": [
            "+---+----------------+------+---------+-------------+------------------+-----------------+-------------+-----+------+------------+------------+--------------+--------------+------+\n",
            "|age|       workclass|fnlwgt|education|education_num|    marital_status|       occupation| relationship| race|   sex|capital_gain|capital_loss|hours_per_week|native_country|target|\n",
            "+---+----------------+------+---------+-------------+------------------+-----------------+-------------+-----+------+------------+------------+--------------+--------------+------+\n",
            "| 39|       State-gov| 77516|Bachelors|           13|     Never-married|     Adm-clerical|Not-in-family|White|  Male|        2174|           0|            40| United-States| <=50K|\n",
            "| 50|Self-emp-not-inc| 83311|Bachelors|           13|Married-civ-spouse|  Exec-managerial|      Husband|White|  Male|           0|           0|            13| United-States| <=50K|\n",
            "| 38|         Private|215646|  HS-grad|            9|          Divorced|Handlers-cleaners|Not-in-family|White|  Male|           0|           0|            40| United-States| <=50K|\n",
            "| 53|         Private|234721|     11th|            7|Married-civ-spouse|Handlers-cleaners|      Husband|Black|  Male|           0|           0|            40| United-States| <=50K|\n",
            "| 28|         Private|338409|Bachelors|           13|Married-civ-spouse|   Prof-specialty|         Wife|Black|Female|           0|           0|            40|          Cuba| <=50K|\n",
            "+---+----------------+------+---------+-------------+------------------+-----------------+-------------+-----+------+------------+------------+--------------+--------------+------+\n",
            "only showing top 5 rows\n",
            "\n"
          ],
          "name": "stdout"
        }
      ]
    },
    {
      "cell_type": "code",
      "metadata": {
        "id": "S8qvNDvUEea-",
        "outputId": "1e4bddba-eea5-459f-9bc5-969e0cdd4dbd",
        "colab": {
          "base_uri": "https://localhost:8080/"
        }
      },
      "source": [
        "len(df.columns)\n",
        "df.count()"
      ],
      "execution_count": 40,
      "outputs": [
        {
          "output_type": "execute_result",
          "data": {
            "text/plain": [
              "32561"
            ]
          },
          "metadata": {
            "tags": []
          },
          "execution_count": 40
        }
      ]
    },
    {
      "cell_type": "code",
      "metadata": {
        "id": "F-zgS_43EqIU"
      },
      "source": [
        "df1 = spark.read.csv(\n",
        "                     pathToFolder+\"adultdata_modified_na.csv\",\n",
        "                     header = True\n",
        "                     )"
      ],
      "execution_count": 41,
      "outputs": []
    },
    {
      "cell_type": "code",
      "metadata": {
        "id": "KjuUAn92EuC8",
        "outputId": "5ff87c12-3d75-4837-ed19-a95bffd05cc1",
        "colab": {
          "base_uri": "https://localhost:8080/"
        }
      },
      "source": [
        "df1.show()"
      ],
      "execution_count": 42,
      "outputs": [
        {
          "output_type": "stream",
          "text": [
            "+---+----------------+------+------------+-------------+--------------------+-----------------+-------------+------------------+------+------------+------------+--------------+--------------+------+\n",
            "|age|       workclass|fnlwgt|   education|education_num|      marital_status|       occupation| relationship|              race|   sex|capital_gain|capital_loss|hours_per_week|native_country|target|\n",
            "+---+----------------+------+------------+-------------+--------------------+-----------------+-------------+------------------+------+------------+------------+--------------+--------------+------+\n",
            "| 39|       State-gov| 77516|   Bachelors|           13|       Never-married|     Adm-clerical|Not-in-family|             White|  Male|        2174|           0|            40| United-States| <=50K|\n",
            "| 50|Self-emp-not-inc| 83311|   Bachelors|           13|  Married-civ-spouse|  Exec-managerial|      Husband|             White|  Male|           0|           0|            13| United-States| <=50K|\n",
            "| 38|         Private|215646|     HS-grad|            9|            Divorced|Handlers-cleaners|Not-in-family|             White|  Male|           0|           0|            40| United-States| <=50K|\n",
            "| 53|         Private|234721|        11th|            7|  Married-civ-spouse|Handlers-cleaners|      Husband|             Black|  Male|           0|           0|            40| United-States| <=50K|\n",
            "| 28|         Private|338409|   Bachelors|           13|  Married-civ-spouse|   Prof-specialty|         Wife|             Black|Female|           0|           0|            40|          Cuba| <=50K|\n",
            "| 37|         Private|284582|     Masters|           14|  Married-civ-spouse|  Exec-managerial|         Wife|             White|Female|           0|           0|            40| United-States| <=50K|\n",
            "| 49|         Private|160187|         9th|            5|Married-spouse-ab...|    Other-service|Not-in-family|             Black|Female|           0|           0|            16|       Jamaica| <=50K|\n",
            "| 52|Self-emp-not-inc|209642|     HS-grad|            9|  Married-civ-spouse|  Exec-managerial|      Husband|             White|  Male|           0|           0|            45| United-States|  >50K|\n",
            "| 31|         Private| 45781|     Masters|           14|       Never-married|   Prof-specialty|Not-in-family|             White|Female|       14084|           0|            50| United-States|  >50K|\n",
            "| 42|         Private|159449|   Bachelors|           13|  Married-civ-spouse|  Exec-managerial|      Husband|             White|  Male|        5178|           0|            40| United-States|  >50K|\n",
            "| 37|         Private|280464|Some-college|           10|  Married-civ-spouse|  Exec-managerial|      Husband|             Black|  Male|           0|           0|            80| United-States|  >50K|\n",
            "| 30|       State-gov|141297|   Bachelors|           13|  Married-civ-spouse|   Prof-specialty|      Husband|Asian-Pac-Islander|  Male|           0|           0|            40|         India|  >50K|\n",
            "| 23|         Private|122272|   Bachelors|           13|       Never-married|     Adm-clerical|    Own-child|             White|Female|           0|           0|            30| United-States| <=50K|\n",
            "| 32|         Private|205019|  Assoc-acdm|           12|       Never-married|            Sales|Not-in-family|             Black|  Male|           0|           0|            50| United-States| <=50K|\n",
            "| 40|         Private|121772|   Assoc-voc|           11|  Married-civ-spouse|     Craft-repair|      Husband|Asian-Pac-Islander|  Male|           0|           0|            40|            na|  >50K|\n",
            "| 34|         Private|245487|     7th-8th|            4|  Married-civ-spouse| Transport-moving|      Husband|Amer-Indian-Eskimo|  Male|           0|           0|            45|        Mexico| <=50K|\n",
            "| 25|Self-emp-not-inc|176756|     HS-grad|            9|       Never-married|  Farming-fishing|    Own-child|             White|  Male|           0|           0|            35| United-States| <=50K|\n",
            "| 32|         Private|186824|     HS-grad|            9|       Never-married|Machine-op-inspct|    Unmarried|             White|  Male|           0|           0|            40| United-States| <=50K|\n",
            "| 38|         Private| 28887|        11th|            7|  Married-civ-spouse|            Sales|      Husband|             White|  Male|           0|           0|            50| United-States| <=50K|\n",
            "| 43|Self-emp-not-inc|292175|     Masters|           14|            Divorced|  Exec-managerial|    Unmarried|             White|Female|           0|           0|            45| United-States|  >50K|\n",
            "+---+----------------+------+------------+-------------+--------------------+-----------------+-------------+------------------+------+------------+------------+--------------+--------------+------+\n",
            "only showing top 20 rows\n",
            "\n"
          ],
          "name": "stdout"
        }
      ]
    },
    {
      "cell_type": "code",
      "metadata": {
        "id": "duU5VmxDuKfi"
      },
      "source": [
        "df1 = df.sample(fraction = 0.5)\n",
        "df2 = df.sample(fraction = 0.5)"
      ],
      "execution_count": 27,
      "outputs": []
    },
    {
      "cell_type": "code",
      "metadata": {
        "id": "yYDS1oEXvp0R",
        "colab": {
          "base_uri": "https://localhost:8080/"
        },
        "outputId": "5926b44e-575e-482a-d113-6aab8f5a3326"
      },
      "source": [
        "df1.head(4)"
      ],
      "execution_count": 28,
      "outputs": [
        {
          "output_type": "execute_result",
          "data": {
            "text/plain": [
              "[Row(id='842517', diagnosis='M', radius_mean='20.57', texture_mean='17.77', perimeter_mean='132.9', area_mean='1326', smoothness_mean='0.08474', compactness_mean='0.07864', concavity_mean='0.0869', concave points_mean='0.07017', symmetry_mean='0.1812', fractal_dimension_mean='0.05667', radius_se='0.5435', texture_se='0.7339', perimeter_se='3.398', area_se='74.08', smoothness_se='0.005225', compactness_se='0.01308', concavity_se='0.0186', concave points_se='0.0134', symmetry_se='0.01389', fractal_dimension_se='0.003532', radius_worst='24.99', texture_worst='23.41', perimeter_worst='158.8', area_worst='1956', smoothness_worst='0.1238', compactness_worst='0.1866', concavity_worst='0.2416', concave points_worst='0.186', symmetry_worst='0.275', fractal_dimension_worst='0.08902', _c32=None),\n",
              " Row(id='84358402', diagnosis='M', radius_mean='20.29', texture_mean='14.34', perimeter_mean='135.1', area_mean='1297', smoothness_mean='0.1003', compactness_mean='0.1328', concavity_mean='0.198', concave points_mean='0.1043', symmetry_mean='0.1809', fractal_dimension_mean='0.05883', radius_se='0.7572', texture_se='0.7813', perimeter_se='5.438', area_se='94.44', smoothness_se='0.01149', compactness_se='0.02461', concavity_se='0.05688', concave points_se='0.01885', symmetry_se='0.01756', fractal_dimension_se='0.005115', radius_worst='22.54', texture_worst='16.67', perimeter_worst='152.2', area_worst='1575', smoothness_worst='0.1374', compactness_worst='0.205', concavity_worst='0.4', concave points_worst='0.1625', symmetry_worst='0.2364', fractal_dimension_worst='0.07678', _c32=None),\n",
              " Row(id='844359', diagnosis='M', radius_mean='18.25', texture_mean='19.98', perimeter_mean='119.6', area_mean='1040', smoothness_mean='0.09463', compactness_mean='0.109', concavity_mean='0.1127', concave points_mean='0.074', symmetry_mean='0.1794', fractal_dimension_mean='0.05742', radius_se='0.4467', texture_se='0.7732', perimeter_se='3.18', area_se='53.91', smoothness_se='0.004314', compactness_se='0.01382', concavity_se='0.02254', concave points_se='0.01039', symmetry_se='0.01369', fractal_dimension_se='0.002179', radius_worst='22.88', texture_worst='27.66', perimeter_worst='153.2', area_worst='1606', smoothness_worst='0.1442', compactness_worst='0.2576', concavity_worst='0.3784', concave points_worst='0.1932', symmetry_worst='0.3063', fractal_dimension_worst='0.08368', _c32=None),\n",
              " Row(id='84458202', diagnosis='M', radius_mean='13.71', texture_mean='20.83', perimeter_mean='90.2', area_mean='577.9', smoothness_mean='0.1189', compactness_mean='0.1645', concavity_mean='0.09366', concave points_mean='0.05985', symmetry_mean='0.2196', fractal_dimension_mean='0.07451', radius_se='0.5835', texture_se='1.377', perimeter_se='3.856', area_se='50.96', smoothness_se='0.008805', compactness_se='0.03029', concavity_se='0.02488', concave points_se='0.01448', symmetry_se='0.01486', fractal_dimension_se='0.005412', radius_worst='17.06', texture_worst='28.14', perimeter_worst='110.6', area_worst='897', smoothness_worst='0.1654', compactness_worst='0.3682', concavity_worst='0.2678', concave points_worst='0.1556', symmetry_worst='0.3196', fractal_dimension_worst='0.1151', _c32=None)]"
            ]
          },
          "metadata": {
            "tags": []
          },
          "execution_count": 28
        }
      ]
    },
    {
      "cell_type": "code",
      "metadata": {
        "id": "8Uhqo_ydwUhg",
        "outputId": "2e749758-bc4d-49b9-ced3-21b95f1297e0",
        "colab": {
          "base_uri": "https://localhost:8080/"
        }
      },
      "source": [
        "df1.collect()"
      ],
      "execution_count": 29,
      "outputs": [
        {
          "output_type": "execute_result",
          "data": {
            "text/plain": [
              "[Row(id='842517', diagnosis='M', radius_mean='20.57', texture_mean='17.77', perimeter_mean='132.9', area_mean='1326', smoothness_mean='0.08474', compactness_mean='0.07864', concavity_mean='0.0869', concave points_mean='0.07017', symmetry_mean='0.1812', fractal_dimension_mean='0.05667', radius_se='0.5435', texture_se='0.7339', perimeter_se='3.398', area_se='74.08', smoothness_se='0.005225', compactness_se='0.01308', concavity_se='0.0186', concave points_se='0.0134', symmetry_se='0.01389', fractal_dimension_se='0.003532', radius_worst='24.99', texture_worst='23.41', perimeter_worst='158.8', area_worst='1956', smoothness_worst='0.1238', compactness_worst='0.1866', concavity_worst='0.2416', concave points_worst='0.186', symmetry_worst='0.275', fractal_dimension_worst='0.08902', _c32=None),\n",
              " Row(id='84358402', diagnosis='M', radius_mean='20.29', texture_mean='14.34', perimeter_mean='135.1', area_mean='1297', smoothness_mean='0.1003', compactness_mean='0.1328', concavity_mean='0.198', concave points_mean='0.1043', symmetry_mean='0.1809', fractal_dimension_mean='0.05883', radius_se='0.7572', texture_se='0.7813', perimeter_se='5.438', area_se='94.44', smoothness_se='0.01149', compactness_se='0.02461', concavity_se='0.05688', concave points_se='0.01885', symmetry_se='0.01756', fractal_dimension_se='0.005115', radius_worst='22.54', texture_worst='16.67', perimeter_worst='152.2', area_worst='1575', smoothness_worst='0.1374', compactness_worst='0.205', concavity_worst='0.4', concave points_worst='0.1625', symmetry_worst='0.2364', fractal_dimension_worst='0.07678', _c32=None),\n",
              " Row(id='844359', diagnosis='M', radius_mean='18.25', texture_mean='19.98', perimeter_mean='119.6', area_mean='1040', smoothness_mean='0.09463', compactness_mean='0.109', concavity_mean='0.1127', concave points_mean='0.074', symmetry_mean='0.1794', fractal_dimension_mean='0.05742', radius_se='0.4467', texture_se='0.7732', perimeter_se='3.18', area_se='53.91', smoothness_se='0.004314', compactness_se='0.01382', concavity_se='0.02254', concave points_se='0.01039', symmetry_se='0.01369', fractal_dimension_se='0.002179', radius_worst='22.88', texture_worst='27.66', perimeter_worst='153.2', area_worst='1606', smoothness_worst='0.1442', compactness_worst='0.2576', concavity_worst='0.3784', concave points_worst='0.1932', symmetry_worst='0.3063', fractal_dimension_worst='0.08368', _c32=None),\n",
              " Row(id='84458202', diagnosis='M', radius_mean='13.71', texture_mean='20.83', perimeter_mean='90.2', area_mean='577.9', smoothness_mean='0.1189', compactness_mean='0.1645', concavity_mean='0.09366', concave points_mean='0.05985', symmetry_mean='0.2196', fractal_dimension_mean='0.07451', radius_se='0.5835', texture_se='1.377', perimeter_se='3.856', area_se='50.96', smoothness_se='0.008805', compactness_se='0.03029', concavity_se='0.02488', concave points_se='0.01448', symmetry_se='0.01486', fractal_dimension_se='0.005412', radius_worst='17.06', texture_worst='28.14', perimeter_worst='110.6', area_worst='897', smoothness_worst='0.1654', compactness_worst='0.3682', concavity_worst='0.2678', concave points_worst='0.1556', symmetry_worst='0.3196', fractal_dimension_worst='0.1151', _c32=None),\n",
              " Row(id='84799002', diagnosis='M', radius_mean='14.54', texture_mean='27.54', perimeter_mean='96.73', area_mean='658.8', smoothness_mean='0.1139', compactness_mean='0.1595', concavity_mean='0.1639', concave points_mean='0.07364', symmetry_mean='0.2303', fractal_dimension_mean='0.07077', radius_se='0.37', texture_se='1.033', perimeter_se='2.879', area_se='32.55', smoothness_se='0.005607', compactness_se='0.0424', concavity_se='0.04741', concave points_se='0.0109', symmetry_se='0.01857', fractal_dimension_se='0.005466', radius_worst='17.46', texture_worst='37.13', perimeter_worst='124.1', area_worst='943.2', smoothness_worst='0.1678', compactness_worst='0.6577', concavity_worst='0.7026', concave points_worst='0.1712', symmetry_worst='0.4218', fractal_dimension_worst='0.1341', _c32=None),\n",
              " Row(id='848406', diagnosis='M', radius_mean='14.68', texture_mean='20.13', perimeter_mean='94.74', area_mean='684.5', smoothness_mean='0.09867', compactness_mean='0.072', concavity_mean='0.07395', concave points_mean='0.05259', symmetry_mean='0.1586', fractal_dimension_mean='0.05922', radius_se='0.4727', texture_se='1.24', perimeter_se='3.195', area_se='45.4', smoothness_se='0.005718', compactness_se='0.01162', concavity_se='0.01998', concave points_se='0.01109', symmetry_se='0.0141', fractal_dimension_se='0.002085', radius_worst='19.07', texture_worst='30.88', perimeter_worst='123.4', area_worst='1138', smoothness_worst='0.1464', compactness_worst='0.1871', concavity_worst='0.2914', concave points_worst='0.1609', symmetry_worst='0.3029', fractal_dimension_worst='0.08216', _c32=None),\n",
              " Row(id='8510824', diagnosis='B', radius_mean='9.504', texture_mean='12.44', perimeter_mean='60.34', area_mean='273.9', smoothness_mean='0.1024', compactness_mean='0.06492', concavity_mean='0.02956', concave points_mean='0.02076', symmetry_mean='0.1815', fractal_dimension_mean='0.06905', radius_se='0.2773', texture_se='0.9768', perimeter_se='1.909', area_se='15.7', smoothness_se='0.009606', compactness_se='0.01432', concavity_se='0.01985', concave points_se='0.01421', symmetry_se='0.02027', fractal_dimension_se='0.002968', radius_worst='10.23', texture_worst='15.66', perimeter_worst='65.13', area_worst='314.9', smoothness_worst='0.1324', compactness_worst='0.1148', concavity_worst='0.08867', concave points_worst='0.06227', symmetry_worst='0.245', fractal_dimension_worst='0.07773', _c32=None),\n",
              " Row(id='851509', diagnosis='M', radius_mean='21.16', texture_mean='23.04', perimeter_mean='137.2', area_mean='1404', smoothness_mean='0.09428', compactness_mean='0.1022', concavity_mean='0.1097', concave points_mean='0.08632', symmetry_mean='0.1769', fractal_dimension_mean='0.05278', radius_se='0.6917', texture_se='1.127', perimeter_se='4.303', area_se='93.99', smoothness_se='0.004728', compactness_se='0.01259', concavity_se='0.01715', concave points_se='0.01038', symmetry_se='0.01083', fractal_dimension_se='0.001987', radius_worst='29.17', texture_worst='35.59', perimeter_worst='188', area_worst='2615', smoothness_worst='0.1401', compactness_worst='0.26', concavity_worst='0.3155', concave points_worst='0.2009', symmetry_worst='0.2822', fractal_dimension_worst='0.07526', _c32=None),\n",
              " Row(id='852552', diagnosis='M', radius_mean='16.65', texture_mean='21.38', perimeter_mean='110', area_mean='904.6', smoothness_mean='0.1121', compactness_mean='0.1457', concavity_mean='0.1525', concave points_mean='0.0917', symmetry_mean='0.1995', fractal_dimension_mean='0.0633', radius_se='0.8068', texture_se='0.9017', perimeter_se='5.455', area_se='102.6', smoothness_se='0.006048', compactness_se='0.01882', concavity_se='0.02741', concave points_se='0.0113', symmetry_se='0.01468', fractal_dimension_se='0.002801', radius_worst='26.46', texture_worst='31.56', perimeter_worst='177', area_worst='2215', smoothness_worst='0.1805', compactness_worst='0.3578', concavity_worst='0.4695', concave points_worst='0.2095', symmetry_worst='0.3613', fractal_dimension_worst='0.09564', _c32=None),\n",
              " Row(id='852763', diagnosis='M', radius_mean='14.58', texture_mean='21.53', perimeter_mean='97.41', area_mean='644.8', smoothness_mean='0.1054', compactness_mean='0.1868', concavity_mean='0.1425', concave points_mean='0.08783', symmetry_mean='0.2252', fractal_dimension_mean='0.06924', radius_se='0.2545', texture_se='0.9832', perimeter_se='2.11', area_se='21.05', smoothness_se='0.004452', compactness_se='0.03055', concavity_se='0.02681', concave points_se='0.01352', symmetry_se='0.01454', fractal_dimension_se='0.003711', radius_worst='17.62', texture_worst='33.21', perimeter_worst='122.4', area_worst='896.9', smoothness_worst='0.1525', compactness_worst='0.6643', concavity_worst='0.5539', concave points_worst='0.2701', symmetry_worst='0.4264', fractal_dimension_worst='0.1275', _c32=None),\n",
              " Row(id='852973', diagnosis='M', radius_mean='15.3', texture_mean='25.27', perimeter_mean='102.4', area_mean='732.4', smoothness_mean='0.1082', compactness_mean='0.1697', concavity_mean='0.1683', concave points_mean='0.08751', symmetry_mean='0.1926', fractal_dimension_mean='0.0654', radius_se='0.439', texture_se='1.012', perimeter_se='3.498', area_se='43.5', smoothness_se='0.005233', compactness_se='0.03057', concavity_se='0.03576', concave points_se='0.01083', symmetry_se='0.01768', fractal_dimension_se='0.002967', radius_worst='20.27', texture_worst='36.71', perimeter_worst='149.3', area_worst='1269', smoothness_worst='0.1641', compactness_worst='0.611', concavity_worst='0.6335', concave points_worst='0.2024', symmetry_worst='0.4027', fractal_dimension_worst='0.09876', _c32=None),\n",
              " Row(id='853612', diagnosis='M', radius_mean='11.84', texture_mean='18.7', perimeter_mean='77.93', area_mean='440.6', smoothness_mean='0.1109', compactness_mean='0.1516', concavity_mean='0.1218', concave points_mean='0.05182', symmetry_mean='0.2301', fractal_dimension_mean='0.07799', radius_se='0.4825', texture_se='1.03', perimeter_se='3.475', area_se='41', smoothness_se='0.005551', compactness_se='0.03414', concavity_se='0.04205', concave points_se='0.01044', symmetry_se='0.02273', fractal_dimension_se='0.005667', radius_worst='16.82', texture_worst='28.12', perimeter_worst='119.4', area_worst='888.7', smoothness_worst='0.1637', compactness_worst='0.5775', concavity_worst='0.6956', concave points_worst='0.1546', symmetry_worst='0.4761', fractal_dimension_worst='0.1402', _c32=None),\n",
              " Row(id='854253', diagnosis='M', radius_mean='16.74', texture_mean='21.59', perimeter_mean='110.1', area_mean='869.5', smoothness_mean='0.0961', compactness_mean='0.1336', concavity_mean='0.1348', concave points_mean='0.06018', symmetry_mean='0.1896', fractal_dimension_mean='0.05656', radius_se='0.4615', texture_se='0.9197', perimeter_se='3.008', area_se='45.19', smoothness_se='0.005776', compactness_se='0.02499', concavity_se='0.03695', concave points_se='0.01195', symmetry_se='0.02789', fractal_dimension_se='0.002665', radius_worst='20.01', texture_worst='29.02', perimeter_worst='133.5', area_worst='1229', smoothness_worst='0.1563', compactness_worst='0.3835', concavity_worst='0.5409', concave points_worst='0.1813', symmetry_worst='0.4863', fractal_dimension_worst='0.08633', _c32=None),\n",
              " Row(id='854268', diagnosis='M', radius_mean='14.25', texture_mean='21.72', perimeter_mean='93.63', area_mean='633', smoothness_mean='0.09823', compactness_mean='0.1098', concavity_mean='0.1319', concave points_mean='0.05598', symmetry_mean='0.1885', fractal_dimension_mean='0.06125', radius_se='0.286', texture_se='1.019', perimeter_se='2.657', area_se='24.91', smoothness_se='0.005878', compactness_se='0.02995', concavity_se='0.04815', concave points_se='0.01161', symmetry_se='0.02028', fractal_dimension_se='0.004022', radius_worst='15.89', texture_worst='30.36', perimeter_worst='116.2', area_worst='799.6', smoothness_worst='0.1446', compactness_worst='0.4238', concavity_worst='0.5186', concave points_worst='0.1447', symmetry_worst='0.3591', fractal_dimension_worst='0.1014', _c32=None),\n",
              " Row(id='855167', diagnosis='M', radius_mean='13.44', texture_mean='21.58', perimeter_mean='86.18', area_mean='563', smoothness_mean='0.08162', compactness_mean='0.06031', concavity_mean='0.0311', concave points_mean='0.02031', symmetry_mean='0.1784', fractal_dimension_mean='0.05587', radius_se='0.2385', texture_se='0.8265', perimeter_se='1.572', area_se='20.53', smoothness_se='0.00328', compactness_se='0.01102', concavity_se='0.0139', concave points_se='0.006881', symmetry_se='0.0138', fractal_dimension_se='0.001286', radius_worst='15.93', texture_worst='30.25', perimeter_worst='102.5', area_worst='787.9', smoothness_worst='0.1094', compactness_worst='0.2043', concavity_worst='0.2085', concave points_worst='0.1112', symmetry_worst='0.2994', fractal_dimension_worst='0.07146', _c32=None),\n",
              " Row(id='85638502', diagnosis='M', radius_mean='13.17', texture_mean='21.81', perimeter_mean='85.42', area_mean='531.5', smoothness_mean='0.09714', compactness_mean='0.1047', concavity_mean='0.08259', concave points_mean='0.05252', symmetry_mean='0.1746', fractal_dimension_mean='0.06177', radius_se='0.1938', texture_se='0.6123', perimeter_se='1.334', area_se='14.49', smoothness_se='0.00335', compactness_se='0.01384', concavity_se='0.01452', concave points_se='0.006853', symmetry_se='0.01113', fractal_dimension_se='0.00172', radius_worst='16.23', texture_worst='29.89', perimeter_worst='105.5', area_worst='740.7', smoothness_worst='0.1503', compactness_worst='0.3904', concavity_worst='0.3728', concave points_worst='0.1607', symmetry_worst='0.3693', fractal_dimension_worst='0.09618', _c32=None),\n",
              " Row(id='857010', diagnosis='M', radius_mean='18.65', texture_mean='17.6', perimeter_mean='123.7', area_mean='1076', smoothness_mean='0.1099', compactness_mean='0.1686', concavity_mean='0.1974', concave points_mean='0.1009', symmetry_mean='0.1907', fractal_dimension_mean='0.06049', radius_se='0.6289', texture_se='0.6633', perimeter_se='4.293', area_se='71.56', smoothness_se='0.006294', compactness_se='0.03994', concavity_se='0.05554', concave points_se='0.01695', symmetry_se='0.02428', fractal_dimension_se='0.003535', radius_worst='22.82', texture_worst='21.32', perimeter_worst='150.6', area_worst='1567', smoothness_worst='0.1679', compactness_worst='0.509', concavity_worst='0.7345', concave points_worst='0.2378', symmetry_worst='0.3799', fractal_dimension_worst='0.09185', _c32=None),\n",
              " Row(id='85713702', diagnosis='B', radius_mean='8.196', texture_mean='16.84', perimeter_mean='51.71', area_mean='201.9', smoothness_mean='0.086', compactness_mean='0.05943', concavity_mean='0.01588', concave points_mean='0.005917', symmetry_mean='0.1769', fractal_dimension_mean='0.06503', radius_se='0.1563', texture_se='0.9567', perimeter_se='1.094', area_se='8.205', smoothness_se='0.008968', compactness_se='0.01646', concavity_se='0.01588', concave points_se='0.005917', symmetry_se='0.02574', fractal_dimension_se='0.002582', radius_worst='8.964', texture_worst='21.96', perimeter_worst='57.26', area_worst='242.2', smoothness_worst='0.1297', compactness_worst='0.1357', concavity_worst='0.0688', concave points_worst='0.02564', symmetry_worst='0.3105', fractal_dimension_worst='0.07409', _c32=None),\n",
              " Row(id='85715', diagnosis='M', radius_mean='13.17', texture_mean='18.66', perimeter_mean='85.98', area_mean='534.6', smoothness_mean='0.1158', compactness_mean='0.1231', concavity_mean='0.1226', concave points_mean='0.0734', symmetry_mean='0.2128', fractal_dimension_mean='0.06777', radius_se='0.2871', texture_se='0.8937', perimeter_se='1.897', area_se='24.25', smoothness_se='0.006532', compactness_se='0.02336', concavity_se='0.02905', concave points_se='0.01215', symmetry_se='0.01743', fractal_dimension_se='0.003643', radius_worst='15.67', texture_worst='27.95', perimeter_worst='102.8', area_worst='759.4', smoothness_worst='0.1786', compactness_worst='0.4166', concavity_worst='0.5006', concave points_worst='0.2088', symmetry_worst='0.39', fractal_dimension_worst='0.1179', _c32=None),\n",
              " Row(id='857155', diagnosis='B', radius_mean='12.05', texture_mean='14.63', perimeter_mean='78.04', area_mean='449.3', smoothness_mean='0.1031', compactness_mean='0.09092', concavity_mean='0.06592', concave points_mean='0.02749', symmetry_mean='0.1675', fractal_dimension_mean='0.06043', radius_se='0.2636', texture_se='0.7294', perimeter_se='1.848', area_se='19.87', smoothness_se='0.005488', compactness_se='0.01427', concavity_se='0.02322', concave points_se='0.00566', symmetry_se='0.01428', fractal_dimension_se='0.002422', radius_worst='13.76', texture_worst='20.7', perimeter_worst='89.88', area_worst='582.6', smoothness_worst='0.1494', compactness_worst='0.2156', concavity_worst='0.305', concave points_worst='0.06548', symmetry_worst='0.2747', fractal_dimension_worst='0.08301', _c32=None),\n",
              " Row(id='85759902', diagnosis='B', radius_mean='11.52', texture_mean='18.75', perimeter_mean='73.34', area_mean='409', smoothness_mean='0.09524', compactness_mean='0.05473', concavity_mean='0.03036', concave points_mean='0.02278', symmetry_mean='0.192', fractal_dimension_mean='0.05907', radius_se='0.3249', texture_se='0.9591', perimeter_se='2.183', area_se='23.47', smoothness_se='0.008328', compactness_se='0.008722', concavity_se='0.01349', concave points_se='0.00867', symmetry_se='0.03218', fractal_dimension_se='0.002386', radius_worst='12.84', texture_worst='22.47', perimeter_worst='81.81', area_worst='506.2', smoothness_worst='0.1249', compactness_worst='0.0872', concavity_worst='0.09076', concave points_worst='0.06316', symmetry_worst='0.3306', fractal_dimension_worst='0.07036', _c32=None),\n",
              " Row(id='857637', diagnosis='M', radius_mean='19.21', texture_mean='18.57', perimeter_mean='125.5', area_mean='1152', smoothness_mean='0.1053', compactness_mean='0.1267', concavity_mean='0.1323', concave points_mean='0.08994', symmetry_mean='0.1917', fractal_dimension_mean='0.05961', radius_se='0.7275', texture_se='1.193', perimeter_se='4.837', area_se='102.5', smoothness_se='0.006458', compactness_se='0.02306', concavity_se='0.02945', concave points_se='0.01538', symmetry_se='0.01852', fractal_dimension_se='0.002608', radius_worst='26.14', texture_worst='28.14', perimeter_worst='170.1', area_worst='2145', smoothness_worst='0.1624', compactness_worst='0.3511', concavity_worst='0.3879', concave points_worst='0.2091', symmetry_worst='0.3537', fractal_dimension_worst='0.08294', _c32=None),\n",
              " Row(id='857793', diagnosis='M', radius_mean='14.71', texture_mean='21.59', perimeter_mean='95.55', area_mean='656.9', smoothness_mean='0.1137', compactness_mean='0.1365', concavity_mean='0.1293', concave points_mean='0.08123', symmetry_mean='0.2027', fractal_dimension_mean='0.06758', radius_se='0.4226', texture_se='1.15', perimeter_se='2.735', area_se='40.09', smoothness_se='0.003659', compactness_se='0.02855', concavity_se='0.02572', concave points_se='0.01272', symmetry_se='0.01817', fractal_dimension_se='0.004108', radius_worst='17.87', texture_worst='30.7', perimeter_worst='115.7', area_worst='985.5', smoothness_worst='0.1368', compactness_worst='0.429', concavity_worst='0.3587', concave points_worst='0.1834', symmetry_worst='0.3698', fractal_dimension_worst='0.1094', _c32=None),\n",
              " Row(id='857810', diagnosis='B', radius_mean='13.05', texture_mean='19.31', perimeter_mean='82.61', area_mean='527.2', smoothness_mean='0.0806', compactness_mean='0.03789', concavity_mean='0.000692', concave points_mean='0.004167', symmetry_mean='0.1819', fractal_dimension_mean='0.05501', radius_se='0.404', texture_se='1.214', perimeter_se='2.595', area_se='32.96', smoothness_se='0.007491', compactness_se='0.008593', concavity_se='0.000692', concave points_se='0.004167', symmetry_se='0.0219', fractal_dimension_se='0.00299', radius_worst='14.23', texture_worst='22.25', perimeter_worst='90.24', area_worst='624.1', smoothness_worst='0.1021', compactness_worst='0.06191', concavity_worst='0.001845', concave points_worst='0.01111', symmetry_worst='0.2439', fractal_dimension_worst='0.06289', _c32=None),\n",
              " Row(id='858477', diagnosis='B', radius_mean='8.618', texture_mean='11.79', perimeter_mean='54.34', area_mean='224.5', smoothness_mean='0.09752', compactness_mean='0.05272', concavity_mean='0.02061', concave points_mean='0.007799', symmetry_mean='0.1683', fractal_dimension_mean='0.07187', radius_se='0.1559', texture_se='0.5796', perimeter_se='1.046', area_se='8.322', smoothness_se='0.01011', compactness_se='0.01055', concavity_se='0.01981', concave points_se='0.005742', symmetry_se='0.0209', fractal_dimension_se='0.002788', radius_worst='9.507', texture_worst='15.4', perimeter_worst='59.9', area_worst='274.9', smoothness_worst='0.1733', compactness_worst='0.1239', concavity_worst='0.1168', concave points_worst='0.04419', symmetry_worst='0.322', fractal_dimension_worst='0.09026', _c32=None),\n",
              " Row(id='858981', diagnosis='B', radius_mean='8.598', texture_mean='20.98', perimeter_mean='54.66', area_mean='221.8', smoothness_mean='0.1243', compactness_mean='0.08963', concavity_mean='0.03', concave points_mean='0.009259', symmetry_mean='0.1828', fractal_dimension_mean='0.06757', radius_se='0.3582', texture_se='2.067', perimeter_se='2.493', area_se='18.39', smoothness_se='0.01193', compactness_se='0.03162', concavity_se='0.03', concave points_se='0.009259', symmetry_se='0.03357', fractal_dimension_se='0.003048', radius_worst='9.565', texture_worst='27.04', perimeter_worst='62.06', area_worst='273.9', smoothness_worst='0.1639', compactness_worst='0.1698', concavity_worst='0.09001', concave points_worst='0.02778', symmetry_worst='0.2972', fractal_dimension_worst='0.07712', _c32=None),\n",
              " Row(id='859196', diagnosis='B', radius_mean='9.173', texture_mean='13.86', perimeter_mean='59.2', area_mean='260.9', smoothness_mean='0.07721', compactness_mean='0.08751', concavity_mean='0.05988', concave points_mean='0.0218', symmetry_mean='0.2341', fractal_dimension_mean='0.06963', radius_se='0.4098', texture_se='2.265', perimeter_se='2.608', area_se='23.52', smoothness_se='0.008738', compactness_se='0.03938', concavity_se='0.04312', concave points_se='0.0156', symmetry_se='0.04192', fractal_dimension_se='0.005822', radius_worst='10.01', texture_worst='19.23', perimeter_worst='65.59', area_worst='310.1', smoothness_worst='0.09836', compactness_worst='0.1678', concavity_worst='0.1397', concave points_worst='0.05087', symmetry_worst='0.3282', fractal_dimension_worst='0.0849', _c32=None),\n",
              " Row(id='85922302', diagnosis='M', radius_mean='12.68', texture_mean='23.84', perimeter_mean='82.69', area_mean='499', smoothness_mean='0.1122', compactness_mean='0.1262', concavity_mean='0.1128', concave points_mean='0.06873', symmetry_mean='0.1905', fractal_dimension_mean='0.0659', radius_se='0.4255', texture_se='1.178', perimeter_se='2.927', area_se='36.46', smoothness_se='0.007781', compactness_se='0.02648', concavity_se='0.02973', concave points_se='0.0129', symmetry_se='0.01635', fractal_dimension_se='0.003601', radius_worst='17.09', texture_worst='33.47', perimeter_worst='111.8', area_worst='888.3', smoothness_worst='0.1851', compactness_worst='0.4061', concavity_worst='0.4024', concave points_worst='0.1716', symmetry_worst='0.3383', fractal_dimension_worst='0.1031', _c32=None),\n",
              " Row(id='859283', diagnosis='M', radius_mean='14.78', texture_mean='23.94', perimeter_mean='97.4', area_mean='668.3', smoothness_mean='0.1172', compactness_mean='0.1479', concavity_mean='0.1267', concave points_mean='0.09029', symmetry_mean='0.1953', fractal_dimension_mean='0.06654', radius_se='0.3577', texture_se='1.281', perimeter_se='2.45', area_se='35.24', smoothness_se='0.006703', compactness_se='0.0231', concavity_se='0.02315', concave points_se='0.01184', symmetry_se='0.019', fractal_dimension_se='0.003224', radius_worst='17.31', texture_worst='33.39', perimeter_worst='114.6', area_worst='925.1', smoothness_worst='0.1648', compactness_worst='0.3416', concavity_worst='0.3024', concave points_worst='0.1614', symmetry_worst='0.3321', fractal_dimension_worst='0.08911', _c32=None),\n",
              " Row(id='859471', diagnosis='B', radius_mean='9.029', texture_mean='17.33', perimeter_mean='58.79', area_mean='250.5', smoothness_mean='0.1066', compactness_mean='0.1413', concavity_mean='0.313', concave points_mean='0.04375', symmetry_mean='0.2111', fractal_dimension_mean='0.08046', radius_se='0.3274', texture_se='1.194', perimeter_se='1.885', area_se='17.67', smoothness_se='0.009549', compactness_se='0.08606', concavity_se='0.3038', concave points_se='0.03322', symmetry_se='0.04197', fractal_dimension_se='0.009559', radius_worst='10.31', texture_worst='22.65', perimeter_worst='65.5', area_worst='324.7', smoothness_worst='0.1482', compactness_worst='0.4365', concavity_worst='1.252', concave points_worst='0.175', symmetry_worst='0.4228', fractal_dimension_worst='0.1175', _c32=None),\n",
              " Row(id='859711', diagnosis='B', radius_mean='8.888', texture_mean='14.64', perimeter_mean='58.79', area_mean='244', smoothness_mean='0.09783', compactness_mean='0.1531', concavity_mean='0.08606', concave points_mean='0.02872', symmetry_mean='0.1902', fractal_dimension_mean='0.0898', radius_se='0.5262', texture_se='0.8522', perimeter_se='3.168', area_se='25.44', smoothness_se='0.01721', compactness_se='0.09368', concavity_se='0.05671', concave points_se='0.01766', symmetry_se='0.02541', fractal_dimension_se='0.02193', radius_worst='9.733', texture_worst='15.67', perimeter_worst='62.56', area_worst='284.4', smoothness_worst='0.1207', compactness_worst='0.2436', concavity_worst='0.1434', concave points_worst='0.04786', symmetry_worst='0.2254', fractal_dimension_worst='0.1084', _c32=None),\n",
              " Row(id='8610404', diagnosis='M', radius_mean='16.07', texture_mean='19.65', perimeter_mean='104.1', area_mean='817.7', smoothness_mean='0.09168', compactness_mean='0.08424', concavity_mean='0.09769', concave points_mean='0.06638', symmetry_mean='0.1798', fractal_dimension_mean='0.05391', radius_se='0.7474', texture_se='1.016', perimeter_se='5.029', area_se='79.25', smoothness_se='0.01082', compactness_se='0.02203', concavity_se='0.035', concave points_se='0.01809', symmetry_se='0.0155', fractal_dimension_se='0.001948', radius_worst='19.77', texture_worst='24.56', perimeter_worst='128.8', area_worst='1223', smoothness_worst='0.15', compactness_worst='0.2045', concavity_worst='0.2829', concave points_worst='0.152', symmetry_worst='0.265', fractal_dimension_worst='0.06387', _c32=None),\n",
              " Row(id='8610629', diagnosis='B', radius_mean='13.53', texture_mean='10.94', perimeter_mean='87.91', area_mean='559.2', smoothness_mean='0.1291', compactness_mean='0.1047', concavity_mean='0.06877', concave points_mean='0.06556', symmetry_mean='0.2403', fractal_dimension_mean='0.06641', radius_se='0.4101', texture_se='1.014', perimeter_se='2.652', area_se='32.65', smoothness_se='0.0134', compactness_se='0.02839', concavity_se='0.01162', concave points_se='0.008239', symmetry_se='0.02572', fractal_dimension_se='0.006164', radius_worst='14.08', texture_worst='12.49', perimeter_worst='91.36', area_worst='605.5', smoothness_worst='0.1451', compactness_worst='0.1379', concavity_worst='0.08539', concave points_worst='0.07407', symmetry_worst='0.271', fractal_dimension_worst='0.07191', _c32=None),\n",
              " Row(id='8610637', diagnosis='M', radius_mean='18.05', texture_mean='16.15', perimeter_mean='120.2', area_mean='1006', smoothness_mean='0.1065', compactness_mean='0.2146', concavity_mean='0.1684', concave points_mean='0.108', symmetry_mean='0.2152', fractal_dimension_mean='0.06673', radius_se='0.9806', texture_se='0.5505', perimeter_se='6.311', area_se='134.8', smoothness_se='0.00794', compactness_se='0.05839', concavity_se='0.04658', concave points_se='0.0207', symmetry_se='0.02591', fractal_dimension_se='0.007054', radius_worst='22.39', texture_worst='18.91', perimeter_worst='150.1', area_worst='1610', smoothness_worst='0.1478', compactness_worst='0.5634', concavity_worst='0.3786', concave points_worst='0.2102', symmetry_worst='0.3751', fractal_dimension_worst='0.1108', _c32=None),\n",
              " Row(id='861103', diagnosis='B', radius_mean='11.45', texture_mean='20.97', perimeter_mean='73.81', area_mean='401.5', smoothness_mean='0.1102', compactness_mean='0.09362', concavity_mean='0.04591', concave points_mean='0.02233', symmetry_mean='0.1842', fractal_dimension_mean='0.07005', radius_se='0.3251', texture_se='2.174', perimeter_se='2.077', area_se='24.62', smoothness_se='0.01037', compactness_se='0.01706', concavity_se='0.02586', concave points_se='0.007506', symmetry_se='0.01816', fractal_dimension_se='0.003976', radius_worst='13.11', texture_worst='32.16', perimeter_worst='84.53', area_worst='525.1', smoothness_worst='0.1557', compactness_worst='0.1676', concavity_worst='0.1755', concave points_worst='0.06127', symmetry_worst='0.2762', fractal_dimension_worst='0.08851', _c32=None),\n",
              " Row(id='8611555', diagnosis='M', radius_mean='25.22', texture_mean='24.91', perimeter_mean='171.5', area_mean='1878', smoothness_mean='0.1063', compactness_mean='0.2665', concavity_mean='0.3339', concave points_mean='0.1845', symmetry_mean='0.1829', fractal_dimension_mean='0.06782', radius_se='0.8973', texture_se='1.474', perimeter_se='7.382', area_se='120', smoothness_se='0.008166', compactness_se='0.05693', concavity_se='0.0573', concave points_se='0.0203', symmetry_se='0.01065', fractal_dimension_se='0.005893', radius_worst='30', texture_worst='33.62', perimeter_worst='211.7', area_worst='2562', smoothness_worst='0.1573', compactness_worst='0.6076', concavity_worst='0.6476', concave points_worst='0.2867', symmetry_worst='0.2355', fractal_dimension_worst='0.1051', _c32=None),\n",
              " Row(id='8611792', diagnosis='M', radius_mean='19.1', texture_mean='26.29', perimeter_mean='129.1', area_mean='1132', smoothness_mean='0.1215', compactness_mean='0.1791', concavity_mean='0.1937', concave points_mean='0.1469', symmetry_mean='0.1634', fractal_dimension_mean='0.07224', radius_se='0.519', texture_se='2.91', perimeter_se='5.801', area_se='67.1', smoothness_se='0.007545', compactness_se='0.0605', concavity_se='0.02134', concave points_se='0.01843', symmetry_se='0.03056', fractal_dimension_se='0.01039', radius_worst='20.33', texture_worst='32.72', perimeter_worst='141.3', area_worst='1298', smoothness_worst='0.1392', compactness_worst='0.2817', concavity_worst='0.2432', concave points_worst='0.1841', symmetry_worst='0.2311', fractal_dimension_worst='0.09203', _c32=None),\n",
              " Row(id='8612080', diagnosis='B', radius_mean='12', texture_mean='15.65', perimeter_mean='76.95', area_mean='443.3', smoothness_mean='0.09723', compactness_mean='0.07165', concavity_mean='0.04151', concave points_mean='0.01863', symmetry_mean='0.2079', fractal_dimension_mean='0.05968', radius_se='0.2271', texture_se='1.255', perimeter_se='1.441', area_se='16.16', smoothness_se='0.005969', compactness_se='0.01812', concavity_se='0.02007', concave points_se='0.007027', symmetry_se='0.01972', fractal_dimension_se='0.002607', radius_worst='13.67', texture_worst='24.9', perimeter_worst='87.78', area_worst='567.9', smoothness_worst='0.1377', compactness_worst='0.2003', concavity_worst='0.2267', concave points_worst='0.07632', symmetry_worst='0.3379', fractal_dimension_worst='0.07924', _c32=None),\n",
              " Row(id='8612399', diagnosis='M', radius_mean='18.46', texture_mean='18.52', perimeter_mean='121.1', area_mean='1075', smoothness_mean='0.09874', compactness_mean='0.1053', concavity_mean='0.1335', concave points_mean='0.08795', symmetry_mean='0.2132', fractal_dimension_mean='0.06022', radius_se='0.6997', texture_se='1.475', perimeter_se='4.782', area_se='80.6', smoothness_se='0.006471', compactness_se='0.01649', concavity_se='0.02806', concave points_se='0.0142', symmetry_se='0.0237', fractal_dimension_se='0.003755', radius_worst='22.93', texture_worst='27.68', perimeter_worst='152.2', area_worst='1603', smoothness_worst='0.1398', compactness_worst='0.2089', concavity_worst='0.3157', concave points_worst='0.1642', symmetry_worst='0.3695', fractal_dimension_worst='0.08579', _c32=None),\n",
              " Row(id='86135502', diagnosis='M', radius_mean='19.02', texture_mean='24.59', perimeter_mean='122', area_mean='1076', smoothness_mean='0.09029', compactness_mean='0.1206', concavity_mean='0.1468', concave points_mean='0.08271', symmetry_mean='0.1953', fractal_dimension_mean='0.05629', radius_se='0.5495', texture_se='0.6636', perimeter_se='3.055', area_se='57.65', smoothness_se='0.003872', compactness_se='0.01842', concavity_se='0.0371', concave points_se='0.012', symmetry_se='0.01964', fractal_dimension_se='0.003337', radius_worst='24.56', texture_worst='30.41', perimeter_worst='152.9', area_worst='1623', smoothness_worst='0.1249', compactness_worst='0.3206', concavity_worst='0.5755', concave points_worst='0.1956', symmetry_worst='0.3956', fractal_dimension_worst='0.09288', _c32=None),\n",
              " Row(id='861597', diagnosis='B', radius_mean='12.36', texture_mean='21.8', perimeter_mean='79.78', area_mean='466.1', smoothness_mean='0.08772', compactness_mean='0.09445', concavity_mean='0.06015', concave points_mean='0.03745', symmetry_mean='0.193', fractal_dimension_mean='0.06404', radius_se='0.2978', texture_se='1.502', perimeter_se='2.203', area_se='20.95', smoothness_se='0.007112', compactness_se='0.02493', concavity_se='0.02703', concave points_se='0.01293', symmetry_se='0.01958', fractal_dimension_se='0.004463', radius_worst='13.83', texture_worst='30.5', perimeter_worst='91.46', area_worst='574.7', smoothness_worst='0.1304', compactness_worst='0.2463', concavity_worst='0.2434', concave points_worst='0.1205', symmetry_worst='0.2972', fractal_dimension_worst='0.09261', _c32=None),\n",
              " Row(id='862261', diagnosis='B', radius_mean='9.787', texture_mean='19.94', perimeter_mean='62.11', area_mean='294.5', smoothness_mean='0.1024', compactness_mean='0.05301', concavity_mean='0.006829', concave points_mean='0.007937', symmetry_mean='0.135', fractal_dimension_mean='0.0689', radius_se='0.335', texture_se='2.043', perimeter_se='2.132', area_se='20.05', smoothness_se='0.01113', compactness_se='0.01463', concavity_se='0.005308', concave points_se='0.00525', symmetry_se='0.01801', fractal_dimension_se='0.005667', radius_worst='10.92', texture_worst='26.29', perimeter_worst='68.81', area_worst='366.1', smoothness_worst='0.1316', compactness_worst='0.09473', concavity_worst='0.02049', concave points_worst='0.02381', symmetry_worst='0.1934', fractal_dimension_worst='0.08988', _c32=None),\n",
              " Row(id='862980', diagnosis='B', radius_mean='9.876', texture_mean='19.4', perimeter_mean='63.95', area_mean='298.3', smoothness_mean='0.1005', compactness_mean='0.09697', concavity_mean='0.06154', concave points_mean='0.03029', symmetry_mean='0.1945', fractal_dimension_mean='0.06322', radius_se='0.1803', texture_se='1.222', perimeter_se='1.528', area_se='11.77', smoothness_se='0.009058', compactness_se='0.02196', concavity_se='0.03029', concave points_se='0.01112', symmetry_se='0.01609', fractal_dimension_se='0.00357', radius_worst='10.76', texture_worst='26.83', perimeter_worst='72.22', area_worst='361.2', smoothness_worst='0.1559', compactness_worst='0.2302', concavity_worst='0.2644', concave points_worst='0.09749', symmetry_worst='0.2622', fractal_dimension_worst='0.0849', _c32=None),\n",
              " Row(id='863030', diagnosis='M', radius_mean='13.11', texture_mean='15.56', perimeter_mean='87.21', area_mean='530.2', smoothness_mean='0.1398', compactness_mean='0.1765', concavity_mean='0.2071', concave points_mean='0.09601', symmetry_mean='0.1925', fractal_dimension_mean='0.07692', radius_se='0.3908', texture_se='0.9238', perimeter_se='2.41', area_se='34.66', smoothness_se='0.007162', compactness_se='0.02912', concavity_se='0.05473', concave points_se='0.01388', symmetry_se='0.01547', fractal_dimension_se='0.007098', radius_worst='16.31', texture_worst='22.4', perimeter_worst='106.4', area_worst='827.2', smoothness_worst='0.1862', compactness_worst='0.4099', concavity_worst='0.6376', concave points_worst='0.1986', symmetry_worst='0.3147', fractal_dimension_worst='0.1405', _c32=None),\n",
              " Row(id='863031', diagnosis='B', radius_mean='11.64', texture_mean='18.33', perimeter_mean='75.17', area_mean='412.5', smoothness_mean='0.1142', compactness_mean='0.1017', concavity_mean='0.0707', concave points_mean='0.03485', symmetry_mean='0.1801', fractal_dimension_mean='0.0652', radius_se='0.306', texture_se='1.657', perimeter_se='2.155', area_se='20.62', smoothness_se='0.00854', compactness_se='0.0231', concavity_se='0.02945', concave points_se='0.01398', symmetry_se='0.01565', fractal_dimension_se='0.00384', radius_worst='13.14', texture_worst='29.26', perimeter_worst='85.51', area_worst='521.7', smoothness_worst='0.1688', compactness_worst='0.266', concavity_worst='0.2873', concave points_worst='0.1218', symmetry_worst='0.2806', fractal_dimension_worst='0.09097', _c32=None),\n",
              " Row(id='86355', diagnosis='M', radius_mean='22.27', texture_mean='19.67', perimeter_mean='152.8', area_mean='1509', smoothness_mean='0.1326', compactness_mean='0.2768', concavity_mean='0.4264', concave points_mean='0.1823', symmetry_mean='0.2556', fractal_dimension_mean='0.07039', radius_se='1.215', texture_se='1.545', perimeter_se='10.05', area_se='170', smoothness_se='0.006515', compactness_se='0.08668', concavity_se='0.104', concave points_se='0.0248', symmetry_se='0.03112', fractal_dimension_se='0.005037', radius_worst='28.4', texture_worst='28.01', perimeter_worst='206.8', area_worst='2360', smoothness_worst='0.1701', compactness_worst='0.6997', concavity_worst='0.9608', concave points_worst='0.291', symmetry_worst='0.4055', fractal_dimension_worst='0.09789', _c32=None),\n",
              " Row(id='864018', diagnosis='B', radius_mean='11.34', texture_mean='21.26', perimeter_mean='72.48', area_mean='396.5', smoothness_mean='0.08759', compactness_mean='0.06575', concavity_mean='0.05133', concave points_mean='0.01899', symmetry_mean='0.1487', fractal_dimension_mean='0.06529', radius_se='0.2344', texture_se='0.9861', perimeter_se='1.597', area_se='16.41', smoothness_se='0.009113', compactness_se='0.01557', concavity_se='0.02443', concave points_se='0.006435', symmetry_se='0.01568', fractal_dimension_se='0.002477', radius_worst='13.01', texture_worst='29.15', perimeter_worst='83.99', area_worst='518.1', smoothness_worst='0.1699', compactness_worst='0.2196', concavity_worst='0.312', concave points_worst='0.08278', symmetry_worst='0.2829', fractal_dimension_worst='0.08832', _c32=None),\n",
              " Row(id='86409', diagnosis='B', radius_mean='14.26', texture_mean='19.65', perimeter_mean='97.83', area_mean='629.9', smoothness_mean='0.07837', compactness_mean='0.2233', concavity_mean='0.3003', concave points_mean='0.07798', symmetry_mean='0.1704', fractal_dimension_mean='0.07769', radius_se='0.3628', texture_se='1.49', perimeter_se='3.399', area_se='29.25', smoothness_se='0.005298', compactness_se='0.07446', concavity_se='0.1435', concave points_se='0.02292', symmetry_se='0.02566', fractal_dimension_se='0.01298', radius_worst='15.3', texture_worst='23.73', perimeter_worst='107', area_worst='709', smoothness_worst='0.08949', compactness_worst='0.4193', concavity_worst='0.6783', concave points_worst='0.1505', symmetry_worst='0.2398', fractal_dimension_worst='0.1082', _c32=None),\n",
              " Row(id='864292', diagnosis='B', radius_mean='10.51', texture_mean='20.19', perimeter_mean='68.64', area_mean='334.2', smoothness_mean='0.1122', compactness_mean='0.1303', concavity_mean='0.06476', concave points_mean='0.03068', symmetry_mean='0.1922', fractal_dimension_mean='0.07782', radius_se='0.3336', texture_se='1.86', perimeter_se='2.041', area_se='19.91', smoothness_se='0.01188', compactness_se='0.03747', concavity_se='0.04591', concave points_se='0.01544', symmetry_se='0.02287', fractal_dimension_se='0.006792', radius_worst='11.16', texture_worst='22.75', perimeter_worst='72.62', area_worst='374.4', smoothness_worst='0.13', compactness_worst='0.2049', concavity_worst='0.1295', concave points_worst='0.06136', symmetry_worst='0.2383', fractal_dimension_worst='0.09026', _c32=None),\n",
              " Row(id='865128', diagnosis='M', radius_mean='17.95', texture_mean='20.01', perimeter_mean='114.2', area_mean='982', smoothness_mean='0.08402', compactness_mean='0.06722', concavity_mean='0.07293', concave points_mean='0.05596', symmetry_mean='0.2129', fractal_dimension_mean='0.05025', radius_se='0.5506', texture_se='1.214', perimeter_se='3.357', area_se='54.04', smoothness_se='0.004024', compactness_se='0.008422', concavity_se='0.02291', concave points_se='0.009863', symmetry_se='0.05014', fractal_dimension_se='0.001902', radius_worst='20.58', texture_worst='27.83', perimeter_worst='129.2', area_worst='1261', smoothness_worst='0.1072', compactness_worst='0.1202', concavity_worst='0.2249', concave points_worst='0.1185', symmetry_worst='0.4882', fractal_dimension_worst='0.06111', _c32=None),\n",
              " Row(id='865137', diagnosis='B', radius_mean='11.41', texture_mean='10.82', perimeter_mean='73.34', area_mean='403.3', smoothness_mean='0.09373', compactness_mean='0.06685', concavity_mean='0.03512', concave points_mean='0.02623', symmetry_mean='0.1667', fractal_dimension_mean='0.06113', radius_se='0.1408', texture_se='0.4607', perimeter_se='1.103', area_se='10.5', smoothness_se='0.00604', compactness_se='0.01529', concavity_se='0.01514', concave points_se='0.00646', symmetry_se='0.01344', fractal_dimension_se='0.002206', radius_worst='12.82', texture_worst='15.97', perimeter_worst='83.74', area_worst='510.5', smoothness_worst='0.1548', compactness_worst='0.239', concavity_worst='0.2102', concave points_worst='0.08958', symmetry_worst='0.3016', fractal_dimension_worst='0.08523', _c32=None),\n",
              " Row(id='865423', diagnosis='M', radius_mean='24.25', texture_mean='20.2', perimeter_mean='166.2', area_mean='1761', smoothness_mean='0.1447', compactness_mean='0.2867', concavity_mean='0.4268', concave points_mean='0.2012', symmetry_mean='0.2655', fractal_dimension_mean='0.06877', radius_se='1.509', texture_se='3.12', perimeter_se='9.807', area_se='233', smoothness_se='0.02333', compactness_se='0.09806', concavity_se='0.1278', concave points_se='0.01822', symmetry_se='0.04547', fractal_dimension_se='0.009875', radius_worst='26.02', texture_worst='23.99', perimeter_worst='180.9', area_worst='2073', smoothness_worst='0.1696', compactness_worst='0.4244', concavity_worst='0.5803', concave points_worst='0.2248', symmetry_worst='0.3222', fractal_dimension_worst='0.08009', _c32=None),\n",
              " Row(id='865432', diagnosis='B', radius_mean='14.5', texture_mean='10.89', perimeter_mean='94.28', area_mean='640.7', smoothness_mean='0.1101', compactness_mean='0.1099', concavity_mean='0.08842', concave points_mean='0.05778', symmetry_mean='0.1856', fractal_dimension_mean='0.06402', radius_se='0.2929', texture_se='0.857', perimeter_se='1.928', area_se='24.19', smoothness_se='0.003818', compactness_se='0.01276', concavity_se='0.02882', concave points_se='0.012', symmetry_se='0.0191', fractal_dimension_se='0.002808', radius_worst='15.7', texture_worst='15.98', perimeter_worst='102.8', area_worst='745.5', smoothness_worst='0.1313', compactness_worst='0.1788', concavity_worst='0.256', concave points_worst='0.1221', symmetry_worst='0.2889', fractal_dimension_worst='0.08006', _c32=None),\n",
              " Row(id='867739', diagnosis='M', radius_mean='18.45', texture_mean='21.91', perimeter_mean='120.2', area_mean='1075', smoothness_mean='0.0943', compactness_mean='0.09709', concavity_mean='0.1153', concave points_mean='0.06847', symmetry_mean='0.1692', fractal_dimension_mean='0.05727', radius_se='0.5959', texture_se='1.202', perimeter_se='3.766', area_se='68.35', smoothness_se='0.006001', compactness_se='0.01422', concavity_se='0.02855', concave points_se='0.009148', symmetry_se='0.01492', fractal_dimension_se='0.002205', radius_worst='22.52', texture_worst='31.39', perimeter_worst='145.6', area_worst='1590', smoothness_worst='0.1465', compactness_worst='0.2275', concavity_worst='0.3965', concave points_worst='0.1379', symmetry_worst='0.3109', fractal_dimension_worst='0.0761', _c32=None),\n",
              " Row(id='868223', diagnosis='B', radius_mean='11.71', texture_mean='16.67', perimeter_mean='74.72', area_mean='423.6', smoothness_mean='0.1051', compactness_mean='0.06095', concavity_mean='0.03592', concave points_mean='0.026', symmetry_mean='0.1339', fractal_dimension_mean='0.05945', radius_se='0.4489', texture_se='2.508', perimeter_se='3.258', area_se='34.37', smoothness_se='0.006578', compactness_se='0.0138', concavity_se='0.02662', concave points_se='0.01307', symmetry_se='0.01359', fractal_dimension_se='0.003707', radius_worst='13.33', texture_worst='25.48', perimeter_worst='86.16', area_worst='546.7', smoothness_worst='0.1271', compactness_worst='0.1028', concavity_worst='0.1046', concave points_worst='0.06968', symmetry_worst='0.1712', fractal_dimension_worst='0.07343', _c32=None),\n",
              " Row(id='868682', diagnosis='B', radius_mean='11.43', texture_mean='15.39', perimeter_mean='73.06', area_mean='399.8', smoothness_mean='0.09639', compactness_mean='0.06889', concavity_mean='0.03503', concave points_mean='0.02875', symmetry_mean='0.1734', fractal_dimension_mean='0.05865', radius_se='0.1759', texture_se='0.9938', perimeter_se='1.143', area_se='12.67', smoothness_se='0.005133', compactness_se='0.01521', concavity_se='0.01434', concave points_se='0.008602', symmetry_se='0.01501', fractal_dimension_se='0.001588', radius_worst='12.32', texture_worst='22.02', perimeter_worst='79.93', area_worst='462', smoothness_worst='0.119', compactness_worst='0.1648', concavity_worst='0.1399', concave points_worst='0.08476', symmetry_worst='0.2676', fractal_dimension_worst='0.06765', _c32=None),\n",
              " Row(id='868826', diagnosis='M', radius_mean='14.95', texture_mean='17.57', perimeter_mean='96.85', area_mean='678.1', smoothness_mean='0.1167', compactness_mean='0.1305', concavity_mean='0.1539', concave points_mean='0.08624', symmetry_mean='0.1957', fractal_dimension_mean='0.06216', radius_se='1.296', texture_se='1.452', perimeter_se='8.419', area_se='101.9', smoothness_se='0.01', compactness_se='0.0348', concavity_se='0.06577', concave points_se='0.02801', symmetry_se='0.05168', fractal_dimension_se='0.002887', radius_worst='18.55', texture_worst='21.43', perimeter_worst='121.4', area_worst='971.4', smoothness_worst='0.1411', compactness_worst='0.2164', concavity_worst='0.3355', concave points_worst='0.1667', symmetry_worst='0.3414', fractal_dimension_worst='0.07147', _c32=None),\n",
              " Row(id='868999', diagnosis='B', radius_mean='9.738', texture_mean='11.97', perimeter_mean='61.24', area_mean='288.5', smoothness_mean='0.0925', compactness_mean='0.04102', concavity_mean='0', concave points_mean='0', symmetry_mean='0.1903', fractal_dimension_mean='0.06422', radius_se='0.1988', texture_se='0.496', perimeter_se='1.218', area_se='12.26', smoothness_se='0.00604', compactness_se='0.005656', concavity_se='0', concave points_se='0', symmetry_se='0.02277', fractal_dimension_se='0.00322', radius_worst='10.62', texture_worst='14.1', perimeter_worst='66.53', area_worst='342.9', smoothness_worst='0.1234', compactness_worst='0.07204', concavity_worst='0', concave points_worst='0', symmetry_worst='0.3105', fractal_dimension_worst='0.08151', _c32=None),\n",
              " Row(id='869104', diagnosis='M', radius_mean='16.11', texture_mean='18.05', perimeter_mean='105.1', area_mean='813', smoothness_mean='0.09721', compactness_mean='0.1137', concavity_mean='0.09447', concave points_mean='0.05943', symmetry_mean='0.1861', fractal_dimension_mean='0.06248', radius_se='0.7049', texture_se='1.332', perimeter_se='4.533', area_se='74.08', smoothness_se='0.00677', compactness_se='0.01938', concavity_se='0.03067', concave points_se='0.01167', symmetry_se='0.01875', fractal_dimension_se='0.003434', radius_worst='19.92', texture_worst='25.27', perimeter_worst='129', area_worst='1233', smoothness_worst='0.1314', compactness_worst='0.2236', concavity_worst='0.2802', concave points_worst='0.1216', symmetry_worst='0.2792', fractal_dimension_worst='0.08158', _c32=None),\n",
              " Row(id='869224', diagnosis='B', radius_mean='12.9', texture_mean='15.92', perimeter_mean='83.74', area_mean='512.2', smoothness_mean='0.08677', compactness_mean='0.09509', concavity_mean='0.04894', concave points_mean='0.03088', symmetry_mean='0.1778', fractal_dimension_mean='0.06235', radius_se='0.2143', texture_se='0.7712', perimeter_se='1.689', area_se='16.64', smoothness_se='0.005324', compactness_se='0.01563', concavity_se='0.0151', concave points_se='0.007584', symmetry_se='0.02104', fractal_dimension_se='0.001887', radius_worst='14.48', texture_worst='21.82', perimeter_worst='97.17', area_worst='643.8', smoothness_worst='0.1312', compactness_worst='0.2548', concavity_worst='0.209', concave points_worst='0.1012', symmetry_worst='0.3549', fractal_dimension_worst='0.08118', _c32=None),\n",
              " Row(id='869254', diagnosis='B', radius_mean='10.75', texture_mean='14.97', perimeter_mean='68.26', area_mean='355.3', smoothness_mean='0.07793', compactness_mean='0.05139', concavity_mean='0.02251', concave points_mean='0.007875', symmetry_mean='0.1399', fractal_dimension_mean='0.05688', radius_se='0.2525', texture_se='1.239', perimeter_se='1.806', area_se='17.74', smoothness_se='0.006547', compactness_se='0.01781', concavity_se='0.02018', concave points_se='0.005612', symmetry_se='0.01671', fractal_dimension_se='0.00236', radius_worst='11.95', texture_worst='20.72', perimeter_worst='77.79', area_worst='441.2', smoothness_worst='0.1076', compactness_worst='0.1223', concavity_worst='0.09755', concave points_worst='0.03413', symmetry_worst='0.23', fractal_dimension_worst='0.06769', _c32=None),\n",
              " Row(id='86973702', diagnosis='B', radius_mean='14.44', texture_mean='15.18', perimeter_mean='93.97', area_mean='640.1', smoothness_mean='0.0997', compactness_mean='0.1021', concavity_mean='0.08487', concave points_mean='0.05532', symmetry_mean='0.1724', fractal_dimension_mean='0.06081', radius_se='0.2406', texture_se='0.7394', perimeter_se='2.12', area_se='21.2', smoothness_se='0.005706', compactness_se='0.02297', concavity_se='0.03114', concave points_se='0.01493', symmetry_se='0.01454', fractal_dimension_se='0.002528', radius_worst='15.85', texture_worst='19.85', perimeter_worst='108.6', area_worst='766.9', smoothness_worst='0.1316', compactness_worst='0.2735', concavity_worst='0.3103', concave points_worst='0.1599', symmetry_worst='0.2691', fractal_dimension_worst='0.07683', _c32=None),\n",
              " Row(id='869931', diagnosis='B', radius_mean='13.74', texture_mean='17.91', perimeter_mean='88.12', area_mean='585', smoothness_mean='0.07944', compactness_mean='0.06376', concavity_mean='0.02881', concave points_mean='0.01329', symmetry_mean='0.1473', fractal_dimension_mean='0.0558', radius_se='0.25', texture_se='0.7574', perimeter_se='1.573', area_se='21.47', smoothness_se='0.002838', compactness_se='0.01592', concavity_se='0.0178', concave points_se='0.005828', symmetry_se='0.01329', fractal_dimension_se='0.001976', radius_worst='15.34', texture_worst='22.46', perimeter_worst='97.19', area_worst='725.9', smoothness_worst='0.09711', compactness_worst='0.1824', concavity_worst='0.1564', concave points_worst='0.06019', symmetry_worst='0.235', fractal_dimension_worst='0.07014', _c32=None),\n",
              " Row(id='871001501', diagnosis='B', radius_mean='13', texture_mean='20.78', perimeter_mean='83.51', area_mean='519.4', smoothness_mean='0.1135', compactness_mean='0.07589', concavity_mean='0.03136', concave points_mean='0.02645', symmetry_mean='0.254', fractal_dimension_mean='0.06087', radius_se='0.4202', texture_se='1.322', perimeter_se='2.873', area_se='34.78', smoothness_se='0.007017', compactness_se='0.01142', concavity_se='0.01949', concave points_se='0.01153', symmetry_se='0.02951', fractal_dimension_se='0.001533', radius_worst='14.16', texture_worst='24.11', perimeter_worst='90.82', area_worst='616.7', smoothness_worst='0.1297', compactness_worst='0.1105', concavity_worst='0.08112', concave points_worst='0.06296', symmetry_worst='0.3196', fractal_dimension_worst='0.06435', _c32=None),\n",
              " Row(id='8710441', diagnosis='B', radius_mean='9.731', texture_mean='15.34', perimeter_mean='63.78', area_mean='300.2', smoothness_mean='0.1072', compactness_mean='0.1599', concavity_mean='0.4108', concave points_mean='0.07857', symmetry_mean='0.2548', fractal_dimension_mean='0.09296', radius_se='0.8245', texture_se='2.664', perimeter_se='4.073', area_se='49.85', smoothness_se='0.01097', compactness_se='0.09586', concavity_se='0.396', concave points_se='0.05279', symmetry_se='0.03546', fractal_dimension_se='0.02984', radius_worst='11.02', texture_worst='19.49', perimeter_worst='71.04', area_worst='380.5', smoothness_worst='0.1292', compactness_worst='0.2772', concavity_worst='0.8216', concave points_worst='0.1571', symmetry_worst='0.3108', fractal_dimension_worst='0.1259', _c32=None),\n",
              " Row(id='87106', diagnosis='B', radius_mean='11.15', texture_mean='13.08', perimeter_mean='70.87', area_mean='381.9', smoothness_mean='0.09754', compactness_mean='0.05113', concavity_mean='0.01982', concave points_mean='0.01786', symmetry_mean='0.183', fractal_dimension_mean='0.06105', radius_se='0.2251', texture_se='0.7815', perimeter_se='1.429', area_se='15.48', smoothness_se='0.009019', compactness_se='0.008985', concavity_se='0.01196', concave points_se='0.008232', symmetry_se='0.02388', fractal_dimension_se='0.001619', radius_worst='11.99', texture_worst='16.3', perimeter_worst='76.25', area_worst='440.8', smoothness_worst='0.1341', compactness_worst='0.08971', concavity_worst='0.07116', concave points_worst='0.05506', symmetry_worst='0.2859', fractal_dimension_worst='0.06772', _c32=None),\n",
              " Row(id='8711002', diagnosis='B', radius_mean='13.15', texture_mean='15.34', perimeter_mean='85.31', area_mean='538.9', smoothness_mean='0.09384', compactness_mean='0.08498', concavity_mean='0.09293', concave points_mean='0.03483', symmetry_mean='0.1822', fractal_dimension_mean='0.06207', radius_se='0.271', texture_se='0.7927', perimeter_se='1.819', area_se='22.79', smoothness_se='0.008584', compactness_se='0.02017', concavity_se='0.03047', concave points_se='0.009536', symmetry_se='0.02769', fractal_dimension_se='0.003479', radius_worst='14.77', texture_worst='20.5', perimeter_worst='97.67', area_worst='677.3', smoothness_worst='0.1478', compactness_worst='0.2256', concavity_worst='0.3009', concave points_worst='0.09722', symmetry_worst='0.3849', fractal_dimension_worst='0.08633', _c32=None),\n",
              " Row(id='8711202', diagnosis='M', radius_mean='17.68', texture_mean='20.74', perimeter_mean='117.4', area_mean='963.7', smoothness_mean='0.1115', compactness_mean='0.1665', concavity_mean='0.1855', concave points_mean='0.1054', symmetry_mean='0.1971', fractal_dimension_mean='0.06166', radius_se='0.8113', texture_se='1.4', perimeter_se='5.54', area_se='93.91', smoothness_se='0.009037', compactness_se='0.04954', concavity_se='0.05206', concave points_se='0.01841', symmetry_se='0.01778', fractal_dimension_se='0.004968', radius_worst='20.47', texture_worst='25.11', perimeter_worst='132.9', area_worst='1302', smoothness_worst='0.1418', compactness_worst='0.3498', concavity_worst='0.3583', concave points_worst='0.1515', symmetry_worst='0.2463', fractal_dimension_worst='0.07738', _c32=None),\n",
              " Row(id='871149', diagnosis='B', radius_mean='10.9', texture_mean='12.96', perimeter_mean='68.69', area_mean='366.8', smoothness_mean='0.07515', compactness_mean='0.03718', concavity_mean='0.00309', concave points_mean='0.006588', symmetry_mean='0.1442', fractal_dimension_mean='0.05743', radius_se='0.2818', texture_se='0.7614', perimeter_se='1.808', area_se='18.54', smoothness_se='0.006142', compactness_se='0.006134', concavity_se='0.001835', concave points_se='0.003576', symmetry_se='0.01637', fractal_dimension_se='0.002665', radius_worst='12.36', texture_worst='18.2', perimeter_worst='78.07', area_worst='470', smoothness_worst='0.1171', compactness_worst='0.08294', concavity_worst='0.01854', concave points_worst='0.03953', symmetry_worst='0.2738', fractal_dimension_worst='0.07685', _c32=None),\n",
              " Row(id='871201', diagnosis='M', radius_mean='19.59', texture_mean='18.15', perimeter_mean='130.7', area_mean='1214', smoothness_mean='0.112', compactness_mean='0.1666', concavity_mean='0.2508', concave points_mean='0.1286', symmetry_mean='0.2027', fractal_dimension_mean='0.06082', radius_se='0.7364', texture_se='1.048', perimeter_se='4.792', area_se='97.07', smoothness_se='0.004057', compactness_se='0.02277', concavity_se='0.04029', concave points_se='0.01303', symmetry_se='0.01686', fractal_dimension_se='0.003318', radius_worst='26.73', texture_worst='26.39', perimeter_worst='174.9', area_worst='2232', smoothness_worst='0.1438', compactness_worst='0.3846', concavity_worst='0.681', concave points_worst='0.2247', symmetry_worst='0.3643', fractal_dimension_worst='0.09223', _c32=None),\n",
              " Row(id='8712064', diagnosis='B', radius_mean='12.34', texture_mean='22.22', perimeter_mean='79.85', area_mean='464.5', smoothness_mean='0.1012', compactness_mean='0.1015', concavity_mean='0.0537', concave points_mean='0.02822', symmetry_mean='0.1551', fractal_dimension_mean='0.06761', radius_se='0.2949', texture_se='1.656', perimeter_se='1.955', area_se='21.55', smoothness_se='0.01134', compactness_se='0.03175', concavity_se='0.03125', concave points_se='0.01135', symmetry_se='0.01879', fractal_dimension_se='0.005348', radius_worst='13.58', texture_worst='28.68', perimeter_worst='87.36', area_worst='553', smoothness_worst='0.1452', compactness_worst='0.2338', concavity_worst='0.1688', concave points_worst='0.08194', symmetry_worst='0.2268', fractal_dimension_worst='0.09082', _c32=None),\n",
              " Row(id='8712729', diagnosis='M', radius_mean='16.78', texture_mean='18.8', perimeter_mean='109.3', area_mean='886.3', smoothness_mean='0.08865', compactness_mean='0.09182', concavity_mean='0.08422', concave points_mean='0.06576', symmetry_mean='0.1893', fractal_dimension_mean='0.05534', radius_se='0.599', texture_se='1.391', perimeter_se='4.129', area_se='67.34', smoothness_se='0.006123', compactness_se='0.0247', concavity_se='0.02626', concave points_se='0.01604', symmetry_se='0.02091', fractal_dimension_se='0.003493', radius_worst='20.05', texture_worst='26.3', perimeter_worst='130.7', area_worst='1260', smoothness_worst='0.1168', compactness_worst='0.2119', concavity_worst='0.2318', concave points_worst='0.1474', symmetry_worst='0.281', fractal_dimension_worst='0.07228', _c32=None),\n",
              " Row(id='87139402', diagnosis='B', radius_mean='12.32', texture_mean='12.39', perimeter_mean='78.85', area_mean='464.1', smoothness_mean='0.1028', compactness_mean='0.06981', concavity_mean='0.03987', concave points_mean='0.037', symmetry_mean='0.1959', fractal_dimension_mean='0.05955', radius_se='0.236', texture_se='0.6656', perimeter_se='1.67', area_se='17.43', smoothness_se='0.008045', compactness_se='0.0118', concavity_se='0.01683', concave points_se='0.01241', symmetry_se='0.01924', fractal_dimension_se='0.002248', radius_worst='13.5', texture_worst='15.64', perimeter_worst='86.97', area_worst='549.1', smoothness_worst='0.1385', compactness_worst='0.1266', concavity_worst='0.1242', concave points_worst='0.09391', symmetry_worst='0.2827', fractal_dimension_worst='0.06771', _c32=None),\n",
              " Row(id='87164', diagnosis='M', radius_mean='15.46', texture_mean='11.89', perimeter_mean='102.5', area_mean='736.9', smoothness_mean='0.1257', compactness_mean='0.1555', concavity_mean='0.2032', concave points_mean='0.1097', symmetry_mean='0.1966', fractal_dimension_mean='0.07069', radius_se='0.4209', texture_se='0.6583', perimeter_se='2.805', area_se='44.64', smoothness_se='0.005393', compactness_se='0.02321', concavity_se='0.04303', concave points_se='0.0132', symmetry_se='0.01792', fractal_dimension_se='0.004168', radius_worst='18.79', texture_worst='17.04', perimeter_worst='125', area_worst='1102', smoothness_worst='0.1531', compactness_worst='0.3583', concavity_worst='0.583', concave points_worst='0.1827', symmetry_worst='0.3216', fractal_dimension_worst='0.101', _c32=None),\n",
              " Row(id='871641', diagnosis='B', radius_mean='11.08', texture_mean='14.71', perimeter_mean='70.21', area_mean='372.7', smoothness_mean='0.1006', compactness_mean='0.05743', concavity_mean='0.02363', concave points_mean='0.02583', symmetry_mean='0.1566', fractal_dimension_mean='0.06669', radius_se='0.2073', texture_se='1.805', perimeter_se='1.377', area_se='19.08', smoothness_se='0.01496', compactness_se='0.02121', concavity_se='0.01453', concave points_se='0.01583', symmetry_se='0.03082', fractal_dimension_se='0.004785', radius_worst='11.35', texture_worst='16.82', perimeter_worst='72.01', area_worst='396.5', smoothness_worst='0.1216', compactness_worst='0.0824', concavity_worst='0.03938', concave points_worst='0.04306', symmetry_worst='0.1902', fractal_dimension_worst='0.07313', _c32=None),\n",
              " Row(id='872608', diagnosis='B', radius_mean='9.904', texture_mean='18.06', perimeter_mean='64.6', area_mean='302.4', smoothness_mean='0.09699', compactness_mean='0.1294', concavity_mean='0.1307', concave points_mean='0.03716', symmetry_mean='0.1669', fractal_dimension_mean='0.08116', radius_se='0.4311', texture_se='2.261', perimeter_se='3.132', area_se='27.48', smoothness_se='0.01286', compactness_se='0.08808', concavity_se='0.1197', concave points_se='0.0246', symmetry_se='0.0388', fractal_dimension_se='0.01792', radius_worst='11.26', texture_worst='24.39', perimeter_worst='73.07', area_worst='390.2', smoothness_worst='0.1301', compactness_worst='0.295', concavity_worst='0.3486', concave points_worst='0.0991', symmetry_worst='0.2614', fractal_dimension_worst='0.1162', _c32=None),\n",
              " Row(id='87281702', diagnosis='M', radius_mean='16.46', texture_mean='20.11', perimeter_mean='109.3', area_mean='832.9', smoothness_mean='0.09831', compactness_mean='0.1556', concavity_mean='0.1793', concave points_mean='0.08866', symmetry_mean='0.1794', fractal_dimension_mean='0.06323', radius_se='0.3037', texture_se='1.284', perimeter_se='2.482', area_se='31.59', smoothness_se='0.006627', compactness_se='0.04094', concavity_se='0.05371', concave points_se='0.01813', symmetry_se='0.01682', fractal_dimension_se='0.004584', radius_worst='17.79', texture_worst='28.45', perimeter_worst='123.5', area_worst='981.2', smoothness_worst='0.1415', compactness_worst='0.4667', concavity_worst='0.5862', concave points_worst='0.2035', symmetry_worst='0.3054', fractal_dimension_worst='0.09519', _c32=None),\n",
              " Row(id='873701', diagnosis='M', radius_mean='15.7', texture_mean='20.31', perimeter_mean='101.2', area_mean='766.6', smoothness_mean='0.09597', compactness_mean='0.08799', concavity_mean='0.06593', concave points_mean='0.05189', symmetry_mean='0.1618', fractal_dimension_mean='0.05549', radius_se='0.3699', texture_se='1.15', perimeter_se='2.406', area_se='40.98', smoothness_se='0.004626', compactness_se='0.02263', concavity_se='0.01954', concave points_se='0.009767', symmetry_se='0.01547', fractal_dimension_se='0.00243', radius_worst='20.11', texture_worst='32.82', perimeter_worst='129.3', area_worst='1269', smoothness_worst='0.1414', compactness_worst='0.3547', concavity_worst='0.2902', concave points_worst='0.1541', symmetry_worst='0.3437', fractal_dimension_worst='0.08631', _c32=None),\n",
              " Row(id='873843', diagnosis='B', radius_mean='11.41', texture_mean='14.92', perimeter_mean='73.53', area_mean='402', smoothness_mean='0.09059', compactness_mean='0.08155', concavity_mean='0.06181', concave points_mean='0.02361', symmetry_mean='0.1167', fractal_dimension_mean='0.06217', radius_se='0.3344', texture_se='1.108', perimeter_se='1.902', area_se='22.77', smoothness_se='0.007356', compactness_se='0.03728', concavity_se='0.05915', concave points_se='0.01712', symmetry_se='0.02165', fractal_dimension_se='0.004784', radius_worst='12.37', texture_worst='17.7', perimeter_worst='79.12', area_worst='467.2', smoothness_worst='0.1121', compactness_worst='0.161', concavity_worst='0.1648', concave points_worst='0.06296', symmetry_worst='0.1811', fractal_dimension_worst='0.07427', _c32=None),\n",
              " Row(id='873885', diagnosis='M', radius_mean='15.28', texture_mean='22.41', perimeter_mean='98.92', area_mean='710.6', smoothness_mean='0.09057', compactness_mean='0.1052', concavity_mean='0.05375', concave points_mean='0.03263', symmetry_mean='0.1727', fractal_dimension_mean='0.06317', radius_se='0.2054', texture_se='0.4956', perimeter_se='1.344', area_se='19.53', smoothness_se='0.00329', compactness_se='0.01395', concavity_se='0.01774', concave points_se='0.006009', symmetry_se='0.01172', fractal_dimension_se='0.002575', radius_worst='17.8', texture_worst='28.03', perimeter_worst='113.8', area_worst='973.1', smoothness_worst='0.1301', compactness_worst='0.3299', concavity_worst='0.363', concave points_worst='0.1226', symmetry_worst='0.3175', fractal_dimension_worst='0.09772', _c32=None),\n",
              " Row(id='874158', diagnosis='B', radius_mean='10.08', texture_mean='15.11', perimeter_mean='63.76', area_mean='317.5', smoothness_mean='0.09267', compactness_mean='0.04695', concavity_mean='0.001597', concave points_mean='0.002404', symmetry_mean='0.1703', fractal_dimension_mean='0.06048', radius_se='0.4245', texture_se='1.268', perimeter_se='2.68', area_se='26.43', smoothness_se='0.01439', compactness_se='0.012', concavity_se='0.001597', concave points_se='0.002404', symmetry_se='0.02538', fractal_dimension_se='0.00347', radius_worst='11.87', texture_worst='21.18', perimeter_worst='75.39', area_worst='437', smoothness_worst='0.1521', compactness_worst='0.1019', concavity_worst='0.00692', concave points_worst='0.01042', symmetry_worst='0.2933', fractal_dimension_worst='0.07697', _c32=None),\n",
              " Row(id='874839', diagnosis='B', radius_mean='12.3', texture_mean='15.9', perimeter_mean='78.83', area_mean='463.7', smoothness_mean='0.0808', compactness_mean='0.07253', concavity_mean='0.03844', concave points_mean='0.01654', symmetry_mean='0.1667', fractal_dimension_mean='0.05474', radius_se='0.2382', texture_se='0.8355', perimeter_se='1.687', area_se='18.32', smoothness_se='0.005996', compactness_se='0.02212', concavity_se='0.02117', concave points_se='0.006433', symmetry_se='0.02025', fractal_dimension_se='0.001725', radius_worst='13.35', texture_worst='19.59', perimeter_worst='86.65', area_worst='546.7', smoothness_worst='0.1096', compactness_worst='0.165', concavity_worst='0.1423', concave points_worst='0.04815', symmetry_worst='0.2482', fractal_dimension_worst='0.06306', _c32=None),\n",
              " Row(id='874858', diagnosis='M', radius_mean='14.22', texture_mean='23.12', perimeter_mean='94.37', area_mean='609.9', smoothness_mean='0.1075', compactness_mean='0.2413', concavity_mean='0.1981', concave points_mean='0.06618', symmetry_mean='0.2384', fractal_dimension_mean='0.07542', radius_se='0.286', texture_se='2.11', perimeter_se='2.112', area_se='31.72', smoothness_se='0.00797', compactness_se='0.1354', concavity_se='0.1166', concave points_se='0.01666', symmetry_se='0.05113', fractal_dimension_se='0.01172', radius_worst='15.74', texture_worst='37.18', perimeter_worst='106.4', area_worst='762.4', smoothness_worst='0.1533', compactness_worst='0.9327', concavity_worst='0.8488', concave points_worst='0.1772', symmetry_worst='0.5166', fractal_dimension_worst='0.1446', _c32=None),\n",
              " Row(id='875263', diagnosis='M', radius_mean='12.34', texture_mean='26.86', perimeter_mean='81.15', area_mean='477.4', smoothness_mean='0.1034', compactness_mean='0.1353', concavity_mean='0.1085', concave points_mean='0.04562', symmetry_mean='0.1943', fractal_dimension_mean='0.06937', radius_se='0.4053', texture_se='1.809', perimeter_se='2.642', area_se='34.44', smoothness_se='0.009098', compactness_se='0.03845', concavity_se='0.03763', concave points_se='0.01321', symmetry_se='0.01878', fractal_dimension_se='0.005672', radius_worst='15.65', texture_worst='39.34', perimeter_worst='101.7', area_worst='768.9', smoothness_worst='0.1785', compactness_worst='0.4706', concavity_worst='0.4425', concave points_worst='0.1459', symmetry_worst='0.3215', fractal_dimension_worst='0.1205', _c32=None),\n",
              " Row(id='875878', diagnosis='B', radius_mean='12.91', texture_mean='16.33', perimeter_mean='82.53', area_mean='516.4', smoothness_mean='0.07941', compactness_mean='0.05366', concavity_mean='0.03873', concave points_mean='0.02377', symmetry_mean='0.1829', fractal_dimension_mean='0.05667', radius_se='0.1942', texture_se='0.9086', perimeter_se='1.493', area_se='15.75', smoothness_se='0.005298', compactness_se='0.01587', concavity_se='0.02321', concave points_se='0.00842', symmetry_se='0.01853', fractal_dimension_se='0.002152', radius_worst='13.88', texture_worst='22', perimeter_worst='90.81', area_worst='600.6', smoothness_worst='0.1097', compactness_worst='0.1506', concavity_worst='0.1764', concave points_worst='0.08235', symmetry_worst='0.3024', fractal_dimension_worst='0.06949', _c32=None),\n",
              " Row(id='875938', diagnosis='M', radius_mean='13.77', texture_mean='22.29', perimeter_mean='90.63', area_mean='588.9', smoothness_mean='0.12', compactness_mean='0.1267', concavity_mean='0.1385', concave points_mean='0.06526', symmetry_mean='0.1834', fractal_dimension_mean='0.06877', radius_se='0.6191', texture_se='2.112', perimeter_se='4.906', area_se='49.7', smoothness_se='0.0138', compactness_se='0.03348', concavity_se='0.04665', concave points_se='0.0206', symmetry_se='0.02689', fractal_dimension_se='0.004306', radius_worst='16.39', texture_worst='34.01', perimeter_worst='111.6', area_worst='806.9', smoothness_worst='0.1737', compactness_worst='0.3122', concavity_worst='0.3809', concave points_worst='0.1673', symmetry_worst='0.308', fractal_dimension_worst='0.09333', _c32=None),\n",
              " Row(id='877486', diagnosis='M', radius_mean='19.18', texture_mean='22.49', perimeter_mean='127.5', area_mean='1148', smoothness_mean='0.08523', compactness_mean='0.1428', concavity_mean='0.1114', concave points_mean='0.06772', symmetry_mean='0.1767', fractal_dimension_mean='0.05529', radius_se='0.4357', texture_se='1.073', perimeter_se='3.833', area_se='54.22', smoothness_se='0.005524', compactness_se='0.03698', concavity_se='0.02706', concave points_se='0.01221', symmetry_se='0.01415', fractal_dimension_se='0.003397', radius_worst='23.36', texture_worst='32.06', perimeter_worst='166.4', area_worst='1688', smoothness_worst='0.1322', compactness_worst='0.5601', concavity_worst='0.3865', concave points_worst='0.1708', symmetry_worst='0.3193', fractal_dimension_worst='0.09221', _c32=None),\n",
              " Row(id='87880', diagnosis='M', radius_mean='13.81', texture_mean='23.75', perimeter_mean='91.56', area_mean='597.8', smoothness_mean='0.1323', compactness_mean='0.1768', concavity_mean='0.1558', concave points_mean='0.09176', symmetry_mean='0.2251', fractal_dimension_mean='0.07421', radius_se='0.5648', texture_se='1.93', perimeter_se='3.909', area_se='52.72', smoothness_se='0.008824', compactness_se='0.03108', concavity_se='0.03112', concave points_se='0.01291', symmetry_se='0.01998', fractal_dimension_se='0.004506', radius_worst='19.2', texture_worst='41.85', perimeter_worst='128.5', area_worst='1153', smoothness_worst='0.2226', compactness_worst='0.5209', concavity_worst='0.4646', concave points_worst='0.2013', symmetry_worst='0.4432', fractal_dimension_worst='0.1086', _c32=None),\n",
              " Row(id='879523', diagnosis='M', radius_mean='15.12', texture_mean='16.68', perimeter_mean='98.78', area_mean='716.6', smoothness_mean='0.08876', compactness_mean='0.09588', concavity_mean='0.0755', concave points_mean='0.04079', symmetry_mean='0.1594', fractal_dimension_mean='0.05986', radius_se='0.2711', texture_se='0.3621', perimeter_se='1.974', area_se='26.44', smoothness_se='0.005472', compactness_se='0.01919', concavity_se='0.02039', concave points_se='0.00826', symmetry_se='0.01523', fractal_dimension_se='0.002881', radius_worst='17.77', texture_worst='20.24', perimeter_worst='117.7', area_worst='989.5', smoothness_worst='0.1491', compactness_worst='0.3331', concavity_worst='0.3327', concave points_worst='0.1252', symmetry_worst='0.3415', fractal_dimension_worst='0.0974', _c32=None),\n",
              " Row(id='879830', diagnosis='M', radius_mean='17.01', texture_mean='20.26', perimeter_mean='109.7', area_mean='904.3', smoothness_mean='0.08772', compactness_mean='0.07304', concavity_mean='0.0695', concave points_mean='0.0539', symmetry_mean='0.2026', fractal_dimension_mean='0.05223', radius_se='0.5858', texture_se='0.8554', perimeter_se='4.106', area_se='68.46', smoothness_se='0.005038', compactness_se='0.01503', concavity_se='0.01946', concave points_se='0.01123', symmetry_se='0.02294', fractal_dimension_se='0.002581', radius_worst='19.8', texture_worst='25.05', perimeter_worst='130', area_worst='1210', smoothness_worst='0.1111', compactness_worst='0.1486', concavity_worst='0.1932', concave points_worst='0.1096', symmetry_worst='0.3275', fractal_dimension_worst='0.06469', _c32=None),\n",
              " Row(id='8810158', diagnosis='B', radius_mean='13.11', texture_mean='22.54', perimeter_mean='87.02', area_mean='529.4', smoothness_mean='0.1002', compactness_mean='0.1483', concavity_mean='0.08705', concave points_mean='0.05102', symmetry_mean='0.185', fractal_dimension_mean='0.0731', radius_se='0.1931', texture_se='0.9223', perimeter_se='1.491', area_se='15.09', smoothness_se='0.005251', compactness_se='0.03041', concavity_se='0.02526', concave points_se='0.008304', symmetry_se='0.02514', fractal_dimension_se='0.004198', radius_worst='14.55', texture_worst='29.16', perimeter_worst='99.48', area_worst='639.3', smoothness_worst='0.1349', compactness_worst='0.4402', concavity_worst='0.3162', concave points_worst='0.1126', symmetry_worst='0.4128', fractal_dimension_worst='0.1076', _c32=None),\n",
              " Row(id='8810436', diagnosis='B', radius_mean='15.27', texture_mean='12.91', perimeter_mean='98.17', area_mean='725.5', smoothness_mean='0.08182', compactness_mean='0.0623', concavity_mean='0.05892', concave points_mean='0.03157', symmetry_mean='0.1359', fractal_dimension_mean='0.05526', radius_se='0.2134', texture_se='0.3628', perimeter_se='1.525', area_se='20', smoothness_se='0.004291', compactness_se='0.01236', concavity_se='0.01841', concave points_se='0.007373', symmetry_se='0.009539', fractal_dimension_se='0.001656', radius_worst='17.38', texture_worst='15.92', perimeter_worst='113.7', area_worst='932.7', smoothness_worst='0.1222', compactness_worst='0.2186', concavity_worst='0.2962', concave points_worst='0.1035', symmetry_worst='0.232', fractal_dimension_worst='0.07474', _c32=None),\n",
              " Row(id='881046502', diagnosis='M', radius_mean='20.58', texture_mean='22.14', perimeter_mean='134.7', area_mean='1290', smoothness_mean='0.0909', compactness_mean='0.1348', concavity_mean='0.164', concave points_mean='0.09561', symmetry_mean='0.1765', fractal_dimension_mean='0.05024', radius_se='0.8601', texture_se='1.48', perimeter_se='7.029', area_se='111.7', smoothness_se='0.008124', compactness_se='0.03611', concavity_se='0.05489', concave points_se='0.02765', symmetry_se='0.03176', fractal_dimension_se='0.002365', radius_worst='23.24', texture_worst='27.84', perimeter_worst='158.3', area_worst='1656', smoothness_worst='0.1178', compactness_worst='0.292', concavity_worst='0.3861', concave points_worst='0.192', symmetry_worst='0.2909', fractal_dimension_worst='0.05865', _c32=None),\n",
              " Row(id='8810528', diagnosis='B', radius_mean='11.84', texture_mean='18.94', perimeter_mean='75.51', area_mean='428', smoothness_mean='0.08871', compactness_mean='0.069', concavity_mean='0.02669', concave points_mean='0.01393', symmetry_mean='0.1533', fractal_dimension_mean='0.06057', radius_se='0.2222', texture_se='0.8652', perimeter_se='1.444', area_se='17.12', smoothness_se='0.005517', compactness_se='0.01727', concavity_se='0.02045', concave points_se='0.006747', symmetry_se='0.01616', fractal_dimension_se='0.002922', radius_worst='13.3', texture_worst='24.99', perimeter_worst='85.22', area_worst='546.3', smoothness_worst='0.128', compactness_worst='0.188', concavity_worst='0.1471', concave points_worst='0.06913', symmetry_worst='0.2535', fractal_dimension_worst='0.07993', _c32=None),\n",
              " Row(id='8810703', diagnosis='M', radius_mean='28.11', texture_mean='18.47', perimeter_mean='188.5', area_mean='2499', smoothness_mean='0.1142', compactness_mean='0.1516', concavity_mean='0.3201', concave points_mean='0.1595', symmetry_mean='0.1648', fractal_dimension_mean='0.05525', radius_se='2.873', texture_se='1.476', perimeter_se='21.98', area_se='525.6', smoothness_se='0.01345', compactness_se='0.02772', concavity_se='0.06389', concave points_se='0.01407', symmetry_se='0.04783', fractal_dimension_se='0.004476', radius_worst='28.11', texture_worst='18.47', perimeter_worst='188.5', area_worst='2499', smoothness_worst='0.1142', compactness_worst='0.1516', concavity_worst='0.3201', concave points_worst='0.1595', symmetry_worst='0.1648', fractal_dimension_worst='0.05525', _c32=None),\n",
              " Row(id='8810955', diagnosis='M', radius_mean='14.19', texture_mean='23.81', perimeter_mean='92.87', area_mean='610.7', smoothness_mean='0.09463', compactness_mean='0.1306', concavity_mean='0.1115', concave points_mean='0.06462', symmetry_mean='0.2235', fractal_dimension_mean='0.06433', radius_se='0.4207', texture_se='1.845', perimeter_se='3.534', area_se='31', smoothness_se='0.01088', compactness_se='0.0371', concavity_se='0.03688', concave points_se='0.01627', symmetry_se='0.04499', fractal_dimension_se='0.004768', radius_worst='16.86', texture_worst='34.85', perimeter_worst='115', area_worst='811.3', smoothness_worst='0.1559', compactness_worst='0.4059', concavity_worst='0.3744', concave points_worst='0.1772', symmetry_worst='0.4724', fractal_dimension_worst='0.1026', _c32=None),\n",
              " Row(id='8810987', diagnosis='M', radius_mean='13.86', texture_mean='16.93', perimeter_mean='90.96', area_mean='578.9', smoothness_mean='0.1026', compactness_mean='0.1517', concavity_mean='0.09901', concave points_mean='0.05602', symmetry_mean='0.2106', fractal_dimension_mean='0.06916', radius_se='0.2563', texture_se='1.194', perimeter_se='1.933', area_se='22.69', smoothness_se='0.00596', compactness_se='0.03438', concavity_se='0.03909', concave points_se='0.01435', symmetry_se='0.01939', fractal_dimension_se='0.00456', radius_worst='15.75', texture_worst='26.93', perimeter_worst='104.4', area_worst='750.1', smoothness_worst='0.146', compactness_worst='0.437', concavity_worst='0.4636', concave points_worst='0.1654', symmetry_worst='0.363', fractal_dimension_worst='0.1059', _c32=None),\n",
              " Row(id='8811523', diagnosis='B', radius_mean='11.89', texture_mean='18.35', perimeter_mean='77.32', area_mean='432.2', smoothness_mean='0.09363', compactness_mean='0.1154', concavity_mean='0.06636', concave points_mean='0.03142', symmetry_mean='0.1967', fractal_dimension_mean='0.06314', radius_se='0.2963', texture_se='1.563', perimeter_se='2.087', area_se='21.46', smoothness_se='0.008872', compactness_se='0.04192', concavity_se='0.05946', concave points_se='0.01785', symmetry_se='0.02793', fractal_dimension_se='0.004775', radius_worst='13.25', texture_worst='27.1', perimeter_worst='86.2', area_worst='531.2', smoothness_worst='0.1405', compactness_worst='0.3046', concavity_worst='0.2806', concave points_worst='0.1138', symmetry_worst='0.3397', fractal_dimension_worst='0.08365', _c32=None),\n",
              " Row(id='8811779', diagnosis='B', radius_mean='10.2', texture_mean='17.48', perimeter_mean='65.05', area_mean='321.2', smoothness_mean='0.08054', compactness_mean='0.05907', concavity_mean='0.05774', concave points_mean='0.01071', symmetry_mean='0.1964', fractal_dimension_mean='0.06315', radius_se='0.3567', texture_se='1.922', perimeter_se='2.747', area_se='22.79', smoothness_se='0.00468', compactness_se='0.0312', concavity_se='0.05774', concave points_se='0.01071', symmetry_se='0.0256', fractal_dimension_se='0.004613', radius_worst='11.48', texture_worst='24.47', perimeter_worst='75.4', area_worst='403.7', smoothness_worst='0.09527', compactness_worst='0.1397', concavity_worst='0.1925', concave points_worst='0.03571', symmetry_worst='0.2868', fractal_dimension_worst='0.07809', _c32=None),\n",
              " Row(id='8811842', diagnosis='M', radius_mean='19.8', texture_mean='21.56', perimeter_mean='129.7', area_mean='1230', smoothness_mean='0.09383', compactness_mean='0.1306', concavity_mean='0.1272', concave points_mean='0.08691', symmetry_mean='0.2094', fractal_dimension_mean='0.05581', radius_se='0.9553', texture_se='1.186', perimeter_se='6.487', area_se='124.4', smoothness_se='0.006804', compactness_se='0.03169', concavity_se='0.03446', concave points_se='0.01712', symmetry_se='0.01897', fractal_dimension_se='0.004045', radius_worst='25.73', texture_worst='28.64', perimeter_worst='170.3', area_worst='2009', smoothness_worst='0.1353', compactness_worst='0.3235', concavity_worst='0.3617', concave points_worst='0.182', symmetry_worst='0.307', fractal_dimension_worst='0.08255', _c32=None),\n",
              " Row(id='8812844', diagnosis='B', radius_mean='10.18', texture_mean='17.53', perimeter_mean='65.12', area_mean='313.1', smoothness_mean='0.1061', compactness_mean='0.08502', concavity_mean='0.01768', concave points_mean='0.01915', symmetry_mean='0.191', fractal_dimension_mean='0.06908', radius_se='0.2467', texture_se='1.217', perimeter_se='1.641', area_se='15.05', smoothness_se='0.007899', compactness_se='0.014', concavity_se='0.008534', concave points_se='0.007624', symmetry_se='0.02637', fractal_dimension_se='0.003761', radius_worst='11.17', texture_worst='22.84', perimeter_worst='71.94', area_worst='375.6', smoothness_worst='0.1406', compactness_worst='0.144', concavity_worst='0.06572', concave points_worst='0.05575', symmetry_worst='0.3055', fractal_dimension_worst='0.08797', _c32=None),\n",
              " Row(id='8812877', diagnosis='M', radius_mean='15.75', texture_mean='20.25', perimeter_mean='102.6', area_mean='761.3', smoothness_mean='0.1025', compactness_mean='0.1204', concavity_mean='0.1147', concave points_mean='0.06462', symmetry_mean='0.1935', fractal_dimension_mean='0.06303', radius_se='0.3473', texture_se='0.9209', perimeter_se='2.244', area_se='32.19', smoothness_se='0.004766', compactness_se='0.02374', concavity_se='0.02384', concave points_se='0.008637', symmetry_se='0.01772', fractal_dimension_se='0.003131', radius_worst='19.56', texture_worst='30.29', perimeter_worst='125.9', area_worst='1088', smoothness_worst='0.1552', compactness_worst='0.448', concavity_worst='0.3976', concave points_worst='0.1479', symmetry_worst='0.3993', fractal_dimension_worst='0.1064', _c32=None),\n",
              " Row(id='88147102', diagnosis='B', radius_mean='15', texture_mean='15.51', perimeter_mean='97.45', area_mean='684.5', smoothness_mean='0.08371', compactness_mean='0.1096', concavity_mean='0.06505', concave points_mean='0.0378', symmetry_mean='0.1881', fractal_dimension_mean='0.05907', radius_se='0.2318', texture_se='0.4966', perimeter_se='2.276', area_se='19.88', smoothness_se='0.004119', compactness_se='0.03207', concavity_se='0.03644', concave points_se='0.01155', symmetry_se='0.01391', fractal_dimension_se='0.003204', radius_worst='16.41', texture_worst='19.31', perimeter_worst='114.2', area_worst='808.2', smoothness_worst='0.1136', compactness_worst='0.3627', concavity_worst='0.3402', concave points_worst='0.1379', symmetry_worst='0.2954', fractal_dimension_worst='0.08362', _c32=None),\n",
              " Row(id='881861', diagnosis='M', radius_mean='12.83', texture_mean='22.33', perimeter_mean='85.26', area_mean='503.2', smoothness_mean='0.1088', compactness_mean='0.1799', concavity_mean='0.1695', concave points_mean='0.06861', symmetry_mean='0.2123', fractal_dimension_mean='0.07254', radius_se='0.3061', texture_se='1.069', perimeter_se='2.257', area_se='25.13', smoothness_se='0.006983', compactness_se='0.03858', concavity_se='0.04683', concave points_se='0.01499', symmetry_se='0.0168', fractal_dimension_se='0.005617', radius_worst='15.2', texture_worst='30.15', perimeter_worst='105.3', area_worst='706', smoothness_worst='0.1777', compactness_worst='0.5343', concavity_worst='0.6282', concave points_worst='0.1977', symmetry_worst='0.3407', fractal_dimension_worst='0.1243', _c32=None),\n",
              " Row(id='881972', diagnosis='M', radius_mean='17.05', texture_mean='19.08', perimeter_mean='113.4', area_mean='895', smoothness_mean='0.1141', compactness_mean='0.1572', concavity_mean='0.191', concave points_mean='0.109', symmetry_mean='0.2131', fractal_dimension_mean='0.06325', radius_se='0.2959', texture_se='0.679', perimeter_se='2.153', area_se='31.98', smoothness_se='0.005532', compactness_se='0.02008', concavity_se='0.03055', concave points_se='0.01384', symmetry_se='0.01177', fractal_dimension_se='0.002336', radius_worst='19.59', texture_worst='24.89', perimeter_worst='133.5', area_worst='1189', smoothness_worst='0.1703', compactness_worst='0.3934', concavity_worst='0.5018', concave points_worst='0.2543', symmetry_worst='0.3109', fractal_dimension_worst='0.09061', _c32=None),\n",
              " Row(id='88203002', diagnosis='B', radius_mean='11.22', texture_mean='33.81', perimeter_mean='70.79', area_mean='386.8', smoothness_mean='0.0778', compactness_mean='0.03574', concavity_mean='0.004967', concave points_mean='0.006434', symmetry_mean='0.1845', fractal_dimension_mean='0.05828', radius_se='0.2239', texture_se='1.647', perimeter_se='1.489', area_se='15.46', smoothness_se='0.004359', compactness_se='0.006813', concavity_se='0.003223', concave points_se='0.003419', symmetry_se='0.01916', fractal_dimension_se='0.002534', radius_worst='12.36', texture_worst='41.78', perimeter_worst='78.44', area_worst='470.9', smoothness_worst='0.09994', compactness_worst='0.06885', concavity_worst='0.02318', concave points_worst='0.03002', symmetry_worst='0.2911', fractal_dimension_worst='0.07307', _c32=None),\n",
              " Row(id='88206102', diagnosis='M', radius_mean='20.51', texture_mean='27.81', perimeter_mean='134.4', area_mean='1319', smoothness_mean='0.09159', compactness_mean='0.1074', concavity_mean='0.1554', concave points_mean='0.0834', symmetry_mean='0.1448', fractal_dimension_mean='0.05592', radius_se='0.524', texture_se='1.189', perimeter_se='3.767', area_se='70.01', smoothness_se='0.00502', compactness_se='0.02062', concavity_se='0.03457', concave points_se='0.01091', symmetry_se='0.01298', fractal_dimension_se='0.002887', radius_worst='24.47', texture_worst='37.38', perimeter_worst='162.7', area_worst='1872', smoothness_worst='0.1223', compactness_worst='0.2761', concavity_worst='0.4146', concave points_worst='0.1563', symmetry_worst='0.2437', fractal_dimension_worst='0.08328', _c32=None),\n",
              " Row(id='882488', diagnosis='B', radius_mean='9.567', texture_mean='15.91', perimeter_mean='60.21', area_mean='279.6', smoothness_mean='0.08464', compactness_mean='0.04087', concavity_mean='0.01652', concave points_mean='0.01667', symmetry_mean='0.1551', fractal_dimension_mean='0.06403', radius_se='0.2152', texture_se='0.8301', perimeter_se='1.215', area_se='12.64', smoothness_se='0.01164', compactness_se='0.0104', concavity_se='0.01186', concave points_se='0.009623', symmetry_se='0.02383', fractal_dimension_se='0.00354', radius_worst='10.51', texture_worst='19.16', perimeter_worst='65.74', area_worst='335.9', smoothness_worst='0.1504', compactness_worst='0.09515', concavity_worst='0.07161', concave points_worst='0.07222', symmetry_worst='0.2757', fractal_dimension_worst='0.08178', _c32=None),\n",
              " Row(id='88299702', diagnosis='M', radius_mean='23.21', texture_mean='26.97', perimeter_mean='153.5', area_mean='1670', smoothness_mean='0.09509', compactness_mean='0.1682', concavity_mean='0.195', concave points_mean='0.1237', symmetry_mean='0.1909', fractal_dimension_mean='0.06309', radius_se='1.058', texture_se='0.9635', perimeter_se='7.247', area_se='155.8', smoothness_se='0.006428', compactness_se='0.02863', concavity_se='0.04497', concave points_se='0.01716', symmetry_se='0.0159', fractal_dimension_se='0.003053', radius_worst='31.01', texture_worst='34.51', perimeter_worst='206', area_worst='2944', smoothness_worst='0.1481', compactness_worst='0.4126', concavity_worst='0.582', concave points_worst='0.2593', symmetry_worst='0.3103', fractal_dimension_worst='0.08677', _c32=None),\n",
              " Row(id='883263', diagnosis='M', radius_mean='20.48', texture_mean='21.46', perimeter_mean='132.5', area_mean='1306', smoothness_mean='0.08355', compactness_mean='0.08348', concavity_mean='0.09042', concave points_mean='0.06022', symmetry_mean='0.1467', fractal_dimension_mean='0.05177', radius_se='0.6874', texture_se='1.041', perimeter_se='5.144', area_se='83.5', smoothness_se='0.007959', compactness_se='0.03133', concavity_se='0.04257', concave points_se='0.01671', symmetry_se='0.01341', fractal_dimension_se='0.003933', radius_worst='24.22', texture_worst='26.17', perimeter_worst='161.7', area_worst='1750', smoothness_worst='0.1228', compactness_worst='0.2311', concavity_worst='0.3158', concave points_worst='0.1445', symmetry_worst='0.2238', fractal_dimension_worst='0.07127', _c32=None),\n",
              " Row(id='88330202', diagnosis='M', radius_mean='17.46', texture_mean='39.28', perimeter_mean='113.4', area_mean='920.6', smoothness_mean='0.09812', compactness_mean='0.1298', concavity_mean='0.1417', concave points_mean='0.08811', symmetry_mean='0.1809', fractal_dimension_mean='0.05966', radius_se='0.5366', texture_se='0.8561', perimeter_se='3.002', area_se='49', smoothness_se='0.00486', compactness_se='0.02785', concavity_se='0.02602', concave points_se='0.01374', symmetry_se='0.01226', fractal_dimension_se='0.002759', radius_worst='22.51', texture_worst='44.87', perimeter_worst='141.2', area_worst='1408', smoothness_worst='0.1365', compactness_worst='0.3735', concavity_worst='0.3241', concave points_worst='0.2066', symmetry_worst='0.2853', fractal_dimension_worst='0.08496', _c32=None),\n",
              " Row(id='88411702', diagnosis='B', radius_mean='13.75', texture_mean='23.77', perimeter_mean='88.54', area_mean='590', smoothness_mean='0.08043', compactness_mean='0.06807', concavity_mean='0.04697', concave points_mean='0.02344', symmetry_mean='0.1773', fractal_dimension_mean='0.05429', radius_se='0.4347', texture_se='1.057', perimeter_se='2.829', area_se='39.93', smoothness_se='0.004351', compactness_se='0.02667', concavity_se='0.03371', concave points_se='0.01007', symmetry_se='0.02598', fractal_dimension_se='0.003087', radius_worst='15.01', texture_worst='26.34', perimeter_worst='98', area_worst='706', smoothness_worst='0.09368', compactness_worst='0.1442', concavity_worst='0.1359', concave points_worst='0.06106', symmetry_worst='0.2663', fractal_dimension_worst='0.06321', _c32=None),\n",
              " Row(id='884180', diagnosis='M', radius_mean='19.4', texture_mean='23.5', perimeter_mean='129.1', area_mean='1155', smoothness_mean='0.1027', compactness_mean='0.1558', concavity_mean='0.2049', concave points_mean='0.08886', symmetry_mean='0.1978', fractal_dimension_mean='0.06', radius_se='0.5243', texture_se='1.802', perimeter_se='4.037', area_se='60.41', smoothness_se='0.01061', compactness_se='0.03252', concavity_se='0.03915', concave points_se='0.01559', symmetry_se='0.02186', fractal_dimension_se='0.003949', radius_worst='21.65', texture_worst='30.53', perimeter_worst='144.9', area_worst='1417', smoothness_worst='0.1463', compactness_worst='0.2968', concavity_worst='0.3458', concave points_worst='0.1564', symmetry_worst='0.292', fractal_dimension_worst='0.07614', _c32=None),\n",
              " Row(id='884437', diagnosis='B', radius_mean='10.48', texture_mean='19.86', perimeter_mean='66.72', area_mean='337.7', smoothness_mean='0.107', compactness_mean='0.05971', concavity_mean='0.04831', concave points_mean='0.0307', symmetry_mean='0.1737', fractal_dimension_mean='0.0644', radius_se='0.3719', texture_se='2.612', perimeter_se='2.517', area_se='23.22', smoothness_se='0.01604', compactness_se='0.01386', concavity_se='0.01865', concave points_se='0.01133', symmetry_se='0.03476', fractal_dimension_se='0.00356', radius_worst='11.48', texture_worst='29.46', perimeter_worst='73.68', area_worst='402.8', smoothness_worst='0.1515', compactness_worst='0.1026', concavity_worst='0.1181', concave points_worst='0.06736', symmetry_worst='0.2883', fractal_dimension_worst='0.07748', _c32=None),\n",
              " Row(id='884626', diagnosis='B', radius_mean='12.89', texture_mean='14.11', perimeter_mean='84.95', area_mean='512.2', smoothness_mean='0.0876', compactness_mean='0.1346', concavity_mean='0.1374', concave points_mean='0.0398', symmetry_mean='0.1596', fractal_dimension_mean='0.06409', radius_se='0.2025', texture_se='0.4402', perimeter_se='2.393', area_se='16.35', smoothness_se='0.005501', compactness_se='0.05592', concavity_se='0.08158', concave points_se='0.0137', symmetry_se='0.01266', fractal_dimension_se='0.007555', radius_worst='14.39', texture_worst='17.7', perimeter_worst='105', area_worst='639.1', smoothness_worst='0.1254', compactness_worst='0.5849', concavity_worst='0.7727', concave points_worst='0.1561', symmetry_worst='0.2639', fractal_dimension_worst='0.1178', _c32=None),\n",
              " Row(id='88466802', diagnosis='B', radius_mean='10.65', texture_mean='25.22', perimeter_mean='68.01', area_mean='347', smoothness_mean='0.09657', compactness_mean='0.07234', concavity_mean='0.02379', concave points_mean='0.01615', symmetry_mean='0.1897', fractal_dimension_mean='0.06329', radius_se='0.2497', texture_se='1.493', perimeter_se='1.497', area_se='16.64', smoothness_se='0.007189', compactness_se='0.01035', concavity_se='0.01081', concave points_se='0.006245', symmetry_se='0.02158', fractal_dimension_se='0.002619', radius_worst='12.25', texture_worst='35.19', perimeter_worst='77.98', area_worst='455.7', smoothness_worst='0.1499', compactness_worst='0.1398', concavity_worst='0.1125', concave points_worst='0.06136', symmetry_worst='0.3409', fractal_dimension_worst='0.08147', _c32=None),\n",
              " Row(id='884689', diagnosis='B', radius_mean='11.52', texture_mean='14.93', perimeter_mean='73.87', area_mean='406.3', smoothness_mean='0.1013', compactness_mean='0.07808', concavity_mean='0.04328', concave points_mean='0.02929', symmetry_mean='0.1883', fractal_dimension_mean='0.06168', radius_se='0.2562', texture_se='1.038', perimeter_se='1.686', area_se='18.62', smoothness_se='0.006662', compactness_se='0.01228', concavity_se='0.02105', concave points_se='0.01006', symmetry_se='0.01677', fractal_dimension_se='0.002784', radius_worst='12.65', texture_worst='21.19', perimeter_worst='80.88', area_worst='491.8', smoothness_worst='0.1389', compactness_worst='0.1582', concavity_worst='0.1804', concave points_worst='0.09608', symmetry_worst='0.2664', fractal_dimension_worst='0.07809', _c32=None),\n",
              " Row(id='884948', diagnosis='M', radius_mean='20.94', texture_mean='23.56', perimeter_mean='138.9', area_mean='1364', smoothness_mean='0.1007', compactness_mean='0.1606', concavity_mean='0.2712', concave points_mean='0.131', symmetry_mean='0.2205', fractal_dimension_mean='0.05898', radius_se='1.004', texture_se='0.8208', perimeter_se='6.372', area_se='137.9', smoothness_se='0.005283', compactness_se='0.03908', concavity_se='0.09518', concave points_se='0.01864', symmetry_se='0.02401', fractal_dimension_se='0.005002', radius_worst='25.58', texture_worst='27', perimeter_worst='165.3', area_worst='2010', smoothness_worst='0.1211', compactness_worst='0.3172', concavity_worst='0.6991', concave points_worst='0.2105', symmetry_worst='0.3126', fractal_dimension_worst='0.07849', _c32=None),\n",
              " Row(id='8860702', diagnosis='M', radius_mean='17.3', texture_mean='17.08', perimeter_mean='113', area_mean='928.2', smoothness_mean='0.1008', compactness_mean='0.1041', concavity_mean='0.1266', concave points_mean='0.08353', symmetry_mean='0.1813', fractal_dimension_mean='0.05613', radius_se='0.3093', texture_se='0.8568', perimeter_se='2.193', area_se='33.63', smoothness_se='0.004757', compactness_se='0.01503', concavity_se='0.02332', concave points_se='0.01262', symmetry_se='0.01394', fractal_dimension_se='0.002362', radius_worst='19.85', texture_worst='25.09', perimeter_worst='130.9', area_worst='1222', smoothness_worst='0.1416', compactness_worst='0.2405', concavity_worst='0.3378', concave points_worst='0.1857', symmetry_worst='0.3138', fractal_dimension_worst='0.08113', _c32=None),\n",
              " Row(id='886226', diagnosis='M', radius_mean='19.45', texture_mean='19.33', perimeter_mean='126.5', area_mean='1169', smoothness_mean='0.1035', compactness_mean='0.1188', concavity_mean='0.1379', concave points_mean='0.08591', symmetry_mean='0.1776', fractal_dimension_mean='0.05647', radius_se='0.5959', texture_se='0.6342', perimeter_se='3.797', area_se='71', smoothness_se='0.004649', compactness_se='0.018', concavity_se='0.02749', concave points_se='0.01267', symmetry_se='0.01365', fractal_dimension_se='0.00255', radius_worst='25.7', texture_worst='24.57', perimeter_worst='163.1', area_worst='1972', smoothness_worst='0.1497', compactness_worst='0.3161', concavity_worst='0.4317', concave points_worst='0.1999', symmetry_worst='0.3379', fractal_dimension_worst='0.0895', _c32=None),\n",
              " Row(id='88649001', diagnosis='M', radius_mean='19.55', texture_mean='28.77', perimeter_mean='133.6', area_mean='1207', smoothness_mean='0.0926', compactness_mean='0.2063', concavity_mean='0.1784', concave points_mean='0.1144', symmetry_mean='0.1893', fractal_dimension_mean='0.06232', radius_se='0.8426', texture_se='1.199', perimeter_se='7.158', area_se='106.4', smoothness_se='0.006356', compactness_se='0.04765', concavity_se='0.03863', concave points_se='0.01519', symmetry_se='0.01936', fractal_dimension_se='0.005252', radius_worst='25.05', texture_worst='36.27', perimeter_worst='178.6', area_worst='1926', smoothness_worst='0.1281', compactness_worst='0.5329', concavity_worst='0.4251', concave points_worst='0.1941', symmetry_worst='0.2818', fractal_dimension_worst='0.1005', _c32=None),\n",
              " Row(id='886776', diagnosis='M', radius_mean='15.32', texture_mean='17.27', perimeter_mean='103.2', area_mean='713.3', smoothness_mean='0.1335', compactness_mean='0.2284', concavity_mean='0.2448', concave points_mean='0.1242', symmetry_mean='0.2398', fractal_dimension_mean='0.07596', radius_se='0.6592', texture_se='1.059', perimeter_se='4.061', area_se='59.46', smoothness_se='0.01015', compactness_se='0.04588', concavity_se='0.04983', concave points_se='0.02127', symmetry_se='0.01884', fractal_dimension_se='0.00866', radius_worst='17.73', texture_worst='22.66', perimeter_worst='119.8', area_worst='928.8', smoothness_worst='0.1765', compactness_worst='0.4503', concavity_worst='0.4429', concave points_worst='0.2229', symmetry_worst='0.3258', fractal_dimension_worst='0.1191', _c32=None),\n",
              " Row(id='887181', diagnosis='M', radius_mean='15.66', texture_mean='23.2', perimeter_mean='110.2', area_mean='773.5', smoothness_mean='0.1109', compactness_mean='0.3114', concavity_mean='0.3176', concave points_mean='0.1377', symmetry_mean='0.2495', fractal_dimension_mean='0.08104', radius_se='1.292', texture_se='2.454', perimeter_se='10.12', area_se='138.5', smoothness_se='0.01236', compactness_se='0.05995', concavity_se='0.08232', concave points_se='0.03024', symmetry_se='0.02337', fractal_dimension_se='0.006042', radius_worst='19.85', texture_worst='31.64', perimeter_worst='143.7', area_worst='1226', smoothness_worst='0.1504', compactness_worst='0.5172', concavity_worst='0.6181', concave points_worst='0.2462', symmetry_worst='0.3277', fractal_dimension_worst='0.1019', _c32=None),\n",
              " Row(id='88725602', diagnosis='M', radius_mean='15.53', texture_mean='33.56', perimeter_mean='103.7', area_mean='744.9', smoothness_mean='0.1063', compactness_mean='0.1639', concavity_mean='0.1751', concave points_mean='0.08399', symmetry_mean='0.2091', fractal_dimension_mean='0.0665', radius_se='0.2419', texture_se='1.278', perimeter_se='1.903', area_se='23.02', smoothness_se='0.005345', compactness_se='0.02556', concavity_se='0.02889', concave points_se='0.01022', symmetry_se='0.009947', fractal_dimension_se='0.003359', radius_worst='18.49', texture_worst='49.54', perimeter_worst='126.3', area_worst='1035', smoothness_worst='0.1883', compactness_worst='0.5564', concavity_worst='0.5703', concave points_worst='0.2014', symmetry_worst='0.3512', fractal_dimension_worst='0.1204', _c32=None),\n",
              " Row(id='887549', diagnosis='M', radius_mean='20.31', texture_mean='27.06', perimeter_mean='132.9', area_mean='1288', smoothness_mean='0.1', compactness_mean='0.1088', concavity_mean='0.1519', concave points_mean='0.09333', symmetry_mean='0.1814', fractal_dimension_mean='0.05572', radius_se='0.3977', texture_se='1.033', perimeter_se='2.587', area_se='52.34', smoothness_se='0.005043', compactness_se='0.01578', concavity_se='0.02117', concave points_se='0.008185', symmetry_se='0.01282', fractal_dimension_se='0.001892', radius_worst='24.33', texture_worst='39.16', perimeter_worst='162.3', area_worst='1844', smoothness_worst='0.1522', compactness_worst='0.2945', concavity_worst='0.3788', concave points_worst='0.1697', symmetry_worst='0.3151', fractal_dimension_worst='0.07999', _c32=None),\n",
              " Row(id='888570', diagnosis='M', radius_mean='17.29', texture_mean='22.13', perimeter_mean='114.4', area_mean='947.8', smoothness_mean='0.08999', compactness_mean='0.1273', concavity_mean='0.09697', concave points_mean='0.07507', symmetry_mean='0.2108', fractal_dimension_mean='0.05464', radius_se='0.8348', texture_se='1.633', perimeter_se='6.146', area_se='90.94', smoothness_se='0.006717', compactness_se='0.05981', concavity_se='0.04638', concave points_se='0.02149', symmetry_se='0.02747', fractal_dimension_se='0.005838', radius_worst='20.39', texture_worst='27.24', perimeter_worst='137.9', area_worst='1295', smoothness_worst='0.1134', compactness_worst='0.2867', concavity_worst='0.2298', concave points_worst='0.1528', symmetry_worst='0.3067', fractal_dimension_worst='0.07484', _c32=None),\n",
              " Row(id='889403', diagnosis='M', radius_mean='15.61', texture_mean='19.38', perimeter_mean='100', area_mean='758.6', smoothness_mean='0.0784', compactness_mean='0.05616', concavity_mean='0.04209', concave points_mean='0.02847', symmetry_mean='0.1547', fractal_dimension_mean='0.05443', radius_se='0.2298', texture_se='0.9988', perimeter_se='1.534', area_se='22.18', smoothness_se='0.002826', compactness_se='0.009105', concavity_se='0.01311', concave points_se='0.005174', symmetry_se='0.01013', fractal_dimension_se='0.001345', radius_worst='17.91', texture_worst='31.67', perimeter_worst='115.9', area_worst='988.6', smoothness_worst='0.1084', compactness_worst='0.1807', concavity_worst='0.226', concave points_worst='0.08568', symmetry_worst='0.2683', fractal_dimension_worst='0.06829', _c32=None),\n",
              " Row(id='889719', diagnosis='M', radius_mean='17.19', texture_mean='22.07', perimeter_mean='111.6', area_mean='928.3', smoothness_mean='0.09726', compactness_mean='0.08995', concavity_mean='0.09061', concave points_mean='0.06527', symmetry_mean='0.1867', fractal_dimension_mean='0.0558', radius_se='0.4203', texture_se='0.7383', perimeter_se='2.819', area_se='45.42', smoothness_se='0.004493', compactness_se='0.01206', concavity_se='0.02048', concave points_se='0.009875', symmetry_se='0.01144', fractal_dimension_se='0.001575', radius_worst='21.58', texture_worst='29.33', perimeter_worst='140.5', area_worst='1436', smoothness_worst='0.1558', compactness_worst='0.2567', concavity_worst='0.3889', concave points_worst='0.1984', symmetry_worst='0.3216', fractal_dimension_worst='0.0757', _c32=None),\n",
              " Row(id='88995002', diagnosis='M', radius_mean='20.73', texture_mean='31.12', perimeter_mean='135.7', area_mean='1419', smoothness_mean='0.09469', compactness_mean='0.1143', concavity_mean='0.1367', concave points_mean='0.08646', symmetry_mean='0.1769', fractal_dimension_mean='0.05674', radius_se='1.172', texture_se='1.617', perimeter_se='7.749', area_se='199.7', smoothness_se='0.004551', compactness_se='0.01478', concavity_se='0.02143', concave points_se='0.00928', symmetry_se='0.01367', fractal_dimension_se='0.002299', radius_worst='32.49', texture_worst='47.16', perimeter_worst='214', area_worst='3432', smoothness_worst='0.1401', compactness_worst='0.2644', concavity_worst='0.3442', concave points_worst='0.1659', symmetry_worst='0.2868', fractal_dimension_worst='0.08218', _c32=None),\n",
              " Row(id='8910720', diagnosis='B', radius_mean='10.71', texture_mean='20.39', perimeter_mean='69.5', area_mean='344.9', smoothness_mean='0.1082', compactness_mean='0.1289', concavity_mean='0.08448', concave points_mean='0.02867', symmetry_mean='0.1668', fractal_dimension_mean='0.06862', radius_se='0.3198', texture_se='1.489', perimeter_se='2.23', area_se='20.74', smoothness_se='0.008902', compactness_se='0.04785', concavity_se='0.07339', concave points_se='0.01745', symmetry_se='0.02728', fractal_dimension_se='0.00761', radius_worst='11.69', texture_worst='25.21', perimeter_worst='76.51', area_worst='410.4', smoothness_worst='0.1335', compactness_worst='0.255', concavity_worst='0.2534', concave points_worst='0.086', symmetry_worst='0.2605', fractal_dimension_worst='0.08701', _c32=None),\n",
              " Row(id='8910988', diagnosis='M', radius_mean='21.75', texture_mean='20.99', perimeter_mean='147.3', area_mean='1491', smoothness_mean='0.09401', compactness_mean='0.1961', concavity_mean='0.2195', concave points_mean='0.1088', symmetry_mean='0.1721', fractal_dimension_mean='0.06194', radius_se='1.167', texture_se='1.352', perimeter_se='8.867', area_se='156.8', smoothness_se='0.005687', compactness_se='0.0496', concavity_se='0.06329', concave points_se='0.01561', symmetry_se='0.01924', fractal_dimension_se='0.004614', radius_worst='28.19', texture_worst='28.18', perimeter_worst='195.9', area_worst='2384', smoothness_worst='0.1272', compactness_worst='0.4725', concavity_worst='0.5807', concave points_worst='0.1841', symmetry_worst='0.2833', fractal_dimension_worst='0.08858', _c32=None),\n",
              " Row(id='8910996', diagnosis='B', radius_mean='9.742', texture_mean='15.67', perimeter_mean='61.5', area_mean='289.9', smoothness_mean='0.09037', compactness_mean='0.04689', concavity_mean='0.01103', concave points_mean='0.01407', symmetry_mean='0.2081', fractal_dimension_mean='0.06312', radius_se='0.2684', texture_se='1.409', perimeter_se='1.75', area_se='16.39', smoothness_se='0.0138', compactness_se='0.01067', concavity_se='0.008347', concave points_se='0.009472', symmetry_se='0.01798', fractal_dimension_se='0.004261', radius_worst='10.75', texture_worst='20.88', perimeter_worst='68.09', area_worst='355.2', smoothness_worst='0.1467', compactness_worst='0.0937', concavity_worst='0.04043', concave points_worst='0.05159', symmetry_worst='0.2841', fractal_dimension_worst='0.08175', _c32=None),\n",
              " Row(id='8911230', diagnosis='B', radius_mean='11.33', texture_mean='14.16', perimeter_mean='71.79', area_mean='396.6', smoothness_mean='0.09379', compactness_mean='0.03872', concavity_mean='0.001487', concave points_mean='0.003333', symmetry_mean='0.1954', fractal_dimension_mean='0.05821', radius_se='0.2375', texture_se='1.28', perimeter_se='1.565', area_se='17.09', smoothness_se='0.008426', compactness_se='0.008998', concavity_se='0.001487', concave points_se='0.003333', symmetry_se='0.02358', fractal_dimension_se='0.001627', radius_worst='12.2', texture_worst='18.99', perimeter_worst='77.37', area_worst='458', smoothness_worst='0.1259', compactness_worst='0.07348', concavity_worst='0.004955', concave points_worst='0.01111', symmetry_worst='0.2758', fractal_dimension_worst='0.06386', _c32=None),\n",
              " Row(id='8912049', diagnosis='M', radius_mean='19.16', texture_mean='26.6', perimeter_mean='126.2', area_mean='1138', smoothness_mean='0.102', compactness_mean='0.1453', concavity_mean='0.1921', concave points_mean='0.09664', symmetry_mean='0.1902', fractal_dimension_mean='0.0622', radius_se='0.6361', texture_se='1.001', perimeter_se='4.321', area_se='69.65', smoothness_se='0.007392', compactness_se='0.02449', concavity_se='0.03988', concave points_se='0.01293', symmetry_se='0.01435', fractal_dimension_se='0.003446', radius_worst='23.72', texture_worst='35.9', perimeter_worst='159.8', area_worst='1724', smoothness_worst='0.1782', compactness_worst='0.3841', concavity_worst='0.5754', concave points_worst='0.1872', symmetry_worst='0.3258', fractal_dimension_worst='0.0972', _c32=None),\n",
              " Row(id='8912280', diagnosis='M', radius_mean='16.24', texture_mean='18.77', perimeter_mean='108.8', area_mean='805.1', smoothness_mean='0.1066', compactness_mean='0.1802', concavity_mean='0.1948', concave points_mean='0.09052', symmetry_mean='0.1876', fractal_dimension_mean='0.06684', radius_se='0.2873', texture_se='0.9173', perimeter_se='2.464', area_se='28.09', smoothness_se='0.004563', compactness_se='0.03481', concavity_se='0.03872', concave points_se='0.01209', symmetry_se='0.01388', fractal_dimension_se='0.004081', radius_worst='18.55', texture_worst='25.09', perimeter_worst='126.9', area_worst='1031', smoothness_worst='0.1365', compactness_worst='0.4706', concavity_worst='0.5026', concave points_worst='0.1732', symmetry_worst='0.277', fractal_dimension_worst='0.1063', _c32=None),\n",
              " Row(id='8912284', diagnosis='B', radius_mean='12.89', texture_mean='15.7', perimeter_mean='84.08', area_mean='516.6', smoothness_mean='0.07818', compactness_mean='0.0958', concavity_mean='0.1115', concave points_mean='0.0339', symmetry_mean='0.1432', fractal_dimension_mean='0.05935', radius_se='0.2913', texture_se='1.389', perimeter_se='2.347', area_se='23.29', smoothness_se='0.006418', compactness_se='0.03961', concavity_se='0.07927', concave points_se='0.01774', symmetry_se='0.01878', fractal_dimension_se='0.003696', radius_worst='13.9', texture_worst='19.69', perimeter_worst='92.12', area_worst='595.6', smoothness_worst='0.09926', compactness_worst='0.2317', concavity_worst='0.3344', concave points_worst='0.1017', symmetry_worst='0.1999', fractal_dimension_worst='0.07127', _c32=None),\n",
              " Row(id='8912521', diagnosis='B', radius_mean='12.58', texture_mean='18.4', perimeter_mean='79.83', area_mean='489', smoothness_mean='0.08393', compactness_mean='0.04216', concavity_mean='0.00186', concave points_mean='0.002924', symmetry_mean='0.1697', fractal_dimension_mean='0.05855', radius_se='0.2719', texture_se='1.35', perimeter_se='1.721', area_se='22.45', smoothness_se='0.006383', compactness_se='0.008008', concavity_se='0.00186', concave points_se='0.002924', symmetry_se='0.02571', fractal_dimension_se='0.002015', radius_worst='13.5', texture_worst='23.08', perimeter_worst='85.56', area_worst='564.1', smoothness_worst='0.1038', compactness_worst='0.06624', concavity_worst='0.005579', concave points_worst='0.008772', symmetry_worst='0.2505', fractal_dimension_worst='0.06431', _c32=None),\n",
              " Row(id='8912909', diagnosis='B', radius_mean='11.94', texture_mean='20.76', perimeter_mean='77.87', area_mean='441', smoothness_mean='0.08605', compactness_mean='0.1011', concavity_mean='0.06574', concave points_mean='0.03791', symmetry_mean='0.1588', fractal_dimension_mean='0.06766', radius_se='0.2742', texture_se='1.39', perimeter_se='3.198', area_se='21.91', smoothness_se='0.006719', compactness_se='0.05156', concavity_se='0.04387', concave points_se='0.01633', symmetry_se='0.01872', fractal_dimension_se='0.008015', radius_worst='13.24', texture_worst='27.29', perimeter_worst='92.2', area_worst='546.1', smoothness_worst='0.1116', compactness_worst='0.2813', concavity_worst='0.2365', concave points_worst='0.1155', symmetry_worst='0.2465', fractal_dimension_worst='0.09981', _c32=None),\n",
              " Row(id='8913', diagnosis='B', radius_mean='12.89', texture_mean='13.12', perimeter_mean='81.89', area_mean='515.9', smoothness_mean='0.06955', compactness_mean='0.03729', concavity_mean='0.0226', concave points_mean='0.01171', symmetry_mean='0.1337', fractal_dimension_mean='0.05581', radius_se='0.1532', texture_se='0.469', perimeter_se='1.115', area_se='12.68', smoothness_se='0.004731', compactness_se='0.01345', concavity_se='0.01652', concave points_se='0.005905', symmetry_se='0.01619', fractal_dimension_se='0.002081', radius_worst='13.62', texture_worst='15.54', perimeter_worst='87.4', area_worst='577', smoothness_worst='0.09616', compactness_worst='0.1147', concavity_worst='0.1186', concave points_worst='0.05366', symmetry_worst='0.2309', fractal_dimension_worst='0.06915', _c32=None),\n",
              " Row(id='89143601', diagnosis='B', radius_mean='11.37', texture_mean='18.89', perimeter_mean='72.17', area_mean='396', smoothness_mean='0.08713', compactness_mean='0.05008', concavity_mean='0.02399', concave points_mean='0.02173', symmetry_mean='0.2013', fractal_dimension_mean='0.05955', radius_se='0.2656', texture_se='1.974', perimeter_se='1.954', area_se='17.49', smoothness_se='0.006538', compactness_se='0.01395', concavity_se='0.01376', concave points_se='0.009924', symmetry_se='0.03416', fractal_dimension_se='0.002928', radius_worst='12.36', texture_worst='26.14', perimeter_worst='79.29', area_worst='459.3', smoothness_worst='0.1118', compactness_worst='0.09708', concavity_worst='0.07529', concave points_worst='0.06203', symmetry_worst='0.3267', fractal_dimension_worst='0.06994', _c32=None),\n",
              " Row(id='8915', diagnosis='B', radius_mean='14.96', texture_mean='19.1', perimeter_mean='97.03', area_mean='687.3', smoothness_mean='0.08992', compactness_mean='0.09823', concavity_mean='0.0594', concave points_mean='0.04819', symmetry_mean='0.1879', fractal_dimension_mean='0.05852', radius_se='0.2877', texture_se='0.948', perimeter_se='2.171', area_se='24.87', smoothness_se='0.005332', compactness_se='0.02115', concavity_se='0.01536', concave points_se='0.01187', symmetry_se='0.01522', fractal_dimension_se='0.002815', radius_worst='16.25', texture_worst='26.19', perimeter_worst='109.1', area_worst='809.8', smoothness_worst='0.1313', compactness_worst='0.303', concavity_worst='0.1804', concave points_worst='0.1489', symmetry_worst='0.2962', fractal_dimension_worst='0.08472', _c32=None),\n",
              " Row(id='891670', diagnosis='B', radius_mean='12.95', texture_mean='16.02', perimeter_mean='83.14', area_mean='513.7', smoothness_mean='0.1005', compactness_mean='0.07943', concavity_mean='0.06155', concave points_mean='0.0337', symmetry_mean='0.173', fractal_dimension_mean='0.0647', radius_se='0.2094', texture_se='0.7636', perimeter_se='1.231', area_se='17.67', smoothness_se='0.008725', compactness_se='0.02003', concavity_se='0.02335', concave points_se='0.01132', symmetry_se='0.02625', fractal_dimension_se='0.004726', radius_worst='13.74', texture_worst='19.93', perimeter_worst='88.81', area_worst='585.4', smoothness_worst='0.1483', compactness_worst='0.2068', concavity_worst='0.2241', concave points_worst='0.1056', symmetry_worst='0.338', fractal_dimension_worst='0.09584', _c32=None),\n",
              " Row(id='891703', diagnosis='B', radius_mean='11.85', texture_mean='17.46', perimeter_mean='75.54', area_mean='432.7', smoothness_mean='0.08372', compactness_mean='0.05642', concavity_mean='0.02688', concave points_mean='0.0228', symmetry_mean='0.1875', fractal_dimension_mean='0.05715', radius_se='0.207', texture_se='1.238', perimeter_se='1.234', area_se='13.88', smoothness_se='0.007595', compactness_se='0.015', concavity_se='0.01412', concave points_se='0.008578', symmetry_se='0.01792', fractal_dimension_se='0.001784', radius_worst='13.06', texture_worst='25.75', perimeter_worst='84.35', area_worst='517.8', smoothness_worst='0.1369', compactness_worst='0.1758', concavity_worst='0.1316', concave points_worst='0.0914', symmetry_worst='0.3101', fractal_dimension_worst='0.07007', _c32=None),\n",
              " Row(id='891716', diagnosis='B', radius_mean='12.72', texture_mean='13.78', perimeter_mean='81.78', area_mean='492.1', smoothness_mean='0.09667', compactness_mean='0.08393', concavity_mean='0.01288', concave points_mean='0.01924', symmetry_mean='0.1638', fractal_dimension_mean='0.061', radius_se='0.1807', texture_se='0.6931', perimeter_se='1.34', area_se='13.38', smoothness_se='0.006064', compactness_se='0.0118', concavity_se='0.006564', concave points_se='0.007978', symmetry_se='0.01374', fractal_dimension_se='0.001392', radius_worst='13.5', texture_worst='17.48', perimeter_worst='88.54', area_worst='553.7', smoothness_worst='0.1298', compactness_worst='0.1472', concavity_worst='0.05233', concave points_worst='0.06343', symmetry_worst='0.2369', fractal_dimension_worst='0.06922', _c32=None),\n",
              " Row(id='892399', diagnosis='B', radius_mean='10.51', texture_mean='23.09', perimeter_mean='66.85', area_mean='334.2', smoothness_mean='0.1015', compactness_mean='0.06797', concavity_mean='0.02495', concave points_mean='0.01875', symmetry_mean='0.1695', fractal_dimension_mean='0.06556', radius_se='0.2868', texture_se='1.143', perimeter_se='2.289', area_se='20.56', smoothness_se='0.01017', compactness_se='0.01443', concavity_se='0.01861', concave points_se='0.0125', symmetry_se='0.03464', fractal_dimension_se='0.001971', radius_worst='10.93', texture_worst='24.22', perimeter_worst='70.1', area_worst='362.7', smoothness_worst='0.1143', compactness_worst='0.08614', concavity_worst='0.04158', concave points_worst='0.03125', symmetry_worst='0.2227', fractal_dimension_worst='0.06777', _c32=None),\n",
              " Row(id='892657', diagnosis='B', radius_mean='10.49', texture_mean='18.61', perimeter_mean='66.86', area_mean='334.3', smoothness_mean='0.1068', compactness_mean='0.06678', concavity_mean='0.02297', concave points_mean='0.0178', symmetry_mean='0.1482', fractal_dimension_mean='0.066', radius_se='0.1485', texture_se='1.563', perimeter_se='1.035', area_se='10.08', smoothness_se='0.008875', compactness_se='0.009362', concavity_se='0.01808', concave points_se='0.009199', symmetry_se='0.01791', fractal_dimension_se='0.003317', radius_worst='11.06', texture_worst='24.54', perimeter_worst='70.76', area_worst='375.4', smoothness_worst='0.1413', compactness_worst='0.1044', concavity_worst='0.08423', concave points_worst='0.06528', symmetry_worst='0.2213', fractal_dimension_worst='0.07842', _c32=None),\n",
              " Row(id='89296', diagnosis='B', radius_mean='11.46', texture_mean='18.16', perimeter_mean='73.59', area_mean='403.1', smoothness_mean='0.08853', compactness_mean='0.07694', concavity_mean='0.03344', concave points_mean='0.01502', symmetry_mean='0.1411', fractal_dimension_mean='0.06243', radius_se='0.3278', texture_se='1.059', perimeter_se='2.475', area_se='22.93', smoothness_se='0.006652', compactness_se='0.02652', concavity_se='0.02221', concave points_se='0.007807', symmetry_se='0.01894', fractal_dimension_se='0.003411', radius_worst='12.68', texture_worst='21.61', perimeter_worst='82.69', area_worst='489.8', smoothness_worst='0.1144', compactness_worst='0.1789', concavity_worst='0.1226', concave points_worst='0.05509', symmetry_worst='0.2208', fractal_dimension_worst='0.07638', _c32=None),\n",
              " Row(id='893061', diagnosis='B', radius_mean='11.6', texture_mean='24.49', perimeter_mean='74.23', area_mean='417.2', smoothness_mean='0.07474', compactness_mean='0.05688', concavity_mean='0.01974', concave points_mean='0.01313', symmetry_mean='0.1935', fractal_dimension_mean='0.05878', radius_se='0.2512', texture_se='1.786', perimeter_se='1.961', area_se='18.21', smoothness_se='0.006122', compactness_se='0.02337', concavity_se='0.01596', concave points_se='0.006998', symmetry_se='0.03194', fractal_dimension_se='0.002211', radius_worst='12.44', texture_worst='31.62', perimeter_worst='81.39', area_worst='476.5', smoothness_worst='0.09545', compactness_worst='0.1361', concavity_worst='0.07239', concave points_worst='0.04815', symmetry_worst='0.3244', fractal_dimension_worst='0.06745', _c32=None),\n",
              " Row(id='893783', diagnosis='B', radius_mean='11.7', texture_mean='19.11', perimeter_mean='74.33', area_mean='418.7', smoothness_mean='0.08814', compactness_mean='0.05253', concavity_mean='0.01583', concave points_mean='0.01148', symmetry_mean='0.1936', fractal_dimension_mean='0.06128', radius_se='0.1601', texture_se='1.43', perimeter_se='1.109', area_se='11.28', smoothness_se='0.006064', compactness_se='0.00911', concavity_se='0.01042', concave points_se='0.007638', symmetry_se='0.02349', fractal_dimension_se='0.001661', radius_worst='12.61', texture_worst='26.55', perimeter_worst='80.92', area_worst='483.1', smoothness_worst='0.1223', compactness_worst='0.1087', concavity_worst='0.07915', concave points_worst='0.05741', symmetry_worst='0.3487', fractal_dimension_worst='0.06958', _c32=None),\n",
              " Row(id='89382602', diagnosis='B', radius_mean='12.76', texture_mean='13.37', perimeter_mean='82.29', area_mean='504.1', smoothness_mean='0.08794', compactness_mean='0.07948', concavity_mean='0.04052', concave points_mean='0.02548', symmetry_mean='0.1601', fractal_dimension_mean='0.0614', radius_se='0.3265', texture_se='0.6594', perimeter_se='2.346', area_se='25.18', smoothness_se='0.006494', compactness_se='0.02768', concavity_se='0.03137', concave points_se='0.01069', symmetry_se='0.01731', fractal_dimension_se='0.004392', radius_worst='14.19', texture_worst='16.4', perimeter_worst='92.04', area_worst='618.8', smoothness_worst='0.1194', compactness_worst='0.2208', concavity_worst='0.1769', concave points_worst='0.08411', symmetry_worst='0.2564', fractal_dimension_worst='0.08253', _c32=None),\n",
              " Row(id='893988', diagnosis='B', radius_mean='11.54', texture_mean='10.72', perimeter_mean='73.73', area_mean='409.1', smoothness_mean='0.08597', compactness_mean='0.05969', concavity_mean='0.01367', concave points_mean='0.008907', symmetry_mean='0.1833', fractal_dimension_mean='0.061', radius_se='0.1312', texture_se='0.3602', perimeter_se='1.107', area_se='9.438', smoothness_se='0.004124', compactness_se='0.0134', concavity_se='0.01003', concave points_se='0.004667', symmetry_se='0.02032', fractal_dimension_se='0.001952', radius_worst='12.34', texture_worst='12.87', perimeter_worst='81.23', area_worst='467.8', smoothness_worst='0.1092', compactness_worst='0.1626', concavity_worst='0.08324', concave points_worst='0.04715', symmetry_worst='0.339', fractal_dimension_worst='0.07434', _c32=None),\n",
              " Row(id='894089', diagnosis='B', radius_mean='12.49', texture_mean='16.85', perimeter_mean='79.19', area_mean='481.6', smoothness_mean='0.08511', compactness_mean='0.03834', concavity_mean='0.004473', concave points_mean='0.006423', symmetry_mean='0.1215', fractal_dimension_mean='0.05673', radius_se='0.1716', texture_se='0.7151', perimeter_se='1.047', area_se='12.69', smoothness_se='0.004928', compactness_se='0.003012', concavity_se='0.00262', concave points_se='0.00339', symmetry_se='0.01393', fractal_dimension_se='0.001344', radius_worst='13.34', texture_worst='19.71', perimeter_worst='84.48', area_worst='544.2', smoothness_worst='0.1104', compactness_worst='0.04953', concavity_worst='0.01938', concave points_worst='0.02784', symmetry_worst='0.1917', fractal_dimension_worst='0.06174', _c32=None),\n",
              " Row(id='894329', diagnosis='B', radius_mean='9.042', texture_mean='18.9', perimeter_mean='60.07', area_mean='244.5', smoothness_mean='0.09968', compactness_mean='0.1972', concavity_mean='0.1975', concave points_mean='0.04908', symmetry_mean='0.233', fractal_dimension_mean='0.08743', radius_se='0.4653', texture_se='1.911', perimeter_se='3.769', area_se='24.2', smoothness_se='0.009845', compactness_se='0.0659', concavity_se='0.1027', concave points_se='0.02527', symmetry_se='0.03491', fractal_dimension_se='0.007877', radius_worst='10.06', texture_worst='23.4', perimeter_worst='68.62', area_worst='297.1', smoothness_worst='0.1221', compactness_worst='0.3748', concavity_worst='0.4609', concave points_worst='0.1145', symmetry_worst='0.3135', fractal_dimension_worst='0.1055', _c32=None),\n",
              " Row(id='894335', diagnosis='B', radius_mean='12.43', texture_mean='17', perimeter_mean='78.6', area_mean='477.3', smoothness_mean='0.07557', compactness_mean='0.03454', concavity_mean='0.01342', concave points_mean='0.01699', symmetry_mean='0.1472', fractal_dimension_mean='0.05561', radius_se='0.3778', texture_se='2.2', perimeter_se='2.487', area_se='31.16', smoothness_se='0.007357', compactness_se='0.01079', concavity_se='0.009959', concave points_se='0.0112', symmetry_se='0.03433', fractal_dimension_se='0.002961', radius_worst='12.9', texture_worst='20.21', perimeter_worst='81.76', area_worst='515.9', smoothness_worst='0.08409', compactness_worst='0.04712', concavity_worst='0.02237', concave points_worst='0.02832', symmetry_worst='0.1901', fractal_dimension_worst='0.05932', _c32=None),\n",
              " Row(id='894604', diagnosis='B', radius_mean='10.25', texture_mean='16.18', perimeter_mean='66.52', area_mean='324.2', smoothness_mean='0.1061', compactness_mean='0.1111', concavity_mean='0.06726', concave points_mean='0.03965', symmetry_mean='0.1743', fractal_dimension_mean='0.07279', radius_se='0.3677', texture_se='1.471', perimeter_se='1.597', area_se='22.68', smoothness_se='0.01049', compactness_se='0.04265', concavity_se='0.04004', concave points_se='0.01544', symmetry_se='0.02719', fractal_dimension_se='0.007596', radius_worst='11.28', texture_worst='20.61', perimeter_worst='71.53', area_worst='390.4', smoothness_worst='0.1402', compactness_worst='0.236', concavity_worst='0.1898', concave points_worst='0.09744', symmetry_worst='0.2608', fractal_dimension_worst='0.09702', _c32=None),\n",
              " Row(id='895100', diagnosis='M', radius_mean='20.34', texture_mean='21.51', perimeter_mean='135.9', area_mean='1264', smoothness_mean='0.117', compactness_mean='0.1875', concavity_mean='0.2565', concave points_mean='0.1504', symmetry_mean='0.2569', fractal_dimension_mean='0.0667', radius_se='0.5702', texture_se='1.023', perimeter_se='4.012', area_se='69.06', smoothness_se='0.005485', compactness_se='0.02431', concavity_se='0.0319', concave points_se='0.01369', symmetry_se='0.02768', fractal_dimension_se='0.003345', radius_worst='25.3', texture_worst='31.86', perimeter_worst='171.1', area_worst='1938', smoothness_worst='0.1592', compactness_worst='0.4492', concavity_worst='0.5344', concave points_worst='0.2685', symmetry_worst='0.5558', fractal_dimension_worst='0.1024', _c32=None),\n",
              " Row(id='89511502', diagnosis='B', radius_mean='12.67', texture_mean='17.3', perimeter_mean='81.25', area_mean='489.9', smoothness_mean='0.1028', compactness_mean='0.07664', concavity_mean='0.03193', concave points_mean='0.02107', symmetry_mean='0.1707', fractal_dimension_mean='0.05984', radius_se='0.21', texture_se='0.9505', perimeter_se='1.566', area_se='17.61', smoothness_se='0.006809', compactness_se='0.009514', concavity_se='0.01329', concave points_se='0.006474', symmetry_se='0.02057', fractal_dimension_se='0.001784', radius_worst='13.71', texture_worst='21.1', perimeter_worst='88.7', area_worst='574.4', smoothness_worst='0.1384', compactness_worst='0.1212', concavity_worst='0.102', concave points_worst='0.05602', symmetry_worst='0.2688', fractal_dimension_worst='0.06888', _c32=None),\n",
              " Row(id='89524', diagnosis='B', radius_mean='14.11', texture_mean='12.88', perimeter_mean='90.03', area_mean='616.5', smoothness_mean='0.09309', compactness_mean='0.05306', concavity_mean='0.01765', concave points_mean='0.02733', symmetry_mean='0.1373', fractal_dimension_mean='0.057', radius_se='0.2571', texture_se='1.081', perimeter_se='1.558', area_se='23.92', smoothness_se='0.006692', compactness_se='0.01132', concavity_se='0.005717', concave points_se='0.006627', symmetry_se='0.01416', fractal_dimension_se='0.002476', radius_worst='15.53', texture_worst='18', perimeter_worst='98.4', area_worst='749.9', smoothness_worst='0.1281', compactness_worst='0.1109', concavity_worst='0.05307', concave points_worst='0.0589', symmetry_worst='0.21', fractal_dimension_worst='0.07083', _c32=None),\n",
              " Row(id='895299', diagnosis='B', radius_mean='12.03', texture_mean='17.93', perimeter_mean='76.09', area_mean='446', smoothness_mean='0.07683', compactness_mean='0.03892', concavity_mean='0.001546', concave points_mean='0.005592', symmetry_mean='0.1382', fractal_dimension_mean='0.0607', radius_se='0.2335', texture_se='0.9097', perimeter_se='1.466', area_se='16.97', smoothness_se='0.004729', compactness_se='0.006887', concavity_se='0.001184', concave points_se='0.003951', symmetry_se='0.01466', fractal_dimension_se='0.001755', radius_worst='13.07', texture_worst='22.25', perimeter_worst='82.74', area_worst='523.4', smoothness_worst='0.1013', compactness_worst='0.0739', concavity_worst='0.007732', concave points_worst='0.02796', symmetry_worst='0.2171', fractal_dimension_worst='0.07037', _c32=None),\n",
              " Row(id='8953902', diagnosis='M', radius_mean='16.27', texture_mean='20.71', perimeter_mean='106.9', area_mean='813.7', smoothness_mean='0.1169', compactness_mean='0.1319', concavity_mean='0.1478', concave points_mean='0.08488', symmetry_mean='0.1948', fractal_dimension_mean='0.06277', radius_se='0.4375', texture_se='1.232', perimeter_se='3.27', area_se='44.41', smoothness_se='0.006697', compactness_se='0.02083', concavity_se='0.03248', concave points_se='0.01392', symmetry_se='0.01536', fractal_dimension_se='0.002789', radius_worst='19.28', texture_worst='30.38', perimeter_worst='129.8', area_worst='1121', smoothness_worst='0.159', compactness_worst='0.2947', concavity_worst='0.3597', concave points_worst='0.1583', symmetry_worst='0.3103', fractal_dimension_worst='0.082', _c32=None),\n",
              " Row(id='897374', diagnosis='B', radius_mean='12.3', texture_mean='19.02', perimeter_mean='77.88', area_mean='464.4', smoothness_mean='0.08313', compactness_mean='0.04202', concavity_mean='0.007756', concave points_mean='0.008535', symmetry_mean='0.1539', fractal_dimension_mean='0.05945', radius_se='0.184', texture_se='1.532', perimeter_se='1.199', area_se='13.24', smoothness_se='0.007881', compactness_se='0.008432', concavity_se='0.007004', concave points_se='0.006522', symmetry_se='0.01939', fractal_dimension_se='0.002222', radius_worst='13.35', texture_worst='28.46', perimeter_worst='84.53', area_worst='544.3', smoothness_worst='0.1222', compactness_worst='0.09052', concavity_worst='0.03619', concave points_worst='0.03983', symmetry_worst='0.2554', fractal_dimension_worst='0.07207', _c32=None),\n",
              " Row(id='89742801', diagnosis='M', radius_mean='17.06', texture_mean='21', perimeter_mean='111.8', area_mean='918.6', smoothness_mean='0.1119', compactness_mean='0.1056', concavity_mean='0.1508', concave points_mean='0.09934', symmetry_mean='0.1727', fractal_dimension_mean='0.06071', radius_se='0.8161', texture_se='2.129', perimeter_se='6.076', area_se='87.17', smoothness_se='0.006455', compactness_se='0.01797', concavity_se='0.04502', concave points_se='0.01744', symmetry_se='0.01829', fractal_dimension_se='0.003733', radius_worst='20.99', texture_worst='33.15', perimeter_worst='143.2', area_worst='1362', smoothness_worst='0.1449', compactness_worst='0.2053', concavity_worst='0.392', concave points_worst='0.1827', symmetry_worst='0.2623', fractal_dimension_worst='0.07599', _c32=None),\n",
              " Row(id='897630', diagnosis='M', radius_mean='18.77', texture_mean='21.43', perimeter_mean='122.9', area_mean='1092', smoothness_mean='0.09116', compactness_mean='0.1402', concavity_mean='0.106', concave points_mean='0.0609', symmetry_mean='0.1953', fractal_dimension_mean='0.06083', radius_se='0.6422', texture_se='1.53', perimeter_se='4.369', area_se='88.25', smoothness_se='0.007548', compactness_se='0.03897', concavity_se='0.03914', concave points_se='0.01816', symmetry_se='0.02168', fractal_dimension_se='0.004445', radius_worst='24.54', texture_worst='34.37', perimeter_worst='161.1', area_worst='1873', smoothness_worst='0.1498', compactness_worst='0.4827', concavity_worst='0.4634', concave points_worst='0.2048', symmetry_worst='0.3679', fractal_dimension_worst='0.0987', _c32=None),\n",
              " Row(id='897880', diagnosis='B', radius_mean='10.05', texture_mean='17.53', perimeter_mean='64.41', area_mean='310.8', smoothness_mean='0.1007', compactness_mean='0.07326', concavity_mean='0.02511', concave points_mean='0.01775', symmetry_mean='0.189', fractal_dimension_mean='0.06331', radius_se='0.2619', texture_se='2.015', perimeter_se='1.778', area_se='16.85', smoothness_se='0.007803', compactness_se='0.01449', concavity_se='0.0169', concave points_se='0.008043', symmetry_se='0.021', fractal_dimension_se='0.002778', radius_worst='11.16', texture_worst='26.84', perimeter_worst='71.98', area_worst='384', smoothness_worst='0.1402', compactness_worst='0.1402', concavity_worst='0.1055', concave points_worst='0.06499', symmetry_worst='0.2894', fractal_dimension_worst='0.07664', _c32=None),\n",
              " Row(id='89812', diagnosis='M', radius_mean='23.51', texture_mean='24.27', perimeter_mean='155.1', area_mean='1747', smoothness_mean='0.1069', compactness_mean='0.1283', concavity_mean='0.2308', concave points_mean='0.141', symmetry_mean='0.1797', fractal_dimension_mean='0.05506', radius_se='1.009', texture_se='0.9245', perimeter_se='6.462', area_se='164.1', smoothness_se='0.006292', compactness_se='0.01971', concavity_se='0.03582', concave points_se='0.01301', symmetry_se='0.01479', fractal_dimension_se='0.003118', radius_worst='30.67', texture_worst='30.73', perimeter_worst='202.4', area_worst='2906', smoothness_worst='0.1515', compactness_worst='0.2678', concavity_worst='0.4819', concave points_worst='0.2089', symmetry_worst='0.2593', fractal_dimension_worst='0.07738', _c32=None),\n",
              " Row(id='89827', diagnosis='B', radius_mean='11.06', texture_mean='14.96', perimeter_mean='71.49', area_mean='373.9', smoothness_mean='0.1033', compactness_mean='0.09097', concavity_mean='0.05397', concave points_mean='0.03341', symmetry_mean='0.1776', fractal_dimension_mean='0.06907', radius_se='0.1601', texture_se='0.8225', perimeter_se='1.355', area_se='10.8', smoothness_se='0.007416', compactness_se='0.01877', concavity_se='0.02758', concave points_se='0.0101', symmetry_se='0.02348', fractal_dimension_se='0.002917', radius_worst='11.92', texture_worst='19.9', perimeter_worst='79.76', area_worst='440', smoothness_worst='0.1418', compactness_worst='0.221', concavity_worst='0.2299', concave points_worst='0.1075', symmetry_worst='0.3301', fractal_dimension_worst='0.0908', _c32=None),\n",
              " Row(id='898431', diagnosis='M', radius_mean='19.68', texture_mean='21.68', perimeter_mean='129.9', area_mean='1194', smoothness_mean='0.09797', compactness_mean='0.1339', concavity_mean='0.1863', concave points_mean='0.1103', symmetry_mean='0.2082', fractal_dimension_mean='0.05715', radius_se='0.6226', texture_se='2.284', perimeter_se='5.173', area_se='67.66', smoothness_se='0.004756', compactness_se='0.03368', concavity_se='0.04345', concave points_se='0.01806', symmetry_se='0.03756', fractal_dimension_se='0.003288', radius_worst='22.75', texture_worst='34.66', perimeter_worst='157.6', area_worst='1540', smoothness_worst='0.1218', compactness_worst='0.3458', concavity_worst='0.4734', concave points_worst='0.2255', symmetry_worst='0.4045', fractal_dimension_worst='0.07918', _c32=None),\n",
              " Row(id='898690', diagnosis='B', radius_mean='11.47', texture_mean='16.03', perimeter_mean='73.02', area_mean='402.7', smoothness_mean='0.09076', compactness_mean='0.05886', concavity_mean='0.02587', concave points_mean='0.02322', symmetry_mean='0.1634', fractal_dimension_mean='0.06372', radius_se='0.1707', texture_se='0.7615', perimeter_se='1.09', area_se='12.25', smoothness_se='0.009191', compactness_se='0.008548', concavity_se='0.0094', concave points_se='0.006315', symmetry_se='0.01755', fractal_dimension_se='0.003009', radius_worst='12.51', texture_worst='20.79', perimeter_worst='79.67', area_worst='475.8', smoothness_worst='0.1531', compactness_worst='0.112', concavity_worst='0.09823', concave points_worst='0.06548', symmetry_worst='0.2851', fractal_dimension_worst='0.08763', _c32=None),\n",
              " Row(id='899147', diagnosis='B', radius_mean='11.95', texture_mean='14.96', perimeter_mean='77.23', area_mean='426.7', smoothness_mean='0.1158', compactness_mean='0.1206', concavity_mean='0.01171', concave points_mean='0.01787', symmetry_mean='0.2459', fractal_dimension_mean='0.06581', radius_se='0.361', texture_se='1.05', perimeter_se='2.455', area_se='26.65', smoothness_se='0.0058', compactness_se='0.02417', concavity_se='0.007816', concave points_se='0.01052', symmetry_se='0.02734', fractal_dimension_se='0.003114', radius_worst='12.81', texture_worst='17.72', perimeter_worst='83.09', area_worst='496.2', smoothness_worst='0.1293', compactness_worst='0.1885', concavity_worst='0.03122', concave points_worst='0.04766', symmetry_worst='0.3124', fractal_dimension_worst='0.0759', _c32=None),\n",
              " Row(id='899987', diagnosis='M', radius_mean='25.73', texture_mean='17.46', perimeter_mean='174.2', area_mean='2010', smoothness_mean='0.1149', compactness_mean='0.2363', concavity_mean='0.3368', concave points_mean='0.1913', symmetry_mean='0.1956', fractal_dimension_mean='0.06121', radius_se='0.9948', texture_se='0.8509', perimeter_se='7.222', area_se='153.1', smoothness_se='0.006369', compactness_se='0.04243', concavity_se='0.04266', concave points_se='0.01508', symmetry_se='0.02335', fractal_dimension_se='0.003385', radius_worst='33.13', texture_worst='23.58', perimeter_worst='229.3', area_worst='3234', smoothness_worst='0.153', compactness_worst='0.5937', concavity_worst='0.6451', concave points_worst='0.2756', symmetry_worst='0.369', fractal_dimension_worst='0.08815', _c32=None),\n",
              " Row(id='901011', diagnosis='B', radius_mean='11.14', texture_mean='14.07', perimeter_mean='71.24', area_mean='384.6', smoothness_mean='0.07274', compactness_mean='0.06064', concavity_mean='0.04505', concave points_mean='0.01471', symmetry_mean='0.169', fractal_dimension_mean='0.06083', radius_se='0.4222', texture_se='0.8092', perimeter_se='3.33', area_se='28.84', smoothness_se='0.005541', compactness_se='0.03387', concavity_se='0.04505', concave points_se='0.01471', symmetry_se='0.03102', fractal_dimension_se='0.004831', radius_worst='12.12', texture_worst='15.82', perimeter_worst='79.62', area_worst='453.5', smoothness_worst='0.08864', compactness_worst='0.1256', concavity_worst='0.1201', concave points_worst='0.03922', symmetry_worst='0.2576', fractal_dimension_worst='0.07018', _c32=None),\n",
              " Row(id='9010258', diagnosis='B', radius_mean='12.56', texture_mean='19.07', perimeter_mean='81.92', area_mean='485.8', smoothness_mean='0.0876', compactness_mean='0.1038', concavity_mean='0.103', concave points_mean='0.04391', symmetry_mean='0.1533', fractal_dimension_mean='0.06184', radius_se='0.3602', texture_se='1.478', perimeter_se='3.212', area_se='27.49', smoothness_se='0.009853', compactness_se='0.04235', concavity_se='0.06271', concave points_se='0.01966', symmetry_se='0.02639', fractal_dimension_se='0.004205', radius_worst='13.37', texture_worst='22.43', perimeter_worst='89.02', area_worst='547.4', smoothness_worst='0.1096', compactness_worst='0.2002', concavity_worst='0.2388', concave points_worst='0.09265', symmetry_worst='0.2121', fractal_dimension_worst='0.07188', _c32=None),\n",
              " Row(id='9010259', diagnosis='B', radius_mean='13.05', texture_mean='18.59', perimeter_mean='85.09', area_mean='512', smoothness_mean='0.1082', compactness_mean='0.1304', concavity_mean='0.09603', concave points_mean='0.05603', symmetry_mean='0.2035', fractal_dimension_mean='0.06501', radius_se='0.3106', texture_se='1.51', perimeter_se='2.59', area_se='21.57', smoothness_se='0.007807', compactness_se='0.03932', concavity_se='0.05112', concave points_se='0.01876', symmetry_se='0.0286', fractal_dimension_se='0.005715', radius_worst='14.19', texture_worst='24.85', perimeter_worst='94.22', area_worst='591.2', smoothness_worst='0.1343', compactness_worst='0.2658', concavity_worst='0.2573', concave points_worst='0.1258', symmetry_worst='0.3113', fractal_dimension_worst='0.08317', _c32=None),\n",
              " Row(id='901028', diagnosis='B', radius_mean='13.87', texture_mean='16.21', perimeter_mean='88.52', area_mean='593.7', smoothness_mean='0.08743', compactness_mean='0.05492', concavity_mean='0.01502', concave points_mean='0.02088', symmetry_mean='0.1424', fractal_dimension_mean='0.05883', radius_se='0.2543', texture_se='1.363', perimeter_se='1.737', area_se='20.74', smoothness_se='0.005638', compactness_se='0.007939', concavity_se='0.005254', concave points_se='0.006042', symmetry_se='0.01544', fractal_dimension_se='0.002087', radius_worst='15.11', texture_worst='25.58', perimeter_worst='96.74', area_worst='694.4', smoothness_worst='0.1153', compactness_worst='0.1008', concavity_worst='0.05285', concave points_worst='0.05556', symmetry_worst='0.2362', fractal_dimension_worst='0.07113', _c32=None),\n",
              " Row(id='9010333', diagnosis='B', radius_mean='8.878', texture_mean='15.49', perimeter_mean='56.74', area_mean='241', smoothness_mean='0.08293', compactness_mean='0.07698', concavity_mean='0.04721', concave points_mean='0.02381', symmetry_mean='0.193', fractal_dimension_mean='0.06621', radius_se='0.5381', texture_se='1.2', perimeter_se='4.277', area_se='30.18', smoothness_se='0.01093', compactness_se='0.02899', concavity_se='0.03214', concave points_se='0.01506', symmetry_se='0.02837', fractal_dimension_se='0.004174', radius_worst='9.981', texture_worst='17.7', perimeter_worst='65.27', area_worst='302', smoothness_worst='0.1015', compactness_worst='0.1248', concavity_worst='0.09441', concave points_worst='0.04762', symmetry_worst='0.2434', fractal_dimension_worst='0.07431', _c32=None),\n",
              " Row(id='901034301', diagnosis='B', radius_mean='9.436', texture_mean='18.32', perimeter_mean='59.82', area_mean='278.6', smoothness_mean='0.1009', compactness_mean='0.05956', concavity_mean='0.0271', concave points_mean='0.01406', symmetry_mean='0.1506', fractal_dimension_mean='0.06959', radius_se='0.5079', texture_se='1.247', perimeter_se='3.267', area_se='30.48', smoothness_se='0.006836', compactness_se='0.008982', concavity_se='0.02348', concave points_se='0.006565', symmetry_se='0.01942', fractal_dimension_se='0.002713', radius_worst='12.02', texture_worst='25.02', perimeter_worst='75.79', area_worst='439.6', smoothness_worst='0.1333', compactness_worst='0.1049', concavity_worst='0.1144', concave points_worst='0.05052', symmetry_worst='0.2454', fractal_dimension_worst='0.08136', _c32=None),\n",
              " Row(id='901041', diagnosis='B', radius_mean='13.3', texture_mean='21.57', perimeter_mean='85.24', area_mean='546.1', smoothness_mean='0.08582', compactness_mean='0.06373', concavity_mean='0.03344', concave points_mean='0.02424', symmetry_mean='0.1815', fractal_dimension_mean='0.05696', radius_se='0.2621', texture_se='1.539', perimeter_se='2.028', area_se='20.98', smoothness_se='0.005498', compactness_se='0.02045', concavity_se='0.01795', concave points_se='0.006399', symmetry_se='0.01829', fractal_dimension_se='0.001956', radius_worst='14.2', texture_worst='29.2', perimeter_worst='92.94', area_worst='621.2', smoothness_worst='0.114', compactness_worst='0.1667', concavity_worst='0.1212', concave points_worst='0.05614', symmetry_worst='0.2637', fractal_dimension_worst='0.06658', _c32=None),\n",
              " Row(id='9010598', diagnosis='B', radius_mean='12.76', texture_mean='18.84', perimeter_mean='81.87', area_mean='496.6', smoothness_mean='0.09676', compactness_mean='0.07952', concavity_mean='0.02688', concave points_mean='0.01781', symmetry_mean='0.1759', fractal_dimension_mean='0.06183', radius_se='0.2213', texture_se='1.285', perimeter_se='1.535', area_se='17.26', smoothness_se='0.005608', compactness_se='0.01646', concavity_se='0.01529', concave points_se='0.009997', symmetry_se='0.01909', fractal_dimension_se='0.002133', radius_worst='13.75', texture_worst='25.99', perimeter_worst='87.82', area_worst='579.7', smoothness_worst='0.1298', compactness_worst='0.1839', concavity_worst='0.1255', concave points_worst='0.08312', symmetry_worst='0.2744', fractal_dimension_worst='0.07238', _c32=None),\n",
              " Row(id='9010872', diagnosis='B', radius_mean='16.5', texture_mean='18.29', perimeter_mean='106.6', area_mean='838.1', smoothness_mean='0.09686', compactness_mean='0.08468', concavity_mean='0.05862', concave points_mean='0.04835', symmetry_mean='0.1495', fractal_dimension_mean='0.05593', radius_se='0.3389', texture_se='1.439', perimeter_se='2.344', area_se='33.58', smoothness_se='0.007257', compactness_se='0.01805', concavity_se='0.01832', concave points_se='0.01033', symmetry_se='0.01694', fractal_dimension_se='0.002001', radius_worst='18.13', texture_worst='25.45', perimeter_worst='117.2', area_worst='1009', smoothness_worst='0.1338', compactness_worst='0.1679', concavity_worst='0.1663', concave points_worst='0.09123', symmetry_worst='0.2394', fractal_dimension_worst='0.06469', _c32=None),\n",
              " Row(id='9011495', diagnosis='B', radius_mean='12.21', texture_mean='18.02', perimeter_mean='78.31', area_mean='458.4', smoothness_mean='0.09231', compactness_mean='0.07175', concavity_mean='0.04392', concave points_mean='0.02027', symmetry_mean='0.1695', fractal_dimension_mean='0.05916', radius_se='0.2527', texture_se='0.7786', perimeter_se='1.874', area_se='18.57', smoothness_se='0.005833', compactness_se='0.01388', concavity_se='0.02', concave points_se='0.007087', symmetry_se='0.01938', fractal_dimension_se='0.00196', radius_worst='14.29', texture_worst='24.04', perimeter_worst='93.85', area_worst='624.6', smoothness_worst='0.1368', compactness_worst='0.217', concavity_worst='0.2413', concave points_worst='0.08829', symmetry_worst='0.3218', fractal_dimension_worst='0.0747', _c32=None),\n",
              " Row(id='9012000', diagnosis='M', radius_mean='22.01', texture_mean='21.9', perimeter_mean='147.2', area_mean='1482', smoothness_mean='0.1063', compactness_mean='0.1954', concavity_mean='0.2448', concave points_mean='0.1501', symmetry_mean='0.1824', fractal_dimension_mean='0.0614', radius_se='1.008', texture_se='0.6999', perimeter_se='7.561', area_se='130.2', smoothness_se='0.003978', compactness_se='0.02821', concavity_se='0.03576', concave points_se='0.01471', symmetry_se='0.01518', fractal_dimension_se='0.003796', radius_worst='27.66', texture_worst='25.8', perimeter_worst='195', area_worst='2227', smoothness_worst='0.1294', compactness_worst='0.3885', concavity_worst='0.4756', concave points_worst='0.2432', symmetry_worst='0.2741', fractal_dimension_worst='0.08574', _c32=None),\n",
              " Row(id='9012315', diagnosis='M', radius_mean='16.35', texture_mean='23.29', perimeter_mean='109', area_mean='840.4', smoothness_mean='0.09742', compactness_mean='0.1497', concavity_mean='0.1811', concave points_mean='0.08773', symmetry_mean='0.2175', fractal_dimension_mean='0.06218', radius_se='0.4312', texture_se='1.022', perimeter_se='2.972', area_se='45.5', smoothness_se='0.005635', compactness_se='0.03917', concavity_se='0.06072', concave points_se='0.01656', symmetry_se='0.03197', fractal_dimension_se='0.004085', radius_worst='19.38', texture_worst='31.03', perimeter_worst='129.3', area_worst='1165', smoothness_worst='0.1415', compactness_worst='0.4665', concavity_worst='0.7087', concave points_worst='0.2248', symmetry_worst='0.4824', fractal_dimension_worst='0.09614', _c32=None),\n",
              " Row(id='901288', diagnosis='M', radius_mean='20.64', texture_mean='17.35', perimeter_mean='134.8', area_mean='1335', smoothness_mean='0.09446', compactness_mean='0.1076', concavity_mean='0.1527', concave points_mean='0.08941', symmetry_mean='0.1571', fractal_dimension_mean='0.05478', radius_se='0.6137', texture_se='0.6575', perimeter_se='4.119', area_se='77.02', smoothness_se='0.006211', compactness_se='0.01895', concavity_se='0.02681', concave points_se='0.01232', symmetry_se='0.01276', fractal_dimension_se='0.001711', radius_worst='25.37', texture_worst='23.17', perimeter_worst='166.8', area_worst='1946', smoothness_worst='0.1562', compactness_worst='0.3055', concavity_worst='0.4159', concave points_worst='0.2112', symmetry_worst='0.2689', fractal_dimension_worst='0.07055', _c32=None),\n",
              " Row(id='901303', diagnosis='B', radius_mean='16.17', texture_mean='16.07', perimeter_mean='106.3', area_mean='788.5', smoothness_mean='0.0988', compactness_mean='0.1438', concavity_mean='0.06651', concave points_mean='0.05397', symmetry_mean='0.199', fractal_dimension_mean='0.06572', radius_se='0.1745', texture_se='0.489', perimeter_se='1.349', area_se='14.91', smoothness_se='0.00451', compactness_se='0.01812', concavity_se='0.01951', concave points_se='0.01196', symmetry_se='0.01934', fractal_dimension_se='0.003696', radius_worst='16.97', texture_worst='19.14', perimeter_worst='113.1', area_worst='861.5', smoothness_worst='0.1235', compactness_worst='0.255', concavity_worst='0.2114', concave points_worst='0.1251', symmetry_worst='0.3153', fractal_dimension_worst='0.0896', _c32=None),\n",
              " Row(id='901315', diagnosis='B', radius_mean='10.57', texture_mean='20.22', perimeter_mean='70.15', area_mean='338.3', smoothness_mean='0.09073', compactness_mean='0.166', concavity_mean='0.228', concave points_mean='0.05941', symmetry_mean='0.2188', fractal_dimension_mean='0.0845', radius_se='0.1115', texture_se='1.231', perimeter_se='2.363', area_se='7.228', smoothness_se='0.008499', compactness_se='0.07643', concavity_se='0.1535', concave points_se='0.02919', symmetry_se='0.01617', fractal_dimension_se='0.0122', radius_worst='10.85', texture_worst='22.82', perimeter_worst='76.51', area_worst='351.9', smoothness_worst='0.1143', compactness_worst='0.3619', concavity_worst='0.603', concave points_worst='0.1465', symmetry_worst='0.2597', fractal_dimension_worst='0.12', _c32=None),\n",
              " Row(id='9013594', diagnosis='B', radius_mean='13.66', texture_mean='15.15', perimeter_mean='88.27', area_mean='580.6', smoothness_mean='0.08268', compactness_mean='0.07548', concavity_mean='0.04249', concave points_mean='0.02471', symmetry_mean='0.1792', fractal_dimension_mean='0.05897', radius_se='0.1402', texture_se='0.5417', perimeter_se='1.101', area_se='11.35', smoothness_se='0.005212', compactness_se='0.02984', concavity_se='0.02443', concave points_se='0.008356', symmetry_se='0.01818', fractal_dimension_se='0.004868', radius_worst='14.54', texture_worst='19.64', perimeter_worst='97.96', area_worst='657', smoothness_worst='0.1275', compactness_worst='0.3104', concavity_worst='0.2569', concave points_worst='0.1054', symmetry_worst='0.3387', fractal_dimension_worst='0.09638', _c32=None),\n",
              " Row(id='90250', diagnosis='B', radius_mean='12.05', texture_mean='22.72', perimeter_mean='78.75', area_mean='447.8', smoothness_mean='0.06935', compactness_mean='0.1073', concavity_mean='0.07943', concave points_mean='0.02978', symmetry_mean='0.1203', fractal_dimension_mean='0.06659', radius_se='0.1194', texture_se='1.434', perimeter_se='1.778', area_se='9.549', smoothness_se='0.005042', compactness_se='0.0456', concavity_se='0.04305', concave points_se='0.01667', symmetry_se='0.0247', fractal_dimension_se='0.007358', radius_worst='12.57', texture_worst='28.71', perimeter_worst='87.36', area_worst='488.4', smoothness_worst='0.08799', compactness_worst='0.3214', concavity_worst='0.2912', concave points_worst='0.1092', symmetry_worst='0.2191', fractal_dimension_worst='0.09349', _c32=None),\n",
              " Row(id='90251', diagnosis='B', radius_mean='12.39', texture_mean='17.48', perimeter_mean='80.64', area_mean='462.9', smoothness_mean='0.1042', compactness_mean='0.1297', concavity_mean='0.05892', concave points_mean='0.0288', symmetry_mean='0.1779', fractal_dimension_mean='0.06588', radius_se='0.2608', texture_se='0.873', perimeter_se='2.117', area_se='19.2', smoothness_se='0.006715', compactness_se='0.03705', concavity_se='0.04757', concave points_se='0.01051', symmetry_se='0.01838', fractal_dimension_se='0.006884', radius_worst='14.18', texture_worst='23.13', perimeter_worst='95.23', area_worst='600.5', smoothness_worst='0.1427', compactness_worst='0.3593', concavity_worst='0.3206', concave points_worst='0.09804', symmetry_worst='0.2819', fractal_dimension_worst='0.1118', _c32=None),\n",
              " Row(id='90291', diagnosis='M', radius_mean='14.6', texture_mean='23.29', perimeter_mean='93.97', area_mean='664.7', smoothness_mean='0.08682', compactness_mean='0.06636', concavity_mean='0.0839', concave points_mean='0.05271', symmetry_mean='0.1627', fractal_dimension_mean='0.05416', radius_se='0.4157', texture_se='1.627', perimeter_se='2.914', area_se='33.01', smoothness_se='0.008312', compactness_se='0.01742', concavity_se='0.03389', concave points_se='0.01576', symmetry_se='0.0174', fractal_dimension_se='0.002871', radius_worst='15.79', texture_worst='31.71', perimeter_worst='102.2', area_worst='758.2', smoothness_worst='0.1312', compactness_worst='0.1581', concavity_worst='0.2675', concave points_worst='0.1359', symmetry_worst='0.2477', fractal_dimension_worst='0.06836', _c32=None),\n",
              " Row(id='902976', diagnosis='B', radius_mean='13.88', texture_mean='16.16', perimeter_mean='88.37', area_mean='596.6', smoothness_mean='0.07026', compactness_mean='0.04831', concavity_mean='0.02045', concave points_mean='0.008507', symmetry_mean='0.1607', fractal_dimension_mean='0.05474', radius_se='0.2541', texture_se='0.6218', perimeter_se='1.709', area_se='23.12', smoothness_se='0.003728', compactness_se='0.01415', concavity_se='0.01988', concave points_se='0.007016', symmetry_se='0.01647', fractal_dimension_se='0.00197', radius_worst='15.51', texture_worst='19.97', perimeter_worst='99.66', area_worst='745.3', smoothness_worst='0.08484', compactness_worst='0.1233', concavity_worst='0.1091', concave points_worst='0.04537', symmetry_worst='0.2542', fractal_dimension_worst='0.06623', _c32=None),\n",
              " Row(id='903011', diagnosis='B', radius_mean='11.27', texture_mean='15.5', perimeter_mean='73.38', area_mean='392', smoothness_mean='0.08365', compactness_mean='0.1114', concavity_mean='0.1007', concave points_mean='0.02757', symmetry_mean='0.181', fractal_dimension_mean='0.07252', radius_se='0.3305', texture_se='1.067', perimeter_se='2.569', area_se='22.97', smoothness_se='0.01038', compactness_se='0.06669', concavity_se='0.09472', concave points_se='0.02047', symmetry_se='0.01219', fractal_dimension_se='0.01233', radius_worst='12.04', texture_worst='18.93', perimeter_worst='79.73', area_worst='450', smoothness_worst='0.1102', compactness_worst='0.2809', concavity_worst='0.3021', concave points_worst='0.08272', symmetry_worst='0.2157', fractal_dimension_worst='0.1043', _c32=None),\n",
              " Row(id='903483', diagnosis='B', radius_mean='8.734', texture_mean='16.84', perimeter_mean='55.27', area_mean='234.3', smoothness_mean='0.1039', compactness_mean='0.07428', concavity_mean='0', concave points_mean='0', symmetry_mean='0.1985', fractal_dimension_mean='0.07098', radius_se='0.5169', texture_se='2.079', perimeter_se='3.167', area_se='28.85', smoothness_se='0.01582', compactness_se='0.01966', concavity_se='0', concave points_se='0', symmetry_se='0.01865', fractal_dimension_se='0.006736', radius_worst='10.17', texture_worst='22.8', perimeter_worst='64.01', area_worst='317', smoothness_worst='0.146', compactness_worst='0.131', concavity_worst='0', concave points_worst='0', symmetry_worst='0.2445', fractal_dimension_worst='0.08865', _c32=None),\n",
              " Row(id='903516', diagnosis='M', radius_mean='21.61', texture_mean='22.28', perimeter_mean='144.4', area_mean='1407', smoothness_mean='0.1167', compactness_mean='0.2087', concavity_mean='0.281', concave points_mean='0.1562', symmetry_mean='0.2162', fractal_dimension_mean='0.06606', radius_se='0.6242', texture_se='0.9209', perimeter_se='4.158', area_se='80.99', smoothness_se='0.005215', compactness_se='0.03726', concavity_se='0.04718', concave points_se='0.01288', symmetry_se='0.02045', fractal_dimension_se='0.004028', radius_worst='26.23', texture_worst='28.74', perimeter_worst='172', area_worst='2081', smoothness_worst='0.1502', compactness_worst='0.5717', concavity_worst='0.7053', concave points_worst='0.2422', symmetry_worst='0.3828', fractal_dimension_worst='0.1007', _c32=None),\n",
              " Row(id='90401602', diagnosis='B', radius_mean='12.8', texture_mean='17.46', perimeter_mean='83.05', area_mean='508.3', smoothness_mean='0.08044', compactness_mean='0.08895', concavity_mean='0.0739', concave points_mean='0.04083', symmetry_mean='0.1574', fractal_dimension_mean='0.0575', radius_se='0.3639', texture_se='1.265', perimeter_se='2.668', area_se='30.57', smoothness_se='0.005421', compactness_se='0.03477', concavity_se='0.04545', concave points_se='0.01384', symmetry_se='0.01869', fractal_dimension_se='0.004067', radius_worst='13.74', texture_worst='21.06', perimeter_worst='90.72', area_worst='591', smoothness_worst='0.09534', compactness_worst='0.1812', concavity_worst='0.1901', concave points_worst='0.08296', symmetry_worst='0.1988', fractal_dimension_worst='0.07053', _c32=None),\n",
              " Row(id='904302', diagnosis='B', radius_mean='11.06', texture_mean='14.83', perimeter_mean='70.31', area_mean='378.2', smoothness_mean='0.07741', compactness_mean='0.04768', concavity_mean='0.02712', concave points_mean='0.007246', symmetry_mean='0.1535', fractal_dimension_mean='0.06214', radius_se='0.1855', texture_se='0.6881', perimeter_se='1.263', area_se='12.98', smoothness_se='0.004259', compactness_se='0.01469', concavity_se='0.0194', concave points_se='0.004168', symmetry_se='0.01191', fractal_dimension_se='0.003537', radius_worst='12.68', texture_worst='20.35', perimeter_worst='80.79', area_worst='496.7', smoothness_worst='0.112', compactness_worst='0.1879', concavity_worst='0.2079', concave points_worst='0.05556', symmetry_worst='0.259', fractal_dimension_worst='0.09158', _c32=None),\n",
              " Row(id='904971', diagnosis='B', radius_mean='10.94', texture_mean='18.59', perimeter_mean='70.39', area_mean='370', smoothness_mean='0.1004', compactness_mean='0.0746', concavity_mean='0.04944', concave points_mean='0.02932', symmetry_mean='0.1486', fractal_dimension_mean='0.06615', radius_se='0.3796', texture_se='1.743', perimeter_se='3.018', area_se='25.78', smoothness_se='0.009519', compactness_se='0.02134', concavity_se='0.0199', concave points_se='0.01155', symmetry_se='0.02079', fractal_dimension_se='0.002701', radius_worst='12.4', texture_worst='25.58', perimeter_worst='82.76', area_worst='472.4', smoothness_worst='0.1363', compactness_worst='0.1644', concavity_worst='0.1412', concave points_worst='0.07887', symmetry_worst='0.2251', fractal_dimension_worst='0.07732', _c32=None),\n",
              " Row(id='905189', diagnosis='B', radius_mean='16.14', texture_mean='14.86', perimeter_mean='104.3', area_mean='800', smoothness_mean='0.09495', compactness_mean='0.08501', concavity_mean='0.055', concave points_mean='0.04528', symmetry_mean='0.1735', fractal_dimension_mean='0.05875', radius_se='0.2387', texture_se='0.6372', perimeter_se='1.729', area_se='21.83', smoothness_se='0.003958', compactness_se='0.01246', concavity_se='0.01831', concave points_se='0.008747', symmetry_se='0.015', fractal_dimension_se='0.001621', radius_worst='17.71', texture_worst='19.58', perimeter_worst='115.9', area_worst='947.9', smoothness_worst='0.1206', compactness_worst='0.1722', concavity_worst='0.231', concave points_worst='0.1129', symmetry_worst='0.2778', fractal_dimension_worst='0.07012', _c32=None),\n",
              " Row(id='905190', diagnosis='B', radius_mean='12.85', texture_mean='21.37', perimeter_mean='82.63', area_mean='514.5', smoothness_mean='0.07551', compactness_mean='0.08316', concavity_mean='0.06126', concave points_mean='0.01867', symmetry_mean='0.158', fractal_dimension_mean='0.06114', radius_se='0.4993', texture_se='1.798', perimeter_se='2.552', area_se='41.24', smoothness_se='0.006011', compactness_se='0.0448', concavity_se='0.05175', concave points_se='0.01341', symmetry_se='0.02669', fractal_dimension_se='0.007731', radius_worst='14.4', texture_worst='27.01', perimeter_worst='91.63', area_worst='645.8', smoothness_worst='0.09402', compactness_worst='0.1936', concavity_worst='0.1838', concave points_worst='0.05601', symmetry_worst='0.2488', fractal_dimension_worst='0.08151', _c32=None),\n",
              " Row(id='90524101', diagnosis='M', radius_mean='17.99', texture_mean='20.66', perimeter_mean='117.8', area_mean='991.7', smoothness_mean='0.1036', compactness_mean='0.1304', concavity_mean='0.1201', concave points_mean='0.08824', symmetry_mean='0.1992', fractal_dimension_mean='0.06069', radius_se='0.4537', texture_se='0.8733', perimeter_se='3.061', area_se='49.81', smoothness_se='0.007231', compactness_se='0.02772', concavity_se='0.02509', concave points_se='0.0148', symmetry_se='0.01414', fractal_dimension_se='0.003336', radius_worst='21.08', texture_worst='25.41', perimeter_worst='138.1', area_worst='1349', smoothness_worst='0.1482', compactness_worst='0.3735', concavity_worst='0.3301', concave points_worst='0.1974', symmetry_worst='0.306', fractal_dimension_worst='0.08503', _c32=None),\n",
              " Row(id='905501', diagnosis='B', radius_mean='12.27', texture_mean='17.92', perimeter_mean='78.41', area_mean='466.1', smoothness_mean='0.08685', compactness_mean='0.06526', concavity_mean='0.03211', concave points_mean='0.02653', symmetry_mean='0.1966', fractal_dimension_mean='0.05597', radius_se='0.3342', texture_se='1.781', perimeter_se='2.079', area_se='25.79', smoothness_se='0.005888', compactness_se='0.0231', concavity_se='0.02059', concave points_se='0.01075', symmetry_se='0.02578', fractal_dimension_se='0.002267', radius_worst='14.1', texture_worst='28.88', perimeter_worst='89', area_worst='610.2', smoothness_worst='0.124', compactness_worst='0.1795', concavity_worst='0.1377', concave points_worst='0.09532', symmetry_worst='0.3455', fractal_dimension_worst='0.06896', _c32=None),\n",
              " Row(id='905502', diagnosis='B', radius_mean='11.36', texture_mean='17.57', perimeter_mean='72.49', area_mean='399.8', smoothness_mean='0.08858', compactness_mean='0.05313', concavity_mean='0.02783', concave points_mean='0.021', symmetry_mean='0.1601', fractal_dimension_mean='0.05913', radius_se='0.1916', texture_se='1.555', perimeter_se='1.359', area_se='13.66', smoothness_se='0.005391', compactness_se='0.009947', concavity_se='0.01163', concave points_se='0.005872', symmetry_se='0.01341', fractal_dimension_se='0.001659', radius_worst='13.05', texture_worst='36.32', perimeter_worst='85.07', area_worst='521.3', smoothness_worst='0.1453', compactness_worst='0.1622', concavity_worst='0.1811', concave points_worst='0.08698', symmetry_worst='0.2973', fractal_dimension_worst='0.07745', _c32=None),\n",
              " Row(id='905539', diagnosis='B', radius_mean='9.397', texture_mean='21.68', perimeter_mean='59.75', area_mean='268.8', smoothness_mean='0.07969', compactness_mean='0.06053', concavity_mean='0.03735', concave points_mean='0.005128', symmetry_mean='0.1274', fractal_dimension_mean='0.06724', radius_se='0.1186', texture_se='1.182', perimeter_se='1.174', area_se='6.802', smoothness_se='0.005515', compactness_se='0.02674', concavity_se='0.03735', concave points_se='0.005128', symmetry_se='0.01951', fractal_dimension_se='0.004583', radius_worst='9.965', texture_worst='27.99', perimeter_worst='66.61', area_worst='301', smoothness_worst='0.1086', compactness_worst='0.1887', concavity_worst='0.1868', concave points_worst='0.02564', symmetry_worst='0.2376', fractal_dimension_worst='0.09206', _c32=None),\n",
              " Row(id='905680', diagnosis='M', radius_mean='15.13', texture_mean='29.81', perimeter_mean='96.71', area_mean='719.5', smoothness_mean='0.0832', compactness_mean='0.04605', concavity_mean='0.04686', concave points_mean='0.02739', symmetry_mean='0.1852', fractal_dimension_mean='0.05294', radius_se='0.4681', texture_se='1.627', perimeter_se='3.043', area_se='45.38', smoothness_se='0.006831', compactness_se='0.01427', concavity_se='0.02489', concave points_se='0.009087', symmetry_se='0.03151', fractal_dimension_se='0.00175', radius_worst='17.26', texture_worst='36.91', perimeter_worst='110.1', area_worst='931.4', smoothness_worst='0.1148', compactness_worst='0.09866', concavity_worst='0.1547', concave points_worst='0.06575', symmetry_worst='0.3233', fractal_dimension_worst='0.06165', _c32=None),\n",
              " Row(id='90602302', diagnosis='M', radius_mean='15.5', texture_mean='21.08', perimeter_mean='102.9', area_mean='803.1', smoothness_mean='0.112', compactness_mean='0.1571', concavity_mean='0.1522', concave points_mean='0.08481', symmetry_mean='0.2085', fractal_dimension_mean='0.06864', radius_se='1.37', texture_se='1.213', perimeter_se='9.424', area_se='176.5', smoothness_se='0.008198', compactness_se='0.03889', concavity_se='0.04493', concave points_se='0.02139', symmetry_se='0.02018', fractal_dimension_se='0.005815', radius_worst='23.17', texture_worst='27.65', perimeter_worst='157.1', area_worst='1748', smoothness_worst='0.1517', compactness_worst='0.4002', concavity_worst='0.4211', concave points_worst='0.2134', symmetry_worst='0.3003', fractal_dimension_worst='0.1048', _c32=None),\n",
              " Row(id='906290', diagnosis='B', radius_mean='11.16', texture_mean='21.41', perimeter_mean='70.95', area_mean='380.3', smoothness_mean='0.1018', compactness_mean='0.05978', concavity_mean='0.008955', concave points_mean='0.01076', symmetry_mean='0.1615', fractal_dimension_mean='0.06144', radius_se='0.2865', texture_se='1.678', perimeter_se='1.968', area_se='18.99', smoothness_se='0.006908', compactness_se='0.009442', concavity_se='0.006972', concave points_se='0.006159', symmetry_se='0.02694', fractal_dimension_se='0.00206', radius_worst='12.36', texture_worst='28.92', perimeter_worst='79.26', area_worst='458', smoothness_worst='0.1282', compactness_worst='0.1108', concavity_worst='0.03582', concave points_worst='0.04306', symmetry_worst='0.2976', fractal_dimension_worst='0.07123', _c32=None),\n",
              " Row(id='906564', diagnosis='B', radius_mean='14.69', texture_mean='13.98', perimeter_mean='98.22', area_mean='656.1', smoothness_mean='0.1031', compactness_mean='0.1836', concavity_mean='0.145', concave points_mean='0.063', symmetry_mean='0.2086', fractal_dimension_mean='0.07406', radius_se='0.5462', texture_se='1.511', perimeter_se='4.795', area_se='49.45', smoothness_se='0.009976', compactness_se='0.05244', concavity_se='0.05278', concave points_se='0.0158', symmetry_se='0.02653', fractal_dimension_se='0.005444', radius_worst='16.46', texture_worst='18.34', perimeter_worst='114.1', area_worst='809.2', smoothness_worst='0.1312', compactness_worst='0.3635', concavity_worst='0.3219', concave points_worst='0.1108', symmetry_worst='0.2827', fractal_dimension_worst='0.09208', _c32=None),\n",
              " Row(id='906616', diagnosis='B', radius_mean='11.61', texture_mean='16.02', perimeter_mean='75.46', area_mean='408.2', smoothness_mean='0.1088', compactness_mean='0.1168', concavity_mean='0.07097', concave points_mean='0.04497', symmetry_mean='0.1886', fractal_dimension_mean='0.0632', radius_se='0.2456', texture_se='0.7339', perimeter_se='1.667', area_se='15.89', smoothness_se='0.005884', compactness_se='0.02005', concavity_se='0.02631', concave points_se='0.01304', symmetry_se='0.01848', fractal_dimension_se='0.001982', radius_worst='12.64', texture_worst='19.67', perimeter_worst='81.93', area_worst='475.7', smoothness_worst='0.1415', compactness_worst='0.217', concavity_worst='0.2302', concave points_worst='0.1105', symmetry_worst='0.2787', fractal_dimension_worst='0.07427', _c32=None),\n",
              " Row(id='907145', diagnosis='B', radius_mean='9.742', texture_mean='19.12', perimeter_mean='61.93', area_mean='289.7', smoothness_mean='0.1075', compactness_mean='0.08333', concavity_mean='0.008934', concave points_mean='0.01967', symmetry_mean='0.2538', fractal_dimension_mean='0.07029', radius_se='0.6965', texture_se='1.747', perimeter_se='4.607', area_se='43.52', smoothness_se='0.01307', compactness_se='0.01885', concavity_se='0.006021', concave points_se='0.01052', symmetry_se='0.031', fractal_dimension_se='0.004225', radius_worst='11.21', texture_worst='23.17', perimeter_worst='71.79', area_worst='380.9', smoothness_worst='0.1398', compactness_worst='0.1352', concavity_worst='0.02085', concave points_worst='0.04589', symmetry_worst='0.3196', fractal_dimension_worst='0.08009', _c32=None),\n",
              " Row(id='90745', diagnosis='B', radius_mean='10.8', texture_mean='21.98', perimeter_mean='68.79', area_mean='359.9', smoothness_mean='0.08801', compactness_mean='0.05743', concavity_mean='0.03614', concave points_mean='0.01404', symmetry_mean='0.2016', fractal_dimension_mean='0.05977', radius_se='0.3077', texture_se='1.621', perimeter_se='2.24', area_se='20.2', smoothness_se='0.006543', compactness_se='0.02148', concavity_se='0.02991', concave points_se='0.01045', symmetry_se='0.01844', fractal_dimension_se='0.00269', radius_worst='12.76', texture_worst='32.04', perimeter_worst='83.69', area_worst='489.5', smoothness_worst='0.1303', compactness_worst='0.1696', concavity_worst='0.1927', concave points_worst='0.07485', symmetry_worst='0.2965', fractal_dimension_worst='0.07662', _c32=None),\n",
              " Row(id='90769601', diagnosis='B', radius_mean='11.13', texture_mean='16.62', perimeter_mean='70.47', area_mean='381.1', smoothness_mean='0.08151', compactness_mean='0.03834', concavity_mean='0.01369', concave points_mean='0.0137', symmetry_mean='0.1511', fractal_dimension_mean='0.06148', radius_se='0.1415', texture_se='0.9671', perimeter_se='0.968', area_se='9.704', smoothness_se='0.005883', compactness_se='0.006263', concavity_se='0.009398', concave points_se='0.006189', symmetry_se='0.02009', fractal_dimension_se='0.002377', radius_worst='11.68', texture_worst='20.29', perimeter_worst='74.35', area_worst='421.1', smoothness_worst='0.103', compactness_worst='0.06219', concavity_worst='0.0458', concave points_worst='0.04044', symmetry_worst='0.2383', fractal_dimension_worst='0.07083', _c32=None),\n",
              " Row(id='907915', diagnosis='B', radius_mean='12.4', texture_mean='17.68', perimeter_mean='81.47', area_mean='467.8', smoothness_mean='0.1054', compactness_mean='0.1316', concavity_mean='0.07741', concave points_mean='0.02799', symmetry_mean='0.1811', fractal_dimension_mean='0.07102', radius_se='0.1767', texture_se='1.46', perimeter_se='2.204', area_se='15.43', smoothness_se='0.01', compactness_se='0.03295', concavity_se='0.04861', concave points_se='0.01167', symmetry_se='0.02187', fractal_dimension_se='0.006005', radius_worst='12.88', texture_worst='22.91', perimeter_worst='89.61', area_worst='515.8', smoothness_worst='0.145', compactness_worst='0.2629', concavity_worst='0.2403', concave points_worst='0.0737', symmetry_worst='0.2556', fractal_dimension_worst='0.09359', _c32=None),\n",
              " Row(id='908445', diagnosis='M', radius_mean='18.82', texture_mean='21.97', perimeter_mean='123.7', area_mean='1110', smoothness_mean='0.1018', compactness_mean='0.1389', concavity_mean='0.1594', concave points_mean='0.08744', symmetry_mean='0.1943', fractal_dimension_mean='0.06132', radius_se='0.8191', texture_se='1.931', perimeter_se='4.493', area_se='103.9', smoothness_se='0.008074', compactness_se='0.04088', concavity_se='0.05321', concave points_se='0.01834', symmetry_se='0.02383', fractal_dimension_se='0.004515', radius_worst='22.66', texture_worst='30.93', perimeter_worst='145.3', area_worst='1603', smoothness_worst='0.139', compactness_worst='0.3463', concavity_worst='0.3912', concave points_worst='0.1708', symmetry_worst='0.3007', fractal_dimension_worst='0.08314', _c32=None),\n",
              " Row(id='908489', diagnosis='M', radius_mean='13.98', texture_mean='19.62', perimeter_mean='91.12', area_mean='599.5', smoothness_mean='0.106', compactness_mean='0.1133', concavity_mean='0.1126', concave points_mean='0.06463', symmetry_mean='0.1669', fractal_dimension_mean='0.06544', radius_se='0.2208', texture_se='0.9533', perimeter_se='1.602', area_se='18.85', smoothness_se='0.005314', compactness_se='0.01791', concavity_se='0.02185', concave points_se='0.009567', symmetry_se='0.01223', fractal_dimension_se='0.002846', radius_worst='17.04', texture_worst='30.8', perimeter_worst='113.9', area_worst='869.3', smoothness_worst='0.1613', compactness_worst='0.3568', concavity_worst='0.4069', concave points_worst='0.1827', symmetry_worst='0.3179', fractal_dimension_worst='0.1055', _c32=None),\n",
              " Row(id='909231', diagnosis='B', radius_mean='13.85', texture_mean='19.6', perimeter_mean='88.68', area_mean='592.6', smoothness_mean='0.08684', compactness_mean='0.0633', concavity_mean='0.01342', concave points_mean='0.02293', symmetry_mean='0.1555', fractal_dimension_mean='0.05673', radius_se='0.3419', texture_se='1.678', perimeter_se='2.331', area_se='29.63', smoothness_se='0.005836', compactness_se='0.01095', concavity_se='0.005812', concave points_se='0.007039', symmetry_se='0.02014', fractal_dimension_se='0.002326', radius_worst='15.63', texture_worst='28.01', perimeter_worst='100.9', area_worst='749.1', smoothness_worst='0.1118', compactness_worst='0.1141', concavity_worst='0.04753', concave points_worst='0.0589', symmetry_worst='0.2513', fractal_dimension_worst='0.06911', _c32=None),\n",
              " Row(id='90944601', diagnosis='B', radius_mean='13.78', texture_mean='15.79', perimeter_mean='88.37', area_mean='585.9', smoothness_mean='0.08817', compactness_mean='0.06718', concavity_mean='0.01055', concave points_mean='0.009937', symmetry_mean='0.1405', fractal_dimension_mean='0.05848', radius_se='0.3563', texture_se='0.4833', perimeter_se='2.235', area_se='29.34', smoothness_se='0.006432', compactness_se='0.01156', concavity_se='0.007741', concave points_se='0.005657', symmetry_se='0.01227', fractal_dimension_se='0.002564', radius_worst='15.27', texture_worst='17.5', perimeter_worst='97.9', area_worst='706.6', smoothness_worst='0.1072', compactness_worst='0.1071', concavity_worst='0.03517', concave points_worst='0.03312', symmetry_worst='0.1859', fractal_dimension_worst='0.0681', _c32=None),\n",
              " Row(id='9110127', diagnosis='M', radius_mean='18.03', texture_mean='16.85', perimeter_mean='117.5', area_mean='990', smoothness_mean='0.08947', compactness_mean='0.1232', concavity_mean='0.109', concave points_mean='0.06254', symmetry_mean='0.172', fractal_dimension_mean='0.0578', radius_se='0.2986', texture_se='0.5906', perimeter_se='1.921', area_se='35.77', smoothness_se='0.004117', compactness_se='0.0156', concavity_se='0.02975', concave points_se='0.009753', symmetry_se='0.01295', fractal_dimension_se='0.002436', radius_worst='20.38', texture_worst='22.02', perimeter_worst='133.3', area_worst='1292', smoothness_worst='0.1263', compactness_worst='0.2666', concavity_worst='0.429', concave points_worst='0.1535', symmetry_worst='0.2842', fractal_dimension_worst='0.08225', _c32=None),\n",
              " Row(id='9110720', diagnosis='B', radius_mean='11.99', texture_mean='24.89', perimeter_mean='77.61', area_mean='441.3', smoothness_mean='0.103', compactness_mean='0.09218', concavity_mean='0.05441', concave points_mean='0.04274', symmetry_mean='0.182', fractal_dimension_mean='0.0685', radius_se='0.2623', texture_se='1.204', perimeter_se='1.865', area_se='19.39', smoothness_se='0.00832', compactness_se='0.02025', concavity_se='0.02334', concave points_se='0.01665', symmetry_se='0.02094', fractal_dimension_se='0.003674', radius_worst='12.98', texture_worst='30.36', perimeter_worst='84.48', area_worst='513.9', smoothness_worst='0.1311', compactness_worst='0.1822', concavity_worst='0.1609', concave points_worst='0.1202', symmetry_worst='0.2599', fractal_dimension_worst='0.08251', _c32=None),\n",
              " Row(id='9110944', diagnosis='B', radius_mean='14.8', texture_mean='17.66', perimeter_mean='95.88', area_mean='674.8', smoothness_mean='0.09179', compactness_mean='0.0889', concavity_mean='0.04069', concave points_mean='0.0226', symmetry_mean='0.1893', fractal_dimension_mean='0.05886', radius_se='0.2204', texture_se='0.6221', perimeter_se='1.482', area_se='19.75', smoothness_se='0.004796', compactness_se='0.01171', concavity_se='0.01758', concave points_se='0.006897', symmetry_se='0.02254', fractal_dimension_se='0.001971', radius_worst='16.43', texture_worst='22.74', perimeter_worst='105.9', area_worst='829.5', smoothness_worst='0.1226', compactness_worst='0.1881', concavity_worst='0.206', concave points_worst='0.08308', symmetry_worst='0.36', fractal_dimension_worst='0.07285', _c32=None),\n",
              " Row(id='911157302', diagnosis='M', radius_mean='21.1', texture_mean='20.52', perimeter_mean='138.1', area_mean='1384', smoothness_mean='0.09684', compactness_mean='0.1175', concavity_mean='0.1572', concave points_mean='0.1155', symmetry_mean='0.1554', fractal_dimension_mean='0.05661', radius_se='0.6643', texture_se='1.361', perimeter_se='4.542', area_se='81.89', smoothness_se='0.005467', compactness_se='0.02075', concavity_se='0.03185', concave points_se='0.01466', symmetry_se='0.01029', fractal_dimension_se='0.002205', radius_worst='25.68', texture_worst='32.07', perimeter_worst='168.2', area_worst='2022', smoothness_worst='0.1368', compactness_worst='0.3101', concavity_worst='0.4399', concave points_worst='0.228', symmetry_worst='0.2268', fractal_dimension_worst='0.07425', _c32=None),\n",
              " Row(id='9111805', diagnosis='M', radius_mean='19.59', texture_mean='25', perimeter_mean='127.7', area_mean='1191', smoothness_mean='0.1032', compactness_mean='0.09871', concavity_mean='0.1655', concave points_mean='0.09063', symmetry_mean='0.1663', fractal_dimension_mean='0.05391', radius_se='0.4674', texture_se='1.375', perimeter_se='2.916', area_se='56.18', smoothness_se='0.0119', compactness_se='0.01929', concavity_se='0.04907', concave points_se='0.01499', symmetry_se='0.01641', fractal_dimension_se='0.001807', radius_worst='21.44', texture_worst='30.96', perimeter_worst='139.8', area_worst='1421', smoothness_worst='0.1528', compactness_worst='0.1845', concavity_worst='0.3977', concave points_worst='0.1466', symmetry_worst='0.2293', fractal_dimension_worst='0.06091', _c32=None),\n",
              " Row(id='9111843', diagnosis='B', radius_mean='12', texture_mean='28.23', perimeter_mean='76.77', area_mean='442.5', smoothness_mean='0.08437', compactness_mean='0.0645', concavity_mean='0.04055', concave points_mean='0.01945', symmetry_mean='0.1615', fractal_dimension_mean='0.06104', radius_se='0.1912', texture_se='1.705', perimeter_se='1.516', area_se='13.86', smoothness_se='0.007334', compactness_se='0.02589', concavity_se='0.02941', concave points_se='0.009166', symmetry_se='0.01745', fractal_dimension_se='0.004302', radius_worst='13.09', texture_worst='37.88', perimeter_worst='85.07', area_worst='523.7', smoothness_worst='0.1208', compactness_worst='0.1856', concavity_worst='0.1811', concave points_worst='0.07116', symmetry_worst='0.2447', fractal_dimension_worst='0.08194', _c32=None),\n",
              " Row(id='911201', diagnosis='B', radius_mean='14.53', texture_mean='13.98', perimeter_mean='93.86', area_mean='644.2', smoothness_mean='0.1099', compactness_mean='0.09242', concavity_mean='0.06895', concave points_mean='0.06495', symmetry_mean='0.165', fractal_dimension_mean='0.06121', radius_se='0.306', texture_se='0.7213', perimeter_se='2.143', area_se='25.7', smoothness_se='0.006133', compactness_se='0.01251', concavity_se='0.01615', concave points_se='0.01136', symmetry_se='0.02207', fractal_dimension_se='0.003563', radius_worst='15.8', texture_worst='16.93', perimeter_worst='103.1', area_worst='749.9', smoothness_worst='0.1347', compactness_worst='0.1478', concavity_worst='0.1373', concave points_worst='0.1069', symmetry_worst='0.2606', fractal_dimension_worst='0.0781', _c32=None),\n",
              " Row(id='9112367', diagnosis='B', radius_mean='13.21', texture_mean='25.25', perimeter_mean='84.1', area_mean='537.9', smoothness_mean='0.08791', compactness_mean='0.05205', concavity_mean='0.02772', concave points_mean='0.02068', symmetry_mean='0.1619', fractal_dimension_mean='0.05584', radius_se='0.2084', texture_se='1.35', perimeter_se='1.314', area_se='17.58', smoothness_se='0.005768', compactness_se='0.008082', concavity_se='0.0151', concave points_se='0.006451', symmetry_se='0.01347', fractal_dimension_se='0.001828', radius_worst='14.35', texture_worst='34.23', perimeter_worst='91.29', area_worst='632.9', smoothness_worst='0.1289', compactness_worst='0.1063', concavity_worst='0.139', concave points_worst='0.06005', symmetry_worst='0.2444', fractal_dimension_worst='0.06788', _c32=None),\n",
              " Row(id='911296201', diagnosis='M', radius_mean='17.08', texture_mean='27.15', perimeter_mean='111.2', area_mean='930.9', smoothness_mean='0.09898', compactness_mean='0.111', concavity_mean='0.1007', concave points_mean='0.06431', symmetry_mean='0.1793', fractal_dimension_mean='0.06281', radius_se='0.9291', texture_se='1.152', perimeter_se='6.051', area_se='115.2', smoothness_se='0.00874', compactness_se='0.02219', concavity_se='0.02721', concave points_se='0.01458', symmetry_se='0.02045', fractal_dimension_se='0.004417', radius_worst='22.96', texture_worst='34.49', perimeter_worst='152.1', area_worst='1648', smoothness_worst='0.16', compactness_worst='0.2444', concavity_worst='0.2639', concave points_worst='0.1555', symmetry_worst='0.301', fractal_dimension_worst='0.0906', _c32=None),\n",
              " Row(id='9113156', diagnosis='B', radius_mean='14.4', texture_mean='26.99', perimeter_mean='92.25', area_mean='646.1', smoothness_mean='0.06995', compactness_mean='0.05223', concavity_mean='0.03476', concave points_mean='0.01737', symmetry_mean='0.1707', fractal_dimension_mean='0.05433', radius_se='0.2315', texture_se='0.9112', perimeter_se='1.727', area_se='20.52', smoothness_se='0.005356', compactness_se='0.01679', concavity_se='0.01971', concave points_se='0.00637', symmetry_se='0.01414', fractal_dimension_se='0.001892', radius_worst='15.4', texture_worst='31.98', perimeter_worst='100.4', area_worst='734.6', smoothness_worst='0.1017', compactness_worst='0.146', concavity_worst='0.1472', concave points_worst='0.05563', symmetry_worst='0.2345', fractal_dimension_worst='0.06464', _c32=None),\n",
              " Row(id='911320502', diagnosis='B', radius_mean='13.17', texture_mean='18.22', perimeter_mean='84.28', area_mean='537.3', smoothness_mean='0.07466', compactness_mean='0.05994', concavity_mean='0.04859', concave points_mean='0.0287', symmetry_mean='0.1454', fractal_dimension_mean='0.05549', radius_se='0.2023', texture_se='0.685', perimeter_se='1.236', area_se='16.89', smoothness_se='0.005969', compactness_se='0.01493', concavity_se='0.01564', concave points_se='0.008463', symmetry_se='0.01093', fractal_dimension_se='0.001672', radius_worst='14.9', texture_worst='23.89', perimeter_worst='95.1', area_worst='687.6', smoothness_worst='0.1282', compactness_worst='0.1965', concavity_worst='0.1876', concave points_worst='0.1045', symmetry_worst='0.2235', fractal_dimension_worst='0.06925', _c32=None),\n",
              " Row(id='9113239', diagnosis='B', radius_mean='13.24', texture_mean='20.13', perimeter_mean='86.87', area_mean='542.9', smoothness_mean='0.08284', compactness_mean='0.1223', concavity_mean='0.101', concave points_mean='0.02833', symmetry_mean='0.1601', fractal_dimension_mean='0.06432', radius_se='0.281', texture_se='0.8135', perimeter_se='3.369', area_se='23.81', smoothness_se='0.004929', compactness_se='0.06657', concavity_se='0.07683', concave points_se='0.01368', symmetry_se='0.01526', fractal_dimension_se='0.008133', radius_worst='15.44', texture_worst='25.5', perimeter_worst='115', area_worst='733.5', smoothness_worst='0.1201', compactness_worst='0.5646', concavity_worst='0.6556', concave points_worst='0.1357', symmetry_worst='0.2845', fractal_dimension_worst='0.1249', _c32=None),\n",
              " Row(id='9113455', diagnosis='B', radius_mean='13.14', texture_mean='20.74', perimeter_mean='85.98', area_mean='536.9', smoothness_mean='0.08675', compactness_mean='0.1089', concavity_mean='0.1085', concave points_mean='0.0351', symmetry_mean='0.1562', fractal_dimension_mean='0.0602', radius_se='0.3152', texture_se='0.7884', perimeter_se='2.312', area_se='27.4', smoothness_se='0.007295', compactness_se='0.03179', concavity_se='0.04615', concave points_se='0.01254', symmetry_se='0.01561', fractal_dimension_se='0.00323', radius_worst='14.8', texture_worst='25.46', perimeter_worst='100.9', area_worst='689.1', smoothness_worst='0.1351', compactness_worst='0.3549', concavity_worst='0.4504', concave points_worst='0.1181', symmetry_worst='0.2563', fractal_dimension_worst='0.08174', _c32=None),\n",
              " Row(id='9113514', diagnosis='B', radius_mean='9.668', texture_mean='18.1', perimeter_mean='61.06', area_mean='286.3', smoothness_mean='0.08311', compactness_mean='0.05428', concavity_mean='0.01479', concave points_mean='0.005769', symmetry_mean='0.168', fractal_dimension_mean='0.06412', radius_se='0.3416', texture_se='1.312', perimeter_se='2.275', area_se='20.98', smoothness_se='0.01098', compactness_se='0.01257', concavity_se='0.01031', concave points_se='0.003934', symmetry_se='0.02693', fractal_dimension_se='0.002979', radius_worst='11.15', texture_worst='24.62', perimeter_worst='71.11', area_worst='380.2', smoothness_worst='0.1388', compactness_worst='0.1255', concavity_worst='0.06409', concave points_worst='0.025', symmetry_worst='0.3057', fractal_dimension_worst='0.07875', _c32=None),\n",
              " Row(id='9113538', diagnosis='M', radius_mean='17.6', texture_mean='23.33', perimeter_mean='119', area_mean='980.5', smoothness_mean='0.09289', compactness_mean='0.2004', concavity_mean='0.2136', concave points_mean='0.1002', symmetry_mean='0.1696', fractal_dimension_mean='0.07369', radius_se='0.9289', texture_se='1.465', perimeter_se='5.801', area_se='104.9', smoothness_se='0.006766', compactness_se='0.07025', concavity_se='0.06591', concave points_se='0.02311', symmetry_se='0.01673', fractal_dimension_se='0.0113', radius_worst='21.57', texture_worst='28.87', perimeter_worst='143.6', area_worst='1437', smoothness_worst='0.1207', compactness_worst='0.4785', concavity_worst='0.5165', concave points_worst='0.1996', symmetry_worst='0.2301', fractal_dimension_worst='0.1224', _c32=None),\n",
              " Row(id='911366', diagnosis='B', radius_mean='11.62', texture_mean='18.18', perimeter_mean='76.38', area_mean='408.8', smoothness_mean='0.1175', compactness_mean='0.1483', concavity_mean='0.102', concave points_mean='0.05564', symmetry_mean='0.1957', fractal_dimension_mean='0.07255', radius_se='0.4101', texture_se='1.74', perimeter_se='3.027', area_se='27.85', smoothness_se='0.01459', compactness_se='0.03206', concavity_se='0.04961', concave points_se='0.01841', symmetry_se='0.01807', fractal_dimension_se='0.005217', radius_worst='13.36', texture_worst='25.4', perimeter_worst='88.14', area_worst='528.1', smoothness_worst='0.178', compactness_worst='0.2878', concavity_worst='0.3186', concave points_worst='0.1416', symmetry_worst='0.266', fractal_dimension_worst='0.0927', _c32=None),\n",
              " Row(id='9113778', diagnosis='B', radius_mean='9.667', texture_mean='18.49', perimeter_mean='61.49', area_mean='289.1', smoothness_mean='0.08946', compactness_mean='0.06258', concavity_mean='0.02948', concave points_mean='0.01514', symmetry_mean='0.2238', fractal_dimension_mean='0.06413', radius_se='0.3776', texture_se='1.35', perimeter_se='2.569', area_se='22.73', smoothness_se='0.007501', compactness_se='0.01989', concavity_se='0.02714', concave points_se='0.009883', symmetry_se='0.0196', fractal_dimension_se='0.003913', radius_worst='11.14', texture_worst='25.62', perimeter_worst='70.88', area_worst='385.2', smoothness_worst='0.1234', compactness_worst='0.1542', concavity_worst='0.1277', concave points_worst='0.0656', symmetry_worst='0.3174', fractal_dimension_worst='0.08524', _c32=None),\n",
              " Row(id='9113816', diagnosis='B', radius_mean='12.04', texture_mean='28.14', perimeter_mean='76.85', area_mean='449.9', smoothness_mean='0.08752', compactness_mean='0.06', concavity_mean='0.02367', concave points_mean='0.02377', symmetry_mean='0.1854', fractal_dimension_mean='0.05698', radius_se='0.6061', texture_se='2.643', perimeter_se='4.099', area_se='44.96', smoothness_se='0.007517', compactness_se='0.01555', concavity_se='0.01465', concave points_se='0.01183', symmetry_se='0.02047', fractal_dimension_se='0.003883', radius_worst='13.6', texture_worst='33.33', perimeter_worst='87.24', area_worst='567.6', smoothness_worst='0.1041', compactness_worst='0.09726', concavity_worst='0.05524', concave points_worst='0.05547', symmetry_worst='0.2404', fractal_dimension_worst='0.06639', _c32=None),\n",
              " Row(id='911391', diagnosis='B', radius_mean='10.88', texture_mean='15.62', perimeter_mean='70.41', area_mean='358.9', smoothness_mean='0.1007', compactness_mean='0.1069', concavity_mean='0.05115', concave points_mean='0.01571', symmetry_mean='0.1861', fractal_dimension_mean='0.06837', radius_se='0.1482', texture_se='0.538', perimeter_se='1.301', area_se='9.597', smoothness_se='0.004474', compactness_se='0.03093', concavity_se='0.02757', concave points_se='0.006691', symmetry_se='0.01212', fractal_dimension_se='0.004672', radius_worst='11.94', texture_worst='19.35', perimeter_worst='80.78', area_worst='433.1', smoothness_worst='0.1332', compactness_worst='0.3898', concavity_worst='0.3365', concave points_worst='0.07966', symmetry_worst='0.2581', fractal_dimension_worst='0.108', _c32=None),\n",
              " Row(id='911685', diagnosis='B', radius_mean='11.49', texture_mean='14.59', perimeter_mean='73.99', area_mean='404.9', smoothness_mean='0.1046', compactness_mean='0.08228', concavity_mean='0.05308', concave points_mean='0.01969', symmetry_mean='0.1779', fractal_dimension_mean='0.06574', radius_se='0.2034', texture_se='1.166', perimeter_se='1.567', area_se='14.34', smoothness_se='0.004957', compactness_se='0.02114', concavity_se='0.04156', concave points_se='0.008038', symmetry_se='0.01843', fractal_dimension_se='0.003614', radius_worst='12.4', texture_worst='21.9', perimeter_worst='82.04', area_worst='467.6', smoothness_worst='0.1352', compactness_worst='0.201', concavity_worst='0.2596', concave points_worst='0.07431', symmetry_worst='0.2941', fractal_dimension_worst='0.0918', _c32=None),\n",
              " Row(id='912519', diagnosis='B', radius_mean='13.47', texture_mean='14.06', perimeter_mean='87.32', area_mean='546.3', smoothness_mean='0.1071', compactness_mean='0.1155', concavity_mean='0.05786', concave points_mean='0.05266', symmetry_mean='0.1779', fractal_dimension_mean='0.06639', radius_se='0.1588', texture_se='0.5733', perimeter_se='1.102', area_se='12.84', smoothness_se='0.00445', compactness_se='0.01452', concavity_se='0.01334', concave points_se='0.008791', symmetry_se='0.01698', fractal_dimension_se='0.002787', radius_worst='14.83', texture_worst='18.32', perimeter_worst='94.94', area_worst='660.2', smoothness_worst='0.1393', compactness_worst='0.2499', concavity_worst='0.1848', concave points_worst='0.1335', symmetry_worst='0.3227', fractal_dimension_worst='0.09326', _c32=None),\n",
              " Row(id='912558', diagnosis='B', radius_mean='13.7', texture_mean='17.64', perimeter_mean='87.76', area_mean='571.1', smoothness_mean='0.0995', compactness_mean='0.07957', concavity_mean='0.04548', concave points_mean='0.0316', symmetry_mean='0.1732', fractal_dimension_mean='0.06088', radius_se='0.2431', texture_se='0.9462', perimeter_se='1.564', area_se='20.64', smoothness_se='0.003245', compactness_se='0.008186', concavity_se='0.01698', concave points_se='0.009233', symmetry_se='0.01285', fractal_dimension_se='0.001524', radius_worst='14.96', texture_worst='23.53', perimeter_worst='95.78', area_worst='686.5', smoothness_worst='0.1199', compactness_worst='0.1346', concavity_worst='0.1742', concave points_worst='0.09077', symmetry_worst='0.2518', fractal_dimension_worst='0.0696', _c32=None),\n",
              " Row(id='912600', diagnosis='B', radius_mean='15.73', texture_mean='11.28', perimeter_mean='102.8', area_mean='747.2', smoothness_mean='0.1043', compactness_mean='0.1299', concavity_mean='0.1191', concave points_mean='0.06211', symmetry_mean='0.1784', fractal_dimension_mean='0.06259', radius_se='0.163', texture_se='0.3871', perimeter_se='1.143', area_se='13.87', smoothness_se='0.006034', compactness_se='0.0182', concavity_se='0.03336', concave points_se='0.01067', symmetry_se='0.01175', fractal_dimension_se='0.002256', radius_worst='17.01', texture_worst='14.2', perimeter_worst='112.5', area_worst='854.3', smoothness_worst='0.1541', compactness_worst='0.2979', concavity_worst='0.4004', concave points_worst='0.1452', symmetry_worst='0.2557', fractal_dimension_worst='0.08181', _c32=None),\n",
              " Row(id='913505', diagnosis='M', radius_mean='19.44', texture_mean='18.82', perimeter_mean='128.1', area_mean='1167', smoothness_mean='0.1089', compactness_mean='0.1448', concavity_mean='0.2256', concave points_mean='0.1194', symmetry_mean='0.1823', fractal_dimension_mean='0.06115', radius_se='0.5659', texture_se='1.408', perimeter_se='3.631', area_se='67.74', smoothness_se='0.005288', compactness_se='0.02833', concavity_se='0.04256', concave points_se='0.01176', symmetry_se='0.01717', fractal_dimension_se='0.003211', radius_worst='23.96', texture_worst='30.39', perimeter_worst='153.9', area_worst='1740', smoothness_worst='0.1514', compactness_worst='0.3725', concavity_worst='0.5936', concave points_worst='0.206', symmetry_worst='0.3266', fractal_dimension_worst='0.09009', _c32=None),\n",
              " Row(id='914062', diagnosis='M', radius_mean='18.01', texture_mean='20.56', perimeter_mean='118.4', area_mean='1007', smoothness_mean='0.1001', compactness_mean='0.1289', concavity_mean='0.117', concave points_mean='0.07762', symmetry_mean='0.2116', fractal_dimension_mean='0.06077', radius_se='0.7548', texture_se='1.288', perimeter_se='5.353', area_se='89.74', smoothness_se='0.007997', compactness_se='0.027', concavity_se='0.03737', concave points_se='0.01648', symmetry_se='0.02897', fractal_dimension_se='0.003996', radius_worst='21.53', texture_worst='26.06', perimeter_worst='143.4', area_worst='1426', smoothness_worst='0.1309', compactness_worst='0.2327', concavity_worst='0.2544', concave points_worst='0.1489', symmetry_worst='0.3251', fractal_dimension_worst='0.07625', _c32=None),\n",
              " Row(id='914769', diagnosis='M', radius_mean='18.49', texture_mean='17.52', perimeter_mean='121.3', area_mean='1068', smoothness_mean='0.1012', compactness_mean='0.1317', concavity_mean='0.1491', concave points_mean='0.09183', symmetry_mean='0.1832', fractal_dimension_mean='0.06697', radius_se='0.7923', texture_se='1.045', perimeter_se='4.851', area_se='95.77', smoothness_se='0.007974', compactness_se='0.03214', concavity_se='0.04435', concave points_se='0.01573', symmetry_se='0.01617', fractal_dimension_se='0.005255', radius_worst='22.75', texture_worst='22.88', perimeter_worst='146.4', area_worst='1600', smoothness_worst='0.1412', compactness_worst='0.3089', concavity_worst='0.3533', concave points_worst='0.1663', symmetry_worst='0.251', fractal_dimension_worst='0.09445', _c32=None),\n",
              " Row(id='914862', diagnosis='B', radius_mean='15.04', texture_mean='16.74', perimeter_mean='98.73', area_mean='689.4', smoothness_mean='0.09883', compactness_mean='0.1364', concavity_mean='0.07721', concave points_mean='0.06142', symmetry_mean='0.1668', fractal_dimension_mean='0.06869', radius_se='0.372', texture_se='0.8423', perimeter_se='2.304', area_se='34.84', smoothness_se='0.004123', compactness_se='0.01819', concavity_se='0.01996', concave points_se='0.01004', symmetry_se='0.01055', fractal_dimension_se='0.003237', radius_worst='16.76', texture_worst='20.43', perimeter_worst='109.7', area_worst='856.9', smoothness_worst='0.1135', compactness_worst='0.2176', concavity_worst='0.1856', concave points_worst='0.1018', symmetry_worst='0.2177', fractal_dimension_worst='0.08549', _c32=None),\n",
              " Row(id='91504', diagnosis='M', radius_mean='13.82', texture_mean='24.49', perimeter_mean='92.33', area_mean='595.9', smoothness_mean='0.1162', compactness_mean='0.1681', concavity_mean='0.1357', concave points_mean='0.06759', symmetry_mean='0.2275', fractal_dimension_mean='0.07237', radius_se='0.4751', texture_se='1.528', perimeter_se='2.974', area_se='39.05', smoothness_se='0.00968', compactness_se='0.03856', concavity_se='0.03476', concave points_se='0.01616', symmetry_se='0.02434', fractal_dimension_se='0.006995', radius_worst='16.01', texture_worst='32.94', perimeter_worst='106', area_worst='788', smoothness_worst='0.1794', compactness_worst='0.3966', concavity_worst='0.3381', concave points_worst='0.1521', symmetry_worst='0.3651', fractal_dimension_worst='0.1183', _c32=None),\n",
              " Row(id='915276', diagnosis='B', radius_mean='9.676', texture_mean='13.14', perimeter_mean='64.12', area_mean='272.5', smoothness_mean='0.1255', compactness_mean='0.2204', concavity_mean='0.1188', concave points_mean='0.07038', symmetry_mean='0.2057', fractal_dimension_mean='0.09575', radius_se='0.2744', texture_se='1.39', perimeter_se='1.787', area_se='17.67', smoothness_se='0.02177', compactness_se='0.04888', concavity_se='0.05189', concave points_se='0.0145', symmetry_se='0.02632', fractal_dimension_se='0.01148', radius_worst='10.6', texture_worst='18.04', perimeter_worst='69.47', area_worst='328.1', smoothness_worst='0.2006', compactness_worst='0.3663', concavity_worst='0.2913', concave points_worst='0.1075', symmetry_worst='0.2848', fractal_dimension_worst='0.1364', _c32=None),\n",
              " Row(id='91544001', diagnosis='B', radius_mean='12.22', texture_mean='20.04', perimeter_mean='79.47', area_mean='453.1', smoothness_mean='0.1096', compactness_mean='0.1152', concavity_mean='0.08175', concave points_mean='0.02166', symmetry_mean='0.2124', fractal_dimension_mean='0.06894', radius_se='0.1811', texture_se='0.7959', perimeter_se='0.9857', area_se='12.58', smoothness_se='0.006272', compactness_se='0.02198', concavity_se='0.03966', concave points_se='0.009894', symmetry_se='0.0132', fractal_dimension_se='0.003813', radius_worst='13.16', texture_worst='24.17', perimeter_worst='85.13', area_worst='515.3', smoothness_worst='0.1402', compactness_worst='0.2315', concavity_worst='0.3535', concave points_worst='0.08088', symmetry_worst='0.2709', fractal_dimension_worst='0.08839', _c32=None),\n",
              " Row(id='91544002', diagnosis='B', radius_mean='11.06', texture_mean='17.12', perimeter_mean='71.25', area_mean='366.5', smoothness_mean='0.1194', compactness_mean='0.1071', concavity_mean='0.04063', concave points_mean='0.04268', symmetry_mean='0.1954', fractal_dimension_mean='0.07976', radius_se='0.1779', texture_se='1.03', perimeter_se='1.318', area_se='12.3', smoothness_se='0.01262', compactness_se='0.02348', concavity_se='0.018', concave points_se='0.01285', symmetry_se='0.0222', fractal_dimension_se='0.008313', radius_worst='11.69', texture_worst='20.74', perimeter_worst='76.08', area_worst='411.1', smoothness_worst='0.1662', compactness_worst='0.2031', concavity_worst='0.1256', concave points_worst='0.09514', symmetry_worst='0.278', fractal_dimension_worst='0.1168', _c32=None),\n",
              " Row(id='915460', diagnosis='M', radius_mean='15.46', texture_mean='23.95', perimeter_mean='103.8', area_mean='731.3', smoothness_mean='0.1183', compactness_mean='0.187', concavity_mean='0.203', concave points_mean='0.0852', symmetry_mean='0.1807', fractal_dimension_mean='0.07083', radius_se='0.3331', texture_se='1.961', perimeter_se='2.937', area_se='32.52', smoothness_se='0.009538', compactness_se='0.0494', concavity_se='0.06019', concave points_se='0.02041', symmetry_se='0.02105', fractal_dimension_se='0.006', radius_worst='17.11', texture_worst='36.33', perimeter_worst='117.7', area_worst='909.4', smoothness_worst='0.1732', compactness_worst='0.4967', concavity_worst='0.5911', concave points_worst='0.2163', symmetry_worst='0.3013', fractal_dimension_worst='0.1067', _c32=None),\n",
              " Row(id='915664', diagnosis='B', radius_mean='14.81', texture_mean='14.7', perimeter_mean='94.66', area_mean='680.7', smoothness_mean='0.08472', compactness_mean='0.05016', concavity_mean='0.03416', concave points_mean='0.02541', symmetry_mean='0.1659', fractal_dimension_mean='0.05348', radius_se='0.2182', texture_se='0.6232', perimeter_se='1.677', area_se='20.72', smoothness_se='0.006708', compactness_se='0.01197', concavity_se='0.01482', concave points_se='0.01056', symmetry_se='0.0158', fractal_dimension_se='0.001779', radius_worst='15.61', texture_worst='17.58', perimeter_worst='101.7', area_worst='760.2', smoothness_worst='0.1139', compactness_worst='0.1011', concavity_worst='0.1101', concave points_worst='0.07955', symmetry_worst='0.2334', fractal_dimension_worst='0.06142', _c32=None),\n",
              " Row(id='916221', diagnosis='B', radius_mean='11.34', texture_mean='18.61', perimeter_mean='72.76', area_mean='391.2', smoothness_mean='0.1049', compactness_mean='0.08499', concavity_mean='0.04302', concave points_mean='0.02594', symmetry_mean='0.1927', fractal_dimension_mean='0.06211', radius_se='0.243', texture_se='1.01', perimeter_se='1.491', area_se='18.19', smoothness_se='0.008577', compactness_se='0.01641', concavity_se='0.02099', concave points_se='0.01107', symmetry_se='0.02434', fractal_dimension_se='0.001217', radius_worst='12.47', texture_worst='23.03', perimeter_worst='79.15', area_worst='478.6', smoothness_worst='0.1483', compactness_worst='0.1574', concavity_worst='0.1624', concave points_worst='0.08542', symmetry_worst='0.306', fractal_dimension_worst='0.06783', _c32=None),\n",
              " Row(id='916799', diagnosis='M', radius_mean='18.31', texture_mean='20.58', perimeter_mean='120.8', area_mean='1052', smoothness_mean='0.1068', compactness_mean='0.1248', concavity_mean='0.1569', concave points_mean='0.09451', symmetry_mean='0.186', fractal_dimension_mean='0.05941', radius_se='0.5449', texture_se='0.9225', perimeter_se='3.218', area_se='67.36', smoothness_se='0.006176', compactness_se='0.01877', concavity_se='0.02913', concave points_se='0.01046', symmetry_se='0.01559', fractal_dimension_se='0.002725', radius_worst='21.86', texture_worst='26.2', perimeter_worst='142.2', area_worst='1493', smoothness_worst='0.1492', compactness_worst='0.2536', concavity_worst='0.3759', concave points_worst='0.151', symmetry_worst='0.3074', fractal_dimension_worst='0.07863', _c32=None),\n",
              " Row(id='916838', diagnosis='M', radius_mean='19.89', texture_mean='20.26', perimeter_mean='130.5', area_mean='1214', smoothness_mean='0.1037', compactness_mean='0.131', concavity_mean='0.1411', concave points_mean='0.09431', symmetry_mean='0.1802', fractal_dimension_mean='0.06188', radius_se='0.5079', texture_se='0.8737', perimeter_se='3.654', area_se='59.7', smoothness_se='0.005089', compactness_se='0.02303', concavity_se='0.03052', concave points_se='0.01178', symmetry_se='0.01057', fractal_dimension_se='0.003391', radius_worst='23.73', texture_worst='25.23', perimeter_worst='160.5', area_worst='1646', smoothness_worst='0.1417', compactness_worst='0.3309', concavity_worst='0.4185', concave points_worst='0.1613', symmetry_worst='0.2549', fractal_dimension_worst='0.09136', _c32=None),\n",
              " Row(id='91789', diagnosis='B', radius_mean='11.26', texture_mean='19.83', perimeter_mean='71.3', area_mean='388.1', smoothness_mean='0.08511', compactness_mean='0.04413', concavity_mean='0.005067', concave points_mean='0.005664', symmetry_mean='0.1637', fractal_dimension_mean='0.06343', radius_se='0.1344', texture_se='1.083', perimeter_se='0.9812', area_se='9.332', smoothness_se='0.0042', compactness_se='0.0059', concavity_se='0.003846', concave points_se='0.004065', symmetry_se='0.01487', fractal_dimension_se='0.002295', radius_worst='11.93', texture_worst='26.43', perimeter_worst='76.38', area_worst='435.9', smoothness_worst='0.1108', compactness_worst='0.07723', concavity_worst='0.02533', concave points_worst='0.02832', symmetry_worst='0.2557', fractal_dimension_worst='0.07613', _c32=None),\n",
              " Row(id='917896', diagnosis='B', radius_mean='13.71', texture_mean='18.68', perimeter_mean='88.73', area_mean='571', smoothness_mean='0.09916', compactness_mean='0.107', concavity_mean='0.05385', concave points_mean='0.03783', symmetry_mean='0.1714', fractal_dimension_mean='0.06843', radius_se='0.3191', texture_se='1.249', perimeter_se='2.284', area_se='26.45', smoothness_se='0.006739', compactness_se='0.02251', concavity_se='0.02086', concave points_se='0.01352', symmetry_se='0.0187', fractal_dimension_se='0.003747', radius_worst='15.11', texture_worst='25.63', perimeter_worst='99.43', area_worst='701.9', smoothness_worst='0.1425', compactness_worst='0.2566', concavity_worst='0.1935', concave points_worst='0.1284', symmetry_worst='0.2849', fractal_dimension_worst='0.09031', _c32=None),\n",
              " Row(id='917897', diagnosis='B', radius_mean='9.847', texture_mean='15.68', perimeter_mean='63', area_mean='293.2', smoothness_mean='0.09492', compactness_mean='0.08419', concavity_mean='0.0233', concave points_mean='0.02416', symmetry_mean='0.1387', fractal_dimension_mean='0.06891', radius_se='0.2498', texture_se='1.216', perimeter_se='1.976', area_se='15.24', smoothness_se='0.008732', compactness_se='0.02042', concavity_se='0.01062', concave points_se='0.006801', symmetry_se='0.01824', fractal_dimension_se='0.003494', radius_worst='11.24', texture_worst='22.99', perimeter_worst='74.32', area_worst='376.5', smoothness_worst='0.1419', compactness_worst='0.2243', concavity_worst='0.08434', concave points_worst='0.06528', symmetry_worst='0.2502', fractal_dimension_worst='0.09209', _c32=None),\n",
              " Row(id='91813702', diagnosis='B', radius_mean='12.34', texture_mean='12.27', perimeter_mean='78.94', area_mean='468.5', smoothness_mean='0.09003', compactness_mean='0.06307', concavity_mean='0.02958', concave points_mean='0.02647', symmetry_mean='0.1689', fractal_dimension_mean='0.05808', radius_se='0.1166', texture_se='0.4957', perimeter_se='0.7714', area_se='8.955', smoothness_se='0.003681', compactness_se='0.009169', concavity_se='0.008732', concave points_se='0.00574', symmetry_se='0.01129', fractal_dimension_se='0.001366', radius_worst='13.61', texture_worst='19.27', perimeter_worst='87.22', area_worst='564.9', smoothness_worst='0.1292', compactness_worst='0.2074', concavity_worst='0.1791', concave points_worst='0.107', symmetry_worst='0.311', fractal_dimension_worst='0.07592', _c32=None),\n",
              " Row(id='918465', diagnosis='B', radius_mean='12.07', texture_mean='13.44', perimeter_mean='77.83', area_mean='445.2', smoothness_mean='0.11', compactness_mean='0.09009', concavity_mean='0.03781', concave points_mean='0.02798', symmetry_mean='0.1657', fractal_dimension_mean='0.06608', radius_se='0.2513', texture_se='0.504', perimeter_se='1.714', area_se='18.54', smoothness_se='0.007327', compactness_se='0.01153', concavity_se='0.01798', concave points_se='0.007986', symmetry_se='0.01962', fractal_dimension_se='0.002234', radius_worst='13.45', texture_worst='15.77', perimeter_worst='86.92', area_worst='549.9', smoothness_worst='0.1521', compactness_worst='0.1632', concavity_worst='0.1622', concave points_worst='0.07393', symmetry_worst='0.2781', fractal_dimension_worst='0.08052', _c32=None),\n",
              " Row(id='91903902', diagnosis='B', radius_mean='13.68', texture_mean='16.33', perimeter_mean='87.76', area_mean='575.5', smoothness_mean='0.09277', compactness_mean='0.07255', concavity_mean='0.01752', concave points_mean='0.0188', symmetry_mean='0.1631', fractal_dimension_mean='0.06155', radius_se='0.2047', texture_se='0.4801', perimeter_se='1.373', area_se='17.25', smoothness_se='0.003828', compactness_se='0.007228', concavity_se='0.007078', concave points_se='0.005077', symmetry_se='0.01054', fractal_dimension_se='0.001697', radius_worst='15.85', texture_worst='20.2', perimeter_worst='101.6', area_worst='773.4', smoothness_worst='0.1264', compactness_worst='0.1564', concavity_worst='0.1206', concave points_worst='0.08704', symmetry_worst='0.2806', fractal_dimension_worst='0.07782', _c32=None),\n",
              " Row(id='919537', diagnosis='B', radius_mean='10.96', texture_mean='17.62', perimeter_mean='70.79', area_mean='365.6', smoothness_mean='0.09687', compactness_mean='0.09752', concavity_mean='0.05263', concave points_mean='0.02788', symmetry_mean='0.1619', fractal_dimension_mean='0.06408', radius_se='0.1507', texture_se='1.583', perimeter_se='1.165', area_se='10.09', smoothness_se='0.009501', compactness_se='0.03378', concavity_se='0.04401', concave points_se='0.01346', symmetry_se='0.01322', fractal_dimension_se='0.003534', radius_worst='11.62', texture_worst='26.51', perimeter_worst='76.43', area_worst='407.5', smoothness_worst='0.1428', compactness_worst='0.251', concavity_worst='0.2123', concave points_worst='0.09861', symmetry_worst='0.2289', fractal_dimension_worst='0.08278', _c32=None),\n",
              " Row(id='919555', diagnosis='M', radius_mean='20.55', texture_mean='20.86', perimeter_mean='137.8', area_mean='1308', smoothness_mean='0.1046', compactness_mean='0.1739', concavity_mean='0.2085', concave points_mean='0.1322', symmetry_mean='0.2127', fractal_dimension_mean='0.06251', radius_se='0.6986', texture_se='0.9901', perimeter_se='4.706', area_se='87.78', smoothness_se='0.004578', compactness_se='0.02616', concavity_se='0.04005', concave points_se='0.01421', symmetry_se='0.01948', fractal_dimension_se='0.002689', radius_worst='24.3', texture_worst='25.48', perimeter_worst='160.2', area_worst='1809', smoothness_worst='0.1268', compactness_worst='0.3135', concavity_worst='0.4433', concave points_worst='0.2148', symmetry_worst='0.3077', fractal_dimension_worst='0.07569', _c32=None),\n",
              " Row(id='91979701', diagnosis='M', radius_mean='14.27', texture_mean='22.55', perimeter_mean='93.77', area_mean='629.8', smoothness_mean='0.1038', compactness_mean='0.1154', concavity_mean='0.1463', concave points_mean='0.06139', symmetry_mean='0.1926', fractal_dimension_mean='0.05982', radius_se='0.2027', texture_se='1.851', perimeter_se='1.895', area_se='18.54', smoothness_se='0.006113', compactness_se='0.02583', concavity_se='0.04645', concave points_se='0.01276', symmetry_se='0.01451', fractal_dimension_se='0.003756', radius_worst='15.29', texture_worst='34.27', perimeter_worst='104.3', area_worst='728.3', smoothness_worst='0.138', compactness_worst='0.2733', concavity_worst='0.4234', concave points_worst='0.1362', symmetry_worst='0.2698', fractal_dimension_worst='0.08351', _c32=None),\n",
              " Row(id='921092', diagnosis='B', radius_mean='7.729', texture_mean='25.49', perimeter_mean='47.98', area_mean='178.8', smoothness_mean='0.08098', compactness_mean='0.04878', concavity_mean='0', concave points_mean='0', symmetry_mean='0.187', fractal_dimension_mean='0.07285', radius_se='0.3777', texture_se='1.462', perimeter_se='2.492', area_se='19.14', smoothness_se='0.01266', compactness_se='0.009692', concavity_se='0', concave points_se='0', symmetry_se='0.02882', fractal_dimension_se='0.006872', radius_worst='9.077', texture_worst='30.92', perimeter_worst='57.17', area_worst='248', smoothness_worst='0.1256', compactness_worst='0.0834', concavity_worst='0', concave points_worst='0', symmetry_worst='0.3058', fractal_dimension_worst='0.09938', _c32=None),\n",
              " Row(id='921362', diagnosis='B', radius_mean='7.691', texture_mean='25.44', perimeter_mean='48.34', area_mean='170.4', smoothness_mean='0.08668', compactness_mean='0.1199', concavity_mean='0.09252', concave points_mean='0.01364', symmetry_mean='0.2037', fractal_dimension_mean='0.07751', radius_se='0.2196', texture_se='1.479', perimeter_se='1.445', area_se='11.73', smoothness_se='0.01547', compactness_se='0.06457', concavity_se='0.09252', concave points_se='0.01364', symmetry_se='0.02105', fractal_dimension_se='0.007551', radius_worst='8.678', texture_worst='31.89', perimeter_worst='54.49', area_worst='223.6', smoothness_worst='0.1596', compactness_worst='0.3064', concavity_worst='0.3393', concave points_worst='0.05', symmetry_worst='0.279', fractal_dimension_worst='0.1066', _c32=None),\n",
              " Row(id='921385', diagnosis='B', radius_mean='11.54', texture_mean='14.44', perimeter_mean='74.65', area_mean='402.9', smoothness_mean='0.09984', compactness_mean='0.112', concavity_mean='0.06737', concave points_mean='0.02594', symmetry_mean='0.1818', fractal_dimension_mean='0.06782', radius_se='0.2784', texture_se='1.768', perimeter_se='1.628', area_se='20.86', smoothness_se='0.01215', compactness_se='0.04112', concavity_se='0.05553', concave points_se='0.01494', symmetry_se='0.0184', fractal_dimension_se='0.005512', radius_worst='12.26', texture_worst='19.68', perimeter_worst='78.78', area_worst='457.8', smoothness_worst='0.1345', compactness_worst='0.2118', concavity_worst='0.1797', concave points_worst='0.06918', symmetry_worst='0.2329', fractal_dimension_worst='0.08134', _c32=None),\n",
              " Row(id='922297', diagnosis='B', radius_mean='13.87', texture_mean='20.7', perimeter_mean='89.77', area_mean='584.8', smoothness_mean='0.09578', compactness_mean='0.1018', concavity_mean='0.03688', concave points_mean='0.02369', symmetry_mean='0.162', fractal_dimension_mean='0.06688', radius_se='0.272', texture_se='1.047', perimeter_se='2.076', area_se='23.12', smoothness_se='0.006298', compactness_se='0.02172', concavity_se='0.02615', concave points_se='0.009061', symmetry_se='0.0149', fractal_dimension_se='0.003599', radius_worst='15.05', texture_worst='24.75', perimeter_worst='99.17', area_worst='688.6', smoothness_worst='0.1264', compactness_worst='0.2037', concavity_worst='0.1377', concave points_worst='0.06845', symmetry_worst='0.2249', fractal_dimension_worst='0.08492', _c32=None),\n",
              " Row(id='922840', diagnosis='B', radius_mean='10.26', texture_mean='16.58', perimeter_mean='65.85', area_mean='320.8', smoothness_mean='0.08877', compactness_mean='0.08066', concavity_mean='0.04358', concave points_mean='0.02438', symmetry_mean='0.1669', fractal_dimension_mean='0.06714', radius_se='0.1144', texture_se='1.023', perimeter_se='0.9887', area_se='7.326', smoothness_se='0.01027', compactness_se='0.03084', concavity_se='0.02613', concave points_se='0.01097', symmetry_se='0.02277', fractal_dimension_se='0.00589', radius_worst='10.83', texture_worst='22.04', perimeter_worst='71.08', area_worst='357.4', smoothness_worst='0.1461', compactness_worst='0.2246', concavity_worst='0.1783', concave points_worst='0.08333', symmetry_worst='0.2691', fractal_dimension_worst='0.09479', _c32=None),\n",
              " Row(id='924084', diagnosis='B', radius_mean='12.77', texture_mean='29.43', perimeter_mean='81.35', area_mean='507.9', smoothness_mean='0.08276', compactness_mean='0.04234', concavity_mean='0.01997', concave points_mean='0.01499', symmetry_mean='0.1539', fractal_dimension_mean='0.05637', radius_se='0.2409', texture_se='1.367', perimeter_se='1.477', area_se='18.76', smoothness_se='0.008835', compactness_se='0.01233', concavity_se='0.01328', concave points_se='0.009305', symmetry_se='0.01897', fractal_dimension_se='0.001726', radius_worst='13.87', texture_worst='36', perimeter_worst='88.1', area_worst='594.7', smoothness_worst='0.1234', compactness_worst='0.1064', concavity_worst='0.08653', concave points_worst='0.06498', symmetry_worst='0.2407', fractal_dimension_worst='0.06484', _c32=None),\n",
              " Row(id='924342', diagnosis='B', radius_mean='9.333', texture_mean='21.94', perimeter_mean='59.01', area_mean='264', smoothness_mean='0.0924', compactness_mean='0.05605', concavity_mean='0.03996', concave points_mean='0.01282', symmetry_mean='0.1692', fractal_dimension_mean='0.06576', radius_se='0.3013', texture_se='1.879', perimeter_se='2.121', area_se='17.86', smoothness_se='0.01094', compactness_se='0.01834', concavity_se='0.03996', concave points_se='0.01282', symmetry_se='0.03759', fractal_dimension_se='0.004623', radius_worst='9.845', texture_worst='25.05', perimeter_worst='62.86', area_worst='295.8', smoothness_worst='0.1103', compactness_worst='0.08298', concavity_worst='0.07993', concave points_worst='0.02564', symmetry_worst='0.2435', fractal_dimension_worst='0.07393', _c32=None),\n",
              " Row(id='924632', diagnosis='B', radius_mean='12.88', texture_mean='28.92', perimeter_mean='82.5', area_mean='514.3', smoothness_mean='0.08123', compactness_mean='0.05824', concavity_mean='0.06195', concave points_mean='0.02343', symmetry_mean='0.1566', fractal_dimension_mean='0.05708', radius_se='0.2116', texture_se='1.36', perimeter_se='1.502', area_se='16.83', smoothness_se='0.008412', compactness_se='0.02153', concavity_se='0.03898', concave points_se='0.00762', symmetry_se='0.01695', fractal_dimension_se='0.002801', radius_worst='13.89', texture_worst='35.74', perimeter_worst='88.84', area_worst='595.7', smoothness_worst='0.1227', compactness_worst='0.162', concavity_worst='0.2439', concave points_worst='0.06493', symmetry_worst='0.2372', fractal_dimension_worst='0.07242', _c32=None),\n",
              " Row(id='925291', diagnosis='B', radius_mean='11.51', texture_mean='23.93', perimeter_mean='74.52', area_mean='403.5', smoothness_mean='0.09261', compactness_mean='0.1021', concavity_mean='0.1112', concave points_mean='0.04105', symmetry_mean='0.1388', fractal_dimension_mean='0.0657', radius_se='0.2388', texture_se='2.904', perimeter_se='1.936', area_se='16.97', smoothness_se='0.0082', compactness_se='0.02982', concavity_se='0.05738', concave points_se='0.01267', symmetry_se='0.01488', fractal_dimension_se='0.004738', radius_worst='12.48', texture_worst='37.16', perimeter_worst='82.28', area_worst='474.2', smoothness_worst='0.1298', compactness_worst='0.2517', concavity_worst='0.363', concave points_worst='0.09653', symmetry_worst='0.2112', fractal_dimension_worst='0.08732', _c32=None),\n",
              " Row(id='926125', diagnosis='M', radius_mean='20.92', texture_mean='25.09', perimeter_mean='143', area_mean='1347', smoothness_mean='0.1099', compactness_mean='0.2236', concavity_mean='0.3174', concave points_mean='0.1474', symmetry_mean='0.2149', fractal_dimension_mean='0.06879', radius_se='0.9622', texture_se='1.026', perimeter_se='8.758', area_se='118.8', smoothness_se='0.006399', compactness_se='0.0431', concavity_se='0.07845', concave points_se='0.02624', symmetry_se='0.02057', fractal_dimension_se='0.006213', radius_worst='24.29', texture_worst='29.41', perimeter_worst='179.1', area_worst='1819', smoothness_worst='0.1407', compactness_worst='0.4186', concavity_worst='0.6599', concave points_worst='0.2542', symmetry_worst='0.2929', fractal_dimension_worst='0.09873', _c32=None),\n",
              " Row(id='926424', diagnosis='M', radius_mean='21.56', texture_mean='22.39', perimeter_mean='142', area_mean='1479', smoothness_mean='0.111', compactness_mean='0.1159', concavity_mean='0.2439', concave points_mean='0.1389', symmetry_mean='0.1726', fractal_dimension_mean='0.05623', radius_se='1.176', texture_se='1.256', perimeter_se='7.673', area_se='158.7', smoothness_se='0.0103', compactness_se='0.02891', concavity_se='0.05198', concave points_se='0.02454', symmetry_se='0.01114', fractal_dimension_se='0.004239', radius_worst='25.45', texture_worst='26.4', perimeter_worst='166.1', area_worst='2027', smoothness_worst='0.141', compactness_worst='0.2113', concavity_worst='0.4107', concave points_worst='0.2216', symmetry_worst='0.206', fractal_dimension_worst='0.07115', _c32=None),\n",
              " Row(id='926954', diagnosis='M', radius_mean='16.6', texture_mean='28.08', perimeter_mean='108.3', area_mean='858.1', smoothness_mean='0.08455', compactness_mean='0.1023', concavity_mean='0.09251', concave points_mean='0.05302', symmetry_mean='0.159', fractal_dimension_mean='0.05648', radius_se='0.4564', texture_se='1.075', perimeter_se='3.425', area_se='48.55', smoothness_se='0.005903', compactness_se='0.03731', concavity_se='0.0473', concave points_se='0.01557', symmetry_se='0.01318', fractal_dimension_se='0.003892', radius_worst='18.98', texture_worst='34.12', perimeter_worst='126.7', area_worst='1124', smoothness_worst='0.1139', compactness_worst='0.3094', concavity_worst='0.3403', concave points_worst='0.1418', symmetry_worst='0.2218', fractal_dimension_worst='0.0782', _c32=None),\n",
              " Row(id='927241', diagnosis='M', radius_mean='20.6', texture_mean='29.33', perimeter_mean='140.1', area_mean='1265', smoothness_mean='0.1178', compactness_mean='0.277', concavity_mean='0.3514', concave points_mean='0.152', symmetry_mean='0.2397', fractal_dimension_mean='0.07016', radius_se='0.726', texture_se='1.595', perimeter_se='5.772', area_se='86.22', smoothness_se='0.006522', compactness_se='0.06158', concavity_se='0.07117', concave points_se='0.01664', symmetry_se='0.02324', fractal_dimension_se='0.006185', radius_worst='25.74', texture_worst='39.42', perimeter_worst='184.6', area_worst='1821', smoothness_worst='0.165', compactness_worst='0.8681', concavity_worst='0.9387', concave points_worst='0.265', symmetry_worst='0.4087', fractal_dimension_worst='0.124', _c32=None),\n",
              " Row(id='92751', diagnosis='B', radius_mean='7.76', texture_mean='24.54', perimeter_mean='47.92', area_mean='181', smoothness_mean='0.05263', compactness_mean='0.04362', concavity_mean='0', concave points_mean='0', symmetry_mean='0.1587', fractal_dimension_mean='0.05884', radius_se='0.3857', texture_se='1.428', perimeter_se='2.548', area_se='19.15', smoothness_se='0.007189', compactness_se='0.00466', concavity_se='0', concave points_se='0', symmetry_se='0.02676', fractal_dimension_se='0.002783', radius_worst='9.456', texture_worst='30.37', perimeter_worst='59.16', area_worst='268.6', smoothness_worst='0.08996', compactness_worst='0.06444', concavity_worst='0', concave points_worst='0', symmetry_worst='0.2871', fractal_dimension_worst='0.07039', _c32=None)]"
            ]
          },
          "metadata": {
            "tags": []
          },
          "execution_count": 29
        }
      ]
    },
    {
      "cell_type": "code",
      "metadata": {
        "id": "3DSQKHmvwtv1",
        "colab": {
          "base_uri": "https://localhost:8080/"
        },
        "outputId": "acaee93e-06f2-4b21-e951-4e86baff7114"
      },
      "source": [
        "len(df1.columns)"
      ],
      "execution_count": null,
      "outputs": [
        {
          "output_type": "execute_result",
          "data": {
            "text/plain": [
              "31"
            ]
          },
          "metadata": {
            "tags": []
          },
          "execution_count": 30
        }
      ]
    },
    {
      "cell_type": "code",
      "metadata": {
        "id": "z4ioiyB7xPg2",
        "colab": {
          "base_uri": "https://localhost:8080/"
        },
        "outputId": "fabf5c47-34dc-414f-a7f6-9fa9a72a21fb"
      },
      "source": [
        "df1.summary().show()"
      ],
      "execution_count": null,
      "outputs": [
        {
          "output_type": "stream",
          "text": [
            "+-------+--------------------+---------+------------------+------------------+------------------+-----------------+--------------------+-------------------+-------------------+-------------------+-------------------+----------------------+-------------------+------------------+-----------------+------------------+--------------------+--------------------+--------------------+--------------------+--------------------+--------------------+------------------+-----------------+------------------+-----------------+-------------------+-------------------+-------------------+--------------------+-------------------+-----------------------+----+\n",
            "|summary|                  id|diagnosis|       radius_mean|      texture_mean|    perimeter_mean|        area_mean|     smoothness_mean|   compactness_mean|     concavity_mean|concave points_mean|      symmetry_mean|fractal_dimension_mean|          radius_se|        texture_se|     perimeter_se|           area_se|       smoothness_se|      compactness_se|        concavity_se|   concave points_se|         symmetry_se|fractal_dimension_se|      radius_worst|    texture_worst|   perimeter_worst|       area_worst|   smoothness_worst|  compactness_worst|    concavity_worst|concave points_worst|     symmetry_worst|fractal_dimension_worst|_c32|\n",
            "+-------+--------------------+---------+------------------+------------------+------------------+-----------------+--------------------+-------------------+-------------------+-------------------+-------------------+----------------------+-------------------+------------------+-----------------+------------------+--------------------+--------------------+--------------------+--------------------+--------------------+--------------------+------------------+-----------------+------------------+-----------------+-------------------+-------------------+-------------------+--------------------+-------------------+-----------------------+----+\n",
            "|  count|                 274|      274|               274|               274|               274|              274|                 274|                274|                274|                274|                274|                   274|                274|               274|              274|               274|                 274|                 274|                 274|                 274|                 274|                 274|               274|              274|               274|              274|                274|                274|                274|                 274|                274|                    274|   0|\n",
            "|   mean| 3.179266706569343E7|     null|13.960364963503652|19.168832116788323| 90.75894160583942|640.0080291970798| 0.09605843065693434|0.10098846715328463|0.08214554014598545|0.04598049635036501|0.17939306569343055|    0.0628154744525547|0.39018722627737235| 1.188510218978102|2.773473357664236|38.503726277372294|0.006877715328467...|0.024175689781021914|0.030031959489051102| 0.01136518248175182|0.020725770072992717|0.003734288686131383|16.013135036496372|25.34901459854014|105.48715328467155|854.2605839416059| 0.1313738686131387|0.24261171532846695|0.25562523722627734| 0.10961371897810218|0.28917481751824825|    0.08353941605839413|null|\n",
            "| stddev|1.3269553903412111E8|     null|3.5308172125809714|4.2867295979224815|24.262623434931673|352.1788425664056|0.014022041835449665|0.04960273328446858|0.07382356360698064|0.03706928439961116|0.02621268579894481|  0.006834144664151741|  0.272611434924544|0.5539978329105167|2.032742807807761| 44.63957063287503|0.002963924395700264|0.016287951614077582| 0.02739341856376051|0.005860317258434808|0.008114194699020142|0.002393752659727423| 4.819666088172353|5.861880654958178| 33.39915932895886|561.1403638050223|0.02270122792012746|0.14392056530192995|0.20229615401441553| 0.06383618309550461|0.06377588151608249|    0.01660250414787201|null|\n",
            "|    min|              842517|        B|             10.03|             10.72|               100|             1006|             0.06251|            0.01938|                  0|                  0|              0.106|               0.05024|             0.1194|            0.3602|           0.9812|              10.5|            0.001713|            0.002252|                   0|                   0|            0.007882|           0.0008948|             10.01|            12.02|             100.3|             1021|            0.07117|            0.02729|                  0|                   0|             0.1565|                0.05504|null|\n",
            "|    25%|            866203.0|     null|             11.52|             16.21|             73.99|            406.3|             0.08597|            0.06141|            0.02688|            0.01915|             0.1632|                0.0578|             0.2241|            0.8285|            1.545|             17.74|             0.00502|             0.01263|             0.01453|            0.007096|             0.01518|            0.002153|             12.81|            20.92|             83.51|            496.2|             0.1148|              0.144|             0.1055|             0.06136|             0.2506|                0.07238|null|\n",
            "|    50%|            902975.0|     null|             13.01|             18.75|             84.18|            525.2|             0.09639|             0.0889|            0.05724|            0.03085|             0.1779|               0.06194|              0.306|             1.069|            2.203|             22.81|            0.006248|             0.01957|             0.02348|             0.01071|               0.019|            0.003187|             14.67|            25.47|             96.05|            656.7|             0.1311|             0.2101|             0.2151|             0.09678|             0.2829|                0.08022|null|\n",
            "|    75%|           8812844.0|     null|             15.27|              21.6|             100.0|            719.5|              0.1049|             0.1273|              0.118|            0.06759|             0.1949|               0.06612|             0.4426|              1.46|            3.176|             40.09|            0.007997|             0.03206|             0.04029|             0.01471|              0.0237|            0.004584|             17.73|            28.94|             119.1|            973.1|             0.1436|             0.3124|             0.3538|              0.1565|             0.3157|                0.09215|null|\n",
            "|    max|              926125|        M|             9.876|              9.71|             99.58|            998.9|              0.1634|             0.2839|             0.3368|             0.1913|             0.2743|               0.09744|              2.873|             4.885|            8.867|             97.85|             0.03113|              0.1064|              0.3038|              0.0409|             0.05963|             0.02286|             9.968|            44.87|             99.71|            988.6|             0.2184|             0.9379|              1.252|              0.2867|             0.6638|                  0.173|null|\n",
            "+-------+--------------------+---------+------------------+------------------+------------------+-----------------+--------------------+-------------------+-------------------+-------------------+-------------------+----------------------+-------------------+------------------+-----------------+------------------+--------------------+--------------------+--------------------+--------------------+--------------------+--------------------+------------------+-----------------+------------------+-----------------+-------------------+-------------------+-------------------+--------------------+-------------------+-----------------------+----+\n",
            "\n"
          ],
          "name": "stdout"
        }
      ]
    },
    {
      "cell_type": "code",
      "metadata": {
        "id": "qiHqyoYGxRn3",
        "colab": {
          "base_uri": "https://localhost:8080/"
        },
        "outputId": "a9dacb24-7736-4a5a-b354-e25329642d17"
      },
      "source": [
        "print(df1.schema)"
      ],
      "execution_count": null,
      "outputs": [
        {
          "output_type": "stream",
          "text": [
            "StructType(List(StructField(diagnosis,StringType,true),StructField(radius_mean,StringType,true),StructField(texture_mean,StringType,true),StructField(perimeter_mean,StringType,true),StructField(area_mean,StringType,true),StructField(smoothness_mean,StringType,true),StructField(compactness_mean,StringType,true),StructField(concavity_mean,StringType,true),StructField(concave_points_mean,StringType,true),StructField(symmetry_mean,StringType,true),StructField(fractal_dimension_mean,StringType,true),StructField(radius_se,StringType,true),StructField(texture_se,StringType,true),StructField(perimeter_se,StringType,true),StructField(area_se,StringType,true),StructField(smoothness_se,StringType,true),StructField(compactness_se,StringType,true),StructField(concavity_se,StringType,true),StructField(concave_points_se,StringType,true),StructField(symmetry_se,StringType,true),StructField(fractal_dimension_se,StringType,true),StructField(radius_worst,StringType,true),StructField(texture_worst,StringType,true),StructField(perimeter_worst,StringType,true),StructField(area_worst,StringType,true),StructField(smoothness_worst,StringType,true),StructField(compactness_worst,StringType,true),StructField(concavity_worst,StringType,true),StructField(concave_points_worst,StringType,true),StructField(symmetry_worst,StringType,true),StructField(fractal_dimension_worst,StringType,true)))\n"
          ],
          "name": "stdout"
        }
      ]
    },
    {
      "cell_type": "code",
      "metadata": {
        "id": "SiUfxoHUyNt5",
        "colab": {
          "base_uri": "https://localhost:8080/"
        },
        "outputId": "17bbd1d7-c66b-4097-c19c-30cd3b212eb9"
      },
      "source": [
        "df1.describe().show()"
      ],
      "execution_count": null,
      "outputs": [
        {
          "output_type": "stream",
          "text": [
            "+-------+-------------------+------------------+-----------------+------------------+------------------+-------------------+-------------------+-------------------+-------------------+-------------------+----------------------+-------------------+------------------+------------------+-----------------+--------------------+--------------------+--------------------+--------------------+--------------------+--------------------+------------------+------------------+------------------+-----------------+-------------------+-------------------+-------------------+--------------------+-------------------+-----------------------+\n",
            "|summary|          diagnosis|       radius_mean|     texture_mean|    perimeter_mean|         area_mean|    smoothness_mean|   compactness_mean|     concavity_mean|concave_points_mean|      symmetry_mean|fractal_dimension_mean|          radius_se|        texture_se|      perimeter_se|          area_se|       smoothness_se|      compactness_se|        concavity_se|   concave_points_se|         symmetry_se|fractal_dimension_se|      radius_worst|     texture_worst|   perimeter_worst|       area_worst|   smoothness_worst|  compactness_worst|    concavity_worst|concave_points_worst|     symmetry_worst|fractal_dimension_worst|\n",
            "+-------+-------------------+------------------+-----------------+------------------+------------------+-------------------+-------------------+-------------------+-------------------+-------------------+----------------------+-------------------+------------------+------------------+-----------------+--------------------+--------------------+--------------------+--------------------+--------------------+--------------------+------------------+------------------+------------------+-----------------+-------------------+-------------------+-------------------+--------------------+-------------------+-----------------------+\n",
            "|  count|                284|               284|              284|               284|               284|                284|                284|                284|                284|                284|                   284|                284|               284|               284|              284|                 284|                 284|                 284|                 284|                 284|                 284|               284|               284|               284|              284|                284|                284|                284|                 284|                284|                    284|\n",
            "|   mean|0.38028169014084506|14.190225352112675|19.48109154929578| 92.29024647887317| 658.0968309859156|0.09593489436619722|0.10236366197183099|0.08638257992957746|0.04855973591549297|0.17815985915492963|   0.06249193661971829|  0.392426408450704| 1.221938028169014| 2.744973591549297|38.64550000000002|0.006960880281690144|0.023830221830985925|0.029511924647887326| 0.01132731338028169| 0.01957597535211267|0.003639799295774648|16.373228873239437|26.012007042253508|107.63059859154924|887.6693661971833|0.13253288732394367| 0.2525753873239436| 0.2681345704225353|  0.1153099366197183|0.28639330985915507|    0.08418711267605634|\n",
            "| stddev|  0.486312938062693| 3.436532406487548| 4.57402157434941|23.626830654875345|333.55357157973407|0.01417760034628244|0.05341629684064613|0.07827952943645514|0.03790182074107148|0.02553210010299071|  0.007013739276525632|0.24053273185822838|0.5646402491736761|1.6541260464360055|35.42149263429898|0.003105514774378...|0.015841491373493933|0.026898792544792795|0.005742027406665837|0.007319652666272313|0.002238416131132141| 4.736409270515022|6.3164284525125405| 32.54972936865338|541.9420573368992|0.02266037188187156|0.15793492197645237|0.20896498790681664|  0.0669692151743633|0.06022234882367214|   0.018277936556919606|\n",
            "|    min|                  0|             10.03|            10.38|             100.3|              1001|            0.05263|             0.0265|                  0|                  0|              0.106|               0.04996|             0.1144|            0.3602|            0.8439|            10.08|            0.002667|             0.00371|                   0|                   0|            0.009947|           0.0008948|             10.17|             12.02|             100.9|             1021|            0.08409|            0.04327|                  0|                   0|             0.1566|                0.05521|\n",
            "|    max|                  1|             9.876|             9.71|             99.58|             998.9|             0.1634|             0.3114|             0.4268|             0.2012|             0.2655|               0.09744|              1.509|             3.896|             9.807|            99.04|             0.03113|             0.09806|              0.3038|             0.03927|             0.06146|             0.02193|             9.733|             49.54|             99.71|            993.6|             0.2098|              1.058|              1.252|              0.2903|             0.6638|                 0.2075|\n",
            "+-------+-------------------+------------------+-----------------+------------------+------------------+-------------------+-------------------+-------------------+-------------------+-------------------+----------------------+-------------------+------------------+------------------+-----------------+--------------------+--------------------+--------------------+--------------------+--------------------+--------------------+------------------+------------------+------------------+-----------------+-------------------+-------------------+-------------------+--------------------+-------------------+-----------------------+\n",
            "\n"
          ],
          "name": "stdout"
        }
      ]
    },
    {
      "cell_type": "code",
      "metadata": {
        "id": "LzNQSebvy4Ne",
        "colab": {
          "base_uri": "https://localhost:8080/",
          "height": 461
        },
        "outputId": "7bfdb585-08e2-4423-f0cc-7df61b86c860"
      },
      "source": [
        "df1.toPandas()"
      ],
      "execution_count": null,
      "outputs": [
        {
          "output_type": "execute_result",
          "data": {
            "text/html": [
              "<div>\n",
              "<style scoped>\n",
              "    .dataframe tbody tr th:only-of-type {\n",
              "        vertical-align: middle;\n",
              "    }\n",
              "\n",
              "    .dataframe tbody tr th {\n",
              "        vertical-align: top;\n",
              "    }\n",
              "\n",
              "    .dataframe thead th {\n",
              "        text-align: right;\n",
              "    }\n",
              "</style>\n",
              "<table border=\"1\" class=\"dataframe\">\n",
              "  <thead>\n",
              "    <tr style=\"text-align: right;\">\n",
              "      <th></th>\n",
              "      <th>id</th>\n",
              "      <th>diagnosis</th>\n",
              "      <th>radius_mean</th>\n",
              "      <th>texture_mean</th>\n",
              "      <th>perimeter_mean</th>\n",
              "      <th>area_mean</th>\n",
              "      <th>smoothness_mean</th>\n",
              "      <th>compactness_mean</th>\n",
              "      <th>concavity_mean</th>\n",
              "      <th>concave points_mean</th>\n",
              "      <th>symmetry_mean</th>\n",
              "      <th>fractal_dimension_mean</th>\n",
              "      <th>radius_se</th>\n",
              "      <th>texture_se</th>\n",
              "      <th>perimeter_se</th>\n",
              "      <th>area_se</th>\n",
              "      <th>smoothness_se</th>\n",
              "      <th>compactness_se</th>\n",
              "      <th>concavity_se</th>\n",
              "      <th>concave points_se</th>\n",
              "      <th>symmetry_se</th>\n",
              "      <th>fractal_dimension_se</th>\n",
              "      <th>radius_worst</th>\n",
              "      <th>texture_worst</th>\n",
              "      <th>perimeter_worst</th>\n",
              "      <th>area_worst</th>\n",
              "      <th>smoothness_worst</th>\n",
              "      <th>compactness_worst</th>\n",
              "      <th>concavity_worst</th>\n",
              "      <th>concave points_worst</th>\n",
              "      <th>symmetry_worst</th>\n",
              "      <th>fractal_dimension_worst</th>\n",
              "      <th>_c32</th>\n",
              "    </tr>\n",
              "  </thead>\n",
              "  <tbody>\n",
              "    <tr>\n",
              "      <th>0</th>\n",
              "      <td>84300903</td>\n",
              "      <td>M</td>\n",
              "      <td>19.69</td>\n",
              "      <td>21.25</td>\n",
              "      <td>130</td>\n",
              "      <td>1203</td>\n",
              "      <td>0.1096</td>\n",
              "      <td>0.1599</td>\n",
              "      <td>0.1974</td>\n",
              "      <td>0.1279</td>\n",
              "      <td>0.2069</td>\n",
              "      <td>0.05999</td>\n",
              "      <td>0.7456</td>\n",
              "      <td>0.7869</td>\n",
              "      <td>4.585</td>\n",
              "      <td>94.03</td>\n",
              "      <td>0.00615</td>\n",
              "      <td>0.04006</td>\n",
              "      <td>0.03832</td>\n",
              "      <td>0.02058</td>\n",
              "      <td>0.0225</td>\n",
              "      <td>0.004571</td>\n",
              "      <td>23.57</td>\n",
              "      <td>25.53</td>\n",
              "      <td>152.5</td>\n",
              "      <td>1709</td>\n",
              "      <td>0.1444</td>\n",
              "      <td>0.4245</td>\n",
              "      <td>0.4504</td>\n",
              "      <td>0.243</td>\n",
              "      <td>0.3613</td>\n",
              "      <td>0.08758</td>\n",
              "      <td>None</td>\n",
              "    </tr>\n",
              "    <tr>\n",
              "      <th>1</th>\n",
              "      <td>844359</td>\n",
              "      <td>M</td>\n",
              "      <td>18.25</td>\n",
              "      <td>19.98</td>\n",
              "      <td>119.6</td>\n",
              "      <td>1040</td>\n",
              "      <td>0.09463</td>\n",
              "      <td>0.109</td>\n",
              "      <td>0.1127</td>\n",
              "      <td>0.074</td>\n",
              "      <td>0.1794</td>\n",
              "      <td>0.05742</td>\n",
              "      <td>0.4467</td>\n",
              "      <td>0.7732</td>\n",
              "      <td>3.18</td>\n",
              "      <td>53.91</td>\n",
              "      <td>0.004314</td>\n",
              "      <td>0.01382</td>\n",
              "      <td>0.02254</td>\n",
              "      <td>0.01039</td>\n",
              "      <td>0.01369</td>\n",
              "      <td>0.002179</td>\n",
              "      <td>22.88</td>\n",
              "      <td>27.66</td>\n",
              "      <td>153.2</td>\n",
              "      <td>1606</td>\n",
              "      <td>0.1442</td>\n",
              "      <td>0.2576</td>\n",
              "      <td>0.3784</td>\n",
              "      <td>0.1932</td>\n",
              "      <td>0.3063</td>\n",
              "      <td>0.08368</td>\n",
              "      <td>None</td>\n",
              "    </tr>\n",
              "    <tr>\n",
              "      <th>2</th>\n",
              "      <td>84458202</td>\n",
              "      <td>M</td>\n",
              "      <td>13.71</td>\n",
              "      <td>20.83</td>\n",
              "      <td>90.2</td>\n",
              "      <td>577.9</td>\n",
              "      <td>0.1189</td>\n",
              "      <td>0.1645</td>\n",
              "      <td>0.09366</td>\n",
              "      <td>0.05985</td>\n",
              "      <td>0.2196</td>\n",
              "      <td>0.07451</td>\n",
              "      <td>0.5835</td>\n",
              "      <td>1.377</td>\n",
              "      <td>3.856</td>\n",
              "      <td>50.96</td>\n",
              "      <td>0.008805</td>\n",
              "      <td>0.03029</td>\n",
              "      <td>0.02488</td>\n",
              "      <td>0.01448</td>\n",
              "      <td>0.01486</td>\n",
              "      <td>0.005412</td>\n",
              "      <td>17.06</td>\n",
              "      <td>28.14</td>\n",
              "      <td>110.6</td>\n",
              "      <td>897</td>\n",
              "      <td>0.1654</td>\n",
              "      <td>0.3682</td>\n",
              "      <td>0.2678</td>\n",
              "      <td>0.1556</td>\n",
              "      <td>0.3196</td>\n",
              "      <td>0.1151</td>\n",
              "      <td>None</td>\n",
              "    </tr>\n",
              "    <tr>\n",
              "      <th>3</th>\n",
              "      <td>844981</td>\n",
              "      <td>M</td>\n",
              "      <td>13</td>\n",
              "      <td>21.82</td>\n",
              "      <td>87.5</td>\n",
              "      <td>519.8</td>\n",
              "      <td>0.1273</td>\n",
              "      <td>0.1932</td>\n",
              "      <td>0.1859</td>\n",
              "      <td>0.09353</td>\n",
              "      <td>0.235</td>\n",
              "      <td>0.07389</td>\n",
              "      <td>0.3063</td>\n",
              "      <td>1.002</td>\n",
              "      <td>2.406</td>\n",
              "      <td>24.32</td>\n",
              "      <td>0.005731</td>\n",
              "      <td>0.03502</td>\n",
              "      <td>0.03553</td>\n",
              "      <td>0.01226</td>\n",
              "      <td>0.02143</td>\n",
              "      <td>0.003749</td>\n",
              "      <td>15.49</td>\n",
              "      <td>30.73</td>\n",
              "      <td>106.2</td>\n",
              "      <td>739.3</td>\n",
              "      <td>0.1703</td>\n",
              "      <td>0.5401</td>\n",
              "      <td>0.539</td>\n",
              "      <td>0.206</td>\n",
              "      <td>0.4378</td>\n",
              "      <td>0.1072</td>\n",
              "      <td>None</td>\n",
              "    </tr>\n",
              "    <tr>\n",
              "      <th>4</th>\n",
              "      <td>84501001</td>\n",
              "      <td>M</td>\n",
              "      <td>12.46</td>\n",
              "      <td>24.04</td>\n",
              "      <td>83.97</td>\n",
              "      <td>475.9</td>\n",
              "      <td>0.1186</td>\n",
              "      <td>0.2396</td>\n",
              "      <td>0.2273</td>\n",
              "      <td>0.08543</td>\n",
              "      <td>0.203</td>\n",
              "      <td>0.08243</td>\n",
              "      <td>0.2976</td>\n",
              "      <td>1.599</td>\n",
              "      <td>2.039</td>\n",
              "      <td>23.94</td>\n",
              "      <td>0.007149</td>\n",
              "      <td>0.07217</td>\n",
              "      <td>0.07743</td>\n",
              "      <td>0.01432</td>\n",
              "      <td>0.01789</td>\n",
              "      <td>0.01008</td>\n",
              "      <td>15.09</td>\n",
              "      <td>40.68</td>\n",
              "      <td>97.65</td>\n",
              "      <td>711.4</td>\n",
              "      <td>0.1853</td>\n",
              "      <td>1.058</td>\n",
              "      <td>1.105</td>\n",
              "      <td>0.221</td>\n",
              "      <td>0.4366</td>\n",
              "      <td>0.2075</td>\n",
              "      <td>None</td>\n",
              "    </tr>\n",
              "    <tr>\n",
              "      <th>...</th>\n",
              "      <td>...</td>\n",
              "      <td>...</td>\n",
              "      <td>...</td>\n",
              "      <td>...</td>\n",
              "      <td>...</td>\n",
              "      <td>...</td>\n",
              "      <td>...</td>\n",
              "      <td>...</td>\n",
              "      <td>...</td>\n",
              "      <td>...</td>\n",
              "      <td>...</td>\n",
              "      <td>...</td>\n",
              "      <td>...</td>\n",
              "      <td>...</td>\n",
              "      <td>...</td>\n",
              "      <td>...</td>\n",
              "      <td>...</td>\n",
              "      <td>...</td>\n",
              "      <td>...</td>\n",
              "      <td>...</td>\n",
              "      <td>...</td>\n",
              "      <td>...</td>\n",
              "      <td>...</td>\n",
              "      <td>...</td>\n",
              "      <td>...</td>\n",
              "      <td>...</td>\n",
              "      <td>...</td>\n",
              "      <td>...</td>\n",
              "      <td>...</td>\n",
              "      <td>...</td>\n",
              "      <td>...</td>\n",
              "      <td>...</td>\n",
              "      <td>...</td>\n",
              "    </tr>\n",
              "    <tr>\n",
              "      <th>275</th>\n",
              "      <td>925311</td>\n",
              "      <td>B</td>\n",
              "      <td>11.2</td>\n",
              "      <td>29.37</td>\n",
              "      <td>70.67</td>\n",
              "      <td>386</td>\n",
              "      <td>0.07449</td>\n",
              "      <td>0.03558</td>\n",
              "      <td>0</td>\n",
              "      <td>0</td>\n",
              "      <td>0.106</td>\n",
              "      <td>0.05502</td>\n",
              "      <td>0.3141</td>\n",
              "      <td>3.896</td>\n",
              "      <td>2.041</td>\n",
              "      <td>22.81</td>\n",
              "      <td>0.007594</td>\n",
              "      <td>0.008878</td>\n",
              "      <td>0</td>\n",
              "      <td>0</td>\n",
              "      <td>0.01989</td>\n",
              "      <td>0.001773</td>\n",
              "      <td>11.92</td>\n",
              "      <td>38.3</td>\n",
              "      <td>75.19</td>\n",
              "      <td>439.6</td>\n",
              "      <td>0.09267</td>\n",
              "      <td>0.05494</td>\n",
              "      <td>0</td>\n",
              "      <td>0</td>\n",
              "      <td>0.1566</td>\n",
              "      <td>0.05905</td>\n",
              "      <td>None</td>\n",
              "    </tr>\n",
              "    <tr>\n",
              "      <th>276</th>\n",
              "      <td>925622</td>\n",
              "      <td>M</td>\n",
              "      <td>15.22</td>\n",
              "      <td>30.62</td>\n",
              "      <td>103.4</td>\n",
              "      <td>716.9</td>\n",
              "      <td>0.1048</td>\n",
              "      <td>0.2087</td>\n",
              "      <td>0.255</td>\n",
              "      <td>0.09429</td>\n",
              "      <td>0.2128</td>\n",
              "      <td>0.07152</td>\n",
              "      <td>0.2602</td>\n",
              "      <td>1.205</td>\n",
              "      <td>2.362</td>\n",
              "      <td>22.65</td>\n",
              "      <td>0.004625</td>\n",
              "      <td>0.04844</td>\n",
              "      <td>0.07359</td>\n",
              "      <td>0.01608</td>\n",
              "      <td>0.02137</td>\n",
              "      <td>0.006142</td>\n",
              "      <td>17.52</td>\n",
              "      <td>42.79</td>\n",
              "      <td>128.7</td>\n",
              "      <td>915</td>\n",
              "      <td>0.1417</td>\n",
              "      <td>0.7917</td>\n",
              "      <td>1.17</td>\n",
              "      <td>0.2356</td>\n",
              "      <td>0.4089</td>\n",
              "      <td>0.1409</td>\n",
              "      <td>None</td>\n",
              "    </tr>\n",
              "    <tr>\n",
              "      <th>277</th>\n",
              "      <td>926125</td>\n",
              "      <td>M</td>\n",
              "      <td>20.92</td>\n",
              "      <td>25.09</td>\n",
              "      <td>143</td>\n",
              "      <td>1347</td>\n",
              "      <td>0.1099</td>\n",
              "      <td>0.2236</td>\n",
              "      <td>0.3174</td>\n",
              "      <td>0.1474</td>\n",
              "      <td>0.2149</td>\n",
              "      <td>0.06879</td>\n",
              "      <td>0.9622</td>\n",
              "      <td>1.026</td>\n",
              "      <td>8.758</td>\n",
              "      <td>118.8</td>\n",
              "      <td>0.006399</td>\n",
              "      <td>0.0431</td>\n",
              "      <td>0.07845</td>\n",
              "      <td>0.02624</td>\n",
              "      <td>0.02057</td>\n",
              "      <td>0.006213</td>\n",
              "      <td>24.29</td>\n",
              "      <td>29.41</td>\n",
              "      <td>179.1</td>\n",
              "      <td>1819</td>\n",
              "      <td>0.1407</td>\n",
              "      <td>0.4186</td>\n",
              "      <td>0.6599</td>\n",
              "      <td>0.2542</td>\n",
              "      <td>0.2929</td>\n",
              "      <td>0.09873</td>\n",
              "      <td>None</td>\n",
              "    </tr>\n",
              "    <tr>\n",
              "      <th>278</th>\n",
              "      <td>926424</td>\n",
              "      <td>M</td>\n",
              "      <td>21.56</td>\n",
              "      <td>22.39</td>\n",
              "      <td>142</td>\n",
              "      <td>1479</td>\n",
              "      <td>0.111</td>\n",
              "      <td>0.1159</td>\n",
              "      <td>0.2439</td>\n",
              "      <td>0.1389</td>\n",
              "      <td>0.1726</td>\n",
              "      <td>0.05623</td>\n",
              "      <td>1.176</td>\n",
              "      <td>1.256</td>\n",
              "      <td>7.673</td>\n",
              "      <td>158.7</td>\n",
              "      <td>0.0103</td>\n",
              "      <td>0.02891</td>\n",
              "      <td>0.05198</td>\n",
              "      <td>0.02454</td>\n",
              "      <td>0.01114</td>\n",
              "      <td>0.004239</td>\n",
              "      <td>25.45</td>\n",
              "      <td>26.4</td>\n",
              "      <td>166.1</td>\n",
              "      <td>2027</td>\n",
              "      <td>0.141</td>\n",
              "      <td>0.2113</td>\n",
              "      <td>0.4107</td>\n",
              "      <td>0.2216</td>\n",
              "      <td>0.206</td>\n",
              "      <td>0.07115</td>\n",
              "      <td>None</td>\n",
              "    </tr>\n",
              "    <tr>\n",
              "      <th>279</th>\n",
              "      <td>927241</td>\n",
              "      <td>M</td>\n",
              "      <td>20.6</td>\n",
              "      <td>29.33</td>\n",
              "      <td>140.1</td>\n",
              "      <td>1265</td>\n",
              "      <td>0.1178</td>\n",
              "      <td>0.277</td>\n",
              "      <td>0.3514</td>\n",
              "      <td>0.152</td>\n",
              "      <td>0.2397</td>\n",
              "      <td>0.07016</td>\n",
              "      <td>0.726</td>\n",
              "      <td>1.595</td>\n",
              "      <td>5.772</td>\n",
              "      <td>86.22</td>\n",
              "      <td>0.006522</td>\n",
              "      <td>0.06158</td>\n",
              "      <td>0.07117</td>\n",
              "      <td>0.01664</td>\n",
              "      <td>0.02324</td>\n",
              "      <td>0.006185</td>\n",
              "      <td>25.74</td>\n",
              "      <td>39.42</td>\n",
              "      <td>184.6</td>\n",
              "      <td>1821</td>\n",
              "      <td>0.165</td>\n",
              "      <td>0.8681</td>\n",
              "      <td>0.9387</td>\n",
              "      <td>0.265</td>\n",
              "      <td>0.4087</td>\n",
              "      <td>0.124</td>\n",
              "      <td>None</td>\n",
              "    </tr>\n",
              "  </tbody>\n",
              "</table>\n",
              "<p>280 rows × 33 columns</p>\n",
              "</div>"
            ],
            "text/plain": [
              "           id diagnosis  ... fractal_dimension_worst  _c32\n",
              "0    84300903         M  ...                 0.08758  None\n",
              "1      844359         M  ...                 0.08368  None\n",
              "2    84458202         M  ...                  0.1151  None\n",
              "3      844981         M  ...                  0.1072  None\n",
              "4    84501001         M  ...                  0.2075  None\n",
              "..        ...       ...  ...                     ...   ...\n",
              "275    925311         B  ...                 0.05905  None\n",
              "276    925622         M  ...                  0.1409  None\n",
              "277    926125         M  ...                 0.09873  None\n",
              "278    926424         M  ...                 0.07115  None\n",
              "279    927241         M  ...                   0.124  None\n",
              "\n",
              "[280 rows x 33 columns]"
            ]
          },
          "metadata": {
            "tags": []
          },
          "execution_count": 51
        }
      ]
    },
    {
      "cell_type": "code",
      "metadata": {
        "id": "SKJOw6hzzGRt",
        "colab": {
          "base_uri": "https://localhost:8080/"
        },
        "outputId": "3770074d-0079-4642-bd15-c187c48e48e8"
      },
      "source": [
        "df1.count()"
      ],
      "execution_count": null,
      "outputs": [
        {
          "output_type": "execute_result",
          "data": {
            "text/plain": [
              "284"
            ]
          },
          "metadata": {
            "tags": []
          },
          "execution_count": 35
        }
      ]
    },
    {
      "cell_type": "code",
      "metadata": {
        "id": "-n-aNDk70wHy",
        "colab": {
          "base_uri": "https://localhost:8080/"
        },
        "outputId": "9c8e8770-40a3-4376-f7a6-d9650337e9bc"
      },
      "source": [
        "df1.crosstab(\"radius_mean\", \"texture_mean\").show()"
      ],
      "execution_count": null,
      "outputs": [
        {
          "output_type": "stream",
          "text": [
            "+------------------------+-----+-----+-----+-----+-----+-----+-----+-----+-----+-----+-----+-----+-----+-----+-----+-----+----+-----+-----+-----+-----+-----+-----+-----+-----+-----+-----+-----+-----+-----+-----+-----+-----+-----+----+-----+-----+-----+-----+----+-----+-----+-----+-----+-----+-----+-----+----+-----+-----+-----+-----+-----+-----+-----+-----+-----+-----+-----+-----+-----+-----+-----+-----+-----+-----+-----+-----+-----+-----+-----+-----+-----+---+-----+-----+-----+-----+-----+-----+-----+-----+----+-----+-----+-----+-----+-----+-----+-----+-----+-----+-----+-----+-----+-----+-----+-----+-----+-----+-----+-----+-----+-----+-----+----+-----+-----+-----+-----+-----+----+-----+-----+----+-----+-----+-----+----+-----+-----+----+-----+-----+-----+-----+-----+-----+-----+-----+-----+-----+-----+-----+-----+-----+-----+-----+----+-----+-----+-----+-----+-----+-----+-----+-----+-----+-----+-----+-----+-----+-----+-----+----+-----+-----+-----+-----+-----+-----+-----+-----+-----+-----+-----+----+-----+-----+-----+-----+-----+-----+-----+-----+-----+-----+-----+-----+-----+-----+-----+-----+-----+-----+----+----+-----+-----+-----+-----+-----+-----+-----+-----+-----+-----+-----+----+-----+-----+-----+-----+-----+-----+-----+-----+-----+----+-----+-----+-----+-----+-----+-----+-----+-----+-----+-----+-----+-----+-----+-----+-----+-----+-----+-----+-----+-----+-----+-----+-----+-----+-----+-----+-----+-----+-----+-----+-----+-----+-----+-----+-----+-----+----+-----+-----+-----+-----+-----+-----+-----+-----+-----+-----+-----+-----+-----+-----+----+\n",
            "|radius_mean_texture_mean|10.38|10.72|10.89|10.91|11.28|11.79|11.97|12.17|12.22|12.39|12.44|12.74|12.87|12.96|13.04|13.06|13.1|13.12|13.16|13.17|13.23|13.29|13.32|13.37|13.43|13.44|13.72|13.84|13.93|14.06|14.08|14.09|14.16|14.36|14.4|14.59|14.64|14.65|14.69|14.7|14.78|14.86|14.92|14.93|14.96|14.97|15.05|15.1|15.11|15.21|15.51|15.68|15.69|15.71|15.86|15.92|15.98|16.02|16.03|16.15|16.16|16.35|16.39|16.49|16.52|16.54|16.58|16.62|16.67|16.68|16.82|16.84|16.95| 17|17.02|17.08|17.12|17.15|17.18|17.19|17.25|17.27|17.3|17.31|17.33|17.36|17.39|17.43|17.46|17.48|17.52|17.53|17.56|17.57|17.62|17.64|17.67|17.68|17.72|17.77|17.89|17.92|17.94|18.03|18.07|18.1|18.14|18.15|18.17|18.18|18.22|18.3|18.33|18.36|18.4|18.42|18.57|18.59|18.6|18.61|18.77|18.8|18.84|18.87|18.91|18.94|19.08|19.11|19.22|19.24|19.29|19.31|19.32|19.34|19.35|19.48|19.54|19.56|19.6|19.62|19.63|19.65|19.66|19.76|19.77|19.82|19.83|19.86|19.94|19.97|19.98|20.02|20.04|20.11|20.2|20.21|20.25|20.28|20.31|20.38|20.52|20.53|20.58|20.66|20.67|20.68|20.7|20.74|20.76|20.82|20.83|20.86|20.97|21.02|21.24|21.28|21.31|21.41|21.43|21.46|21.51|21.53|21.54|21.56|21.59|21.6|21.7|21.72|21.81|21.82|21.84|22.02|22.04|22.11|22.14|22.15|22.22|22.28|22.3|22.33|22.39|22.41|22.53|22.55|22.72|22.91|23.03|23.09|23.2|23.24|23.29|23.33|23.56|23.81|23.84|23.86|23.93|23.97|24.02|24.04|24.44|24.48|24.49|24.52|24.54|24.59|24.68|24.99|25.22|25.25|25.42|25.49|25.56|25.74|26.47|26.57|26.67|26.86|27.08|27.61|27.81|27.85|27.88|28.03|28.06|28.2|28.21|28.23|28.25|28.77|28.92|29.29|29.33|29.37|29.81|29.97|30.72|32.47|33.56|39.28|9.71|\n",
            "+------------------------+-----+-----+-----+-----+-----+-----+-----+-----+-----+-----+-----+-----+-----+-----+-----+-----+----+-----+-----+-----+-----+-----+-----+-----+-----+-----+-----+-----+-----+-----+-----+-----+-----+-----+----+-----+-----+-----+-----+----+-----+-----+-----+-----+-----+-----+-----+----+-----+-----+-----+-----+-----+-----+-----+-----+-----+-----+-----+-----+-----+-----+-----+-----+-----+-----+-----+-----+-----+-----+-----+-----+-----+---+-----+-----+-----+-----+-----+-----+-----+-----+----+-----+-----+-----+-----+-----+-----+-----+-----+-----+-----+-----+-----+-----+-----+-----+-----+-----+-----+-----+-----+-----+-----+----+-----+-----+-----+-----+-----+----+-----+-----+----+-----+-----+-----+----+-----+-----+----+-----+-----+-----+-----+-----+-----+-----+-----+-----+-----+-----+-----+-----+-----+-----+-----+----+-----+-----+-----+-----+-----+-----+-----+-----+-----+-----+-----+-----+-----+-----+-----+----+-----+-----+-----+-----+-----+-----+-----+-----+-----+-----+-----+----+-----+-----+-----+-----+-----+-----+-----+-----+-----+-----+-----+-----+-----+-----+-----+-----+-----+-----+----+----+-----+-----+-----+-----+-----+-----+-----+-----+-----+-----+-----+----+-----+-----+-----+-----+-----+-----+-----+-----+-----+----+-----+-----+-----+-----+-----+-----+-----+-----+-----+-----+-----+-----+-----+-----+-----+-----+-----+-----+-----+-----+-----+-----+-----+-----+-----+-----+-----+-----+-----+-----+-----+-----+-----+-----+-----+-----+----+-----+-----+-----+-----+-----+-----+-----+-----+-----+-----+-----+-----+-----+-----+----+\n",
            "|                   9.668|    0|    0|    0|    0|    0|    0|    0|    0|    0|    0|    0|    0|    0|    0|    0|    0|   0|    0|    0|    0|    0|    0|    0|    0|    0|    0|    0|    0|    0|    0|    0|    0|    0|    0|   0|    0|    0|    0|    0|   0|    0|    0|    0|    0|    0|    0|    0|   0|    0|    0|    0|    0|    0|    0|    0|    0|    0|    0|    0|    0|    0|    0|    0|    0|    0|    0|    0|    0|    0|    0|    0|    0|    0|  0|    0|    0|    0|    0|    0|    0|    0|    0|   0|    0|    0|    0|    0|    0|    0|    0|    0|    0|    0|    0|    0|    0|    0|    0|    0|    0|    0|    0|    0|    0|    0|   1|    0|    0|    0|    0|    0|   0|    0|    0|   0|    0|    0|    0|   0|    0|    0|   0|    0|    0|    0|    0|    0|    0|    0|    0|    0|    0|    0|    0|    0|    0|    0|    0|   0|    0|    0|    0|    0|    0|    0|    0|    0|    0|    0|    0|    0|    0|    0|    0|   0|    0|    0|    0|    0|    0|    0|    0|    0|    0|    0|    0|   0|    0|    0|    0|    0|    0|    0|    0|    0|    0|    0|    0|    0|    0|    0|    0|    0|    0|    0|   0|   0|    0|    0|    0|    0|    0|    0|    0|    0|    0|    0|    0|   0|    0|    0|    0|    0|    0|    0|    0|    0|    0|   0|    0|    0|    0|    0|    0|    0|    0|    0|    0|    0|    0|    0|    0|    0|    0|    0|    0|    0|    0|    0|    0|    0|    0|    0|    0|    0|    0|    0|    0|    0|    0|    0|    0|    0|    0|    0|   0|    0|    0|    0|    0|    0|    0|    0|    0|    0|    0|    0|    0|    0|    0|   0|\n",
            "|                    7.76|    0|    0|    0|    0|    0|    0|    0|    0|    0|    0|    0|    0|    0|    0|    0|    0|   0|    0|    0|    0|    0|    0|    0|    0|    0|    0|    0|    0|    0|    0|    0|    0|    0|    0|   0|    0|    0|    0|    0|   0|    0|    0|    0|    0|    0|    0|    0|   0|    0|    0|    0|    0|    0|    0|    0|    0|    0|    0|    0|    0|    0|    0|    0|    0|    0|    0|    0|    0|    0|    0|    0|    0|    0|  0|    0|    0|    0|    0|    0|    0|    0|    0|   0|    0|    0|    0|    0|    0|    0|    0|    0|    0|    0|    0|    0|    0|    0|    0|    0|    0|    0|    0|    0|    0|    0|   0|    0|    0|    0|    0|    0|   0|    0|    0|   0|    0|    0|    0|   0|    0|    0|   0|    0|    0|    0|    0|    0|    0|    0|    0|    0|    0|    0|    0|    0|    0|    0|    0|   0|    0|    0|    0|    0|    0|    0|    0|    0|    0|    0|    0|    0|    0|    0|    0|   0|    0|    0|    0|    0|    0|    0|    0|    0|    0|    0|    0|   0|    0|    0|    0|    0|    0|    0|    0|    0|    0|    0|    0|    0|    0|    0|    0|    0|    0|    0|   0|   0|    0|    0|    0|    0|    0|    0|    0|    0|    0|    0|    0|   0|    0|    0|    0|    0|    0|    0|    0|    0|    0|   0|    0|    0|    0|    0|    0|    0|    0|    0|    0|    0|    0|    0|    0|    0|    0|    1|    0|    0|    0|    0|    0|    0|    0|    0|    0|    0|    0|    0|    0|    0|    0|    0|    0|    0|    0|    0|   0|    0|    0|    0|    0|    0|    0|    0|    0|    0|    0|    0|    0|    0|    0|   0|\n",
            "|                   13.46|    0|    0|    0|    0|    0|    0|    0|    0|    0|    0|    0|    0|    0|    0|    0|    0|   0|    0|    0|    0|    0|    0|    0|    0|    0|    0|    0|    0|    0|    0|    0|    0|    0|    0|   0|    0|    0|    0|    0|   0|    0|    0|    0|    0|    0|    0|    0|   0|    0|    0|    0|    0|    0|    0|    0|    0|    0|    0|    0|    0|    0|    0|    0|    0|    0|    0|    0|    0|    0|    0|    0|    0|    0|  0|    0|    0|    0|    0|    0|    0|    0|    0|   0|    0|    0|    0|    0|    0|    0|    0|    0|    0|    0|    0|    0|    0|    0|    0|    0|    0|    0|    0|    0|    0|    0|   0|    0|    0|    0|    0|    0|   0|    0|    0|   0|    0|    0|    0|   0|    0|    0|   0|    0|    0|    0|    0|    0|    0|    0|    0|    0|    0|    0|    0|    0|    0|    0|    0|   0|    0|    0|    0|    0|    0|    0|    0|    0|    0|    0|    0|    0|    0|    0|    0|   0|    0|    0|    0|    0|    0|    0|    0|    0|    0|    0|    0|   0|    0|    0|    0|    0|    0|    0|    0|    0|    0|    0|    0|    0|    0|    0|    0|    0|    0|    0|   0|   0|    0|    0|    0|    0|    0|    0|    0|    0|    0|    0|    0|   0|    0|    0|    0|    0|    0|    0|    0|    0|    0|   0|    0|    0|    0|    0|    0|    0|    0|    0|    0|    0|    0|    0|    0|    0|    0|    0|    0|    0|    0|    0|    0|    0|    0|    0|    0|    0|    0|    0|    0|    0|    0|    0|    0|    0|    0|    0|   0|    1|    0|    0|    0|    0|    0|    0|    0|    0|    0|    0|    0|    0|    0|   0|\n",
            "|                   14.22|    0|    0|    0|    0|    0|    0|    0|    0|    0|    0|    0|    0|    0|    0|    0|    0|   0|    0|    0|    0|    0|    0|    0|    0|    0|    0|    0|    0|    0|    0|    0|    0|    0|    0|   0|    0|    0|    0|    0|   0|    0|    0|    0|    0|    0|    0|    0|   0|    0|    0|    0|    0|    0|    0|    0|    0|    0|    0|    0|    0|    0|    0|    0|    0|    0|    0|    0|    0|    0|    0|    0|    0|    0|  0|    0|    0|    0|    0|    0|    0|    0|    0|   0|    0|    0|    0|    0|    0|    0|    0|    0|    0|    0|    0|    0|    0|    0|    0|    0|    0|    0|    0|    0|    0|    0|   0|    0|    0|    0|    0|    0|   0|    0|    0|   0|    0|    0|    0|   0|    0|    0|   0|    0|    0|    0|    0|    0|    0|    0|    0|    0|    0|    0|    0|    0|    0|    0|    0|   0|    0|    0|    0|    0|    0|    0|    0|    0|    0|    0|    0|    0|    0|    0|    0|   0|    0|    0|    0|    0|    0|    0|    0|    0|    0|    0|    0|   0|    0|    0|    0|    0|    0|    0|    0|    0|    0|    0|    0|    0|    0|    0|    0|    0|    0|    0|   0|   0|    0|    0|    0|    0|    0|    0|    0|    0|    0|    0|    0|   0|    0|    0|    0|    0|    0|    0|    0|    0|    0|   0|    0|    0|    0|    0|    0|    0|    0|    0|    0|    0|    0|    0|    0|    0|    0|    0|    0|    0|    0|    0|    0|    0|    0|    0|    0|    0|    0|    0|    0|    0|    0|    0|    1|    0|    0|    0|   0|    0|    0|    0|    0|    0|    0|    0|    0|    0|    0|    0|    0|    0|    0|   0|\n",
            "|                   12.43|    0|    0|    0|    0|    0|    0|    0|    0|    0|    0|    0|    0|    0|    0|    0|    0|   0|    0|    0|    0|    0|    0|    0|    0|    0|    0|    0|    0|    0|    0|    0|    0|    0|    0|   0|    0|    0|    0|    0|   0|    0|    0|    0|    0|    0|    0|    0|   0|    0|    0|    0|    0|    0|    0|    0|    0|    0|    0|    0|    0|    0|    0|    0|    0|    0|    0|    0|    0|    0|    0|    0|    0|    0|  1|    0|    0|    0|    0|    0|    0|    0|    0|   0|    0|    0|    0|    0|    0|    0|    0|    0|    0|    0|    0|    0|    0|    0|    0|    0|    0|    0|    0|    0|    0|    0|   0|    0|    0|    0|    0|    0|   0|    0|    0|   0|    0|    0|    0|   0|    0|    0|   0|    0|    0|    0|    0|    0|    0|    0|    0|    0|    0|    0|    0|    0|    0|    0|    0|   0|    0|    0|    0|    0|    0|    0|    0|    0|    0|    0|    0|    0|    0|    0|    0|   0|    0|    0|    0|    0|    0|    0|    0|    0|    0|    0|    0|   0|    0|    0|    0|    0|    0|    0|    0|    0|    0|    0|    0|    0|    0|    0|    0|    0|    0|    0|   0|   0|    0|    0|    0|    0|    0|    0|    0|    0|    0|    0|    0|   0|    0|    0|    0|    0|    0|    0|    0|    0|    0|   0|    0|    0|    0|    0|    0|    0|    0|    0|    0|    0|    0|    0|    0|    0|    0|    0|    0|    0|    0|    0|    0|    0|    0|    0|    0|    0|    0|    0|    0|    0|    0|    0|    0|    0|    0|    0|   0|    0|    0|    0|    0|    0|    0|    0|    0|    0|    0|    0|    0|    0|    0|   0|\n",
            "|                   12.21|    0|    0|    0|    0|    0|    0|    0|    0|    0|    0|    0|    0|    0|    0|    0|    0|   0|    0|    0|    0|    0|    0|    0|    0|    0|    0|    0|    0|    0|    0|    0|    1|    0|    0|   0|    0|    0|    0|    0|   0|    0|    0|    0|    0|    0|    0|    0|   0|    0|    0|    0|    0|    0|    0|    0|    0|    0|    0|    0|    0|    0|    0|    0|    0|    0|    0|    0|    0|    0|    0|    0|    0|    0|  0|    0|    0|    0|    0|    0|    0|    0|    0|   0|    0|    0|    0|    0|    0|    0|    0|    0|    0|    0|    0|    0|    0|    0|    0|    0|    0|    0|    0|    0|    0|    0|   0|    0|    0|    0|    0|    0|   0|    0|    0|   0|    0|    0|    0|   0|    0|    0|   0|    0|    0|    0|    0|    0|    0|    0|    0|    0|    0|    0|    0|    0|    0|    0|    0|   0|    0|    0|    0|    0|    0|    0|    0|    0|    0|    0|    0|    0|    0|    0|    0|   0|    0|    0|    0|    0|    0|    0|    0|    0|    0|    0|    0|   0|    0|    0|    0|    0|    0|    0|    0|    0|    0|    0|    0|    0|    0|    0|    0|    0|    0|    0|   0|   0|    0|    0|    0|    0|    0|    0|    0|    0|    0|    0|    0|   0|    0|    0|    0|    0|    0|    0|    0|    0|    0|   0|    0|    0|    0|    0|    0|    0|    0|    0|    0|    0|    0|    0|    0|    0|    0|    0|    0|    0|    0|    0|    0|    0|    0|    0|    0|    0|    0|    0|    0|    0|    0|    0|    0|    0|    0|    0|   0|    0|    0|    0|    0|    0|    0|    0|    0|    0|    0|    0|    0|    0|    0|   0|\n",
            "|                    10.8|    0|    0|    0|    0|    0|    0|    0|    0|    0|    0|    0|    0|    0|    0|    0|    0|   0|    0|    0|    0|    0|    0|    0|    0|    0|    0|    0|    0|    0|    0|    0|    0|    0|    0|   0|    0|    0|    0|    0|   0|    0|    0|    0|    0|    0|    0|    0|   0|    0|    0|    0|    0|    0|    0|    0|    0|    0|    0|    0|    0|    0|    0|    0|    0|    0|    0|    0|    0|    0|    0|    0|    0|    0|  0|    0|    0|    0|    0|    0|    0|    0|    0|   0|    0|    0|    0|    0|    0|    0|    0|    0|    0|    0|    0|    0|    0|    0|    0|    0|    0|    0|    0|    0|    0|    0|   0|    0|    0|    0|    0|    0|   0|    0|    0|   0|    0|    0|    0|   0|    0|    0|   0|    0|    0|    0|    0|    0|    0|    0|    0|    0|    0|    0|    0|    0|    0|    0|    0|   0|    0|    0|    0|    0|    0|    0|    0|    0|    0|    0|    0|    0|    0|    0|    0|   0|    0|    0|    0|    0|    0|    0|    0|    0|    0|    0|    0|   0|    0|    0|    0|    0|    0|    0|    0|    0|    0|    0|    0|    0|    0|    0|    0|    0|    0|    0|   0|   0|    0|    0|    0|    0|    0|    0|    0|    0|    0|    0|    0|   0|    0|    0|    0|    0|    0|    0|    0|    0|    0|   0|    0|    0|    0|    0|    0|    0|    0|    0|    0|    0|    0|    0|    0|    0|    0|    0|    0|    0|    0|    0|    0|    0|    0|    0|    0|    0|    0|    0|    0|    0|    0|    0|    0|    0|    0|    0|   0|    0|    0|    0|    0|    0|    0|    0|    0|    0|    0|    0|    0|    0|    0|   1|\n",
            "|                   6.981|    0|    0|    0|    0|    0|    0|    0|    0|    0|    0|    0|    0|    0|    0|    0|    0|   0|    0|    0|    0|    0|    0|    0|    0|    1|    0|    0|    0|    0|    0|    0|    0|    0|    0|   0|    0|    0|    0|    0|   0|    0|    0|    0|    0|    0|    0|    0|   0|    0|    0|    0|    0|    0|    0|    0|    0|    0|    0|    0|    0|    0|    0|    0|    0|    0|    0|    0|    0|    0|    0|    0|    0|    0|  0|    0|    0|    0|    0|    0|    0|    0|    0|   0|    0|    0|    0|    0|    0|    0|    0|    0|    0|    0|    0|    0|    0|    0|    0|    0|    0|    0|    0|    0|    0|    0|   0|    0|    0|    0|    0|    0|   0|    0|    0|   0|    0|    0|    0|   0|    0|    0|   0|    0|    0|    0|    0|    0|    0|    0|    0|    0|    0|    0|    0|    0|    0|    0|    0|   0|    0|    0|    0|    0|    0|    0|    0|    0|    0|    0|    0|    0|    0|    0|    0|   0|    0|    0|    0|    0|    0|    0|    0|    0|    0|    0|    0|   0|    0|    0|    0|    0|    0|    0|    0|    0|    0|    0|    0|    0|    0|    0|    0|    0|    0|    0|   0|   0|    0|    0|    0|    0|    0|    0|    0|    0|    0|    0|    0|   0|    0|    0|    0|    0|    0|    0|    0|    0|    0|   0|    0|    0|    0|    0|    0|    0|    0|    0|    0|    0|    0|    0|    0|    0|    0|    0|    0|    0|    0|    0|    0|    0|    0|    0|    0|    0|    0|    0|    0|    0|    0|    0|    0|    0|    0|    0|   0|    0|    0|    0|    0|    0|    0|    0|    0|    0|    0|    0|    0|    0|    0|   0|\n",
            "|                   10.29|    0|    0|    0|    0|    0|    0|    0|    0|    0|    0|    0|    0|    0|    0|    0|    0|   0|    0|    0|    0|    0|    0|    0|    0|    0|    0|    0|    0|    0|    0|    0|    0|    0|    0|   0|    0|    0|    0|    0|   0|    0|    0|    0|    0|    0|    0|    0|   0|    0|    0|    0|    0|    0|    0|    0|    0|    0|    0|    0|    0|    0|    0|    0|    0|    0|    0|    0|    0|    0|    0|    0|    0|    0|  0|    0|    0|    0|    0|    0|    0|    0|    0|   0|    0|    0|    0|    0|    0|    0|    0|    0|    0|    0|    0|    0|    0|    0|    0|    0|    0|    0|    0|    0|    0|    0|   0|    0|    0|    0|    0|    0|   0|    0|    0|   0|    0|    0|    0|   0|    0|    0|   0|    0|    0|    0|    0|    0|    0|    0|    0|    0|    0|    0|    0|    0|    0|    0|    0|   0|    0|    0|    0|    0|    0|    0|    0|    0|    0|    0|    0|    0|    0|    0|    0|   0|    0|    0|    0|    0|    0|    0|    0|    0|    0|    0|    0|   0|    0|    0|    0|    0|    0|    0|    0|    0|    0|    0|    0|    0|    0|    0|    0|    0|    0|    0|   0|   0|    0|    0|    0|    0|    0|    0|    0|    0|    0|    0|    0|   0|    0|    0|    0|    0|    0|    0|    0|    0|    0|   0|    0|    0|    0|    0|    0|    0|    0|    0|    0|    0|    0|    0|    0|    0|    0|    0|    0|    0|    0|    0|    0|    0|    0|    0|    0|    0|    0|    0|    0|    0|    1|    0|    0|    0|    0|    0|   0|    0|    0|    0|    0|    0|    0|    0|    0|    0|    0|    0|    0|    0|    0|   0|\n",
            "|                   12.32|    0|    0|    0|    0|    0|    0|    0|    0|    0|    1|    0|    0|    0|    0|    0|    0|   0|    0|    0|    0|    0|    0|    0|    0|    0|    0|    0|    0|    0|    0|    0|    0|    0|    0|   0|    0|    0|    0|    0|   0|    0|    0|    0|    0|    0|    0|    0|   0|    0|    0|    0|    0|    0|    0|    0|    0|    0|    0|    0|    0|    0|    0|    0|    0|    0|    0|    0|    0|    0|    0|    0|    0|    0|  0|    0|    0|    0|    0|    0|    0|    0|    0|   0|    0|    0|    0|    0|    0|    0|    0|    0|    0|    0|    0|    0|    0|    0|    0|    0|    0|    0|    0|    0|    0|    0|   0|    0|    0|    0|    0|    0|   0|    0|    0|   0|    0|    0|    0|   0|    0|    0|   0|    0|    0|    0|    0|    0|    0|    0|    0|    0|    0|    0|    0|    0|    0|    0|    0|   0|    0|    0|    0|    0|    0|    0|    0|    0|    0|    0|    0|    0|    0|    0|    0|   0|    0|    0|    0|    0|    0|    0|    0|    0|    0|    0|    0|   0|    0|    0|    0|    0|    0|    0|    0|    0|    0|    0|    0|    0|    0|    0|    0|    0|    0|    0|   0|   0|    0|    0|    0|    0|    0|    0|    0|    0|    0|    0|    0|   0|    0|    0|    0|    0|    0|    0|    0|    0|    0|   0|    0|    0|    0|    0|    0|    0|    0|    0|    0|    0|    0|    0|    0|    0|    0|    0|    0|    0|    0|    0|    0|    0|    0|    0|    0|    0|    0|    0|    0|    0|    0|    0|    0|    0|    0|    0|   0|    0|    0|    0|    0|    0|    0|    0|    0|    0|    0|    0|    0|    0|    0|   0|\n",
            "|                   14.71|    0|    0|    0|    0|    0|    0|    0|    0|    0|    0|    0|    0|    0|    0|    0|    0|   0|    0|    0|    0|    0|    0|    0|    0|    0|    0|    0|    0|    0|    0|    0|    0|    0|    0|   0|    0|    0|    0|    0|   0|    0|    0|    0|    0|    0|    0|    0|   0|    0|    0|    0|    0|    0|    0|    0|    0|    0|    0|    0|    0|    0|    0|    0|    0|    0|    0|    0|    0|    0|    0|    0|    0|    0|  0|    0|    0|    0|    0|    0|    0|    0|    0|   0|    0|    0|    0|    0|    0|    0|    0|    0|    0|    0|    0|    0|    0|    0|    0|    0|    0|    0|    0|    0|    0|    0|   0|    0|    0|    0|    0|    0|   0|    0|    0|   0|    0|    0|    0|   0|    0|    0|   0|    0|    0|    0|    0|    0|    0|    0|    0|    0|    0|    0|    0|    0|    0|    0|    0|   0|    0|    0|    0|    0|    0|    0|    0|    0|    0|    0|    0|    0|    0|    0|    0|   0|    0|    0|    0|    0|    0|    0|    0|    0|    0|    0|    0|   0|    0|    0|    0|    0|    0|    0|    0|    0|    0|    0|    0|    0|    0|    0|    0|    0|    0|    1|   0|   0|    0|    0|    0|    0|    0|    0|    0|    0|    0|    0|    0|   0|    0|    0|    0|    0|    0|    0|    0|    0|    0|   0|    0|    0|    0|    0|    0|    0|    0|    0|    0|    0|    0|    0|    0|    0|    0|    0|    0|    0|    0|    0|    0|    0|    0|    0|    0|    0|    0|    0|    0|    0|    0|    0|    0|    0|    0|    0|   0|    0|    0|    0|    0|    0|    0|    0|    0|    0|    0|    0|    0|    0|    0|   0|\n",
            "|                      12|    0|    0|    0|    0|    0|    0|    0|    0|    0|    0|    0|    0|    0|    0|    0|    0|   0|    0|    0|    0|    0|    0|    0|    0|    0|    0|    0|    0|    0|    0|    0|    0|    0|    0|   0|    0|    0|    0|    0|   0|    0|    0|    0|    0|    0|    0|    0|   0|    0|    0|    0|    0|    0|    0|    0|    0|    0|    0|    0|    0|    0|    0|    0|    0|    0|    0|    0|    0|    0|    0|    0|    0|    0|  0|    0|    0|    0|    0|    0|    0|    0|    0|   0|    0|    0|    0|    0|    0|    0|    0|    0|    0|    0|    0|    0|    0|    0|    0|    0|    0|    0|    0|    0|    0|    0|   0|    0|    0|    0|    0|    0|   0|    0|    0|   0|    0|    0|    0|   0|    0|    0|   0|    0|    0|    0|    0|    0|    0|    0|    0|    0|    0|    0|    0|    0|    0|    0|    0|   0|    0|    0|    0|    0|    0|    0|    0|    0|    0|    0|    0|    0|    0|    0|    0|   0|    0|    0|    0|    0|    0|    0|    0|    0|    0|    0|    0|   0|    0|    0|    0|    0|    0|    0|    0|    0|    0|    0|    0|    0|    0|    0|    0|    0|    0|    0|   0|   0|    0|    0|    0|    0|    0|    0|    0|    0|    0|    0|    0|   0|    0|    0|    0|    0|    0|    0|    0|    0|    0|   0|    0|    0|    0|    0|    0|    0|    0|    0|    0|    0|    0|    0|    0|    0|    0|    0|    0|    0|    0|    0|    0|    0|    0|    0|    0|    0|    0|    0|    0|    0|    0|    0|    0|    0|    0|    0|   0|    0|    1|    0|    0|    0|    0|    0|    0|    0|    0|    0|    0|    0|    0|   0|\n",
            "|                   11.75|    0|    0|    0|    0|    0|    0|    0|    0|    0|    0|    0|    0|    0|    0|    0|    0|   0|    0|    0|    0|    0|    0|    0|    0|    0|    0|    0|    0|    0|    0|    0|    0|    0|    0|   0|    0|    0|    0|    0|   0|    0|    0|    0|    0|    0|    0|    0|   0|    0|    0|    0|    0|    0|    0|    0|    0|    0|    0|    0|    0|    0|    0|    0|    0|    0|    0|    0|    0|    0|    0|    0|    0|    0|  0|    0|    0|    0|    0|    0|    0|    0|    0|   0|    0|    0|    0|    0|    0|    0|    0|    0|    0|    1|    0|    0|    0|    0|    0|    0|    0|    0|    0|    0|    0|    0|   0|    0|    0|    0|    0|    0|   0|    0|    0|   0|    0|    0|    0|   0|    0|    0|   0|    0|    0|    0|    0|    0|    0|    0|    0|    0|    0|    0|    0|    0|    0|    0|    0|   0|    0|    0|    0|    0|    0|    0|    0|    0|    0|    0|    0|    0|    0|    0|    0|   0|    0|    0|    0|    0|    0|    0|    0|    0|    0|    0|    0|   0|    0|    0|    0|    0|    0|    0|    0|    0|    0|    0|    0|    0|    0|    0|    0|    0|    0|    0|   0|   0|    0|    0|    0|    0|    0|    0|    0|    0|    0|    0|    0|   0|    0|    0|    0|    0|    0|    0|    0|    0|    0|   0|    0|    0|    0|    0|    0|    0|    0|    0|    0|    0|    0|    0|    0|    0|    0|    0|    0|    0|    0|    0|    0|    0|    0|    0|    0|    0|    0|    0|    0|    0|    0|    0|    0|    0|    0|    0|   0|    0|    0|    0|    0|    0|    0|    0|    0|    0|    0|    0|    0|    0|    0|   0|\n",
            "|                   14.62|    0|    0|    0|    0|    0|    0|    0|    0|    0|    0|    0|    0|    0|    0|    0|    0|   0|    0|    0|    0|    0|    0|    0|    0|    0|    0|    0|    0|    0|    0|    0|    0|    0|    0|   0|    0|    0|    0|    0|   0|    0|    0|    0|    0|    0|    0|    0|   0|    0|    0|    0|    0|    0|    0|    0|    0|    0|    0|    0|    0|    0|    0|    0|    0|    0|    0|    0|    0|    0|    0|    0|    0|    0|  0|    0|    0|    0|    0|    0|    0|    0|    0|   0|    0|    0|    0|    0|    0|    0|    0|    0|    0|    0|    0|    0|    0|    0|    0|    0|    0|    0|    0|    0|    0|    0|   0|    0|    0|    0|    0|    0|   0|    0|    0|   0|    0|    0|    0|   0|    0|    0|   0|    0|    0|    0|    0|    0|    0|    0|    0|    0|    0|    0|    0|    0|    0|    0|    0|   0|    0|    0|    0|    0|    0|    0|    0|    0|    0|    0|    0|    0|    0|    0|    0|   0|    0|    0|    0|    0|    0|    0|    0|    0|    0|    0|    0|   0|    0|    0|    0|    0|    0|    0|    0|    0|    0|    0|    0|    0|    0|    0|    0|    0|    0|    0|   0|   0|    0|    0|    0|    0|    0|    0|    0|    0|    0|    0|    0|   0|    0|    0|    0|    0|    0|    0|    0|    0|    0|   0|    0|    0|    0|    0|    0|    0|    0|    0|    0|    1|    0|    0|    0|    0|    0|    0|    0|    0|    0|    0|    0|    0|    0|    0|    0|    0|    0|    0|    0|    0|    0|    0|    0|    0|    0|    0|   0|    0|    0|    0|    0|    0|    0|    0|    0|    0|    0|    0|    0|    0|    0|   0|\n",
            "|                   20.26|    0|    0|    0|    0|    0|    0|    0|    0|    0|    0|    0|    0|    0|    0|    0|    0|   0|    0|    0|    0|    0|    0|    0|    0|    0|    0|    0|    0|    0|    0|    0|    0|    0|    0|   0|    0|    0|    0|    0|   0|    0|    0|    0|    0|    0|    0|    0|   0|    0|    0|    0|    0|    0|    0|    0|    0|    0|    0|    0|    0|    0|    0|    0|    0|    0|    0|    0|    0|    0|    0|    0|    0|    0|  0|    0|    0|    0|    0|    0|    0|    0|    0|   0|    0|    0|    0|    0|    0|    0|    0|    0|    0|    0|    0|    0|    0|    0|    0|    0|    0|    0|    0|    0|    0|    0|   0|    0|    0|    0|    0|    0|   0|    0|    0|   0|    0|    0|    0|   0|    0|    0|   0|    0|    0|    0|    0|    0|    0|    0|    0|    0|    0|    0|    0|    0|    0|    0|    0|   0|    0|    0|    0|    0|    0|    0|    0|    0|    0|    0|    0|    0|    0|    0|    0|   0|    0|    0|    0|    0|    0|    0|    0|    0|    0|    0|    0|   0|    0|    0|    0|    0|    0|    0|    0|    0|    0|    0|    0|    0|    0|    0|    0|    0|    0|    0|   0|   0|    0|    0|    0|    0|    0|    0|    0|    0|    0|    0|    0|   0|    0|    0|    0|    0|    0|    0|    0|    1|    0|   0|    0|    0|    0|    0|    0|    0|    0|    0|    0|    0|    0|    0|    0|    0|    0|    0|    0|    0|    0|    0|    0|    0|    0|    0|    0|    0|    0|    0|    0|    0|    0|    0|    0|    0|    0|    0|   0|    0|    0|    0|    0|    0|    0|    0|    0|    0|    0|    0|    0|    0|    0|   0|\n",
            "|                   11.69|    0|    0|    0|    0|    0|    0|    0|    0|    0|    0|    0|    0|    0|    0|    0|    0|   0|    0|    0|    0|    0|    0|    0|    0|    0|    0|    0|    0|    0|    0|    0|    0|    0|    0|   0|    0|    0|    0|    0|   0|    0|    0|    0|    0|    0|    0|    0|   0|    0|    0|    0|    0|    0|    0|    0|    0|    0|    0|    0|    0|    0|    0|    0|    0|    0|    0|    0|    0|    0|    0|    0|    0|    0|  0|    0|    0|    0|    0|    0|    0|    0|    0|   0|    0|    0|    0|    0|    0|    0|    0|    0|    0|    0|    0|    0|    0|    0|    0|    0|    0|    0|    0|    0|    0|    0|   0|    0|    0|    0|    0|    0|   0|    0|    0|   0|    0|    0|    0|   0|    0|    0|   0|    0|    0|    0|    0|    0|    0|    0|    0|    0|    0|    0|    0|    0|    0|    0|    0|   0|    0|    0|    0|    0|    0|    0|    0|    0|    0|    0|    0|    0|    0|    0|    0|   0|    0|    0|    0|    0|    0|    0|    0|    0|    0|    0|    0|   0|    0|    0|    0|    0|    0|    0|    0|    0|    0|    0|    0|    0|    0|    0|    0|    0|    0|    0|   0|   0|    0|    0|    0|    0|    0|    0|    0|    0|    0|    0|    0|   0|    0|    0|    0|    0|    0|    0|    0|    0|    0|   0|    0|    0|    0|    0|    0|    0|    0|    0|    0|    0|    0|    1|    0|    0|    0|    0|    0|    0|    0|    0|    0|    0|    0|    0|    0|    0|    0|    0|    0|    0|    0|    0|    0|    0|    0|    0|   0|    0|    0|    0|    0|    0|    0|    0|    0|    0|    0|    0|    0|    0|    0|   0|\n",
            "|                   12.58|    0|    0|    0|    0|    0|    0|    0|    0|    0|    0|    0|    0|    0|    0|    0|    0|   0|    0|    0|    0|    0|    0|    0|    0|    0|    0|    0|    0|    0|    0|    0|    0|    0|    0|   0|    0|    0|    0|    0|   0|    0|    0|    0|    0|    0|    0|    0|   0|    0|    0|    0|    0|    0|    0|    0|    0|    0|    0|    0|    0|    0|    0|    0|    0|    0|    0|    0|    0|    0|    0|    0|    0|    0|  0|    0|    0|    0|    0|    0|    0|    0|    0|   0|    0|    0|    0|    0|    0|    0|    0|    0|    0|    0|    0|    0|    0|    0|    0|    0|    0|    0|    0|    0|    0|    0|   0|    0|    0|    0|    0|    0|   0|    0|    0|   1|    0|    0|    0|   0|    0|    0|   0|    0|    0|    0|    0|    0|    0|    0|    0|    0|    0|    0|    0|    0|    0|    0|    0|   0|    0|    0|    0|    0|    0|    0|    0|    0|    0|    0|    0|    0|    0|    0|    0|   0|    0|    0|    0|    0|    0|    0|    0|    0|    0|    0|    0|   0|    0|    0|    0|    0|    0|    0|    0|    0|    0|    0|    0|    0|    0|    0|    0|    0|    0|    0|   0|   0|    0|    0|    0|    0|    0|    0|    0|    0|    0|    0|    0|   0|    0|    0|    0|    0|    0|    0|    0|    0|    0|   0|    0|    0|    0|    0|    0|    0|    0|    0|    0|    0|    0|    0|    0|    0|    0|    0|    0|    0|    0|    0|    0|    0|    0|    0|    0|    0|    0|    0|    0|    0|    0|    0|    0|    0|    0|    0|   0|    0|    0|    0|    0|    0|    0|    0|    0|    0|    0|    0|    0|    0|    0|   0|\n",
            "|                   14.27|    0|    0|    0|    0|    0|    0|    0|    0|    0|    0|    0|    0|    0|    0|    0|    0|   0|    0|    0|    0|    0|    0|    0|    0|    0|    0|    0|    0|    0|    0|    0|    0|    0|    0|   0|    0|    0|    0|    0|   0|    0|    0|    0|    0|    0|    0|    0|   0|    0|    0|    0|    0|    0|    0|    0|    0|    0|    0|    0|    0|    0|    0|    0|    0|    0|    0|    0|    0|    0|    0|    0|    0|    0|  0|    0|    0|    0|    0|    0|    0|    0|    0|   0|    0|    0|    0|    0|    0|    0|    0|    0|    0|    0|    0|    0|    0|    0|    0|    0|    0|    0|    0|    0|    0|    0|   0|    0|    0|    0|    0|    0|   0|    0|    0|   0|    0|    0|    0|   0|    0|    0|   0|    0|    0|    0|    0|    0|    0|    0|    0|    0|    0|    0|    0|    0|    0|    0|    0|   0|    0|    0|    0|    0|    0|    0|    0|    0|    0|    0|    0|    0|    0|    0|    0|   0|    0|    0|    0|    0|    0|    0|    0|    0|    0|    0|    0|   0|    0|    0|    0|    0|    0|    0|    0|    0|    0|    0|    0|    0|    0|    0|    0|    0|    0|    0|   0|   0|    0|    0|    0|    0|    0|    0|    0|    0|    0|    0|    0|   0|    0|    0|    0|    0|    1|    0|    0|    0|    0|   0|    0|    0|    0|    0|    0|    0|    0|    0|    0|    0|    0|    0|    0|    0|    0|    0|    0|    0|    0|    0|    0|    0|    0|    0|    0|    0|    0|    0|    0|    0|    0|    0|    0|    0|    0|    0|   0|    0|    0|    0|    0|    0|    0|    0|    0|    0|    0|    0|    0|    0|    0|   0|\n",
            "|                   20.58|    0|    0|    0|    0|    0|    0|    0|    0|    0|    0|    0|    0|    0|    0|    0|    0|   0|    0|    0|    0|    0|    0|    0|    0|    0|    0|    0|    0|    0|    0|    0|    0|    0|    0|   0|    0|    0|    0|    0|   0|    0|    0|    0|    0|    0|    0|    0|   0|    0|    0|    0|    0|    0|    0|    0|    0|    0|    0|    0|    0|    0|    0|    0|    0|    0|    0|    0|    0|    0|    0|    0|    0|    0|  0|    0|    0|    0|    0|    0|    0|    0|    0|   0|    0|    0|    0|    0|    0|    0|    0|    0|    0|    0|    0|    0|    0|    0|    0|    0|    0|    0|    0|    0|    0|    0|   0|    0|    0|    0|    0|    0|   0|    0|    0|   0|    0|    0|    0|   0|    0|    0|   0|    0|    0|    0|    0|    0|    0|    0|    0|    0|    0|    0|    0|    0|    0|    0|    0|   0|    0|    0|    0|    0|    0|    0|    0|    0|    0|    0|    0|    0|    0|    0|    0|   0|    0|    0|    0|    0|    0|    0|    0|    0|    0|    0|    0|   0|    0|    0|    0|    0|    0|    0|    0|    0|    0|    0|    0|    0|    0|    0|    0|    0|    0|    0|   0|   0|    0|    0|    0|    0|    0|    0|    0|    1|    0|    0|    0|   0|    0|    0|    0|    0|    0|    0|    0|    0|    0|   0|    0|    0|    0|    0|    0|    0|    0|    0|    0|    0|    0|    0|    0|    0|    0|    0|    0|    0|    0|    0|    0|    0|    0|    0|    0|    0|    0|    0|    0|    0|    0|    0|    0|    0|    0|    0|   0|    0|    0|    0|    0|    0|    0|    0|    0|    0|    0|    0|    0|    0|    0|   0|\n",
            "|                   20.47|    0|    0|    0|    0|    0|    0|    0|    0|    0|    0|    0|    0|    0|    0|    0|    0|   0|    0|    0|    0|    0|    0|    0|    0|    0|    0|    0|    0|    0|    0|    0|    0|    0|    0|   0|    0|    0|    0|    0|   0|    0|    0|    0|    0|    0|    0|    0|   0|    0|    0|    0|    0|    0|    0|    0|    0|    0|    0|    0|    0|    0|    0|    0|    0|    0|    0|    0|    0|    0|    0|    0|    0|    0|  0|    0|    0|    0|    0|    0|    0|    0|    0|   0|    0|    0|    0|    0|    0|    0|    0|    0|    0|    0|    0|    0|    0|    0|    0|    0|    0|    0|    0|    0|    0|    0|   0|    0|    0|    0|    0|    0|   0|    0|    0|   0|    0|    0|    0|   0|    0|    0|   0|    0|    0|    0|    0|    0|    0|    0|    0|    0|    0|    0|    0|    0|    0|    0|    0|   0|    0|    0|    0|    0|    0|    0|    0|    0|    0|    0|    0|    0|    0|    0|    0|   0|    0|    0|    0|    0|    0|    0|    0|    0|    0|    1|    0|   0|    0|    0|    0|    0|    0|    0|    0|    0|    0|    0|    0|    0|    0|    0|    0|    0|    0|    0|   0|   0|    0|    0|    0|    0|    0|    0|    0|    0|    0|    0|    0|   0|    0|    0|    0|    0|    0|    0|    0|    0|    0|   0|    0|    0|    0|    0|    0|    0|    0|    0|    0|    0|    0|    0|    0|    0|    0|    0|    0|    0|    0|    0|    0|    0|    0|    0|    0|    0|    0|    0|    0|    0|    0|    0|    0|    0|    0|    0|   0|    0|    0|    0|    0|    0|    0|    0|    0|    0|    0|    0|    0|    0|    0|   0|\n",
            "+------------------------+-----+-----+-----+-----+-----+-----+-----+-----+-----+-----+-----+-----+-----+-----+-----+-----+----+-----+-----+-----+-----+-----+-----+-----+-----+-----+-----+-----+-----+-----+-----+-----+-----+-----+----+-----+-----+-----+-----+----+-----+-----+-----+-----+-----+-----+-----+----+-----+-----+-----+-----+-----+-----+-----+-----+-----+-----+-----+-----+-----+-----+-----+-----+-----+-----+-----+-----+-----+-----+-----+-----+-----+---+-----+-----+-----+-----+-----+-----+-----+-----+----+-----+-----+-----+-----+-----+-----+-----+-----+-----+-----+-----+-----+-----+-----+-----+-----+-----+-----+-----+-----+-----+-----+----+-----+-----+-----+-----+-----+----+-----+-----+----+-----+-----+-----+----+-----+-----+----+-----+-----+-----+-----+-----+-----+-----+-----+-----+-----+-----+-----+-----+-----+-----+-----+----+-----+-----+-----+-----+-----+-----+-----+-----+-----+-----+-----+-----+-----+-----+-----+----+-----+-----+-----+-----+-----+-----+-----+-----+-----+-----+-----+----+-----+-----+-----+-----+-----+-----+-----+-----+-----+-----+-----+-----+-----+-----+-----+-----+-----+-----+----+----+-----+-----+-----+-----+-----+-----+-----+-----+-----+-----+-----+----+-----+-----+-----+-----+-----+-----+-----+-----+-----+----+-----+-----+-----+-----+-----+-----+-----+-----+-----+-----+-----+-----+-----+-----+-----+-----+-----+-----+-----+-----+-----+-----+-----+-----+-----+-----+-----+-----+-----+-----+-----+-----+-----+-----+-----+-----+----+-----+-----+-----+-----+-----+-----+-----+-----+-----+-----+-----+-----+-----+-----+----+\n",
            "only showing top 20 rows\n",
            "\n"
          ],
          "name": "stdout"
        }
      ]
    },
    {
      "cell_type": "code",
      "metadata": {
        "id": "zBLPmQPA080D",
        "colab": {
          "base_uri": "https://localhost:8080/"
        },
        "outputId": "71c4cfb1-7dd4-4228-aadd-eb3af7fd5cf7"
      },
      "source": [
        "cols = [\"radius_mean\", \"texture_mean\"]\n",
        "df1.select(*cols).show()"
      ],
      "execution_count": null,
      "outputs": [
        {
          "output_type": "stream",
          "text": [
            "+-----------+------------+\n",
            "|radius_mean|texture_mean|\n",
            "+-----------+------------+\n",
            "|      17.99|       10.38|\n",
            "|      20.57|       17.77|\n",
            "|      11.42|       20.38|\n",
            "|      18.25|       19.98|\n",
            "|      13.71|       20.83|\n",
            "|         13|       21.82|\n",
            "|      12.46|       24.04|\n",
            "|      16.02|       23.24|\n",
            "|      15.78|       17.89|\n",
            "|      16.13|       20.68|\n",
            "|      19.81|       22.15|\n",
            "|      13.54|       14.36|\n",
            "|      13.08|       15.71|\n",
            "|      9.504|       12.44|\n",
            "|      18.61|       20.25|\n",
            "|      17.57|       15.05|\n",
            "|      19.27|       26.47|\n",
            "|      14.25|       21.72|\n",
            "|      13.03|       18.42|\n",
            "|      13.48|       20.82|\n",
            "+-----------+------------+\n",
            "only showing top 20 rows\n",
            "\n"
          ],
          "name": "stdout"
        }
      ]
    },
    {
      "cell_type": "code",
      "metadata": {
        "id": "QElZtbdH1Z-l",
        "colab": {
          "base_uri": "https://localhost:8080/"
        },
        "outputId": "867fe9d2-737f-469f-e3ef-821194cd75c4"
      },
      "source": [
        "df1.selectExpr(\"radius_mean * 2\" , \"texture_mean/3\").show()"
      ],
      "execution_count": null,
      "outputs": [
        {
          "output_type": "stream",
          "text": [
            "+-----------------+------------------+\n",
            "|(radius_mean * 2)|(texture_mean / 3)|\n",
            "+-----------------+------------------+\n",
            "|            35.98|3.4600000000000004|\n",
            "|            41.14| 5.923333333333333|\n",
            "|            22.84| 6.793333333333333|\n",
            "|             36.5|              6.66|\n",
            "|            27.42|6.9433333333333325|\n",
            "|             26.0| 7.273333333333333|\n",
            "|            24.92| 8.013333333333334|\n",
            "|            32.04| 7.746666666666666|\n",
            "|            31.56| 5.963333333333334|\n",
            "|            32.26|6.8933333333333335|\n",
            "|            39.62| 7.383333333333333|\n",
            "|            27.08| 4.786666666666666|\n",
            "|            26.16| 5.236666666666667|\n",
            "|           19.008|4.1466666666666665|\n",
            "|            37.22|              6.75|\n",
            "|            35.14| 5.016666666666667|\n",
            "|            38.54| 8.823333333333332|\n",
            "|             28.5| 7.239999999999999|\n",
            "|            26.06| 6.140000000000001|\n",
            "|            26.96|              6.94|\n",
            "+-----------------+------------------+\n",
            "only showing top 20 rows\n",
            "\n"
          ],
          "name": "stdout"
        }
      ]
    },
    {
      "cell_type": "code",
      "metadata": {
        "id": "xpfAnSeGDkYr",
        "colab": {
          "base_uri": "https://localhost:8080/"
        },
        "outputId": "3a4e6cf0-88e6-4fd0-ba46-c792067e3197"
      },
      "source": [
        "df1.selectExpr(\"radius_mean * texture_mean\").alias(\"abcd\").show()"
      ],
      "execution_count": null,
      "outputs": [
        {
          "output_type": "stream",
          "text": [
            "+----------------------------+\n",
            "|(radius_mean * texture_mean)|\n",
            "+----------------------------+\n",
            "|                    186.7362|\n",
            "|                    365.5289|\n",
            "|                    232.7396|\n",
            "|                     364.635|\n",
            "|                    285.5793|\n",
            "|                      283.66|\n",
            "|                    299.5384|\n",
            "|          372.30479999999994|\n",
            "|                    282.3042|\n",
            "|                    333.5684|\n",
            "|           438.7914999999999|\n",
            "|          194.43439999999998|\n",
            "|          205.48680000000002|\n",
            "|          118.22975999999998|\n",
            "|          376.85249999999996|\n",
            "|          264.42850000000004|\n",
            "|          510.07689999999997|\n",
            "|                      309.51|\n",
            "|          240.01260000000002|\n",
            "|          280.65360000000004|\n",
            "+----------------------------+\n",
            "only showing top 20 rows\n",
            "\n"
          ],
          "name": "stdout"
        }
      ]
    },
    {
      "cell_type": "code",
      "metadata": {
        "id": "zBXkOyN8IWLb",
        "colab": {
          "base_uri": "https://localhost:8080/"
        },
        "outputId": "05836946-585f-42a2-b8fd-9dbef375e6d8"
      },
      "source": [
        "cols = [\"radius_mean\", \"texture_mean\"]\n",
        "df1.sort(*cols).show()"
      ],
      "execution_count": null,
      "outputs": [
        {
          "output_type": "stream",
          "text": [
            "+---------+-----------+------------+--------------+---------+---------------+----------------+--------------+-------------------+-------------+----------------------+---------+----------+------------+-------+-------------+--------------+------------+-----------------+-----------+--------------------+------------+-------------+---------------+----------+----------------+-----------------+---------------+--------------------+--------------+-----------------------+\n",
            "|diagnosis|radius_mean|texture_mean|perimeter_mean|area_mean|smoothness_mean|compactness_mean|concavity_mean|concave_points_mean|symmetry_mean|fractal_dimension_mean|radius_se|texture_se|perimeter_se|area_se|smoothness_se|compactness_se|concavity_se|concave_points_se|symmetry_se|fractal_dimension_se|radius_worst|texture_worst|perimeter_worst|area_worst|smoothness_worst|compactness_worst|concavity_worst|concave_points_worst|symmetry_worst|fractal_dimension_worst|\n",
            "+---------+-----------+------------+--------------+---------+---------------+----------------+--------------+-------------------+-------------+----------------------+---------+----------+------------+-------+-------------+--------------+------------+-----------------+-----------+--------------------+------------+-------------+---------------+----------+----------------+-----------------+---------------+--------------------+--------------+-----------------------+\n",
            "|        0|      10.03|       21.28|         63.19|    307.3|        0.08117|         0.03912|       0.00247|           0.005159|        0.163|               0.06439|   0.1851|     1.341|       1.184|   11.6|     0.005724|      0.005697|    0.002074|         0.003527|    0.01445|            0.002411|       11.11|        28.94|          69.92|     376.3|          0.1126|          0.07094|        0.01235|             0.02579|        0.2349|                0.08061|\n",
            "|        0|      10.05|       17.53|         64.41|    310.8|         0.1007|         0.07326|       0.02511|            0.01775|        0.189|               0.06331|   0.2619|     2.015|       1.778|  16.85|     0.007803|       0.01449|      0.0169|         0.008043|      0.021|            0.002778|       11.16|        26.84|          71.98|       384|          0.1402|           0.1402|         0.1055|             0.06499|        0.2894|                0.07664|\n",
            "|        0|      10.08|       15.11|         63.76|    317.5|        0.09267|         0.04695|      0.001597|           0.002404|       0.1703|               0.06048|   0.4245|     1.268|        2.68|  26.43|      0.01439|         0.012|    0.001597|         0.002404|    0.02538|             0.00347|       11.87|        21.18|          75.39|       437|          0.1521|           0.1019|        0.00692|             0.01042|        0.2933|                0.07697|\n",
            "|        0|       10.2|       17.48|         65.05|    321.2|        0.08054|         0.05907|       0.05774|            0.01071|       0.1964|               0.06315|   0.3567|     1.922|       2.747|  22.79|      0.00468|        0.0312|     0.05774|          0.01071|     0.0256|            0.004613|       11.48|        24.47|           75.4|     403.7|         0.09527|           0.1397|         0.1925|             0.03571|        0.2868|                0.07809|\n",
            "|        0|      10.26|       12.22|         65.75|    321.6|        0.09996|         0.07542|       0.01923|            0.01968|         0.18|               0.06569|   0.1911|    0.5477|       1.348|  11.88|     0.005682|       0.01365|    0.008496|         0.006929|    0.01938|            0.002371|       11.38|        15.65|          73.23|     394.5|          0.1343|            0.165|        0.08615|             0.06696|        0.2937|                0.07722|\n",
            "|        0|      10.26|       16.58|         65.85|    320.8|        0.08877|         0.08066|       0.04358|            0.02438|       0.1669|               0.06714|   0.1144|     1.023|      0.9887|  7.326|      0.01027|       0.03084|     0.02613|          0.01097|    0.02277|             0.00589|       10.83|        22.04|          71.08|     357.4|          0.1461|           0.2246|         0.1783|             0.08333|        0.2691|                0.09479|\n",
            "|        0|      10.29|       27.61|         65.67|    321.4|         0.0903|         0.07658|       0.05999|            0.02738|       0.1593|               0.06127|   0.2199|     2.239|       1.437|  14.46|      0.01205|       0.02736|     0.04804|          0.01721|    0.01843|            0.004938|       10.84|        34.91|          69.57|     357.6|          0.1384|            0.171|            0.2|             0.09127|        0.2226|                0.08283|\n",
            "|        0|      10.32|       16.35|         65.31|    324.9|        0.09434|         0.04994|       0.01012|           0.005495|       0.1885|               0.06201|   0.2104|     0.967|       1.356|  12.97|     0.007086|      0.007247|     0.01012|         0.005495|     0.0156|            0.002606|       11.25|        21.77|          71.12|     384.9|          0.1285|          0.08842|        0.04384|             0.02381|        0.2681|                0.07399|\n",
            "|        0|      10.48|       19.86|         66.72|    337.7|          0.107|         0.05971|       0.04831|             0.0307|       0.1737|                0.0644|   0.3719|     2.612|       2.517|  23.22|      0.01604|       0.01386|     0.01865|          0.01133|    0.03476|             0.00356|       11.48|        29.46|          73.68|     402.8|          0.1515|           0.1026|         0.1181|             0.06736|        0.2883|                0.07748|\n",
            "|        0|      10.49|       18.61|         66.86|    334.3|         0.1068|         0.06678|       0.02297|             0.0178|       0.1482|                 0.066|   0.1485|     1.563|       1.035|  10.08|     0.008875|      0.009362|     0.01808|         0.009199|    0.01791|            0.003317|       11.06|        24.54|          70.76|     375.4|          0.1413|           0.1044|        0.08423|             0.06528|        0.2213|                0.07842|\n",
            "|        0|      10.49|       19.29|         67.41|    336.1|        0.09989|         0.08578|       0.02995|            0.01201|       0.2217|               0.06481|    0.355|     1.534|       2.302|  23.13|     0.007595|       0.02219|      0.0288|         0.008614|     0.0271|            0.003451|       11.54|        23.31|          74.22|     402.8|          0.1219|           0.1486|        0.07987|             0.03203|        0.2826|                0.07552|\n",
            "|        0|      10.51|       23.09|         66.85|    334.2|         0.1015|         0.06797|       0.02495|            0.01875|       0.1695|               0.06556|   0.2868|     1.143|       2.289|  20.56|      0.01017|       0.01443|     0.01861|           0.0125|    0.03464|            0.001971|       10.93|        24.22|           70.1|     362.7|          0.1143|          0.08614|        0.04158|             0.03125|        0.2227|                0.06777|\n",
            "|        0|      10.65|       25.22|         68.01|      347|        0.09657|         0.07234|       0.02379|            0.01615|       0.1897|               0.06329|   0.2497|     1.493|       1.497|  16.64|     0.007189|       0.01035|     0.01081|         0.006245|    0.02158|            0.002619|       12.25|        35.19|          77.98|     455.7|          0.1499|           0.1398|         0.1125|             0.06136|        0.3409|                0.08147|\n",
            "|        0|      10.75|       14.97|         68.26|    355.3|        0.07793|         0.05139|       0.02251|           0.007875|       0.1399|               0.05688|   0.2525|     1.239|       1.806|  17.74|     0.006547|       0.01781|     0.02018|         0.005612|    0.01671|             0.00236|       11.95|        20.72|          77.79|     441.2|          0.1076|           0.1223|        0.09755|             0.03413|          0.23|                0.06769|\n",
            "|        0|       10.8|        9.71|         68.77|    357.6|        0.09594|         0.05736|       0.02531|            0.01698|       0.1381|                 0.064|   0.1728|    0.4064|       1.126|  11.48|     0.007809|      0.009816|     0.01099|         0.005344|    0.01254|             0.00212|        11.6|        12.02|          73.66|       414|          0.1436|           0.1257|         0.1047|             0.04603|         0.209|                0.07699|\n",
            "|        0|       10.9|       12.96|         68.69|    366.8|        0.07515|         0.03718|       0.00309|           0.006588|       0.1442|               0.05743|   0.2818|    0.7614|       1.808|  18.54|     0.006142|      0.006134|    0.001835|         0.003576|    0.01637|            0.002665|       12.36|         18.2|          78.07|       470|          0.1171|          0.08294|        0.01854|             0.03953|        0.2738|                0.07685|\n",
            "|        0|      10.94|       18.59|         70.39|      370|         0.1004|          0.0746|       0.04944|            0.02932|       0.1486|               0.06615|   0.3796|     1.743|       3.018|  25.78|     0.009519|       0.02134|      0.0199|          0.01155|    0.02079|            0.002701|        12.4|        25.58|          82.76|     472.4|          0.1363|           0.1644|         0.1412|             0.07887|        0.2251|                0.07732|\n",
            "|        0|      10.96|       17.62|         70.79|    365.6|        0.09687|         0.09752|       0.05263|            0.02788|       0.1619|               0.06408|   0.1507|     1.583|       1.165|  10.09|     0.009501|       0.03378|     0.04401|          0.01346|    0.01322|            0.003534|       11.62|        26.51|          76.43|     407.5|          0.1428|            0.251|         0.2123|             0.09861|        0.2289|                0.08278|\n",
            "|        0|      11.06|       14.96|         71.49|    373.9|         0.1033|         0.09097|       0.05397|            0.03341|       0.1776|               0.06907|   0.1601|    0.8225|       1.355|   10.8|     0.007416|       0.01877|     0.02758|           0.0101|    0.02348|            0.002917|       11.92|         19.9|          79.76|       440|          0.1418|            0.221|         0.2299|              0.1075|        0.3301|                 0.0908|\n",
            "|        0|      11.06|       17.12|         71.25|    366.5|         0.1194|          0.1071|       0.04063|            0.04268|       0.1954|               0.07976|   0.1779|      1.03|       1.318|   12.3|      0.01262|       0.02348|       0.018|          0.01285|     0.0222|            0.008313|       11.69|        20.74|          76.08|     411.1|          0.1662|           0.2031|         0.1256|             0.09514|         0.278|                 0.1168|\n",
            "+---------+-----------+------------+--------------+---------+---------------+----------------+--------------+-------------------+-------------+----------------------+---------+----------+------------+-------+-------------+--------------+------------+-----------------+-----------+--------------------+------------+-------------+---------------+----------+----------------+-----------------+---------------+--------------------+--------------+-----------------------+\n",
            "only showing top 20 rows\n",
            "\n"
          ],
          "name": "stdout"
        }
      ]
    },
    {
      "cell_type": "code",
      "metadata": {
        "id": "MAAelBKTI_on",
        "colab": {
          "base_uri": "https://localhost:8080/"
        },
        "outputId": "7d09ee6b-071e-437c-f700-cd013936de37"
      },
      "source": [
        "df1.take(5)"
      ],
      "execution_count": null,
      "outputs": [
        {
          "output_type": "execute_result",
          "data": {
            "text/plain": [
              "[Row(diagnosis='1', radius_mean='17.99', texture_mean='10.38', perimeter_mean='122.8', area_mean='1001', smoothness_mean='0.1184', compactness_mean='0.2776', concavity_mean='0.3001', concave_points_mean='0.1471', symmetry_mean='0.2419', fractal_dimension_mean='0.07871', radius_se='1.095', texture_se='0.9053', perimeter_se='8.589', area_se='153.4', smoothness_se='0.006399', compactness_se='0.04904', concavity_se='0.05373', concave_points_se='0.01587', symmetry_se='0.03003', fractal_dimension_se='0.006193', radius_worst='25.38', texture_worst='17.33', perimeter_worst='184.6', area_worst='2019', smoothness_worst='0.1622', compactness_worst='0.6656', concavity_worst='0.7119', concave_points_worst='0.2654', symmetry_worst='0.4601', fractal_dimension_worst='0.1189'),\n",
              " Row(diagnosis='1', radius_mean='20.57', texture_mean='17.77', perimeter_mean='132.9', area_mean='1326', smoothness_mean='0.08474', compactness_mean='0.07864', concavity_mean='0.0869', concave_points_mean='0.07017', symmetry_mean='0.1812', fractal_dimension_mean='0.05667', radius_se='0.5435', texture_se='0.7339', perimeter_se='3.398', area_se='74.08', smoothness_se='0.005225', compactness_se='0.01308', concavity_se='0.0186', concave_points_se='0.0134', symmetry_se='0.01389', fractal_dimension_se='0.003532', radius_worst='24.99', texture_worst='23.41', perimeter_worst='158.8', area_worst='1956', smoothness_worst='0.1238', compactness_worst='0.1866', concavity_worst='0.2416', concave_points_worst='0.186', symmetry_worst='0.275', fractal_dimension_worst='0.08902'),\n",
              " Row(diagnosis='1', radius_mean='11.42', texture_mean='20.38', perimeter_mean='77.58', area_mean='386.1', smoothness_mean='0.1425', compactness_mean='0.2839', concavity_mean='0.2414', concave_points_mean='0.1052', symmetry_mean='0.2597', fractal_dimension_mean='0.09744', radius_se='0.4956', texture_se='1.156', perimeter_se='3.445', area_se='27.23', smoothness_se='0.00911', compactness_se='0.07458', concavity_se='0.05661', concave_points_se='0.01867', symmetry_se='0.05963', fractal_dimension_se='0.009208', radius_worst='14.91', texture_worst='26.5', perimeter_worst='98.87', area_worst='567.7', smoothness_worst='0.2098', compactness_worst='0.8663', concavity_worst='0.6869', concave_points_worst='0.2575', symmetry_worst='0.6638', fractal_dimension_worst='0.173'),\n",
              " Row(diagnosis='1', radius_mean='18.25', texture_mean='19.98', perimeter_mean='119.6', area_mean='1040', smoothness_mean='0.09463', compactness_mean='0.109', concavity_mean='0.1127', concave_points_mean='0.074', symmetry_mean='0.1794', fractal_dimension_mean='0.05742', radius_se='0.4467', texture_se='0.7732', perimeter_se='3.18', area_se='53.91', smoothness_se='0.004314', compactness_se='0.01382', concavity_se='0.02254', concave_points_se='0.01039', symmetry_se='0.01369', fractal_dimension_se='0.002179', radius_worst='22.88', texture_worst='27.66', perimeter_worst='153.2', area_worst='1606', smoothness_worst='0.1442', compactness_worst='0.2576', concavity_worst='0.3784', concave_points_worst='0.1932', symmetry_worst='0.3063', fractal_dimension_worst='0.08368'),\n",
              " Row(diagnosis='1', radius_mean='13.71', texture_mean='20.83', perimeter_mean='90.2', area_mean='577.9', smoothness_mean='0.1189', compactness_mean='0.1645', concavity_mean='0.09366', concave_points_mean='0.05985', symmetry_mean='0.2196', fractal_dimension_mean='0.07451', radius_se='0.5835', texture_se='1.377', perimeter_se='3.856', area_se='50.96', smoothness_se='0.008805', compactness_se='0.03029', concavity_se='0.02488', concave_points_se='0.01448', symmetry_se='0.01486', fractal_dimension_se='0.005412', radius_worst='17.06', texture_worst='28.14', perimeter_worst='110.6', area_worst='897', smoothness_worst='0.1654', compactness_worst='0.3682', concavity_worst='0.2678', concave_points_worst='0.1556', symmetry_worst='0.3196', fractal_dimension_worst='0.1151')]"
            ]
          },
          "metadata": {
            "tags": []
          },
          "execution_count": 72
        }
      ]
    },
    {
      "cell_type": "code",
      "metadata": {
        "id": "YZfIzJuiMMRs",
        "colab": {
          "base_uri": "https://localhost:8080/",
          "height": 167
        },
        "outputId": "2dea7aba-56cc-496c-c7a4-5d307ea79e48"
      },
      "source": [
        "df1.tail(5)"
      ],
      "execution_count": null,
      "outputs": [
        {
          "output_type": "error",
          "ename": "NameError",
          "evalue": "ignored",
          "traceback": [
            "\u001b[0;31m---------------------------------------------------------------------------\u001b[0m",
            "\u001b[0;31mNameError\u001b[0m                                 Traceback (most recent call last)",
            "\u001b[0;32m<ipython-input-2-11ccfb407407>\u001b[0m in \u001b[0;36m<module>\u001b[0;34m()\u001b[0m\n\u001b[0;32m----> 1\u001b[0;31m \u001b[0mdf1\u001b[0m\u001b[0;34m.\u001b[0m\u001b[0mtail\u001b[0m\u001b[0;34m(\u001b[0m\u001b[0;36m5\u001b[0m\u001b[0;34m)\u001b[0m\u001b[0;34m\u001b[0m\u001b[0;34m\u001b[0m\u001b[0m\n\u001b[0m",
            "\u001b[0;31mNameError\u001b[0m: name 'df1' is not defined"
          ]
        }
      ]
    },
    {
      "cell_type": "code",
      "metadata": {
        "id": "9vaQ7eCAMPu0"
      },
      "source": [
        "help(df1.take(5))"
      ],
      "execution_count": null,
      "outputs": []
    },
    {
      "cell_type": "code",
      "metadata": {
        "id": "NVUWmz1oMTJw"
      },
      "source": [
        "fd = df1.to_koalas()"
      ],
      "execution_count": null,
      "outputs": []
    },
    {
      "cell_type": "code",
      "metadata": {
        "id": "_PYQTy0FPEcA",
        "colab": {
          "base_uri": "https://localhost:8080/"
        },
        "outputId": "552e3cc6-c1fe-4881-ca5a-d100f0facaa1"
      },
      "source": [
        "fd['diagnosis'].value_counts()"
      ],
      "execution_count": null,
      "outputs": [
        {
          "output_type": "execute_result",
          "data": {
            "text/plain": [
              "0    176\n",
              "1    108\n",
              "Name: diagnosis, dtype: int64"
            ]
          },
          "metadata": {
            "tags": []
          },
          "execution_count": 82
        }
      ]
    },
    {
      "cell_type": "code",
      "metadata": {
        "id": "YpesiaVsPO45"
      },
      "source": [
        "grd = fd.groupby('diagnosis')"
      ],
      "execution_count": null,
      "outputs": []
    },
    {
      "cell_type": "code",
      "metadata": {
        "id": "iuJgV0O8QFQC"
      },
      "source": [
        "grd['radius_mean'].aggregate(sum)"
      ],
      "execution_count": null,
      "outputs": []
    },
    {
      "cell_type": "code",
      "metadata": {
        "id": "rs1DEs24QOas",
        "colab": {
          "base_uri": "https://localhost:8080/"
        },
        "outputId": "171319d9-7c74-467f-b0e3-9ab2cf2ef1ca"
      },
      "source": [
        "grd['radius_mean'].apply(sum)"
      ],
      "execution_count": null,
      "outputs": [
        {
          "output_type": "execute_result",
          "data": {
            "text/plain": [
              "diagnosis\n",
              "0    13.5413.089.50413.0313.4911.7613.058.6189.0291...\n",
              "1    17.9920.5711.4218.2513.711312.4616.0215.7816.1...\n",
              "Name: radius_mean, dtype: object"
            ]
          },
          "metadata": {
            "tags": []
          },
          "execution_count": 96
        }
      ]
    },
    {
      "cell_type": "code",
      "metadata": {
        "id": "qeQfs-3_SAC5",
        "colab": {
          "base_uri": "https://localhost:8080/"
        },
        "outputId": "5fd25046-6987-41c8-d833-702d5b4780d3"
      },
      "source": [
        "df1.agg({'radius_mean': 'sum'}).show()"
      ],
      "execution_count": null,
      "outputs": [
        {
          "output_type": "stream",
          "text": [
            "+------------------+\n",
            "|  sum(radius_mean)|\n",
            "+------------------+\n",
            "|4030.0239999999994|\n",
            "+------------------+\n",
            "\n"
          ],
          "name": "stdout"
        }
      ]
    },
    {
      "cell_type": "code",
      "metadata": {
        "id": "oAPE67YTUYn_"
      },
      "source": [
        "grd = df1.groupby('diagnosis')"
      ],
      "execution_count": null,
      "outputs": []
    },
    {
      "cell_type": "code",
      "metadata": {
        "id": "lpDjMsX7Uj3n",
        "colab": {
          "base_uri": "https://localhost:8080/"
        },
        "outputId": "75061777-685c-49f0-a48f-89099319b278"
      },
      "source": [
        "grd.agg({'radius_mean': 'sum'}).show()"
      ],
      "execution_count": null,
      "outputs": [
        {
          "output_type": "stream",
          "text": [
            "+---------+-----------------+\n",
            "|diagnosis| sum(radius_mean)|\n",
            "+---------+-----------------+\n",
            "|        0|2144.744000000001|\n",
            "|        1|          1885.28|\n",
            "+---------+-----------------+\n",
            "\n"
          ],
          "name": "stdout"
        }
      ]
    },
    {
      "cell_type": "code",
      "metadata": {
        "id": "uuGdF0l3UvSs",
        "colab": {
          "base_uri": "https://localhost:8080/"
        },
        "outputId": "624b06e4-120e-477c-a44d-fdd8fa3c2ccc"
      },
      "source": [
        "df1.limit(10).select('radius_mean').show()"
      ],
      "execution_count": null,
      "outputs": [
        {
          "output_type": "stream",
          "text": [
            "+-----------+\n",
            "|radius_mean|\n",
            "+-----------+\n",
            "|      20.57|\n",
            "|      11.42|\n",
            "|      12.45|\n",
            "|      18.25|\n",
            "|         13|\n",
            "|      19.17|\n",
            "|      14.54|\n",
            "|      16.13|\n",
            "|      19.81|\n",
            "|      13.08|\n",
            "+-----------+\n",
            "\n"
          ],
          "name": "stdout"
        }
      ]
    },
    {
      "cell_type": "code",
      "metadata": {
        "id": "A3vw_IpNXp_y",
        "colab": {
          "base_uri": "https://localhost:8080/"
        },
        "outputId": "34c24fd1-fbbc-41c3-dabd-6c0bac4bf9fa"
      },
      "source": [
        "df1.columns"
      ],
      "execution_count": null,
      "outputs": [
        {
          "output_type": "execute_result",
          "data": {
            "text/plain": [
              "['id',\n",
              " 'diagnosis',\n",
              " 'radius_mean',\n",
              " 'texture_mean',\n",
              " 'perimeter_mean',\n",
              " 'area_mean',\n",
              " 'smoothness_mean',\n",
              " 'compactness_mean',\n",
              " 'concavity_mean',\n",
              " 'concave points_mean',\n",
              " 'symmetry_mean',\n",
              " 'fractal_dimension_mean',\n",
              " 'radius_se',\n",
              " 'texture_se',\n",
              " 'perimeter_se',\n",
              " 'area_se',\n",
              " 'smoothness_se',\n",
              " 'compactness_se',\n",
              " 'concavity_se',\n",
              " 'concave points_se',\n",
              " 'symmetry_se',\n",
              " 'fractal_dimension_se',\n",
              " 'radius_worst',\n",
              " 'texture_worst',\n",
              " 'perimeter_worst',\n",
              " 'area_worst',\n",
              " 'smoothness_worst',\n",
              " 'compactness_worst',\n",
              " 'concavity_worst',\n",
              " 'concave points_worst',\n",
              " 'symmetry_worst',\n",
              " 'fractal_dimension_worst',\n",
              " '_c32']"
            ]
          },
          "metadata": {
            "tags": []
          },
          "execution_count": 38
        }
      ]
    },
    {
      "cell_type": "code",
      "metadata": {
        "id": "o3am5ei5Y7D1",
        "colab": {
          "base_uri": "https://localhost:8080/"
        },
        "outputId": "bc4fbace-7977-4c66-a031-d7e873a20d5b"
      },
      "source": [
        "df1.withColumnRenamed(\"symmetry_se\", \"symmeterySE\").limit(10).show()"
      ],
      "execution_count": null,
      "outputs": [
        {
          "output_type": "stream",
          "text": [
            "+--------+---------+-----------+------------+--------------+---------+---------------+----------------+--------------+-------------------+-------------+----------------------+---------+----------+------------+-------+-------------+--------------+------------+-----------------+-----------+--------------------+------------+-------------+---------------+----------+----------------+-----------------+---------------+--------------------+--------------+-----------------------+----+\n",
            "|      id|diagnosis|radius_mean|texture_mean|perimeter_mean|area_mean|smoothness_mean|compactness_mean|concavity_mean|concave points_mean|symmetry_mean|fractal_dimension_mean|radius_se|texture_se|perimeter_se|area_se|smoothness_se|compactness_se|concavity_se|concave points_se|symmeterySE|fractal_dimension_se|radius_worst|texture_worst|perimeter_worst|area_worst|smoothness_worst|compactness_worst|concavity_worst|concave points_worst|symmetry_worst|fractal_dimension_worst|_c32|\n",
            "+--------+---------+-----------+------------+--------------+---------+---------------+----------------+--------------+-------------------+-------------+----------------------+---------+----------+------------+-------+-------------+--------------+------------+-----------------+-----------+--------------------+------------+-------------+---------------+----------+----------------+-----------------+---------------+--------------------+--------------+-----------------------+----+\n",
            "|  842517|        M|      20.57|       17.77|         132.9|     1326|        0.08474|         0.07864|        0.0869|            0.07017|       0.1812|               0.05667|   0.5435|    0.7339|       3.398|  74.08|     0.005225|       0.01308|      0.0186|           0.0134|    0.01389|            0.003532|       24.99|        23.41|          158.8|      1956|          0.1238|           0.1866|         0.2416|               0.186|         0.275|                0.08902|null|\n",
            "|84348301|        M|      11.42|       20.38|         77.58|    386.1|         0.1425|          0.2839|        0.2414|             0.1052|       0.2597|               0.09744|   0.4956|     1.156|       3.445|  27.23|      0.00911|       0.07458|     0.05661|          0.01867|    0.05963|            0.009208|       14.91|         26.5|          98.87|     567.7|          0.2098|           0.8663|         0.6869|              0.2575|        0.6638|                  0.173|null|\n",
            "|  843786|        M|      12.45|        15.7|         82.57|    477.1|         0.1278|            0.17|        0.1578|            0.08089|       0.2087|               0.07613|   0.3345|    0.8902|       2.217|  27.19|      0.00751|       0.03345|     0.03672|          0.01137|    0.02165|            0.005082|       15.47|        23.75|          103.4|     741.6|          0.1791|           0.5249|         0.5355|              0.1741|        0.3985|                 0.1244|null|\n",
            "|  844359|        M|      18.25|       19.98|         119.6|     1040|        0.09463|           0.109|        0.1127|              0.074|       0.1794|               0.05742|   0.4467|    0.7732|        3.18|  53.91|     0.004314|       0.01382|     0.02254|          0.01039|    0.01369|            0.002179|       22.88|        27.66|          153.2|      1606|          0.1442|           0.2576|         0.3784|              0.1932|        0.3063|                0.08368|null|\n",
            "|  844981|        M|         13|       21.82|          87.5|    519.8|         0.1273|          0.1932|        0.1859|            0.09353|        0.235|               0.07389|   0.3063|     1.002|       2.406|  24.32|     0.005731|       0.03502|     0.03553|          0.01226|    0.02143|            0.003749|       15.49|        30.73|          106.2|     739.3|          0.1703|           0.5401|          0.539|               0.206|        0.4378|                 0.1072|null|\n",
            "|  846226|        M|      19.17|        24.8|         132.4|     1123|         0.0974|          0.2458|        0.2065|             0.1118|       0.2397|                 0.078|   0.9555|     3.568|       11.07|  116.2|     0.003139|       0.08297|      0.0889|           0.0409|    0.04484|             0.01284|       20.96|        29.94|          151.7|      1332|          0.1037|           0.3903|         0.3639|              0.1767|        0.3176|                 0.1023|null|\n",
            "|84799002|        M|      14.54|       27.54|         96.73|    658.8|         0.1139|          0.1595|        0.1639|            0.07364|       0.2303|               0.07077|     0.37|     1.033|       2.879|  32.55|     0.005607|        0.0424|     0.04741|           0.0109|    0.01857|            0.005466|       17.46|        37.13|          124.1|     943.2|          0.1678|           0.6577|         0.7026|              0.1712|        0.4218|                 0.1341|null|\n",
            "|84862001|        M|      16.13|       20.68|         108.1|    798.8|          0.117|          0.2022|        0.1722|             0.1028|       0.2164|               0.07356|   0.5692|     1.073|       3.854|  54.18|     0.007026|       0.02501|     0.03188|          0.01297|    0.01689|            0.004142|       20.96|        31.48|          136.8|      1315|          0.1789|           0.4233|         0.4784|              0.2073|        0.3706|                 0.1142|null|\n",
            "|  849014|        M|      19.81|       22.15|           130|     1260|        0.09831|          0.1027|        0.1479|            0.09498|       0.1582|               0.05395|   0.7582|     1.017|       5.865|  112.4|     0.006494|       0.01893|     0.03391|          0.01521|    0.01356|            0.001997|       27.32|        30.88|          186.8|      2398|          0.1512|            0.315|         0.5372|              0.2388|        0.2768|                0.07615|null|\n",
            "| 8510653|        B|      13.08|       15.71|         85.63|      520|         0.1075|           0.127|       0.04568|             0.0311|       0.1967|               0.06811|   0.1852|    0.7477|       1.383|  14.67|     0.004097|       0.01898|     0.01698|          0.00649|    0.01678|            0.002425|        14.5|        20.49|          96.09|     630.5|          0.1312|           0.2776|          0.189|             0.07283|        0.3184|                0.08183|null|\n",
            "+--------+---------+-----------+------------+--------------+---------+---------------+----------------+--------------+-------------------+-------------+----------------------+---------+----------+------------+-------+-------------+--------------+------------+-----------------+-----------+--------------------+------------+-------------+---------------+----------+----------------+-----------------+---------------+--------------------+--------------+-----------------------+----+\n",
            "\n"
          ],
          "name": "stdout"
        }
      ]
    },
    {
      "cell_type": "code",
      "metadata": {
        "id": "5lSE9SM5ZK9e"
      },
      "source": [
        "c = [ i.replace(\"_\", \"\") for i in df1.columns]"
      ],
      "execution_count": null,
      "outputs": []
    },
    {
      "cell_type": "code",
      "metadata": {
        "id": "hUZuI4crcLMv"
      },
      "source": [
        "c"
      ],
      "execution_count": null,
      "outputs": []
    },
    {
      "cell_type": "code",
      "metadata": {
        "id": "F0GCJ5vwZs0W",
        "colab": {
          "base_uri": "https://localhost:8080/"
        },
        "outputId": "3318b5f1-becd-4675-9ba3-34b902762336"
      },
      "source": [
        "df1.toDF(*c).limit(10).show()"
      ],
      "execution_count": null,
      "outputs": [
        {
          "output_type": "stream",
          "text": [
            "+--------+---------+----------+-----------+-------------+--------+--------------+---------------+-------------+------------------+------------+--------------------+--------+---------+-----------+------+------------+-------------+-----------+----------------+----------+------------------+-----------+------------+--------------+---------+---------------+----------------+--------------+-------------------+-------------+---------------------+----+\n",
            "|      id|diagnosis|radiusmean|texturemean|perimetermean|areamean|smoothnessmean|compactnessmean|concavitymean|concave pointsmean|symmetrymean|fractaldimensionmean|radiusse|texturese|perimeterse|arease|smoothnessse|compactnessse|concavityse|concave pointsse|symmetryse|fractaldimensionse|radiusworst|textureworst|perimeterworst|areaworst|smoothnessworst|compactnessworst|concavityworst|concave pointsworst|symmetryworst|fractaldimensionworst| c32|\n",
            "+--------+---------+----------+-----------+-------------+--------+--------------+---------------+-------------+------------------+------------+--------------------+--------+---------+-----------+------+------------+-------------+-----------+----------------+----------+------------------+-----------+------------+--------------+---------+---------------+----------------+--------------+-------------------+-------------+---------------------+----+\n",
            "|  842517|        M|     20.57|      17.77|        132.9|    1326|       0.08474|        0.07864|       0.0869|           0.07017|      0.1812|             0.05667|  0.5435|   0.7339|      3.398| 74.08|    0.005225|      0.01308|     0.0186|          0.0134|   0.01389|          0.003532|      24.99|       23.41|         158.8|     1956|         0.1238|          0.1866|        0.2416|              0.186|        0.275|              0.08902|null|\n",
            "|84348301|        M|     11.42|      20.38|        77.58|   386.1|        0.1425|         0.2839|       0.2414|            0.1052|      0.2597|             0.09744|  0.4956|    1.156|      3.445| 27.23|     0.00911|      0.07458|    0.05661|         0.01867|   0.05963|          0.009208|      14.91|        26.5|         98.87|    567.7|         0.2098|          0.8663|        0.6869|             0.2575|       0.6638|                0.173|null|\n",
            "|  843786|        M|     12.45|       15.7|        82.57|   477.1|        0.1278|           0.17|       0.1578|           0.08089|      0.2087|             0.07613|  0.3345|   0.8902|      2.217| 27.19|     0.00751|      0.03345|    0.03672|         0.01137|   0.02165|          0.005082|      15.47|       23.75|         103.4|    741.6|         0.1791|          0.5249|        0.5355|             0.1741|       0.3985|               0.1244|null|\n",
            "|  844359|        M|     18.25|      19.98|        119.6|    1040|       0.09463|          0.109|       0.1127|             0.074|      0.1794|             0.05742|  0.4467|   0.7732|       3.18| 53.91|    0.004314|      0.01382|    0.02254|         0.01039|   0.01369|          0.002179|      22.88|       27.66|         153.2|     1606|         0.1442|          0.2576|        0.3784|             0.1932|       0.3063|              0.08368|null|\n",
            "|  844981|        M|        13|      21.82|         87.5|   519.8|        0.1273|         0.1932|       0.1859|           0.09353|       0.235|             0.07389|  0.3063|    1.002|      2.406| 24.32|    0.005731|      0.03502|    0.03553|         0.01226|   0.02143|          0.003749|      15.49|       30.73|         106.2|    739.3|         0.1703|          0.5401|         0.539|              0.206|       0.4378|               0.1072|null|\n",
            "|  846226|        M|     19.17|       24.8|        132.4|    1123|        0.0974|         0.2458|       0.2065|            0.1118|      0.2397|               0.078|  0.9555|    3.568|      11.07| 116.2|    0.003139|      0.08297|     0.0889|          0.0409|   0.04484|           0.01284|      20.96|       29.94|         151.7|     1332|         0.1037|          0.3903|        0.3639|             0.1767|       0.3176|               0.1023|null|\n",
            "|84799002|        M|     14.54|      27.54|        96.73|   658.8|        0.1139|         0.1595|       0.1639|           0.07364|      0.2303|             0.07077|    0.37|    1.033|      2.879| 32.55|    0.005607|       0.0424|    0.04741|          0.0109|   0.01857|          0.005466|      17.46|       37.13|         124.1|    943.2|         0.1678|          0.6577|        0.7026|             0.1712|       0.4218|               0.1341|null|\n",
            "|84862001|        M|     16.13|      20.68|        108.1|   798.8|         0.117|         0.2022|       0.1722|            0.1028|      0.2164|             0.07356|  0.5692|    1.073|      3.854| 54.18|    0.007026|      0.02501|    0.03188|         0.01297|   0.01689|          0.004142|      20.96|       31.48|         136.8|     1315|         0.1789|          0.4233|        0.4784|             0.2073|       0.3706|               0.1142|null|\n",
            "|  849014|        M|     19.81|      22.15|          130|    1260|       0.09831|         0.1027|       0.1479|           0.09498|      0.1582|             0.05395|  0.7582|    1.017|      5.865| 112.4|    0.006494|      0.01893|    0.03391|         0.01521|   0.01356|          0.001997|      27.32|       30.88|         186.8|     2398|         0.1512|           0.315|        0.5372|             0.2388|       0.2768|              0.07615|null|\n",
            "| 8510653|        B|     13.08|      15.71|        85.63|     520|        0.1075|          0.127|      0.04568|            0.0311|      0.1967|             0.06811|  0.1852|   0.7477|      1.383| 14.67|    0.004097|      0.01898|    0.01698|         0.00649|   0.01678|          0.002425|       14.5|       20.49|         96.09|    630.5|         0.1312|          0.2776|         0.189|            0.07283|       0.3184|              0.08183|null|\n",
            "+--------+---------+----------+-----------+-------------+--------+--------------+---------------+-------------+------------------+------------+--------------------+--------+---------+-----------+------+------------+-------------+-----------+----------------+----------+------------------+-----------+------------+--------------+---------+---------------+----------------+--------------+-------------------+-------------+---------------------+----+\n",
            "\n"
          ],
          "name": "stdout"
        }
      ]
    },
    {
      "cell_type": "code",
      "metadata": {
        "id": "38oDN8cBao4O",
        "colab": {
          "base_uri": "https://localhost:8080/"
        },
        "outputId": "d7a1064c-e9d8-425a-8e56-7fc7b00540ab"
      },
      "source": [
        "df1.select(*df1.columns[:4]).sort(\"radius_mean\",ascending = False).show()"
      ],
      "execution_count": null,
      "outputs": [
        {
          "output_type": "stream",
          "text": [
            "+---------+---------+-----------+------------+\n",
            "|       id|diagnosis|radius_mean|texture_mean|\n",
            "+---------+---------+-----------+------------+\n",
            "|   862980|        B|      9.876|        19.4|\n",
            "|   862261|        B|      9.787|       19.94|\n",
            "|  8910996|        B|      9.742|       15.67|\n",
            "|   875099|        B|       9.72|       18.22|\n",
            "|  9113514|        B|      9.668|        18.1|\n",
            "|901034301|        B|      9.436|       18.32|\n",
            "|   905978|        B|      9.405|        21.7|\n",
            "|   924342|        B|      9.333|       21.94|\n",
            "|   915186|        B|      9.268|       12.87|\n",
            "|   859196|        B|      9.173|       13.86|\n",
            "|   859471|        B|      9.029|       17.33|\n",
            "|    89346|        B|          9|        14.4|\n",
            "|   864496|        B|      8.726|       15.83|\n",
            "|   872113|        B|      8.671|       14.45|\n",
            "|   858981|        B|      8.598|       20.98|\n",
            "|    91805|        B|      8.571|        13.1|\n",
            "| 85713702|        B|      8.196|       16.84|\n",
            "|   921092|        B|      7.729|       25.49|\n",
            "|   921362|        B|      7.691|       25.44|\n",
            "|   862722|        B|      6.981|       13.43|\n",
            "+---------+---------+-----------+------------+\n",
            "only showing top 20 rows\n",
            "\n"
          ],
          "name": "stdout"
        }
      ]
    },
    {
      "cell_type": "code",
      "metadata": {
        "id": "6isPpeob9yVg"
      },
      "source": [
        "from pyspark.sql.functions import mean, sumDistinct"
      ],
      "execution_count": 34,
      "outputs": []
    },
    {
      "cell_type": "code",
      "metadata": {
        "id": "xrfsnQk2cprC",
        "outputId": "3f9cf79d-e97d-4ee0-e170-21bd0efb5a11",
        "colab": {
          "base_uri": "https://localhost:8080/"
        }
      },
      "source": [
        "df1.select(sumDistinct(\"radius_mean\")).show()"
      ],
      "execution_count": 35,
      "outputs": [
        {
          "output_type": "stream",
          "text": [
            "+-------------------------+\n",
            "|sum(DISTINCT radius_mean)|\n",
            "+-------------------------+\n",
            "|       3577.8190000000004|\n",
            "+-------------------------+\n",
            "\n"
          ],
          "name": "stdout"
        }
      ]
    },
    {
      "cell_type": "code",
      "metadata": {
        "id": "yjWEd3k69wsu"
      },
      "source": [
        ""
      ],
      "execution_count": null,
      "outputs": []
    }
  ]
}