{
  "nbformat": 4,
  "nbformat_minor": 0,
  "metadata": {
    "colab": {
      "name": "spark install.ipynb",
      "provenance": [],
      "collapsed_sections": [
        "yC40UHIKPJEL"
      ],
      "include_colab_link": true
    },
    "kernelspec": {
      "name": "python3",
      "display_name": "Python 3"
    },
    "language_info": {
      "name": "python"
    }
  },
  "cells": [
    {
      "cell_type": "markdown",
      "metadata": {
        "id": "view-in-github",
        "colab_type": "text"
      },
      "source": [
        "<a href=\"https://colab.research.google.com/github/harnalashok/hadoop/blob/main/spark_dataframe_expts.ipynb\" target=\"_parent\"><img src=\"https://colab.research.google.com/assets/colab-badge.svg\" alt=\"Open In Colab\"/></a>"
      ]
    },
    {
      "cell_type": "code",
      "metadata": {
        "id": "4q64Z8IYb8fr"
      },
      "source": [
        "# Last amended: 12th June, 2021\n",
        "# Myfolder: github/hadoop\n",
        "# Objectives:\n",
        "#             i) Install pyspark on colab\n",
        "#             ii) Install koalas on colab\n",
        "#\n",
        "#\n",
        "# Java 8 install: https://stackoverflow.com/a/58191107\n",
        "# Hadoop install: https://hadoop.apache.org/docs/stable/hadoop-project-dist/hadoop-common/SingleCluster.html\n",
        "# Spark install:  https://stackoverflow.com/a/64183749\n",
        "#                 https://www.analyticsvidhya.com/blog/2020/11/a-must-read-guide-on-how-to-work-with-pyspark-on-google-colab-for-data-scientists/"
      ],
      "execution_count": null,
      "outputs": []
    },
    {
      "cell_type": "markdown",
      "metadata": {
        "id": "Y3vw_quGSgrW"
      },
      "source": [
        "# Full spark install"
      ]
    },
    {
      "cell_type": "markdown",
      "metadata": {
        "id": "yC40UHIKPJEL"
      },
      "source": [
        "### 1.0 Libraries"
      ]
    },
    {
      "cell_type": "code",
      "metadata": {
        "id": "HBVUrlkidyaE"
      },
      "source": [
        "# 1.0 How to set environment variable\n",
        "import os  \n",
        "import time  "
      ],
      "execution_count": 17,
      "outputs": []
    },
    {
      "cell_type": "markdown",
      "metadata": {
        "id": "w8cVWRNoPOS6"
      },
      "source": [
        "## 2.0 Define some functions"
      ]
    },
    {
      "cell_type": "markdown",
      "metadata": {
        "id": "mfFBQ0FLcolo"
      },
      "source": [
        "#### ssh_install()"
      ]
    },
    {
      "cell_type": "code",
      "metadata": {
        "id": "mgS9HNCyR7C0"
      },
      "source": [
        "# 2.0 Function to install ssh client and sshd (Server)\n",
        "def ssh_install():\n",
        "  print(\"\\n--1. Download and install ssh server----\\n\")\n",
        "  ! sudo apt-get remove openssh-client openssh-server\n",
        "  ! sudo apt install openssh-client openssh-server\n",
        "  \n",
        "  print(\"\\n--2. Restart ssh server----\\n\")\n",
        "  ! service ssh restart"
      ],
      "execution_count": 18,
      "outputs": []
    },
    {
      "cell_type": "markdown",
      "metadata": {
        "id": "IJNKSScPcsDS"
      },
      "source": [
        "#### Java install"
      ]
    },
    {
      "cell_type": "code",
      "metadata": {
        "id": "BsFu84PSR9jR"
      },
      "source": [
        "# 3.0 Function to download and install java 8\n",
        "def install_java():\n",
        "  ! rm -rf /usr/java\n",
        "\n",
        "  print(\"\\n--Download and install Java 8----\\n\")\n",
        "  !apt-get install -y openjdk-8-jdk-headless -qq > /dev/null        # install openjdk\n",
        "  os.environ[\"JAVA_HOME\"] = \"/usr/lib/jvm/java-8-openjdk-amd64\"     # set environment variable\n",
        "\n",
        "  !update-alternatives --set java /usr/lib/jvm/java-8-openjdk-amd64/jre/bin/java\n",
        "  !update-alternatives --set javac /usr/lib/jvm/java-8-openjdk-amd64/bin/javac\n",
        "  \n",
        "  !mkdir -p /usr/java\n",
        "  ! ln -s \"/usr/lib/jvm/java-8-openjdk-amd64\"  \"/usr/java\"\n",
        "  ! mv \"/usr/java/java-8-openjdk-amd64\"  \"/usr/java/latest\"\n",
        "  \n",
        "  !java -version       #check java version\n",
        "  !javac -version"
      ],
      "execution_count": 19,
      "outputs": []
    },
    {
      "cell_type": "markdown",
      "metadata": {
        "id": "Y159J8TDc3wS"
      },
      "source": [
        "#### setup ssh passphrase"
      ]
    },
    {
      "cell_type": "code",
      "metadata": {
        "id": "EOFbfw7n0Pps"
      },
      "source": [
        "# 6.0 Function tp setup ssh passphrase\n",
        "def set_keys():\n",
        "  print(\"\\n---22. Generate SSH keys----\\n\")\n",
        "  ! cd ~ ; pwd \n",
        "  ! cd ~ ; ssh-keygen -t rsa -P '' -f ~/.ssh/id_rsa\n",
        "  ! cd ~ ; cat ~/.ssh/id_rsa.pub >> ~/.ssh/authorized_keys\n",
        "  ! cd ~ ; chmod 0600 ~/.ssh/authorized_keys\n"
      ],
      "execution_count": 20,
      "outputs": []
    },
    {
      "cell_type": "markdown",
      "metadata": {
        "id": "7M2kWg3dc6FT"
      },
      "source": [
        "#### Set environment"
      ]
    },
    {
      "cell_type": "code",
      "metadata": {
        "id": "CRSn9XAV4rsR"
      },
      "source": [
        "# 7.0 Function to set up environmental variables\n",
        "def set_env():\n",
        "  print(\"\\n---23. Set Environment variables----\\n\")\n",
        "  # 'export' command does not work in colab\n",
        "  # https://stackoverflow.com/a/57240319\n",
        "  os.environ[\"JAVA_HOME\"] = \"/usr/lib/jvm/java-8-openjdk-amd64\"     #set environment variable\n",
        "  os.environ[\"JRE_HOME\"] = \"/usr/lib/jvm/java-8-openjdk-amd64/jre\"   \n",
        "  "
      ],
      "execution_count": 21,
      "outputs": []
    },
    {
      "cell_type": "markdown",
      "metadata": {
        "id": "WII-UNCzc9qJ"
      },
      "source": [
        "#### function to install prerequisites\n",
        "java and ssh<br>\n"
      ]
    },
    {
      "cell_type": "code",
      "metadata": {
        "id": "oh1Mi0rHFpkU"
      },
      "source": [
        "# 8.0 Function to call all functions\n",
        "def install_components():\n",
        "  print(\"\\n--Install java----\\n\")\n",
        "  ssh_install()\n",
        "  install_java()  \n",
        "  #set_keys()\n",
        "  set_env()\n"
      ],
      "execution_count": 22,
      "outputs": []
    },
    {
      "cell_type": "markdown",
      "metadata": {
        "id": "iHJyHMhUdCRZ"
      },
      "source": [
        "## 3.0 Install components\n",
        "Start downloading, install and configure. Takes around 2 minutes<br>\n",
        "Your <u>input *'y'* is required </u>at one place while overwriting earlier ssh keys"
      ]
    },
    {
      "cell_type": "code",
      "metadata": {
        "id": "77YQikvsJiTm",
        "outputId": "166a66c2-dcd2-41c4-df67-69fd83688c51",
        "colab": {
          "base_uri": "https://localhost:8080/"
        }
      },
      "source": [
        "# 9.0 Start installation\n",
        "start = time.time()\n",
        "install_components()\n",
        "end = time.time()\n",
        "print(\"\\n---Time taken----\\n\")\n",
        "print((end- start)/60)"
      ],
      "execution_count": 23,
      "outputs": [
        {
          "output_type": "stream",
          "text": [
            "\n",
            "--Install java----\n",
            "\n",
            "\n",
            "--1. Download and install ssh server----\n",
            "\n",
            "Reading package lists... Done\n",
            "Building dependency tree       \n",
            "Reading state information... Done\n",
            "The following packages were automatically installed and are no longer required:\n",
            "  ncurses-term python3-certifi python3-chardet python3-idna\n",
            "  python3-pkg-resources python3-requests python3-six python3-urllib3\n",
            "Use 'sudo apt autoremove' to remove them.\n",
            "The following packages will be REMOVED:\n",
            "  openssh-client openssh-server openssh-sftp-server ssh-import-id\n",
            "0 upgraded, 0 newly installed, 4 to remove and 39 not upgraded.\n",
            "After this operation, 5,235 kB disk space will be freed.\n",
            "(Reading database ... 164127 files and directories currently installed.)\n",
            "Removing openssh-server (1:7.6p1-4ubuntu0.3) ...\n",
            "invoke-rc.d: could not determine current runlevel\n",
            "invoke-rc.d: policy-rc.d denied execution of stop.\n",
            "Removing ssh-import-id (5.7-0ubuntu1.1) ...\n",
            "Removing openssh-sftp-server (1:7.6p1-4ubuntu0.3) ...\n",
            "Removing openssh-client (1:7.6p1-4ubuntu0.3) ...\n",
            "Processing triggers for man-db (2.8.3-2ubuntu0.1) ...\n",
            "Reading package lists... Done\n",
            "Building dependency tree       \n",
            "Reading state information... Done\n",
            "The following additional packages will be installed:\n",
            "  openssh-sftp-server ssh-import-id\n",
            "Suggested packages:\n",
            "  keychain libpam-ssh monkeysphere ssh-askpass molly-guard rssh ufw\n",
            "The following NEW packages will be installed:\n",
            "  openssh-client openssh-server openssh-sftp-server ssh-import-id\n",
            "0 upgraded, 4 newly installed, 0 to remove and 39 not upgraded.\n",
            "Need to get 1,003 kB of archives.\n",
            "After this operation, 5,235 kB of additional disk space will be used.\n",
            "Get:1 http://archive.ubuntu.com/ubuntu bionic-updates/main amd64 openssh-client amd64 1:7.6p1-4ubuntu0.3 [614 kB]\n",
            "Get:2 http://archive.ubuntu.com/ubuntu bionic-updates/main amd64 openssh-sftp-server amd64 1:7.6p1-4ubuntu0.3 [45.6 kB]\n",
            "Get:3 http://archive.ubuntu.com/ubuntu bionic-updates/main amd64 openssh-server amd64 1:7.6p1-4ubuntu0.3 [333 kB]\n",
            "Get:4 http://archive.ubuntu.com/ubuntu bionic-updates/main amd64 ssh-import-id all 5.7-0ubuntu1.1 [10.9 kB]\n",
            "Fetched 1,003 kB in 1s (1,088 kB/s)\n",
            "debconf: unable to initialize frontend: Dialog\n",
            "debconf: (No usable dialog-like program is installed, so the dialog based frontend cannot be used. at /usr/share/perl5/Debconf/FrontEnd/Dialog.pm line 76, <> line 4.)\n",
            "debconf: falling back to frontend: Readline\n",
            "debconf: unable to initialize frontend: Readline\n",
            "debconf: (This frontend requires a controlling tty.)\n",
            "debconf: falling back to frontend: Teletype\n",
            "dpkg-preconfigure: unable to re-open stdin: \n",
            "Selecting previously unselected package openssh-client.\n",
            "(Reading database ... 164048 files and directories currently installed.)\n",
            "Preparing to unpack .../openssh-client_1%3a7.6p1-4ubuntu0.3_amd64.deb ...\n",
            "Unpacking openssh-client (1:7.6p1-4ubuntu0.3) ...\n",
            "Selecting previously unselected package openssh-sftp-server.\n",
            "Preparing to unpack .../openssh-sftp-server_1%3a7.6p1-4ubuntu0.3_amd64.deb ...\n",
            "Unpacking openssh-sftp-server (1:7.6p1-4ubuntu0.3) ...\n",
            "Selecting previously unselected package openssh-server.\n",
            "Preparing to unpack .../openssh-server_1%3a7.6p1-4ubuntu0.3_amd64.deb ...\n",
            "Unpacking openssh-server (1:7.6p1-4ubuntu0.3) ...\n",
            "Selecting previously unselected package ssh-import-id.\n",
            "Preparing to unpack .../ssh-import-id_5.7-0ubuntu1.1_all.deb ...\n",
            "Unpacking ssh-import-id (5.7-0ubuntu1.1) ...\n",
            "Setting up openssh-client (1:7.6p1-4ubuntu0.3) ...\n",
            "Setting up ssh-import-id (5.7-0ubuntu1.1) ...\n",
            "Setting up openssh-sftp-server (1:7.6p1-4ubuntu0.3) ...\n",
            "Setting up openssh-server (1:7.6p1-4ubuntu0.3) ...\n",
            "debconf: unable to initialize frontend: Dialog\n",
            "debconf: (No usable dialog-like program is installed, so the dialog based frontend cannot be used. at /usr/share/perl5/Debconf/FrontEnd/Dialog.pm line 76.)\n",
            "debconf: falling back to frontend: Readline\n",
            "invoke-rc.d: could not determine current runlevel\n",
            "invoke-rc.d: policy-rc.d denied execution of restart.\n",
            "Processing triggers for man-db (2.8.3-2ubuntu0.1) ...\n",
            "Processing triggers for systemd (237-3ubuntu10.47) ...\n",
            "\n",
            "--2. Restart ssh server----\n",
            "\n",
            " * Restarting OpenBSD Secure Shell server sshd\n",
            "\n",
            "--Download and install Java 8----\n",
            "\n",
            "openjdk version \"1.8.0_292\"\n",
            "OpenJDK Runtime Environment (build 1.8.0_292-8u292-b10-0ubuntu1~18.04-b10)\n",
            "OpenJDK 64-Bit Server VM (build 25.292-b10, mixed mode)\n",
            "javac 1.8.0_292\n",
            "\n",
            "---23. Set Environment variables----\n",
            "\n",
            "\n",
            "---Time taken----\n",
            "\n",
            "1.2090997735659281\n"
          ],
          "name": "stdout"
        }
      ]
    },
    {
      "cell_type": "markdown",
      "metadata": {
        "id": "XBFVWWuafLBL"
      },
      "source": [
        "## 4.0 Install spark\n",
        "koalas will also be installed"
      ]
    },
    {
      "cell_type": "markdown",
      "metadata": {
        "id": "CyuLCFRJsvW3"
      },
      "source": [
        "### Define functions"
      ]
    },
    {
      "cell_type": "markdown",
      "metadata": {
        "id": "kk3BP0OfYpT1"
      },
      "source": [
        "`findspark`: PySpark isn't on `sys.path` by default, but that doesn't mean it can't be used as a regular library. You can address this by either symlinking pyspark into your site-packages, or adding `pyspark` to `sys.path` at runtime. `findspark` does the latter."
      ]
    },
    {
      "cell_type": "code",
      "metadata": {
        "id": "opLGqtPRfM_5"
      },
      "source": [
        "# 1.0 Function to download and unzip spark\n",
        "def spark_koalas_install():\n",
        "  print(\"\\n--1.1 Install findspark----\\n\")\n",
        "  !pip install -q findspark\n",
        "\n",
        "  print(\"\\n--1.2 Install databricks Koalas----\\n\")\n",
        "  !pip install koalas\n",
        "\n",
        "  print(\"\\n--1.3 Download Apache tar.gz----\\n\")\n",
        "  ! wget -c https://apachemirror.wuchna.com/spark/spark-3.1.2/spark-3.1.2-bin-hadoop3.2.tgz\n",
        "\n",
        "  print(\"\\n--1.4 Transfer downloaded content and unzip tar.gz----\\n\")\n",
        "  !  mv /content/spark*   /opt/\n",
        "  ! tar -xzf /opt/spark-3.1.2-bin-hadoop3.2.tgz  --directory /opt/\n",
        "\n",
        "  print(\"\\n--1.5 Check folder for files----\\n\")\n",
        "  ! ls -la /opt\n"
      ],
      "execution_count": 24,
      "outputs": []
    },
    {
      "cell_type": "code",
      "metadata": {
        "id": "ebXfvQ1qiQHz"
      },
      "source": [
        "# 1.1 Function to set environment\n",
        "def set_spark_env():\n",
        "  print(\"\\n---2. Set Environment variables----\\n\")\n",
        "  os.environ[\"JAVA_HOME\"] = \"/usr/lib/jvm/java-8-openjdk-amd64\" \n",
        "  os.environ[\"JRE_HOME\"] = \"/usr/lib/jvm/java-8-openjdk-amd64/jre\" \n",
        "  os.environ[\"SPARK_HOME\"] = \"/opt/spark-3.1.2-bin-hadoop3.2\"     \n",
        "  os.environ[\"LD_LIBRARY_PATH\"] += \":/opt/spark-3.1.2-bin-hadoop3.2/lib/native\"\n",
        "  os.environ[\"PATH\"] += \":/opt/spark-3.1.2-bin-hadoop3.2/bin:/opt/spark-3.1.2-bin-hadoop3.2/sbin\"\n",
        "  print(\"\\n---2.1. Check Environment variables----\\n\")\n",
        "  # Check\n",
        "  ! echo $PATH\n",
        "  ! echo $LD_LIBRARY_PATH"
      ],
      "execution_count": 25,
      "outputs": []
    },
    {
      "cell_type": "code",
      "metadata": {
        "id": "qUsZggDHj13U"
      },
      "source": [
        "# 1.2 Function to configure spark \n",
        "def spark_conf():\n",
        "  print(\"\\n---3. Configure spark to access hadoop----\\n\")\n",
        "  !mv /opt/spark-3.1.2-bin-hadoop3.2/conf/spark-env.sh.template  /opt/spark-3.1.2-bin-hadoop3.2/conf/spark-env.sh\n",
        "  #!echo \"HADOOP_CONF_DIR=/opt/hadoop-3.2.2/etc/hadoop/\" >> /opt/spark-3.1.2-bin-hadoop3.2/conf/spark-env.sh\n",
        "  print(\"\\n---3.1 Check ----\\n\")\n",
        "  #!cat /opt/spark-3.1.1-bin-hadoop3.2/conf/spark-env.sh"
      ],
      "execution_count": 26,
      "outputs": []
    },
    {
      "cell_type": "markdown",
      "metadata": {
        "id": "M7kLbAFLszN3"
      },
      "source": [
        "### Install spark\n"
      ]
    },
    {
      "cell_type": "code",
      "metadata": {
        "id": "z_eaLhtPktHJ"
      },
      "source": [
        "# 2.0 Call all the three functions\n",
        "def install_spark():\n",
        "  spark_koalas_install()\n",
        "  set_spark_env()\n",
        "  spark_conf()\n"
      ],
      "execution_count": 27,
      "outputs": []
    },
    {
      "cell_type": "code",
      "metadata": {
        "id": "emaHs1XxRt5z",
        "outputId": "5bbca100-3851-43d1-9359-606e91ce035e",
        "colab": {
          "base_uri": "https://localhost:8080/"
        }
      },
      "source": [
        "# 2.1 \n",
        "install_spark()"
      ],
      "execution_count": 28,
      "outputs": [
        {
          "output_type": "stream",
          "text": [
            "\n",
            "--1.1 Install findspark----\n",
            "\n",
            "\n",
            "--1.2 Install databricks Koalas----\n",
            "\n",
            "Requirement already satisfied: koalas in /usr/local/lib/python3.7/dist-packages (1.8.0)\n",
            "Requirement already satisfied: numpy<1.20.0,>=1.14 in /usr/local/lib/python3.7/dist-packages (from koalas) (1.19.5)\n",
            "Requirement already satisfied: pandas>=0.23.2 in /usr/local/lib/python3.7/dist-packages (from koalas) (1.1.5)\n",
            "Requirement already satisfied: pyarrow>=0.10 in /usr/local/lib/python3.7/dist-packages (from koalas) (3.0.0)\n",
            "Requirement already satisfied: python-dateutil>=2.7.3 in /usr/local/lib/python3.7/dist-packages (from pandas>=0.23.2->koalas) (2.8.1)\n",
            "Requirement already satisfied: pytz>=2017.2 in /usr/local/lib/python3.7/dist-packages (from pandas>=0.23.2->koalas) (2018.9)\n",
            "Requirement already satisfied: six>=1.5 in /usr/local/lib/python3.7/dist-packages (from python-dateutil>=2.7.3->pandas>=0.23.2->koalas) (1.15.0)\n",
            "\n",
            "--1.3 Download Apache tar.gz----\n",
            "\n",
            "--2021-06-12 13:45:20--  https://apachemirror.wuchna.com/spark/spark-3.1.2/spark-3.1.2-bin-hadoop3.2.tgz\n",
            "Resolving apachemirror.wuchna.com (apachemirror.wuchna.com)... 143.110.177.196\n",
            "Connecting to apachemirror.wuchna.com (apachemirror.wuchna.com)|143.110.177.196|:443... connected.\n",
            "HTTP request sent, awaiting response... 200 OK\n",
            "Length: 228834641 (218M) [application/x-gzip]\n",
            "Saving to: ‘spark-3.1.2-bin-hadoop3.2.tgz’\n",
            "\n",
            "spark-3.1.2-bin-had 100%[===================>] 218.23M  10.0MB/s    in 25s     \n",
            "\n",
            "2021-06-12 13:45:46 (8.84 MB/s) - ‘spark-3.1.2-bin-hadoop3.2.tgz’ saved [228834641/228834641]\n",
            "\n",
            "\n",
            "--1.4 Transfer downloaded content and unzip tar.gz----\n",
            "\n",
            "\n",
            "--1.5 Check folder for files----\n",
            "\n",
            "total 223492\n",
            "drwxr-xr-x  1 root root      4096 Jun 12 13:45 .\n",
            "drwxr-xr-x  1 root root      4096 Jun 12 13:38 ..\n",
            "drwxr-xr-x  1 root root      4096 Jun  1 13:35 google\n",
            "drwxr-xr-x  4 root root      4096 Jun  1 13:29 nvidia\n",
            "drwxr-xr-x 13 1000 1000      4096 May 24 04:45 spark-3.1.2-bin-hadoop3.2\n",
            "-rw-r--r--  1 root root 228834641 May 24 05:01 spark-3.1.2-bin-hadoop3.2.tgz\n",
            "\n",
            "---2. Set Environment variables----\n",
            "\n",
            "\n",
            "---2.1. Check Environment variables----\n",
            "\n",
            "/usr/local/nvidia/bin:/usr/local/cuda/bin:/usr/local/sbin:/usr/local/bin:/usr/sbin:/usr/bin:/sbin:/bin:/tools/node/bin:/tools/google-cloud-sdk/bin:/opt/bin:/opt/spark-3.1.2-bin-hadoop3.2/bin:/opt/spark-3.1.2-bin-hadoop3.2/sbin:/opt/spark-3.1.2-bin-hadoop3.2/bin:/opt/spark-3.1.2-bin-hadoop3.2/sbin\n",
            "/usr/local/nvidia/lib:/usr/local/nvidia/lib64:/opt/spark-3.1.2-bin-hadoop3.2/lib/native:/opt/spark-3.1.2-bin-hadoop3.2/lib/native\n",
            "\n",
            "---3. Configure spark to access hadoop----\n",
            "\n",
            "\n",
            "---3.1 Check ----\n",
            "\n"
          ],
          "name": "stdout"
        }
      ]
    },
    {
      "cell_type": "markdown",
      "metadata": {
        "id": "L6XYg1IGs17n"
      },
      "source": [
        "# Test spark\n"
      ]
    },
    {
      "cell_type": "markdown",
      "metadata": {
        "id": "eZwLRxQWZryJ"
      },
      "source": [
        "Call some libraries"
      ]
    },
    {
      "cell_type": "code",
      "metadata": {
        "id": "6_1RXFGClfCy",
        "colab": {
          "base_uri": "https://localhost:8080/"
        },
        "outputId": "8584a264-4f74-4112-90b0-8254579fcaa4"
      },
      "source": [
        "# 3.0 Just call some libraries to test\n",
        "import pandas as pd\n",
        "import numpy as np\n",
        "\n",
        "# 3.1 Get spark in sys.path\n",
        "import findspark\n",
        "findspark.init()\n",
        "\n",
        "# 3.2 Call other spark libraries\n",
        "#     Just to test\n",
        "from pyspark.sql import SparkSession\n",
        "import databricks.koalas as ks\n",
        "from pyspark.ml.feature import VectorAssembler\n",
        "from pyspark.ml.regression import LinearRegression"
      ],
      "execution_count": null,
      "outputs": [
        {
          "output_type": "stream",
          "text": [
            "WARNING:root:'PYARROW_IGNORE_TIMEZONE' environment variable was not set. It is required to set this environment variable to '1' in both driver and executor sides if you use pyarrow>=2.0.0. Koalas will set it for you but it does not work if there is a Spark context already launched.\n"
          ],
          "name": "stderr"
        }
      ]
    },
    {
      "cell_type": "markdown",
      "metadata": {
        "id": "JRcydbfmqzGX"
      },
      "source": [
        "### Understanding SparkSession\n",
        "For Spark configuration options, see [here](http://spark.apache.org/docs/latest/configuration.html#spark-properties)"
      ]
    },
    {
      "cell_type": "code",
      "metadata": {
        "id": "ISNdxVmMmUVz"
      },
      "source": [
        "# 3.1 Build  spark session\n",
        "#     with certain configuration options\n",
        "#     .master => Connect to spark which URL? \"local\" to run locally, \n",
        "#                \"local[4]\" to run locally with 4 cores,\n",
        "#                or \"spark://master:7077\" to run on a Spark standalone cluster.\n",
        "#\n",
        "spark = SparkSession. \\\n",
        "                    builder. \\\n",
        "                    master(\"local[*]\"). \\ \n",
        "                    config(\"spark.driver.memory\", \"1g\"). \\\n",
        "                    getOrCreate()\n"
      ],
      "execution_count": 44,
      "outputs": []
    },
    {
      "cell_type": "code",
      "metadata": {
        "id": "GhFDaRinqTBg",
        "outputId": "0f25bed6-8677-40a8-b481-c83aea3b67a3",
        "colab": {
          "base_uri": "https://localhost:8080/",
          "height": 35
        }
      },
      "source": [
        "# 3.1.1\n",
        "# Get spark configuration\n",
        "spark.conf.get(\"spark.driver.memory\")"
      ],
      "execution_count": 45,
      "outputs": [
        {
          "output_type": "execute_result",
          "data": {
            "application/vnd.google.colaboratory.intrinsic+json": {
              "type": "string"
            },
            "text/plain": [
              "'1g'"
            ]
          },
          "metadata": {
            "tags": []
          },
          "execution_count": 45
        }
      ]
    },
    {
      "cell_type": "code",
      "metadata": {
        "id": "_RD05F9IqZOs"
      },
      "source": [
        "# 3.1.2 \n",
        "# Get spark session \n",
        "abc = spark.builder.getOrCreate()"
      ],
      "execution_count": 46,
      "outputs": []
    },
    {
      "cell_type": "markdown",
      "metadata": {
        "id": "YkeUhzdMsDwZ"
      },
      "source": [
        "### Creating spark dataframe"
      ]
    },
    {
      "cell_type": "markdown",
      "metadata": {
        "id": "4Hkt2OyksJAh"
      },
      "source": [
        "#### From pandas dataframe"
      ]
    },
    {
      "cell_type": "code",
      "metadata": {
        "id": "oVlRiGQJmk58"
      },
      "source": [
        "# 4.0 Pandas DataFrame\n",
        "pdf = pd.DataFrame({\n",
        "        'x1': ['a','a','b','b', 'b', 'c', 'd','d'],\n",
        "        'x2': ['apple', 'orange', 'orange','orange', 'peach', 'peach','apple','orange'],\n",
        "        'x3': [1, 1, 2, 2, 2, 4, 1, 2],\n",
        "        'x4': [2.4, 2.5, 3.5, 1.4, 2.1,1.5, 3.0, 2.0],\n",
        "        'y1': [1, 0, 1, 0, 0, 1, 1, 0],\n",
        "        'y2': ['yes', 'no', 'no', 'yes', 'yes', 'yes', 'no', 'yes']\n",
        "    })\n",
        "\n",
        "# 4.1\n",
        "pdf"
      ],
      "execution_count": null,
      "outputs": []
    },
    {
      "cell_type": "code",
      "metadata": {
        "id": "L3pSQ7sDmnjt"
      },
      "source": [
        "# 4.2 Transform to Spark DataFrame\n",
        "#     and print\n",
        "df = spark.createDataFrame(pdf)\n",
        "df.show()"
      ],
      "execution_count": null,
      "outputs": []
    },
    {
      "cell_type": "code",
      "metadata": {
        "id": "p91zAEU2qo9q"
      },
      "source": [
        "df1 = abc.createDataFrame(pdf)\n",
        "df1.show()"
      ],
      "execution_count": null,
      "outputs": []
    },
    {
      "cell_type": "code",
      "metadata": {
        "id": "sTjT6sQYbgz3"
      },
      "source": [
        "############"
      ],
      "execution_count": null,
      "outputs": []
    },
    {
      "cell_type": "markdown",
      "metadata": {
        "id": "Zn3xhm6LdXvK"
      },
      "source": [
        "# Your experiments"
      ]
    },
    {
      "cell_type": "code",
      "metadata": {
        "id": "iIqjW83OfmMq"
      },
      "source": [
        "# Get existing spark session using builder object\n",
        "abc = SparkSession.builder.getOrCreate()"
      ],
      "execution_count": 36,
      "outputs": []
    },
    {
      "cell_type": "code",
      "metadata": {
        "id": "pbF3f4b4fm8y",
        "outputId": "470f7afd-5e1a-48fa-e4fe-582f4af3c441",
        "colab": {
          "base_uri": "https://localhost:8080/",
          "height": 35
        }
      },
      "source": [
        "abc.conf.get(\"spark.driver.memory\")"
      ],
      "execution_count": 42,
      "outputs": [
        {
          "output_type": "execute_result",
          "data": {
            "application/vnd.google.colaboratory.intrinsic+json": {
              "type": "string"
            },
            "text/plain": [
              "'1g'"
            ]
          },
          "metadata": {
            "tags": []
          },
          "execution_count": 42
        }
      ]
    },
    {
      "cell_type": "code",
      "metadata": {
        "id": "OrqJj2_rp0mg"
      },
      "source": [
        " df = spark.read.csv(\n",
        "                     \"/content/data_modified.csv\",\n",
        "                     header = True\n",
        "                     )"
      ],
      "execution_count": 56,
      "outputs": []
    },
    {
      "cell_type": "code",
      "metadata": {
        "id": "1FeKt1eruCDI",
        "outputId": "b74b4e92-0a02-4914-8c2a-47ac8a0b7f81",
        "colab": {
          "base_uri": "https://localhost:8080/"
        }
      },
      "source": [
        "df.show(5)"
      ],
      "execution_count": 58,
      "outputs": [
        {
          "output_type": "stream",
          "text": [
            "+---------+-----------+------------+--------------+---------+---------------+----------------+--------------+-------------------+-------------+----------------------+---------+----------+------------+-------+-------------+--------------+------------+-----------------+-----------+--------------------+------------+-------------+---------------+----------+----------------+-----------------+---------------+--------------------+--------------+-----------------------+\n",
            "|diagnosis|radius_mean|texture_mean|perimeter_mean|area_mean|smoothness_mean|compactness_mean|concavity_mean|concave_points_mean|symmetry_mean|fractal_dimension_mean|radius_se|texture_se|perimeter_se|area_se|smoothness_se|compactness_se|concavity_se|concave_points_se|symmetry_se|fractal_dimension_se|radius_worst|texture_worst|perimeter_worst|area_worst|smoothness_worst|compactness_worst|concavity_worst|concave_points_worst|symmetry_worst|fractal_dimension_worst|\n",
            "+---------+-----------+------------+--------------+---------+---------------+----------------+--------------+-------------------+-------------+----------------------+---------+----------+------------+-------+-------------+--------------+------------+-----------------+-----------+--------------------+------------+-------------+---------------+----------+----------------+-----------------+---------------+--------------------+--------------+-----------------------+\n",
            "|        1|      17.99|       10.38|         122.8|     1001|         0.1184|          0.2776|        0.3001|             0.1471|       0.2419|               0.07871|    1.095|    0.9053|       8.589|  153.4|     0.006399|       0.04904|     0.05373|          0.01587|    0.03003|            0.006193|       25.38|        17.33|          184.6|      2019|          0.1622|           0.6656|         0.7119|              0.2654|        0.4601|                 0.1189|\n",
            "|        1|      20.57|       17.77|         132.9|     1326|        0.08474|         0.07864|        0.0869|            0.07017|       0.1812|               0.05667|   0.5435|    0.7339|       3.398|  74.08|     0.005225|       0.01308|      0.0186|           0.0134|    0.01389|            0.003532|       24.99|        23.41|          158.8|      1956|          0.1238|           0.1866|         0.2416|               0.186|         0.275|                0.08902|\n",
            "|        1|      19.69|       21.25|           130|     1203|         0.1096|          0.1599|        0.1974|             0.1279|       0.2069|               0.05999|   0.7456|    0.7869|       4.585|  94.03|      0.00615|       0.04006|     0.03832|          0.02058|     0.0225|            0.004571|       23.57|        25.53|          152.5|      1709|          0.1444|           0.4245|         0.4504|               0.243|        0.3613|                0.08758|\n",
            "|        1|      11.42|       20.38|         77.58|    386.1|         0.1425|          0.2839|        0.2414|             0.1052|       0.2597|               0.09744|   0.4956|     1.156|       3.445|  27.23|      0.00911|       0.07458|     0.05661|          0.01867|    0.05963|            0.009208|       14.91|         26.5|          98.87|     567.7|          0.2098|           0.8663|         0.6869|              0.2575|        0.6638|                  0.173|\n",
            "|        1|      20.29|       14.34|         135.1|     1297|         0.1003|          0.1328|         0.198|             0.1043|       0.1809|               0.05883|   0.7572|    0.7813|       5.438|  94.44|      0.01149|       0.02461|     0.05688|          0.01885|    0.01756|            0.005115|       22.54|        16.67|          152.2|      1575|          0.1374|            0.205|            0.4|              0.1625|        0.2364|                0.07678|\n",
            "+---------+-----------+------------+--------------+---------+---------------+----------------+--------------+-------------------+-------------+----------------------+---------+----------+------------+-------+-------------+--------------+------------+-----------------+-----------+--------------------+------------+-------------+---------------+----------+----------------+-----------------+---------------+--------------------+--------------+-----------------------+\n",
            "only showing top 5 rows\n",
            "\n"
          ],
          "name": "stdout"
        }
      ]
    },
    {
      "cell_type": "code",
      "metadata": {
        "id": "duU5VmxDuKfi"
      },
      "source": [
        "df1 = df.sample(fraction = 0.5)\n",
        "df2 = df.sample(fraction = 0.5)"
      ],
      "execution_count": 60,
      "outputs": []
    },
    {
      "cell_type": "code",
      "metadata": {
        "id": "yYDS1oEXvp0R",
        "outputId": "9bde9792-cb64-40c1-9356-5c6396d19126",
        "colab": {
          "base_uri": "https://localhost:8080/"
        }
      },
      "source": [
        "df1.head(4)"
      ],
      "execution_count": 61,
      "outputs": [
        {
          "output_type": "execute_result",
          "data": {
            "text/plain": [
              "[Row(diagnosis='1', radius_mean='17.99', texture_mean='10.38', perimeter_mean='122.8', area_mean='1001', smoothness_mean='0.1184', compactness_mean='0.2776', concavity_mean='0.3001', concave_points_mean='0.1471', symmetry_mean='0.2419', fractal_dimension_mean='0.07871', radius_se='1.095', texture_se='0.9053', perimeter_se='8.589', area_se='153.4', smoothness_se='0.006399', compactness_se='0.04904', concavity_se='0.05373', concave_points_se='0.01587', symmetry_se='0.03003', fractal_dimension_se='0.006193', radius_worst='25.38', texture_worst='17.33', perimeter_worst='184.6', area_worst='2019', smoothness_worst='0.1622', compactness_worst='0.6656', concavity_worst='0.7119', concave_points_worst='0.2654', symmetry_worst='0.4601', fractal_dimension_worst='0.1189'),\n",
              " Row(diagnosis='1', radius_mean='11.42', texture_mean='20.38', perimeter_mean='77.58', area_mean='386.1', smoothness_mean='0.1425', compactness_mean='0.2839', concavity_mean='0.2414', concave_points_mean='0.1052', symmetry_mean='0.2597', fractal_dimension_mean='0.09744', radius_se='0.4956', texture_se='1.156', perimeter_se='3.445', area_se='27.23', smoothness_se='0.00911', compactness_se='0.07458', concavity_se='0.05661', concave_points_se='0.01867', symmetry_se='0.05963', fractal_dimension_se='0.009208', radius_worst='14.91', texture_worst='26.5', perimeter_worst='98.87', area_worst='567.7', smoothness_worst='0.2098', compactness_worst='0.8663', concavity_worst='0.6869', concave_points_worst='0.2575', symmetry_worst='0.6638', fractal_dimension_worst='0.173'),\n",
              " Row(diagnosis='1', radius_mean='12.45', texture_mean='15.7', perimeter_mean='82.57', area_mean='477.1', smoothness_mean='0.1278', compactness_mean='0.17', concavity_mean='0.1578', concave_points_mean='0.08089', symmetry_mean='0.2087', fractal_dimension_mean='0.07613', radius_se='0.3345', texture_se='0.8902', perimeter_se='2.217', area_se='27.19', smoothness_se='0.00751', compactness_se='0.03345', concavity_se='0.03672', concave_points_se='0.01137', symmetry_se='0.02165', fractal_dimension_se='0.005082', radius_worst='15.47', texture_worst='23.75', perimeter_worst='103.4', area_worst='741.6', smoothness_worst='0.1791', compactness_worst='0.5249', concavity_worst='0.5355', concave_points_worst='0.1741', symmetry_worst='0.3985', fractal_dimension_worst='0.1244'),\n",
              " Row(diagnosis='1', radius_mean='13.71', texture_mean='20.83', perimeter_mean='90.2', area_mean='577.9', smoothness_mean='0.1189', compactness_mean='0.1645', concavity_mean='0.09366', concave_points_mean='0.05985', symmetry_mean='0.2196', fractal_dimension_mean='0.07451', radius_se='0.5835', texture_se='1.377', perimeter_se='3.856', area_se='50.96', smoothness_se='0.008805', compactness_se='0.03029', concavity_se='0.02488', concave_points_se='0.01448', symmetry_se='0.01486', fractal_dimension_se='0.005412', radius_worst='17.06', texture_worst='28.14', perimeter_worst='110.6', area_worst='897', smoothness_worst='0.1654', compactness_worst='0.3682', concavity_worst='0.2678', concave_points_worst='0.1556', symmetry_worst='0.3196', fractal_dimension_worst='0.1151')]"
            ]
          },
          "metadata": {
            "tags": []
          },
          "execution_count": 61
        }
      ]
    },
    {
      "cell_type": "code",
      "metadata": {
        "id": "8Uhqo_ydwUhg"
      },
      "source": [
        "df1.collect()"
      ],
      "execution_count": null,
      "outputs": []
    },
    {
      "cell_type": "code",
      "metadata": {
        "id": "3DSQKHmvwtv1",
        "outputId": "2d52fc58-df88-4410-b9cc-ecd77e5a1897",
        "colab": {
          "base_uri": "https://localhost:8080/"
        }
      },
      "source": [
        "len(df1.columns)"
      ],
      "execution_count": 71,
      "outputs": [
        {
          "output_type": "execute_result",
          "data": {
            "text/plain": [
              "31"
            ]
          },
          "metadata": {
            "tags": []
          },
          "execution_count": 71
        }
      ]
    },
    {
      "cell_type": "code",
      "metadata": {
        "id": "z4ioiyB7xPg2",
        "outputId": "88441ec6-d654-4ce5-a0e4-5c718f262813",
        "colab": {
          "base_uri": "https://localhost:8080/"
        }
      },
      "source": [
        "df1.summary().show()"
      ],
      "execution_count": 73,
      "outputs": [
        {
          "output_type": "stream",
          "text": [
            "+-------+-------------------+------------------+------------------+------------------+------------------+--------------------+--------------------+-------------------+--------------------+--------------------+----------------------+-------------------+------------------+------------------+-----------------+--------------------+--------------------+-------------------+--------------------+--------------------+--------------------+------------------+-----------------+------------------+-----------------+--------------------+------------------+------------------+--------------------+-------------------+-----------------------+\n",
            "|summary|          diagnosis|       radius_mean|      texture_mean|    perimeter_mean|         area_mean|     smoothness_mean|    compactness_mean|     concavity_mean| concave_points_mean|       symmetry_mean|fractal_dimension_mean|          radius_se|        texture_se|      perimeter_se|          area_se|       smoothness_se|      compactness_se|       concavity_se|   concave_points_se|         symmetry_se|fractal_dimension_se|      radius_worst|    texture_worst|   perimeter_worst|       area_worst|    smoothness_worst| compactness_worst|   concavity_worst|concave_points_worst|     symmetry_worst|fractal_dimension_worst|\n",
            "+-------+-------------------+------------------+------------------+------------------+------------------+--------------------+--------------------+-------------------+--------------------+--------------------+----------------------+-------------------+------------------+------------------+-----------------+--------------------+--------------------+-------------------+--------------------+--------------------+--------------------+------------------+-----------------+------------------+-----------------+--------------------+------------------+------------------+--------------------+-------------------+-----------------------+\n",
            "|  count|                287|               287|               287|               287|               287|                 287|                 287|                287|                 287|                 287|                   287|                287|               287|               287|              287|                 287|                 287|                287|                 287|                 287|                 287|               287|              287|               287|              287|                 287|               287|               287|                 287|                287|                    287|\n",
            "|   mean| 0.3693379790940767|13.952846689895479|19.174390243902433| 90.82421602787456| 637.4585365853661| 0.09590285714285719| 0.10460477351916374|0.09014792682926832|0.048459163763066235| 0.18126097560975613|   0.06308317073170733|0.40727526132404185| 1.237604181184669| 2.854425783972127|39.87923344947738|0.007215324041811853|0.026998940766550523|0.03452215296167249| 0.01222710452961672|0.020951693379790946|0.004027767247386...|16.019041811846694| 25.3917770034843|105.52825783972129|852.7121951219516|  0.1310086411149826|0.2538110104529616|0.2715472229965159| 0.11263871080139369|0.28702160278745664|    0.08411209059233449|\n",
            "| stddev|0.48346858004239457|3.4108088848748337|  4.10374614305244|23.532059295362178|336.30529470527523|0.014824297794327557|0.054971996474246866|0.08242774030444741| 0.03885581916671486|0.027601061784508756|  0.007673449415047594| 0.2692949242077166|0.5719732267775205|1.8875556933840565|45.14162881077804|0.003228809208534823|0.020159980049627386|0.03678059344440639|0.006793344048380348|0.008323460000995552|0.003220450147862494| 4.719706612569809|6.030201609117407| 32.94044135518747| 554.636154998192|0.024271801732376332|0.1698158781608741|0.2195973813848653| 0.06734895870421415|0.06401213024420532|    0.01978219680165621|\n",
            "|    min|                  0|             10.03|             10.38|             100.3|              1001|             0.05263|             0.02344|                  0|                   0|               0.106|               0.05054|             0.1115|            0.3628|            0.8439|            10.09|            0.001713|            0.003012|                  0|                   0|            0.009539|           0.0009502|             10.01|            12.02|             100.3|             1009|             0.07117|           0.02729|                 0|                   0|             0.1566|                0.05521|\n",
            "|    25%|                0.0|             11.62|             16.18|             74.34|             412.6|             0.08481|             0.06258|            0.02891|             0.02031|               0.162|               0.05766|             0.2324|            0.8265|             1.648|            17.81|            0.005343|             0.01273|            0.01465|            0.007584|             0.01528|            0.002157|             13.01|            20.86|             83.61|            514.0|              0.1137|            0.1352|            0.1087|             0.06136|             0.2447|                0.07028|\n",
            "|    50%|                0.0|             13.28|             18.82|             86.49|             546.1|             0.09566|             0.08995|            0.05929|             0.03264|              0.1792|               0.06147|             0.3274|             1.108|              2.31|            24.53|            0.006515|             0.02101|            0.02645|             0.01111|             0.01894|            0.003288|             15.01|            25.05|             97.67|            687.6|              0.1296|            0.2057|             0.222|             0.09744|             0.2765|                0.07919|\n",
            "|    75%|                1.0|             15.53|             21.54|             102.6|             748.9|              0.1053|              0.1306|             0.1379|             0.07507|              0.1957|                0.0667|             0.4789|             1.506|             3.384|             45.4|            0.008166|             0.03471|            0.04615|              0.0156|             0.02541|            0.004623|             18.13|            28.88|             122.1|           1021.0|               0.146|            0.3262|            0.3791|              0.1609|             0.3163|                 0.0927|\n",
            "|    max|                  1|             9.904|              9.71|             98.92|             992.1|              0.1634|              0.2839|             0.4264|              0.1845|              0.2597|               0.09744|              2.547|             4.885|             9.635|            99.04|             0.03113|              0.1354|              0.396|             0.05279|             0.06146|             0.02984|             9.968|            49.54|             99.71|            981.2|              0.2184|             1.058|             1.252|               0.291|             0.6638|                 0.2075|\n",
            "+-------+-------------------+------------------+------------------+------------------+------------------+--------------------+--------------------+-------------------+--------------------+--------------------+----------------------+-------------------+------------------+------------------+-----------------+--------------------+--------------------+-------------------+--------------------+--------------------+--------------------+------------------+-----------------+------------------+-----------------+--------------------+------------------+------------------+--------------------+-------------------+-----------------------+\n",
            "\n"
          ],
          "name": "stdout"
        }
      ]
    },
    {
      "cell_type": "code",
      "metadata": {
        "id": "qiHqyoYGxRn3",
        "outputId": "944bb335-e7e4-4ed6-ef5b-38a3c8f4c7e2",
        "colab": {
          "base_uri": "https://localhost:8080/"
        }
      },
      "source": [
        "print(df1.schema)"
      ],
      "execution_count": 79,
      "outputs": [
        {
          "output_type": "stream",
          "text": [
            "StructType(List(StructField(diagnosis,StringType,true),StructField(radius_mean,StringType,true),StructField(texture_mean,StringType,true),StructField(perimeter_mean,StringType,true),StructField(area_mean,StringType,true),StructField(smoothness_mean,StringType,true),StructField(compactness_mean,StringType,true),StructField(concavity_mean,StringType,true),StructField(concave_points_mean,StringType,true),StructField(symmetry_mean,StringType,true),StructField(fractal_dimension_mean,StringType,true),StructField(radius_se,StringType,true),StructField(texture_se,StringType,true),StructField(perimeter_se,StringType,true),StructField(area_se,StringType,true),StructField(smoothness_se,StringType,true),StructField(compactness_se,StringType,true),StructField(concavity_se,StringType,true),StructField(concave_points_se,StringType,true),StructField(symmetry_se,StringType,true),StructField(fractal_dimension_se,StringType,true),StructField(radius_worst,StringType,true),StructField(texture_worst,StringType,true),StructField(perimeter_worst,StringType,true),StructField(area_worst,StringType,true),StructField(smoothness_worst,StringType,true),StructField(compactness_worst,StringType,true),StructField(concavity_worst,StringType,true),StructField(concave_points_worst,StringType,true),StructField(symmetry_worst,StringType,true),StructField(fractal_dimension_worst,StringType,true)))\n"
          ],
          "name": "stdout"
        }
      ]
    },
    {
      "cell_type": "code",
      "metadata": {
        "id": "SiUfxoHUyNt5",
        "outputId": "c4e72b99-0958-4d0a-a6d1-23b0a577b538",
        "colab": {
          "base_uri": "https://localhost:8080/"
        }
      },
      "source": [
        "df1.describe().show()"
      ],
      "execution_count": 81,
      "outputs": [
        {
          "output_type": "stream",
          "text": [
            "+-------+-------------------+------------------+------------------+------------------+------------------+--------------------+--------------------+-------------------+--------------------+--------------------+----------------------+-------------------+------------------+------------------+-----------------+--------------------+--------------------+-------------------+--------------------+--------------------+--------------------+------------------+-----------------+------------------+-----------------+--------------------+------------------+------------------+--------------------+-------------------+-----------------------+\n",
            "|summary|          diagnosis|       radius_mean|      texture_mean|    perimeter_mean|         area_mean|     smoothness_mean|    compactness_mean|     concavity_mean| concave_points_mean|       symmetry_mean|fractal_dimension_mean|          radius_se|        texture_se|      perimeter_se|          area_se|       smoothness_se|      compactness_se|       concavity_se|   concave_points_se|         symmetry_se|fractal_dimension_se|      radius_worst|    texture_worst|   perimeter_worst|       area_worst|    smoothness_worst| compactness_worst|   concavity_worst|concave_points_worst|     symmetry_worst|fractal_dimension_worst|\n",
            "+-------+-------------------+------------------+------------------+------------------+------------------+--------------------+--------------------+-------------------+--------------------+--------------------+----------------------+-------------------+------------------+------------------+-----------------+--------------------+--------------------+-------------------+--------------------+--------------------+--------------------+------------------+-----------------+------------------+-----------------+--------------------+------------------+------------------+--------------------+-------------------+-----------------------+\n",
            "|  count|                287|               287|               287|               287|               287|                 287|                 287|                287|                 287|                 287|                   287|                287|               287|               287|              287|                 287|                 287|                287|                 287|                 287|                 287|               287|              287|               287|              287|                 287|               287|               287|                 287|                287|                    287|\n",
            "|   mean| 0.3693379790940767|13.952846689895479|19.174390243902433| 90.82421602787456| 637.4585365853661| 0.09590285714285719| 0.10460477351916374|0.09014792682926832|0.048459163763066235| 0.18126097560975613|   0.06308317073170733|0.40727526132404185| 1.237604181184669| 2.854425783972127|39.87923344947738|0.007215324041811853|0.026998940766550523|0.03452215296167249| 0.01222710452961672|0.020951693379790946|0.004027767247386...|16.019041811846694| 25.3917770034843|105.52825783972129|852.7121951219516|  0.1310086411149826|0.2538110104529616|0.2715472229965159| 0.11263871080139369|0.28702160278745664|    0.08411209059233449|\n",
            "| stddev|0.48346858004239457|3.4108088848748337|  4.10374614305244|23.532059295362178|336.30529470527523|0.014824297794327557|0.054971996474246866|0.08242774030444741| 0.03885581916671486|0.027601061784508756|  0.007673449415047594| 0.2692949242077166|0.5719732267775205|1.8875556933840565|45.14162881077804|0.003228809208534823|0.020159980049627386|0.03678059344440639|0.006793344048380348|0.008323460000995552|0.003220450147862494| 4.719706612569809|6.030201609117407| 32.94044135518747| 554.636154998192|0.024271801732376332|0.1698158781608741|0.2195973813848653| 0.06734895870421415|0.06401213024420532|    0.01978219680165621|\n",
            "|    min|                  0|             10.03|             10.38|             100.3|              1001|             0.05263|             0.02344|                  0|                   0|               0.106|               0.05054|             0.1115|            0.3628|            0.8439|            10.09|            0.001713|            0.003012|                  0|                   0|            0.009539|           0.0009502|             10.01|            12.02|             100.3|             1009|             0.07117|           0.02729|                 0|                   0|             0.1566|                0.05521|\n",
            "|    max|                  1|             9.904|              9.71|             98.92|             992.1|              0.1634|              0.2839|             0.4264|              0.1845|              0.2597|               0.09744|              2.547|             4.885|             9.635|            99.04|             0.03113|              0.1354|              0.396|             0.05279|             0.06146|             0.02984|             9.968|            49.54|             99.71|            981.2|              0.2184|             1.058|             1.252|               0.291|             0.6638|                 0.2075|\n",
            "+-------+-------------------+------------------+------------------+------------------+------------------+--------------------+--------------------+-------------------+--------------------+--------------------+----------------------+-------------------+------------------+------------------+-----------------+--------------------+--------------------+-------------------+--------------------+--------------------+--------------------+------------------+-----------------+------------------+-----------------+--------------------+------------------+------------------+--------------------+-------------------+-----------------------+\n",
            "\n"
          ],
          "name": "stdout"
        }
      ]
    },
    {
      "cell_type": "code",
      "metadata": {
        "id": "LzNQSebvy4Ne",
        "outputId": "3cfd4ed4-5286-4d82-92e9-365d62c1c9b0",
        "colab": {
          "base_uri": "https://localhost:8080/",
          "height": 444
        }
      },
      "source": [
        "df1.toPandas()"
      ],
      "execution_count": 82,
      "outputs": [
        {
          "output_type": "execute_result",
          "data": {
            "text/html": [
              "<div>\n",
              "<style scoped>\n",
              "    .dataframe tbody tr th:only-of-type {\n",
              "        vertical-align: middle;\n",
              "    }\n",
              "\n",
              "    .dataframe tbody tr th {\n",
              "        vertical-align: top;\n",
              "    }\n",
              "\n",
              "    .dataframe thead th {\n",
              "        text-align: right;\n",
              "    }\n",
              "</style>\n",
              "<table border=\"1\" class=\"dataframe\">\n",
              "  <thead>\n",
              "    <tr style=\"text-align: right;\">\n",
              "      <th></th>\n",
              "      <th>diagnosis</th>\n",
              "      <th>radius_mean</th>\n",
              "      <th>texture_mean</th>\n",
              "      <th>perimeter_mean</th>\n",
              "      <th>area_mean</th>\n",
              "      <th>smoothness_mean</th>\n",
              "      <th>compactness_mean</th>\n",
              "      <th>concavity_mean</th>\n",
              "      <th>concave_points_mean</th>\n",
              "      <th>symmetry_mean</th>\n",
              "      <th>fractal_dimension_mean</th>\n",
              "      <th>radius_se</th>\n",
              "      <th>texture_se</th>\n",
              "      <th>perimeter_se</th>\n",
              "      <th>area_se</th>\n",
              "      <th>smoothness_se</th>\n",
              "      <th>compactness_se</th>\n",
              "      <th>concavity_se</th>\n",
              "      <th>concave_points_se</th>\n",
              "      <th>symmetry_se</th>\n",
              "      <th>fractal_dimension_se</th>\n",
              "      <th>radius_worst</th>\n",
              "      <th>texture_worst</th>\n",
              "      <th>perimeter_worst</th>\n",
              "      <th>area_worst</th>\n",
              "      <th>smoothness_worst</th>\n",
              "      <th>compactness_worst</th>\n",
              "      <th>concavity_worst</th>\n",
              "      <th>concave_points_worst</th>\n",
              "      <th>symmetry_worst</th>\n",
              "      <th>fractal_dimension_worst</th>\n",
              "    </tr>\n",
              "  </thead>\n",
              "  <tbody>\n",
              "    <tr>\n",
              "      <th>0</th>\n",
              "      <td>1</td>\n",
              "      <td>17.99</td>\n",
              "      <td>10.38</td>\n",
              "      <td>122.8</td>\n",
              "      <td>1001</td>\n",
              "      <td>0.1184</td>\n",
              "      <td>0.2776</td>\n",
              "      <td>0.3001</td>\n",
              "      <td>0.1471</td>\n",
              "      <td>0.2419</td>\n",
              "      <td>0.07871</td>\n",
              "      <td>1.095</td>\n",
              "      <td>0.9053</td>\n",
              "      <td>8.589</td>\n",
              "      <td>153.4</td>\n",
              "      <td>0.006399</td>\n",
              "      <td>0.04904</td>\n",
              "      <td>0.05373</td>\n",
              "      <td>0.01587</td>\n",
              "      <td>0.03003</td>\n",
              "      <td>0.006193</td>\n",
              "      <td>25.38</td>\n",
              "      <td>17.33</td>\n",
              "      <td>184.6</td>\n",
              "      <td>2019</td>\n",
              "      <td>0.1622</td>\n",
              "      <td>0.6656</td>\n",
              "      <td>0.7119</td>\n",
              "      <td>0.2654</td>\n",
              "      <td>0.4601</td>\n",
              "      <td>0.1189</td>\n",
              "    </tr>\n",
              "    <tr>\n",
              "      <th>1</th>\n",
              "      <td>1</td>\n",
              "      <td>11.42</td>\n",
              "      <td>20.38</td>\n",
              "      <td>77.58</td>\n",
              "      <td>386.1</td>\n",
              "      <td>0.1425</td>\n",
              "      <td>0.2839</td>\n",
              "      <td>0.2414</td>\n",
              "      <td>0.1052</td>\n",
              "      <td>0.2597</td>\n",
              "      <td>0.09744</td>\n",
              "      <td>0.4956</td>\n",
              "      <td>1.156</td>\n",
              "      <td>3.445</td>\n",
              "      <td>27.23</td>\n",
              "      <td>0.00911</td>\n",
              "      <td>0.07458</td>\n",
              "      <td>0.05661</td>\n",
              "      <td>0.01867</td>\n",
              "      <td>0.05963</td>\n",
              "      <td>0.009208</td>\n",
              "      <td>14.91</td>\n",
              "      <td>26.5</td>\n",
              "      <td>98.87</td>\n",
              "      <td>567.7</td>\n",
              "      <td>0.2098</td>\n",
              "      <td>0.8663</td>\n",
              "      <td>0.6869</td>\n",
              "      <td>0.2575</td>\n",
              "      <td>0.6638</td>\n",
              "      <td>0.173</td>\n",
              "    </tr>\n",
              "    <tr>\n",
              "      <th>2</th>\n",
              "      <td>1</td>\n",
              "      <td>12.45</td>\n",
              "      <td>15.7</td>\n",
              "      <td>82.57</td>\n",
              "      <td>477.1</td>\n",
              "      <td>0.1278</td>\n",
              "      <td>0.17</td>\n",
              "      <td>0.1578</td>\n",
              "      <td>0.08089</td>\n",
              "      <td>0.2087</td>\n",
              "      <td>0.07613</td>\n",
              "      <td>0.3345</td>\n",
              "      <td>0.8902</td>\n",
              "      <td>2.217</td>\n",
              "      <td>27.19</td>\n",
              "      <td>0.00751</td>\n",
              "      <td>0.03345</td>\n",
              "      <td>0.03672</td>\n",
              "      <td>0.01137</td>\n",
              "      <td>0.02165</td>\n",
              "      <td>0.005082</td>\n",
              "      <td>15.47</td>\n",
              "      <td>23.75</td>\n",
              "      <td>103.4</td>\n",
              "      <td>741.6</td>\n",
              "      <td>0.1791</td>\n",
              "      <td>0.5249</td>\n",
              "      <td>0.5355</td>\n",
              "      <td>0.1741</td>\n",
              "      <td>0.3985</td>\n",
              "      <td>0.1244</td>\n",
              "    </tr>\n",
              "    <tr>\n",
              "      <th>3</th>\n",
              "      <td>1</td>\n",
              "      <td>13.71</td>\n",
              "      <td>20.83</td>\n",
              "      <td>90.2</td>\n",
              "      <td>577.9</td>\n",
              "      <td>0.1189</td>\n",
              "      <td>0.1645</td>\n",
              "      <td>0.09366</td>\n",
              "      <td>0.05985</td>\n",
              "      <td>0.2196</td>\n",
              "      <td>0.07451</td>\n",
              "      <td>0.5835</td>\n",
              "      <td>1.377</td>\n",
              "      <td>3.856</td>\n",
              "      <td>50.96</td>\n",
              "      <td>0.008805</td>\n",
              "      <td>0.03029</td>\n",
              "      <td>0.02488</td>\n",
              "      <td>0.01448</td>\n",
              "      <td>0.01486</td>\n",
              "      <td>0.005412</td>\n",
              "      <td>17.06</td>\n",
              "      <td>28.14</td>\n",
              "      <td>110.6</td>\n",
              "      <td>897</td>\n",
              "      <td>0.1654</td>\n",
              "      <td>0.3682</td>\n",
              "      <td>0.2678</td>\n",
              "      <td>0.1556</td>\n",
              "      <td>0.3196</td>\n",
              "      <td>0.1151</td>\n",
              "    </tr>\n",
              "    <tr>\n",
              "      <th>4</th>\n",
              "      <td>1</td>\n",
              "      <td>13</td>\n",
              "      <td>21.82</td>\n",
              "      <td>87.5</td>\n",
              "      <td>519.8</td>\n",
              "      <td>0.1273</td>\n",
              "      <td>0.1932</td>\n",
              "      <td>0.1859</td>\n",
              "      <td>0.09353</td>\n",
              "      <td>0.235</td>\n",
              "      <td>0.07389</td>\n",
              "      <td>0.3063</td>\n",
              "      <td>1.002</td>\n",
              "      <td>2.406</td>\n",
              "      <td>24.32</td>\n",
              "      <td>0.005731</td>\n",
              "      <td>0.03502</td>\n",
              "      <td>0.03553</td>\n",
              "      <td>0.01226</td>\n",
              "      <td>0.02143</td>\n",
              "      <td>0.003749</td>\n",
              "      <td>15.49</td>\n",
              "      <td>30.73</td>\n",
              "      <td>106.2</td>\n",
              "      <td>739.3</td>\n",
              "      <td>0.1703</td>\n",
              "      <td>0.5401</td>\n",
              "      <td>0.539</td>\n",
              "      <td>0.206</td>\n",
              "      <td>0.4378</td>\n",
              "      <td>0.1072</td>\n",
              "    </tr>\n",
              "    <tr>\n",
              "      <th>...</th>\n",
              "      <td>...</td>\n",
              "      <td>...</td>\n",
              "      <td>...</td>\n",
              "      <td>...</td>\n",
              "      <td>...</td>\n",
              "      <td>...</td>\n",
              "      <td>...</td>\n",
              "      <td>...</td>\n",
              "      <td>...</td>\n",
              "      <td>...</td>\n",
              "      <td>...</td>\n",
              "      <td>...</td>\n",
              "      <td>...</td>\n",
              "      <td>...</td>\n",
              "      <td>...</td>\n",
              "      <td>...</td>\n",
              "      <td>...</td>\n",
              "      <td>...</td>\n",
              "      <td>...</td>\n",
              "      <td>...</td>\n",
              "      <td>...</td>\n",
              "      <td>...</td>\n",
              "      <td>...</td>\n",
              "      <td>...</td>\n",
              "      <td>...</td>\n",
              "      <td>...</td>\n",
              "      <td>...</td>\n",
              "      <td>...</td>\n",
              "      <td>...</td>\n",
              "      <td>...</td>\n",
              "      <td>...</td>\n",
              "    </tr>\n",
              "    <tr>\n",
              "      <th>282</th>\n",
              "      <td>1</td>\n",
              "      <td>21.56</td>\n",
              "      <td>22.39</td>\n",
              "      <td>142</td>\n",
              "      <td>1479</td>\n",
              "      <td>0.111</td>\n",
              "      <td>0.1159</td>\n",
              "      <td>0.2439</td>\n",
              "      <td>0.1389</td>\n",
              "      <td>0.1726</td>\n",
              "      <td>0.05623</td>\n",
              "      <td>1.176</td>\n",
              "      <td>1.256</td>\n",
              "      <td>7.673</td>\n",
              "      <td>158.7</td>\n",
              "      <td>0.0103</td>\n",
              "      <td>0.02891</td>\n",
              "      <td>0.05198</td>\n",
              "      <td>0.02454</td>\n",
              "      <td>0.01114</td>\n",
              "      <td>0.004239</td>\n",
              "      <td>25.45</td>\n",
              "      <td>26.4</td>\n",
              "      <td>166.1</td>\n",
              "      <td>2027</td>\n",
              "      <td>0.141</td>\n",
              "      <td>0.2113</td>\n",
              "      <td>0.4107</td>\n",
              "      <td>0.2216</td>\n",
              "      <td>0.206</td>\n",
              "      <td>0.07115</td>\n",
              "    </tr>\n",
              "    <tr>\n",
              "      <th>283</th>\n",
              "      <td>1</td>\n",
              "      <td>20.13</td>\n",
              "      <td>28.25</td>\n",
              "      <td>131.2</td>\n",
              "      <td>1261</td>\n",
              "      <td>0.0978</td>\n",
              "      <td>0.1034</td>\n",
              "      <td>0.144</td>\n",
              "      <td>0.09791</td>\n",
              "      <td>0.1752</td>\n",
              "      <td>0.05533</td>\n",
              "      <td>0.7655</td>\n",
              "      <td>2.463</td>\n",
              "      <td>5.203</td>\n",
              "      <td>99.04</td>\n",
              "      <td>0.005769</td>\n",
              "      <td>0.02423</td>\n",
              "      <td>0.0395</td>\n",
              "      <td>0.01678</td>\n",
              "      <td>0.01898</td>\n",
              "      <td>0.002498</td>\n",
              "      <td>23.69</td>\n",
              "      <td>38.25</td>\n",
              "      <td>155</td>\n",
              "      <td>1731</td>\n",
              "      <td>0.1166</td>\n",
              "      <td>0.1922</td>\n",
              "      <td>0.3215</td>\n",
              "      <td>0.1628</td>\n",
              "      <td>0.2572</td>\n",
              "      <td>0.06637</td>\n",
              "    </tr>\n",
              "    <tr>\n",
              "      <th>284</th>\n",
              "      <td>1</td>\n",
              "      <td>16.6</td>\n",
              "      <td>28.08</td>\n",
              "      <td>108.3</td>\n",
              "      <td>858.1</td>\n",
              "      <td>0.08455</td>\n",
              "      <td>0.1023</td>\n",
              "      <td>0.09251</td>\n",
              "      <td>0.05302</td>\n",
              "      <td>0.159</td>\n",
              "      <td>0.05648</td>\n",
              "      <td>0.4564</td>\n",
              "      <td>1.075</td>\n",
              "      <td>3.425</td>\n",
              "      <td>48.55</td>\n",
              "      <td>0.005903</td>\n",
              "      <td>0.03731</td>\n",
              "      <td>0.0473</td>\n",
              "      <td>0.01557</td>\n",
              "      <td>0.01318</td>\n",
              "      <td>0.003892</td>\n",
              "      <td>18.98</td>\n",
              "      <td>34.12</td>\n",
              "      <td>126.7</td>\n",
              "      <td>1124</td>\n",
              "      <td>0.1139</td>\n",
              "      <td>0.3094</td>\n",
              "      <td>0.3403</td>\n",
              "      <td>0.1418</td>\n",
              "      <td>0.2218</td>\n",
              "      <td>0.0782</td>\n",
              "    </tr>\n",
              "    <tr>\n",
              "      <th>285</th>\n",
              "      <td>1</td>\n",
              "      <td>20.6</td>\n",
              "      <td>29.33</td>\n",
              "      <td>140.1</td>\n",
              "      <td>1265</td>\n",
              "      <td>0.1178</td>\n",
              "      <td>0.277</td>\n",
              "      <td>0.3514</td>\n",
              "      <td>0.152</td>\n",
              "      <td>0.2397</td>\n",
              "      <td>0.07016</td>\n",
              "      <td>0.726</td>\n",
              "      <td>1.595</td>\n",
              "      <td>5.772</td>\n",
              "      <td>86.22</td>\n",
              "      <td>0.006522</td>\n",
              "      <td>0.06158</td>\n",
              "      <td>0.07117</td>\n",
              "      <td>0.01664</td>\n",
              "      <td>0.02324</td>\n",
              "      <td>0.006185</td>\n",
              "      <td>25.74</td>\n",
              "      <td>39.42</td>\n",
              "      <td>184.6</td>\n",
              "      <td>1821</td>\n",
              "      <td>0.165</td>\n",
              "      <td>0.8681</td>\n",
              "      <td>0.9387</td>\n",
              "      <td>0.265</td>\n",
              "      <td>0.4087</td>\n",
              "      <td>0.124</td>\n",
              "    </tr>\n",
              "    <tr>\n",
              "      <th>286</th>\n",
              "      <td>0</td>\n",
              "      <td>7.76</td>\n",
              "      <td>24.54</td>\n",
              "      <td>47.92</td>\n",
              "      <td>181</td>\n",
              "      <td>0.05263</td>\n",
              "      <td>0.04362</td>\n",
              "      <td>0</td>\n",
              "      <td>0</td>\n",
              "      <td>0.1587</td>\n",
              "      <td>0.05884</td>\n",
              "      <td>0.3857</td>\n",
              "      <td>1.428</td>\n",
              "      <td>2.548</td>\n",
              "      <td>19.15</td>\n",
              "      <td>0.007189</td>\n",
              "      <td>0.00466</td>\n",
              "      <td>0</td>\n",
              "      <td>0</td>\n",
              "      <td>0.02676</td>\n",
              "      <td>0.002783</td>\n",
              "      <td>9.456</td>\n",
              "      <td>30.37</td>\n",
              "      <td>59.16</td>\n",
              "      <td>268.6</td>\n",
              "      <td>0.08996</td>\n",
              "      <td>0.06444</td>\n",
              "      <td>0</td>\n",
              "      <td>0</td>\n",
              "      <td>0.2871</td>\n",
              "      <td>0.07039</td>\n",
              "    </tr>\n",
              "  </tbody>\n",
              "</table>\n",
              "<p>287 rows × 31 columns</p>\n",
              "</div>"
            ],
            "text/plain": [
              "    diagnosis radius_mean  ... symmetry_worst fractal_dimension_worst\n",
              "0           1       17.99  ...         0.4601                  0.1189\n",
              "1           1       11.42  ...         0.6638                   0.173\n",
              "2           1       12.45  ...         0.3985                  0.1244\n",
              "3           1       13.71  ...         0.3196                  0.1151\n",
              "4           1          13  ...         0.4378                  0.1072\n",
              "..        ...         ...  ...            ...                     ...\n",
              "282         1       21.56  ...          0.206                 0.07115\n",
              "283         1       20.13  ...         0.2572                 0.06637\n",
              "284         1        16.6  ...         0.2218                  0.0782\n",
              "285         1        20.6  ...         0.4087                   0.124\n",
              "286         0        7.76  ...         0.2871                 0.07039\n",
              "\n",
              "[287 rows x 31 columns]"
            ]
          },
          "metadata": {
            "tags": []
          },
          "execution_count": 82
        }
      ]
    },
    {
      "cell_type": "code",
      "metadata": {
        "id": "SKJOw6hzzGRt",
        "outputId": "a4cb199f-803d-4d09-f452-5216cf599453",
        "colab": {
          "base_uri": "https://localhost:8080/"
        }
      },
      "source": [
        "df1.count()"
      ],
      "execution_count": 83,
      "outputs": [
        {
          "output_type": "execute_result",
          "data": {
            "text/plain": [
              "287"
            ]
          },
          "metadata": {
            "tags": []
          },
          "execution_count": 83
        }
      ]
    },
    {
      "cell_type": "code",
      "metadata": {
        "id": "-n-aNDk70wHy",
        "outputId": "0b9f37aa-1545-4906-808e-1b3e7a12aaff",
        "colab": {
          "base_uri": "https://localhost:8080/"
        }
      },
      "source": [
        "df1.crosstab(\"radius_mean\", \"texture_mean\").show()"
      ],
      "execution_count": 86,
      "outputs": [
        {
          "output_type": "stream",
          "text": [
            "+------------------------+-----+-----+-----+-----+-----+-----+-----+-----+-----+-----+-----+-----+-----+-----+-----+-----+-----+-----+-----+-----+-----+-----+-----+-----+-----+-----+-----+-----+-----+----+-----+-----+-----+-----+----+-----+-----+-----+-----+-----+-----+-----+-----+-----+-----+-----+-----+-----+-----+-----+----+-----+-----+----+----+-----+-----+-----+-----+-----+-----+-----+-----+-----+-----+-----+-----+-----+-----+-----+-----+----+-----+-----+-----+-----+-----+-----+---+-----+-----+-----+-----+-----+-----+-----+-----+-----+----+-----+-----+-----+-----+-----+-----+-----+-----+-----+-----+-----+-----+-----+-----+-----+-----+-----+-----+-----+-----+-----+-----+-----+----+-----+-----+-----+-----+-----+-----+-----+----+-----+-----+-----+-----+----+-----+-----+-----+-----+----+-----+-----+-----+-----+-----+-----+-----+-----+-----+-----+----+-----+-----+-----+-----+-----+----+-----+-----+-----+-----+-----+-----+-----+-----+-----+-----+-----+----+-----+-----+-----+-----+-----+-----+-----+-----+-----+-----+----+-----+-----+-----+-----+-----+-----+-----+-----+---+-----+-----+-----+-----+-----+-----+-----+-----+-----+-----+-----+-----+-----+----+-----+-----+-----+-----+-----+-----+-----+-----+-----+-----+-----+-----+-----+-----+----+-----+-----+-----+-----+-----+-----+-----+-----+-----+-----+-----+-----+-----+-----+-----+-----+-----+-----+-----+-----+-----+-----+-----+-----+-----+-----+-----+-----+-----+----+-----+-----+-----+-----+-----+-----+-----+-----+-----+----+-----+-----+-----+-----+-----+-----+-----+-----+-----+----+\n",
            "|radius_mean_texture_mean|10.38|11.79|11.97|12.17|12.39|12.74|12.83|12.84|12.87|12.91|12.96|13.14|13.16|13.21|13.23|13.27|13.29|13.37|13.39|13.43|13.72|13.78|13.86|14.02|14.07|14.08|14.23|14.26|14.36|14.4|14.45|14.64|14.65|14.69|14.7|14.71|14.76|14.92|14.93|14.95|14.96|14.98|15.05|15.11|15.15|15.18|15.21|15.34|15.45|15.46|15.5|15.51|15.56|15.6|15.7|15.76|15.79|15.82|15.86|15.92|15.94|16.07|16.15|16.16|16.18|16.21|16.35|16.49|16.52|16.62|16.67|16.7|16.74|16.82|16.83|16.84|16.85|16.99| 17|17.02|17.05|17.07|17.12|17.15|17.18|17.21|17.25|17.27|17.3|17.33|17.36|17.46|17.48|17.52|17.53|17.57|17.62|17.68|17.72|17.91|17.92|17.93|18.02|18.06|18.07|18.14|18.16|18.17|18.18|18.22|18.24|18.29|18.3|18.32|18.35|18.42|18.45|18.49|18.54|18.59|18.6|18.61|18.68|18.75|18.77|18.8|18.82|18.83|18.84|18.89|18.9|18.94|19.02|19.04|19.08|19.12|19.13|19.22|19.24|19.29|19.33|19.4|19.46|19.48|19.51|19.54|19.59|19.6|19.65|19.66|19.67|19.73|19.76|19.77|19.83|19.86|19.96|20.11|20.13|20.2|20.21|20.22|20.25|20.28|20.31|20.38|20.52|20.54|20.56|20.68|20.7|20.71|20.74|20.76|20.78|20.82|20.83|20.86|20.97| 21|21.24|21.26|21.28|21.31|21.35|21.37|21.41|21.43|21.51|21.54|21.56|21.57|21.58|21.6|21.68|21.72|21.82|21.84|21.88|21.94|21.97|22.02|22.07|22.11|22.13|22.15|22.28|22.29|22.3|22.39|22.41|22.44|22.53|22.55|22.68|22.91|23.06|23.09|23.12|23.21|23.29|23.33|23.56|23.77|23.95|24.04|24.27|24.52|24.54|24.91|24.98|25.11|25.22|25.25|25.56|25.74|26.27|26.57|26.6|26.83|26.99|27.06|27.54|27.61|27.85|28.03|28.08|28.14|28.2|28.23|28.25|28.77|29.33|29.37|29.43|29.81|30.72|33.56|9.71|\n",
            "+------------------------+-----+-----+-----+-----+-----+-----+-----+-----+-----+-----+-----+-----+-----+-----+-----+-----+-----+-----+-----+-----+-----+-----+-----+-----+-----+-----+-----+-----+-----+----+-----+-----+-----+-----+----+-----+-----+-----+-----+-----+-----+-----+-----+-----+-----+-----+-----+-----+-----+-----+----+-----+-----+----+----+-----+-----+-----+-----+-----+-----+-----+-----+-----+-----+-----+-----+-----+-----+-----+-----+----+-----+-----+-----+-----+-----+-----+---+-----+-----+-----+-----+-----+-----+-----+-----+-----+----+-----+-----+-----+-----+-----+-----+-----+-----+-----+-----+-----+-----+-----+-----+-----+-----+-----+-----+-----+-----+-----+-----+-----+----+-----+-----+-----+-----+-----+-----+-----+----+-----+-----+-----+-----+----+-----+-----+-----+-----+----+-----+-----+-----+-----+-----+-----+-----+-----+-----+-----+----+-----+-----+-----+-----+-----+----+-----+-----+-----+-----+-----+-----+-----+-----+-----+-----+-----+----+-----+-----+-----+-----+-----+-----+-----+-----+-----+-----+----+-----+-----+-----+-----+-----+-----+-----+-----+---+-----+-----+-----+-----+-----+-----+-----+-----+-----+-----+-----+-----+-----+----+-----+-----+-----+-----+-----+-----+-----+-----+-----+-----+-----+-----+-----+-----+----+-----+-----+-----+-----+-----+-----+-----+-----+-----+-----+-----+-----+-----+-----+-----+-----+-----+-----+-----+-----+-----+-----+-----+-----+-----+-----+-----+-----+-----+----+-----+-----+-----+-----+-----+-----+-----+-----+-----+----+-----+-----+-----+-----+-----+-----+-----+-----+-----+----+\n",
            "|                    7.76|    0|    0|    0|    0|    0|    0|    0|    0|    0|    0|    0|    0|    0|    0|    0|    0|    0|    0|    0|    0|    0|    0|    0|    0|    0|    0|    0|    0|    0|   0|    0|    0|    0|    0|   0|    0|    0|    0|    0|    0|    0|    0|    0|    0|    0|    0|    0|    0|    0|    0|   0|    0|    0|   0|   0|    0|    0|    0|    0|    0|    0|    0|    0|    0|    0|    0|    0|    0|    0|    0|    0|   0|    0|    0|    0|    0|    0|    0|  0|    0|    0|    0|    0|    0|    0|    0|    0|    0|   0|    0|    0|    0|    0|    0|    0|    0|    0|    0|    0|    0|    0|    0|    0|    0|    0|    0|    0|    0|    0|    0|    0|    0|   0|    0|    0|    0|    0|    0|    0|    0|   0|    0|    0|    0|    0|   0|    0|    0|    0|    0|   0|    0|    0|    0|    0|    0|    0|    0|    0|    0|    0|   0|    0|    0|    0|    0|    0|   0|    0|    0|    0|    0|    0|    0|    0|    0|    0|    0|    0|   0|    0|    0|    0|    0|    0|    0|    0|    0|    0|    0|   0|    0|    0|    0|    0|    0|    0|    0|    0|  0|    0|    0|    0|    0|    0|    0|    0|    0|    0|    0|    0|    0|    0|   0|    0|    0|    0|    0|    0|    0|    0|    0|    0|    0|    0|    0|    0|    0|   0|    0|    0|    0|    0|    0|    0|    0|    0|    0|    0|    0|    0|    0|    0|    0|    0|    0|    0|    0|    1|    0|    0|    0|    0|    0|    0|    0|    0|    0|   0|    0|    0|    0|    0|    0|    0|    0|    0|    0|   0|    0|    0|    0|    0|    0|    0|    0|    0|    0|   0|\n",
            "|                   13.46|    0|    0|    0|    0|    0|    0|    0|    0|    0|    0|    0|    0|    0|    0|    0|    0|    0|    0|    0|    0|    0|    0|    0|    0|    0|    0|    0|    0|    0|   0|    0|    0|    0|    0|   0|    0|    0|    0|    0|    0|    0|    0|    0|    0|    0|    0|    0|    0|    0|    0|   0|    0|    0|   0|   0|    0|    0|    0|    0|    0|    0|    0|    0|    0|    0|    0|    0|    0|    0|    0|    0|   0|    0|    0|    0|    0|    0|    0|  0|    0|    0|    0|    0|    0|    0|    0|    0|    0|   0|    0|    0|    0|    0|    0|    0|    0|    0|    0|    0|    0|    0|    0|    0|    0|    0|    0|    0|    0|    0|    0|    0|    0|   0|    0|    0|    0|    0|    0|    0|    0|   0|    0|    0|    1|    0|   0|    0|    0|    0|    0|   0|    0|    0|    0|    0|    0|    0|    0|    0|    0|    0|   0|    0|    0|    0|    0|    0|   0|    0|    0|    0|    0|    0|    0|    0|    0|    0|    0|    0|   0|    0|    0|    0|    0|    0|    0|    0|    0|    0|    0|   0|    0|    0|    0|    0|    0|    0|    0|    0|  0|    0|    0|    0|    0|    0|    0|    0|    0|    0|    0|    0|    0|    0|   0|    0|    0|    0|    0|    0|    0|    0|    0|    0|    0|    0|    0|    0|    0|   0|    0|    0|    0|    0|    0|    0|    0|    0|    0|    0|    0|    0|    0|    0|    0|    0|    0|    0|    0|    0|    0|    0|    0|    0|    0|    0|    0|    0|    0|   0|    0|    0|    0|    0|    0|    0|    0|    0|    0|   0|    0|    0|    0|    0|    0|    0|    0|    0|    0|   0|\n",
            "|                    16.6|    0|    0|    0|    0|    0|    0|    0|    0|    0|    0|    0|    0|    0|    0|    0|    0|    0|    0|    0|    0|    0|    0|    0|    0|    0|    0|    0|    0|    0|   0|    0|    0|    0|    0|   0|    0|    0|    0|    0|    0|    0|    0|    0|    0|    0|    0|    0|    0|    0|    0|   0|    0|    0|   0|   0|    0|    0|    0|    0|    0|    0|    0|    0|    0|    0|    0|    0|    0|    0|    0|    0|   0|    0|    0|    0|    0|    0|    0|  0|    0|    0|    0|    0|    0|    0|    0|    0|    0|   0|    0|    0|    0|    0|    0|    0|    0|    0|    0|    0|    0|    0|    0|    0|    0|    0|    0|    0|    0|    0|    0|    0|    0|   0|    0|    0|    0|    0|    0|    0|    0|   0|    0|    0|    0|    0|   0|    0|    0|    0|    0|   0|    0|    0|    0|    0|    0|    0|    0|    0|    0|    0|   0|    0|    0|    0|    0|    0|   0|    0|    0|    0|    0|    0|    0|    0|    0|    0|    0|    0|   0|    0|    0|    0|    0|    0|    0|    0|    0|    0|    0|   0|    0|    0|    0|    0|    0|    0|    0|    0|  0|    0|    0|    0|    0|    0|    0|    0|    0|    0|    0|    0|    0|    0|   0|    0|    0|    0|    0|    0|    0|    0|    0|    0|    0|    0|    0|    0|    0|   0|    0|    0|    0|    0|    0|    0|    0|    0|    0|    0|    0|    0|    0|    0|    0|    0|    0|    0|    0|    0|    0|    0|    0|    0|    0|    0|    0|    0|    0|   0|    0|    0|    0|    0|    0|    0|    0|    1|    0|   0|    0|    0|    0|    0|    0|    0|    0|    0|    0|   0|\n",
            "|                   14.22|    0|    0|    0|    0|    0|    0|    0|    0|    0|    0|    0|    0|    0|    0|    0|    0|    0|    0|    0|    0|    0|    0|    0|    0|    0|    0|    0|    0|    0|   0|    0|    0|    0|    0|   0|    0|    0|    0|    0|    0|    0|    0|    0|    0|    0|    0|    0|    0|    0|    0|   0|    0|    0|   0|   0|    0|    0|    0|    0|    0|    0|    0|    0|    0|    0|    0|    0|    0|    0|    0|    0|   0|    0|    0|    0|    0|    0|    0|  0|    0|    0|    0|    0|    0|    0|    0|    0|    0|   0|    0|    0|    0|    0|    0|    0|    0|    0|    0|    0|    0|    0|    0|    0|    0|    0|    0|    0|    0|    0|    0|    0|    0|   0|    0|    0|    0|    0|    0|    0|    0|   0|    0|    0|    0|    0|   0|    0|    0|    0|    0|   0|    0|    0|    0|    0|    0|    0|    0|    0|    0|    0|   0|    0|    0|    0|    0|    0|   0|    0|    0|    0|    0|    0|    0|    0|    0|    0|    0|    0|   0|    0|    0|    0|    0|    0|    0|    0|    0|    0|    0|   0|    0|    0|    0|    0|    0|    0|    0|    0|  0|    0|    0|    0|    0|    0|    0|    0|    0|    0|    0|    0|    0|    0|   0|    0|    0|    0|    0|    0|    0|    0|    0|    0|    0|    0|    0|    0|    0|   0|    0|    0|    0|    0|    0|    0|    0|    0|    0|    1|    0|    0|    0|    0|    0|    0|    0|    0|    0|    0|    0|    0|    0|    0|    0|    0|    0|    0|    0|   0|    0|    0|    0|    0|    0|    1|    0|    0|    0|   0|    0|    0|    0|    0|    0|    0|    0|    0|    0|   0|\n",
            "|                   11.57|    0|    0|    0|    0|    0|    0|    0|    0|    0|    0|    0|    0|    0|    0|    0|    0|    0|    0|    0|    0|    0|    0|    0|    0|    0|    0|    0|    0|    0|   0|    0|    0|    0|    0|   0|    0|    0|    0|    0|    0|    0|    0|    0|    0|    0|    0|    0|    0|    0|    0|   0|    0|    0|   0|   0|    0|    0|    0|    0|    0|    0|    0|    0|    0|    0|    0|    0|    0|    0|    0|    0|   0|    0|    0|    0|    0|    0|    0|  0|    0|    0|    0|    0|    0|    0|    0|    0|    0|   0|    0|    0|    0|    0|    0|    0|    0|    0|    0|    0|    0|    0|    0|    0|    0|    0|    0|    0|    0|    0|    0|    0|    0|   0|    0|    0|    0|    0|    0|    0|    0|   0|    0|    0|    0|    0|   0|    0|    0|    0|    0|   0|    0|    0|    1|    0|    0|    0|    0|    0|    0|    0|   0|    0|    0|    0|    0|    0|   0|    0|    0|    0|    0|    0|    0|    0|    0|    0|    0|    0|   0|    0|    0|    0|    0|    0|    0|    0|    0|    0|    0|   0|    0|    0|    0|    0|    0|    0|    0|    0|  0|    0|    0|    0|    0|    0|    0|    0|    0|    0|    0|    0|    0|    0|   0|    0|    0|    0|    0|    0|    0|    0|    0|    0|    0|    0|    0|    0|    0|   0|    0|    0|    0|    0|    0|    0|    0|    0|    0|    0|    0|    0|    0|    0|    0|    0|    0|    0|    0|    0|    0|    0|    0|    0|    0|    0|    0|    0|    0|   0|    0|    0|    0|    0|    0|    0|    0|    0|    0|   0|    0|    0|    0|    0|    0|    0|    0|    0|    0|   0|\n",
            "|                   11.46|    0|    0|    0|    0|    0|    0|    0|    0|    0|    0|    0|    0|    0|    0|    0|    0|    0|    0|    0|    0|    0|    0|    0|    0|    0|    0|    0|    0|    0|   0|    0|    0|    0|    0|   0|    0|    0|    0|    0|    0|    0|    0|    0|    0|    0|    0|    0|    0|    0|    0|   0|    0|    0|   0|   0|    0|    0|    0|    0|    0|    0|    0|    0|    0|    0|    0|    0|    0|    0|    0|    0|   0|    0|    0|    0|    0|    0|    0|  0|    0|    0|    0|    0|    0|    0|    0|    0|    0|   0|    0|    0|    0|    0|    0|    0|    0|    0|    0|    0|    0|    0|    0|    0|    0|    0|    0|    1|    0|    0|    0|    0|    0|   0|    0|    0|    0|    0|    0|    0|    0|   0|    0|    0|    0|    0|   0|    0|    0|    0|    0|   0|    0|    0|    0|    0|    0|    0|    0|    0|    0|    0|   0|    0|    0|    0|    0|    0|   0|    0|    0|    0|    0|    0|    0|    0|    0|    0|    0|    0|   0|    0|    0|    0|    0|    0|    0|    0|    0|    0|    0|   0|    0|    0|    0|    0|    0|    0|    0|    0|  0|    0|    0|    0|    0|    0|    0|    0|    0|    0|    0|    0|    0|    0|   0|    0|    0|    0|    0|    0|    0|    0|    0|    0|    0|    0|    0|    0|    0|   0|    0|    0|    0|    0|    0|    0|    0|    0|    0|    0|    0|    0|    0|    0|    0|    0|    0|    0|    0|    0|    0|    0|    0|    0|    0|    0|    0|    0|    0|   0|    0|    0|    0|    0|    0|    0|    0|    0|    0|   0|    0|    0|    0|    0|    0|    0|    0|    0|    0|   0|\n",
            "|                   12.43|    0|    0|    0|    0|    0|    0|    0|    0|    0|    0|    0|    0|    0|    0|    0|    0|    0|    0|    0|    0|    0|    0|    0|    0|    0|    0|    0|    0|    0|   0|    0|    0|    0|    0|   0|    0|    0|    0|    0|    0|    0|    0|    0|    0|    0|    0|    0|    0|    0|    0|   0|    0|    0|   0|   0|    0|    0|    0|    0|    0|    0|    0|    0|    0|    0|    0|    0|    0|    0|    0|    0|   0|    0|    0|    0|    0|    0|    0|  1|    0|    0|    0|    0|    0|    0|    0|    0|    0|   0|    0|    0|    0|    0|    0|    0|    0|    0|    0|    0|    0|    0|    0|    0|    0|    0|    0|    0|    0|    0|    0|    0|    0|   0|    0|    0|    0|    0|    0|    0|    0|   0|    0|    0|    0|    0|   0|    0|    0|    0|    0|   0|    0|    0|    0|    0|    0|    0|    0|    0|    0|    0|   0|    0|    0|    0|    0|    0|   0|    0|    0|    0|    0|    0|    0|    0|    0|    0|    0|    0|   0|    0|    0|    0|    0|    0|    0|    0|    0|    0|    0|   0|    0|    0|    0|    0|    0|    0|    0|    0|  0|    0|    0|    0|    0|    0|    0|    0|    0|    0|    0|    0|    0|    0|   0|    0|    0|    0|    0|    0|    0|    0|    0|    0|    0|    0|    0|    0|    0|   0|    0|    0|    0|    0|    0|    0|    0|    0|    0|    0|    0|    0|    0|    0|    0|    0|    0|    0|    0|    0|    0|    0|    0|    0|    0|    0|    0|    0|    0|   0|    0|    0|    0|    0|    0|    0|    0|    0|    0|   0|    0|    0|    0|    0|    0|    0|    0|    0|    0|   0|\n",
            "|                    12.3|    0|    0|    0|    0|    0|    0|    0|    0|    0|    0|    0|    0|    0|    0|    0|    0|    0|    0|    0|    0|    0|    0|    0|    0|    0|    0|    0|    0|    0|   0|    0|    0|    0|    0|   0|    0|    0|    0|    0|    0|    0|    0|    0|    0|    0|    0|    0|    0|    0|    0|   0|    0|    0|   0|   0|    0|    0|    0|    0|    0|    0|    0|    0|    0|    0|    0|    0|    0|    0|    0|    0|   0|    0|    0|    0|    0|    0|    0|  0|    0|    0|    0|    0|    0|    0|    0|    0|    0|   0|    0|    0|    0|    0|    0|    0|    0|    0|    0|    0|    0|    0|    0|    0|    0|    0|    0|    0|    0|    0|    0|    0|    0|   0|    0|    0|    0|    0|    0|    0|    0|   0|    0|    0|    0|    0|   0|    0|    0|    0|    0|   0|    0|    1|    0|    0|    0|    0|    0|    0|    0|    0|   0|    0|    0|    0|    0|    0|   0|    0|    0|    0|    0|    0|    0|    0|    0|    0|    0|    0|   0|    0|    0|    0|    0|    0|    0|    0|    0|    0|    0|   0|    0|    0|    0|    0|    0|    0|    0|    0|  0|    0|    0|    0|    0|    0|    0|    0|    0|    0|    0|    0|    0|    0|   0|    0|    0|    0|    0|    0|    0|    0|    0|    0|    0|    0|    0|    0|    0|   0|    0|    0|    0|    0|    0|    0|    0|    0|    0|    0|    0|    0|    0|    0|    0|    0|    0|    0|    0|    0|    0|    0|    0|    0|    0|    0|    0|    0|    0|   0|    0|    0|    0|    0|    0|    0|    0|    0|    0|   0|    0|    0|    0|    0|    0|    0|    0|    0|    0|   0|\n",
            "|                   15.34|    0|    0|    0|    0|    0|    0|    0|    0|    0|    0|    0|    0|    0|    0|    0|    0|    0|    0|    0|    0|    0|    0|    0|    0|    0|    0|    0|    1|    0|   0|    0|    0|    0|    0|   0|    0|    0|    0|    0|    0|    0|    0|    0|    0|    0|    0|    0|    0|    0|    0|   0|    0|    0|   0|   0|    0|    0|    0|    0|    0|    0|    0|    0|    0|    0|    0|    0|    0|    0|    0|    0|   0|    0|    0|    0|    0|    0|    0|  0|    0|    0|    0|    0|    0|    0|    0|    0|    0|   0|    0|    0|    0|    0|    0|    0|    0|    0|    0|    0|    0|    0|    0|    0|    0|    0|    0|    0|    0|    0|    0|    0|    0|   0|    0|    0|    0|    0|    0|    0|    0|   0|    0|    0|    0|    0|   0|    0|    0|    0|    0|   0|    0|    0|    0|    0|    0|    0|    0|    0|    0|    0|   0|    0|    0|    0|    0|    0|   0|    0|    0|    0|    0|    0|    0|    0|    0|    0|    0|    0|   0|    0|    0|    0|    0|    0|    0|    0|    0|    0|    0|   0|    0|    0|    0|    0|    0|    0|    0|    0|  0|    0|    0|    0|    0|    0|    0|    0|    0|    0|    0|    0|    0|    0|   0|    0|    0|    0|    0|    0|    0|    0|    0|    0|    0|    0|    0|    0|    0|   0|    0|    0|    0|    0|    0|    0|    0|    0|    0|    0|    0|    0|    0|    0|    0|    0|    0|    0|    0|    0|    0|    0|    0|    0|    0|    0|    0|    0|    0|   0|    0|    0|    0|    0|    0|    0|    0|    0|    0|   0|    0|    0|    0|    0|    0|    0|    0|    0|    0|   0|\n",
            "|                   12.21|    0|    0|    0|    0|    0|    0|    0|    0|    0|    0|    0|    0|    0|    0|    0|    0|    0|    0|    0|    0|    0|    0|    0|    0|    0|    0|    0|    0|    0|   0|    0|    0|    0|    0|   0|    0|    0|    0|    0|    0|    0|    0|    0|    0|    0|    0|    0|    0|    0|    0|   0|    0|    0|   0|   0|    0|    0|    0|    0|    0|    0|    0|    0|    0|    0|    0|    0|    0|    0|    0|    0|   0|    0|    0|    0|    0|    0|    0|  0|    0|    0|    0|    0|    0|    0|    0|    0|    0|   0|    0|    0|    0|    0|    0|    0|    0|    0|    0|    0|    0|    0|    0|    1|    0|    0|    0|    0|    0|    0|    0|    0|    0|   0|    0|    0|    0|    0|    0|    0|    0|   0|    0|    0|    0|    0|   0|    0|    0|    0|    0|   0|    0|    0|    0|    0|    0|    0|    0|    0|    0|    0|   0|    0|    0|    0|    0|    0|   0|    0|    0|    0|    0|    0|    0|    0|    0|    0|    0|    0|   0|    0|    0|    0|    0|    0|    0|    0|    0|    0|    0|   0|    0|    0|    0|    0|    0|    0|    0|    0|  0|    0|    0|    0|    0|    0|    0|    0|    0|    0|    0|    0|    0|    0|   0|    0|    0|    0|    0|    0|    0|    0|    0|    0|    0|    0|    0|    0|    0|   0|    0|    0|    0|    0|    0|    0|    0|    0|    0|    0|    0|    0|    0|    0|    0|    0|    0|    0|    0|    0|    0|    0|    0|    0|    0|    0|    0|    0|    0|   0|    0|    0|    0|    0|    0|    0|    0|    0|    0|   0|    0|    0|    0|    0|    0|    0|    0|    0|    0|   0|\n",
            "|                    10.8|    0|    0|    0|    0|    0|    0|    0|    0|    0|    0|    0|    0|    0|    0|    0|    0|    0|    0|    0|    0|    0|    0|    0|    0|    0|    0|    0|    0|    0|   0|    0|    0|    0|    0|   0|    0|    0|    0|    0|    0|    0|    0|    0|    0|    0|    0|    0|    0|    0|    0|   0|    0|    0|   0|   0|    0|    0|    0|    0|    0|    0|    0|    0|    0|    0|    0|    0|    0|    0|    0|    0|   0|    0|    0|    0|    0|    0|    0|  0|    0|    0|    0|    0|    0|    0|    0|    0|    0|   0|    0|    0|    0|    0|    0|    0|    0|    0|    0|    0|    0|    0|    0|    0|    0|    0|    0|    0|    0|    0|    0|    0|    0|   0|    0|    0|    0|    0|    0|    0|    0|   0|    0|    0|    0|    0|   0|    0|    0|    0|    0|   0|    0|    0|    0|    0|    0|    0|    0|    0|    0|    0|   0|    0|    0|    0|    0|    0|   0|    0|    0|    0|    0|    0|    0|    0|    0|    0|    0|    0|   0|    0|    0|    0|    0|    0|    0|    0|    0|    0|    0|   0|    0|    0|    0|    0|    0|    0|    0|    0|  0|    0|    0|    0|    0|    0|    0|    0|    0|    0|    0|    0|    0|    0|   0|    0|    0|    0|    0|    0|    0|    0|    0|    0|    0|    0|    0|    0|    0|   0|    0|    0|    0|    0|    0|    0|    0|    0|    0|    0|    0|    0|    0|    0|    0|    0|    0|    0|    0|    0|    0|    0|    0|    0|    0|    0|    0|    0|    0|   0|    0|    0|    0|    0|    0|    0|    0|    0|    0|   0|    0|    0|    0|    0|    0|    0|    0|    0|    0|   1|\n",
            "|                   6.981|    0|    0|    0|    0|    0|    0|    0|    0|    0|    0|    0|    0|    0|    0|    0|    0|    0|    0|    0|    1|    0|    0|    0|    0|    0|    0|    0|    0|    0|   0|    0|    0|    0|    0|   0|    0|    0|    0|    0|    0|    0|    0|    0|    0|    0|    0|    0|    0|    0|    0|   0|    0|    0|   0|   0|    0|    0|    0|    0|    0|    0|    0|    0|    0|    0|    0|    0|    0|    0|    0|    0|   0|    0|    0|    0|    0|    0|    0|  0|    0|    0|    0|    0|    0|    0|    0|    0|    0|   0|    0|    0|    0|    0|    0|    0|    0|    0|    0|    0|    0|    0|    0|    0|    0|    0|    0|    0|    0|    0|    0|    0|    0|   0|    0|    0|    0|    0|    0|    0|    0|   0|    0|    0|    0|    0|   0|    0|    0|    0|    0|   0|    0|    0|    0|    0|    0|    0|    0|    0|    0|    0|   0|    0|    0|    0|    0|    0|   0|    0|    0|    0|    0|    0|    0|    0|    0|    0|    0|    0|   0|    0|    0|    0|    0|    0|    0|    0|    0|    0|    0|   0|    0|    0|    0|    0|    0|    0|    0|    0|  0|    0|    0|    0|    0|    0|    0|    0|    0|    0|    0|    0|    0|    0|   0|    0|    0|    0|    0|    0|    0|    0|    0|    0|    0|    0|    0|    0|    0|   0|    0|    0|    0|    0|    0|    0|    0|    0|    0|    0|    0|    0|    0|    0|    0|    0|    0|    0|    0|    0|    0|    0|    0|    0|    0|    0|    0|    0|    0|   0|    0|    0|    0|    0|    0|    0|    0|    0|    0|   0|    0|    0|    0|    0|    0|    0|    0|    0|    0|   0|\n",
            "|                   12.96|    0|    0|    0|    0|    0|    0|    0|    0|    0|    0|    0|    0|    0|    0|    0|    0|    0|    0|    0|    0|    0|    0|    0|    0|    0|    0|    0|    0|    0|   0|    0|    0|    0|    0|   0|    0|    0|    0|    0|    0|    0|    0|    0|    0|    0|    0|    0|    0|    0|    0|   0|    0|    0|   0|   0|    0|    0|    0|    0|    0|    0|    0|    0|    0|    0|    0|    0|    0|    0|    0|    0|   0|    0|    0|    0|    0|    0|    0|  0|    0|    0|    0|    0|    0|    0|    0|    0|    0|   0|    0|    0|    0|    0|    0|    0|    0|    0|    0|    0|    0|    0|    0|    0|    0|    0|    0|    0|    0|    0|    0|    0|    1|   0|    0|    0|    0|    0|    0|    0|    0|   0|    0|    0|    0|    0|   0|    0|    0|    0|    0|   0|    0|    0|    0|    0|    0|    0|    0|    0|    0|    0|   0|    0|    0|    0|    0|    0|   0|    0|    0|    0|    0|    0|    0|    0|    0|    0|    0|    0|   0|    0|    0|    0|    0|    0|    0|    0|    0|    0|    0|   0|    0|    0|    0|    0|    0|    0|    0|    0|  0|    0|    0|    0|    0|    0|    0|    0|    0|    0|    0|    0|    0|    0|   0|    0|    0|    0|    0|    0|    0|    0|    0|    0|    0|    0|    0|    0|    0|   0|    0|    0|    0|    0|    0|    0|    0|    0|    0|    0|    0|    0|    0|    0|    0|    0|    0|    0|    0|    0|    0|    0|    0|    0|    0|    0|    0|    0|    0|   0|    0|    0|    0|    0|    0|    0|    0|    0|    0|   0|    0|    0|    0|    0|    0|    0|    0|    0|    0|   0|\n",
            "|                   10.29|    0|    0|    0|    0|    0|    0|    0|    0|    0|    0|    0|    0|    0|    0|    0|    0|    0|    0|    0|    0|    0|    0|    0|    0|    0|    0|    0|    0|    0|   0|    0|    0|    0|    0|   0|    0|    0|    0|    0|    0|    0|    0|    0|    0|    0|    0|    0|    0|    0|    0|   0|    0|    0|   0|   0|    0|    0|    0|    0|    0|    0|    0|    0|    0|    0|    0|    0|    0|    0|    0|    0|   0|    0|    0|    0|    0|    0|    0|  0|    0|    0|    0|    0|    0|    0|    0|    0|    0|   0|    0|    0|    0|    0|    0|    0|    0|    0|    0|    0|    0|    0|    0|    0|    0|    0|    0|    0|    0|    0|    0|    0|    0|   0|    0|    0|    0|    0|    0|    0|    0|   0|    0|    0|    0|    0|   0|    0|    0|    0|    0|   0|    0|    0|    0|    0|    0|    0|    0|    0|    0|    0|   0|    0|    0|    0|    0|    0|   0|    0|    0|    0|    0|    0|    0|    0|    0|    0|    0|    0|   0|    0|    0|    0|    0|    0|    0|    0|    0|    0|    0|   0|    0|    0|    0|    0|    0|    0|    0|    0|  0|    0|    0|    0|    0|    0|    0|    0|    0|    0|    0|    0|    0|    0|   0|    0|    0|    0|    0|    0|    0|    0|    0|    0|    0|    0|    0|    0|    0|   0|    0|    0|    0|    0|    0|    0|    0|    0|    0|    0|    0|    0|    0|    0|    0|    0|    0|    0|    0|    0|    0|    0|    0|    0|    0|    0|    0|    0|    0|   0|    0|    0|    0|    0|    1|    0|    0|    0|    0|   0|    0|    0|    0|    0|    0|    0|    0|    0|    0|   0|\n",
            "|                   12.32|    0|    0|    0|    0|    1|    0|    0|    0|    0|    0|    0|    0|    0|    0|    0|    0|    0|    0|    0|    0|    0|    0|    0|    0|    0|    0|    0|    0|    0|   0|    0|    0|    0|    0|   0|    0|    0|    0|    0|    0|    0|    0|    0|    0|    0|    0|    0|    0|    0|    0|   0|    0|    0|   0|   0|    0|    0|    0|    0|    0|    0|    0|    0|    0|    0|    0|    0|    0|    0|    0|    0|   0|    0|    0|    0|    0|    0|    0|  0|    0|    0|    0|    0|    0|    0|    0|    0|    0|   0|    0|    0|    0|    0|    0|    0|    0|    0|    0|    0|    0|    0|    0|    0|    0|    0|    0|    0|    0|    0|    0|    0|    0|   0|    0|    0|    0|    0|    0|    0|    0|   0|    0|    0|    0|    0|   0|    0|    0|    0|    0|   0|    0|    0|    0|    0|    0|    0|    0|    0|    0|    0|   0|    0|    0|    0|    0|    0|   0|    0|    0|    0|    0|    0|    0|    0|    0|    0|    0|    0|   0|    0|    0|    0|    0|    0|    0|    0|    0|    0|    0|   0|    0|    0|    0|    0|    0|    0|    0|    0|  0|    0|    0|    0|    0|    0|    0|    0|    0|    0|    0|    0|    0|    0|   0|    0|    0|    0|    0|    0|    0|    0|    0|    0|    0|    0|    0|    0|    0|   0|    0|    0|    0|    0|    0|    0|    0|    0|    0|    0|    0|    0|    0|    0|    0|    0|    0|    0|    0|    0|    0|    0|    0|    0|    0|    0|    0|    0|    0|   0|    0|    0|    0|    0|    0|    0|    0|    0|    0|   0|    0|    0|    0|    0|    0|    0|    0|    0|    0|   0|\n",
            "|                      12|    0|    0|    0|    0|    0|    0|    0|    0|    0|    0|    0|    0|    0|    0|    0|    0|    0|    0|    0|    0|    0|    0|    0|    0|    0|    0|    0|    0|    0|   0|    0|    0|    0|    0|   0|    0|    0|    0|    0|    0|    0|    0|    0|    0|    0|    0|    0|    0|    0|    0|   0|    0|    0|   0|   0|    0|    0|    0|    0|    0|    0|    0|    0|    0|    0|    0|    0|    0|    0|    0|    0|   0|    0|    0|    0|    0|    0|    0|  0|    0|    0|    0|    0|    0|    0|    0|    0|    0|   0|    0|    0|    0|    0|    0|    0|    0|    0|    0|    0|    0|    0|    0|    0|    0|    0|    0|    0|    0|    0|    0|    0|    0|   0|    0|    0|    0|    0|    0|    0|    0|   0|    0|    0|    0|    0|   0|    0|    0|    0|    0|   0|    0|    0|    0|    0|    0|    0|    0|    0|    0|    0|   0|    0|    0|    0|    0|    0|   0|    0|    0|    0|    0|    0|    0|    0|    0|    0|    0|    0|   0|    0|    0|    0|    0|    0|    0|    0|    0|    0|    0|   0|    0|    0|    0|    0|    0|    0|    0|    0|  0|    0|    0|    0|    0|    0|    0|    0|    0|    0|    0|    0|    0|    0|   0|    0|    0|    0|    0|    0|    0|    0|    0|    0|    0|    0|    0|    0|    0|   0|    0|    0|    0|    0|    0|    0|    0|    0|    0|    0|    0|    0|    0|    0|    0|    0|    0|    0|    0|    0|    0|    0|    0|    0|    0|    0|    0|    0|    0|   0|    0|    0|    0|    0|    0|    0|    0|    0|    0|   0|    1|    0|    0|    0|    0|    0|    0|    0|    0|   0|\n",
            "|                   10.95|    0|    0|    0|    0|    0|    0|    0|    0|    0|    0|    0|    0|    0|    0|    0|    0|    0|    0|    0|    0|    0|    0|    0|    0|    0|    0|    0|    0|    0|   0|    0|    0|    0|    0|   0|    0|    0|    0|    0|    0|    0|    0|    0|    0|    0|    0|    0|    0|    0|    0|   0|    0|    0|   0|   0|    0|    0|    0|    0|    0|    0|    0|    0|    0|    0|    0|    0|    0|    0|    0|    0|   0|    0|    0|    0|    0|    0|    0|  0|    0|    0|    0|    0|    0|    0|    0|    0|    0|   0|    0|    0|    0|    0|    0|    0|    0|    0|    0|    0|    0|    0|    0|    0|    0|    0|    0|    0|    0|    0|    0|    0|    0|   0|    0|    0|    0|    0|    0|    0|    0|   0|    0|    0|    0|    0|   0|    0|    0|    0|    0|   0|    0|    0|    0|    0|    0|    0|    0|    0|    0|    0|   0|    0|    0|    0|    0|    0|   0|    0|    0|    0|    0|    0|    0|    0|    0|    0|    0|    0|   0|    0|    0|    0|    0|    0|    0|    0|    0|    0|    0|   0|    0|    0|    0|    0|    0|    0|    0|    0|  0|    0|    0|    0|    0|    1|    0|    0|    0|    0|    0|    0|    0|    0|   0|    0|    0|    0|    0|    0|    0|    0|    0|    0|    0|    0|    0|    0|    0|   0|    0|    0|    0|    0|    0|    0|    0|    0|    0|    0|    0|    0|    0|    0|    0|    0|    0|    0|    0|    0|    0|    0|    0|    0|    0|    0|    0|    0|    0|   0|    0|    0|    0|    0|    0|    0|    0|    0|    0|   0|    0|    0|    0|    0|    0|    0|    0|    0|    0|   0|\n",
            "|                   18.82|    0|    0|    0|    0|    0|    0|    0|    0|    0|    0|    0|    0|    0|    0|    0|    0|    0|    0|    0|    0|    0|    0|    0|    0|    0|    0|    0|    0|    0|   0|    0|    0|    0|    0|   0|    0|    0|    0|    0|    0|    0|    0|    0|    0|    0|    0|    0|    0|    0|    0|   0|    0|    0|   0|   0|    0|    0|    0|    0|    0|    0|    0|    0|    0|    0|    0|    0|    0|    0|    0|    0|   0|    0|    0|    0|    0|    0|    0|  0|    0|    0|    0|    0|    0|    0|    0|    0|    0|   0|    0|    0|    0|    0|    0|    0|    0|    0|    0|    0|    0|    0|    0|    0|    0|    0|    0|    0|    0|    0|    0|    0|    0|   0|    0|    0|    0|    0|    0|    0|    0|   0|    0|    0|    0|    0|   0|    0|    0|    0|    0|   0|    0|    0|    0|    0|    0|    0|    0|    0|    0|    0|   0|    0|    0|    0|    0|    0|   0|    0|    0|    0|    0|    0|    0|    0|    0|    0|    0|    0|   0|    0|    0|    0|    0|    0|    0|    0|    0|    0|    0|   0|    0|    0|    0|    0|    0|    0|    0|    0|  0|    0|    0|    0|    0|    0|    0|    0|    0|    0|    0|    0|    0|    0|   0|    0|    0|    0|    0|    0|    0|    1|    0|    0|    0|    0|    0|    0|    0|   0|    0|    0|    0|    0|    0|    0|    0|    0|    0|    0|    0|    0|    0|    0|    0|    0|    0|    0|    0|    0|    0|    0|    0|    0|    0|    0|    0|    0|    0|   0|    0|    0|    0|    0|    0|    0|    0|    0|    0|   0|    0|    0|    0|    0|    0|    0|    0|    0|    0|   0|\n",
            "|                   12.04|    0|    0|    0|    0|    0|    0|    0|    0|    0|    0|    0|    0|    0|    0|    0|    0|    0|    0|    0|    0|    0|    0|    0|    0|    0|    0|    0|    0|    0|   0|    0|    0|    0|    0|   0|    0|    0|    0|    0|    0|    0|    0|    0|    0|    0|    0|    0|    0|    0|    0|   0|    0|    0|   0|   0|    0|    0|    0|    0|    0|    0|    0|    0|    0|    0|    0|    0|    0|    0|    0|    0|   0|    0|    0|    0|    0|    0|    0|  0|    0|    0|    0|    0|    0|    0|    0|    0|    0|   0|    0|    0|    0|    0|    0|    0|    0|    0|    0|    0|    0|    0|    0|    0|    0|    0|    0|    0|    0|    0|    0|    0|    0|   0|    0|    0|    0|    0|    0|    0|    0|   0|    0|    0|    0|    0|   0|    0|    0|    0|    0|   0|    0|    0|    0|    0|    0|    0|    0|    0|    0|    0|   0|    0|    0|    0|    0|    0|   0|    0|    0|    0|    0|    0|    0|    0|    0|    0|    0|    0|   0|    0|    0|    0|    0|    0|    0|    0|    0|    0|    0|   0|    0|    0|    0|    0|    0|    0|    0|    0|  0|    0|    0|    0|    0|    0|    0|    0|    0|    0|    0|    0|    0|    0|   0|    0|    0|    0|    0|    0|    0|    0|    0|    0|    0|    0|    0|    0|    0|   0|    0|    0|    0|    0|    0|    0|    0|    0|    0|    0|    0|    0|    0|    0|    0|    0|    0|    0|    0|    0|    0|    0|    0|    0|    0|    0|    0|    0|    0|   0|    0|    0|    0|    0|    0|    0|    0|    0|    1|   0|    0|    0|    0|    0|    0|    0|    0|    0|    0|   0|\n",
            "|                   11.14|    0|    0|    0|    0|    0|    0|    0|    0|    0|    0|    0|    0|    0|    0|    0|    0|    0|    0|    0|    0|    0|    0|    0|    0|    1|    0|    0|    0|    0|   0|    0|    0|    0|    0|   0|    0|    0|    0|    0|    0|    0|    0|    0|    0|    0|    0|    0|    0|    0|    0|   0|    0|    0|   0|   0|    0|    0|    0|    0|    0|    0|    0|    0|    0|    0|    0|    0|    0|    0|    0|    0|   0|    0|    0|    0|    0|    0|    0|  0|    0|    0|    0|    0|    0|    0|    0|    0|    0|   0|    0|    0|    0|    0|    0|    0|    0|    0|    0|    0|    0|    0|    0|    0|    0|    0|    0|    0|    0|    0|    0|    0|    0|   0|    0|    0|    0|    0|    0|    0|    0|   0|    0|    0|    0|    0|   0|    0|    0|    0|    0|   0|    0|    0|    0|    0|    0|    0|    0|    0|    0|    0|   0|    0|    0|    0|    0|    0|   0|    0|    0|    0|    0|    0|    0|    0|    0|    0|    0|    0|   0|    0|    0|    0|    0|    0|    0|    0|    0|    0|    0|   0|    0|    0|    0|    0|    0|    0|    0|    0|  0|    0|    0|    0|    0|    0|    0|    0|    0|    0|    0|    0|    0|    0|   0|    0|    0|    0|    0|    0|    0|    0|    0|    0|    0|    0|    0|    0|    0|   0|    0|    0|    0|    0|    0|    0|    0|    0|    0|    0|    0|    0|    0|    0|    0|    0|    0|    0|    0|    0|    0|    0|    0|    0|    0|    0|    0|    0|    0|   0|    0|    0|    0|    0|    0|    0|    0|    0|    0|   0|    0|    0|    0|    0|    0|    0|    0|    0|    0|   0|\n",
            "+------------------------+-----+-----+-----+-----+-----+-----+-----+-----+-----+-----+-----+-----+-----+-----+-----+-----+-----+-----+-----+-----+-----+-----+-----+-----+-----+-----+-----+-----+-----+----+-----+-----+-----+-----+----+-----+-----+-----+-----+-----+-----+-----+-----+-----+-----+-----+-----+-----+-----+-----+----+-----+-----+----+----+-----+-----+-----+-----+-----+-----+-----+-----+-----+-----+-----+-----+-----+-----+-----+-----+----+-----+-----+-----+-----+-----+-----+---+-----+-----+-----+-----+-----+-----+-----+-----+-----+----+-----+-----+-----+-----+-----+-----+-----+-----+-----+-----+-----+-----+-----+-----+-----+-----+-----+-----+-----+-----+-----+-----+-----+----+-----+-----+-----+-----+-----+-----+-----+----+-----+-----+-----+-----+----+-----+-----+-----+-----+----+-----+-----+-----+-----+-----+-----+-----+-----+-----+-----+----+-----+-----+-----+-----+-----+----+-----+-----+-----+-----+-----+-----+-----+-----+-----+-----+-----+----+-----+-----+-----+-----+-----+-----+-----+-----+-----+-----+----+-----+-----+-----+-----+-----+-----+-----+-----+---+-----+-----+-----+-----+-----+-----+-----+-----+-----+-----+-----+-----+-----+----+-----+-----+-----+-----+-----+-----+-----+-----+-----+-----+-----+-----+-----+-----+----+-----+-----+-----+-----+-----+-----+-----+-----+-----+-----+-----+-----+-----+-----+-----+-----+-----+-----+-----+-----+-----+-----+-----+-----+-----+-----+-----+-----+-----+----+-----+-----+-----+-----+-----+-----+-----+-----+-----+----+-----+-----+-----+-----+-----+-----+-----+-----+-----+----+\n",
            "only showing top 20 rows\n",
            "\n"
          ],
          "name": "stdout"
        }
      ]
    },
    {
      "cell_type": "code",
      "metadata": {
        "id": "zBLPmQPA080D",
        "outputId": "7cf10f88-d809-4f4e-d774-8cf8863b3efb",
        "colab": {
          "base_uri": "https://localhost:8080/"
        }
      },
      "source": [
        "cols = [\"radius_mean\", \"texture_mean\"]\n",
        "df1.select(*cols)"
      ],
      "execution_count": 88,
      "outputs": [
        {
          "output_type": "stream",
          "text": [
            "+-----------+------------+\n",
            "|radius_mean|texture_mean|\n",
            "+-----------+------------+\n",
            "|      17.99|       10.38|\n",
            "|      11.42|       20.38|\n",
            "|      12.45|        15.7|\n",
            "|      13.71|       20.83|\n",
            "|         13|       21.82|\n",
            "|      12.46|       24.04|\n",
            "|      15.85|       23.95|\n",
            "|      14.54|       27.54|\n",
            "|      14.68|       20.13|\n",
            "|      16.13|       20.68|\n",
            "|      13.54|       14.36|\n",
            "|      15.34|       14.26|\n",
            "|      18.61|       20.25|\n",
            "|      17.57|       15.05|\n",
            "|      18.63|       25.11|\n",
            "|      14.25|       21.72|\n",
            "|      13.03|       18.42|\n",
            "|      13.48|       20.82|\n",
            "|      13.44|       21.58|\n",
            "|      10.95|       21.35|\n",
            "+-----------+------------+\n",
            "only showing top 20 rows\n",
            "\n"
          ],
          "name": "stdout"
        }
      ]
    },
    {
      "cell_type": "code",
      "metadata": {
        "id": "QElZtbdH1Z-l",
        "outputId": "e7f531a5-84c8-450f-d597-b5d5e7177c86",
        "colab": {
          "base_uri": "https://localhost:8080/",
          "height": 506
        }
      },
      "source": [
        "df1.selectExpr(\"radius_mean\" , \"texture_mean\")"
      ],
      "execution_count": 89,
      "outputs": [
        {
          "output_type": "error",
          "ename": "AnalysisException",
          "evalue": "ignored",
          "traceback": [
            "\u001b[0;31m---------------------------------------------------------------------------\u001b[0m",
            "\u001b[0;31mAnalysisException\u001b[0m                         Traceback (most recent call last)",
            "\u001b[0;32m<ipython-input-89-d950a6122c51>\u001b[0m in \u001b[0;36m<module>\u001b[0;34m()\u001b[0m\n\u001b[0;32m----> 1\u001b[0;31m \u001b[0mdf1\u001b[0m\u001b[0;34m.\u001b[0m\u001b[0mselectExpr\u001b[0m\u001b[0;34m(\u001b[0m\u001b[0;34m\"radius_mean\"\u001b[0m \u001b[0;34m+\u001b[0m \u001b[0;34m\"texture_mean\"\u001b[0m\u001b[0;34m)\u001b[0m\u001b[0;34m\u001b[0m\u001b[0;34m\u001b[0m\u001b[0m\n\u001b[0m",
            "\u001b[0;32m/opt/spark-3.1.2-bin-hadoop3.2/python/pyspark/sql/dataframe.py\u001b[0m in \u001b[0;36mselectExpr\u001b[0;34m(self, *expr)\u001b[0m\n\u001b[1;32m   1684\u001b[0m         \u001b[0;32mif\u001b[0m \u001b[0mlen\u001b[0m\u001b[0;34m(\u001b[0m\u001b[0mexpr\u001b[0m\u001b[0;34m)\u001b[0m \u001b[0;34m==\u001b[0m \u001b[0;36m1\u001b[0m \u001b[0;32mand\u001b[0m \u001b[0misinstance\u001b[0m\u001b[0;34m(\u001b[0m\u001b[0mexpr\u001b[0m\u001b[0;34m[\u001b[0m\u001b[0;36m0\u001b[0m\u001b[0;34m]\u001b[0m\u001b[0;34m,\u001b[0m \u001b[0mlist\u001b[0m\u001b[0;34m)\u001b[0m\u001b[0;34m:\u001b[0m\u001b[0;34m\u001b[0m\u001b[0;34m\u001b[0m\u001b[0m\n\u001b[1;32m   1685\u001b[0m             \u001b[0mexpr\u001b[0m \u001b[0;34m=\u001b[0m \u001b[0mexpr\u001b[0m\u001b[0;34m[\u001b[0m\u001b[0;36m0\u001b[0m\u001b[0;34m]\u001b[0m\u001b[0;34m\u001b[0m\u001b[0;34m\u001b[0m\u001b[0m\n\u001b[0;32m-> 1686\u001b[0;31m         \u001b[0mjdf\u001b[0m \u001b[0;34m=\u001b[0m \u001b[0mself\u001b[0m\u001b[0;34m.\u001b[0m\u001b[0m_jdf\u001b[0m\u001b[0;34m.\u001b[0m\u001b[0mselectExpr\u001b[0m\u001b[0;34m(\u001b[0m\u001b[0mself\u001b[0m\u001b[0;34m.\u001b[0m\u001b[0m_jseq\u001b[0m\u001b[0;34m(\u001b[0m\u001b[0mexpr\u001b[0m\u001b[0;34m)\u001b[0m\u001b[0;34m)\u001b[0m\u001b[0;34m\u001b[0m\u001b[0;34m\u001b[0m\u001b[0m\n\u001b[0m\u001b[1;32m   1687\u001b[0m         \u001b[0;32mreturn\u001b[0m \u001b[0mDataFrame\u001b[0m\u001b[0;34m(\u001b[0m\u001b[0mjdf\u001b[0m\u001b[0;34m,\u001b[0m \u001b[0mself\u001b[0m\u001b[0;34m.\u001b[0m\u001b[0msql_ctx\u001b[0m\u001b[0;34m)\u001b[0m\u001b[0;34m\u001b[0m\u001b[0;34m\u001b[0m\u001b[0m\n\u001b[1;32m   1688\u001b[0m \u001b[0;34m\u001b[0m\u001b[0m\n",
            "\u001b[0;32m/opt/spark-3.1.2-bin-hadoop3.2/python/lib/py4j-0.10.9-src.zip/py4j/java_gateway.py\u001b[0m in \u001b[0;36m__call__\u001b[0;34m(self, *args)\u001b[0m\n\u001b[1;32m   1303\u001b[0m         \u001b[0manswer\u001b[0m \u001b[0;34m=\u001b[0m \u001b[0mself\u001b[0m\u001b[0;34m.\u001b[0m\u001b[0mgateway_client\u001b[0m\u001b[0;34m.\u001b[0m\u001b[0msend_command\u001b[0m\u001b[0;34m(\u001b[0m\u001b[0mcommand\u001b[0m\u001b[0;34m)\u001b[0m\u001b[0;34m\u001b[0m\u001b[0;34m\u001b[0m\u001b[0m\n\u001b[1;32m   1304\u001b[0m         return_value = get_return_value(\n\u001b[0;32m-> 1305\u001b[0;31m             answer, self.gateway_client, self.target_id, self.name)\n\u001b[0m\u001b[1;32m   1306\u001b[0m \u001b[0;34m\u001b[0m\u001b[0m\n\u001b[1;32m   1307\u001b[0m         \u001b[0;32mfor\u001b[0m \u001b[0mtemp_arg\u001b[0m \u001b[0;32min\u001b[0m \u001b[0mtemp_args\u001b[0m\u001b[0;34m:\u001b[0m\u001b[0;34m\u001b[0m\u001b[0;34m\u001b[0m\u001b[0m\n",
            "\u001b[0;32m/opt/spark-3.1.2-bin-hadoop3.2/python/pyspark/sql/utils.py\u001b[0m in \u001b[0;36mdeco\u001b[0;34m(*a, **kw)\u001b[0m\n\u001b[1;32m    115\u001b[0m                 \u001b[0;31m# Hide where the exception came from that shows a non-Pythonic\u001b[0m\u001b[0;34m\u001b[0m\u001b[0;34m\u001b[0m\u001b[0;34m\u001b[0m\u001b[0m\n\u001b[1;32m    116\u001b[0m                 \u001b[0;31m# JVM exception message.\u001b[0m\u001b[0;34m\u001b[0m\u001b[0;34m\u001b[0m\u001b[0;34m\u001b[0m\u001b[0m\n\u001b[0;32m--> 117\u001b[0;31m                 \u001b[0;32mraise\u001b[0m \u001b[0mconverted\u001b[0m \u001b[0;32mfrom\u001b[0m \u001b[0;32mNone\u001b[0m\u001b[0;34m\u001b[0m\u001b[0;34m\u001b[0m\u001b[0m\n\u001b[0m\u001b[1;32m    118\u001b[0m             \u001b[0;32melse\u001b[0m\u001b[0;34m:\u001b[0m\u001b[0;34m\u001b[0m\u001b[0;34m\u001b[0m\u001b[0m\n\u001b[1;32m    119\u001b[0m                 \u001b[0;32mraise\u001b[0m\u001b[0;34m\u001b[0m\u001b[0;34m\u001b[0m\u001b[0m\n",
            "\u001b[0;31mAnalysisException\u001b[0m: cannot resolve '`radius_meantexture_mean`' given input columns: [area_mean, area_se, area_worst, compactness_mean, compactness_se, compactness_worst, concave_points_mean, concave_points_se, concave_points_worst, concavity_mean, concavity_se, concavity_worst, diagnosis, fractal_dimension_mean, fractal_dimension_se, fractal_dimension_worst, perimeter_mean, perimeter_se, perimeter_worst, radius_mean, radius_se, radius_worst, smoothness_mean, smoothness_se, smoothness_worst, symmetry_mean, symmetry_se, symmetry_worst, texture_mean, texture_se, texture_worst]; line 1 pos 0;\n'Project ['radius_meantexture_mean]\n+- Sample 0.0, 0.5, false, -8528597012378843098\n   +- Relation[diagnosis#636,radius_mean#637,texture_mean#638,perimeter_mean#639,area_mean#640,smoothness_mean#641,compactness_mean#642,concavity_mean#643,concave_points_mean#644,symmetry_mean#645,fractal_dimension_mean#646,radius_se#647,texture_se#648,perimeter_se#649,area_se#650,smoothness_se#651,compactness_se#652,concavity_se#653,concave_points_se#654,symmetry_se#655,fractal_dimension_se#656,radius_worst#657,texture_worst#658,perimeter_worst#659,... 7 more fields] csv\n"
          ]
        }
      ]
    },
    {
      "cell_type": "code",
      "metadata": {
        "id": "nIbQqU7X1t4-"
      },
      "source": [
        "df1."
      ],
      "execution_count": null,
      "outputs": []
    }
  ]
}