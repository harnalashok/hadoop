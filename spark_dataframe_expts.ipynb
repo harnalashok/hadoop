{
  "nbformat": 4,
  "nbformat_minor": 0,
  "metadata": {
    "colab": {
      "name": "spark install.ipynb",
      "provenance": [],
      "collapsed_sections": [
        "yC40UHIKPJEL"
      ],
      "include_colab_link": true
    },
    "kernelspec": {
      "name": "python3",
      "display_name": "Python 3"
    },
    "language_info": {
      "name": "python"
    }
  },
  "cells": [
    {
      "cell_type": "markdown",
      "metadata": {
        "id": "view-in-github",
        "colab_type": "text"
      },
      "source": [
        "<a href=\"https://colab.research.google.com/github/harnalashok/hadoop/blob/main/spark_dataframe_expts.ipynb\" target=\"_parent\"><img src=\"https://colab.research.google.com/assets/colab-badge.svg\" alt=\"Open In Colab\"/></a>"
      ]
    },
    {
      "cell_type": "code",
      "metadata": {
        "id": "4q64Z8IYb8fr"
      },
      "source": [
        "# Last amended: 12th June, 2021\n",
        "# Myfolder: github/hadoop\n",
        "# Objectives:\n",
        "#             i) Install pyspark on colab\n",
        "#             ii) Install koalas on colab\n",
        "#\n",
        "#\n",
        "# Java 8 install: https://stackoverflow.com/a/58191107\n",
        "# Hadoop install: https://hadoop.apache.org/docs/stable/hadoop-project-dist/hadoop-common/SingleCluster.html\n",
        "# Spark install:  https://stackoverflow.com/a/64183749\n",
        "#                 https://www.analyticsvidhya.com/blog/2020/11/a-must-read-guide-on-how-to-work-with-pyspark-on-google-colab-for-data-scientists/"
      ],
      "execution_count": null,
      "outputs": []
    },
    {
      "cell_type": "markdown",
      "metadata": {
        "id": "Y3vw_quGSgrW"
      },
      "source": [
        "# Full spark install"
      ]
    },
    {
      "cell_type": "markdown",
      "metadata": {
        "id": "yC40UHIKPJEL"
      },
      "source": [
        "### 1.0 Libraries"
      ]
    },
    {
      "cell_type": "code",
      "metadata": {
        "id": "HBVUrlkidyaE"
      },
      "source": [
        "# 1.0 How to set environment variable\n",
        "import os  \n",
        "import time  "
      ],
      "execution_count": 1,
      "outputs": []
    },
    {
      "cell_type": "markdown",
      "metadata": {
        "id": "w8cVWRNoPOS6"
      },
      "source": [
        "## 2.0 Define some functions"
      ]
    },
    {
      "cell_type": "markdown",
      "metadata": {
        "id": "mfFBQ0FLcolo"
      },
      "source": [
        "#### ssh_install()"
      ]
    },
    {
      "cell_type": "code",
      "metadata": {
        "id": "mgS9HNCyR7C0"
      },
      "source": [
        "# 2.0 Function to install ssh client and sshd (Server)\n",
        "def ssh_install():\n",
        "  print(\"\\n--1. Download and install ssh server----\\n\")\n",
        "  ! sudo apt-get remove openssh-client openssh-server\n",
        "  ! sudo apt install openssh-client openssh-server\n",
        "  \n",
        "  print(\"\\n--2. Restart ssh server----\\n\")\n",
        "  ! service ssh restart"
      ],
      "execution_count": 2,
      "outputs": []
    },
    {
      "cell_type": "markdown",
      "metadata": {
        "id": "IJNKSScPcsDS"
      },
      "source": [
        "#### Java install"
      ]
    },
    {
      "cell_type": "code",
      "metadata": {
        "id": "BsFu84PSR9jR"
      },
      "source": [
        "# 3.0 Function to download and install java 8\n",
        "def install_java():\n",
        "  ! rm -rf /usr/java\n",
        "\n",
        "  print(\"\\n--Download and install Java 8----\\n\")\n",
        "  !apt-get install -y openjdk-8-jdk-headless -qq > /dev/null        # install openjdk\n",
        "  os.environ[\"JAVA_HOME\"] = \"/usr/lib/jvm/java-8-openjdk-amd64\"     # set environment variable\n",
        "\n",
        "  !update-alternatives --set java /usr/lib/jvm/java-8-openjdk-amd64/jre/bin/java\n",
        "  !update-alternatives --set javac /usr/lib/jvm/java-8-openjdk-amd64/bin/javac\n",
        "  \n",
        "  !mkdir -p /usr/java\n",
        "  ! ln -s \"/usr/lib/jvm/java-8-openjdk-amd64\"  \"/usr/java\"\n",
        "  ! mv \"/usr/java/java-8-openjdk-amd64\"  \"/usr/java/latest\"\n",
        "  \n",
        "  !java -version       #check java version\n",
        "  !javac -version"
      ],
      "execution_count": 3,
      "outputs": []
    },
    {
      "cell_type": "markdown",
      "metadata": {
        "id": "Y159J8TDc3wS"
      },
      "source": [
        "#### setup ssh passphrase"
      ]
    },
    {
      "cell_type": "code",
      "metadata": {
        "id": "EOFbfw7n0Pps"
      },
      "source": [
        "# 6.0 Function tp setup ssh passphrase\n",
        "def set_keys():\n",
        "  print(\"\\n---22. Generate SSH keys----\\n\")\n",
        "  ! cd ~ ; pwd \n",
        "  ! cd ~ ; ssh-keygen -t rsa -P '' -f ~/.ssh/id_rsa\n",
        "  ! cd ~ ; cat ~/.ssh/id_rsa.pub >> ~/.ssh/authorized_keys\n",
        "  ! cd ~ ; chmod 0600 ~/.ssh/authorized_keys\n"
      ],
      "execution_count": 4,
      "outputs": []
    },
    {
      "cell_type": "markdown",
      "metadata": {
        "id": "7M2kWg3dc6FT"
      },
      "source": [
        "#### Set environment"
      ]
    },
    {
      "cell_type": "code",
      "metadata": {
        "id": "CRSn9XAV4rsR"
      },
      "source": [
        "# 7.0 Function to set up environmental variables\n",
        "def set_env():\n",
        "  print(\"\\n---23. Set Environment variables----\\n\")\n",
        "  # 'export' command does not work in colab\n",
        "  # https://stackoverflow.com/a/57240319\n",
        "  os.environ[\"JAVA_HOME\"] = \"/usr/lib/jvm/java-8-openjdk-amd64\"     #set environment variable\n",
        "  os.environ[\"JRE_HOME\"] = \"/usr/lib/jvm/java-8-openjdk-amd64/jre\"   \n",
        "  "
      ],
      "execution_count": 5,
      "outputs": []
    },
    {
      "cell_type": "markdown",
      "metadata": {
        "id": "WII-UNCzc9qJ"
      },
      "source": [
        "#### function to install prerequisites\n",
        "java and ssh<br>\n"
      ]
    },
    {
      "cell_type": "code",
      "metadata": {
        "id": "oh1Mi0rHFpkU"
      },
      "source": [
        "# 8.0 Function to call all functions\n",
        "def install_components():\n",
        "  print(\"\\n--Install java----\\n\")\n",
        "  ssh_install()\n",
        "  install_java()  \n",
        "  #set_keys()\n",
        "  set_env()\n"
      ],
      "execution_count": 6,
      "outputs": []
    },
    {
      "cell_type": "markdown",
      "metadata": {
        "id": "iHJyHMhUdCRZ"
      },
      "source": [
        "## 3.0 Install components\n",
        "Start downloading, install and configure. Takes around 2 minutes<br>\n",
        "Your <u>input *'y'* is required </u>at one place while overwriting earlier ssh keys"
      ]
    },
    {
      "cell_type": "code",
      "metadata": {
        "id": "77YQikvsJiTm",
        "colab": {
          "base_uri": "https://localhost:8080/"
        },
        "outputId": "a4df0e70-248b-4ff4-a39a-94bc1f06e3f8"
      },
      "source": [
        "# 9.0 Start installation\n",
        "start = time.time()\n",
        "install_components()\n",
        "end = time.time()\n",
        "print(\"\\n---Time taken----\\n\")\n",
        "print((end- start)/60)"
      ],
      "execution_count": 7,
      "outputs": [
        {
          "output_type": "stream",
          "text": [
            "\n",
            "--Install java----\n",
            "\n",
            "\n",
            "--1. Download and install ssh server----\n",
            "\n",
            "Reading package lists... Done\n",
            "Building dependency tree       \n",
            "Reading state information... Done\n",
            "Package 'openssh-server' is not installed, so not removed\n",
            "The following packages will be REMOVED:\n",
            "  openssh-client\n",
            "0 upgraded, 0 newly installed, 1 to remove and 39 not upgraded.\n",
            "After this operation, 4,162 kB disk space will be freed.\n",
            "(Reading database ... 160772 files and directories currently installed.)\n",
            "Removing openssh-client (1:7.6p1-4ubuntu0.3) ...\n",
            "Processing triggers for man-db (2.8.3-2ubuntu0.1) ...\n",
            "Reading package lists... Done\n",
            "Building dependency tree       \n",
            "Reading state information... Done\n",
            "The following additional packages will be installed:\n",
            "  ncurses-term openssh-sftp-server python3-certifi python3-chardet\n",
            "  python3-idna python3-pkg-resources python3-requests python3-six\n",
            "  python3-urllib3 ssh-import-id\n",
            "Suggested packages:\n",
            "  keychain libpam-ssh monkeysphere ssh-askpass molly-guard rssh ufw\n",
            "  python3-setuptools python3-cryptography python3-openssl python3-socks\n",
            "The following NEW packages will be installed:\n",
            "  ncurses-term openssh-client openssh-server openssh-sftp-server\n",
            "  python3-certifi python3-chardet python3-idna python3-pkg-resources\n",
            "  python3-requests python3-six python3-urllib3 ssh-import-id\n",
            "0 upgraded, 12 newly installed, 0 to remove and 39 not upgraded.\n",
            "Need to get 1,762 kB of archives.\n",
            "After this operation, 11.8 MB of additional disk space will be used.\n",
            "Get:1 http://archive.ubuntu.com/ubuntu bionic-updates/main amd64 openssh-client amd64 1:7.6p1-4ubuntu0.3 [614 kB]\n",
            "Get:2 http://archive.ubuntu.com/ubuntu bionic-updates/main amd64 ncurses-term all 6.1-1ubuntu1.18.04 [248 kB]\n",
            "Get:3 http://archive.ubuntu.com/ubuntu bionic-updates/main amd64 openssh-sftp-server amd64 1:7.6p1-4ubuntu0.3 [45.6 kB]\n",
            "Get:4 http://archive.ubuntu.com/ubuntu bionic-updates/main amd64 openssh-server amd64 1:7.6p1-4ubuntu0.3 [333 kB]\n",
            "Get:5 http://archive.ubuntu.com/ubuntu bionic/main amd64 python3-certifi all 2018.1.18-2 [144 kB]\n",
            "Get:6 http://archive.ubuntu.com/ubuntu bionic/main amd64 python3-pkg-resources all 39.0.1-2 [98.8 kB]\n",
            "Get:7 http://archive.ubuntu.com/ubuntu bionic/main amd64 python3-chardet all 3.0.4-1 [80.3 kB]\n",
            "Get:8 http://archive.ubuntu.com/ubuntu bionic/main amd64 python3-idna all 2.6-1 [32.5 kB]\n",
            "Get:9 http://archive.ubuntu.com/ubuntu bionic/main amd64 python3-six all 1.11.0-2 [11.4 kB]\n",
            "Get:10 http://archive.ubuntu.com/ubuntu bionic-updates/main amd64 python3-urllib3 all 1.22-1ubuntu0.18.04.2 [86.2 kB]\n",
            "Get:11 http://archive.ubuntu.com/ubuntu bionic-updates/main amd64 python3-requests all 2.18.4-2ubuntu0.1 [58.3 kB]\n",
            "Get:12 http://archive.ubuntu.com/ubuntu bionic-updates/main amd64 ssh-import-id all 5.7-0ubuntu1.1 [10.9 kB]\n",
            "Fetched 1,762 kB in 1s (2,238 kB/s)\n",
            "debconf: unable to initialize frontend: Dialog\n",
            "debconf: (No usable dialog-like program is installed, so the dialog based frontend cannot be used. at /usr/share/perl5/Debconf/FrontEnd/Dialog.pm line 76, <> line 12.)\n",
            "debconf: falling back to frontend: Readline\n",
            "debconf: unable to initialize frontend: Readline\n",
            "debconf: (This frontend requires a controlling tty.)\n",
            "debconf: falling back to frontend: Teletype\n",
            "dpkg-preconfigure: unable to re-open stdin: \n",
            "Selecting previously unselected package openssh-client.\n",
            "(Reading database ... 160729 files and directories currently installed.)\n",
            "Preparing to unpack .../00-openssh-client_1%3a7.6p1-4ubuntu0.3_amd64.deb ...\n",
            "Unpacking openssh-client (1:7.6p1-4ubuntu0.3) ...\n",
            "Selecting previously unselected package ncurses-term.\n",
            "Preparing to unpack .../01-ncurses-term_6.1-1ubuntu1.18.04_all.deb ...\n",
            "Unpacking ncurses-term (6.1-1ubuntu1.18.04) ...\n",
            "Selecting previously unselected package openssh-sftp-server.\n",
            "Preparing to unpack .../02-openssh-sftp-server_1%3a7.6p1-4ubuntu0.3_amd64.deb ...\n",
            "Unpacking openssh-sftp-server (1:7.6p1-4ubuntu0.3) ...\n",
            "Selecting previously unselected package openssh-server.\n",
            "Preparing to unpack .../03-openssh-server_1%3a7.6p1-4ubuntu0.3_amd64.deb ...\n",
            "Unpacking openssh-server (1:7.6p1-4ubuntu0.3) ...\n",
            "Selecting previously unselected package python3-certifi.\n",
            "Preparing to unpack .../04-python3-certifi_2018.1.18-2_all.deb ...\n",
            "Unpacking python3-certifi (2018.1.18-2) ...\n",
            "Selecting previously unselected package python3-pkg-resources.\n",
            "Preparing to unpack .../05-python3-pkg-resources_39.0.1-2_all.deb ...\n",
            "Unpacking python3-pkg-resources (39.0.1-2) ...\n",
            "Selecting previously unselected package python3-chardet.\n",
            "Preparing to unpack .../06-python3-chardet_3.0.4-1_all.deb ...\n",
            "Unpacking python3-chardet (3.0.4-1) ...\n",
            "Selecting previously unselected package python3-idna.\n",
            "Preparing to unpack .../07-python3-idna_2.6-1_all.deb ...\n",
            "Unpacking python3-idna (2.6-1) ...\n",
            "Selecting previously unselected package python3-six.\n",
            "Preparing to unpack .../08-python3-six_1.11.0-2_all.deb ...\n",
            "Unpacking python3-six (1.11.0-2) ...\n",
            "Selecting previously unselected package python3-urllib3.\n",
            "Preparing to unpack .../09-python3-urllib3_1.22-1ubuntu0.18.04.2_all.deb ...\n",
            "Unpacking python3-urllib3 (1.22-1ubuntu0.18.04.2) ...\n",
            "Selecting previously unselected package python3-requests.\n",
            "Preparing to unpack .../10-python3-requests_2.18.4-2ubuntu0.1_all.deb ...\n",
            "Unpacking python3-requests (2.18.4-2ubuntu0.1) ...\n",
            "Selecting previously unselected package ssh-import-id.\n",
            "Preparing to unpack .../11-ssh-import-id_5.7-0ubuntu1.1_all.deb ...\n",
            "Unpacking ssh-import-id (5.7-0ubuntu1.1) ...\n",
            "Setting up ncurses-term (6.1-1ubuntu1.18.04) ...\n",
            "Setting up python3-idna (2.6-1) ...\n",
            "Setting up python3-six (1.11.0-2) ...\n",
            "Setting up python3-certifi (2018.1.18-2) ...\n",
            "Setting up python3-pkg-resources (39.0.1-2) ...\n",
            "Setting up python3-chardet (3.0.4-1) ...\n",
            "Setting up python3-urllib3 (1.22-1ubuntu0.18.04.2) ...\n",
            "Setting up openssh-client (1:7.6p1-4ubuntu0.3) ...\n",
            "Setting up openssh-sftp-server (1:7.6p1-4ubuntu0.3) ...\n",
            "Setting up python3-requests (2.18.4-2ubuntu0.1) ...\n",
            "Setting up ssh-import-id (5.7-0ubuntu1.1) ...\n",
            "Setting up openssh-server (1:7.6p1-4ubuntu0.3) ...\n",
            "debconf: unable to initialize frontend: Dialog\n",
            "debconf: (No usable dialog-like program is installed, so the dialog based frontend cannot be used. at /usr/share/perl5/Debconf/FrontEnd/Dialog.pm line 76.)\n",
            "debconf: falling back to frontend: Readline\n",
            "\n",
            "Creating config file /etc/ssh/sshd_config with new version\n",
            "Creating SSH2 RSA key; this may take some time ...\n",
            "2048 SHA256:/12YBXMv4TrL2e7ChqUm3j+8Ky/DjOIZDrQrkZvErE8 root@9f4d5802bd64 (RSA)\n",
            "Creating SSH2 ECDSA key; this may take some time ...\n",
            "256 SHA256:xZw2kGPOvdaMPLk+b/jBpaX2OgY48JPA10UwgJ8r7O4 root@9f4d5802bd64 (ECDSA)\n",
            "Creating SSH2 ED25519 key; this may take some time ...\n",
            "256 SHA256:jRQpt9fzmGaoQtK9ir+0nRblmXT2t+Z58mQKP5UNwUo root@9f4d5802bd64 (ED25519)\n",
            "Created symlink /etc/systemd/system/sshd.service → /lib/systemd/system/ssh.service.\n",
            "Created symlink /etc/systemd/system/multi-user.target.wants/ssh.service → /lib/systemd/system/ssh.service.\n",
            "invoke-rc.d: could not determine current runlevel\n",
            "invoke-rc.d: policy-rc.d denied execution of start.\n",
            "Processing triggers for man-db (2.8.3-2ubuntu0.1) ...\n",
            "Processing triggers for systemd (237-3ubuntu10.47) ...\n",
            "\n",
            "--2. Restart ssh server----\n",
            "\n",
            " * Restarting OpenBSD Secure Shell server sshd\n",
            "   ...done.\n",
            "\n",
            "--Download and install Java 8----\n",
            "\n",
            "update-alternatives: using /usr/lib/jvm/java-8-openjdk-amd64/jre/bin/java to provide /usr/bin/java (java) in manual mode\n",
            "update-alternatives: using /usr/lib/jvm/java-8-openjdk-amd64/bin/javac to provide /usr/bin/javac (javac) in manual mode\n",
            "openjdk version \"1.8.0_292\"\n",
            "OpenJDK Runtime Environment (build 1.8.0_292-8u292-b10-0ubuntu1~18.04-b10)\n",
            "OpenJDK 64-Bit Server VM (build 25.292-b10, mixed mode)\n",
            "javac 1.8.0_292\n",
            "\n",
            "---23. Set Environment variables----\n",
            "\n",
            "\n",
            "---Time taken----\n",
            "\n",
            "0.4406534910202026\n"
          ],
          "name": "stdout"
        }
      ]
    },
    {
      "cell_type": "markdown",
      "metadata": {
        "id": "XBFVWWuafLBL"
      },
      "source": [
        "## 4.0 Install spark\n",
        "koalas will also be installed"
      ]
    },
    {
      "cell_type": "markdown",
      "metadata": {
        "id": "CyuLCFRJsvW3"
      },
      "source": [
        "### Define functions"
      ]
    },
    {
      "cell_type": "markdown",
      "metadata": {
        "id": "kk3BP0OfYpT1"
      },
      "source": [
        "`findspark`: PySpark isn't on `sys.path` by default, but that doesn't mean it can't be used as a regular library. You can address this by either symlinking pyspark into your site-packages, or adding `pyspark` to `sys.path` at runtime. `findspark` does the latter."
      ]
    },
    {
      "cell_type": "code",
      "metadata": {
        "id": "opLGqtPRfM_5"
      },
      "source": [
        "# 1.0 Function to download and unzip spark\n",
        "def spark_koalas_install():\n",
        "  print(\"\\n--1.1 Install findspark----\\n\")\n",
        "  !pip install -q findspark\n",
        "\n",
        "  print(\"\\n--1.2 Install databricks Koalas----\\n\")\n",
        "  !pip install koalas\n",
        "\n",
        "  print(\"\\n--1.3 Download Apache tar.gz----\\n\")\n",
        "  ! wget -c https://apachemirror.wuchna.com/spark/spark-3.1.2/spark-3.1.2-bin-hadoop3.2.tgz\n",
        "\n",
        "  print(\"\\n--1.4 Transfer downloaded content and unzip tar.gz----\\n\")\n",
        "  !  mv /content/spark*   /opt/\n",
        "  ! tar -xzf /opt/spark-3.1.2-bin-hadoop3.2.tgz  --directory /opt/\n",
        "\n",
        "  print(\"\\n--1.5 Check folder for files----\\n\")\n",
        "  ! ls -la /opt\n"
      ],
      "execution_count": 8,
      "outputs": []
    },
    {
      "cell_type": "code",
      "metadata": {
        "id": "ebXfvQ1qiQHz"
      },
      "source": [
        "# 1.1 Function to set environment\n",
        "def set_spark_env():\n",
        "  print(\"\\n---2. Set Environment variables----\\n\")\n",
        "  os.environ[\"JAVA_HOME\"] = \"/usr/lib/jvm/java-8-openjdk-amd64\" \n",
        "  os.environ[\"JRE_HOME\"] = \"/usr/lib/jvm/java-8-openjdk-amd64/jre\" \n",
        "  os.environ[\"SPARK_HOME\"] = \"/opt/spark-3.1.2-bin-hadoop3.2\"     \n",
        "  os.environ[\"LD_LIBRARY_PATH\"] += \":/opt/spark-3.1.2-bin-hadoop3.2/lib/native\"\n",
        "  os.environ[\"PATH\"] += \":/opt/spark-3.1.2-bin-hadoop3.2/bin:/opt/spark-3.1.2-bin-hadoop3.2/sbin\"\n",
        "  print(\"\\n---2.1. Check Environment variables----\\n\")\n",
        "  # Check\n",
        "  ! echo $PATH\n",
        "  ! echo $LD_LIBRARY_PATH"
      ],
      "execution_count": 9,
      "outputs": []
    },
    {
      "cell_type": "code",
      "metadata": {
        "id": "qUsZggDHj13U"
      },
      "source": [
        "# 1.2 Function to configure spark \n",
        "def spark_conf():\n",
        "  print(\"\\n---3. Configure spark to access hadoop----\\n\")\n",
        "  !mv /opt/spark-3.1.2-bin-hadoop3.2/conf/spark-env.sh.template  /opt/spark-3.1.2-bin-hadoop3.2/conf/spark-env.sh\n",
        "  #!echo \"HADOOP_CONF_DIR=/opt/hadoop-3.2.2/etc/hadoop/\" >> /opt/spark-3.1.2-bin-hadoop3.2/conf/spark-env.sh\n",
        "  print(\"\\n---3.1 Check ----\\n\")\n",
        "  #!cat /opt/spark-3.1.1-bin-hadoop3.2/conf/spark-env.sh"
      ],
      "execution_count": 10,
      "outputs": []
    },
    {
      "cell_type": "markdown",
      "metadata": {
        "id": "M7kLbAFLszN3"
      },
      "source": [
        "### Install spark\n"
      ]
    },
    {
      "cell_type": "code",
      "metadata": {
        "id": "z_eaLhtPktHJ"
      },
      "source": [
        "# 2.0 Call all the three functions\n",
        "def install_spark():\n",
        "  spark_koalas_install()\n",
        "  set_spark_env()\n",
        "  spark_conf()\n"
      ],
      "execution_count": 11,
      "outputs": []
    },
    {
      "cell_type": "code",
      "metadata": {
        "id": "emaHs1XxRt5z",
        "colab": {
          "base_uri": "https://localhost:8080/"
        },
        "outputId": "cfe25433-c577-475f-b5e6-af075395e0db"
      },
      "source": [
        "# 2.1 \n",
        "install_spark()"
      ],
      "execution_count": 12,
      "outputs": [
        {
          "output_type": "stream",
          "text": [
            "\n",
            "--1.1 Install findspark----\n",
            "\n",
            "\n",
            "--1.2 Install databricks Koalas----\n",
            "\n",
            "Collecting koalas\n",
            "\u001b[?25l  Downloading https://files.pythonhosted.org/packages/b8/6f/d0454b8b7a8ac4cd9838f510ceff0d9eb20d64245c4627f425c06ca6b685/koalas-1.8.0-py3-none-any.whl (720kB)\n",
            "\u001b[K     |████████████████████████████████| 727kB 22.3MB/s \n",
            "\u001b[?25hRequirement already satisfied: numpy<1.20.0,>=1.14 in /usr/local/lib/python3.7/dist-packages (from koalas) (1.19.5)\n",
            "Requirement already satisfied: pandas>=0.23.2 in /usr/local/lib/python3.7/dist-packages (from koalas) (1.1.5)\n",
            "Requirement already satisfied: pyarrow>=0.10 in /usr/local/lib/python3.7/dist-packages (from koalas) (3.0.0)\n",
            "Requirement already satisfied: pytz>=2017.2 in /usr/local/lib/python3.7/dist-packages (from pandas>=0.23.2->koalas) (2018.9)\n",
            "Requirement already satisfied: python-dateutil>=2.7.3 in /usr/local/lib/python3.7/dist-packages (from pandas>=0.23.2->koalas) (2.8.1)\n",
            "Requirement already satisfied: six>=1.5 in /usr/local/lib/python3.7/dist-packages (from python-dateutil>=2.7.3->pandas>=0.23.2->koalas) (1.15.0)\n",
            "Installing collected packages: koalas\n",
            "Successfully installed koalas-1.8.0\n",
            "\n",
            "--1.3 Download Apache tar.gz----\n",
            "\n",
            "--2021-06-13 05:40:06--  https://apachemirror.wuchna.com/spark/spark-3.1.2/spark-3.1.2-bin-hadoop3.2.tgz\n",
            "Resolving apachemirror.wuchna.com (apachemirror.wuchna.com)... 143.110.177.196\n",
            "Connecting to apachemirror.wuchna.com (apachemirror.wuchna.com)|143.110.177.196|:443... connected.\n",
            "HTTP request sent, awaiting response... 200 OK\n",
            "Length: 228834641 (218M) [application/x-gzip]\n",
            "Saving to: ‘spark-3.1.2-bin-hadoop3.2.tgz’\n",
            "\n",
            "spark-3.1.2-bin-had 100%[===================>] 218.23M  11.4MB/s    in 22s     \n",
            "\n",
            "2021-06-13 05:40:29 (10.1 MB/s) - ‘spark-3.1.2-bin-hadoop3.2.tgz’ saved [228834641/228834641]\n",
            "\n",
            "\n",
            "--1.4 Transfer downloaded content and unzip tar.gz----\n",
            "\n",
            "\n",
            "--1.5 Check folder for files----\n",
            "\n",
            "total 223496\n",
            "drwxr-xr-x  1 root root      4096 Jun 13 05:40 .\n",
            "drwxr-xr-x  1 root root      4096 Jun 13 05:38 ..\n",
            "drwxr-xr-x  1 root root      4096 Jun  1 13:35 google\n",
            "drwxr-xr-x  4 root root      4096 Jun  1 13:29 nvidia\n",
            "drwxr-xr-x 13 1000 1000      4096 May 24 04:45 spark-3.1.2-bin-hadoop3.2\n",
            "-rw-r--r--  1 root root 228834641 May 24 05:01 spark-3.1.2-bin-hadoop3.2.tgz\n",
            "\n",
            "---2. Set Environment variables----\n",
            "\n",
            "\n",
            "---2.1. Check Environment variables----\n",
            "\n",
            "/usr/local/nvidia/bin:/usr/local/cuda/bin:/usr/local/sbin:/usr/local/bin:/usr/sbin:/usr/bin:/sbin:/bin:/tools/node/bin:/tools/google-cloud-sdk/bin:/opt/bin:/opt/spark-3.1.2-bin-hadoop3.2/bin:/opt/spark-3.1.2-bin-hadoop3.2/sbin\n",
            "/usr/local/nvidia/lib:/usr/local/nvidia/lib64:/opt/spark-3.1.2-bin-hadoop3.2/lib/native\n",
            "\n",
            "---3. Configure spark to access hadoop----\n",
            "\n",
            "\n",
            "---3.1 Check ----\n",
            "\n"
          ],
          "name": "stdout"
        }
      ]
    },
    {
      "cell_type": "markdown",
      "metadata": {
        "id": "L6XYg1IGs17n"
      },
      "source": [
        "# Test spark\n"
      ]
    },
    {
      "cell_type": "markdown",
      "metadata": {
        "id": "eZwLRxQWZryJ"
      },
      "source": [
        "Call some libraries"
      ]
    },
    {
      "cell_type": "code",
      "metadata": {
        "id": "6_1RXFGClfCy",
        "colab": {
          "base_uri": "https://localhost:8080/"
        },
        "outputId": "09983d9e-c6ce-42b5-8e8b-5e963658bf1a"
      },
      "source": [
        "# 3.0 Just call some libraries to test\n",
        "import pandas as pd\n",
        "import numpy as np\n",
        "\n",
        "# 3.1 Get spark in sys.path\n",
        "import findspark\n",
        "findspark.init()\n",
        "\n",
        "# 3.2 Call other spark libraries\n",
        "#     Just to test\n",
        "from pyspark.sql import SparkSession\n",
        "import databricks.koalas as ks\n",
        "from pyspark.ml.feature import VectorAssembler\n",
        "from pyspark.ml.regression import LinearRegression"
      ],
      "execution_count": 13,
      "outputs": [
        {
          "output_type": "stream",
          "text": [
            "WARNING:root:'PYARROW_IGNORE_TIMEZONE' environment variable was not set. It is required to set this environment variable to '1' in both driver and executor sides if you use pyarrow>=2.0.0. Koalas will set it for you but it does not work if there is a Spark context already launched.\n"
          ],
          "name": "stderr"
        }
      ]
    },
    {
      "cell_type": "markdown",
      "metadata": {
        "id": "JRcydbfmqzGX"
      },
      "source": [
        "### Understanding SparkSession\n",
        "For Spark configuration options, see [here](http://spark.apache.org/docs/latest/configuration.html#spark-properties)"
      ]
    },
    {
      "cell_type": "code",
      "metadata": {
        "id": "ISNdxVmMmUVz"
      },
      "source": [
        "# 3.1 Build  spark session\n",
        "#     with certain configuration options\n",
        "#     .master => Connect to spark which URL? \"local\" to run locally, \n",
        "#                \"local[4]\" to run locally with 4 cores,\n",
        "#                or \"spark://master:7077\" to run on a Spark standalone cluster.\n",
        "#\n",
        "spark = SparkSession. \\\n",
        "                    builder. \\\n",
        "                    master(\"local[*]\"). \\\n",
        "                    config(\"spark.driver.memory\", \"1g\"). \\\n",
        "                    getOrCreate()\n"
      ],
      "execution_count": 16,
      "outputs": []
    },
    {
      "cell_type": "code",
      "metadata": {
        "id": "GhFDaRinqTBg",
        "colab": {
          "base_uri": "https://localhost:8080/",
          "height": 35
        },
        "outputId": "2607377d-dc41-4611-ede2-ca4242d5583d"
      },
      "source": [
        "# 3.1.1\n",
        "# Get spark configuration\n",
        "spark.conf.get(\"spark.driver.memory\")"
      ],
      "execution_count": 17,
      "outputs": [
        {
          "output_type": "execute_result",
          "data": {
            "application/vnd.google.colaboratory.intrinsic+json": {
              "type": "string"
            },
            "text/plain": [
              "'1g'"
            ]
          },
          "metadata": {
            "tags": []
          },
          "execution_count": 17
        }
      ]
    },
    {
      "cell_type": "code",
      "metadata": {
        "id": "_RD05F9IqZOs"
      },
      "source": [
        "# 3.1.2 \n",
        "# Get spark session \n",
        "abc = spark.builder.getOrCreate()"
      ],
      "execution_count": 18,
      "outputs": []
    },
    {
      "cell_type": "markdown",
      "metadata": {
        "id": "YkeUhzdMsDwZ"
      },
      "source": [
        "### Creating spark dataframe"
      ]
    },
    {
      "cell_type": "markdown",
      "metadata": {
        "id": "4Hkt2OyksJAh"
      },
      "source": [
        "#### From pandas dataframe"
      ]
    },
    {
      "cell_type": "code",
      "metadata": {
        "id": "oVlRiGQJmk58",
        "outputId": "06c6e7df-9750-446c-cb6d-233be3412e05",
        "colab": {
          "base_uri": "https://localhost:8080/",
          "height": 300
        }
      },
      "source": [
        "# 4.0 Pandas DataFrame\n",
        "pdf = pd.DataFrame({\n",
        "        'x1': ['a','a','b','b', 'b', 'c', 'd','d'],\n",
        "        'x2': ['apple', 'orange', 'orange','orange', 'peach', 'peach','apple','orange'],\n",
        "        'x3': [1, 1, 2, 2, 2, 4, 1, 2],\n",
        "        'x4': [2.4, 2.5, 3.5, 1.4, 2.1,1.5, 3.0, 2.0],\n",
        "        'y1': [1, 0, 1, 0, 0, 1, 1, 0],\n",
        "        'y2': ['yes', 'no', 'no', 'yes', 'yes', 'yes', 'no', 'yes']\n",
        "    })\n",
        "\n",
        "# 4.1\n",
        "pdf"
      ],
      "execution_count": 19,
      "outputs": [
        {
          "output_type": "execute_result",
          "data": {
            "text/html": [
              "<div>\n",
              "<style scoped>\n",
              "    .dataframe tbody tr th:only-of-type {\n",
              "        vertical-align: middle;\n",
              "    }\n",
              "\n",
              "    .dataframe tbody tr th {\n",
              "        vertical-align: top;\n",
              "    }\n",
              "\n",
              "    .dataframe thead th {\n",
              "        text-align: right;\n",
              "    }\n",
              "</style>\n",
              "<table border=\"1\" class=\"dataframe\">\n",
              "  <thead>\n",
              "    <tr style=\"text-align: right;\">\n",
              "      <th></th>\n",
              "      <th>x1</th>\n",
              "      <th>x2</th>\n",
              "      <th>x3</th>\n",
              "      <th>x4</th>\n",
              "      <th>y1</th>\n",
              "      <th>y2</th>\n",
              "    </tr>\n",
              "  </thead>\n",
              "  <tbody>\n",
              "    <tr>\n",
              "      <th>0</th>\n",
              "      <td>a</td>\n",
              "      <td>apple</td>\n",
              "      <td>1</td>\n",
              "      <td>2.4</td>\n",
              "      <td>1</td>\n",
              "      <td>yes</td>\n",
              "    </tr>\n",
              "    <tr>\n",
              "      <th>1</th>\n",
              "      <td>a</td>\n",
              "      <td>orange</td>\n",
              "      <td>1</td>\n",
              "      <td>2.5</td>\n",
              "      <td>0</td>\n",
              "      <td>no</td>\n",
              "    </tr>\n",
              "    <tr>\n",
              "      <th>2</th>\n",
              "      <td>b</td>\n",
              "      <td>orange</td>\n",
              "      <td>2</td>\n",
              "      <td>3.5</td>\n",
              "      <td>1</td>\n",
              "      <td>no</td>\n",
              "    </tr>\n",
              "    <tr>\n",
              "      <th>3</th>\n",
              "      <td>b</td>\n",
              "      <td>orange</td>\n",
              "      <td>2</td>\n",
              "      <td>1.4</td>\n",
              "      <td>0</td>\n",
              "      <td>yes</td>\n",
              "    </tr>\n",
              "    <tr>\n",
              "      <th>4</th>\n",
              "      <td>b</td>\n",
              "      <td>peach</td>\n",
              "      <td>2</td>\n",
              "      <td>2.1</td>\n",
              "      <td>0</td>\n",
              "      <td>yes</td>\n",
              "    </tr>\n",
              "    <tr>\n",
              "      <th>5</th>\n",
              "      <td>c</td>\n",
              "      <td>peach</td>\n",
              "      <td>4</td>\n",
              "      <td>1.5</td>\n",
              "      <td>1</td>\n",
              "      <td>yes</td>\n",
              "    </tr>\n",
              "    <tr>\n",
              "      <th>6</th>\n",
              "      <td>d</td>\n",
              "      <td>apple</td>\n",
              "      <td>1</td>\n",
              "      <td>3.0</td>\n",
              "      <td>1</td>\n",
              "      <td>no</td>\n",
              "    </tr>\n",
              "    <tr>\n",
              "      <th>7</th>\n",
              "      <td>d</td>\n",
              "      <td>orange</td>\n",
              "      <td>2</td>\n",
              "      <td>2.0</td>\n",
              "      <td>0</td>\n",
              "      <td>yes</td>\n",
              "    </tr>\n",
              "  </tbody>\n",
              "</table>\n",
              "</div>"
            ],
            "text/plain": [
              "  x1      x2  x3   x4  y1   y2\n",
              "0  a   apple   1  2.4   1  yes\n",
              "1  a  orange   1  2.5   0   no\n",
              "2  b  orange   2  3.5   1   no\n",
              "3  b  orange   2  1.4   0  yes\n",
              "4  b   peach   2  2.1   0  yes\n",
              "5  c   peach   4  1.5   1  yes\n",
              "6  d   apple   1  3.0   1   no\n",
              "7  d  orange   2  2.0   0  yes"
            ]
          },
          "metadata": {
            "tags": []
          },
          "execution_count": 19
        }
      ]
    },
    {
      "cell_type": "code",
      "metadata": {
        "id": "L3pSQ7sDmnjt",
        "outputId": "d4cbb1d3-9aee-4174-def7-57d79d17d837",
        "colab": {
          "base_uri": "https://localhost:8080/"
        }
      },
      "source": [
        "# 4.2 Transform to Spark DataFrame\n",
        "#     and print\n",
        "df = spark.createDataFrame(pdf)\n",
        "df.show()"
      ],
      "execution_count": 20,
      "outputs": [
        {
          "output_type": "stream",
          "text": [
            "+---+------+---+---+---+---+\n",
            "| x1|    x2| x3| x4| y1| y2|\n",
            "+---+------+---+---+---+---+\n",
            "|  a| apple|  1|2.4|  1|yes|\n",
            "|  a|orange|  1|2.5|  0| no|\n",
            "|  b|orange|  2|3.5|  1| no|\n",
            "|  b|orange|  2|1.4|  0|yes|\n",
            "|  b| peach|  2|2.1|  0|yes|\n",
            "|  c| peach|  4|1.5|  1|yes|\n",
            "|  d| apple|  1|3.0|  1| no|\n",
            "|  d|orange|  2|2.0|  0|yes|\n",
            "+---+------+---+---+---+---+\n",
            "\n"
          ],
          "name": "stdout"
        }
      ]
    },
    {
      "cell_type": "code",
      "metadata": {
        "id": "p91zAEU2qo9q",
        "outputId": "c8ba34f1-57bb-42e0-c507-c1253ea3a53f",
        "colab": {
          "base_uri": "https://localhost:8080/"
        }
      },
      "source": [
        "df1 = abc.createDataFrame(pdf)\n",
        "df1.show()"
      ],
      "execution_count": 21,
      "outputs": [
        {
          "output_type": "stream",
          "text": [
            "+---+------+---+---+---+---+\n",
            "| x1|    x2| x3| x4| y1| y2|\n",
            "+---+------+---+---+---+---+\n",
            "|  a| apple|  1|2.4|  1|yes|\n",
            "|  a|orange|  1|2.5|  0| no|\n",
            "|  b|orange|  2|3.5|  1| no|\n",
            "|  b|orange|  2|1.4|  0|yes|\n",
            "|  b| peach|  2|2.1|  0|yes|\n",
            "|  c| peach|  4|1.5|  1|yes|\n",
            "|  d| apple|  1|3.0|  1| no|\n",
            "|  d|orange|  2|2.0|  0|yes|\n",
            "+---+------+---+---+---+---+\n",
            "\n"
          ],
          "name": "stdout"
        }
      ]
    },
    {
      "cell_type": "code",
      "metadata": {
        "id": "sTjT6sQYbgz3"
      },
      "source": [
        "############"
      ],
      "execution_count": null,
      "outputs": []
    },
    {
      "cell_type": "markdown",
      "metadata": {
        "id": "Zn3xhm6LdXvK"
      },
      "source": [
        "# Your experiments"
      ]
    },
    {
      "cell_type": "code",
      "metadata": {
        "id": "iIqjW83OfmMq"
      },
      "source": [
        "# Get existing spark session using builder object\n",
        "abc = SparkSession.builder.getOrCreate()"
      ],
      "execution_count": 22,
      "outputs": []
    },
    {
      "cell_type": "code",
      "metadata": {
        "id": "pbF3f4b4fm8y",
        "colab": {
          "base_uri": "https://localhost:8080/",
          "height": 35
        },
        "outputId": "8dce83b8-336c-45fe-9782-c8a14714ba41"
      },
      "source": [
        "abc.conf.get(\"spark.driver.memory\")"
      ],
      "execution_count": 23,
      "outputs": [
        {
          "output_type": "execute_result",
          "data": {
            "application/vnd.google.colaboratory.intrinsic+json": {
              "type": "string"
            },
            "text/plain": [
              "'1g'"
            ]
          },
          "metadata": {
            "tags": []
          },
          "execution_count": 23
        }
      ]
    },
    {
      "cell_type": "code",
      "metadata": {
        "id": "OrqJj2_rp0mg"
      },
      "source": [
        " df = spark.read.csv(\n",
        "                     \"/content/data_modified.csv\",\n",
        "                     header = True\n",
        "                     )"
      ],
      "execution_count": 25,
      "outputs": []
    },
    {
      "cell_type": "code",
      "metadata": {
        "id": "1FeKt1eruCDI",
        "colab": {
          "base_uri": "https://localhost:8080/"
        },
        "outputId": "8f8c6c56-b556-4d00-e80e-4927fb747296"
      },
      "source": [
        "df.show(5)"
      ],
      "execution_count": 26,
      "outputs": [
        {
          "output_type": "stream",
          "text": [
            "+---------+-----------+------------+--------------+---------+---------------+----------------+--------------+-------------------+-------------+----------------------+---------+----------+------------+-------+-------------+--------------+------------+-----------------+-----------+--------------------+------------+-------------+---------------+----------+----------------+-----------------+---------------+--------------------+--------------+-----------------------+\n",
            "|diagnosis|radius_mean|texture_mean|perimeter_mean|area_mean|smoothness_mean|compactness_mean|concavity_mean|concave_points_mean|symmetry_mean|fractal_dimension_mean|radius_se|texture_se|perimeter_se|area_se|smoothness_se|compactness_se|concavity_se|concave_points_se|symmetry_se|fractal_dimension_se|radius_worst|texture_worst|perimeter_worst|area_worst|smoothness_worst|compactness_worst|concavity_worst|concave_points_worst|symmetry_worst|fractal_dimension_worst|\n",
            "+---------+-----------+------------+--------------+---------+---------------+----------------+--------------+-------------------+-------------+----------------------+---------+----------+------------+-------+-------------+--------------+------------+-----------------+-----------+--------------------+------------+-------------+---------------+----------+----------------+-----------------+---------------+--------------------+--------------+-----------------------+\n",
            "|        1|      17.99|       10.38|         122.8|     1001|         0.1184|          0.2776|        0.3001|             0.1471|       0.2419|               0.07871|    1.095|    0.9053|       8.589|  153.4|     0.006399|       0.04904|     0.05373|          0.01587|    0.03003|            0.006193|       25.38|        17.33|          184.6|      2019|          0.1622|           0.6656|         0.7119|              0.2654|        0.4601|                 0.1189|\n",
            "|        1|      20.57|       17.77|         132.9|     1326|        0.08474|         0.07864|        0.0869|            0.07017|       0.1812|               0.05667|   0.5435|    0.7339|       3.398|  74.08|     0.005225|       0.01308|      0.0186|           0.0134|    0.01389|            0.003532|       24.99|        23.41|          158.8|      1956|          0.1238|           0.1866|         0.2416|               0.186|         0.275|                0.08902|\n",
            "|        1|      19.69|       21.25|           130|     1203|         0.1096|          0.1599|        0.1974|             0.1279|       0.2069|               0.05999|   0.7456|    0.7869|       4.585|  94.03|      0.00615|       0.04006|     0.03832|          0.02058|     0.0225|            0.004571|       23.57|        25.53|          152.5|      1709|          0.1444|           0.4245|         0.4504|               0.243|        0.3613|                0.08758|\n",
            "|        1|      11.42|       20.38|         77.58|    386.1|         0.1425|          0.2839|        0.2414|             0.1052|       0.2597|               0.09744|   0.4956|     1.156|       3.445|  27.23|      0.00911|       0.07458|     0.05661|          0.01867|    0.05963|            0.009208|       14.91|         26.5|          98.87|     567.7|          0.2098|           0.8663|         0.6869|              0.2575|        0.6638|                  0.173|\n",
            "|        1|      20.29|       14.34|         135.1|     1297|         0.1003|          0.1328|         0.198|             0.1043|       0.1809|               0.05883|   0.7572|    0.7813|       5.438|  94.44|      0.01149|       0.02461|     0.05688|          0.01885|    0.01756|            0.005115|       22.54|        16.67|          152.2|      1575|          0.1374|            0.205|            0.4|              0.1625|        0.2364|                0.07678|\n",
            "+---------+-----------+------------+--------------+---------+---------------+----------------+--------------+-------------------+-------------+----------------------+---------+----------+------------+-------+-------------+--------------+------------+-----------------+-----------+--------------------+------------+-------------+---------------+----------+----------------+-----------------+---------------+--------------------+--------------+-----------------------+\n",
            "only showing top 5 rows\n",
            "\n"
          ],
          "name": "stdout"
        }
      ]
    },
    {
      "cell_type": "code",
      "metadata": {
        "id": "duU5VmxDuKfi"
      },
      "source": [
        "df1 = df.sample(fraction = 0.5)\n",
        "df2 = df.sample(fraction = 0.5)"
      ],
      "execution_count": 27,
      "outputs": []
    },
    {
      "cell_type": "code",
      "metadata": {
        "id": "yYDS1oEXvp0R",
        "colab": {
          "base_uri": "https://localhost:8080/"
        },
        "outputId": "5e40e3fa-ff56-47ef-f1f5-0242f0eb09f4"
      },
      "source": [
        "df1.head(4)"
      ],
      "execution_count": 28,
      "outputs": [
        {
          "output_type": "execute_result",
          "data": {
            "text/plain": [
              "[Row(diagnosis='1', radius_mean='17.99', texture_mean='10.38', perimeter_mean='122.8', area_mean='1001', smoothness_mean='0.1184', compactness_mean='0.2776', concavity_mean='0.3001', concave_points_mean='0.1471', symmetry_mean='0.2419', fractal_dimension_mean='0.07871', radius_se='1.095', texture_se='0.9053', perimeter_se='8.589', area_se='153.4', smoothness_se='0.006399', compactness_se='0.04904', concavity_se='0.05373', concave_points_se='0.01587', symmetry_se='0.03003', fractal_dimension_se='0.006193', radius_worst='25.38', texture_worst='17.33', perimeter_worst='184.6', area_worst='2019', smoothness_worst='0.1622', compactness_worst='0.6656', concavity_worst='0.7119', concave_points_worst='0.2654', symmetry_worst='0.4601', fractal_dimension_worst='0.1189'),\n",
              " Row(diagnosis='1', radius_mean='20.57', texture_mean='17.77', perimeter_mean='132.9', area_mean='1326', smoothness_mean='0.08474', compactness_mean='0.07864', concavity_mean='0.0869', concave_points_mean='0.07017', symmetry_mean='0.1812', fractal_dimension_mean='0.05667', radius_se='0.5435', texture_se='0.7339', perimeter_se='3.398', area_se='74.08', smoothness_se='0.005225', compactness_se='0.01308', concavity_se='0.0186', concave_points_se='0.0134', symmetry_se='0.01389', fractal_dimension_se='0.003532', radius_worst='24.99', texture_worst='23.41', perimeter_worst='158.8', area_worst='1956', smoothness_worst='0.1238', compactness_worst='0.1866', concavity_worst='0.2416', concave_points_worst='0.186', symmetry_worst='0.275', fractal_dimension_worst='0.08902'),\n",
              " Row(diagnosis='1', radius_mean='11.42', texture_mean='20.38', perimeter_mean='77.58', area_mean='386.1', smoothness_mean='0.1425', compactness_mean='0.2839', concavity_mean='0.2414', concave_points_mean='0.1052', symmetry_mean='0.2597', fractal_dimension_mean='0.09744', radius_se='0.4956', texture_se='1.156', perimeter_se='3.445', area_se='27.23', smoothness_se='0.00911', compactness_se='0.07458', concavity_se='0.05661', concave_points_se='0.01867', symmetry_se='0.05963', fractal_dimension_se='0.009208', radius_worst='14.91', texture_worst='26.5', perimeter_worst='98.87', area_worst='567.7', smoothness_worst='0.2098', compactness_worst='0.8663', concavity_worst='0.6869', concave_points_worst='0.2575', symmetry_worst='0.6638', fractal_dimension_worst='0.173'),\n",
              " Row(diagnosis='1', radius_mean='18.25', texture_mean='19.98', perimeter_mean='119.6', area_mean='1040', smoothness_mean='0.09463', compactness_mean='0.109', concavity_mean='0.1127', concave_points_mean='0.074', symmetry_mean='0.1794', fractal_dimension_mean='0.05742', radius_se='0.4467', texture_se='0.7732', perimeter_se='3.18', area_se='53.91', smoothness_se='0.004314', compactness_se='0.01382', concavity_se='0.02254', concave_points_se='0.01039', symmetry_se='0.01369', fractal_dimension_se='0.002179', radius_worst='22.88', texture_worst='27.66', perimeter_worst='153.2', area_worst='1606', smoothness_worst='0.1442', compactness_worst='0.2576', concavity_worst='0.3784', concave_points_worst='0.1932', symmetry_worst='0.3063', fractal_dimension_worst='0.08368')]"
            ]
          },
          "metadata": {
            "tags": []
          },
          "execution_count": 28
        }
      ]
    },
    {
      "cell_type": "code",
      "metadata": {
        "id": "8Uhqo_ydwUhg",
        "outputId": "abd2a49e-45c4-496d-df72-a8658da3f713",
        "colab": {
          "base_uri": "https://localhost:8080/"
        }
      },
      "source": [
        "df1.collect()"
      ],
      "execution_count": 29,
      "outputs": [
        {
          "output_type": "execute_result",
          "data": {
            "text/plain": [
              "[Row(diagnosis='1', radius_mean='17.99', texture_mean='10.38', perimeter_mean='122.8', area_mean='1001', smoothness_mean='0.1184', compactness_mean='0.2776', concavity_mean='0.3001', concave_points_mean='0.1471', symmetry_mean='0.2419', fractal_dimension_mean='0.07871', radius_se='1.095', texture_se='0.9053', perimeter_se='8.589', area_se='153.4', smoothness_se='0.006399', compactness_se='0.04904', concavity_se='0.05373', concave_points_se='0.01587', symmetry_se='0.03003', fractal_dimension_se='0.006193', radius_worst='25.38', texture_worst='17.33', perimeter_worst='184.6', area_worst='2019', smoothness_worst='0.1622', compactness_worst='0.6656', concavity_worst='0.7119', concave_points_worst='0.2654', symmetry_worst='0.4601', fractal_dimension_worst='0.1189'),\n",
              " Row(diagnosis='1', radius_mean='20.57', texture_mean='17.77', perimeter_mean='132.9', area_mean='1326', smoothness_mean='0.08474', compactness_mean='0.07864', concavity_mean='0.0869', concave_points_mean='0.07017', symmetry_mean='0.1812', fractal_dimension_mean='0.05667', radius_se='0.5435', texture_se='0.7339', perimeter_se='3.398', area_se='74.08', smoothness_se='0.005225', compactness_se='0.01308', concavity_se='0.0186', concave_points_se='0.0134', symmetry_se='0.01389', fractal_dimension_se='0.003532', radius_worst='24.99', texture_worst='23.41', perimeter_worst='158.8', area_worst='1956', smoothness_worst='0.1238', compactness_worst='0.1866', concavity_worst='0.2416', concave_points_worst='0.186', symmetry_worst='0.275', fractal_dimension_worst='0.08902'),\n",
              " Row(diagnosis='1', radius_mean='11.42', texture_mean='20.38', perimeter_mean='77.58', area_mean='386.1', smoothness_mean='0.1425', compactness_mean='0.2839', concavity_mean='0.2414', concave_points_mean='0.1052', symmetry_mean='0.2597', fractal_dimension_mean='0.09744', radius_se='0.4956', texture_se='1.156', perimeter_se='3.445', area_se='27.23', smoothness_se='0.00911', compactness_se='0.07458', concavity_se='0.05661', concave_points_se='0.01867', symmetry_se='0.05963', fractal_dimension_se='0.009208', radius_worst='14.91', texture_worst='26.5', perimeter_worst='98.87', area_worst='567.7', smoothness_worst='0.2098', compactness_worst='0.8663', concavity_worst='0.6869', concave_points_worst='0.2575', symmetry_worst='0.6638', fractal_dimension_worst='0.173'),\n",
              " Row(diagnosis='1', radius_mean='18.25', texture_mean='19.98', perimeter_mean='119.6', area_mean='1040', smoothness_mean='0.09463', compactness_mean='0.109', concavity_mean='0.1127', concave_points_mean='0.074', symmetry_mean='0.1794', fractal_dimension_mean='0.05742', radius_se='0.4467', texture_se='0.7732', perimeter_se='3.18', area_se='53.91', smoothness_se='0.004314', compactness_se='0.01382', concavity_se='0.02254', concave_points_se='0.01039', symmetry_se='0.01369', fractal_dimension_se='0.002179', radius_worst='22.88', texture_worst='27.66', perimeter_worst='153.2', area_worst='1606', smoothness_worst='0.1442', compactness_worst='0.2576', concavity_worst='0.3784', concave_points_worst='0.1932', symmetry_worst='0.3063', fractal_dimension_worst='0.08368'),\n",
              " Row(diagnosis='1', radius_mean='13.71', texture_mean='20.83', perimeter_mean='90.2', area_mean='577.9', smoothness_mean='0.1189', compactness_mean='0.1645', concavity_mean='0.09366', concave_points_mean='0.05985', symmetry_mean='0.2196', fractal_dimension_mean='0.07451', radius_se='0.5835', texture_se='1.377', perimeter_se='3.856', area_se='50.96', smoothness_se='0.008805', compactness_se='0.03029', concavity_se='0.02488', concave_points_se='0.01448', symmetry_se='0.01486', fractal_dimension_se='0.005412', radius_worst='17.06', texture_worst='28.14', perimeter_worst='110.6', area_worst='897', smoothness_worst='0.1654', compactness_worst='0.3682', concavity_worst='0.2678', concave_points_worst='0.1556', symmetry_worst='0.3196', fractal_dimension_worst='0.1151'),\n",
              " Row(diagnosis='1', radius_mean='13', texture_mean='21.82', perimeter_mean='87.5', area_mean='519.8', smoothness_mean='0.1273', compactness_mean='0.1932', concavity_mean='0.1859', concave_points_mean='0.09353', symmetry_mean='0.235', fractal_dimension_mean='0.07389', radius_se='0.3063', texture_se='1.002', perimeter_se='2.406', area_se='24.32', smoothness_se='0.005731', compactness_se='0.03502', concavity_se='0.03553', concave_points_se='0.01226', symmetry_se='0.02143', fractal_dimension_se='0.003749', radius_worst='15.49', texture_worst='30.73', perimeter_worst='106.2', area_worst='739.3', smoothness_worst='0.1703', compactness_worst='0.5401', concavity_worst='0.539', concave_points_worst='0.206', symmetry_worst='0.4378', fractal_dimension_worst='0.1072'),\n",
              " Row(diagnosis='1', radius_mean='12.46', texture_mean='24.04', perimeter_mean='83.97', area_mean='475.9', smoothness_mean='0.1186', compactness_mean='0.2396', concavity_mean='0.2273', concave_points_mean='0.08543', symmetry_mean='0.203', fractal_dimension_mean='0.08243', radius_se='0.2976', texture_se='1.599', perimeter_se='2.039', area_se='23.94', smoothness_se='0.007149', compactness_se='0.07217', concavity_se='0.07743', concave_points_se='0.01432', symmetry_se='0.01789', fractal_dimension_se='0.01008', radius_worst='15.09', texture_worst='40.68', perimeter_worst='97.65', area_worst='711.4', smoothness_worst='0.1853', compactness_worst='1.058', concavity_worst='1.105', concave_points_worst='0.221', symmetry_worst='0.4366', fractal_dimension_worst='0.2075'),\n",
              " Row(diagnosis='1', radius_mean='16.02', texture_mean='23.24', perimeter_mean='102.7', area_mean='797.8', smoothness_mean='0.08206', compactness_mean='0.06669', concavity_mean='0.03299', concave_points_mean='0.03323', symmetry_mean='0.1528', fractal_dimension_mean='0.05697', radius_se='0.3795', texture_se='1.187', perimeter_se='2.466', area_se='40.51', smoothness_se='0.004029', compactness_se='0.009269', concavity_se='0.01101', concave_points_se='0.007591', symmetry_se='0.0146', fractal_dimension_se='0.003042', radius_worst='19.19', texture_worst='33.88', perimeter_worst='123.8', area_worst='1150', smoothness_worst='0.1181', compactness_worst='0.1551', concavity_worst='0.1459', concave_points_worst='0.09975', symmetry_worst='0.2948', fractal_dimension_worst='0.08452'),\n",
              " Row(diagnosis='1', radius_mean='15.78', texture_mean='17.89', perimeter_mean='103.6', area_mean='781', smoothness_mean='0.0971', compactness_mean='0.1292', concavity_mean='0.09954', concave_points_mean='0.06606', symmetry_mean='0.1842', fractal_dimension_mean='0.06082', radius_se='0.5058', texture_se='0.9849', perimeter_se='3.564', area_se='54.16', smoothness_se='0.005771', compactness_se='0.04061', concavity_se='0.02791', concave_points_se='0.01282', symmetry_se='0.02008', fractal_dimension_se='0.004144', radius_worst='20.42', texture_worst='27.28', perimeter_worst='136.5', area_worst='1299', smoothness_worst='0.1396', compactness_worst='0.5609', concavity_worst='0.3965', concave_points_worst='0.181', symmetry_worst='0.3792', fractal_dimension_worst='0.1048'),\n",
              " Row(diagnosis='1', radius_mean='16.13', texture_mean='20.68', perimeter_mean='108.1', area_mean='798.8', smoothness_mean='0.117', compactness_mean='0.2022', concavity_mean='0.1722', concave_points_mean='0.1028', symmetry_mean='0.2164', fractal_dimension_mean='0.07356', radius_se='0.5692', texture_se='1.073', perimeter_se='3.854', area_se='54.18', smoothness_se='0.007026', compactness_se='0.02501', concavity_se='0.03188', concave_points_se='0.01297', symmetry_se='0.01689', fractal_dimension_se='0.004142', radius_worst='20.96', texture_worst='31.48', perimeter_worst='136.8', area_worst='1315', smoothness_worst='0.1789', compactness_worst='0.4233', concavity_worst='0.4784', concave_points_worst='0.2073', symmetry_worst='0.3706', fractal_dimension_worst='0.1142'),\n",
              " Row(diagnosis='1', radius_mean='19.81', texture_mean='22.15', perimeter_mean='130', area_mean='1260', smoothness_mean='0.09831', compactness_mean='0.1027', concavity_mean='0.1479', concave_points_mean='0.09498', symmetry_mean='0.1582', fractal_dimension_mean='0.05395', radius_se='0.7582', texture_se='1.017', perimeter_se='5.865', area_se='112.4', smoothness_se='0.006494', compactness_se='0.01893', concavity_se='0.03391', concave_points_se='0.01521', symmetry_se='0.01356', fractal_dimension_se='0.001997', radius_worst='27.32', texture_worst='30.88', perimeter_worst='186.8', area_worst='2398', smoothness_worst='0.1512', compactness_worst='0.315', concavity_worst='0.5372', concave_points_worst='0.2388', symmetry_worst='0.2768', fractal_dimension_worst='0.07615'),\n",
              " Row(diagnosis='0', radius_mean='13.54', texture_mean='14.36', perimeter_mean='87.46', area_mean='566.3', smoothness_mean='0.09779', compactness_mean='0.08129', concavity_mean='0.06664', concave_points_mean='0.04781', symmetry_mean='0.1885', fractal_dimension_mean='0.05766', radius_se='0.2699', texture_se='0.7886', perimeter_se='2.058', area_se='23.56', smoothness_se='0.008462', compactness_se='0.0146', concavity_se='0.02387', concave_points_se='0.01315', symmetry_se='0.0198', fractal_dimension_se='0.0023', radius_worst='15.11', texture_worst='19.26', perimeter_worst='99.7', area_worst='711.2', smoothness_worst='0.144', compactness_worst='0.1773', concavity_worst='0.239', concave_points_worst='0.1288', symmetry_worst='0.2977', fractal_dimension_worst='0.07259'),\n",
              " Row(diagnosis='0', radius_mean='13.08', texture_mean='15.71', perimeter_mean='85.63', area_mean='520', smoothness_mean='0.1075', compactness_mean='0.127', concavity_mean='0.04568', concave_points_mean='0.0311', symmetry_mean='0.1967', fractal_dimension_mean='0.06811', radius_se='0.1852', texture_se='0.7477', perimeter_se='1.383', area_se='14.67', smoothness_se='0.004097', compactness_se='0.01898', concavity_se='0.01698', concave_points_se='0.00649', symmetry_se='0.01678', fractal_dimension_se='0.002425', radius_worst='14.5', texture_worst='20.49', perimeter_worst='96.09', area_worst='630.5', smoothness_worst='0.1312', compactness_worst='0.2776', concavity_worst='0.189', concave_points_worst='0.07283', symmetry_worst='0.3184', fractal_dimension_worst='0.08183'),\n",
              " Row(diagnosis='0', radius_mean='9.504', texture_mean='12.44', perimeter_mean='60.34', area_mean='273.9', smoothness_mean='0.1024', compactness_mean='0.06492', concavity_mean='0.02956', concave_points_mean='0.02076', symmetry_mean='0.1815', fractal_dimension_mean='0.06905', radius_se='0.2773', texture_se='0.9768', perimeter_se='1.909', area_se='15.7', smoothness_se='0.009606', compactness_se='0.01432', concavity_se='0.01985', concave_points_se='0.01421', symmetry_se='0.02027', fractal_dimension_se='0.002968', radius_worst='10.23', texture_worst='15.66', perimeter_worst='65.13', area_worst='314.9', smoothness_worst='0.1324', compactness_worst='0.1148', concavity_worst='0.08867', concave_points_worst='0.06227', symmetry_worst='0.245', fractal_dimension_worst='0.07773'),\n",
              " Row(diagnosis='1', radius_mean='18.61', texture_mean='20.25', perimeter_mean='122.1', area_mean='1094', smoothness_mean='0.0944', compactness_mean='0.1066', concavity_mean='0.149', concave_points_mean='0.07731', symmetry_mean='0.1697', fractal_dimension_mean='0.05699', radius_se='0.8529', texture_se='1.849', perimeter_se='5.632', area_se='93.54', smoothness_se='0.01075', compactness_se='0.02722', concavity_se='0.05081', concave_points_se='0.01911', symmetry_se='0.02293', fractal_dimension_se='0.004217', radius_worst='21.31', texture_worst='27.26', perimeter_worst='139.9', area_worst='1403', smoothness_worst='0.1338', compactness_worst='0.2117', concavity_worst='0.3446', concave_points_worst='0.149', symmetry_worst='0.2341', fractal_dimension_worst='0.07421'),\n",
              " Row(diagnosis='1', radius_mean='17.57', texture_mean='15.05', perimeter_mean='115', area_mean='955.1', smoothness_mean='0.09847', compactness_mean='0.1157', concavity_mean='0.09875', concave_points_mean='0.07953', symmetry_mean='0.1739', fractal_dimension_mean='0.06149', radius_se='0.6003', texture_se='0.8225', perimeter_se='4.655', area_se='61.1', smoothness_se='0.005627', compactness_se='0.03033', concavity_se='0.03407', concave_points_se='0.01354', symmetry_se='0.01925', fractal_dimension_se='0.003742', radius_worst='20.01', texture_worst='19.52', perimeter_worst='134.9', area_worst='1227', smoothness_worst='0.1255', compactness_worst='0.2812', concavity_worst='0.2489', concave_points_worst='0.1456', symmetry_worst='0.2756', fractal_dimension_worst='0.07919'),\n",
              " Row(diagnosis='1', radius_mean='19.27', texture_mean='26.47', perimeter_mean='127.9', area_mean='1162', smoothness_mean='0.09401', compactness_mean='0.1719', concavity_mean='0.1657', concave_points_mean='0.07593', symmetry_mean='0.1853', fractal_dimension_mean='0.06261', radius_se='0.5558', texture_se='0.6062', perimeter_se='3.528', area_se='68.17', smoothness_se='0.005015', compactness_se='0.03318', concavity_se='0.03497', concave_points_se='0.009643', symmetry_se='0.01543', fractal_dimension_se='0.003896', radius_worst='24.15', texture_worst='30.9', perimeter_worst='161.4', area_worst='1813', smoothness_worst='0.1509', compactness_worst='0.659', concavity_worst='0.6091', concave_points_worst='0.1785', symmetry_worst='0.3672', fractal_dimension_worst='0.1123'),\n",
              " Row(diagnosis='1', radius_mean='14.25', texture_mean='21.72', perimeter_mean='93.63', area_mean='633', smoothness_mean='0.09823', compactness_mean='0.1098', concavity_mean='0.1319', concave_points_mean='0.05598', symmetry_mean='0.1885', fractal_dimension_mean='0.06125', radius_se='0.286', texture_se='1.019', perimeter_se='2.657', area_se='24.91', smoothness_se='0.005878', compactness_se='0.02995', concavity_se='0.04815', concave_points_se='0.01161', symmetry_se='0.02028', fractal_dimension_se='0.004022', radius_worst='15.89', texture_worst='30.36', perimeter_worst='116.2', area_worst='799.6', smoothness_worst='0.1446', compactness_worst='0.4238', concavity_worst='0.5186', concave_points_worst='0.1447', symmetry_worst='0.3591', fractal_dimension_worst='0.1014'),\n",
              " Row(diagnosis='0', radius_mean='13.03', texture_mean='18.42', perimeter_mean='82.61', area_mean='523.8', smoothness_mean='0.08983', compactness_mean='0.03766', concavity_mean='0.02562', concave_points_mean='0.02923', symmetry_mean='0.1467', fractal_dimension_mean='0.05863', radius_se='0.1839', texture_se='2.342', perimeter_se='1.17', area_se='14.16', smoothness_se='0.004352', compactness_se='0.004899', concavity_se='0.01343', concave_points_se='0.01164', symmetry_se='0.02671', fractal_dimension_se='0.001777', radius_worst='13.3', texture_worst='22.81', perimeter_worst='84.46', area_worst='545.9', smoothness_worst='0.09701', compactness_worst='0.04619', concavity_worst='0.04833', concave_points_worst='0.05013', symmetry_worst='0.1987', fractal_dimension_worst='0.06169'),\n",
              " Row(diagnosis='1', radius_mean='13.48', texture_mean='20.82', perimeter_mean='88.4', area_mean='559.2', smoothness_mean='0.1016', compactness_mean='0.1255', concavity_mean='0.1063', concave_points_mean='0.05439', symmetry_mean='0.172', fractal_dimension_mean='0.06419', radius_se='0.213', texture_se='0.5914', perimeter_se='1.545', area_se='18.52', smoothness_se='0.005367', compactness_se='0.02239', concavity_se='0.03049', concave_points_se='0.01262', symmetry_se='0.01377', fractal_dimension_se='0.003187', radius_worst='15.53', texture_worst='26.02', perimeter_worst='107.3', area_worst='740.4', smoothness_worst='0.161', compactness_worst='0.4225', concavity_worst='0.503', concave_points_worst='0.2258', symmetry_worst='0.2807', fractal_dimension_worst='0.1071'),\n",
              " Row(diagnosis='1', radius_mean='13.28', texture_mean='20.28', perimeter_mean='87.32', area_mean='545.2', smoothness_mean='0.1041', compactness_mean='0.1436', concavity_mean='0.09847', concave_points_mean='0.06158', symmetry_mean='0.1974', fractal_dimension_mean='0.06782', radius_se='0.3704', texture_se='0.8249', perimeter_se='2.427', area_se='31.33', smoothness_se='0.005072', compactness_se='0.02147', concavity_se='0.02185', concave_points_se='0.00956', symmetry_se='0.01719', fractal_dimension_se='0.003317', radius_worst='17.38', texture_worst='28', perimeter_worst='113.1', area_worst='907.2', smoothness_worst='0.153', compactness_worst='0.3724', concavity_worst='0.3664', concave_points_worst='0.1492', symmetry_worst='0.3739', fractal_dimension_worst='0.1027'),\n",
              " Row(diagnosis='1', radius_mean='13.17', texture_mean='21.81', perimeter_mean='85.42', area_mean='531.5', smoothness_mean='0.09714', compactness_mean='0.1047', concavity_mean='0.08259', concave_points_mean='0.05252', symmetry_mean='0.1746', fractal_dimension_mean='0.06177', radius_se='0.1938', texture_se='0.6123', perimeter_se='1.334', area_se='14.49', smoothness_se='0.00335', compactness_se='0.01384', concavity_se='0.01452', concave_points_se='0.006853', symmetry_se='0.01113', fractal_dimension_se='0.00172', radius_worst='16.23', texture_worst='29.89', perimeter_worst='105.5', area_worst='740.7', smoothness_worst='0.1503', compactness_worst='0.3904', concavity_worst='0.3728', concave_points_worst='0.1607', symmetry_worst='0.3693', fractal_dimension_worst='0.09618'),\n",
              " Row(diagnosis='0', radius_mean='13.49', texture_mean='22.3', perimeter_mean='86.91', area_mean='561', smoothness_mean='0.08752', compactness_mean='0.07698', concavity_mean='0.04751', concave_points_mean='0.03384', symmetry_mean='0.1809', fractal_dimension_mean='0.05718', radius_se='0.2338', texture_se='1.353', perimeter_se='1.735', area_se='20.2', smoothness_se='0.004455', compactness_se='0.01382', concavity_se='0.02095', concave_points_se='0.01184', symmetry_se='0.01641', fractal_dimension_se='0.001956', radius_worst='15.15', texture_worst='31.82', perimeter_worst='99', area_worst='698.8', smoothness_worst='0.1162', compactness_worst='0.1711', concavity_worst='0.2282', concave_points_worst='0.1282', symmetry_worst='0.2871', fractal_dimension_worst='0.06917'),\n",
              " Row(diagnosis='0', radius_mean='11.76', texture_mean='21.6', perimeter_mean='74.72', area_mean='427.9', smoothness_mean='0.08637', compactness_mean='0.04966', concavity_mean='0.01657', concave_points_mean='0.01115', symmetry_mean='0.1495', fractal_dimension_mean='0.05888', radius_se='0.4062', texture_se='1.21', perimeter_se='2.635', area_se='28.47', smoothness_se='0.005857', compactness_se='0.009758', concavity_se='0.01168', concave_points_se='0.007445', symmetry_se='0.02406', fractal_dimension_se='0.001769', radius_worst='12.98', texture_worst='25.72', perimeter_worst='82.98', area_worst='516.5', smoothness_worst='0.1085', compactness_worst='0.08615', concavity_worst='0.05523', concave_points_worst='0.03715', symmetry_worst='0.2433', fractal_dimension_worst='0.06563'),\n",
              " Row(diagnosis='1', radius_mean='15.1', texture_mean='22.02', perimeter_mean='97.26', area_mean='712.8', smoothness_mean='0.09056', compactness_mean='0.07081', concavity_mean='0.05253', concave_points_mean='0.03334', symmetry_mean='0.1616', fractal_dimension_mean='0.05684', radius_se='0.3105', texture_se='0.8339', perimeter_se='2.097', area_se='29.91', smoothness_se='0.004675', compactness_se='0.0103', concavity_se='0.01603', concave_points_se='0.009222', symmetry_se='0.01095', fractal_dimension_se='0.001629', radius_worst='18.1', texture_worst='31.69', perimeter_worst='117.7', area_worst='1030', smoothness_worst='0.1389', compactness_worst='0.2057', concavity_worst='0.2712', concave_points_worst='0.153', symmetry_worst='0.2675', fractal_dimension_worst='0.07873'),\n",
              " Row(diagnosis='1', radius_mean='19.21', texture_mean='18.57', perimeter_mean='125.5', area_mean='1152', smoothness_mean='0.1053', compactness_mean='0.1267', concavity_mean='0.1323', concave_points_mean='0.08994', symmetry_mean='0.1917', fractal_dimension_mean='0.05961', radius_se='0.7275', texture_se='1.193', perimeter_se='4.837', area_se='102.5', smoothness_se='0.006458', compactness_se='0.02306', concavity_se='0.02945', concave_points_se='0.01538', symmetry_se='0.01852', fractal_dimension_se='0.002608', radius_worst='26.14', texture_worst='28.14', perimeter_worst='170.1', area_worst='2145', smoothness_worst='0.1624', compactness_worst='0.3511', concavity_worst='0.3879', concave_points_worst='0.2091', symmetry_worst='0.3537', fractal_dimension_worst='0.08294'),\n",
              " Row(diagnosis='1', radius_mean='14.71', texture_mean='21.59', perimeter_mean='95.55', area_mean='656.9', smoothness_mean='0.1137', compactness_mean='0.1365', concavity_mean='0.1293', concave_points_mean='0.08123', symmetry_mean='0.2027', fractal_dimension_mean='0.06758', radius_se='0.4226', texture_se='1.15', perimeter_se='2.735', area_se='40.09', smoothness_se='0.003659', compactness_se='0.02855', concavity_se='0.02572', concave_points_se='0.01272', symmetry_se='0.01817', fractal_dimension_se='0.004108', radius_worst='17.87', texture_worst='30.7', perimeter_worst='115.7', area_worst='985.5', smoothness_worst='0.1368', compactness_worst='0.429', concavity_worst='0.3587', concave_points_worst='0.1834', symmetry_worst='0.3698', fractal_dimension_worst='0.1094'),\n",
              " Row(diagnosis='0', radius_mean='13.05', texture_mean='19.31', perimeter_mean='82.61', area_mean='527.2', smoothness_mean='0.0806', compactness_mean='0.03789', concavity_mean='0.000692', concave_points_mean='0.004167', symmetry_mean='0.1819', fractal_dimension_mean='0.05501', radius_se='0.404', texture_se='1.214', perimeter_se='2.595', area_se='32.96', smoothness_se='0.007491', compactness_se='0.008593', concavity_se='0.000692', concave_points_se='0.004167', symmetry_se='0.0219', fractal_dimension_se='0.00299', radius_worst='14.23', texture_worst='22.25', perimeter_worst='90.24', area_worst='624.1', smoothness_worst='0.1021', compactness_worst='0.06191', concavity_worst='0.001845', concave_points_worst='0.01111', symmetry_worst='0.2439', fractal_dimension_worst='0.06289'),\n",
              " Row(diagnosis='0', radius_mean='8.618', texture_mean='11.79', perimeter_mean='54.34', area_mean='224.5', smoothness_mean='0.09752', compactness_mean='0.05272', concavity_mean='0.02061', concave_points_mean='0.007799', symmetry_mean='0.1683', fractal_dimension_mean='0.07187', radius_se='0.1559', texture_se='0.5796', perimeter_se='1.046', area_se='8.322', smoothness_se='0.01011', compactness_se='0.01055', concavity_se='0.01981', concave_points_se='0.005742', symmetry_se='0.0209', fractal_dimension_se='0.002788', radius_worst='9.507', texture_worst='15.4', perimeter_worst='59.9', area_worst='274.9', smoothness_worst='0.1733', compactness_worst='0.1239', concavity_worst='0.1168', concave_points_worst='0.04419', symmetry_worst='0.322', fractal_dimension_worst='0.09026'),\n",
              " Row(diagnosis='1', radius_mean='12.68', texture_mean='23.84', perimeter_mean='82.69', area_mean='499', smoothness_mean='0.1122', compactness_mean='0.1262', concavity_mean='0.1128', concave_points_mean='0.06873', symmetry_mean='0.1905', fractal_dimension_mean='0.0659', radius_se='0.4255', texture_se='1.178', perimeter_se='2.927', area_se='36.46', smoothness_se='0.007781', compactness_se='0.02648', concavity_se='0.02973', concave_points_se='0.0129', symmetry_se='0.01635', fractal_dimension_se='0.003601', radius_worst='17.09', texture_worst='33.47', perimeter_worst='111.8', area_worst='888.3', smoothness_worst='0.1851', compactness_worst='0.4061', concavity_worst='0.4024', concave_points_worst='0.1716', symmetry_worst='0.3383', fractal_dimension_worst='0.1031'),\n",
              " Row(diagnosis='0', radius_mean='9.029', texture_mean='17.33', perimeter_mean='58.79', area_mean='250.5', smoothness_mean='0.1066', compactness_mean='0.1413', concavity_mean='0.313', concave_points_mean='0.04375', symmetry_mean='0.2111', fractal_dimension_mean='0.08046', radius_se='0.3274', texture_se='1.194', perimeter_se='1.885', area_se='17.67', smoothness_se='0.009549', compactness_se='0.08606', concavity_se='0.3038', concave_points_se='0.03322', symmetry_se='0.04197', fractal_dimension_se='0.009559', radius_worst='10.31', texture_worst='22.65', perimeter_worst='65.5', area_worst='324.7', smoothness_worst='0.1482', compactness_worst='0.4365', concavity_worst='1.252', concave_points_worst='0.175', symmetry_worst='0.4228', fractal_dimension_worst='0.1175'),\n",
              " Row(diagnosis='0', radius_mean='12.78', texture_mean='16.49', perimeter_mean='81.37', area_mean='502.5', smoothness_mean='0.09831', compactness_mean='0.05234', concavity_mean='0.03653', concave_points_mean='0.02864', symmetry_mean='0.159', fractal_dimension_mean='0.05653', radius_se='0.2368', texture_se='0.8732', perimeter_se='1.471', area_se='18.33', smoothness_se='0.007962', compactness_se='0.005612', concavity_se='0.01585', concave_points_se='0.008662', symmetry_se='0.02254', fractal_dimension_se='0.001906', radius_worst='13.46', texture_worst='19.76', perimeter_worst='85.67', area_worst='554.9', smoothness_worst='0.1296', compactness_worst='0.07061', concavity_worst='0.1039', concave_points_worst='0.05882', symmetry_worst='0.2383', fractal_dimension_worst='0.0641'),\n",
              " Row(diagnosis='1', radius_mean='18.94', texture_mean='21.31', perimeter_mean='123.6', area_mean='1130', smoothness_mean='0.09009', compactness_mean='0.1029', concavity_mean='0.108', concave_points_mean='0.07951', symmetry_mean='0.1582', fractal_dimension_mean='0.05461', radius_se='0.7888', texture_se='0.7975', perimeter_se='5.486', area_se='96.05', smoothness_se='0.004444', compactness_se='0.01652', concavity_se='0.02269', concave_points_se='0.0137', symmetry_se='0.01386', fractal_dimension_se='0.001698', radius_worst='24.86', texture_worst='26.58', perimeter_worst='165.9', area_worst='1866', smoothness_worst='0.1193', compactness_worst='0.2336', concavity_worst='0.2687', concave_points_worst='0.1789', symmetry_worst='0.2551', fractal_dimension_worst='0.06589'),\n",
              " Row(diagnosis='0', radius_mean='8.888', texture_mean='14.64', perimeter_mean='58.79', area_mean='244', smoothness_mean='0.09783', compactness_mean='0.1531', concavity_mean='0.08606', concave_points_mean='0.02872', symmetry_mean='0.1902', fractal_dimension_mean='0.0898', radius_se='0.5262', texture_se='0.8522', perimeter_se='3.168', area_se='25.44', smoothness_se='0.01721', compactness_se='0.09368', concavity_se='0.05671', concave_points_se='0.01766', symmetry_se='0.02541', fractal_dimension_se='0.02193', radius_worst='9.733', texture_worst='15.67', perimeter_worst='62.56', area_worst='284.4', smoothness_worst='0.1207', compactness_worst='0.2436', concavity_worst='0.1434', concave_points_worst='0.04786', symmetry_worst='0.2254', fractal_dimension_worst='0.1084'),\n",
              " Row(diagnosis='1', radius_mean='17.2', texture_mean='24.52', perimeter_mean='114.2', area_mean='929.4', smoothness_mean='0.1071', compactness_mean='0.183', concavity_mean='0.1692', concave_points_mean='0.07944', symmetry_mean='0.1927', fractal_dimension_mean='0.06487', radius_se='0.5907', texture_se='1.041', perimeter_se='3.705', area_se='69.47', smoothness_se='0.00582', compactness_se='0.05616', concavity_se='0.04252', concave_points_se='0.01127', symmetry_se='0.01527', fractal_dimension_se='0.006299', radius_worst='23.32', texture_worst='33.82', perimeter_worst='151.6', area_worst='1681', smoothness_worst='0.1585', compactness_worst='0.7394', concavity_worst='0.6566', concave_points_worst='0.1899', symmetry_worst='0.3313', fractal_dimension_worst='0.1339'),\n",
              " Row(diagnosis='0', radius_mean='12.31', texture_mean='16.52', perimeter_mean='79.19', area_mean='470.9', smoothness_mean='0.09172', compactness_mean='0.06829', concavity_mean='0.03372', concave_points_mean='0.02272', symmetry_mean='0.172', fractal_dimension_mean='0.05914', radius_se='0.2505', texture_se='1.025', perimeter_se='1.74', area_se='19.68', smoothness_se='0.004854', compactness_se='0.01819', concavity_se='0.01826', concave_points_se='0.007965', symmetry_se='0.01386', fractal_dimension_se='0.002304', radius_worst='14.11', texture_worst='23.21', perimeter_worst='89.71', area_worst='611.1', smoothness_worst='0.1176', compactness_worst='0.1843', concavity_worst='0.1703', concave_points_worst='0.0866', symmetry_worst='0.2618', fractal_dimension_worst='0.07609'),\n",
              " Row(diagnosis='1', radius_mean='18.05', texture_mean='16.15', perimeter_mean='120.2', area_mean='1006', smoothness_mean='0.1065', compactness_mean='0.2146', concavity_mean='0.1684', concave_points_mean='0.108', symmetry_mean='0.2152', fractal_dimension_mean='0.06673', radius_se='0.9806', texture_se='0.5505', perimeter_se='6.311', area_se='134.8', smoothness_se='0.00794', compactness_se='0.05839', concavity_se='0.04658', concave_points_se='0.0207', symmetry_se='0.02591', fractal_dimension_se='0.007054', radius_worst='22.39', texture_worst='18.91', perimeter_worst='150.1', area_worst='1610', smoothness_worst='0.1478', compactness_worst='0.5634', concavity_worst='0.3786', concave_points_worst='0.2102', symmetry_worst='0.3751', fractal_dimension_worst='0.1108'),\n",
              " Row(diagnosis='0', radius_mean='11.45', texture_mean='20.97', perimeter_mean='73.81', area_mean='401.5', smoothness_mean='0.1102', compactness_mean='0.09362', concavity_mean='0.04591', concave_points_mean='0.02233', symmetry_mean='0.1842', fractal_dimension_mean='0.07005', radius_se='0.3251', texture_se='2.174', perimeter_se='2.077', area_se='24.62', smoothness_se='0.01037', compactness_se='0.01706', concavity_se='0.02586', concave_points_se='0.007506', symmetry_se='0.01816', fractal_dimension_se='0.003976', radius_worst='13.11', texture_worst='32.16', perimeter_worst='84.53', area_worst='525.1', smoothness_worst='0.1557', compactness_worst='0.1676', concavity_worst='0.1755', concave_points_worst='0.06127', symmetry_worst='0.2762', fractal_dimension_worst='0.08851'),\n",
              " Row(diagnosis='0', radius_mean='13.34', texture_mean='15.86', perimeter_mean='86.49', area_mean='520', smoothness_mean='0.1078', compactness_mean='0.1535', concavity_mean='0.1169', concave_points_mean='0.06987', symmetry_mean='0.1942', fractal_dimension_mean='0.06902', radius_se='0.286', texture_se='1.016', perimeter_se='1.535', area_se='12.96', smoothness_se='0.006794', compactness_se='0.03575', concavity_se='0.0398', concave_points_se='0.01383', symmetry_se='0.02134', fractal_dimension_se='0.004603', radius_worst='15.53', texture_worst='23.19', perimeter_worst='96.66', area_worst='614.9', smoothness_worst='0.1536', compactness_worst='0.4791', concavity_worst='0.4858', concave_points_worst='0.1708', symmetry_worst='0.3527', fractal_dimension_worst='0.1016'),\n",
              " Row(diagnosis='1', radius_mean='14.48', texture_mean='21.46', perimeter_mean='94.25', area_mean='648.2', smoothness_mean='0.09444', compactness_mean='0.09947', concavity_mean='0.1204', concave_points_mean='0.04938', symmetry_mean='0.2075', fractal_dimension_mean='0.05636', radius_se='0.4204', texture_se='2.22', perimeter_se='3.301', area_se='38.87', smoothness_se='0.009369', compactness_se='0.02983', concavity_se='0.05371', concave_points_se='0.01761', symmetry_se='0.02418', fractal_dimension_se='0.003249', radius_worst='16.21', texture_worst='29.25', perimeter_worst='108.4', area_worst='808.9', smoothness_worst='0.1306', compactness_worst='0.1976', concavity_worst='0.3349', concave_points_worst='0.1225', symmetry_worst='0.302', fractal_dimension_worst='0.06846'),\n",
              " Row(diagnosis='1', radius_mean='19.02', texture_mean='24.59', perimeter_mean='122', area_mean='1076', smoothness_mean='0.09029', compactness_mean='0.1206', concavity_mean='0.1468', concave_points_mean='0.08271', symmetry_mean='0.1953', fractal_dimension_mean='0.05629', radius_se='0.5495', texture_se='0.6636', perimeter_se='3.055', area_se='57.65', smoothness_se='0.003872', compactness_se='0.01842', concavity_se='0.0371', concave_points_se='0.012', symmetry_se='0.01964', fractal_dimension_se='0.003337', radius_worst='24.56', texture_worst='30.41', perimeter_worst='152.9', area_worst='1623', smoothness_worst='0.1249', compactness_worst='0.3206', concavity_worst='0.5755', concave_points_worst='0.1956', symmetry_worst='0.3956', fractal_dimension_worst='0.09288'),\n",
              " Row(diagnosis='0', radius_mean='14.62', texture_mean='24.02', perimeter_mean='94.57', area_mean='662.7', smoothness_mean='0.08974', compactness_mean='0.08606', concavity_mean='0.03102', concave_points_mean='0.02957', symmetry_mean='0.1685', fractal_dimension_mean='0.05866', radius_se='0.3721', texture_se='1.111', perimeter_se='2.279', area_se='33.76', smoothness_se='0.004868', compactness_se='0.01818', concavity_se='0.01121', concave_points_se='0.008606', symmetry_se='0.02085', fractal_dimension_se='0.002893', radius_worst='16.11', texture_worst='29.11', perimeter_worst='102.9', area_worst='803.7', smoothness_worst='0.1115', compactness_worst='0.1766', concavity_worst='0.09189', concave_points_worst='0.06946', symmetry_worst='0.2522', fractal_dimension_worst='0.07246'),\n",
              " Row(diagnosis='0', radius_mean='13.45', texture_mean='18.3', perimeter_mean='86.6', area_mean='555.1', smoothness_mean='0.1022', compactness_mean='0.08165', concavity_mean='0.03974', concave_points_mean='0.0278', symmetry_mean='0.1638', fractal_dimension_mean='0.0571', radius_se='0.295', texture_se='1.373', perimeter_se='2.099', area_se='25.22', smoothness_se='0.005884', compactness_se='0.01491', concavity_se='0.01872', concave_points_se='0.009366', symmetry_se='0.01884', fractal_dimension_se='0.001817', radius_worst='15.1', texture_worst='25.94', perimeter_worst='97.59', area_worst='699.4', smoothness_worst='0.1339', compactness_worst='0.1751', concavity_worst='0.1381', concave_points_worst='0.07911', symmetry_worst='0.2678', fractal_dimension_worst='0.06603'),\n",
              " Row(diagnosis='1', radius_mean='15.06', texture_mean='19.83', perimeter_mean='100.3', area_mean='705.6', smoothness_mean='0.1039', compactness_mean='0.1553', concavity_mean='0.17', concave_points_mean='0.08815', symmetry_mean='0.1855', fractal_dimension_mean='0.06284', radius_se='0.4768', texture_se='0.9644', perimeter_se='3.706', area_se='47.14', smoothness_se='0.00925', compactness_se='0.03715', concavity_se='0.04867', concave_points_se='0.01851', symmetry_se='0.01498', fractal_dimension_se='0.00352', radius_worst='18.23', texture_worst='24.23', perimeter_worst='123.5', area_worst='1025', smoothness_worst='0.1551', compactness_worst='0.4203', concavity_worst='0.5203', concave_points_worst='0.2115', symmetry_worst='0.2834', fractal_dimension_worst='0.08234'),\n",
              " Row(diagnosis='1', radius_mean='20.26', texture_mean='23.03', perimeter_mean='132.4', area_mean='1264', smoothness_mean='0.09078', compactness_mean='0.1313', concavity_mean='0.1465', concave_points_mean='0.08683', symmetry_mean='0.2095', fractal_dimension_mean='0.05649', radius_se='0.7576', texture_se='1.509', perimeter_se='4.554', area_se='87.87', smoothness_se='0.006016', compactness_se='0.03482', concavity_se='0.04232', concave_points_se='0.01269', symmetry_se='0.02657', fractal_dimension_se='0.004411', radius_worst='24.22', texture_worst='31.59', perimeter_worst='156.1', area_worst='1750', smoothness_worst='0.119', compactness_worst='0.3539', concavity_worst='0.4098', concave_points_worst='0.1573', symmetry_worst='0.3689', fractal_dimension_worst='0.08368'),\n",
              " Row(diagnosis='0', radius_mean='9.787', texture_mean='19.94', perimeter_mean='62.11', area_mean='294.5', smoothness_mean='0.1024', compactness_mean='0.05301', concavity_mean='0.006829', concave_points_mean='0.007937', symmetry_mean='0.135', fractal_dimension_mean='0.0689', radius_se='0.335', texture_se='2.043', perimeter_se='2.132', area_se='20.05', smoothness_se='0.01113', compactness_se='0.01463', concavity_se='0.005308', concave_points_se='0.00525', symmetry_se='0.01801', fractal_dimension_se='0.005667', radius_worst='10.92', texture_worst='26.29', perimeter_worst='68.81', area_worst='366.1', smoothness_worst='0.1316', compactness_worst='0.09473', concavity_worst='0.02049', concave_points_worst='0.02381', symmetry_worst='0.1934', fractal_dimension_worst='0.08988'),\n",
              " Row(diagnosis='1', radius_mean='14.42', texture_mean='19.77', perimeter_mean='94.48', area_mean='642.5', smoothness_mean='0.09752', compactness_mean='0.1141', concavity_mean='0.09388', concave_points_mean='0.05839', symmetry_mean='0.1879', fractal_dimension_mean='0.0639', radius_se='0.2895', texture_se='1.851', perimeter_se='2.376', area_se='26.85', smoothness_se='0.008005', compactness_se='0.02895', concavity_se='0.03321', concave_points_se='0.01424', symmetry_se='0.01462', fractal_dimension_se='0.004452', radius_worst='16.33', texture_worst='30.86', perimeter_worst='109.5', area_worst='826.4', smoothness_worst='0.1431', compactness_worst='0.3026', concavity_worst='0.3194', concave_points_worst='0.1565', symmetry_worst='0.2718', fractal_dimension_worst='0.09353'),\n",
              " Row(diagnosis='0', radius_mean='6.981', texture_mean='13.43', perimeter_mean='43.79', area_mean='143.5', smoothness_mean='0.117', compactness_mean='0.07568', concavity_mean='0', concave_points_mean='0', symmetry_mean='0.193', fractal_dimension_mean='0.07818', radius_se='0.2241', texture_se='1.508', perimeter_se='1.553', area_se='9.833', smoothness_se='0.01019', compactness_se='0.01084', concavity_se='0', concave_points_se='0', symmetry_se='0.02659', fractal_dimension_se='0.0041', radius_worst='7.93', texture_worst='19.54', perimeter_worst='50.41', area_worst='185.2', smoothness_worst='0.1584', compactness_worst='0.1202', concavity_worst='0', concave_points_worst='0', symmetry_worst='0.2932', fractal_dimension_worst='0.09382'),\n",
              " Row(diagnosis='0', radius_mean='10.49', texture_mean='19.29', perimeter_mean='67.41', area_mean='336.1', smoothness_mean='0.09989', compactness_mean='0.08578', concavity_mean='0.02995', concave_points_mean='0.01201', symmetry_mean='0.2217', fractal_dimension_mean='0.06481', radius_se='0.355', texture_se='1.534', perimeter_se='2.302', area_se='23.13', smoothness_se='0.007595', compactness_se='0.02219', concavity_se='0.0288', concave_points_se='0.008614', symmetry_se='0.0271', fractal_dimension_se='0.003451', radius_worst='11.54', texture_worst='23.31', perimeter_worst='74.22', area_worst='402.8', smoothness_worst='0.1219', compactness_worst='0.1486', concavity_worst='0.07987', concave_points_worst='0.03203', symmetry_worst='0.2826', fractal_dimension_worst='0.07552'),\n",
              " Row(diagnosis='0', radius_mean='11.64', texture_mean='18.33', perimeter_mean='75.17', area_mean='412.5', smoothness_mean='0.1142', compactness_mean='0.1017', concavity_mean='0.0707', concave_points_mean='0.03485', symmetry_mean='0.1801', fractal_dimension_mean='0.0652', radius_se='0.306', texture_se='1.657', perimeter_se='2.155', area_se='20.62', smoothness_se='0.00854', compactness_se='0.0231', concavity_se='0.02945', concave_points_se='0.01398', symmetry_se='0.01565', fractal_dimension_se='0.00384', radius_worst='13.14', texture_worst='29.26', perimeter_worst='85.51', area_worst='521.7', smoothness_worst='0.1688', compactness_worst='0.266', concavity_worst='0.2873', concave_points_worst='0.1218', symmetry_worst='0.2806', fractal_dimension_worst='0.09097'),\n",
              " Row(diagnosis='0', radius_mean='12.63', texture_mean='20.76', perimeter_mean='82.15', area_mean='480.4', smoothness_mean='0.09933', compactness_mean='0.1209', concavity_mean='0.1065', concave_points_mean='0.06021', symmetry_mean='0.1735', fractal_dimension_mean='0.0707', radius_se='0.3424', texture_se='1.803', perimeter_se='2.711', area_se='20.48', smoothness_se='0.01291', compactness_se='0.04042', concavity_se='0.05101', concave_points_se='0.02295', symmetry_se='0.02144', fractal_dimension_se='0.005891', radius_worst='13.33', texture_worst='25.47', perimeter_worst='89', area_worst='527.4', smoothness_worst='0.1287', compactness_worst='0.225', concavity_worst='0.2216', concave_points_worst='0.1105', symmetry_worst='0.2226', fractal_dimension_worst='0.08486'),\n",
              " Row(diagnosis='0', radius_mean='14.26', texture_mean='19.65', perimeter_mean='97.83', area_mean='629.9', smoothness_mean='0.07837', compactness_mean='0.2233', concavity_mean='0.3003', concave_points_mean='0.07798', symmetry_mean='0.1704', fractal_dimension_mean='0.07769', radius_se='0.3628', texture_se='1.49', perimeter_se='3.399', area_se='29.25', smoothness_se='0.005298', compactness_se='0.07446', concavity_se='0.1435', concave_points_se='0.02292', symmetry_se='0.02566', fractal_dimension_se='0.01298', radius_worst='15.3', texture_worst='23.73', perimeter_worst='107', area_worst='709', smoothness_worst='0.08949', compactness_worst='0.4193', concavity_worst='0.6783', concave_points_worst='0.1505', symmetry_worst='0.2398', fractal_dimension_worst='0.1082'),\n",
              " Row(diagnosis='0', radius_mean='11.93', texture_mean='21.53', perimeter_mean='76.53', area_mean='438.6', smoothness_mean='0.09768', compactness_mean='0.07849', concavity_mean='0.03328', concave_points_mean='0.02008', symmetry_mean='0.1688', fractal_dimension_mean='0.06194', radius_se='0.3118', texture_se='0.9227', perimeter_se='2', area_se='24.79', smoothness_se='0.007803', compactness_se='0.02507', concavity_se='0.01835', concave_points_se='0.007711', symmetry_se='0.01278', fractal_dimension_se='0.003856', radius_worst='13.67', texture_worst='26.15', perimeter_worst='87.54', area_worst='583', smoothness_worst='0.15', compactness_worst='0.2399', concavity_worst='0.1503', concave_points_worst='0.07247', symmetry_worst='0.2438', fractal_dimension_worst='0.08541'),\n",
              " Row(diagnosis='1', radius_mean='14.87', texture_mean='16.67', perimeter_mean='98.64', area_mean='682.5', smoothness_mean='0.1162', compactness_mean='0.1649', concavity_mean='0.169', concave_points_mean='0.08923', symmetry_mean='0.2157', fractal_dimension_mean='0.06768', radius_se='0.4266', texture_se='0.9489', perimeter_se='2.989', area_se='41.18', smoothness_se='0.006985', compactness_se='0.02563', concavity_se='0.03011', concave_points_se='0.01271', symmetry_se='0.01602', fractal_dimension_se='0.003884', radius_worst='18.81', texture_worst='27.37', perimeter_worst='127.1', area_worst='1095', smoothness_worst='0.1878', compactness_worst='0.448', concavity_worst='0.4704', concave_points_worst='0.2027', symmetry_worst='0.3585', fractal_dimension_worst='0.1065'),\n",
              " Row(diagnosis='1', radius_mean='15.78', texture_mean='22.91', perimeter_mean='105.7', area_mean='782.6', smoothness_mean='0.1155', compactness_mean='0.1752', concavity_mean='0.2133', concave_points_mean='0.09479', symmetry_mean='0.2096', fractal_dimension_mean='0.07331', radius_se='0.552', texture_se='1.072', perimeter_se='3.598', area_se='58.63', smoothness_se='0.008699', compactness_se='0.03976', concavity_se='0.0595', concave_points_se='0.0139', symmetry_se='0.01495', fractal_dimension_se='0.005984', radius_worst='20.19', texture_worst='30.5', perimeter_worst='130.3', area_worst='1272', smoothness_worst='0.1855', compactness_worst='0.4925', concavity_worst='0.7356', concave_points_worst='0.2034', symmetry_worst='0.3274', fractal_dimension_worst='0.1252'),\n",
              " Row(diagnosis='1', radius_mean='18.66', texture_mean='17.12', perimeter_mean='121.4', area_mean='1077', smoothness_mean='0.1054', compactness_mean='0.11', concavity_mean='0.1457', concave_points_mean='0.08665', symmetry_mean='0.1966', fractal_dimension_mean='0.06213', radius_se='0.7128', texture_se='1.581', perimeter_se='4.895', area_se='90.47', smoothness_se='0.008102', compactness_se='0.02101', concavity_se='0.03342', concave_points_se='0.01601', symmetry_se='0.02045', fractal_dimension_se='0.00457', radius_worst='22.25', texture_worst='24.9', perimeter_worst='145.4', area_worst='1549', smoothness_worst='0.1503', compactness_worst='0.2291', concavity_worst='0.3272', concave_points_worst='0.1674', symmetry_worst='0.2894', fractal_dimension_worst='0.08456'),\n",
              " Row(diagnosis='1', radius_mean='24.25', texture_mean='20.2', perimeter_mean='166.2', area_mean='1761', smoothness_mean='0.1447', compactness_mean='0.2867', concavity_mean='0.4268', concave_points_mean='0.2012', symmetry_mean='0.2655', fractal_dimension_mean='0.06877', radius_se='1.509', texture_se='3.12', perimeter_se='9.807', area_se='233', smoothness_se='0.02333', compactness_se='0.09806', concavity_se='0.1278', concave_points_se='0.01822', symmetry_se='0.04547', fractal_dimension_se='0.009875', radius_worst='26.02', texture_worst='23.99', perimeter_worst='180.9', area_worst='2073', smoothness_worst='0.1696', compactness_worst='0.4244', concavity_worst='0.5803', concave_points_worst='0.2248', symmetry_worst='0.3222', fractal_dimension_worst='0.08009'),\n",
              " Row(diagnosis='0', radius_mean='14.5', texture_mean='10.89', perimeter_mean='94.28', area_mean='640.7', smoothness_mean='0.1101', compactness_mean='0.1099', concavity_mean='0.08842', concave_points_mean='0.05778', symmetry_mean='0.1856', fractal_dimension_mean='0.06402', radius_se='0.2929', texture_se='0.857', perimeter_se='1.928', area_se='24.19', smoothness_se='0.003818', compactness_se='0.01276', concavity_se='0.02882', concave_points_se='0.012', symmetry_se='0.0191', fractal_dimension_se='0.002808', radius_worst='15.7', texture_worst='15.98', perimeter_worst='102.8', area_worst='745.5', smoothness_worst='0.1313', compactness_worst='0.1788', concavity_worst='0.256', concave_points_worst='0.1221', symmetry_worst='0.2889', fractal_dimension_worst='0.08006'),\n",
              " Row(diagnosis='1', radius_mean='19', texture_mean='18.91', perimeter_mean='123.4', area_mean='1138', smoothness_mean='0.08217', compactness_mean='0.08028', concavity_mean='0.09271', concave_points_mean='0.05627', symmetry_mean='0.1946', fractal_dimension_mean='0.05044', radius_se='0.6896', texture_se='1.342', perimeter_se='5.216', area_se='81.23', smoothness_se='0.004428', compactness_se='0.02731', concavity_se='0.0404', concave_points_se='0.01361', symmetry_se='0.0203', fractal_dimension_se='0.002686', radius_worst='22.32', texture_worst='25.73', perimeter_worst='148.2', area_worst='1538', smoothness_worst='0.1021', compactness_worst='0.2264', concavity_worst='0.3207', concave_points_worst='0.1218', symmetry_worst='0.2841', fractal_dimension_worst='0.06541'),\n",
              " Row(diagnosis='0', radius_mean='15.1', texture_mean='16.39', perimeter_mean='99.58', area_mean='674.5', smoothness_mean='0.115', compactness_mean='0.1807', concavity_mean='0.1138', concave_points_mean='0.08534', symmetry_mean='0.2001', fractal_dimension_mean='0.06467', radius_se='0.4309', texture_se='1.068', perimeter_se='2.796', area_se='39.84', smoothness_se='0.009006', compactness_se='0.04185', concavity_se='0.03204', concave_points_se='0.02258', symmetry_se='0.02353', fractal_dimension_se='0.004984', radius_worst='16.11', texture_worst='18.33', perimeter_worst='105.9', area_worst='762.6', smoothness_worst='0.1386', compactness_worst='0.2883', concavity_worst='0.196', concave_points_worst='0.1423', symmetry_worst='0.259', fractal_dimension_worst='0.07779'),\n",
              " Row(diagnosis='0', radius_mean='12.19', texture_mean='13.29', perimeter_mean='79.08', area_mean='455.8', smoothness_mean='0.1066', compactness_mean='0.09509', concavity_mean='0.02855', concave_points_mean='0.02882', symmetry_mean='0.188', fractal_dimension_mean='0.06471', radius_se='0.2005', texture_se='0.8163', perimeter_se='1.973', area_se='15.24', smoothness_se='0.006773', compactness_se='0.02456', concavity_se='0.01018', concave_points_se='0.008094', symmetry_se='0.02662', fractal_dimension_se='0.004143', radius_worst='13.34', texture_worst='17.81', perimeter_worst='91.38', area_worst='545.2', smoothness_worst='0.1427', compactness_worst='0.2585', concavity_worst='0.09915', concave_points_worst='0.08187', symmetry_worst='0.3469', fractal_dimension_worst='0.09241'),\n",
              " Row(diagnosis='1', radius_mean='15.46', texture_mean='19.48', perimeter_mean='101.7', area_mean='748.9', smoothness_mean='0.1092', compactness_mean='0.1223', concavity_mean='0.1466', concave_points_mean='0.08087', symmetry_mean='0.1931', fractal_dimension_mean='0.05796', radius_se='0.4743', texture_se='0.7859', perimeter_se='3.094', area_se='48.31', smoothness_se='0.00624', compactness_se='0.01484', concavity_se='0.02813', concave_points_se='0.01093', symmetry_se='0.01397', fractal_dimension_se='0.002461', radius_worst='19.26', texture_worst='26', perimeter_worst='124.9', area_worst='1156', smoothness_worst='0.1546', compactness_worst='0.2394', concavity_worst='0.3791', concave_points_worst='0.1514', symmetry_worst='0.2837', fractal_dimension_worst='0.08019'),\n",
              " Row(diagnosis='1', radius_mean='16.16', texture_mean='21.54', perimeter_mean='106.2', area_mean='809.8', smoothness_mean='0.1008', compactness_mean='0.1284', concavity_mean='0.1043', concave_points_mean='0.05613', symmetry_mean='0.216', fractal_dimension_mean='0.05891', radius_se='0.4332', texture_se='1.265', perimeter_se='2.844', area_se='43.68', smoothness_se='0.004877', compactness_se='0.01952', concavity_se='0.02219', concave_points_se='0.009231', symmetry_se='0.01535', fractal_dimension_se='0.002373', radius_worst='19.47', texture_worst='31.68', perimeter_worst='129.7', area_worst='1175', smoothness_worst='0.1395', compactness_worst='0.3055', concavity_worst='0.2992', concave_points_worst='0.1312', symmetry_worst='0.348', fractal_dimension_worst='0.07619'),\n",
              " Row(diagnosis='0', radius_mean='15.71', texture_mean='13.93', perimeter_mean='102', area_mean='761.7', smoothness_mean='0.09462', compactness_mean='0.09462', concavity_mean='0.07135', concave_points_mean='0.05933', symmetry_mean='0.1816', fractal_dimension_mean='0.05723', radius_se='0.3117', texture_se='0.8155', perimeter_se='1.972', area_se='27.94', smoothness_se='0.005217', compactness_se='0.01515', concavity_se='0.01678', concave_points_se='0.01268', symmetry_se='0.01669', fractal_dimension_se='0.00233', radius_worst='17.5', texture_worst='19.25', perimeter_worst='114.3', area_worst='922.8', smoothness_worst='0.1223', compactness_worst='0.1949', concavity_worst='0.1709', concave_points_worst='0.1374', symmetry_worst='0.2723', fractal_dimension_worst='0.07071'),\n",
              " Row(diagnosis='0', radius_mean='11.71', texture_mean='16.67', perimeter_mean='74.72', area_mean='423.6', smoothness_mean='0.1051', compactness_mean='0.06095', concavity_mean='0.03592', concave_points_mean='0.026', symmetry_mean='0.1339', fractal_dimension_mean='0.05945', radius_se='0.4489', texture_se='2.508', perimeter_se='3.258', area_se='34.37', smoothness_se='0.006578', compactness_se='0.0138', concavity_se='0.02662', concave_points_se='0.01307', symmetry_se='0.01359', fractal_dimension_se='0.003707', radius_worst='13.33', texture_worst='25.48', perimeter_worst='86.16', area_worst='546.7', smoothness_worst='0.1271', compactness_worst='0.1028', concavity_worst='0.1046', concave_points_worst='0.06968', symmetry_worst='0.1712', fractal_dimension_worst='0.07343'),\n",
              " Row(diagnosis='1', radius_mean='14.95', texture_mean='17.57', perimeter_mean='96.85', area_mean='678.1', smoothness_mean='0.1167', compactness_mean='0.1305', concavity_mean='0.1539', concave_points_mean='0.08624', symmetry_mean='0.1957', fractal_dimension_mean='0.06216', radius_se='1.296', texture_se='1.452', perimeter_se='8.419', area_se='101.9', smoothness_se='0.01', compactness_se='0.0348', concavity_se='0.06577', concave_points_se='0.02801', symmetry_se='0.05168', fractal_dimension_se='0.002887', radius_worst='18.55', texture_worst='21.43', perimeter_worst='121.4', area_worst='971.4', smoothness_worst='0.1411', compactness_worst='0.2164', concavity_worst='0.3355', concave_points_worst='0.1667', symmetry_worst='0.3414', fractal_dimension_worst='0.07147'),\n",
              " Row(diagnosis='0', radius_mean='9.738', texture_mean='11.97', perimeter_mean='61.24', area_mean='288.5', smoothness_mean='0.0925', compactness_mean='0.04102', concavity_mean='0', concave_points_mean='0', symmetry_mean='0.1903', fractal_dimension_mean='0.06422', radius_se='0.1988', texture_se='0.496', perimeter_se='1.218', area_se='12.26', smoothness_se='0.00604', compactness_se='0.005656', concavity_se='0', concave_points_se='0', symmetry_se='0.02277', fractal_dimension_se='0.00322', radius_worst='10.62', texture_worst='14.1', perimeter_worst='66.53', area_worst='342.9', smoothness_worst='0.1234', compactness_worst='0.07204', concavity_worst='0', concave_points_worst='0', symmetry_worst='0.3105', fractal_dimension_worst='0.08151'),\n",
              " Row(diagnosis='0', radius_mean='11.43', texture_mean='17.31', perimeter_mean='73.66', area_mean='398', smoothness_mean='0.1092', compactness_mean='0.09486', concavity_mean='0.02031', concave_points_mean='0.01861', symmetry_mean='0.1645', fractal_dimension_mean='0.06562', radius_se='0.2843', texture_se='1.908', perimeter_se='1.937', area_se='21.38', smoothness_se='0.006664', compactness_se='0.01735', concavity_se='0.01158', concave_points_se='0.00952', symmetry_se='0.02282', fractal_dimension_se='0.003526', radius_worst='12.78', texture_worst='26.76', perimeter_worst='82.66', area_worst='503', smoothness_worst='0.1413', compactness_worst='0.1792', concavity_worst='0.07708', concave_points_worst='0.06402', symmetry_worst='0.2584', fractal_dimension_worst='0.08096'),\n",
              " Row(diagnosis='0', radius_mean='12.9', texture_mean='15.92', perimeter_mean='83.74', area_mean='512.2', smoothness_mean='0.08677', compactness_mean='0.09509', concavity_mean='0.04894', concave_points_mean='0.03088', symmetry_mean='0.1778', fractal_dimension_mean='0.06235', radius_se='0.2143', texture_se='0.7712', perimeter_se='1.689', area_se='16.64', smoothness_se='0.005324', compactness_se='0.01563', concavity_se='0.0151', concave_points_se='0.007584', symmetry_se='0.02104', fractal_dimension_se='0.001887', radius_worst='14.48', texture_worst='21.82', perimeter_worst='97.17', area_worst='643.8', smoothness_worst='0.1312', compactness_worst='0.2548', concavity_worst='0.209', concave_points_worst='0.1012', symmetry_worst='0.3549', fractal_dimension_worst='0.08118'),\n",
              " Row(diagnosis='0', radius_mean='10.75', texture_mean='14.97', perimeter_mean='68.26', area_mean='355.3', smoothness_mean='0.07793', compactness_mean='0.05139', concavity_mean='0.02251', concave_points_mean='0.007875', symmetry_mean='0.1399', fractal_dimension_mean='0.05688', radius_se='0.2525', texture_se='1.239', perimeter_se='1.806', area_se='17.74', smoothness_se='0.006547', compactness_se='0.01781', concavity_se='0.02018', concave_points_se='0.005612', symmetry_se='0.01671', fractal_dimension_se='0.00236', radius_worst='11.95', texture_worst='20.72', perimeter_worst='77.79', area_worst='441.2', smoothness_worst='0.1076', compactness_worst='0.1223', concavity_worst='0.09755', concave_points_worst='0.03413', symmetry_worst='0.23', fractal_dimension_worst='0.06769'),\n",
              " Row(diagnosis='0', radius_mean='11.9', texture_mean='14.65', perimeter_mean='78.11', area_mean='432.8', smoothness_mean='0.1152', compactness_mean='0.1296', concavity_mean='0.0371', concave_points_mean='0.03003', symmetry_mean='0.1995', fractal_dimension_mean='0.07839', radius_se='0.3962', texture_se='0.6538', perimeter_se='3.021', area_se='25.03', smoothness_se='0.01017', compactness_se='0.04741', concavity_se='0.02789', concave_points_se='0.0111', symmetry_se='0.03127', fractal_dimension_se='0.009423', radius_worst='13.15', texture_worst='16.51', perimeter_worst='86.26', area_worst='509.6', smoothness_worst='0.1424', compactness_worst='0.2517', concavity_worst='0.0942', concave_points_worst='0.06042', symmetry_worst='0.2727', fractal_dimension_worst='0.1036'),\n",
              " Row(diagnosis='0', radius_mean='14.95', texture_mean='18.77', perimeter_mean='97.84', area_mean='689.5', smoothness_mean='0.08138', compactness_mean='0.1167', concavity_mean='0.0905', concave_points_mean='0.03562', symmetry_mean='0.1744', fractal_dimension_mean='0.06493', radius_se='0.422', texture_se='1.909', perimeter_se='3.271', area_se='39.43', smoothness_se='0.00579', compactness_se='0.04877', concavity_se='0.05303', concave_points_se='0.01527', symmetry_se='0.03356', fractal_dimension_se='0.009368', radius_worst='16.25', texture_worst='25.47', perimeter_worst='107.1', area_worst='809.7', smoothness_worst='0.0997', compactness_worst='0.2521', concavity_worst='0.25', concave_points_worst='0.08405', symmetry_worst='0.2852', fractal_dimension_worst='0.09218'),\n",
              " Row(diagnosis='0', radius_mean='12.25', texture_mean='17.94', perimeter_mean='78.27', area_mean='460.3', smoothness_mean='0.08654', compactness_mean='0.06679', concavity_mean='0.03885', concave_points_mean='0.02331', symmetry_mean='0.197', fractal_dimension_mean='0.06228', radius_se='0.22', texture_se='0.9823', perimeter_se='1.484', area_se='16.51', smoothness_se='0.005518', compactness_se='0.01562', concavity_se='0.01994', concave_points_se='0.007924', symmetry_se='0.01799', fractal_dimension_se='0.002484', radius_worst='13.59', texture_worst='25.22', perimeter_worst='86.6', area_worst='564.2', smoothness_worst='0.1217', compactness_worst='0.1788', concavity_worst='0.1943', concave_points_worst='0.08211', symmetry_worst='0.3113', fractal_dimension_worst='0.08132'),\n",
              " Row(diagnosis='0', radius_mean='12.06', texture_mean='12.74', perimeter_mean='76.84', area_mean='448.6', smoothness_mean='0.09311', compactness_mean='0.05241', concavity_mean='0.01972', concave_points_mean='0.01963', symmetry_mean='0.159', fractal_dimension_mean='0.05907', radius_se='0.1822', texture_se='0.7285', perimeter_se='1.171', area_se='13.25', smoothness_se='0.005528', compactness_se='0.009789', concavity_se='0.008342', concave_points_se='0.006273', symmetry_se='0.01465', fractal_dimension_se='0.00253', radius_worst='13.14', texture_worst='18.41', perimeter_worst='84.08', area_worst='532.8', smoothness_worst='0.1275', compactness_worst='0.1232', concavity_worst='0.08636', concave_points_worst='0.07025', symmetry_worst='0.2514', fractal_dimension_worst='0.07898'),\n",
              " Row(diagnosis='0', radius_mean='10.9', texture_mean='12.96', perimeter_mean='68.69', area_mean='366.8', smoothness_mean='0.07515', compactness_mean='0.03718', concavity_mean='0.00309', concave_points_mean='0.006588', symmetry_mean='0.1442', fractal_dimension_mean='0.05743', radius_se='0.2818', texture_se='0.7614', perimeter_se='1.808', area_se='18.54', smoothness_se='0.006142', compactness_se='0.006134', concavity_se='0.001835', concave_points_se='0.003576', symmetry_se='0.01637', fractal_dimension_se='0.002665', radius_worst='12.36', texture_worst='18.2', perimeter_worst='78.07', area_worst='470', smoothness_worst='0.1171', compactness_worst='0.08294', concavity_worst='0.01854', concave_points_worst='0.03953', symmetry_worst='0.2738', fractal_dimension_worst='0.07685'),\n",
              " Row(diagnosis='1', radius_mean='19.59', texture_mean='18.15', perimeter_mean='130.7', area_mean='1214', smoothness_mean='0.112', compactness_mean='0.1666', concavity_mean='0.2508', concave_points_mean='0.1286', symmetry_mean='0.2027', fractal_dimension_mean='0.06082', radius_se='0.7364', texture_se='1.048', perimeter_se='4.792', area_se='97.07', smoothness_se='0.004057', compactness_se='0.02277', concavity_se='0.04029', concave_points_se='0.01303', symmetry_se='0.01686', fractal_dimension_se='0.003318', radius_worst='26.73', texture_worst='26.39', perimeter_worst='174.9', area_worst='2232', smoothness_worst='0.1438', compactness_worst='0.3846', concavity_worst='0.681', concave_points_worst='0.2247', symmetry_worst='0.3643', fractal_dimension_worst='0.09223'),\n",
              " Row(diagnosis='0', radius_mean='12.34', texture_mean='22.22', perimeter_mean='79.85', area_mean='464.5', smoothness_mean='0.1012', compactness_mean='0.1015', concavity_mean='0.0537', concave_points_mean='0.02822', symmetry_mean='0.1551', fractal_dimension_mean='0.06761', radius_se='0.2949', texture_se='1.656', perimeter_se='1.955', area_se='21.55', smoothness_se='0.01134', compactness_se='0.03175', concavity_se='0.03125', concave_points_se='0.01135', symmetry_se='0.01879', fractal_dimension_se='0.005348', radius_worst='13.58', texture_worst='28.68', perimeter_worst='87.36', area_worst='553', smoothness_worst='0.1452', compactness_worst='0.2338', concavity_worst='0.1688', concave_points_worst='0.08194', symmetry_worst='0.2268', fractal_dimension_worst='0.09082'),\n",
              " Row(diagnosis='1', radius_mean='23.27', texture_mean='22.04', perimeter_mean='152.1', area_mean='1686', smoothness_mean='0.08439', compactness_mean='0.1145', concavity_mean='0.1324', concave_points_mean='0.09702', symmetry_mean='0.1801', fractal_dimension_mean='0.05553', radius_se='0.6642', texture_se='0.8561', perimeter_se='4.603', area_se='97.85', smoothness_se='0.00491', compactness_se='0.02544', concavity_se='0.02822', concave_points_se='0.01623', symmetry_se='0.01956', fractal_dimension_se='0.00374', radius_worst='28.01', texture_worst='28.22', perimeter_worst='184.2', area_worst='2403', smoothness_worst='0.1228', compactness_worst='0.3583', concavity_worst='0.3948', concave_points_worst='0.2346', symmetry_worst='0.3589', fractal_dimension_worst='0.09187'),\n",
              " Row(diagnosis='0', radius_mean='14.97', texture_mean='19.76', perimeter_mean='95.5', area_mean='690.2', smoothness_mean='0.08421', compactness_mean='0.05352', concavity_mean='0.01947', concave_points_mean='0.01939', symmetry_mean='0.1515', fractal_dimension_mean='0.05266', radius_se='0.184', texture_se='1.065', perimeter_se='1.286', area_se='16.64', smoothness_se='0.003634', compactness_se='0.007983', concavity_se='0.008268', concave_points_se='0.006432', symmetry_se='0.01924', fractal_dimension_se='0.00152', radius_worst='15.98', texture_worst='25.82', perimeter_worst='102.3', area_worst='782.1', smoothness_worst='0.1045', compactness_worst='0.09995', concavity_worst='0.0775', concave_points_worst='0.05754', symmetry_worst='0.2646', fractal_dimension_worst='0.06085'),\n",
              " Row(diagnosis='0', radius_mean='10.8', texture_mean='9.71', perimeter_mean='68.77', area_mean='357.6', smoothness_mean='0.09594', compactness_mean='0.05736', concavity_mean='0.02531', concave_points_mean='0.01698', symmetry_mean='0.1381', fractal_dimension_mean='0.064', radius_se='0.1728', texture_se='0.4064', perimeter_se='1.126', area_se='11.48', smoothness_se='0.007809', compactness_se='0.009816', concavity_se='0.01099', concave_points_se='0.005344', symmetry_se='0.01254', fractal_dimension_se='0.00212', radius_worst='11.6', texture_worst='12.02', perimeter_worst='73.66', area_worst='414', smoothness_worst='0.1436', compactness_worst='0.1257', concavity_worst='0.1047', concave_points_worst='0.04603', symmetry_worst='0.209', fractal_dimension_worst='0.07699'),\n",
              " Row(diagnosis='1', radius_mean='16.78', texture_mean='18.8', perimeter_mean='109.3', area_mean='886.3', smoothness_mean='0.08865', compactness_mean='0.09182', concavity_mean='0.08422', concave_points_mean='0.06576', symmetry_mean='0.1893', fractal_dimension_mean='0.05534', radius_se='0.599', texture_se='1.391', perimeter_se='4.129', area_se='67.34', smoothness_se='0.006123', compactness_se='0.0247', concavity_se='0.02626', concave_points_se='0.01604', symmetry_se='0.02091', fractal_dimension_se='0.003493', radius_worst='20.05', texture_worst='26.3', perimeter_worst='130.7', area_worst='1260', smoothness_worst='0.1168', compactness_worst='0.2119', concavity_worst='0.2318', concave_points_worst='0.1474', symmetry_worst='0.281', fractal_dimension_worst='0.07228'),\n",
              " Row(diagnosis='1', radius_mean='17.47', texture_mean='24.68', perimeter_mean='116.1', area_mean='984.6', smoothness_mean='0.1049', compactness_mean='0.1603', concavity_mean='0.2159', concave_points_mean='0.1043', symmetry_mean='0.1538', fractal_dimension_mean='0.06365', radius_se='1.088', texture_se='1.41', perimeter_se='7.337', area_se='122.3', smoothness_se='0.006174', compactness_se='0.03634', concavity_se='0.04644', concave_points_se='0.01569', symmetry_se='0.01145', fractal_dimension_se='0.00512', radius_worst='23.14', texture_worst='32.33', perimeter_worst='155.3', area_worst='1660', smoothness_worst='0.1376', compactness_worst='0.383', concavity_worst='0.489', concave_points_worst='0.1721', symmetry_worst='0.216', fractal_dimension_worst='0.093'),\n",
              " Row(diagnosis='0', radius_mean='14.97', texture_mean='16.95', perimeter_mean='96.22', area_mean='685.9', smoothness_mean='0.09855', compactness_mean='0.07885', concavity_mean='0.02602', concave_points_mean='0.03781', symmetry_mean='0.178', fractal_dimension_mean='0.0565', radius_se='0.2713', texture_se='1.217', perimeter_se='1.893', area_se='24.28', smoothness_se='0.00508', compactness_se='0.0137', concavity_se='0.007276', concave_points_se='0.009073', symmetry_se='0.0135', fractal_dimension_se='0.001706', radius_worst='16.11', texture_worst='23', perimeter_worst='104.6', area_worst='793.7', smoothness_worst='0.1216', compactness_worst='0.1637', concavity_worst='0.06648', concave_points_worst='0.08485', symmetry_worst='0.2404', fractal_dimension_worst='0.06428'),\n",
              " Row(diagnosis='0', radius_mean='12.32', texture_mean='12.39', perimeter_mean='78.85', area_mean='464.1', smoothness_mean='0.1028', compactness_mean='0.06981', concavity_mean='0.03987', concave_points_mean='0.037', symmetry_mean='0.1959', fractal_dimension_mean='0.05955', radius_se='0.236', texture_se='0.6656', perimeter_se='1.67', area_se='17.43', smoothness_se='0.008045', compactness_se='0.0118', concavity_se='0.01683', concave_points_se='0.01241', symmetry_se='0.01924', fractal_dimension_se='0.002248', radius_worst='13.5', texture_worst='15.64', perimeter_worst='86.97', area_worst='549.1', smoothness_worst='0.1385', compactness_worst='0.1266', concavity_worst='0.1242', concave_points_worst='0.09391', symmetry_worst='0.2827', fractal_dimension_worst='0.06771'),\n",
              " Row(diagnosis='1', radius_mean='13.43', texture_mean='19.63', perimeter_mean='85.84', area_mean='565.4', smoothness_mean='0.09048', compactness_mean='0.06288', concavity_mean='0.05858', concave_points_mean='0.03438', symmetry_mean='0.1598', fractal_dimension_mean='0.05671', radius_se='0.4697', texture_se='1.147', perimeter_se='3.142', area_se='43.4', smoothness_se='0.006003', compactness_se='0.01063', concavity_se='0.02151', concave_points_se='0.009443', symmetry_se='0.0152', fractal_dimension_se='0.001868', radius_worst='17.98', texture_worst='29.87', perimeter_worst='116.6', area_worst='993.6', smoothness_worst='0.1401', compactness_worst='0.1546', concavity_worst='0.2644', concave_points_worst='0.116', symmetry_worst='0.2884', fractal_dimension_worst='0.07371'),\n",
              " Row(diagnosis='1', radius_mean='16.46', texture_mean='20.11', perimeter_mean='109.3', area_mean='832.9', smoothness_mean='0.09831', compactness_mean='0.1556', concavity_mean='0.1793', concave_points_mean='0.08866', symmetry_mean='0.1794', fractal_dimension_mean='0.06323', radius_se='0.3037', texture_se='1.284', perimeter_se='2.482', area_se='31.59', smoothness_se='0.006627', compactness_se='0.04094', concavity_se='0.05371', concave_points_se='0.01813', symmetry_se='0.01682', fractal_dimension_se='0.004584', radius_worst='17.79', texture_worst='28.45', perimeter_worst='123.5', area_worst='981.2', smoothness_worst='0.1415', compactness_worst='0.4667', concavity_worst='0.5862', concave_points_worst='0.2035', symmetry_worst='0.3054', fractal_dimension_worst='0.09519'),\n",
              " Row(diagnosis='0', radius_mean='12.81', texture_mean='13.06', perimeter_mean='81.29', area_mean='508.8', smoothness_mean='0.08739', compactness_mean='0.03774', concavity_mean='0.009193', concave_points_mean='0.0133', symmetry_mean='0.1466', fractal_dimension_mean='0.06133', radius_se='0.2889', texture_se='0.9899', perimeter_se='1.778', area_se='21.79', smoothness_se='0.008534', compactness_se='0.006364', concavity_se='0.00618', concave_points_se='0.007408', symmetry_se='0.01065', fractal_dimension_se='0.003351', radius_worst='13.63', texture_worst='16.15', perimeter_worst='86.7', area_worst='570.7', smoothness_worst='0.1162', compactness_worst='0.05445', concavity_worst='0.02758', concave_points_worst='0.0399', symmetry_worst='0.1783', fractal_dimension_worst='0.07319'),\n",
              " Row(diagnosis='1', radius_mean='21.09', texture_mean='26.57', perimeter_mean='142.7', area_mean='1311', smoothness_mean='0.1141', compactness_mean='0.2832', concavity_mean='0.2487', concave_points_mean='0.1496', symmetry_mean='0.2395', fractal_dimension_mean='0.07398', radius_se='0.6298', texture_se='0.7629', perimeter_se='4.414', area_se='81.46', smoothness_se='0.004253', compactness_se='0.04759', concavity_se='0.03872', concave_points_se='0.01567', symmetry_se='0.01798', fractal_dimension_se='0.005295', radius_worst='26.68', texture_worst='33.48', perimeter_worst='176.5', area_worst='2089', smoothness_worst='0.1491', compactness_worst='0.7584', concavity_worst='0.678', concave_points_worst='0.2903', symmetry_worst='0.4098', fractal_dimension_worst='0.1284'),\n",
              " Row(diagnosis='1', radius_mean='15.7', texture_mean='20.31', perimeter_mean='101.2', area_mean='766.6', smoothness_mean='0.09597', compactness_mean='0.08799', concavity_mean='0.06593', concave_points_mean='0.05189', symmetry_mean='0.1618', fractal_dimension_mean='0.05549', radius_se='0.3699', texture_se='1.15', perimeter_se='2.406', area_se='40.98', smoothness_se='0.004626', compactness_se='0.02263', concavity_se='0.01954', concave_points_se='0.009767', symmetry_se='0.01547', fractal_dimension_se='0.00243', radius_worst='20.11', texture_worst='32.82', perimeter_worst='129.3', area_worst='1269', smoothness_worst='0.1414', compactness_worst='0.3547', concavity_worst='0.2902', concave_points_worst='0.1541', symmetry_worst='0.3437', fractal_dimension_worst='0.08631'),\n",
              " Row(diagnosis='0', radius_mean='11.41', texture_mean='14.92', perimeter_mean='73.53', area_mean='402', smoothness_mean='0.09059', compactness_mean='0.08155', concavity_mean='0.06181', concave_points_mean='0.02361', symmetry_mean='0.1167', fractal_dimension_mean='0.06217', radius_se='0.3344', texture_se='1.108', perimeter_se='1.902', area_se='22.77', smoothness_se='0.007356', compactness_se='0.03728', concavity_se='0.05915', concave_points_se='0.01712', symmetry_se='0.02165', fractal_dimension_se='0.004784', radius_worst='12.37', texture_worst='17.7', perimeter_worst='79.12', area_worst='467.2', smoothness_worst='0.1121', compactness_worst='0.161', concavity_worst='0.1648', concave_points_worst='0.06296', symmetry_worst='0.1811', fractal_dimension_worst='0.07427'),\n",
              " Row(diagnosis='1', radius_mean='15.28', texture_mean='22.41', perimeter_mean='98.92', area_mean='710.6', smoothness_mean='0.09057', compactness_mean='0.1052', concavity_mean='0.05375', concave_points_mean='0.03263', symmetry_mean='0.1727', fractal_dimension_mean='0.06317', radius_se='0.2054', texture_se='0.4956', perimeter_se='1.344', area_se='19.53', smoothness_se='0.00329', compactness_se='0.01395', concavity_se='0.01774', concave_points_se='0.006009', symmetry_se='0.01172', fractal_dimension_se='0.002575', radius_worst='17.8', texture_worst='28.03', perimeter_worst='113.8', area_worst='973.1', smoothness_worst='0.1301', compactness_worst='0.3299', concavity_worst='0.363', concave_points_worst='0.1226', symmetry_worst='0.3175', fractal_dimension_worst='0.09772'),\n",
              " Row(diagnosis='0', radius_mean='10.08', texture_mean='15.11', perimeter_mean='63.76', area_mean='317.5', smoothness_mean='0.09267', compactness_mean='0.04695', concavity_mean='0.001597', concave_points_mean='0.002404', symmetry_mean='0.1703', fractal_dimension_mean='0.06048', radius_se='0.4245', texture_se='1.268', perimeter_se='2.68', area_se='26.43', smoothness_se='0.01439', compactness_se='0.012', concavity_se='0.001597', concave_points_se='0.002404', symmetry_se='0.02538', fractal_dimension_se='0.00347', radius_worst='11.87', texture_worst='21.18', perimeter_worst='75.39', area_worst='437', smoothness_worst='0.1521', compactness_worst='0.1019', concavity_worst='0.00692', concave_points_worst='0.01042', symmetry_worst='0.2933', fractal_dimension_worst='0.07697'),\n",
              " Row(diagnosis='0', radius_mean='11.71', texture_mean='17.19', perimeter_mean='74.68', area_mean='420.3', smoothness_mean='0.09774', compactness_mean='0.06141', concavity_mean='0.03809', concave_points_mean='0.03239', symmetry_mean='0.1516', fractal_dimension_mean='0.06095', radius_se='0.2451', texture_se='0.7655', perimeter_se='1.742', area_se='17.86', smoothness_se='0.006905', compactness_se='0.008704', concavity_se='0.01978', concave_points_se='0.01185', symmetry_se='0.01897', fractal_dimension_se='0.001671', radius_worst='13.01', texture_worst='21.39', perimeter_worst='84.42', area_worst='521.5', smoothness_worst='0.1323', compactness_worst='0.104', concavity_worst='0.1521', concave_points_worst='0.1099', symmetry_worst='0.2572', fractal_dimension_worst='0.07097'),\n",
              " Row(diagnosis='0', radius_mean='11.81', texture_mean='17.39', perimeter_mean='75.27', area_mean='428.9', smoothness_mean='0.1007', compactness_mean='0.05562', concavity_mean='0.02353', concave_points_mean='0.01553', symmetry_mean='0.1718', fractal_dimension_mean='0.0578', radius_se='0.1859', texture_se='1.926', perimeter_se='1.011', area_se='14.47', smoothness_se='0.007831', compactness_se='0.008776', concavity_se='0.01556', concave_points_se='0.00624', symmetry_se='0.03139', fractal_dimension_se='0.001988', radius_worst='12.57', texture_worst='26.48', perimeter_worst='79.57', area_worst='489.5', smoothness_worst='0.1356', compactness_worst='0.1', concavity_worst='0.08803', concave_points_worst='0.04306', symmetry_worst='0.32', fractal_dimension_worst='0.06576'),\n",
              " Row(diagnosis='0', radius_mean='12.77', texture_mean='21.41', perimeter_mean='82.02', area_mean='507.4', smoothness_mean='0.08749', compactness_mean='0.06601', concavity_mean='0.03112', concave_points_mean='0.02864', symmetry_mean='0.1694', fractal_dimension_mean='0.06287', radius_se='0.7311', texture_se='1.748', perimeter_se='5.118', area_se='53.65', smoothness_se='0.004571', compactness_se='0.0179', concavity_se='0.02176', concave_points_se='0.01757', symmetry_se='0.03373', fractal_dimension_se='0.005875', radius_worst='13.75', texture_worst='23.5', perimeter_worst='89.04', area_worst='579.5', smoothness_worst='0.09388', compactness_worst='0.08978', concavity_worst='0.05186', concave_points_worst='0.04773', symmetry_worst='0.2179', fractal_dimension_worst='0.06871'),\n",
              " Row(diagnosis='1', radius_mean='12.34', texture_mean='26.86', perimeter_mean='81.15', area_mean='477.4', smoothness_mean='0.1034', compactness_mean='0.1353', concavity_mean='0.1085', concave_points_mean='0.04562', symmetry_mean='0.1943', fractal_dimension_mean='0.06937', radius_se='0.4053', texture_se='1.809', perimeter_se='2.642', area_se='34.44', smoothness_se='0.009098', compactness_se='0.03845', concavity_se='0.03763', concave_points_se='0.01321', symmetry_se='0.01878', fractal_dimension_se='0.005672', radius_worst='15.65', texture_worst='39.34', perimeter_worst='101.7', area_worst='768.9', smoothness_worst='0.1785', compactness_worst='0.4706', concavity_worst='0.4425', concave_points_worst='0.1459', symmetry_worst='0.3215', fractal_dimension_worst='0.1205'),\n",
              " Row(diagnosis='1', radius_mean='18.08', texture_mean='21.84', perimeter_mean='117.4', area_mean='1024', smoothness_mean='0.07371', compactness_mean='0.08642', concavity_mean='0.1103', concave_points_mean='0.05778', symmetry_mean='0.177', fractal_dimension_mean='0.0534', radius_se='0.6362', texture_se='1.305', perimeter_se='4.312', area_se='76.36', smoothness_se='0.00553', compactness_se='0.05296', concavity_se='0.0611', concave_points_se='0.01444', symmetry_se='0.0214', fractal_dimension_se='0.005036', radius_worst='19.76', texture_worst='24.7', perimeter_worst='129.1', area_worst='1228', smoothness_worst='0.08822', compactness_worst='0.1963', concavity_worst='0.2535', concave_points_worst='0.09181', symmetry_worst='0.2369', fractal_dimension_worst='0.06558'),\n",
              " Row(diagnosis='0', radius_mean='12.23', texture_mean='19.56', perimeter_mean='78.54', area_mean='461', smoothness_mean='0.09586', compactness_mean='0.08087', concavity_mean='0.04187', concave_points_mean='0.04107', symmetry_mean='0.1979', fractal_dimension_mean='0.06013', radius_se='0.3534', texture_se='1.326', perimeter_se='2.308', area_se='27.24', smoothness_se='0.007514', compactness_se='0.01779', concavity_se='0.01401', concave_points_se='0.0114', symmetry_se='0.01503', fractal_dimension_se='0.003338', radius_worst='14.44', texture_worst='28.36', perimeter_worst='92.15', area_worst='638.4', smoothness_worst='0.1429', compactness_worst='0.2042', concavity_worst='0.1377', concave_points_worst='0.108', symmetry_worst='0.2668', fractal_dimension_worst='0.08174'),\n",
              " Row(diagnosis='1', radius_mean='17.54', texture_mean='19.32', perimeter_mean='115.1', area_mean='951.6', smoothness_mean='0.08968', compactness_mean='0.1198', concavity_mean='0.1036', concave_points_mean='0.07488', symmetry_mean='0.1506', fractal_dimension_mean='0.05491', radius_se='0.3971', texture_se='0.8282', perimeter_se='3.088', area_se='40.73', smoothness_se='0.00609', compactness_se='0.02569', concavity_se='0.02713', concave_points_se='0.01345', symmetry_se='0.01594', fractal_dimension_se='0.002658', radius_worst='20.42', texture_worst='25.84', perimeter_worst='139.5', area_worst='1239', smoothness_worst='0.1381', compactness_worst='0.342', concavity_worst='0.3508', concave_points_worst='0.1939', symmetry_worst='0.2928', fractal_dimension_worst='0.07867'),\n",
              " Row(diagnosis='1', radius_mean='23.29', texture_mean='26.67', perimeter_mean='158.9', area_mean='1685', smoothness_mean='0.1141', compactness_mean='0.2084', concavity_mean='0.3523', concave_points_mean='0.162', symmetry_mean='0.22', fractal_dimension_mean='0.06229', radius_se='0.5539', texture_se='1.56', perimeter_se='4.667', area_se='83.16', smoothness_se='0.009327', compactness_se='0.05121', concavity_se='0.08958', concave_points_se='0.02465', symmetry_se='0.02175', fractal_dimension_se='0.005195', radius_worst='25.12', texture_worst='32.68', perimeter_worst='177', area_worst='1986', smoothness_worst='0.1536', compactness_worst='0.4167', concavity_worst='0.7892', concave_points_worst='0.2733', symmetry_worst='0.3198', fractal_dimension_worst='0.08762'),\n",
              " Row(diagnosis='1', radius_mean='15.12', texture_mean='16.68', perimeter_mean='98.78', area_mean='716.6', smoothness_mean='0.08876', compactness_mean='0.09588', concavity_mean='0.0755', concave_points_mean='0.04079', symmetry_mean='0.1594', fractal_dimension_mean='0.05986', radius_se='0.2711', texture_se='0.3621', perimeter_se='1.974', area_se='26.44', smoothness_se='0.005472', compactness_se='0.01919', concavity_se='0.02039', concave_points_se='0.00826', symmetry_se='0.01523', fractal_dimension_se='0.002881', radius_worst='17.77', texture_worst='20.24', perimeter_worst='117.7', area_worst='989.5', smoothness_worst='0.1491', compactness_worst='0.3331', concavity_worst='0.3327', concave_points_worst='0.1252', symmetry_worst='0.3415', fractal_dimension_worst='0.0974'),\n",
              " Row(diagnosis='0', radius_mean='9.876', texture_mean='17.27', perimeter_mean='62.92', area_mean='295.4', smoothness_mean='0.1089', compactness_mean='0.07232', concavity_mean='0.01756', concave_points_mean='0.01952', symmetry_mean='0.1934', fractal_dimension_mean='0.06285', radius_se='0.2137', texture_se='1.342', perimeter_se='1.517', area_se='12.33', smoothness_se='0.009719', compactness_se='0.01249', concavity_se='0.007975', concave_points_se='0.007527', symmetry_se='0.0221', fractal_dimension_se='0.002472', radius_worst='10.42', texture_worst='23.22', perimeter_worst='67.08', area_worst='331.6', smoothness_worst='0.1415', compactness_worst='0.1247', concavity_worst='0.06213', concave_points_worst='0.05588', symmetry_worst='0.2989', fractal_dimension_worst='0.0738'),\n",
              " Row(diagnosis='1', radius_mean='20.58', texture_mean='22.14', perimeter_mean='134.7', area_mean='1290', smoothness_mean='0.0909', compactness_mean='0.1348', concavity_mean='0.164', concave_points_mean='0.09561', symmetry_mean='0.1765', fractal_dimension_mean='0.05024', radius_se='0.8601', texture_se='1.48', perimeter_se='7.029', area_se='111.7', smoothness_se='0.008124', compactness_se='0.03611', concavity_se='0.05489', concave_points_se='0.02765', symmetry_se='0.03176', fractal_dimension_se='0.002365', radius_worst='23.24', texture_worst='27.84', perimeter_worst='158.3', area_worst='1656', smoothness_worst='0.1178', compactness_worst='0.292', concavity_worst='0.3861', concave_points_worst='0.192', symmetry_worst='0.2909', fractal_dimension_worst='0.05865'),\n",
              " Row(diagnosis='0', radius_mean='11.84', texture_mean='18.94', perimeter_mean='75.51', area_mean='428', smoothness_mean='0.08871', compactness_mean='0.069', concavity_mean='0.02669', concave_points_mean='0.01393', symmetry_mean='0.1533', fractal_dimension_mean='0.06057', radius_se='0.2222', texture_se='0.8652', perimeter_se='1.444', area_se='17.12', smoothness_se='0.005517', compactness_se='0.01727', concavity_se='0.02045', concave_points_se='0.006747', symmetry_se='0.01616', fractal_dimension_se='0.002922', radius_worst='13.3', texture_worst='24.99', perimeter_worst='85.22', area_worst='546.3', smoothness_worst='0.128', compactness_worst='0.188', concavity_worst='0.1471', concave_points_worst='0.06913', symmetry_worst='0.2535', fractal_dimension_worst='0.07993'),\n",
              " Row(diagnosis='1', radius_mean='17.42', texture_mean='25.56', perimeter_mean='114.5', area_mean='948', smoothness_mean='0.1006', compactness_mean='0.1146', concavity_mean='0.1682', concave_points_mean='0.06597', symmetry_mean='0.1308', fractal_dimension_mean='0.05866', radius_se='0.5296', texture_se='1.667', perimeter_se='3.767', area_se='58.53', smoothness_se='0.03113', compactness_se='0.08555', concavity_se='0.1438', concave_points_se='0.03927', symmetry_se='0.02175', fractal_dimension_se='0.01256', radius_worst='18.07', texture_worst='28.07', perimeter_worst='120.4', area_worst='1021', smoothness_worst='0.1243', compactness_worst='0.1793', concavity_worst='0.2803', concave_points_worst='0.1099', symmetry_worst='0.1603', fractal_dimension_worst='0.06818'),\n",
              " Row(diagnosis='1', radius_mean='14.19', texture_mean='23.81', perimeter_mean='92.87', area_mean='610.7', smoothness_mean='0.09463', compactness_mean='0.1306', concavity_mean='0.1115', concave_points_mean='0.06462', symmetry_mean='0.2235', fractal_dimension_mean='0.06433', radius_se='0.4207', texture_se='1.845', perimeter_se='3.534', area_se='31', smoothness_se='0.01088', compactness_se='0.0371', concavity_se='0.03688', concave_points_se='0.01627', symmetry_se='0.04499', fractal_dimension_se='0.004768', radius_worst='16.86', texture_worst='34.85', perimeter_worst='115', area_worst='811.3', smoothness_worst='0.1559', compactness_worst='0.4059', concavity_worst='0.3744', concave_points_worst='0.1772', symmetry_worst='0.4724', fractal_dimension_worst='0.1026'),\n",
              " Row(diagnosis='0', radius_mean='10.2', texture_mean='17.48', perimeter_mean='65.05', area_mean='321.2', smoothness_mean='0.08054', compactness_mean='0.05907', concavity_mean='0.05774', concave_points_mean='0.01071', symmetry_mean='0.1964', fractal_dimension_mean='0.06315', radius_se='0.3567', texture_se='1.922', perimeter_se='2.747', area_se='22.79', smoothness_se='0.00468', compactness_se='0.0312', concavity_se='0.05774', concave_points_se='0.01071', symmetry_se='0.0256', fractal_dimension_se='0.004613', radius_worst='11.48', texture_worst='24.47', perimeter_worst='75.4', area_worst='403.7', smoothness_worst='0.09527', compactness_worst='0.1397', concavity_worst='0.1925', concave_points_worst='0.03571', symmetry_worst='0.2868', fractal_dimension_worst='0.07809'),\n",
              " Row(diagnosis='1', radius_mean='19.8', texture_mean='21.56', perimeter_mean='129.7', area_mean='1230', smoothness_mean='0.09383', compactness_mean='0.1306', concavity_mean='0.1272', concave_points_mean='0.08691', symmetry_mean='0.2094', fractal_dimension_mean='0.05581', radius_se='0.9553', texture_se='1.186', perimeter_se='6.487', area_se='124.4', smoothness_se='0.006804', compactness_se='0.03169', concavity_se='0.03446', concave_points_se='0.01712', symmetry_se='0.01897', fractal_dimension_se='0.004045', radius_worst='25.73', texture_worst='28.64', perimeter_worst='170.3', area_worst='2009', smoothness_worst='0.1353', compactness_worst='0.3235', concavity_worst='0.3617', concave_points_worst='0.182', symmetry_worst='0.307', fractal_dimension_worst='0.08255'),\n",
              " Row(diagnosis='1', radius_mean='19.53', texture_mean='32.47', perimeter_mean='128', area_mean='1223', smoothness_mean='0.0842', compactness_mean='0.113', concavity_mean='0.1145', concave_points_mean='0.06637', symmetry_mean='0.1428', fractal_dimension_mean='0.05313', radius_se='0.7392', texture_se='1.321', perimeter_se='4.722', area_se='109.9', smoothness_se='0.005539', compactness_se='0.02644', concavity_se='0.02664', concave_points_se='0.01078', symmetry_se='0.01332', fractal_dimension_se='0.002256', radius_worst='27.9', texture_worst='45.41', perimeter_worst='180.2', area_worst='2477', smoothness_worst='0.1408', compactness_worst='0.4097', concavity_worst='0.3995', concave_points_worst='0.1625', symmetry_worst='0.2713', fractal_dimension_worst='0.07568'),\n",
              " Row(diagnosis='0', radius_mean='13.65', texture_mean='13.16', perimeter_mean='87.88', area_mean='568.9', smoothness_mean='0.09646', compactness_mean='0.08711', concavity_mean='0.03888', concave_points_mean='0.02563', symmetry_mean='0.136', fractal_dimension_mean='0.06344', radius_se='0.2102', texture_se='0.4336', perimeter_se='1.391', area_se='17.4', smoothness_se='0.004133', compactness_se='0.01695', concavity_se='0.01652', concave_points_se='0.006659', symmetry_se='0.01371', fractal_dimension_se='0.002735', radius_worst='15.34', texture_worst='16.35', perimeter_worst='99.71', area_worst='706.2', smoothness_worst='0.1311', compactness_worst='0.2474', concavity_worst='0.1759', concave_points_worst='0.08056', symmetry_worst='0.238', fractal_dimension_worst='0.08718'),\n",
              " Row(diagnosis='1', radius_mean='15.75', texture_mean='20.25', perimeter_mean='102.6', area_mean='761.3', smoothness_mean='0.1025', compactness_mean='0.1204', concavity_mean='0.1147', concave_points_mean='0.06462', symmetry_mean='0.1935', fractal_dimension_mean='0.06303', radius_se='0.3473', texture_se='0.9209', perimeter_se='2.244', area_se='32.19', smoothness_se='0.004766', compactness_se='0.02374', concavity_se='0.02384', concave_points_se='0.008637', symmetry_se='0.01772', fractal_dimension_se='0.003131', radius_worst='19.56', texture_worst='30.29', perimeter_worst='125.9', area_worst='1088', smoothness_worst='0.1552', compactness_worst='0.448', concavity_worst='0.3976', concave_points_worst='0.1479', symmetry_worst='0.3993', fractal_dimension_worst='0.1064'),\n",
              " Row(diagnosis='0', radius_mean='13.27', texture_mean='17.02', perimeter_mean='84.55', area_mean='546.4', smoothness_mean='0.08445', compactness_mean='0.04994', concavity_mean='0.03554', concave_points_mean='0.02456', symmetry_mean='0.1496', fractal_dimension_mean='0.05674', radius_se='0.2927', texture_se='0.8907', perimeter_se='2.044', area_se='24.68', smoothness_se='0.006032', compactness_se='0.01104', concavity_se='0.02259', concave_points_se='0.009057', symmetry_se='0.01482', fractal_dimension_se='0.002496', radius_worst='15.14', texture_worst='23.6', perimeter_worst='98.84', area_worst='708.8', smoothness_worst='0.1276', compactness_worst='0.1311', concavity_worst='0.1786', concave_points_worst='0.09678', symmetry_worst='0.2506', fractal_dimension_worst='0.07623'),\n",
              " Row(diagnosis='0', radius_mean='15', texture_mean='15.51', perimeter_mean='97.45', area_mean='684.5', smoothness_mean='0.08371', compactness_mean='0.1096', concavity_mean='0.06505', concave_points_mean='0.0378', symmetry_mean='0.1881', fractal_dimension_mean='0.05907', radius_se='0.2318', texture_se='0.4966', perimeter_se='2.276', area_se='19.88', smoothness_se='0.004119', compactness_se='0.03207', concavity_se='0.03644', concave_points_se='0.01155', symmetry_se='0.01391', fractal_dimension_se='0.003204', radius_worst='16.41', texture_worst='19.31', perimeter_worst='114.2', area_worst='808.2', smoothness_worst='0.1136', compactness_worst='0.3627', concavity_worst='0.3402', concave_points_worst='0.1379', symmetry_worst='0.2954', fractal_dimension_worst='0.08362'),\n",
              " Row(diagnosis='0', radius_mean='12.62', texture_mean='23.97', perimeter_mean='81.35', area_mean='496.4', smoothness_mean='0.07903', compactness_mean='0.07529', concavity_mean='0.05438', concave_points_mean='0.02036', symmetry_mean='0.1514', fractal_dimension_mean='0.06019', radius_se='0.2449', texture_se='1.066', perimeter_se='1.445', area_se='18.51', smoothness_se='0.005169', compactness_se='0.02294', concavity_se='0.03016', concave_points_se='0.008691', symmetry_se='0.01365', fractal_dimension_se='0.003407', radius_worst='14.2', texture_worst='31.31', perimeter_worst='90.67', area_worst='624', smoothness_worst='0.1227', compactness_worst='0.3454', concavity_worst='0.3911', concave_points_worst='0.118', symmetry_worst='0.2826', fractal_dimension_worst='0.09585'),\n",
              " Row(diagnosis='1', radius_mean='12.83', texture_mean='22.33', perimeter_mean='85.26', area_mean='503.2', smoothness_mean='0.1088', compactness_mean='0.1799', concavity_mean='0.1695', concave_points_mean='0.06861', symmetry_mean='0.2123', fractal_dimension_mean='0.07254', radius_se='0.3061', texture_se='1.069', perimeter_se='2.257', area_se='25.13', smoothness_se='0.006983', compactness_se='0.03858', concavity_se='0.04683', concave_points_se='0.01499', symmetry_se='0.0168', fractal_dimension_se='0.005617', radius_worst='15.2', texture_worst='30.15', perimeter_worst='105.3', area_worst='706', smoothness_worst='0.1777', compactness_worst='0.5343', concavity_worst='0.6282', concave_points_worst='0.1977', symmetry_worst='0.3407', fractal_dimension_worst='0.1243'),\n",
              " Row(diagnosis='1', radius_mean='17.05', texture_mean='19.08', perimeter_mean='113.4', area_mean='895', smoothness_mean='0.1141', compactness_mean='0.1572', concavity_mean='0.191', concave_points_mean='0.109', symmetry_mean='0.2131', fractal_dimension_mean='0.06325', radius_se='0.2959', texture_se='0.679', perimeter_se='2.153', area_se='31.98', smoothness_se='0.005532', compactness_se='0.02008', concavity_se='0.03055', concave_points_se='0.01384', symmetry_se='0.01177', fractal_dimension_se='0.002336', radius_worst='19.59', texture_worst='24.89', perimeter_worst='133.5', area_worst='1189', smoothness_worst='0.1703', compactness_worst='0.3934', concavity_worst='0.5018', concave_points_worst='0.2543', symmetry_worst='0.3109', fractal_dimension_worst='0.09061'),\n",
              " Row(diagnosis='0', radius_mean='11.32', texture_mean='27.08', perimeter_mean='71.76', area_mean='395.7', smoothness_mean='0.06883', compactness_mean='0.03813', concavity_mean='0.01633', concave_points_mean='0.003125', symmetry_mean='0.1869', fractal_dimension_mean='0.05628', radius_se='0.121', texture_se='0.8927', perimeter_se='1.059', area_se='8.605', smoothness_se='0.003653', compactness_se='0.01647', concavity_se='0.01633', concave_points_se='0.003125', symmetry_se='0.01537', fractal_dimension_se='0.002052', radius_worst='12.08', texture_worst='33.75', perimeter_worst='79.82', area_worst='452.3', smoothness_worst='0.09203', compactness_worst='0.1432', concavity_worst='0.1089', concave_points_worst='0.02083', symmetry_worst='0.2849', fractal_dimension_worst='0.07087'),\n",
              " Row(diagnosis='1', radius_mean='20.51', texture_mean='27.81', perimeter_mean='134.4', area_mean='1319', smoothness_mean='0.09159', compactness_mean='0.1074', concavity_mean='0.1554', concave_points_mean='0.0834', symmetry_mean='0.1448', fractal_dimension_mean='0.05592', radius_se='0.524', texture_se='1.189', perimeter_se='3.767', area_se='70.01', smoothness_se='0.00502', compactness_se='0.02062', concavity_se='0.03457', concave_points_se='0.01091', symmetry_se='0.01298', fractal_dimension_se='0.002887', radius_worst='24.47', texture_worst='37.38', perimeter_worst='162.7', area_worst='1872', smoothness_worst='0.1223', compactness_worst='0.2761', concavity_worst='0.4146', concave_points_worst='0.1563', symmetry_worst='0.2437', fractal_dimension_worst='0.08328'),\n",
              " Row(diagnosis='1', radius_mean='20.48', texture_mean='21.46', perimeter_mean='132.5', area_mean='1306', smoothness_mean='0.08355', compactness_mean='0.08348', concavity_mean='0.09042', concave_points_mean='0.06022', symmetry_mean='0.1467', fractal_dimension_mean='0.05177', radius_se='0.6874', texture_se='1.041', perimeter_se='5.144', area_se='83.5', smoothness_se='0.007959', compactness_se='0.03133', concavity_se='0.04257', concave_points_se='0.01671', symmetry_se='0.01341', fractal_dimension_se='0.003933', radius_worst='24.22', texture_worst='26.17', perimeter_worst='161.7', area_worst='1750', smoothness_worst='0.1228', compactness_worst='0.2311', concavity_worst='0.3158', concave_points_worst='0.1445', symmetry_worst='0.2238', fractal_dimension_worst='0.07127'),\n",
              " Row(diagnosis='0', radius_mean='14.22', texture_mean='27.85', perimeter_mean='92.55', area_mean='623.9', smoothness_mean='0.08223', compactness_mean='0.1039', concavity_mean='0.1103', concave_points_mean='0.04408', symmetry_mean='0.1342', fractal_dimension_mean='0.06129', radius_se='0.3354', texture_se='2.324', perimeter_se='2.105', area_se='29.96', smoothness_se='0.006307', compactness_se='0.02845', concavity_se='0.0385', concave_points_se='0.01011', symmetry_se='0.01185', fractal_dimension_se='0.003589', radius_worst='15.75', texture_worst='40.54', perimeter_worst='102.5', area_worst='764', smoothness_worst='0.1081', compactness_worst='0.2426', concavity_worst='0.3064', concave_points_worst='0.08219', symmetry_worst='0.189', fractal_dimension_worst='0.07796'),\n",
              " Row(diagnosis='1', radius_mean='17.46', texture_mean='39.28', perimeter_mean='113.4', area_mean='920.6', smoothness_mean='0.09812', compactness_mean='0.1298', concavity_mean='0.1417', concave_points_mean='0.08811', symmetry_mean='0.1809', fractal_dimension_mean='0.05966', radius_se='0.5366', texture_se='0.8561', perimeter_se='3.002', area_se='49', smoothness_se='0.00486', compactness_se='0.02785', concavity_se='0.02602', concave_points_se='0.01374', symmetry_se='0.01226', fractal_dimension_se='0.002759', radius_worst='22.51', texture_worst='44.87', perimeter_worst='141.2', area_worst='1408', smoothness_worst='0.1365', compactness_worst='0.3735', concavity_worst='0.3241', concave_points_worst='0.2066', symmetry_worst='0.2853', fractal_dimension_worst='0.08496'),\n",
              " Row(diagnosis='0', radius_mean='10.48', texture_mean='19.86', perimeter_mean='66.72', area_mean='337.7', smoothness_mean='0.107', compactness_mean='0.05971', concavity_mean='0.04831', concave_points_mean='0.0307', symmetry_mean='0.1737', fractal_dimension_mean='0.0644', radius_se='0.3719', texture_se='2.612', perimeter_se='2.517', area_se='23.22', smoothness_se='0.01604', compactness_se='0.01386', concavity_se='0.01865', concave_points_se='0.01133', symmetry_se='0.03476', fractal_dimension_se='0.00356', radius_worst='11.48', texture_worst='29.46', perimeter_worst='73.68', area_worst='402.8', smoothness_worst='0.1515', compactness_worst='0.1026', concavity_worst='0.1181', concave_points_worst='0.06736', symmetry_worst='0.2883', fractal_dimension_worst='0.07748'),\n",
              " Row(diagnosis='0', radius_mean='13.2', texture_mean='17.43', perimeter_mean='84.13', area_mean='541.6', smoothness_mean='0.07215', compactness_mean='0.04524', concavity_mean='0.04336', concave_points_mean='0.01105', symmetry_mean='0.1487', fractal_dimension_mean='0.05635', radius_se='0.163', texture_se='1.601', perimeter_se='0.873', area_se='13.56', smoothness_se='0.006261', compactness_se='0.01569', concavity_se='0.03079', concave_points_se='0.005383', symmetry_se='0.01962', fractal_dimension_se='0.00225', radius_worst='13.94', texture_worst='27.82', perimeter_worst='88.28', area_worst='602', smoothness_worst='0.1101', compactness_worst='0.1508', concavity_worst='0.2298', concave_points_worst='0.0497', symmetry_worst='0.2767', fractal_dimension_worst='0.07198'),\n",
              " Row(diagnosis='0', radius_mean='10.65', texture_mean='25.22', perimeter_mean='68.01', area_mean='347', smoothness_mean='0.09657', compactness_mean='0.07234', concavity_mean='0.02379', concave_points_mean='0.01615', symmetry_mean='0.1897', fractal_dimension_mean='0.06329', radius_se='0.2497', texture_se='1.493', perimeter_se='1.497', area_se='16.64', smoothness_se='0.007189', compactness_se='0.01035', concavity_se='0.01081', concave_points_se='0.006245', symmetry_se='0.02158', fractal_dimension_se='0.002619', radius_worst='12.25', texture_worst='35.19', perimeter_worst='77.98', area_worst='455.7', smoothness_worst='0.1499', compactness_worst='0.1398', concavity_worst='0.1125', concave_points_worst='0.06136', symmetry_worst='0.3409', fractal_dimension_worst='0.08147'),\n",
              " Row(diagnosis='0', radius_mean='11.52', texture_mean='14.93', perimeter_mean='73.87', area_mean='406.3', smoothness_mean='0.1013', compactness_mean='0.07808', concavity_mean='0.04328', concave_points_mean='0.02929', symmetry_mean='0.1883', fractal_dimension_mean='0.06168', radius_se='0.2562', texture_se='1.038', perimeter_se='1.686', area_se='18.62', smoothness_se='0.006662', compactness_se='0.01228', concavity_se='0.02105', concave_points_se='0.01006', symmetry_se='0.01677', fractal_dimension_se='0.002784', radius_worst='12.65', texture_worst='21.19', perimeter_worst='80.88', area_worst='491.8', smoothness_worst='0.1389', compactness_worst='0.1582', concavity_worst='0.1804', concave_points_worst='0.09608', symmetry_worst='0.2664', fractal_dimension_worst='0.07809'),\n",
              " Row(diagnosis='1', radius_mean='20.94', texture_mean='23.56', perimeter_mean='138.9', area_mean='1364', smoothness_mean='0.1007', compactness_mean='0.1606', concavity_mean='0.2712', concave_points_mean='0.131', symmetry_mean='0.2205', fractal_dimension_mean='0.05898', radius_se='1.004', texture_se='0.8208', perimeter_se='6.372', area_se='137.9', smoothness_se='0.005283', compactness_se='0.03908', concavity_se='0.09518', concave_points_se='0.01864', symmetry_se='0.02401', fractal_dimension_se='0.005002', radius_worst='25.58', texture_worst='27', perimeter_worst='165.3', area_worst='2010', smoothness_worst='0.1211', compactness_worst='0.3172', concavity_worst='0.6991', concave_points_worst='0.2105', symmetry_worst='0.3126', fractal_dimension_worst='0.07849'),\n",
              " Row(diagnosis='1', radius_mean='19.73', texture_mean='19.82', perimeter_mean='130.7', area_mean='1206', smoothness_mean='0.1062', compactness_mean='0.1849', concavity_mean='0.2417', concave_points_mean='0.0974', symmetry_mean='0.1733', fractal_dimension_mean='0.06697', radius_se='0.7661', texture_se='0.78', perimeter_se='4.115', area_se='92.81', smoothness_se='0.008482', compactness_se='0.05057', concavity_se='0.068', concave_points_se='0.01971', symmetry_se='0.01467', fractal_dimension_se='0.007259', radius_worst='25.28', texture_worst='25.59', perimeter_worst='159.8', area_worst='1933', smoothness_worst='0.171', compactness_worst='0.5955', concavity_worst='0.8489', concave_points_worst='0.2507', symmetry_worst='0.2749', fractal_dimension_worst='0.1297'),\n",
              " Row(diagnosis='1', radius_mean='17.3', texture_mean='17.08', perimeter_mean='113', area_mean='928.2', smoothness_mean='0.1008', compactness_mean='0.1041', concavity_mean='0.1266', concave_points_mean='0.08353', symmetry_mean='0.1813', fractal_dimension_mean='0.05613', radius_se='0.3093', texture_se='0.8568', perimeter_se='2.193', area_se='33.63', smoothness_se='0.004757', compactness_se='0.01503', concavity_se='0.02332', concave_points_se='0.01262', symmetry_se='0.01394', fractal_dimension_se='0.002362', radius_worst='19.85', texture_worst='25.09', perimeter_worst='130.9', area_worst='1222', smoothness_worst='0.1416', compactness_worst='0.2405', concavity_worst='0.3378', concave_points_worst='0.1857', symmetry_worst='0.3138', fractal_dimension_worst='0.08113'),\n",
              " Row(diagnosis='1', radius_mean='19.55', texture_mean='28.77', perimeter_mean='133.6', area_mean='1207', smoothness_mean='0.0926', compactness_mean='0.2063', concavity_mean='0.1784', concave_points_mean='0.1144', symmetry_mean='0.1893', fractal_dimension_mean='0.06232', radius_se='0.8426', texture_se='1.199', perimeter_se='7.158', area_se='106.4', smoothness_se='0.006356', compactness_se='0.04765', concavity_se='0.03863', concave_points_se='0.01519', symmetry_se='0.01936', fractal_dimension_se='0.005252', radius_worst='25.05', texture_worst='36.27', perimeter_worst='178.6', area_worst='1926', smoothness_worst='0.1281', compactness_worst='0.5329', concavity_worst='0.4251', concave_points_worst='0.1941', symmetry_worst='0.2818', fractal_dimension_worst='0.1005'),\n",
              " Row(diagnosis='1', radius_mean='15.66', texture_mean='23.2', perimeter_mean='110.2', area_mean='773.5', smoothness_mean='0.1109', compactness_mean='0.3114', concavity_mean='0.3176', concave_points_mean='0.1377', symmetry_mean='0.2495', fractal_dimension_mean='0.08104', radius_se='1.292', texture_se='2.454', perimeter_se='10.12', area_se='138.5', smoothness_se='0.01236', compactness_se='0.05995', concavity_se='0.08232', concave_points_se='0.03024', symmetry_se='0.02337', fractal_dimension_se='0.006042', radius_worst='19.85', texture_worst='31.64', perimeter_worst='143.7', area_worst='1226', smoothness_worst='0.1504', compactness_worst='0.5172', concavity_worst='0.6181', concave_points_worst='0.2462', symmetry_worst='0.3277', fractal_dimension_worst='0.1019'),\n",
              " Row(diagnosis='1', radius_mean='15.53', texture_mean='33.56', perimeter_mean='103.7', area_mean='744.9', smoothness_mean='0.1063', compactness_mean='0.1639', concavity_mean='0.1751', concave_points_mean='0.08399', symmetry_mean='0.2091', fractal_dimension_mean='0.0665', radius_se='0.2419', texture_se='1.278', perimeter_se='1.903', area_se='23.02', smoothness_se='0.005345', compactness_se='0.02556', concavity_se='0.02889', concave_points_se='0.01022', symmetry_se='0.009947', fractal_dimension_se='0.003359', radius_worst='18.49', texture_worst='49.54', perimeter_worst='126.3', area_worst='1035', smoothness_worst='0.1883', compactness_worst='0.5564', concavity_worst='0.5703', concave_points_worst='0.2014', symmetry_worst='0.3512', fractal_dimension_worst='0.1204'),\n",
              " Row(diagnosis='0', radius_mean='13.59', texture_mean='21.84', perimeter_mean='87.16', area_mean='561', smoothness_mean='0.07956', compactness_mean='0.08259', concavity_mean='0.04072', concave_points_mean='0.02142', symmetry_mean='0.1635', fractal_dimension_mean='0.05859', radius_se='0.338', texture_se='1.916', perimeter_se='2.591', area_se='26.76', smoothness_se='0.005436', compactness_se='0.02406', concavity_se='0.03099', concave_points_se='0.009919', symmetry_se='0.0203', fractal_dimension_se='0.003009', radius_worst='14.8', texture_worst='30.04', perimeter_worst='97.66', area_worst='661.5', smoothness_worst='0.1005', compactness_worst='0.173', concavity_worst='0.1453', concave_points_worst='0.06189', symmetry_worst='0.2446', fractal_dimension_worst='0.07024'),\n",
              " Row(diagnosis='0', radius_mean='14.29', texture_mean='16.82', perimeter_mean='90.3', area_mean='632.6', smoothness_mean='0.06429', compactness_mean='0.02675', concavity_mean='0.00725', concave_points_mean='0.00625', symmetry_mean='0.1508', fractal_dimension_mean='0.05376', radius_se='0.1302', texture_se='0.7198', perimeter_se='0.8439', area_se='10.77', smoothness_se='0.003492', compactness_se='0.00371', concavity_se='0.004826', concave_points_se='0.003608', symmetry_se='0.01536', fractal_dimension_se='0.001381', radius_worst='14.91', texture_worst='20.65', perimeter_worst='94.44', area_worst='684.6', smoothness_worst='0.08567', compactness_worst='0.05036', concavity_worst='0.03866', concave_points_worst='0.03333', symmetry_worst='0.2458', fractal_dimension_worst='0.0612'),\n",
              " Row(diagnosis='0', radius_mean='11.29', texture_mean='13.04', perimeter_mean='72.23', area_mean='388', smoothness_mean='0.09834', compactness_mean='0.07608', concavity_mean='0.03265', concave_points_mean='0.02755', symmetry_mean='0.1769', fractal_dimension_mean='0.0627', radius_se='0.1904', texture_se='0.5293', perimeter_se='1.164', area_se='13.17', smoothness_se='0.006472', compactness_se='0.01122', concavity_se='0.01282', concave_points_se='0.008849', symmetry_se='0.01692', fractal_dimension_se='0.002817', radius_worst='12.32', texture_worst='16.18', perimeter_worst='78.27', area_worst='457.5', smoothness_worst='0.1358', compactness_worst='0.1507', concavity_worst='0.1275', concave_points_worst='0.0875', symmetry_worst='0.2733', fractal_dimension_worst='0.08022'),\n",
              " Row(diagnosis='1', radius_mean='17.93', texture_mean='24.48', perimeter_mean='115.2', area_mean='998.9', smoothness_mean='0.08855', compactness_mean='0.07027', concavity_mean='0.05699', concave_points_mean='0.04744', symmetry_mean='0.1538', fractal_dimension_mean='0.0551', radius_se='0.4212', texture_se='1.433', perimeter_se='2.765', area_se='45.81', smoothness_se='0.005444', compactness_se='0.01169', concavity_se='0.01622', concave_points_se='0.008522', symmetry_se='0.01419', fractal_dimension_se='0.002751', radius_worst='20.92', texture_worst='34.69', perimeter_worst='135.1', area_worst='1320', smoothness_worst='0.1315', compactness_worst='0.1806', concavity_worst='0.208', concave_points_worst='0.1136', symmetry_worst='0.2504', fractal_dimension_worst='0.07948'),\n",
              " Row(diagnosis='0', radius_mean='11.89', texture_mean='17.36', perimeter_mean='76.2', area_mean='435.6', smoothness_mean='0.1225', compactness_mean='0.0721', concavity_mean='0.05929', concave_points_mean='0.07404', symmetry_mean='0.2015', fractal_dimension_mean='0.05875', radius_se='0.6412', texture_se='2.293', perimeter_se='4.021', area_se='48.84', smoothness_se='0.01418', compactness_se='0.01489', concavity_se='0.01267', concave_points_se='0.0191', symmetry_se='0.02678', fractal_dimension_se='0.003002', radius_worst='12.4', texture_worst='18.99', perimeter_worst='79.46', area_worst='472.4', smoothness_worst='0.1359', compactness_worst='0.08368', concavity_worst='0.07153', concave_points_worst='0.08946', symmetry_worst='0.222', fractal_dimension_worst='0.06033'),\n",
              " Row(diagnosis='0', radius_mean='11.33', texture_mean='14.16', perimeter_mean='71.79', area_mean='396.6', smoothness_mean='0.09379', compactness_mean='0.03872', concavity_mean='0.001487', concave_points_mean='0.003333', symmetry_mean='0.1954', fractal_dimension_mean='0.05821', radius_se='0.2375', texture_se='1.28', perimeter_se='1.565', area_se='17.09', smoothness_se='0.008426', compactness_se='0.008998', concavity_se='0.001487', concave_points_se='0.003333', symmetry_se='0.02358', fractal_dimension_se='0.001627', radius_worst='12.2', texture_worst='18.99', perimeter_worst='77.37', area_worst='458', smoothness_worst='0.1259', compactness_worst='0.07348', concavity_worst='0.004955', concave_points_worst='0.01111', symmetry_worst='0.2758', fractal_dimension_worst='0.06386'),\n",
              " Row(diagnosis='1', radius_mean='18.81', texture_mean='19.98', perimeter_mean='120.9', area_mean='1102', smoothness_mean='0.08923', compactness_mean='0.05884', concavity_mean='0.0802', concave_points_mean='0.05843', symmetry_mean='0.155', fractal_dimension_mean='0.04996', radius_se='0.3283', texture_se='0.828', perimeter_se='2.363', area_se='36.74', smoothness_se='0.007571', compactness_se='0.01114', concavity_se='0.02623', concave_points_se='0.01463', symmetry_se='0.0193', fractal_dimension_se='0.001676', radius_worst='19.96', texture_worst='24.3', perimeter_worst='129', area_worst='1236', smoothness_worst='0.1243', compactness_worst='0.116', concavity_worst='0.221', concave_points_worst='0.1294', symmetry_worst='0.2567', fractal_dimension_worst='0.05737'),\n",
              " Row(diagnosis='1', radius_mean='19.4', texture_mean='18.18', perimeter_mean='127.2', area_mean='1145', smoothness_mean='0.1037', compactness_mean='0.1442', concavity_mean='0.1626', concave_points_mean='0.09464', symmetry_mean='0.1893', fractal_dimension_mean='0.05892', radius_se='0.4709', texture_se='0.9951', perimeter_se='2.903', area_se='53.16', smoothness_se='0.005654', compactness_se='0.02199', concavity_se='0.03059', concave_points_se='0.01499', symmetry_se='0.01623', fractal_dimension_se='0.001965', radius_worst='23.79', texture_worst='28.65', perimeter_worst='152.4', area_worst='1628', smoothness_worst='0.1518', compactness_worst='0.3749', concavity_worst='0.4316', concave_points_worst='0.2252', symmetry_worst='0.359', fractal_dimension_worst='0.07787'),\n",
              " Row(diagnosis='1', radius_mean='16.24', texture_mean='18.77', perimeter_mean='108.8', area_mean='805.1', smoothness_mean='0.1066', compactness_mean='0.1802', concavity_mean='0.1948', concave_points_mean='0.09052', symmetry_mean='0.1876', fractal_dimension_mean='0.06684', radius_se='0.2873', texture_se='0.9173', perimeter_se='2.464', area_se='28.09', smoothness_se='0.004563', compactness_se='0.03481', concavity_se='0.03872', concave_points_se='0.01209', symmetry_se='0.01388', fractal_dimension_se='0.004081', radius_worst='18.55', texture_worst='25.09', perimeter_worst='126.9', area_worst='1031', smoothness_worst='0.1365', compactness_worst='0.4706', concavity_worst='0.5026', concave_points_worst='0.1732', symmetry_worst='0.277', fractal_dimension_worst='0.1063'),\n",
              " Row(diagnosis='0', radius_mean='12.58', texture_mean='18.4', perimeter_mean='79.83', area_mean='489', smoothness_mean='0.08393', compactness_mean='0.04216', concavity_mean='0.00186', concave_points_mean='0.002924', symmetry_mean='0.1697', fractal_dimension_mean='0.05855', radius_se='0.2719', texture_se='1.35', perimeter_se='1.721', area_se='22.45', smoothness_se='0.006383', compactness_se='0.008008', concavity_se='0.00186', concave_points_se='0.002924', symmetry_se='0.02571', fractal_dimension_se='0.002015', radius_worst='13.5', texture_worst='23.08', perimeter_worst='85.56', area_worst='564.1', smoothness_worst='0.1038', compactness_worst='0.06624', concavity_worst='0.005579', concave_points_worst='0.008772', symmetry_worst='0.2505', fractal_dimension_worst='0.06431'),\n",
              " Row(diagnosis='0', radius_mean='11.94', texture_mean='20.76', perimeter_mean='77.87', area_mean='441', smoothness_mean='0.08605', compactness_mean='0.1011', concavity_mean='0.06574', concave_points_mean='0.03791', symmetry_mean='0.1588', fractal_dimension_mean='0.06766', radius_se='0.2742', texture_se='1.39', perimeter_se='3.198', area_se='21.91', smoothness_se='0.006719', compactness_se='0.05156', concavity_se='0.04387', concave_points_se='0.01633', symmetry_se='0.01872', fractal_dimension_se='0.008015', radius_worst='13.24', texture_worst='27.29', perimeter_worst='92.2', area_worst='546.1', smoothness_worst='0.1116', compactness_worst='0.2813', concavity_worst='0.2365', concave_points_worst='0.1155', symmetry_worst='0.2465', fractal_dimension_worst='0.09981'),\n",
              " Row(diagnosis='0', radius_mean='12.89', texture_mean='13.12', perimeter_mean='81.89', area_mean='515.9', smoothness_mean='0.06955', compactness_mean='0.03729', concavity_mean='0.0226', concave_points_mean='0.01171', symmetry_mean='0.1337', fractal_dimension_mean='0.05581', radius_se='0.1532', texture_se='0.469', perimeter_se='1.115', area_se='12.68', smoothness_se='0.004731', compactness_se='0.01345', concavity_se='0.01652', concave_points_se='0.005905', symmetry_se='0.01619', fractal_dimension_se='0.002081', radius_worst='13.62', texture_worst='15.54', perimeter_worst='87.4', area_worst='577', smoothness_worst='0.09616', compactness_worst='0.1147', concavity_worst='0.1186', concave_points_worst='0.05366', symmetry_worst='0.2309', fractal_dimension_worst='0.06915'),\n",
              " Row(diagnosis='0', radius_mean='12.95', texture_mean='16.02', perimeter_mean='83.14', area_mean='513.7', smoothness_mean='0.1005', compactness_mean='0.07943', concavity_mean='0.06155', concave_points_mean='0.0337', symmetry_mean='0.173', fractal_dimension_mean='0.0647', radius_se='0.2094', texture_se='0.7636', perimeter_se='1.231', area_se='17.67', smoothness_se='0.008725', compactness_se='0.02003', concavity_se='0.02335', concave_points_se='0.01132', symmetry_se='0.02625', fractal_dimension_se='0.004726', radius_worst='13.74', texture_worst='19.93', perimeter_worst='88.81', area_worst='585.4', smoothness_worst='0.1483', compactness_worst='0.2068', concavity_worst='0.2241', concave_points_worst='0.1056', symmetry_worst='0.338', fractal_dimension_worst='0.09584'),\n",
              " Row(diagnosis='0', radius_mean='11.85', texture_mean='17.46', perimeter_mean='75.54', area_mean='432.7', smoothness_mean='0.08372', compactness_mean='0.05642', concavity_mean='0.02688', concave_points_mean='0.0228', symmetry_mean='0.1875', fractal_dimension_mean='0.05715', radius_se='0.207', texture_se='1.238', perimeter_se='1.234', area_se='13.88', smoothness_se='0.007595', compactness_se='0.015', concavity_se='0.01412', concave_points_se='0.008578', symmetry_se='0.01792', fractal_dimension_se='0.001784', radius_worst='13.06', texture_worst='25.75', perimeter_worst='84.35', area_worst='517.8', smoothness_worst='0.1369', compactness_worst='0.1758', concavity_worst='0.1316', concave_points_worst='0.0914', symmetry_worst='0.3101', fractal_dimension_worst='0.07007'),\n",
              " Row(diagnosis='1', radius_mean='11.76', texture_mean='18.14', perimeter_mean='75', area_mean='431.1', smoothness_mean='0.09968', compactness_mean='0.05914', concavity_mean='0.02685', concave_points_mean='0.03515', symmetry_mean='0.1619', fractal_dimension_mean='0.06287', radius_se='0.645', texture_se='2.105', perimeter_se='4.138', area_se='49.11', smoothness_se='0.005596', compactness_se='0.01005', concavity_se='0.01272', concave_points_se='0.01432', symmetry_se='0.01575', fractal_dimension_se='0.002758', radius_worst='13.36', texture_worst='23.39', perimeter_worst='85.1', area_worst='553.6', smoothness_worst='0.1137', compactness_worst='0.07974', concavity_worst='0.0612', concave_points_worst='0.0716', symmetry_worst='0.1978', fractal_dimension_worst='0.06915'),\n",
              " Row(diagnosis='0', radius_mean='14.26', texture_mean='18.17', perimeter_mean='91.22', area_mean='633.1', smoothness_mean='0.06576', compactness_mean='0.0522', concavity_mean='0.02475', concave_points_mean='0.01374', symmetry_mean='0.1635', fractal_dimension_mean='0.05586', radius_se='0.23', texture_se='0.669', perimeter_se='1.661', area_se='20.56', smoothness_se='0.003169', compactness_se='0.01377', concavity_se='0.01079', concave_points_se='0.005243', symmetry_se='0.01103', fractal_dimension_se='0.001957', radius_worst='16.22', texture_worst='25.26', perimeter_worst='105.8', area_worst='819.7', smoothness_worst='0.09445', compactness_worst='0.2167', concavity_worst='0.1565', concave_points_worst='0.0753', symmetry_worst='0.2636', fractal_dimension_worst='0.07676'),\n",
              " Row(diagnosis='0', radius_mean='10.51', texture_mean='23.09', perimeter_mean='66.85', area_mean='334.2', smoothness_mean='0.1015', compactness_mean='0.06797', concavity_mean='0.02495', concave_points_mean='0.01875', symmetry_mean='0.1695', fractal_dimension_mean='0.06556', radius_se='0.2868', texture_se='1.143', perimeter_se='2.289', area_se='20.56', smoothness_se='0.01017', compactness_se='0.01443', concavity_se='0.01861', concave_points_se='0.0125', symmetry_se='0.03464', fractal_dimension_se='0.001971', radius_worst='10.93', texture_worst='24.22', perimeter_worst='70.1', area_worst='362.7', smoothness_worst='0.1143', compactness_worst='0.08614', concavity_worst='0.04158', concave_points_worst='0.03125', symmetry_worst='0.2227', fractal_dimension_worst='0.06777'),\n",
              " Row(diagnosis='1', radius_mean='20.09', texture_mean='23.86', perimeter_mean='134.7', area_mean='1247', smoothness_mean='0.108', compactness_mean='0.1838', concavity_mean='0.2283', concave_points_mean='0.128', symmetry_mean='0.2249', fractal_dimension_mean='0.07469', radius_se='1.072', texture_se='1.743', perimeter_se='7.804', area_se='130.8', smoothness_se='0.007964', compactness_se='0.04732', concavity_se='0.07649', concave_points_se='0.01936', symmetry_se='0.02736', fractal_dimension_se='0.005928', radius_worst='23.68', texture_worst='29.43', perimeter_worst='158.8', area_worst='1696', smoothness_worst='0.1347', compactness_worst='0.3391', concavity_worst='0.4932', concave_points_worst='0.1923', symmetry_worst='0.3294', fractal_dimension_worst='0.09469'),\n",
              " Row(diagnosis='0', radius_mean='10.49', texture_mean='18.61', perimeter_mean='66.86', area_mean='334.3', smoothness_mean='0.1068', compactness_mean='0.06678', concavity_mean='0.02297', concave_points_mean='0.0178', symmetry_mean='0.1482', fractal_dimension_mean='0.066', radius_se='0.1485', texture_se='1.563', perimeter_se='1.035', area_se='10.08', smoothness_se='0.008875', compactness_se='0.009362', concavity_se='0.01808', concave_points_se='0.009199', symmetry_se='0.01791', fractal_dimension_se='0.003317', radius_worst='11.06', texture_worst='24.54', perimeter_worst='70.76', area_worst='375.4', smoothness_worst='0.1413', compactness_worst='0.1044', concavity_worst='0.08423', concave_points_worst='0.06528', symmetry_worst='0.2213', fractal_dimension_worst='0.07842'),\n",
              " Row(diagnosis='0', radius_mean='11.6', texture_mean='24.49', perimeter_mean='74.23', area_mean='417.2', smoothness_mean='0.07474', compactness_mean='0.05688', concavity_mean='0.01974', concave_points_mean='0.01313', symmetry_mean='0.1935', fractal_dimension_mean='0.05878', radius_se='0.2512', texture_se='1.786', perimeter_se='1.961', area_se='18.21', smoothness_se='0.006122', compactness_se='0.02337', concavity_se='0.01596', concave_points_se='0.006998', symmetry_se='0.03194', fractal_dimension_se='0.002211', radius_worst='12.44', texture_worst='31.62', perimeter_worst='81.39', area_worst='476.5', smoothness_worst='0.09545', compactness_worst='0.1361', concavity_worst='0.07239', concave_points_worst='0.04815', symmetry_worst='0.3244', fractal_dimension_worst='0.06745'),\n",
              " Row(diagnosis='0', radius_mean='9', texture_mean='14.4', perimeter_mean='56.36', area_mean='246.3', smoothness_mean='0.07005', compactness_mean='0.03116', concavity_mean='0.003681', concave_points_mean='0.003472', symmetry_mean='0.1788', fractal_dimension_mean='0.06833', radius_se='0.1746', texture_se='1.305', perimeter_se='1.144', area_se='9.789', smoothness_se='0.007389', compactness_se='0.004883', concavity_se='0.003681', concave_points_se='0.003472', symmetry_se='0.02701', fractal_dimension_se='0.002153', radius_worst='9.699', texture_worst='20.07', perimeter_worst='60.9', area_worst='285.5', smoothness_worst='0.09861', compactness_worst='0.05232', concavity_worst='0.01472', concave_points_worst='0.01389', symmetry_worst='0.2991', fractal_dimension_worst='0.07804'),\n",
              " Row(diagnosis='0', radius_mean='13.05', texture_mean='13.84', perimeter_mean='82.71', area_mean='530.6', smoothness_mean='0.08352', compactness_mean='0.03735', concavity_mean='0.004559', concave_points_mean='0.008829', symmetry_mean='0.1453', fractal_dimension_mean='0.05518', radius_se='0.3975', texture_se='0.8285', perimeter_se='2.567', area_se='33.01', smoothness_se='0.004148', compactness_se='0.004711', concavity_se='0.002831', concave_points_se='0.004821', symmetry_se='0.01422', fractal_dimension_se='0.002273', radius_worst='14.73', texture_worst='17.4', perimeter_worst='93.96', area_worst='672.4', smoothness_worst='0.1016', compactness_worst='0.05847', concavity_worst='0.01824', concave_points_worst='0.03532', symmetry_worst='0.2107', fractal_dimension_worst='0.0658'),\n",
              " Row(diagnosis='0', radius_mean='11.7', texture_mean='19.11', perimeter_mean='74.33', area_mean='418.7', smoothness_mean='0.08814', compactness_mean='0.05253', concavity_mean='0.01583', concave_points_mean='0.01148', symmetry_mean='0.1936', fractal_dimension_mean='0.06128', radius_se='0.1601', texture_se='1.43', perimeter_se='1.109', area_se='11.28', smoothness_se='0.006064', compactness_se='0.00911', concavity_se='0.01042', concave_points_se='0.007638', symmetry_se='0.02349', fractal_dimension_se='0.001661', radius_worst='12.61', texture_worst='26.55', perimeter_worst='80.92', area_worst='483.1', smoothness_worst='0.1223', compactness_worst='0.1087', concavity_worst='0.07915', concave_points_worst='0.05741', symmetry_worst='0.3487', fractal_dimension_worst='0.06958'),\n",
              " Row(diagnosis='0', radius_mean='14.61', texture_mean='15.69', perimeter_mean='92.68', area_mean='664.9', smoothness_mean='0.07618', compactness_mean='0.03515', concavity_mean='0.01447', concave_points_mean='0.01877', symmetry_mean='0.1632', fractal_dimension_mean='0.05255', radius_se='0.316', texture_se='0.9115', perimeter_se='1.954', area_se='28.9', smoothness_se='0.005031', compactness_se='0.006021', concavity_se='0.005325', concave_points_se='0.006324', symmetry_se='0.01494', fractal_dimension_se='0.0008948', radius_worst='16.46', texture_worst='21.75', perimeter_worst='103.7', area_worst='840.8', smoothness_worst='0.1011', compactness_worst='0.07087', concavity_worst='0.04746', concave_points_worst='0.05813', symmetry_worst='0.253', fractal_dimension_worst='0.05695'),\n",
              " Row(diagnosis='0', radius_mean='12.76', texture_mean='13.37', perimeter_mean='82.29', area_mean='504.1', smoothness_mean='0.08794', compactness_mean='0.07948', concavity_mean='0.04052', concave_points_mean='0.02548', symmetry_mean='0.1601', fractal_dimension_mean='0.0614', radius_se='0.3265', texture_se='0.6594', perimeter_se='2.346', area_se='25.18', smoothness_se='0.006494', compactness_se='0.02768', concavity_se='0.03137', concave_points_se='0.01069', symmetry_se='0.01731', fractal_dimension_se='0.004392', radius_worst='14.19', texture_worst='16.4', perimeter_worst='92.04', area_worst='618.8', smoothness_worst='0.1194', compactness_worst='0.2208', concavity_worst='0.1769', concave_points_worst='0.08411', symmetry_worst='0.2564', fractal_dimension_worst='0.08253'),\n",
              " Row(diagnosis='0', radius_mean='11.54', texture_mean='10.72', perimeter_mean='73.73', area_mean='409.1', smoothness_mean='0.08597', compactness_mean='0.05969', concavity_mean='0.01367', concave_points_mean='0.008907', symmetry_mean='0.1833', fractal_dimension_mean='0.061', radius_se='0.1312', texture_se='0.3602', perimeter_se='1.107', area_se='9.438', smoothness_se='0.004124', compactness_se='0.0134', concavity_se='0.01003', concave_points_se='0.004667', symmetry_se='0.02032', fractal_dimension_se='0.001952', radius_worst='12.34', texture_worst='12.87', perimeter_worst='81.23', area_worst='467.8', smoothness_worst='0.1092', compactness_worst='0.1626', concavity_worst='0.08324', concave_points_worst='0.04715', symmetry_worst='0.339', fractal_dimension_worst='0.07434'),\n",
              " Row(diagnosis='0', radius_mean='8.597', texture_mean='18.6', perimeter_mean='54.09', area_mean='221.2', smoothness_mean='0.1074', compactness_mean='0.05847', concavity_mean='0', concave_points_mean='0', symmetry_mean='0.2163', fractal_dimension_mean='0.07359', radius_se='0.3368', texture_se='2.777', perimeter_se='2.222', area_se='17.81', smoothness_se='0.02075', compactness_se='0.01403', concavity_se='0', concave_points_se='0', symmetry_se='0.06146', fractal_dimension_se='0.00682', radius_worst='8.952', texture_worst='22.44', perimeter_worst='56.65', area_worst='240.1', smoothness_worst='0.1347', compactness_worst='0.07767', concavity_worst='0', concave_points_worst='0', symmetry_worst='0.3142', fractal_dimension_worst='0.08116'),\n",
              " Row(diagnosis='0', radius_mean='12.18', texture_mean='14.08', perimeter_mean='77.25', area_mean='461.4', smoothness_mean='0.07734', compactness_mean='0.03212', concavity_mean='0.01123', concave_points_mean='0.005051', symmetry_mean='0.1673', fractal_dimension_mean='0.05649', radius_se='0.2113', texture_se='0.5996', perimeter_se='1.438', area_se='15.82', smoothness_se='0.005343', compactness_se='0.005767', concavity_se='0.01123', concave_points_se='0.005051', symmetry_se='0.01977', fractal_dimension_se='0.0009502', radius_worst='12.85', texture_worst='16.47', perimeter_worst='81.6', area_worst='513.1', smoothness_worst='0.1001', compactness_worst='0.05332', concavity_worst='0.04116', concave_points_worst='0.01852', symmetry_worst='0.2293', fractal_dimension_worst='0.06037'),\n",
              " Row(diagnosis='1', radius_mean='18.22', texture_mean='18.87', perimeter_mean='118.7', area_mean='1027', smoothness_mean='0.09746', compactness_mean='0.1117', concavity_mean='0.113', concave_points_mean='0.0795', symmetry_mean='0.1807', fractal_dimension_mean='0.05664', radius_se='0.4041', texture_se='0.5503', perimeter_se='2.547', area_se='48.9', smoothness_se='0.004821', compactness_se='0.01659', concavity_se='0.02408', concave_points_se='0.01143', symmetry_se='0.01275', fractal_dimension_se='0.002451', radius_worst='21.84', texture_worst='25', perimeter_worst='140.9', area_worst='1485', smoothness_worst='0.1434', compactness_worst='0.2763', concavity_worst='0.3853', concave_points_worst='0.1776', symmetry_worst='0.2812', fractal_dimension_worst='0.08198'),\n",
              " Row(diagnosis='0', radius_mean='12.43', texture_mean='17', perimeter_mean='78.6', area_mean='477.3', smoothness_mean='0.07557', compactness_mean='0.03454', concavity_mean='0.01342', concave_points_mean='0.01699', symmetry_mean='0.1472', fractal_dimension_mean='0.05561', radius_se='0.3778', texture_se='2.2', perimeter_se='2.487', area_se='31.16', smoothness_se='0.007357', compactness_se='0.01079', concavity_se='0.009959', concave_points_se='0.0112', symmetry_se='0.03433', fractal_dimension_se='0.002961', radius_worst='12.9', texture_worst='20.21', perimeter_worst='81.76', area_worst='515.9', smoothness_worst='0.08409', compactness_worst='0.04712', concavity_worst='0.02237', concave_points_worst='0.02832', symmetry_worst='0.1901', fractal_dimension_worst='0.05932'),\n",
              " Row(diagnosis='1', radius_mean='20.16', texture_mean='19.66', perimeter_mean='131.1', area_mean='1274', smoothness_mean='0.0802', compactness_mean='0.08564', concavity_mean='0.1155', concave_points_mean='0.07726', symmetry_mean='0.1928', fractal_dimension_mean='0.05096', radius_se='0.5925', texture_se='0.6863', perimeter_se='3.868', area_se='74.85', smoothness_se='0.004536', compactness_se='0.01376', concavity_se='0.02645', concave_points_se='0.01247', symmetry_se='0.02193', fractal_dimension_se='0.001589', radius_worst='23.06', texture_worst='23.03', perimeter_worst='150.2', area_worst='1657', smoothness_worst='0.1054', compactness_worst='0.1537', concavity_worst='0.2606', concave_points_worst='0.1425', symmetry_worst='0.3055', fractal_dimension_worst='0.05933'),\n",
              " Row(diagnosis='0', radius_mean='12.86', texture_mean='13.32', perimeter_mean='82.82', area_mean='504.8', smoothness_mean='0.1134', compactness_mean='0.08834', concavity_mean='0.038', concave_points_mean='0.034', symmetry_mean='0.1543', fractal_dimension_mean='0.06476', radius_se='0.2212', texture_se='1.042', perimeter_se='1.614', area_se='16.57', smoothness_se='0.00591', compactness_se='0.02016', concavity_se='0.01902', concave_points_se='0.01011', symmetry_se='0.01202', fractal_dimension_se='0.003107', radius_worst='14.04', texture_worst='21.08', perimeter_worst='92.8', area_worst='599.5', smoothness_worst='0.1547', compactness_worst='0.2231', concavity_worst='0.1791', concave_points_worst='0.1155', symmetry_worst='0.2382', fractal_dimension_worst='0.08553'),\n",
              " Row(diagnosis='1', radius_mean='20.34', texture_mean='21.51', perimeter_mean='135.9', area_mean='1264', smoothness_mean='0.117', compactness_mean='0.1875', concavity_mean='0.2565', concave_points_mean='0.1504', symmetry_mean='0.2569', fractal_dimension_mean='0.0667', radius_se='0.5702', texture_se='1.023', perimeter_se='4.012', area_se='69.06', smoothness_se='0.005485', compactness_se='0.02431', concavity_se='0.0319', concave_points_se='0.01369', symmetry_se='0.02768', fractal_dimension_se='0.003345', radius_worst='25.3', texture_worst='31.86', perimeter_worst='171.1', area_worst='1938', smoothness_worst='0.1592', compactness_worst='0.4492', concavity_worst='0.5344', concave_points_worst='0.2685', symmetry_worst='0.5558', fractal_dimension_worst='0.1024'),\n",
              " Row(diagnosis='0', radius_mean='12.2', texture_mean='15.21', perimeter_mean='78.01', area_mean='457.9', smoothness_mean='0.08673', compactness_mean='0.06545', concavity_mean='0.01994', concave_points_mean='0.01692', symmetry_mean='0.1638', fractal_dimension_mean='0.06129', radius_se='0.2575', texture_se='0.8073', perimeter_se='1.959', area_se='19.01', smoothness_se='0.005403', compactness_se='0.01418', concavity_se='0.01051', concave_points_se='0.005142', symmetry_se='0.01333', fractal_dimension_se='0.002065', radius_worst='13.75', texture_worst='21.38', perimeter_worst='91.11', area_worst='583.1', smoothness_worst='0.1256', compactness_worst='0.1928', concavity_worst='0.1167', concave_points_worst='0.05556', symmetry_worst='0.2661', fractal_dimension_worst='0.07961'),\n",
              " Row(diagnosis='0', radius_mean='12.67', texture_mean='17.3', perimeter_mean='81.25', area_mean='489.9', smoothness_mean='0.1028', compactness_mean='0.07664', concavity_mean='0.03193', concave_points_mean='0.02107', symmetry_mean='0.1707', fractal_dimension_mean='0.05984', radius_se='0.21', texture_se='0.9505', perimeter_se='1.566', area_se='17.61', smoothness_se='0.006809', compactness_se='0.009514', concavity_se='0.01329', concave_points_se='0.006474', symmetry_se='0.02057', fractal_dimension_se='0.001784', radius_worst='13.71', texture_worst='21.1', perimeter_worst='88.7', area_worst='574.4', smoothness_worst='0.1384', compactness_worst='0.1212', concavity_worst='0.102', concave_points_worst='0.05602', symmetry_worst='0.2688', fractal_dimension_worst='0.06888'),\n",
              " Row(diagnosis='1', radius_mean='16.03', texture_mean='15.51', perimeter_mean='105.8', area_mean='793.2', smoothness_mean='0.09491', compactness_mean='0.1371', concavity_mean='0.1204', concave_points_mean='0.07041', symmetry_mean='0.1782', fractal_dimension_mean='0.05976', radius_se='0.3371', texture_se='0.7476', perimeter_se='2.629', area_se='33.27', smoothness_se='0.005839', compactness_se='0.03245', concavity_se='0.03715', concave_points_se='0.01459', symmetry_se='0.01467', fractal_dimension_se='0.003121', radius_worst='18.76', texture_worst='21.98', perimeter_worst='124.3', area_worst='1070', smoothness_worst='0.1435', compactness_worst='0.4478', concavity_worst='0.4956', concave_points_worst='0.1981', symmetry_worst='0.3019', fractal_dimension_worst='0.09124'),\n",
              " Row(diagnosis='0', radius_mean='12.98', texture_mean='19.35', perimeter_mean='84.52', area_mean='514', smoothness_mean='0.09579', compactness_mean='0.1125', concavity_mean='0.07107', concave_points_mean='0.0295', symmetry_mean='0.1761', fractal_dimension_mean='0.0654', radius_se='0.2684', texture_se='0.5664', perimeter_se='2.465', area_se='20.65', smoothness_se='0.005727', compactness_se='0.03255', concavity_se='0.04393', concave_points_se='0.009811', symmetry_se='0.02751', fractal_dimension_se='0.004572', radius_worst='14.42', texture_worst='21.95', perimeter_worst='99.21', area_worst='634.3', smoothness_worst='0.1288', compactness_worst='0.3253', concavity_worst='0.3439', concave_points_worst='0.09858', symmetry_worst='0.3596', fractal_dimension_worst='0.09166'),\n",
              " Row(diagnosis='0', radius_mean='11.25', texture_mean='14.78', perimeter_mean='71.38', area_mean='390', smoothness_mean='0.08306', compactness_mean='0.04458', concavity_mean='0.0009737', concave_points_mean='0.002941', symmetry_mean='0.1773', fractal_dimension_mean='0.06081', radius_se='0.2144', texture_se='0.9961', perimeter_se='1.529', area_se='15.07', smoothness_se='0.005617', compactness_se='0.007124', concavity_se='0.0009737', concave_points_se='0.002941', symmetry_se='0.017', fractal_dimension_se='0.00203', radius_worst='12.76', texture_worst='22.06', perimeter_worst='82.08', area_worst='492.7', smoothness_worst='0.1166', compactness_worst='0.09794', concavity_worst='0.005518', concave_points_worst='0.01667', symmetry_worst='0.2815', fractal_dimension_worst='0.07418'),\n",
              " Row(diagnosis='1', radius_mean='18.77', texture_mean='21.43', perimeter_mean='122.9', area_mean='1092', smoothness_mean='0.09116', compactness_mean='0.1402', concavity_mean='0.106', concave_points_mean='0.0609', symmetry_mean='0.1953', fractal_dimension_mean='0.06083', radius_se='0.6422', texture_se='1.53', perimeter_se='4.369', area_se='88.25', smoothness_se='0.007548', compactness_se='0.03897', concavity_se='0.03914', concave_points_se='0.01816', symmetry_se='0.02168', fractal_dimension_se='0.004445', radius_worst='24.54', texture_worst='34.37', perimeter_worst='161.1', area_worst='1873', smoothness_worst='0.1498', compactness_worst='0.4827', concavity_worst='0.4634', concave_points_worst='0.2048', symmetry_worst='0.3679', fractal_dimension_worst='0.0987'),\n",
              " Row(diagnosis='0', radius_mean='10.05', texture_mean='17.53', perimeter_mean='64.41', area_mean='310.8', smoothness_mean='0.1007', compactness_mean='0.07326', concavity_mean='0.02511', concave_points_mean='0.01775', symmetry_mean='0.189', fractal_dimension_mean='0.06331', radius_se='0.2619', texture_se='2.015', perimeter_se='1.778', area_se='16.85', smoothness_se='0.007803', compactness_se='0.01449', concavity_se='0.0169', concave_points_se='0.008043', symmetry_se='0.021', fractal_dimension_se='0.002778', radius_worst='11.16', texture_worst='26.84', perimeter_worst='71.98', area_worst='384', smoothness_worst='0.1402', compactness_worst='0.1402', concavity_worst='0.1055', concave_points_worst='0.06499', symmetry_worst='0.2894', fractal_dimension_worst='0.07664'),\n",
              " Row(diagnosis='0', radius_mean='14.42', texture_mean='16.54', perimeter_mean='94.15', area_mean='641.2', smoothness_mean='0.09751', compactness_mean='0.1139', concavity_mean='0.08007', concave_points_mean='0.04223', symmetry_mean='0.1912', fractal_dimension_mean='0.06412', radius_se='0.3491', texture_se='0.7706', perimeter_se='2.677', area_se='32.14', smoothness_se='0.004577', compactness_se='0.03053', concavity_se='0.0384', concave_points_se='0.01243', symmetry_se='0.01873', fractal_dimension_se='0.003373', radius_worst='16.67', texture_worst='21.51', perimeter_worst='111.4', area_worst='862.1', smoothness_worst='0.1294', compactness_worst='0.3371', concavity_worst='0.3755', concave_points_worst='0.1414', symmetry_worst='0.3053', fractal_dimension_worst='0.08764'),\n",
              " Row(diagnosis='0', radius_mean='9.606', texture_mean='16.84', perimeter_mean='61.64', area_mean='280.5', smoothness_mean='0.08481', compactness_mean='0.09228', concavity_mean='0.08422', concave_points_mean='0.02292', symmetry_mean='0.2036', fractal_dimension_mean='0.07125', radius_se='0.1844', texture_se='0.9429', perimeter_se='1.429', area_se='12.07', smoothness_se='0.005954', compactness_se='0.03471', concavity_se='0.05028', concave_points_se='0.00851', symmetry_se='0.0175', fractal_dimension_se='0.004031', radius_worst='10.75', texture_worst='23.07', perimeter_worst='71.25', area_worst='353.6', smoothness_worst='0.1233', compactness_worst='0.3416', concavity_worst='0.4341', concave_points_worst='0.0812', symmetry_worst='0.2982', fractal_dimension_worst='0.09825'),\n",
              " Row(diagnosis='0', radius_mean='11.06', texture_mean='14.96', perimeter_mean='71.49', area_mean='373.9', smoothness_mean='0.1033', compactness_mean='0.09097', concavity_mean='0.05397', concave_points_mean='0.03341', symmetry_mean='0.1776', fractal_dimension_mean='0.06907', radius_se='0.1601', texture_se='0.8225', perimeter_se='1.355', area_se='10.8', smoothness_se='0.007416', compactness_se='0.01877', concavity_se='0.02758', concave_points_se='0.0101', symmetry_se='0.02348', fractal_dimension_se='0.002917', radius_worst='11.92', texture_worst='19.9', perimeter_worst='79.76', area_worst='440', smoothness_worst='0.1418', compactness_worst='0.221', concavity_worst='0.2299', concave_points_worst='0.1075', symmetry_worst='0.3301', fractal_dimension_worst='0.0908'),\n",
              " Row(diagnosis='0', radius_mean='11.47', texture_mean='16.03', perimeter_mean='73.02', area_mean='402.7', smoothness_mean='0.09076', compactness_mean='0.05886', concavity_mean='0.02587', concave_points_mean='0.02322', symmetry_mean='0.1634', fractal_dimension_mean='0.06372', radius_se='0.1707', texture_se='0.7615', perimeter_se='1.09', area_se='12.25', smoothness_se='0.009191', compactness_se='0.008548', concavity_se='0.0094', concave_points_se='0.006315', symmetry_se='0.01755', fractal_dimension_se='0.003009', radius_worst='12.51', texture_worst='20.79', perimeter_worst='79.67', area_worst='475.8', smoothness_worst='0.1531', compactness_worst='0.112', concavity_worst='0.09823', concave_points_worst='0.06548', symmetry_worst='0.2851', fractal_dimension_worst='0.08763'),\n",
              " Row(diagnosis='1', radius_mean='15.75', texture_mean='19.22', perimeter_mean='107.1', area_mean='758.6', smoothness_mean='0.1243', compactness_mean='0.2364', concavity_mean='0.2914', concave_points_mean='0.1242', symmetry_mean='0.2375', fractal_dimension_mean='0.07603', radius_se='0.5204', texture_se='1.324', perimeter_se='3.477', area_se='51.22', smoothness_se='0.009329', compactness_se='0.06559', concavity_se='0.09953', concave_points_se='0.02283', symmetry_se='0.05543', fractal_dimension_se='0.00733', radius_worst='17.36', texture_worst='24.17', perimeter_worst='119.4', area_worst='915.3', smoothness_worst='0.155', compactness_worst='0.5046', concavity_worst='0.6872', concave_points_worst='0.2135', symmetry_worst='0.4245', fractal_dimension_worst='0.105'),\n",
              " Row(diagnosis='1', radius_mean='15.08', texture_mean='25.74', perimeter_mean='98', area_mean='716.6', smoothness_mean='0.1024', compactness_mean='0.09769', concavity_mean='0.1235', concave_points_mean='0.06553', symmetry_mean='0.1647', fractal_dimension_mean='0.06464', radius_se='0.6534', texture_se='1.506', perimeter_se='4.174', area_se='63.37', smoothness_se='0.01052', compactness_se='0.02431', concavity_se='0.04912', concave_points_se='0.01746', symmetry_se='0.0212', fractal_dimension_se='0.004867', radius_worst='18.51', texture_worst='33.22', perimeter_worst='121.2', area_worst='1050', smoothness_worst='0.166', compactness_worst='0.2356', concavity_worst='0.4029', concave_points_worst='0.1526', symmetry_worst='0.2654', fractal_dimension_worst='0.09438'),\n",
              " Row(diagnosis='0', radius_mean='13.05', texture_mean='18.59', perimeter_mean='85.09', area_mean='512', smoothness_mean='0.1082', compactness_mean='0.1304', concavity_mean='0.09603', concave_points_mean='0.05603', symmetry_mean='0.2035', fractal_dimension_mean='0.06501', radius_se='0.3106', texture_se='1.51', perimeter_se='2.59', area_se='21.57', smoothness_se='0.007807', compactness_se='0.03932', concavity_se='0.05112', concave_points_se='0.01876', symmetry_se='0.0286', fractal_dimension_se='0.005715', radius_worst='14.19', texture_worst='24.85', perimeter_worst='94.22', area_worst='591.2', smoothness_worst='0.1343', compactness_worst='0.2658', concavity_worst='0.2573', concave_points_worst='0.1258', symmetry_worst='0.3113', fractal_dimension_worst='0.08317'),\n",
              " Row(diagnosis='0', radius_mean='12.54', texture_mean='18.07', perimeter_mean='79.42', area_mean='491.9', smoothness_mean='0.07436', compactness_mean='0.0265', concavity_mean='0.001194', concave_points_mean='0.005449', symmetry_mean='0.1528', fractal_dimension_mean='0.05185', radius_se='0.3511', texture_se='0.9527', perimeter_se='2.329', area_se='28.3', smoothness_se='0.005783', compactness_se='0.004693', concavity_se='0.0007929', concave_points_se='0.003617', symmetry_se='0.02043', fractal_dimension_se='0.001058', radius_worst='13.72', texture_worst='20.98', perimeter_worst='86.82', area_worst='585.7', smoothness_worst='0.09293', compactness_worst='0.04327', concavity_worst='0.003581', concave_points_worst='0.01635', symmetry_worst='0.2233', fractal_dimension_worst='0.05521'),\n",
              " Row(diagnosis='0', radius_mean='12.76', texture_mean='18.84', perimeter_mean='81.87', area_mean='496.6', smoothness_mean='0.09676', compactness_mean='0.07952', concavity_mean='0.02688', concave_points_mean='0.01781', symmetry_mean='0.1759', fractal_dimension_mean='0.06183', radius_se='0.2213', texture_se='1.285', perimeter_se='1.535', area_se='17.26', smoothness_se='0.005608', compactness_se='0.01646', concavity_se='0.01529', concave_points_se='0.009997', symmetry_se='0.01909', fractal_dimension_se='0.002133', radius_worst='13.75', texture_worst='25.99', perimeter_worst='87.82', area_worst='579.7', smoothness_worst='0.1298', compactness_worst='0.1839', concavity_worst='0.1255', concave_points_worst='0.08312', symmetry_worst='0.2744', fractal_dimension_worst='0.07238'),\n",
              " Row(diagnosis='1', radius_mean='21.71', texture_mean='17.25', perimeter_mean='140.9', area_mean='1546', smoothness_mean='0.09384', compactness_mean='0.08562', concavity_mean='0.1168', concave_points_mean='0.08465', symmetry_mean='0.1717', fractal_dimension_mean='0.05054', radius_se='1.207', texture_se='1.051', perimeter_se='7.733', area_se='224.1', smoothness_se='0.005568', compactness_se='0.01112', concavity_se='0.02096', concave_points_se='0.01197', symmetry_se='0.01263', fractal_dimension_se='0.001803', radius_worst='30.75', texture_worst='26.44', perimeter_worst='199.5', area_worst='3143', smoothness_worst='0.1363', compactness_worst='0.1628', concavity_worst='0.2861', concave_points_worst='0.182', symmetry_worst='0.251', fractal_dimension_worst='0.06494'),\n",
              " Row(diagnosis='1', radius_mean='21.37', texture_mean='15.1', perimeter_mean='141.3', area_mean='1386', smoothness_mean='0.1001', compactness_mean='0.1515', concavity_mean='0.1932', concave_points_mean='0.1255', symmetry_mean='0.1973', fractal_dimension_mean='0.06183', radius_se='0.3414', texture_se='1.309', perimeter_se='2.407', area_se='39.06', smoothness_se='0.004426', compactness_se='0.02675', concavity_se='0.03437', concave_points_se='0.01343', symmetry_se='0.01675', fractal_dimension_se='0.004367', radius_worst='22.69', texture_worst='21.84', perimeter_worst='152.1', area_worst='1535', smoothness_worst='0.1192', compactness_worst='0.284', concavity_worst='0.4024', concave_points_worst='0.1966', symmetry_worst='0.273', fractal_dimension_worst='0.08666'),\n",
              " Row(diagnosis='0', radius_mean='13.46', texture_mean='28.21', perimeter_mean='85.89', area_mean='562.1', smoothness_mean='0.07517', compactness_mean='0.04726', concavity_mean='0.01271', concave_points_mean='0.01117', symmetry_mean='0.1421', fractal_dimension_mean='0.05763', radius_se='0.1689', texture_se='1.15', perimeter_se='1.4', area_se='14.91', smoothness_se='0.004942', compactness_se='0.01203', concavity_se='0.007508', concave_points_se='0.005179', symmetry_se='0.01442', fractal_dimension_se='0.001684', radius_worst='14.69', texture_worst='35.63', perimeter_worst='97.11', area_worst='680.6', smoothness_worst='0.1108', compactness_worst='0.1457', concavity_worst='0.07934', concave_points_worst='0.05781', symmetry_worst='0.2694', fractal_dimension_worst='0.07061'),\n",
              " Row(diagnosis='0', radius_mean='12.05', texture_mean='22.72', perimeter_mean='78.75', area_mean='447.8', smoothness_mean='0.06935', compactness_mean='0.1073', concavity_mean='0.07943', concave_points_mean='0.02978', symmetry_mean='0.1203', fractal_dimension_mean='0.06659', radius_se='0.1194', texture_se='1.434', perimeter_se='1.778', area_se='9.549', smoothness_se='0.005042', compactness_se='0.0456', concavity_se='0.04305', concave_points_se='0.01667', symmetry_se='0.0247', fractal_dimension_se='0.007358', radius_worst='12.57', texture_worst='28.71', perimeter_worst='87.36', area_worst='488.4', smoothness_worst='0.08799', compactness_worst='0.3214', concavity_worst='0.2912', concave_points_worst='0.1092', symmetry_worst='0.2191', fractal_dimension_worst='0.09349'),\n",
              " Row(diagnosis='0', radius_mean='13.28', texture_mean='13.72', perimeter_mean='85.79', area_mean='541.8', smoothness_mean='0.08363', compactness_mean='0.08575', concavity_mean='0.05077', concave_points_mean='0.02864', symmetry_mean='0.1617', fractal_dimension_mean='0.05594', radius_se='0.1833', texture_se='0.5308', perimeter_se='1.592', area_se='15.26', smoothness_se='0.004271', compactness_se='0.02073', concavity_se='0.02828', concave_points_se='0.008468', symmetry_se='0.01461', fractal_dimension_se='0.002613', radius_worst='14.24', texture_worst='17.37', perimeter_worst='96.59', area_worst='623.7', smoothness_worst='0.1166', compactness_worst='0.2685', concavity_worst='0.2866', concave_points_worst='0.09173', symmetry_worst='0.2736', fractal_dimension_worst='0.0732'),\n",
              " Row(diagnosis='1', radius_mean='14.6', texture_mean='23.29', perimeter_mean='93.97', area_mean='664.7', smoothness_mean='0.08682', compactness_mean='0.06636', concavity_mean='0.0839', concave_points_mean='0.05271', symmetry_mean='0.1627', fractal_dimension_mean='0.05416', radius_se='0.4157', texture_se='1.627', perimeter_se='2.914', area_se='33.01', smoothness_se='0.008312', compactness_se='0.01742', concavity_se='0.03389', concave_points_se='0.01576', symmetry_se='0.0174', fractal_dimension_se='0.002871', radius_worst='15.79', texture_worst='31.71', perimeter_worst='102.2', area_worst='758.2', smoothness_worst='0.1312', compactness_worst='0.1581', concavity_worst='0.2675', concave_points_worst='0.1359', symmetry_worst='0.2477', fractal_dimension_worst='0.06836'),\n",
              " Row(diagnosis='0', radius_mean='12.21', texture_mean='14.09', perimeter_mean='78.78', area_mean='462', smoothness_mean='0.08108', compactness_mean='0.07823', concavity_mean='0.06839', concave_points_mean='0.02534', symmetry_mean='0.1646', fractal_dimension_mean='0.06154', radius_se='0.2666', texture_se='0.8309', perimeter_se='2.097', area_se='19.96', smoothness_se='0.004405', compactness_se='0.03026', concavity_se='0.04344', concave_points_se='0.01087', symmetry_se='0.01921', fractal_dimension_se='0.004622', radius_worst='13.13', texture_worst='19.29', perimeter_worst='87.65', area_worst='529.9', smoothness_worst='0.1026', compactness_worst='0.2431', concavity_worst='0.3076', concave_points_worst='0.0914', symmetry_worst='0.2677', fractal_dimension_worst='0.08824'),\n",
              " Row(diagnosis='0', radius_mean='13.88', texture_mean='16.16', perimeter_mean='88.37', area_mean='596.6', smoothness_mean='0.07026', compactness_mean='0.04831', concavity_mean='0.02045', concave_points_mean='0.008507', symmetry_mean='0.1607', fractal_dimension_mean='0.05474', radius_se='0.2541', texture_se='0.6218', perimeter_se='1.709', area_se='23.12', smoothness_se='0.003728', compactness_se='0.01415', concavity_se='0.01988', concave_points_se='0.007016', symmetry_se='0.01647', fractal_dimension_se='0.00197', radius_worst='15.51', texture_worst='19.97', perimeter_worst='99.66', area_worst='745.3', smoothness_worst='0.08484', compactness_worst='0.1233', concavity_worst='0.1091', concave_points_worst='0.04537', symmetry_worst='0.2542', fractal_dimension_worst='0.06623'),\n",
              " Row(diagnosis='0', radius_mean='10.26', texture_mean='12.22', perimeter_mean='65.75', area_mean='321.6', smoothness_mean='0.09996', compactness_mean='0.07542', concavity_mean='0.01923', concave_points_mean='0.01968', symmetry_mean='0.18', fractal_dimension_mean='0.06569', radius_se='0.1911', texture_se='0.5477', perimeter_se='1.348', area_se='11.88', smoothness_se='0.005682', compactness_se='0.01365', concavity_se='0.008496', concave_points_se='0.006929', symmetry_se='0.01938', fractal_dimension_se='0.002371', radius_worst='11.38', texture_worst='15.65', perimeter_worst='73.23', area_worst='394.5', smoothness_worst='0.1343', compactness_worst='0.165', concavity_worst='0.08615', concave_points_worst='0.06696', symmetry_worst='0.2937', fractal_dimension_worst='0.07722'),\n",
              " Row(diagnosis='0', radius_mean='8.734', texture_mean='16.84', perimeter_mean='55.27', area_mean='234.3', smoothness_mean='0.1039', compactness_mean='0.07428', concavity_mean='0', concave_points_mean='0', symmetry_mean='0.1985', fractal_dimension_mean='0.07098', radius_se='0.5169', texture_se='2.079', perimeter_se='3.167', area_se='28.85', smoothness_se='0.01582', compactness_se='0.01966', concavity_se='0', concave_points_se='0', symmetry_se='0.01865', fractal_dimension_se='0.006736', radius_worst='10.17', texture_worst='22.8', perimeter_worst='64.01', area_worst='317', smoothness_worst='0.146', compactness_worst='0.131', concavity_worst='0', concave_points_worst='0', symmetry_worst='0.2445', fractal_dimension_worst='0.08865'),\n",
              " Row(diagnosis='1', radius_mean='15.49', texture_mean='19.97', perimeter_mean='102.4', area_mean='744.7', smoothness_mean='0.116', compactness_mean='0.1562', concavity_mean='0.1891', concave_points_mean='0.09113', symmetry_mean='0.1929', fractal_dimension_mean='0.06744', radius_se='0.647', texture_se='1.331', perimeter_se='4.675', area_se='66.91', smoothness_se='0.007269', compactness_se='0.02928', concavity_se='0.04972', concave_points_se='0.01639', symmetry_se='0.01852', fractal_dimension_se='0.004232', radius_worst='21.2', texture_worst='29.41', perimeter_worst='142.1', area_worst='1359', smoothness_worst='0.1681', compactness_worst='0.3913', concavity_worst='0.5553', concave_points_worst='0.2121', symmetry_worst='0.3187', fractal_dimension_worst='0.1019'),\n",
              " Row(diagnosis='1', radius_mean='21.61', texture_mean='22.28', perimeter_mean='144.4', area_mean='1407', smoothness_mean='0.1167', compactness_mean='0.2087', concavity_mean='0.281', concave_points_mean='0.1562', symmetry_mean='0.2162', fractal_dimension_mean='0.06606', radius_se='0.6242', texture_se='0.9209', perimeter_se='4.158', area_se='80.99', smoothness_se='0.005215', compactness_se='0.03726', concavity_se='0.04718', concave_points_se='0.01288', symmetry_se='0.02045', fractal_dimension_se='0.004028', radius_worst='26.23', texture_worst='28.74', perimeter_worst='172', area_worst='2081', smoothness_worst='0.1502', compactness_worst='0.5717', concavity_worst='0.7053', concave_points_worst='0.2422', symmetry_worst='0.3828', fractal_dimension_worst='0.1007'),\n",
              " Row(diagnosis='0', radius_mean='12.1', texture_mean='17.72', perimeter_mean='78.07', area_mean='446.2', smoothness_mean='0.1029', compactness_mean='0.09758', concavity_mean='0.04783', concave_points_mean='0.03326', symmetry_mean='0.1937', fractal_dimension_mean='0.06161', radius_se='0.2841', texture_se='1.652', perimeter_se='1.869', area_se='22.22', smoothness_se='0.008146', compactness_se='0.01631', concavity_se='0.01843', concave_points_se='0.007513', symmetry_se='0.02015', fractal_dimension_se='0.001798', radius_worst='13.56', texture_worst='25.8', perimeter_worst='88.33', area_worst='559.5', smoothness_worst='0.1432', compactness_worst='0.1773', concavity_worst='0.1603', concave_points_worst='0.06266', symmetry_worst='0.3049', fractal_dimension_worst='0.07081'),\n",
              " Row(diagnosis='0', radius_mean='14.06', texture_mean='17.18', perimeter_mean='89.75', area_mean='609.1', smoothness_mean='0.08045', compactness_mean='0.05361', concavity_mean='0.02681', concave_points_mean='0.03251', symmetry_mean='0.1641', fractal_dimension_mean='0.05764', radius_se='0.1504', texture_se='1.685', perimeter_se='1.237', area_se='12.67', smoothness_se='0.005371', compactness_se='0.01273', concavity_se='0.01132', concave_points_se='0.009155', symmetry_se='0.01719', fractal_dimension_se='0.001444', radius_worst='14.92', texture_worst='25.34', perimeter_worst='96.42', area_worst='684.5', smoothness_worst='0.1066', compactness_worst='0.1231', concavity_worst='0.0846', concave_points_worst='0.07911', symmetry_worst='0.2523', fractal_dimension_worst='0.06609'),\n",
              " Row(diagnosis='0', radius_mean='12.8', texture_mean='17.46', perimeter_mean='83.05', area_mean='508.3', smoothness_mean='0.08044', compactness_mean='0.08895', concavity_mean='0.0739', concave_points_mean='0.04083', symmetry_mean='0.1574', fractal_dimension_mean='0.0575', radius_se='0.3639', texture_se='1.265', perimeter_se='2.668', area_se='30.57', smoothness_se='0.005421', compactness_se='0.03477', concavity_se='0.04545', concave_points_se='0.01384', symmetry_se='0.01869', fractal_dimension_se='0.004067', radius_worst='13.74', texture_worst='21.06', perimeter_worst='90.72', area_worst='591', smoothness_worst='0.09534', compactness_worst='0.1812', concavity_worst='0.1901', concave_points_worst='0.08296', symmetry_worst='0.1988', fractal_dimension_worst='0.07053'),\n",
              " Row(diagnosis='1', radius_mean='17.91', texture_mean='21.02', perimeter_mean='124.4', area_mean='994', smoothness_mean='0.123', compactness_mean='0.2576', concavity_mean='0.3189', concave_points_mean='0.1198', symmetry_mean='0.2113', fractal_dimension_mean='0.07115', radius_se='0.403', texture_se='0.7747', perimeter_se='3.123', area_se='41.51', smoothness_se='0.007159', compactness_se='0.03718', concavity_se='0.06165', concave_points_se='0.01051', symmetry_se='0.01591', fractal_dimension_se='0.005099', radius_worst='20.8', texture_worst='27.78', perimeter_worst='149.6', area_worst='1304', smoothness_worst='0.1873', compactness_worst='0.5917', concavity_worst='0.9034', concave_points_worst='0.1964', symmetry_worst='0.3245', fractal_dimension_worst='0.1198'),\n",
              " Row(diagnosis='0', radius_mean='11.93', texture_mean='10.91', perimeter_mean='76.14', area_mean='442.7', smoothness_mean='0.08872', compactness_mean='0.05242', concavity_mean='0.02606', concave_points_mean='0.01796', symmetry_mean='0.1601', fractal_dimension_mean='0.05541', radius_se='0.2522', texture_se='1.045', perimeter_se='1.649', area_se='18.95', smoothness_se='0.006175', compactness_se='0.01204', concavity_se='0.01376', concave_points_se='0.005832', symmetry_se='0.01096', fractal_dimension_se='0.001857', radius_worst='13.8', texture_worst='20.14', perimeter_worst='87.64', area_worst='589.5', smoothness_worst='0.1374', compactness_worst='0.1575', concavity_worst='0.1514', concave_points_worst='0.06876', symmetry_worst='0.246', fractal_dimension_worst='0.07262'),\n",
              " Row(diagnosis='0', radius_mean='10.94', texture_mean='18.59', perimeter_mean='70.39', area_mean='370', smoothness_mean='0.1004', compactness_mean='0.0746', concavity_mean='0.04944', concave_points_mean='0.02932', symmetry_mean='0.1486', fractal_dimension_mean='0.06615', radius_se='0.3796', texture_se='1.743', perimeter_se='3.018', area_se='25.78', smoothness_se='0.009519', compactness_se='0.02134', concavity_se='0.0199', concave_points_se='0.01155', symmetry_se='0.02079', fractal_dimension_se='0.002701', radius_worst='12.4', texture_worst='25.58', perimeter_worst='82.76', area_worst='472.4', smoothness_worst='0.1363', compactness_worst='0.1644', concavity_worst='0.1412', concave_points_worst='0.07887', symmetry_worst='0.2251', fractal_dimension_worst='0.07732'),\n",
              " Row(diagnosis='0', radius_mean='16.14', texture_mean='14.86', perimeter_mean='104.3', area_mean='800', smoothness_mean='0.09495', compactness_mean='0.08501', concavity_mean='0.055', concave_points_mean='0.04528', symmetry_mean='0.1735', fractal_dimension_mean='0.05875', radius_se='0.2387', texture_se='0.6372', perimeter_se='1.729', area_se='21.83', smoothness_se='0.003958', compactness_se='0.01246', concavity_se='0.01831', concave_points_se='0.008747', symmetry_se='0.015', fractal_dimension_se='0.001621', radius_worst='17.71', texture_worst='19.58', perimeter_worst='115.9', area_worst='947.9', smoothness_worst='0.1206', compactness_worst='0.1722', concavity_worst='0.231', concave_points_worst='0.1129', symmetry_worst='0.2778', fractal_dimension_worst='0.07012'),\n",
              " Row(diagnosis='1', radius_mean='17.99', texture_mean='20.66', perimeter_mean='117.8', area_mean='991.7', smoothness_mean='0.1036', compactness_mean='0.1304', concavity_mean='0.1201', concave_points_mean='0.08824', symmetry_mean='0.1992', fractal_dimension_mean='0.06069', radius_se='0.4537', texture_se='0.8733', perimeter_se='3.061', area_se='49.81', smoothness_se='0.007231', compactness_se='0.02772', concavity_se='0.02509', concave_points_se='0.0148', symmetry_se='0.01414', fractal_dimension_se='0.003336', radius_worst='21.08', texture_worst='25.41', perimeter_worst='138.1', area_worst='1349', smoothness_worst='0.1482', compactness_worst='0.3735', concavity_worst='0.3301', concave_points_worst='0.1974', symmetry_worst='0.306', fractal_dimension_worst='0.08503'),\n",
              " Row(diagnosis='0', radius_mean='12.27', texture_mean='17.92', perimeter_mean='78.41', area_mean='466.1', smoothness_mean='0.08685', compactness_mean='0.06526', concavity_mean='0.03211', concave_points_mean='0.02653', symmetry_mean='0.1966', fractal_dimension_mean='0.05597', radius_se='0.3342', texture_se='1.781', perimeter_se='2.079', area_se='25.79', smoothness_se='0.005888', compactness_se='0.0231', concavity_se='0.02059', concave_points_se='0.01075', symmetry_se='0.02578', fractal_dimension_se='0.002267', radius_worst='14.1', texture_worst='28.88', perimeter_worst='89', area_worst='610.2', smoothness_worst='0.124', compactness_worst='0.1795', concavity_worst='0.1377', concave_points_worst='0.09532', symmetry_worst='0.3455', fractal_dimension_worst='0.06896'),\n",
              " Row(diagnosis='0', radius_mean='14.99', texture_mean='22.11', perimeter_mean='97.53', area_mean='693.7', smoothness_mean='0.08515', compactness_mean='0.1025', concavity_mean='0.06859', concave_points_mean='0.03876', symmetry_mean='0.1944', fractal_dimension_mean='0.05913', radius_se='0.3186', texture_se='1.336', perimeter_se='2.31', area_se='28.51', smoothness_se='0.004449', compactness_se='0.02808', concavity_se='0.03312', concave_points_se='0.01196', symmetry_se='0.01906', fractal_dimension_se='0.004015', radius_worst='16.76', texture_worst='31.55', perimeter_worst='110.2', area_worst='867.1', smoothness_worst='0.1077', compactness_worst='0.3345', concavity_worst='0.3114', concave_points_worst='0.1308', symmetry_worst='0.3163', fractal_dimension_worst='0.09251'),\n",
              " Row(diagnosis='1', radius_mean='15.13', texture_mean='29.81', perimeter_mean='96.71', area_mean='719.5', smoothness_mean='0.0832', compactness_mean='0.04605', concavity_mean='0.04686', concave_points_mean='0.02739', symmetry_mean='0.1852', fractal_dimension_mean='0.05294', radius_se='0.4681', texture_se='1.627', perimeter_se='3.043', area_se='45.38', smoothness_se='0.006831', compactness_se='0.01427', concavity_se='0.02489', concave_points_se='0.009087', symmetry_se='0.03151', fractal_dimension_se='0.00175', radius_worst='17.26', texture_worst='36.91', perimeter_worst='110.1', area_worst='931.4', smoothness_worst='0.1148', compactness_worst='0.09866', concavity_worst='0.1547', concave_points_worst='0.06575', symmetry_worst='0.3233', fractal_dimension_worst='0.06165'),\n",
              " Row(diagnosis='0', radius_mean='9.405', texture_mean='21.7', perimeter_mean='59.6', area_mean='271.2', smoothness_mean='0.1044', compactness_mean='0.06159', concavity_mean='0.02047', concave_points_mean='0.01257', symmetry_mean='0.2025', fractal_dimension_mean='0.06601', radius_se='0.4302', texture_se='2.878', perimeter_se='2.759', area_se='25.17', smoothness_se='0.01474', compactness_se='0.01674', concavity_se='0.01367', concave_points_se='0.008674', symmetry_se='0.03044', fractal_dimension_se='0.00459', radius_worst='10.85', texture_worst='31.24', perimeter_worst='68.73', area_worst='359.4', smoothness_worst='0.1526', compactness_worst='0.1193', concavity_worst='0.06141', concave_points_worst='0.0377', symmetry_worst='0.2872', fractal_dimension_worst='0.08304'),\n",
              " Row(diagnosis='0', radius_mean='12.7', texture_mean='12.17', perimeter_mean='80.88', area_mean='495', smoothness_mean='0.08785', compactness_mean='0.05794', concavity_mean='0.0236', concave_points_mean='0.02402', symmetry_mean='0.1583', fractal_dimension_mean='0.06275', radius_se='0.2253', texture_se='0.6457', perimeter_se='1.527', area_se='17.37', smoothness_se='0.006131', compactness_se='0.01263', concavity_se='0.009075', concave_points_se='0.008231', symmetry_se='0.01713', fractal_dimension_se='0.004414', radius_worst='13.65', texture_worst='16.92', perimeter_worst='88.12', area_worst='566.9', smoothness_worst='0.1314', compactness_worst='0.1607', concavity_worst='0.09385', concave_points_worst='0.08224', symmetry_worst='0.2775', fractal_dimension_worst='0.09464'),\n",
              " Row(diagnosis='0', radius_mean='11.61', texture_mean='16.02', perimeter_mean='75.46', area_mean='408.2', smoothness_mean='0.1088', compactness_mean='0.1168', concavity_mean='0.07097', concave_points_mean='0.04497', symmetry_mean='0.1886', fractal_dimension_mean='0.0632', radius_se='0.2456', texture_se='0.7339', perimeter_se='1.667', area_se='15.89', smoothness_se='0.005884', compactness_se='0.02005', concavity_se='0.02631', concave_points_se='0.01304', symmetry_se='0.01848', fractal_dimension_se='0.001982', radius_worst='12.64', texture_worst='19.67', perimeter_worst='81.93', area_worst='475.7', smoothness_worst='0.1415', compactness_worst='0.217', concavity_worst='0.2302', concave_points_worst='0.1105', symmetry_worst='0.2787', fractal_dimension_worst='0.07427'),\n",
              " Row(diagnosis='0', radius_mean='10.03', texture_mean='21.28', perimeter_mean='63.19', area_mean='307.3', smoothness_mean='0.08117', compactness_mean='0.03912', concavity_mean='0.00247', concave_points_mean='0.005159', symmetry_mean='0.163', fractal_dimension_mean='0.06439', radius_se='0.1851', texture_se='1.341', perimeter_se='1.184', area_se='11.6', smoothness_se='0.005724', compactness_se='0.005697', concavity_se='0.002074', concave_points_se='0.003527', symmetry_se='0.01445', fractal_dimension_se='0.002411', radius_worst='11.11', texture_worst='28.94', perimeter_worst='69.92', area_worst='376.3', smoothness_worst='0.1126', compactness_worst='0.07094', concavity_worst='0.01235', concave_points_worst='0.02579', symmetry_worst='0.2349', fractal_dimension_worst='0.08061'),\n",
              " Row(diagnosis='0', radius_mean='11.13', texture_mean='16.62', perimeter_mean='70.47', area_mean='381.1', smoothness_mean='0.08151', compactness_mean='0.03834', concavity_mean='0.01369', concave_points_mean='0.0137', symmetry_mean='0.1511', fractal_dimension_mean='0.06148', radius_se='0.1415', texture_se='0.9671', perimeter_se='0.968', area_se='9.704', smoothness_se='0.005883', compactness_se='0.006263', concavity_se='0.009398', concave_points_se='0.006189', symmetry_se='0.02009', fractal_dimension_se='0.002377', radius_worst='11.68', texture_worst='20.29', perimeter_worst='74.35', area_worst='421.1', smoothness_worst='0.103', compactness_worst='0.06219', concavity_worst='0.0458', concave_points_worst='0.04044', symmetry_worst='0.2383', fractal_dimension_worst='0.07083'),\n",
              " Row(diagnosis='0', radius_mean='12.72', texture_mean='17.67', perimeter_mean='80.98', area_mean='501.3', smoothness_mean='0.07896', compactness_mean='0.04522', concavity_mean='0.01402', concave_points_mean='0.01835', symmetry_mean='0.1459', fractal_dimension_mean='0.05544', radius_se='0.2954', texture_se='0.8836', perimeter_se='2.109', area_se='23.24', smoothness_se='0.007337', compactness_se='0.01174', concavity_se='0.005383', concave_points_se='0.005623', symmetry_se='0.0194', fractal_dimension_se='0.00118', radius_worst='13.82', texture_worst='20.96', perimeter_worst='88.87', area_worst='586.8', smoothness_worst='0.1068', compactness_worst='0.09605', concavity_worst='0.03469', concave_points_worst='0.03612', symmetry_worst='0.2165', fractal_dimension_worst='0.06025'),\n",
              " Row(diagnosis='1', radius_mean='14.9', texture_mean='22.53', perimeter_mean='102.1', area_mean='685', smoothness_mean='0.09947', compactness_mean='0.2225', concavity_mean='0.2733', concave_points_mean='0.09711', symmetry_mean='0.2041', fractal_dimension_mean='0.06898', radius_se='0.253', texture_se='0.8749', perimeter_se='3.466', area_se='24.19', smoothness_se='0.006965', compactness_se='0.06213', concavity_se='0.07926', concave_points_se='0.02234', symmetry_se='0.01499', fractal_dimension_se='0.005784', radius_worst='16.35', texture_worst='27.57', perimeter_worst='125.4', area_worst='832.7', smoothness_worst='0.1419', compactness_worst='0.709', concavity_worst='0.9019', concave_points_worst='0.2475', symmetry_worst='0.2866', fractal_dimension_worst='0.1155'),\n",
              " Row(diagnosis='0', radius_mean='12.4', texture_mean='17.68', perimeter_mean='81.47', area_mean='467.8', smoothness_mean='0.1054', compactness_mean='0.1316', concavity_mean='0.07741', concave_points_mean='0.02799', symmetry_mean='0.1811', fractal_dimension_mean='0.07102', radius_se='0.1767', texture_se='1.46', perimeter_se='2.204', area_se='15.43', smoothness_se='0.01', compactness_se='0.03295', concavity_se='0.04861', concave_points_se='0.01167', symmetry_se='0.02187', fractal_dimension_se='0.006005', radius_worst='12.88', texture_worst='22.91', perimeter_worst='89.61', area_worst='515.8', smoothness_worst='0.145', compactness_worst='0.2629', concavity_worst='0.2403', concave_points_worst='0.0737', symmetry_worst='0.2556', fractal_dimension_worst='0.09359'),\n",
              " Row(diagnosis='1', radius_mean='13.98', texture_mean='19.62', perimeter_mean='91.12', area_mean='599.5', smoothness_mean='0.106', compactness_mean='0.1133', concavity_mean='0.1126', concave_points_mean='0.06463', symmetry_mean='0.1669', fractal_dimension_mean='0.06544', radius_se='0.2208', texture_se='0.9533', perimeter_se='1.602', area_se='18.85', smoothness_se='0.005314', compactness_se='0.01791', concavity_se='0.02185', concave_points_se='0.009567', symmetry_se='0.01223', fractal_dimension_se='0.002846', radius_worst='17.04', texture_worst='30.8', perimeter_worst='113.9', area_worst='869.3', smoothness_worst='0.1613', compactness_worst='0.3568', concavity_worst='0.4069', concave_points_worst='0.1827', symmetry_worst='0.3179', fractal_dimension_worst='0.1055'),\n",
              " Row(diagnosis='0', radius_mean='12.87', texture_mean='19.54', perimeter_mean='82.67', area_mean='509.2', smoothness_mean='0.09136', compactness_mean='0.07883', concavity_mean='0.01797', concave_points_mean='0.0209', symmetry_mean='0.1861', fractal_dimension_mean='0.06347', radius_se='0.3665', texture_se='0.7693', perimeter_se='2.597', area_se='26.5', smoothness_se='0.00591', compactness_se='0.01362', concavity_se='0.007066', concave_points_se='0.006502', symmetry_se='0.02223', fractal_dimension_se='0.002378', radius_worst='14.45', texture_worst='24.38', perimeter_worst='95.14', area_worst='626.9', smoothness_worst='0.1214', compactness_worst='0.1652', concavity_worst='0.07127', concave_points_worst='0.06384', symmetry_worst='0.3313', fractal_dimension_worst='0.07735'),\n",
              " Row(diagnosis='0', radius_mean='14.04', texture_mean='15.98', perimeter_mean='89.78', area_mean='611.2', smoothness_mean='0.08458', compactness_mean='0.05895', concavity_mean='0.03534', concave_points_mean='0.02944', symmetry_mean='0.1714', fractal_dimension_mean='0.05898', radius_se='0.3892', texture_se='1.046', perimeter_se='2.644', area_se='32.74', smoothness_se='0.007976', compactness_se='0.01295', concavity_se='0.01608', concave_points_se='0.009046', symmetry_se='0.02005', fractal_dimension_se='0.00283', radius_worst='15.66', texture_worst='21.58', perimeter_worst='101.2', area_worst='750', smoothness_worst='0.1195', compactness_worst='0.1252', concavity_worst='0.1117', concave_points_worst='0.07453', symmetry_worst='0.2725', fractal_dimension_worst='0.07234'),\n",
              " Row(diagnosis='0', radius_mean='13.85', texture_mean='19.6', perimeter_mean='88.68', area_mean='592.6', smoothness_mean='0.08684', compactness_mean='0.0633', concavity_mean='0.01342', concave_points_mean='0.02293', symmetry_mean='0.1555', fractal_dimension_mean='0.05673', radius_se='0.3419', texture_se='1.678', perimeter_se='2.331', area_se='29.63', smoothness_se='0.005836', compactness_se='0.01095', concavity_se='0.005812', concave_points_se='0.007039', symmetry_se='0.02014', fractal_dimension_se='0.002326', radius_worst='15.63', texture_worst='28.01', perimeter_worst='100.9', area_worst='749.1', smoothness_worst='0.1118', compactness_worst='0.1141', concavity_worst='0.04753', concave_points_worst='0.0589', symmetry_worst='0.2513', fractal_dimension_worst='0.06911'),\n",
              " Row(diagnosis='1', radius_mean='17.75', texture_mean='28.03', perimeter_mean='117.3', area_mean='981.6', smoothness_mean='0.09997', compactness_mean='0.1314', concavity_mean='0.1698', concave_points_mean='0.08293', symmetry_mean='0.1713', fractal_dimension_mean='0.05916', radius_se='0.3897', texture_se='1.077', perimeter_se='2.873', area_se='43.95', smoothness_se='0.004714', compactness_se='0.02015', concavity_se='0.03697', concave_points_se='0.0111', symmetry_se='0.01237', fractal_dimension_se='0.002556', radius_worst='21.53', texture_worst='38.54', perimeter_worst='145.4', area_worst='1437', smoothness_worst='0.1401', compactness_worst='0.3762', concavity_worst='0.6399', concave_points_worst='0.197', symmetry_worst='0.2972', fractal_dimension_worst='0.09075'),\n",
              " Row(diagnosis='0', radius_mean='14.53', texture_mean='19.34', perimeter_mean='94.25', area_mean='659.7', smoothness_mean='0.08388', compactness_mean='0.078', concavity_mean='0.08817', concave_points_mean='0.02925', symmetry_mean='0.1473', fractal_dimension_mean='0.05746', radius_se='0.2535', texture_se='1.354', perimeter_se='1.994', area_se='23.04', smoothness_se='0.004147', compactness_se='0.02048', concavity_se='0.03379', concave_points_se='0.008848', symmetry_se='0.01394', fractal_dimension_se='0.002327', radius_worst='16.3', texture_worst='28.39', perimeter_worst='108.1', area_worst='830.5', smoothness_worst='0.1089', compactness_worst='0.2649', concavity_worst='0.3779', concave_points_worst='0.09594', symmetry_worst='0.2471', fractal_dimension_worst='0.07463'),\n",
              " Row(diagnosis='1', radius_mean='21.1', texture_mean='20.52', perimeter_mean='138.1', area_mean='1384', smoothness_mean='0.09684', compactness_mean='0.1175', concavity_mean='0.1572', concave_points_mean='0.1155', symmetry_mean='0.1554', fractal_dimension_mean='0.05661', radius_se='0.6643', texture_se='1.361', perimeter_se='4.542', area_se='81.89', smoothness_se='0.005467', compactness_se='0.02075', concavity_se='0.03185', concave_points_se='0.01466', symmetry_se='0.01029', fractal_dimension_se='0.002205', radius_worst='25.68', texture_worst='32.07', perimeter_worst='168.2', area_worst='2022', smoothness_worst='0.1368', compactness_worst='0.3101', concavity_worst='0.4399', concave_points_worst='0.228', symmetry_worst='0.2268', fractal_dimension_worst='0.07425'),\n",
              " Row(diagnosis='0', radius_mean='12', texture_mean='28.23', perimeter_mean='76.77', area_mean='442.5', smoothness_mean='0.08437', compactness_mean='0.0645', concavity_mean='0.04055', concave_points_mean='0.01945', symmetry_mean='0.1615', fractal_dimension_mean='0.06104', radius_se='0.1912', texture_se='1.705', perimeter_se='1.516', area_se='13.86', smoothness_se='0.007334', compactness_se='0.02589', concavity_se='0.02941', concave_points_se='0.009166', symmetry_se='0.01745', fractal_dimension_se='0.004302', radius_worst='13.09', texture_worst='37.88', perimeter_worst='85.07', area_worst='523.7', smoothness_worst='0.1208', compactness_worst='0.1856', concavity_worst='0.1811', concave_points_worst='0.07116', symmetry_worst='0.2447', fractal_dimension_worst='0.08194'),\n",
              " Row(diagnosis='0', radius_mean='12.62', texture_mean='17.15', perimeter_mean='80.62', area_mean='492.9', smoothness_mean='0.08583', compactness_mean='0.0543', concavity_mean='0.02966', concave_points_mean='0.02272', symmetry_mean='0.1799', fractal_dimension_mean='0.05826', radius_se='0.1692', texture_se='0.6674', perimeter_se='1.116', area_se='13.32', smoothness_se='0.003888', compactness_se='0.008539', concavity_se='0.01256', concave_points_se='0.006888', symmetry_se='0.01608', fractal_dimension_se='0.001638', radius_worst='14.34', texture_worst='22.15', perimeter_worst='91.62', area_worst='633.5', smoothness_worst='0.1225', compactness_worst='0.1517', concavity_worst='0.1887', concave_points_worst='0.09851', symmetry_worst='0.327', fractal_dimension_worst='0.0733'),\n",
              " Row(diagnosis='0', radius_mean='13.38', texture_mean='30.72', perimeter_mean='86.34', area_mean='557.2', smoothness_mean='0.09245', compactness_mean='0.07426', concavity_mean='0.02819', concave_points_mean='0.03264', symmetry_mean='0.1375', fractal_dimension_mean='0.06016', radius_se='0.3408', texture_se='1.924', perimeter_se='2.287', area_se='28.93', smoothness_se='0.005841', compactness_se='0.01246', concavity_se='0.007936', concave_points_se='0.009128', symmetry_se='0.01564', fractal_dimension_se='0.002985', radius_worst='15.05', texture_worst='41.61', perimeter_worst='96.69', area_worst='705.6', smoothness_worst='0.1172', compactness_worst='0.1421', concavity_worst='0.07003', concave_points_worst='0.07763', symmetry_worst='0.2196', fractal_dimension_worst='0.07675'),\n",
              " Row(diagnosis='0', radius_mean='11.63', texture_mean='29.29', perimeter_mean='74.87', area_mean='415.1', smoothness_mean='0.09357', compactness_mean='0.08574', concavity_mean='0.0716', concave_points_mean='0.02017', symmetry_mean='0.1799', fractal_dimension_mean='0.06166', radius_se='0.3135', texture_se='2.426', perimeter_se='2.15', area_se='23.13', smoothness_se='0.009861', compactness_se='0.02418', concavity_se='0.04275', concave_points_se='0.009215', symmetry_se='0.02475', fractal_dimension_se='0.002128', radius_worst='13.12', texture_worst='38.81', perimeter_worst='86.04', area_worst='527.8', smoothness_worst='0.1406', compactness_worst='0.2031', concavity_worst='0.2923', concave_points_worst='0.06835', symmetry_worst='0.2884', fractal_dimension_worst='0.0722'),\n",
              " Row(diagnosis='0', radius_mean='13.21', texture_mean='25.25', perimeter_mean='84.1', area_mean='537.9', smoothness_mean='0.08791', compactness_mean='0.05205', concavity_mean='0.02772', concave_points_mean='0.02068', symmetry_mean='0.1619', fractal_dimension_mean='0.05584', radius_se='0.2084', texture_se='1.35', perimeter_se='1.314', area_se='17.58', smoothness_se='0.005768', compactness_se='0.008082', concavity_se='0.0151', concave_points_se='0.006451', symmetry_se='0.01347', fractal_dimension_se='0.001828', radius_worst='14.35', texture_worst='34.23', perimeter_worst='91.29', area_worst='632.9', smoothness_worst='0.1289', compactness_worst='0.1063', concavity_worst='0.139', concave_points_worst='0.06005', symmetry_worst='0.2444', fractal_dimension_worst='0.06788'),\n",
              " Row(diagnosis='0', radius_mean='9.755', texture_mean='28.2', perimeter_mean='61.68', area_mean='290.9', smoothness_mean='0.07984', compactness_mean='0.04626', concavity_mean='0.01541', concave_points_mean='0.01043', symmetry_mean='0.1621', fractal_dimension_mean='0.05952', radius_se='0.1781', texture_se='1.687', perimeter_se='1.243', area_se='11.28', smoothness_se='0.006588', compactness_se='0.0127', concavity_se='0.0145', concave_points_se='0.006104', symmetry_se='0.01574', fractal_dimension_se='0.002268', radius_worst='10.67', texture_worst='36.92', perimeter_worst='68.03', area_worst='349.9', smoothness_worst='0.111', compactness_worst='0.1109', concavity_worst='0.0719', concave_points_worst='0.04866', symmetry_worst='0.2321', fractal_dimension_worst='0.07211'),\n",
              " Row(diagnosis='0', radius_mean='11.6', texture_mean='18.36', perimeter_mean='73.88', area_mean='412.7', smoothness_mean='0.08508', compactness_mean='0.05855', concavity_mean='0.03367', concave_points_mean='0.01777', symmetry_mean='0.1516', fractal_dimension_mean='0.05859', radius_se='0.1816', texture_se='0.7656', perimeter_se='1.303', area_se='12.89', smoothness_se='0.006709', compactness_se='0.01701', concavity_se='0.0208', concave_points_se='0.007497', symmetry_se='0.02124', fractal_dimension_se='0.002768', radius_worst='12.77', texture_worst='24.02', perimeter_worst='82.68', area_worst='495.1', smoothness_worst='0.1342', compactness_worst='0.1808', concavity_worst='0.186', concave_points_worst='0.08288', symmetry_worst='0.321', fractal_dimension_worst='0.07863'),\n",
              " Row(diagnosis='0', radius_mean='13.17', texture_mean='18.22', perimeter_mean='84.28', area_mean='537.3', smoothness_mean='0.07466', compactness_mean='0.05994', concavity_mean='0.04859', concave_points_mean='0.0287', symmetry_mean='0.1454', fractal_dimension_mean='0.05549', radius_se='0.2023', texture_se='0.685', perimeter_se='1.236', area_se='16.89', smoothness_se='0.005969', compactness_se='0.01493', concavity_se='0.01564', concave_points_se='0.008463', symmetry_se='0.01093', fractal_dimension_se='0.001672', radius_worst='14.9', texture_worst='23.89', perimeter_worst='95.1', area_worst='687.6', smoothness_worst='0.1282', compactness_worst='0.1965', concavity_worst='0.1876', concave_points_worst='0.1045', symmetry_worst='0.2235', fractal_dimension_worst='0.06925'),\n",
              " Row(diagnosis='0', radius_mean='13.14', texture_mean='20.74', perimeter_mean='85.98', area_mean='536.9', smoothness_mean='0.08675', compactness_mean='0.1089', concavity_mean='0.1085', concave_points_mean='0.0351', symmetry_mean='0.1562', fractal_dimension_mean='0.0602', radius_se='0.3152', texture_se='0.7884', perimeter_se='2.312', area_se='27.4', smoothness_se='0.007295', compactness_se='0.03179', concavity_se='0.04615', concave_points_se='0.01254', symmetry_se='0.01561', fractal_dimension_se='0.00323', radius_worst='14.8', texture_worst='25.46', perimeter_worst='100.9', area_worst='689.1', smoothness_worst='0.1351', compactness_worst='0.3549', concavity_worst='0.4504', concave_points_worst='0.1181', symmetry_worst='0.2563', fractal_dimension_worst='0.08174'),\n",
              " Row(diagnosis='0', radius_mean='9.668', texture_mean='18.1', perimeter_mean='61.06', area_mean='286.3', smoothness_mean='0.08311', compactness_mean='0.05428', concavity_mean='0.01479', concave_points_mean='0.005769', symmetry_mean='0.168', fractal_dimension_mean='0.06412', radius_se='0.3416', texture_se='1.312', perimeter_se='2.275', area_se='20.98', smoothness_se='0.01098', compactness_se='0.01257', concavity_se='0.01031', concave_points_se='0.003934', symmetry_se='0.02693', fractal_dimension_se='0.002979', radius_worst='11.15', texture_worst='24.62', perimeter_worst='71.11', area_worst='380.2', smoothness_worst='0.1388', compactness_worst='0.1255', concavity_worst='0.06409', concave_points_worst='0.025', symmetry_worst='0.3057', fractal_dimension_worst='0.07875'),\n",
              " Row(diagnosis='1', radius_mean='17.6', texture_mean='23.33', perimeter_mean='119', area_mean='980.5', smoothness_mean='0.09289', compactness_mean='0.2004', concavity_mean='0.2136', concave_points_mean='0.1002', symmetry_mean='0.1696', fractal_dimension_mean='0.07369', radius_se='0.9289', texture_se='1.465', perimeter_se='5.801', area_se='104.9', smoothness_se='0.006766', compactness_se='0.07025', concavity_se='0.06591', concave_points_se='0.02311', symmetry_se='0.01673', fractal_dimension_se='0.0113', radius_worst='21.57', texture_worst='28.87', perimeter_worst='143.6', area_worst='1437', smoothness_worst='0.1207', compactness_worst='0.4785', concavity_worst='0.5165', concave_points_worst='0.1996', symmetry_worst='0.2301', fractal_dimension_worst='0.1224'),\n",
              " Row(diagnosis='0', radius_mean='11.62', texture_mean='18.18', perimeter_mean='76.38', area_mean='408.8', smoothness_mean='0.1175', compactness_mean='0.1483', concavity_mean='0.102', concave_points_mean='0.05564', symmetry_mean='0.1957', fractal_dimension_mean='0.07255', radius_se='0.4101', texture_se='1.74', perimeter_se='3.027', area_se='27.85', smoothness_se='0.01459', compactness_se='0.03206', concavity_se='0.04961', concave_points_se='0.01841', symmetry_se='0.01807', fractal_dimension_se='0.005217', radius_worst='13.36', texture_worst='25.4', perimeter_worst='88.14', area_worst='528.1', smoothness_worst='0.178', compactness_worst='0.2878', concavity_worst='0.3186', concave_points_worst='0.1416', symmetry_worst='0.266', fractal_dimension_worst='0.0927'),\n",
              " Row(diagnosis='0', radius_mean='14.92', texture_mean='14.93', perimeter_mean='96.45', area_mean='686.9', smoothness_mean='0.08098', compactness_mean='0.08549', concavity_mean='0.05539', concave_points_mean='0.03221', symmetry_mean='0.1687', fractal_dimension_mean='0.05669', radius_se='0.2446', texture_se='0.4334', perimeter_se='1.826', area_se='23.31', smoothness_se='0.003271', compactness_se='0.0177', concavity_se='0.0231', concave_points_se='0.008399', symmetry_se='0.01148', fractal_dimension_se='0.002379', radius_worst='17.18', texture_worst='18.22', perimeter_worst='112', area_worst='906.6', smoothness_worst='0.1065', compactness_worst='0.2791', concavity_worst='0.3151', concave_points_worst='0.1147', symmetry_worst='0.2688', fractal_dimension_worst='0.08273'),\n",
              " Row(diagnosis='0', radius_mean='12.27', texture_mean='29.97', perimeter_mean='77.42', area_mean='465.4', smoothness_mean='0.07699', compactness_mean='0.03398', concavity_mean='0', concave_points_mean='0', symmetry_mean='0.1701', fractal_dimension_mean='0.0596', radius_se='0.4455', texture_se='3.647', perimeter_se='2.884', area_se='35.13', smoothness_se='0.007339', compactness_se='0.008243', concavity_se='0', concave_points_se='0', symmetry_se='0.03141', fractal_dimension_se='0.003136', radius_worst='13.45', texture_worst='38.05', perimeter_worst='85.08', area_worst='558.9', smoothness_worst='0.09422', compactness_worst='0.05213', concavity_worst='0', concave_points_worst='0', symmetry_worst='0.2409', fractal_dimension_worst='0.06743'),\n",
              " Row(diagnosis='0', radius_mean='14.2', texture_mean='20.53', perimeter_mean='92.41', area_mean='618.4', smoothness_mean='0.08931', compactness_mean='0.1108', concavity_mean='0.05063', concave_points_mean='0.03058', symmetry_mean='0.1506', fractal_dimension_mean='0.06009', radius_se='0.3478', texture_se='1.018', perimeter_se='2.749', area_se='31.01', smoothness_se='0.004107', compactness_se='0.03288', concavity_se='0.02821', concave_points_se='0.0135', symmetry_se='0.0161', fractal_dimension_se='0.002744', radius_worst='16.45', texture_worst='27.26', perimeter_worst='112.1', area_worst='828.5', smoothness_worst='0.1153', compactness_worst='0.3429', concavity_worst='0.2512', concave_points_worst='0.1339', symmetry_worst='0.2534', fractal_dimension_worst='0.07858'),\n",
              " Row(diagnosis='0', radius_mean='13.9', texture_mean='16.62', perimeter_mean='88.97', area_mean='599.4', smoothness_mean='0.06828', compactness_mean='0.05319', concavity_mean='0.02224', concave_points_mean='0.01339', symmetry_mean='0.1813', fractal_dimension_mean='0.05536', radius_se='0.1555', texture_se='0.5762', perimeter_se='1.392', area_se='14.03', smoothness_se='0.003308', compactness_se='0.01315', concavity_se='0.009904', concave_points_se='0.004832', symmetry_se='0.01316', fractal_dimension_se='0.002095', radius_worst='15.14', texture_worst='21.8', perimeter_worst='101.2', area_worst='718.9', smoothness_worst='0.09384', compactness_worst='0.2006', concavity_worst='0.1384', concave_points_worst='0.06222', symmetry_worst='0.2679', fractal_dimension_worst='0.07698'),\n",
              " Row(diagnosis='0', radius_mean='11.49', texture_mean='14.59', perimeter_mean='73.99', area_mean='404.9', smoothness_mean='0.1046', compactness_mean='0.08228', concavity_mean='0.05308', concave_points_mean='0.01969', symmetry_mean='0.1779', fractal_dimension_mean='0.06574', radius_se='0.2034', texture_se='1.166', perimeter_se='1.567', area_se='14.34', smoothness_se='0.004957', compactness_se='0.02114', concavity_se='0.04156', concave_points_se='0.008038', symmetry_se='0.01843', fractal_dimension_se='0.003614', radius_worst='12.4', texture_worst='21.9', perimeter_worst='82.04', area_worst='467.6', smoothness_worst='0.1352', compactness_worst='0.201', concavity_worst='0.2596', concave_points_worst='0.07431', symmetry_worst='0.2941', fractal_dimension_worst='0.0918'),\n",
              " Row(diagnosis='0', radius_mean='12.16', texture_mean='18.03', perimeter_mean='78.29', area_mean='455.3', smoothness_mean='0.09087', compactness_mean='0.07838', concavity_mean='0.02916', concave_points_mean='0.01527', symmetry_mean='0.1464', fractal_dimension_mean='0.06284', radius_se='0.2194', texture_se='1.19', perimeter_se='1.678', area_se='16.26', smoothness_se='0.004911', compactness_se='0.01666', concavity_se='0.01397', concave_points_se='0.005161', symmetry_se='0.01454', fractal_dimension_se='0.001858', radius_worst='13.34', texture_worst='27.87', perimeter_worst='88.83', area_worst='547.4', smoothness_worst='0.1208', compactness_worst='0.2279', concavity_worst='0.162', concave_points_worst='0.0569', symmetry_worst='0.2406', fractal_dimension_worst='0.07729'),\n",
              " Row(diagnosis='0', radius_mean='13.9', texture_mean='19.24', perimeter_mean='88.73', area_mean='602.9', smoothness_mean='0.07991', compactness_mean='0.05326', concavity_mean='0.02995', concave_points_mean='0.0207', symmetry_mean='0.1579', fractal_dimension_mean='0.05594', radius_se='0.3316', texture_se='0.9264', perimeter_se='2.056', area_se='28.41', smoothness_se='0.003704', compactness_se='0.01082', concavity_se='0.0153', concave_points_se='0.006275', symmetry_se='0.01062', fractal_dimension_se='0.002217', radius_worst='16.41', texture_worst='26.42', perimeter_worst='104.4', area_worst='830.5', smoothness_worst='0.1064', compactness_worst='0.1415', concavity_worst='0.1673', concave_points_worst='0.0815', symmetry_worst='0.2356', fractal_dimension_worst='0.07603'),\n",
              " Row(diagnosis='0', radius_mean='13.47', texture_mean='14.06', perimeter_mean='87.32', area_mean='546.3', smoothness_mean='0.1071', compactness_mean='0.1155', concavity_mean='0.05786', concave_points_mean='0.05266', symmetry_mean='0.1779', fractal_dimension_mean='0.06639', radius_se='0.1588', texture_se='0.5733', perimeter_se='1.102', area_se='12.84', smoothness_se='0.00445', compactness_se='0.01452', concavity_se='0.01334', concave_points_se='0.008791', symmetry_se='0.01698', fractal_dimension_se='0.002787', radius_worst='14.83', texture_worst='18.32', perimeter_worst='94.94', area_worst='660.2', smoothness_worst='0.1393', compactness_worst='0.2499', concavity_worst='0.1848', concave_points_worst='0.1335', symmetry_worst='0.3227', fractal_dimension_worst='0.09326'),\n",
              " Row(diagnosis='0', radius_mean='13.7', texture_mean='17.64', perimeter_mean='87.76', area_mean='571.1', smoothness_mean='0.0995', compactness_mean='0.07957', concavity_mean='0.04548', concave_points_mean='0.0316', symmetry_mean='0.1732', fractal_dimension_mean='0.06088', radius_se='0.2431', texture_se='0.9462', perimeter_se='1.564', area_se='20.64', smoothness_se='0.003245', compactness_se='0.008186', concavity_se='0.01698', concave_points_se='0.009233', symmetry_se='0.01285', fractal_dimension_se='0.001524', radius_worst='14.96', texture_worst='23.53', perimeter_worst='95.78', area_worst='686.5', smoothness_worst='0.1199', compactness_worst='0.1346', concavity_worst='0.1742', concave_points_worst='0.09077', symmetry_worst='0.2518', fractal_dimension_worst='0.0696'),\n",
              " Row(diagnosis='0', radius_mean='15.73', texture_mean='11.28', perimeter_mean='102.8', area_mean='747.2', smoothness_mean='0.1043', compactness_mean='0.1299', concavity_mean='0.1191', concave_points_mean='0.06211', symmetry_mean='0.1784', fractal_dimension_mean='0.06259', radius_se='0.163', texture_se='0.3871', perimeter_se='1.143', area_se='13.87', smoothness_se='0.006034', compactness_se='0.0182', concavity_se='0.03336', concave_points_se='0.01067', symmetry_se='0.01175', fractal_dimension_se='0.002256', radius_worst='17.01', texture_worst='14.2', perimeter_worst='112.5', area_worst='854.3', smoothness_worst='0.1541', compactness_worst='0.2979', concavity_worst='0.4004', concave_points_worst='0.1452', symmetry_worst='0.2557', fractal_dimension_worst='0.08181'),\n",
              " Row(diagnosis='1', radius_mean='16.69', texture_mean='20.2', perimeter_mean='107.1', area_mean='857.6', smoothness_mean='0.07497', compactness_mean='0.07112', concavity_mean='0.03649', concave_points_mean='0.02307', symmetry_mean='0.1846', fractal_dimension_mean='0.05325', radius_se='0.2473', texture_se='0.5679', perimeter_se='1.775', area_se='22.95', smoothness_se='0.002667', compactness_se='0.01446', concavity_se='0.01423', concave_points_se='0.005297', symmetry_se='0.01961', fractal_dimension_se='0.0017', radius_worst='19.18', texture_worst='26.56', perimeter_worst='127.3', area_worst='1084', smoothness_worst='0.1009', compactness_worst='0.292', concavity_worst='0.2477', concave_points_worst='0.08737', symmetry_worst='0.4677', fractal_dimension_worst='0.07623'),\n",
              " Row(diagnosis='0', radius_mean='17.85', texture_mean='13.23', perimeter_mean='114.6', area_mean='992.1', smoothness_mean='0.07838', compactness_mean='0.06217', concavity_mean='0.04445', concave_points_mean='0.04178', symmetry_mean='0.122', fractal_dimension_mean='0.05243', radius_se='0.4834', texture_se='1.046', perimeter_se='3.163', area_se='50.95', smoothness_se='0.004369', compactness_se='0.008274', concavity_se='0.01153', concave_points_se='0.007437', symmetry_se='0.01302', fractal_dimension_se='0.001309', radius_worst='19.82', texture_worst='18.42', perimeter_worst='127.1', area_worst='1210', smoothness_worst='0.09862', compactness_worst='0.09976', concavity_worst='0.1048', concave_points_worst='0.08341', symmetry_worst='0.1783', fractal_dimension_worst='0.05871'),\n",
              " Row(diagnosis='0', radius_mean='14.87', texture_mean='20.21', perimeter_mean='96.12', area_mean='680.9', smoothness_mean='0.09587', compactness_mean='0.08345', concavity_mean='0.06824', concave_points_mean='0.04951', symmetry_mean='0.1487', fractal_dimension_mean='0.05748', radius_se='0.2323', texture_se='1.636', perimeter_se='1.596', area_se='21.84', smoothness_se='0.005415', compactness_se='0.01371', concavity_se='0.02153', concave_points_se='0.01183', symmetry_se='0.01959', fractal_dimension_se='0.001812', radius_worst='16.01', texture_worst='28.48', perimeter_worst='103.9', area_worst='783.6', smoothness_worst='0.1216', compactness_worst='0.1388', concavity_worst='0.17', concave_points_worst='0.1017', symmetry_worst='0.2369', fractal_dimension_worst='0.06599'),\n",
              " Row(diagnosis='0', radius_mean='12.65', texture_mean='18.17', perimeter_mean='82.69', area_mean='485.6', smoothness_mean='0.1076', compactness_mean='0.1334', concavity_mean='0.08017', concave_points_mean='0.05074', symmetry_mean='0.1641', fractal_dimension_mean='0.06854', radius_se='0.2324', texture_se='0.6332', perimeter_se='1.696', area_se='18.4', smoothness_se='0.005704', compactness_se='0.02502', concavity_se='0.02636', concave_points_se='0.01032', symmetry_se='0.01759', fractal_dimension_se='0.003563', radius_worst='14.38', texture_worst='22.15', perimeter_worst='95.29', area_worst='633.7', smoothness_worst='0.1533', compactness_worst='0.3842', concavity_worst='0.3582', concave_points_worst='0.1407', symmetry_worst='0.323', fractal_dimension_worst='0.1033'),\n",
              " Row(diagnosis='1', radius_mean='18.49', texture_mean='17.52', perimeter_mean='121.3', area_mean='1068', smoothness_mean='0.1012', compactness_mean='0.1317', concavity_mean='0.1491', concave_points_mean='0.09183', symmetry_mean='0.1832', fractal_dimension_mean='0.06697', radius_se='0.7923', texture_se='1.045', perimeter_se='4.851', area_se='95.77', smoothness_se='0.007974', compactness_se='0.03214', concavity_se='0.04435', concave_points_se='0.01573', symmetry_se='0.01617', fractal_dimension_se='0.005255', radius_worst='22.75', texture_worst='22.88', perimeter_worst='146.4', area_worst='1600', smoothness_worst='0.1412', compactness_worst='0.3089', concavity_worst='0.3533', concave_points_worst='0.1663', symmetry_worst='0.251', fractal_dimension_worst='0.09445'),\n",
              " Row(diagnosis='1', radius_mean='20.59', texture_mean='21.24', perimeter_mean='137.8', area_mean='1320', smoothness_mean='0.1085', compactness_mean='0.1644', concavity_mean='0.2188', concave_points_mean='0.1121', symmetry_mean='0.1848', fractal_dimension_mean='0.06222', radius_se='0.5904', texture_se='1.216', perimeter_se='4.206', area_se='75.09', smoothness_se='0.006666', compactness_se='0.02791', concavity_se='0.04062', concave_points_se='0.01479', symmetry_se='0.01117', fractal_dimension_se='0.003727', radius_worst='23.86', texture_worst='30.76', perimeter_worst='163.2', area_worst='1760', smoothness_worst='0.1464', compactness_worst='0.3597', concavity_worst='0.5179', concave_points_worst='0.2113', symmetry_worst='0.248', fractal_dimension_worst='0.08999'),\n",
              " Row(diagnosis='1', radius_mean='23.09', texture_mean='19.83', perimeter_mean='152.1', area_mean='1682', smoothness_mean='0.09342', compactness_mean='0.1275', concavity_mean='0.1676', concave_points_mean='0.1003', symmetry_mean='0.1505', fractal_dimension_mean='0.05484', radius_se='1.291', texture_se='0.7452', perimeter_se='9.635', area_se='180.2', smoothness_se='0.005753', compactness_se='0.03356', concavity_se='0.03976', concave_points_se='0.02156', symmetry_se='0.02201', fractal_dimension_se='0.002897', radius_worst='30.79', texture_worst='23.87', perimeter_worst='211.5', area_worst='2782', smoothness_worst='0.1199', compactness_worst='0.3625', concavity_worst='0.3794', concave_points_worst='0.2264', symmetry_worst='0.2908', fractal_dimension_worst='0.07277'),\n",
              " Row(diagnosis='0', radius_mean='9.268', texture_mean='12.87', perimeter_mean='61.49', area_mean='248.7', smoothness_mean='0.1634', compactness_mean='0.2239', concavity_mean='0.0973', concave_points_mean='0.05252', symmetry_mean='0.2378', fractal_dimension_mean='0.09502', radius_se='0.4076', texture_se='1.093', perimeter_se='3.014', area_se='20.04', smoothness_se='0.009783', compactness_se='0.04542', concavity_se='0.03483', concave_points_se='0.02188', symmetry_se='0.02542', fractal_dimension_se='0.01045', radius_worst='10.28', texture_worst='16.38', perimeter_worst='69.05', area_worst='300.2', smoothness_worst='0.1902', compactness_worst='0.3441', concavity_worst='0.2099', concave_points_worst='0.1025', symmetry_worst='0.3038', fractal_dimension_worst='0.1252'),\n",
              " Row(diagnosis='0', radius_mean='12.22', texture_mean='20.04', perimeter_mean='79.47', area_mean='453.1', smoothness_mean='0.1096', compactness_mean='0.1152', concavity_mean='0.08175', concave_points_mean='0.02166', symmetry_mean='0.2124', fractal_dimension_mean='0.06894', radius_se='0.1811', texture_se='0.7959', perimeter_se='0.9857', area_se='12.58', smoothness_se='0.006272', compactness_se='0.02198', concavity_se='0.03966', concave_points_se='0.009894', symmetry_se='0.0132', fractal_dimension_se='0.003813', radius_worst='13.16', texture_worst='24.17', perimeter_worst='85.13', area_worst='515.3', smoothness_worst='0.1402', compactness_worst='0.2315', concavity_worst='0.3535', concave_points_worst='0.08088', symmetry_worst='0.2709', fractal_dimension_worst='0.08839'),\n",
              " Row(diagnosis='0', radius_mean='11.06', texture_mean='17.12', perimeter_mean='71.25', area_mean='366.5', smoothness_mean='0.1194', compactness_mean='0.1071', concavity_mean='0.04063', concave_points_mean='0.04268', symmetry_mean='0.1954', fractal_dimension_mean='0.07976', radius_se='0.1779', texture_se='1.03', perimeter_se='1.318', area_se='12.3', smoothness_se='0.01262', compactness_se='0.02348', concavity_se='0.018', concave_points_se='0.01285', symmetry_se='0.0222', fractal_dimension_se='0.008313', radius_worst='11.69', texture_worst='20.74', perimeter_worst='76.08', area_worst='411.1', smoothness_worst='0.1662', compactness_worst='0.2031', concavity_worst='0.1256', concave_points_worst='0.09514', symmetry_worst='0.278', fractal_dimension_worst='0.1168'),\n",
              " Row(diagnosis='0', radius_mean='11.74', texture_mean='14.69', perimeter_mean='76.31', area_mean='426', smoothness_mean='0.08099', compactness_mean='0.09661', concavity_mean='0.06726', concave_points_mean='0.02639', symmetry_mean='0.1499', fractal_dimension_mean='0.06758', radius_se='0.1924', texture_se='0.6417', perimeter_se='1.345', area_se='13.04', smoothness_se='0.006982', compactness_se='0.03916', concavity_se='0.04017', concave_points_se='0.01528', symmetry_se='0.0226', fractal_dimension_se='0.006822', radius_worst='12.45', texture_worst='17.6', perimeter_worst='81.25', area_worst='473.8', smoothness_worst='0.1073', compactness_worst='0.2793', concavity_worst='0.269', concave_points_worst='0.1056', symmetry_worst='0.2604', fractal_dimension_worst='0.09879'),\n",
              " Row(diagnosis='0', radius_mean='14.81', texture_mean='14.7', perimeter_mean='94.66', area_mean='680.7', smoothness_mean='0.08472', compactness_mean='0.05016', concavity_mean='0.03416', concave_points_mean='0.02541', symmetry_mean='0.1659', fractal_dimension_mean='0.05348', radius_se='0.2182', texture_se='0.6232', perimeter_se='1.677', area_se='20.72', smoothness_se='0.006708', compactness_se='0.01197', concavity_se='0.01482', concave_points_se='0.01056', symmetry_se='0.0158', fractal_dimension_se='0.001779', radius_worst='15.61', texture_worst='17.58', perimeter_worst='101.7', area_worst='760.2', smoothness_worst='0.1139', compactness_worst='0.1011', concavity_worst='0.1101', concave_points_worst='0.07955', symmetry_worst='0.2334', fractal_dimension_worst='0.06142'),\n",
              " Row(diagnosis='1', radius_mean='13.4', texture_mean='20.52', perimeter_mean='88.64', area_mean='556.7', smoothness_mean='0.1106', compactness_mean='0.1469', concavity_mean='0.1445', concave_points_mean='0.08172', symmetry_mean='0.2116', fractal_dimension_mean='0.07325', radius_se='0.3906', texture_se='0.9306', perimeter_se='3.093', area_se='33.67', smoothness_se='0.005414', compactness_se='0.02265', concavity_se='0.03452', concave_points_se='0.01334', symmetry_se='0.01705', fractal_dimension_se='0.004005', radius_worst='16.41', texture_worst='29.66', perimeter_worst='113.3', area_worst='844.4', smoothness_worst='0.1574', compactness_worst='0.3856', concavity_worst='0.5106', concave_points_worst='0.2051', symmetry_worst='0.3585', fractal_dimension_worst='0.1109'),\n",
              " Row(diagnosis='1', radius_mean='18.31', texture_mean='20.58', perimeter_mean='120.8', area_mean='1052', smoothness_mean='0.1068', compactness_mean='0.1248', concavity_mean='0.1569', concave_points_mean='0.09451', symmetry_mean='0.186', fractal_dimension_mean='0.05941', radius_se='0.5449', texture_se='0.9225', perimeter_se='3.218', area_se='67.36', smoothness_se='0.006176', compactness_se='0.01877', concavity_se='0.02913', concave_points_se='0.01046', symmetry_se='0.01559', fractal_dimension_se='0.002725', radius_worst='21.86', texture_worst='26.2', perimeter_worst='142.2', area_worst='1493', smoothness_worst='0.1492', compactness_worst='0.2536', concavity_worst='0.3759', concave_points_worst='0.151', symmetry_worst='0.3074', fractal_dimension_worst='0.07863'),\n",
              " Row(diagnosis='0', radius_mean='12.88', texture_mean='18.22', perimeter_mean='84.45', area_mean='493.1', smoothness_mean='0.1218', compactness_mean='0.1661', concavity_mean='0.04825', concave_points_mean='0.05303', symmetry_mean='0.1709', fractal_dimension_mean='0.07253', radius_se='0.4426', texture_se='1.169', perimeter_se='3.176', area_se='34.37', smoothness_se='0.005273', compactness_se='0.02329', concavity_se='0.01405', concave_points_se='0.01244', symmetry_se='0.01816', fractal_dimension_se='0.003299', radius_worst='15.05', texture_worst='24.37', perimeter_worst='99.31', area_worst='674.7', smoothness_worst='0.1456', compactness_worst='0.2961', concavity_worst='0.1246', concave_points_worst='0.1096', symmetry_worst='0.2582', fractal_dimension_worst='0.08893'),\n",
              " Row(diagnosis='1', radius_mean='24.63', texture_mean='21.6', perimeter_mean='165.5', area_mean='1841', smoothness_mean='0.103', compactness_mean='0.2106', concavity_mean='0.231', concave_points_mean='0.1471', symmetry_mean='0.1991', fractal_dimension_mean='0.06739', radius_se='0.9915', texture_se='0.9004', perimeter_se='7.05', area_se='139.9', smoothness_se='0.004989', compactness_se='0.03212', concavity_se='0.03571', concave_points_se='0.01597', symmetry_se='0.01879', fractal_dimension_se='0.00476', radius_worst='29.92', texture_worst='26.93', perimeter_worst='205.7', area_worst='2642', smoothness_worst='0.1342', compactness_worst='0.4188', concavity_worst='0.4658', concave_points_worst='0.2475', symmetry_worst='0.3157', fractal_dimension_worst='0.09671'),\n",
              " Row(diagnosis='0', radius_mean='11.26', texture_mean='19.83', perimeter_mean='71.3', area_mean='388.1', smoothness_mean='0.08511', compactness_mean='0.04413', concavity_mean='0.005067', concave_points_mean='0.005664', symmetry_mean='0.1637', fractal_dimension_mean='0.06343', radius_se='0.1344', texture_se='1.083', perimeter_se='0.9812', area_se='9.332', smoothness_se='0.0042', compactness_se='0.0059', concavity_se='0.003846', concave_points_se='0.004065', symmetry_se='0.01487', fractal_dimension_se='0.002295', radius_worst='11.93', texture_worst='26.43', perimeter_worst='76.38', area_worst='435.9', smoothness_worst='0.1108', compactness_worst='0.07723', concavity_worst='0.02533', concave_points_worst='0.02832', symmetry_worst='0.2557', fractal_dimension_worst='0.07613'),\n",
              " Row(diagnosis='0', radius_mean='9.847', texture_mean='15.68', perimeter_mean='63', area_mean='293.2', smoothness_mean='0.09492', compactness_mean='0.08419', concavity_mean='0.0233', concave_points_mean='0.02416', symmetry_mean='0.1387', fractal_dimension_mean='0.06891', radius_se='0.2498', texture_se='1.216', perimeter_se='1.976', area_se='15.24', smoothness_se='0.008732', compactness_se='0.02042', concavity_se='0.01062', concave_points_se='0.006801', symmetry_se='0.01824', fractal_dimension_se='0.003494', radius_worst='11.24', texture_worst='22.99', perimeter_worst='74.32', area_worst='376.5', smoothness_worst='0.1419', compactness_worst='0.2243', concavity_worst='0.08434', concave_points_worst='0.06528', symmetry_worst='0.2502', fractal_dimension_worst='0.09209'),\n",
              " Row(diagnosis='0', radius_mean='8.571', texture_mean='13.1', perimeter_mean='54.53', area_mean='221.3', smoothness_mean='0.1036', compactness_mean='0.07632', concavity_mean='0.02565', concave_points_mean='0.0151', symmetry_mean='0.1678', fractal_dimension_mean='0.07126', radius_se='0.1267', texture_se='0.6793', perimeter_se='1.069', area_se='7.254', smoothness_se='0.007897', compactness_se='0.01762', concavity_se='0.01801', concave_points_se='0.00732', symmetry_se='0.01592', fractal_dimension_se='0.003925', radius_worst='9.473', texture_worst='18.45', perimeter_worst='63.3', area_worst='275.6', smoothness_worst='0.1641', compactness_worst='0.2235', concavity_worst='0.1754', concave_points_worst='0.08512', symmetry_worst='0.2983', fractal_dimension_worst='0.1049'),\n",
              " Row(diagnosis='0', radius_mean='13.94', texture_mean='13.17', perimeter_mean='90.31', area_mean='594.2', smoothness_mean='0.1248', compactness_mean='0.09755', concavity_mean='0.101', concave_points_mean='0.06615', symmetry_mean='0.1976', fractal_dimension_mean='0.06457', radius_se='0.5461', texture_se='2.635', perimeter_se='4.091', area_se='44.74', smoothness_se='0.01004', compactness_se='0.03247', concavity_se='0.04763', concave_points_se='0.02853', symmetry_se='0.01715', fractal_dimension_se='0.005528', radius_worst='14.62', texture_worst='15.38', perimeter_worst='94.52', area_worst='653.3', smoothness_worst='0.1394', compactness_worst='0.1364', concavity_worst='0.1559', concave_points_worst='0.1015', symmetry_worst='0.216', fractal_dimension_worst='0.07253'),\n",
              " Row(diagnosis='0', radius_mean='12.07', texture_mean='13.44', perimeter_mean='77.83', area_mean='445.2', smoothness_mean='0.11', compactness_mean='0.09009', concavity_mean='0.03781', concave_points_mean='0.02798', symmetry_mean='0.1657', fractal_dimension_mean='0.06608', radius_se='0.2513', texture_se='0.504', perimeter_se='1.714', area_se='18.54', smoothness_se='0.007327', compactness_se='0.01153', concavity_se='0.01798', concave_points_se='0.007986', symmetry_se='0.01962', fractal_dimension_se='0.002234', radius_worst='13.45', texture_worst='15.77', perimeter_worst='86.92', area_worst='549.9', smoothness_worst='0.1521', compactness_worst='0.1632', concavity_worst='0.1622', concave_points_worst='0.07393', symmetry_worst='0.2781', fractal_dimension_worst='0.08052'),\n",
              " Row(diagnosis='0', radius_mean='11.75', texture_mean='17.56', perimeter_mean='75.89', area_mean='422.9', smoothness_mean='0.1073', compactness_mean='0.09713', concavity_mean='0.05282', concave_points_mean='0.0444', symmetry_mean='0.1598', fractal_dimension_mean='0.06677', radius_se='0.4384', texture_se='1.907', perimeter_se='3.149', area_se='30.66', smoothness_se='0.006587', compactness_se='0.01815', concavity_se='0.01737', concave_points_se='0.01316', symmetry_se='0.01835', fractal_dimension_se='0.002318', radius_worst='13.5', texture_worst='27.98', perimeter_worst='88.52', area_worst='552.3', smoothness_worst='0.1349', compactness_worst='0.1854', concavity_worst='0.1366', concave_points_worst='0.101', symmetry_worst='0.2478', fractal_dimension_worst='0.07757'),\n",
              " Row(diagnosis='0', radius_mean='11.67', texture_mean='20.02', perimeter_mean='75.21', area_mean='416.2', smoothness_mean='0.1016', compactness_mean='0.09453', concavity_mean='0.042', concave_points_mean='0.02157', symmetry_mean='0.1859', fractal_dimension_mean='0.06461', radius_se='0.2067', texture_se='0.8745', perimeter_se='1.393', area_se='15.34', smoothness_se='0.005251', compactness_se='0.01727', concavity_se='0.0184', concave_points_se='0.005298', symmetry_se='0.01449', fractal_dimension_se='0.002671', radius_worst='13.35', texture_worst='28.81', perimeter_worst='87', area_worst='550.6', smoothness_worst='0.155', compactness_worst='0.2964', concavity_worst='0.2758', concave_points_worst='0.0812', symmetry_worst='0.3206', fractal_dimension_worst='0.0895'),\n",
              " Row(diagnosis='1', radius_mean='20.47', texture_mean='20.67', perimeter_mean='134.7', area_mean='1299', smoothness_mean='0.09156', compactness_mean='0.1313', concavity_mean='0.1523', concave_points_mean='0.1015', symmetry_mean='0.2166', fractal_dimension_mean='0.05419', radius_se='0.8336', texture_se='1.736', perimeter_se='5.168', area_se='100.4', smoothness_se='0.004938', compactness_se='0.03089', concavity_se='0.04093', concave_points_se='0.01699', symmetry_se='0.02816', fractal_dimension_se='0.002719', radius_worst='23.23', texture_worst='27.15', perimeter_worst='152', area_worst='1645', smoothness_worst='0.1097', compactness_worst='0.2534', concavity_worst='0.3092', concave_points_worst='0.1613', symmetry_worst='0.322', fractal_dimension_worst='0.06386'),\n",
              " Row(diagnosis='0', radius_mean='10.96', texture_mean='17.62', perimeter_mean='70.79', area_mean='365.6', smoothness_mean='0.09687', compactness_mean='0.09752', concavity_mean='0.05263', concave_points_mean='0.02788', symmetry_mean='0.1619', fractal_dimension_mean='0.06408', radius_se='0.1507', texture_se='1.583', perimeter_se='1.165', area_se='10.09', smoothness_se='0.009501', compactness_se='0.03378', concavity_se='0.04401', concave_points_se='0.01346', symmetry_se='0.01322', fractal_dimension_se='0.003534', radius_worst='11.62', texture_worst='26.51', perimeter_worst='76.43', area_worst='407.5', smoothness_worst='0.1428', compactness_worst='0.251', concavity_worst='0.2123', concave_points_worst='0.09861', symmetry_worst='0.2289', fractal_dimension_worst='0.08278'),\n",
              " Row(diagnosis='1', radius_mean='20.55', texture_mean='20.86', perimeter_mean='137.8', area_mean='1308', smoothness_mean='0.1046', compactness_mean='0.1739', concavity_mean='0.2085', concave_points_mean='0.1322', symmetry_mean='0.2127', fractal_dimension_mean='0.06251', radius_se='0.6986', texture_se='0.9901', perimeter_se='4.706', area_se='87.78', smoothness_se='0.004578', compactness_se='0.02616', concavity_se='0.04005', concave_points_se='0.01421', symmetry_se='0.01948', fractal_dimension_se='0.002689', radius_worst='24.3', texture_worst='25.48', perimeter_worst='160.2', area_worst='1809', smoothness_worst='0.1268', compactness_worst='0.3135', concavity_worst='0.4433', concave_points_worst='0.2148', symmetry_worst='0.3077', fractal_dimension_worst='0.07569'),\n",
              " Row(diagnosis='1', radius_mean='14.27', texture_mean='22.55', perimeter_mean='93.77', area_mean='629.8', smoothness_mean='0.1038', compactness_mean='0.1154', concavity_mean='0.1463', concave_points_mean='0.06139', symmetry_mean='0.1926', fractal_dimension_mean='0.05982', radius_se='0.2027', texture_se='1.851', perimeter_se='1.895', area_se='18.54', smoothness_se='0.006113', compactness_se='0.02583', concavity_se='0.04645', concave_points_se='0.01276', symmetry_se='0.01451', fractal_dimension_se='0.003756', radius_worst='15.29', texture_worst='34.27', perimeter_worst='104.3', area_worst='728.3', smoothness_worst='0.138', compactness_worst='0.2733', concavity_worst='0.4234', concave_points_worst='0.1362', symmetry_worst='0.2698', fractal_dimension_worst='0.08351'),\n",
              " Row(diagnosis='0', radius_mean='11.69', texture_mean='24.44', perimeter_mean='76.37', area_mean='406.4', smoothness_mean='0.1236', compactness_mean='0.1552', concavity_mean='0.04515', concave_points_mean='0.04531', symmetry_mean='0.2131', fractal_dimension_mean='0.07405', radius_se='0.2957', texture_se='1.978', perimeter_se='2.158', area_se='20.95', smoothness_se='0.01288', compactness_se='0.03495', concavity_se='0.01865', concave_points_se='0.01766', symmetry_se='0.0156', fractal_dimension_se='0.005824', radius_worst='12.98', texture_worst='32.19', perimeter_worst='86.12', area_worst='487.7', smoothness_worst='0.1768', compactness_worst='0.3251', concavity_worst='0.1395', concave_points_worst='0.1308', symmetry_worst='0.2803', fractal_dimension_worst='0.0997'),\n",
              " Row(diagnosis='0', radius_mean='7.729', texture_mean='25.49', perimeter_mean='47.98', area_mean='178.8', smoothness_mean='0.08098', compactness_mean='0.04878', concavity_mean='0', concave_points_mean='0', symmetry_mean='0.187', fractal_dimension_mean='0.07285', radius_se='0.3777', texture_se='1.462', perimeter_se='2.492', area_se='19.14', smoothness_se='0.01266', compactness_se='0.009692', concavity_se='0', concave_points_se='0', symmetry_se='0.02882', fractal_dimension_se='0.006872', radius_worst='9.077', texture_worst='30.92', perimeter_worst='57.17', area_worst='248', smoothness_worst='0.1256', compactness_worst='0.0834', concavity_worst='0', concave_points_worst='0', symmetry_worst='0.3058', fractal_dimension_worst='0.09938'),\n",
              " Row(diagnosis='0', radius_mean='14.47', texture_mean='24.99', perimeter_mean='95.81', area_mean='656.4', smoothness_mean='0.08837', compactness_mean='0.123', concavity_mean='0.1009', concave_points_mean='0.0389', symmetry_mean='0.1872', fractal_dimension_mean='0.06341', radius_se='0.2542', texture_se='1.079', perimeter_se='2.615', area_se='23.11', smoothness_se='0.007138', compactness_se='0.04653', concavity_se='0.03829', concave_points_se='0.01162', symmetry_se='0.02068', fractal_dimension_se='0.006111', radius_worst='16.22', texture_worst='31.73', perimeter_worst='113.5', area_worst='808.9', smoothness_worst='0.134', compactness_worst='0.4202', concavity_worst='0.404', concave_points_worst='0.1205', symmetry_worst='0.3187', fractal_dimension_worst='0.1023'),\n",
              " Row(diagnosis='0', radius_mean='14.74', texture_mean='25.42', perimeter_mean='94.7', area_mean='668.6', smoothness_mean='0.08275', compactness_mean='0.07214', concavity_mean='0.04105', concave_points_mean='0.03027', symmetry_mean='0.184', fractal_dimension_mean='0.0568', radius_se='0.3031', texture_se='1.385', perimeter_se='2.177', area_se='27.41', smoothness_se='0.004775', compactness_se='0.01172', concavity_se='0.01947', concave_points_se='0.01269', symmetry_se='0.0187', fractal_dimension_se='0.002626', radius_worst='16.51', texture_worst='32.29', perimeter_worst='107.4', area_worst='826.4', smoothness_worst='0.106', compactness_worst='0.1376', concavity_worst='0.1611', concave_points_worst='0.1095', symmetry_worst='0.2722', fractal_dimension_worst='0.06956'),\n",
              " Row(diagnosis='0', radius_mean='13.21', texture_mean='28.06', perimeter_mean='84.88', area_mean='538.4', smoothness_mean='0.08671', compactness_mean='0.06877', concavity_mean='0.02987', concave_points_mean='0.03275', symmetry_mean='0.1628', fractal_dimension_mean='0.05781', radius_se='0.2351', texture_se='1.597', perimeter_se='1.539', area_se='17.85', smoothness_se='0.004973', compactness_se='0.01372', concavity_se='0.01498', concave_points_se='0.009117', symmetry_se='0.01724', fractal_dimension_se='0.001343', radius_worst='14.37', texture_worst='37.17', perimeter_worst='92.48', area_worst='629.6', smoothness_worst='0.1072', compactness_worst='0.1381', concavity_worst='0.1062', concave_points_worst='0.07958', symmetry_worst='0.2473', fractal_dimension_worst='0.06443'),\n",
              " Row(diagnosis='0', radius_mean='13.87', texture_mean='20.7', perimeter_mean='89.77', area_mean='584.8', smoothness_mean='0.09578', compactness_mean='0.1018', concavity_mean='0.03688', concave_points_mean='0.02369', symmetry_mean='0.162', fractal_dimension_mean='0.06688', radius_se='0.272', texture_se='1.047', perimeter_se='2.076', area_se='23.12', smoothness_se='0.006298', compactness_se='0.02172', concavity_se='0.02615', concave_points_se='0.009061', symmetry_se='0.0149', fractal_dimension_se='0.003599', radius_worst='15.05', texture_worst='24.75', perimeter_worst='99.17', area_worst='688.6', smoothness_worst='0.1264', compactness_worst='0.2037', concavity_worst='0.1377', concave_points_worst='0.06845', symmetry_worst='0.2249', fractal_dimension_worst='0.08492'),\n",
              " Row(diagnosis='0', radius_mean='10.32', texture_mean='16.35', perimeter_mean='65.31', area_mean='324.9', smoothness_mean='0.09434', compactness_mean='0.04994', concavity_mean='0.01012', concave_points_mean='0.005495', symmetry_mean='0.1885', fractal_dimension_mean='0.06201', radius_se='0.2104', texture_se='0.967', perimeter_se='1.356', area_se='12.97', smoothness_se='0.007086', compactness_se='0.007247', concavity_se='0.01012', concave_points_se='0.005495', symmetry_se='0.0156', fractal_dimension_se='0.002606', radius_worst='11.25', texture_worst='21.77', perimeter_worst='71.12', area_worst='384.9', smoothness_worst='0.1285', compactness_worst='0.08842', concavity_worst='0.04384', concave_points_worst='0.02381', symmetry_worst='0.2681', fractal_dimension_worst='0.07399'),\n",
              " Row(diagnosis='0', radius_mean='10.26', texture_mean='16.58', perimeter_mean='65.85', area_mean='320.8', smoothness_mean='0.08877', compactness_mean='0.08066', concavity_mean='0.04358', concave_points_mean='0.02438', symmetry_mean='0.1669', fractal_dimension_mean='0.06714', radius_se='0.1144', texture_se='1.023', perimeter_se='0.9887', area_se='7.326', smoothness_se='0.01027', compactness_se='0.03084', concavity_se='0.02613', concave_points_se='0.01097', symmetry_se='0.02277', fractal_dimension_se='0.00589', radius_worst='10.83', texture_worst='22.04', perimeter_worst='71.08', area_worst='357.4', smoothness_worst='0.1461', compactness_worst='0.2246', concavity_worst='0.1783', concave_points_worst='0.08333', symmetry_worst='0.2691', fractal_dimension_worst='0.09479'),\n",
              " Row(diagnosis='0', radius_mean='12.88', texture_mean='28.92', perimeter_mean='82.5', area_mean='514.3', smoothness_mean='0.08123', compactness_mean='0.05824', concavity_mean='0.06195', concave_points_mean='0.02343', symmetry_mean='0.1566', fractal_dimension_mean='0.05708', radius_se='0.2116', texture_se='1.36', perimeter_se='1.502', area_se='16.83', smoothness_se='0.008412', compactness_se='0.02153', concavity_se='0.03898', concave_points_se='0.00762', symmetry_se='0.01695', fractal_dimension_se='0.002801', radius_worst='13.89', texture_worst='35.74', perimeter_worst='88.84', area_worst='595.7', smoothness_worst='0.1227', compactness_worst='0.162', concavity_worst='0.2439', concave_points_worst='0.06493', symmetry_worst='0.2372', fractal_dimension_worst='0.07242'),\n",
              " Row(diagnosis='0', radius_mean='10.29', texture_mean='27.61', perimeter_mean='65.67', area_mean='321.4', smoothness_mean='0.0903', compactness_mean='0.07658', concavity_mean='0.05999', concave_points_mean='0.02738', symmetry_mean='0.1593', fractal_dimension_mean='0.06127', radius_se='0.2199', texture_se='2.239', perimeter_se='1.437', area_se='14.46', smoothness_se='0.01205', compactness_se='0.02736', concavity_se='0.04804', concave_points_se='0.01721', symmetry_se='0.01843', fractal_dimension_se='0.004938', radius_worst='10.84', texture_worst='34.91', perimeter_worst='69.57', area_worst='357.6', smoothness_worst='0.1384', compactness_worst='0.171', concavity_worst='0.2', concave_points_worst='0.09127', symmetry_worst='0.2226', fractal_dimension_worst='0.08283'),\n",
              " Row(diagnosis='0', radius_mean='9.423', texture_mean='27.88', perimeter_mean='59.26', area_mean='271.3', smoothness_mean='0.08123', compactness_mean='0.04971', concavity_mean='0', concave_points_mean='0', symmetry_mean='0.1742', fractal_dimension_mean='0.06059', radius_se='0.5375', texture_se='2.927', perimeter_se='3.618', area_se='29.11', smoothness_se='0.01159', compactness_se='0.01124', concavity_se='0', concave_points_se='0', symmetry_se='0.03004', fractal_dimension_se='0.003324', radius_worst='10.49', texture_worst='34.24', perimeter_worst='66.5', area_worst='330.6', smoothness_worst='0.1073', compactness_worst='0.07158', concavity_worst='0', concave_points_worst='0', symmetry_worst='0.2475', fractal_dimension_worst='0.06969'),\n",
              " Row(diagnosis='0', radius_mean='11.51', texture_mean='23.93', perimeter_mean='74.52', area_mean='403.5', smoothness_mean='0.09261', compactness_mean='0.1021', concavity_mean='0.1112', concave_points_mean='0.04105', symmetry_mean='0.1388', fractal_dimension_mean='0.0657', radius_se='0.2388', texture_se='2.904', perimeter_se='1.936', area_se='16.97', smoothness_se='0.0082', compactness_se='0.02982', concavity_se='0.05738', concave_points_se='0.01267', symmetry_se='0.01488', fractal_dimension_se='0.004738', radius_worst='12.48', texture_worst='37.16', perimeter_worst='82.28', area_worst='474.2', smoothness_worst='0.1298', compactness_worst='0.2517', concavity_worst='0.363', concave_points_worst='0.09653', symmetry_worst='0.2112', fractal_dimension_worst='0.08732'),\n",
              " Row(diagnosis='0', radius_mean='11.2', texture_mean='29.37', perimeter_mean='70.67', area_mean='386', smoothness_mean='0.07449', compactness_mean='0.03558', concavity_mean='0', concave_points_mean='0', symmetry_mean='0.106', fractal_dimension_mean='0.05502', radius_se='0.3141', texture_se='3.896', perimeter_se='2.041', area_se='22.81', smoothness_se='0.007594', compactness_se='0.008878', concavity_se='0', concave_points_se='0', symmetry_se='0.01989', fractal_dimension_se='0.001773', radius_worst='11.92', texture_worst='38.3', perimeter_worst='75.19', area_worst='439.6', smoothness_worst='0.09267', compactness_worst='0.05494', concavity_worst='0', concave_points_worst='0', symmetry_worst='0.1566', fractal_dimension_worst='0.05905'),\n",
              " Row(diagnosis='1', radius_mean='21.56', texture_mean='22.39', perimeter_mean='142', area_mean='1479', smoothness_mean='0.111', compactness_mean='0.1159', concavity_mean='0.2439', concave_points_mean='0.1389', symmetry_mean='0.1726', fractal_dimension_mean='0.05623', radius_se='1.176', texture_se='1.256', perimeter_se='7.673', area_se='158.7', smoothness_se='0.0103', compactness_se='0.02891', concavity_se='0.05198', concave_points_se='0.02454', symmetry_se='0.01114', fractal_dimension_se='0.004239', radius_worst='25.45', texture_worst='26.4', perimeter_worst='166.1', area_worst='2027', smoothness_worst='0.141', compactness_worst='0.2113', concavity_worst='0.4107', concave_points_worst='0.2216', symmetry_worst='0.206', fractal_dimension_worst='0.07115'),\n",
              " Row(diagnosis='1', radius_mean='20.13', texture_mean='28.25', perimeter_mean='131.2', area_mean='1261', smoothness_mean='0.0978', compactness_mean='0.1034', concavity_mean='0.144', concave_points_mean='0.09791', symmetry_mean='0.1752', fractal_dimension_mean='0.05533', radius_se='0.7655', texture_se='2.463', perimeter_se='5.203', area_se='99.04', smoothness_se='0.005769', compactness_se='0.02423', concavity_se='0.0395', concave_points_se='0.01678', symmetry_se='0.01898', fractal_dimension_se='0.002498', radius_worst='23.69', texture_worst='38.25', perimeter_worst='155', area_worst='1731', smoothness_worst='0.1166', compactness_worst='0.1922', concavity_worst='0.3215', concave_points_worst='0.1628', symmetry_worst='0.2572', fractal_dimension_worst='0.06637'),\n",
              " Row(diagnosis='1', radius_mean='20.6', texture_mean='29.33', perimeter_mean='140.1', area_mean='1265', smoothness_mean='0.1178', compactness_mean='0.277', concavity_mean='0.3514', concave_points_mean='0.152', symmetry_mean='0.2397', fractal_dimension_mean='0.07016', radius_se='0.726', texture_se='1.595', perimeter_se='5.772', area_se='86.22', smoothness_se='0.006522', compactness_se='0.06158', concavity_se='0.07117', concave_points_se='0.01664', symmetry_se='0.02324', fractal_dimension_se='0.006185', radius_worst='25.74', texture_worst='39.42', perimeter_worst='184.6', area_worst='1821', smoothness_worst='0.165', compactness_worst='0.8681', concavity_worst='0.9387', concave_points_worst='0.265', symmetry_worst='0.4087', fractal_dimension_worst='0.124'),\n",
              " Row(diagnosis='0', radius_mean='7.76', texture_mean='24.54', perimeter_mean='47.92', area_mean='181', smoothness_mean='0.05263', compactness_mean='0.04362', concavity_mean='0', concave_points_mean='0', symmetry_mean='0.1587', fractal_dimension_mean='0.05884', radius_se='0.3857', texture_se='1.428', perimeter_se='2.548', area_se='19.15', smoothness_se='0.007189', compactness_se='0.00466', concavity_se='0', concave_points_se='0', symmetry_se='0.02676', fractal_dimension_se='0.002783', radius_worst='9.456', texture_worst='30.37', perimeter_worst='59.16', area_worst='268.6', smoothness_worst='0.08996', compactness_worst='0.06444', concavity_worst='0', concave_points_worst='0', symmetry_worst='0.2871', fractal_dimension_worst='0.07039')]"
            ]
          },
          "metadata": {
            "tags": []
          },
          "execution_count": 29
        }
      ]
    },
    {
      "cell_type": "code",
      "metadata": {
        "id": "3DSQKHmvwtv1",
        "colab": {
          "base_uri": "https://localhost:8080/"
        },
        "outputId": "acaee93e-06f2-4b21-e951-4e86baff7114"
      },
      "source": [
        "len(df1.columns)"
      ],
      "execution_count": 30,
      "outputs": [
        {
          "output_type": "execute_result",
          "data": {
            "text/plain": [
              "31"
            ]
          },
          "metadata": {
            "tags": []
          },
          "execution_count": 30
        }
      ]
    },
    {
      "cell_type": "code",
      "metadata": {
        "id": "z4ioiyB7xPg2",
        "colab": {
          "base_uri": "https://localhost:8080/"
        },
        "outputId": "0c33a564-1ba9-45e8-94bf-a4c517cd64ba"
      },
      "source": [
        "df1.summary().show()"
      ],
      "execution_count": 31,
      "outputs": [
        {
          "output_type": "stream",
          "text": [
            "+-------+-------------------+------------------+-----------------+------------------+------------------+-------------------+-------------------+-------------------+-------------------+-------------------+----------------------+-------------------+------------------+------------------+-----------------+--------------------+--------------------+--------------------+--------------------+--------------------+--------------------+------------------+------------------+------------------+-----------------+-------------------+-------------------+-------------------+--------------------+-------------------+-----------------------+\n",
            "|summary|          diagnosis|       radius_mean|     texture_mean|    perimeter_mean|         area_mean|    smoothness_mean|   compactness_mean|     concavity_mean|concave_points_mean|      symmetry_mean|fractal_dimension_mean|          radius_se|        texture_se|      perimeter_se|          area_se|       smoothness_se|      compactness_se|        concavity_se|   concave_points_se|         symmetry_se|fractal_dimension_se|      radius_worst|     texture_worst|   perimeter_worst|       area_worst|   smoothness_worst|  compactness_worst|    concavity_worst|concave_points_worst|     symmetry_worst|fractal_dimension_worst|\n",
            "+-------+-------------------+------------------+-----------------+------------------+------------------+-------------------+-------------------+-------------------+-------------------+-------------------+----------------------+-------------------+------------------+------------------+-----------------+--------------------+--------------------+--------------------+--------------------+--------------------+--------------------+------------------+------------------+------------------+-----------------+-------------------+-------------------+-------------------+--------------------+-------------------+-----------------------+\n",
            "|  count|                284|               284|              284|               284|               284|                284|                284|                284|                284|                284|                   284|                284|               284|               284|              284|                 284|                 284|                 284|                 284|                 284|                 284|               284|               284|               284|              284|                284|                284|                284|                 284|                284|                    284|\n",
            "|   mean|0.38028169014084506|14.190225352112675|19.48109154929578| 92.29024647887317| 658.0968309859156|0.09593489436619722|0.10236366197183099|0.08638257992957746|0.04855973591549297|0.17815985915492963|   0.06249193661971829|  0.392426408450704| 1.221938028169014| 2.744973591549297|38.64550000000002|0.006960880281690144|0.023830221830985925|0.029511924647887326| 0.01132731338028169| 0.01957597535211267|0.003639799295774648|16.373228873239437|26.012007042253508|107.63059859154924|887.6693661971833|0.13253288732394367| 0.2525753873239436| 0.2681345704225353|  0.1153099366197183|0.28639330985915507|    0.08418711267605634|\n",
            "| stddev|  0.486312938062693| 3.436532406487548| 4.57402157434941|23.626830654875345|333.55357157973407|0.01417760034628244|0.05341629684064613|0.07827952943645514|0.03790182074107148|0.02553210010299071|  0.007013739276525632|0.24053273185822838|0.5646402491736761|1.6541260464360055|35.42149263429898|0.003105514774378...|0.015841491373493933|0.026898792544792795|0.005742027406665837|0.007319652666272313|0.002238416131132141| 4.736409270515022|6.3164284525125405| 32.54972936865338|541.9420573368992|0.02266037188187156|0.15793492197645237|0.20896498790681664|  0.0669692151743633|0.06022234882367214|   0.018277936556919606|\n",
            "|    min|                  0|             10.03|            10.38|             100.3|              1001|            0.05263|             0.0265|                  0|                  0|              0.106|               0.04996|             0.1144|            0.3602|            0.8439|            10.08|            0.002667|             0.00371|                   0|                   0|            0.009947|           0.0008948|             10.17|             12.02|             100.9|             1021|            0.08409|            0.04327|                  0|                   0|             0.1566|                0.05521|\n",
            "|    25%|                0.0|             11.76|            16.58|             75.89|             427.9|            0.08583|            0.06217|            0.02772|            0.02068|             0.1601|               0.05723|             0.2253|            0.8225|             1.602|             17.4|            0.005169|             0.01295|              0.0145|            0.007513|             0.01495|            0.002268|             13.09|             21.51|             85.07|            517.8|             0.1171|             0.1381|             0.1089|             0.06499|             0.2475|                0.07198|\n",
            "|    50%|                0.0|             13.28|            19.11|             85.98|             545.2|            0.09586|            0.08895|            0.05858|            0.03384|             0.1773|               0.06154|             0.3152|             1.073|             2.279|            24.79|            0.006142|             0.02003|             0.02488|             0.01087|             0.01816|             0.00299|             15.05|             25.72|             98.84|            688.6|             0.1339|             0.2167|             0.2282|              0.1015|             0.2778|                0.08019|\n",
            "|    75%|                1.0|             15.78|            21.82|             105.7|             782.6|             0.1046|             0.1284|             0.1201|            0.07404|             0.1935|                0.0659|             0.4697|              1.49|              3.18|            44.74|             0.00794|             0.03084|             0.03872|             0.01421|             0.02168|            0.004302|             19.19|             29.89|             126.9|           1095.0|             0.1456|             0.3391|             0.3791|              0.1663|             0.3175|                0.09288|\n",
            "|    max|                  1|             9.876|             9.71|             99.58|             998.9|             0.1634|             0.3114|             0.4268|             0.2012|             0.2655|               0.09744|              1.509|             3.896|             9.807|            99.04|             0.03113|             0.09806|              0.3038|             0.03927|             0.06146|             0.02193|             9.733|             49.54|             99.71|            993.6|             0.2098|              1.058|              1.252|              0.2903|             0.6638|                 0.2075|\n",
            "+-------+-------------------+------------------+-----------------+------------------+------------------+-------------------+-------------------+-------------------+-------------------+-------------------+----------------------+-------------------+------------------+------------------+-----------------+--------------------+--------------------+--------------------+--------------------+--------------------+--------------------+------------------+------------------+------------------+-----------------+-------------------+-------------------+-------------------+--------------------+-------------------+-----------------------+\n",
            "\n"
          ],
          "name": "stdout"
        }
      ]
    },
    {
      "cell_type": "code",
      "metadata": {
        "id": "qiHqyoYGxRn3",
        "colab": {
          "base_uri": "https://localhost:8080/"
        },
        "outputId": "a9dacb24-7736-4a5a-b354-e25329642d17"
      },
      "source": [
        "print(df1.schema)"
      ],
      "execution_count": 32,
      "outputs": [
        {
          "output_type": "stream",
          "text": [
            "StructType(List(StructField(diagnosis,StringType,true),StructField(radius_mean,StringType,true),StructField(texture_mean,StringType,true),StructField(perimeter_mean,StringType,true),StructField(area_mean,StringType,true),StructField(smoothness_mean,StringType,true),StructField(compactness_mean,StringType,true),StructField(concavity_mean,StringType,true),StructField(concave_points_mean,StringType,true),StructField(symmetry_mean,StringType,true),StructField(fractal_dimension_mean,StringType,true),StructField(radius_se,StringType,true),StructField(texture_se,StringType,true),StructField(perimeter_se,StringType,true),StructField(area_se,StringType,true),StructField(smoothness_se,StringType,true),StructField(compactness_se,StringType,true),StructField(concavity_se,StringType,true),StructField(concave_points_se,StringType,true),StructField(symmetry_se,StringType,true),StructField(fractal_dimension_se,StringType,true),StructField(radius_worst,StringType,true),StructField(texture_worst,StringType,true),StructField(perimeter_worst,StringType,true),StructField(area_worst,StringType,true),StructField(smoothness_worst,StringType,true),StructField(compactness_worst,StringType,true),StructField(concavity_worst,StringType,true),StructField(concave_points_worst,StringType,true),StructField(symmetry_worst,StringType,true),StructField(fractal_dimension_worst,StringType,true)))\n"
          ],
          "name": "stdout"
        }
      ]
    },
    {
      "cell_type": "code",
      "metadata": {
        "id": "SiUfxoHUyNt5",
        "colab": {
          "base_uri": "https://localhost:8080/"
        },
        "outputId": "17bbd1d7-c66b-4097-c19c-30cd3b212eb9"
      },
      "source": [
        "df1.describe().show()"
      ],
      "execution_count": 33,
      "outputs": [
        {
          "output_type": "stream",
          "text": [
            "+-------+-------------------+------------------+-----------------+------------------+------------------+-------------------+-------------------+-------------------+-------------------+-------------------+----------------------+-------------------+------------------+------------------+-----------------+--------------------+--------------------+--------------------+--------------------+--------------------+--------------------+------------------+------------------+------------------+-----------------+-------------------+-------------------+-------------------+--------------------+-------------------+-----------------------+\n",
            "|summary|          diagnosis|       radius_mean|     texture_mean|    perimeter_mean|         area_mean|    smoothness_mean|   compactness_mean|     concavity_mean|concave_points_mean|      symmetry_mean|fractal_dimension_mean|          radius_se|        texture_se|      perimeter_se|          area_se|       smoothness_se|      compactness_se|        concavity_se|   concave_points_se|         symmetry_se|fractal_dimension_se|      radius_worst|     texture_worst|   perimeter_worst|       area_worst|   smoothness_worst|  compactness_worst|    concavity_worst|concave_points_worst|     symmetry_worst|fractal_dimension_worst|\n",
            "+-------+-------------------+------------------+-----------------+------------------+------------------+-------------------+-------------------+-------------------+-------------------+-------------------+----------------------+-------------------+------------------+------------------+-----------------+--------------------+--------------------+--------------------+--------------------+--------------------+--------------------+------------------+------------------+------------------+-----------------+-------------------+-------------------+-------------------+--------------------+-------------------+-----------------------+\n",
            "|  count|                284|               284|              284|               284|               284|                284|                284|                284|                284|                284|                   284|                284|               284|               284|              284|                 284|                 284|                 284|                 284|                 284|                 284|               284|               284|               284|              284|                284|                284|                284|                 284|                284|                    284|\n",
            "|   mean|0.38028169014084506|14.190225352112675|19.48109154929578| 92.29024647887317| 658.0968309859156|0.09593489436619722|0.10236366197183099|0.08638257992957746|0.04855973591549297|0.17815985915492963|   0.06249193661971829|  0.392426408450704| 1.221938028169014| 2.744973591549297|38.64550000000002|0.006960880281690144|0.023830221830985925|0.029511924647887326| 0.01132731338028169| 0.01957597535211267|0.003639799295774648|16.373228873239437|26.012007042253508|107.63059859154924|887.6693661971833|0.13253288732394367| 0.2525753873239436| 0.2681345704225353|  0.1153099366197183|0.28639330985915507|    0.08418711267605634|\n",
            "| stddev|  0.486312938062693| 3.436532406487548| 4.57402157434941|23.626830654875345|333.55357157973407|0.01417760034628244|0.05341629684064613|0.07827952943645514|0.03790182074107148|0.02553210010299071|  0.007013739276525632|0.24053273185822838|0.5646402491736761|1.6541260464360055|35.42149263429898|0.003105514774378...|0.015841491373493933|0.026898792544792795|0.005742027406665837|0.007319652666272313|0.002238416131132141| 4.736409270515022|6.3164284525125405| 32.54972936865338|541.9420573368992|0.02266037188187156|0.15793492197645237|0.20896498790681664|  0.0669692151743633|0.06022234882367214|   0.018277936556919606|\n",
            "|    min|                  0|             10.03|            10.38|             100.3|              1001|            0.05263|             0.0265|                  0|                  0|              0.106|               0.04996|             0.1144|            0.3602|            0.8439|            10.08|            0.002667|             0.00371|                   0|                   0|            0.009947|           0.0008948|             10.17|             12.02|             100.9|             1021|            0.08409|            0.04327|                  0|                   0|             0.1566|                0.05521|\n",
            "|    max|                  1|             9.876|             9.71|             99.58|             998.9|             0.1634|             0.3114|             0.4268|             0.2012|             0.2655|               0.09744|              1.509|             3.896|             9.807|            99.04|             0.03113|             0.09806|              0.3038|             0.03927|             0.06146|             0.02193|             9.733|             49.54|             99.71|            993.6|             0.2098|              1.058|              1.252|              0.2903|             0.6638|                 0.2075|\n",
            "+-------+-------------------+------------------+-----------------+------------------+------------------+-------------------+-------------------+-------------------+-------------------+-------------------+----------------------+-------------------+------------------+------------------+-----------------+--------------------+--------------------+--------------------+--------------------+--------------------+--------------------+------------------+------------------+------------------+-----------------+-------------------+-------------------+-------------------+--------------------+-------------------+-----------------------+\n",
            "\n"
          ],
          "name": "stdout"
        }
      ]
    },
    {
      "cell_type": "code",
      "metadata": {
        "id": "LzNQSebvy4Ne",
        "colab": {
          "base_uri": "https://localhost:8080/",
          "height": 444
        },
        "outputId": "c54df757-0b2d-4d80-aff0-228d05cb8589"
      },
      "source": [
        "df1.toPandas()"
      ],
      "execution_count": 34,
      "outputs": [
        {
          "output_type": "execute_result",
          "data": {
            "text/html": [
              "<div>\n",
              "<style scoped>\n",
              "    .dataframe tbody tr th:only-of-type {\n",
              "        vertical-align: middle;\n",
              "    }\n",
              "\n",
              "    .dataframe tbody tr th {\n",
              "        vertical-align: top;\n",
              "    }\n",
              "\n",
              "    .dataframe thead th {\n",
              "        text-align: right;\n",
              "    }\n",
              "</style>\n",
              "<table border=\"1\" class=\"dataframe\">\n",
              "  <thead>\n",
              "    <tr style=\"text-align: right;\">\n",
              "      <th></th>\n",
              "      <th>diagnosis</th>\n",
              "      <th>radius_mean</th>\n",
              "      <th>texture_mean</th>\n",
              "      <th>perimeter_mean</th>\n",
              "      <th>area_mean</th>\n",
              "      <th>smoothness_mean</th>\n",
              "      <th>compactness_mean</th>\n",
              "      <th>concavity_mean</th>\n",
              "      <th>concave_points_mean</th>\n",
              "      <th>symmetry_mean</th>\n",
              "      <th>fractal_dimension_mean</th>\n",
              "      <th>radius_se</th>\n",
              "      <th>texture_se</th>\n",
              "      <th>perimeter_se</th>\n",
              "      <th>area_se</th>\n",
              "      <th>smoothness_se</th>\n",
              "      <th>compactness_se</th>\n",
              "      <th>concavity_se</th>\n",
              "      <th>concave_points_se</th>\n",
              "      <th>symmetry_se</th>\n",
              "      <th>fractal_dimension_se</th>\n",
              "      <th>radius_worst</th>\n",
              "      <th>texture_worst</th>\n",
              "      <th>perimeter_worst</th>\n",
              "      <th>area_worst</th>\n",
              "      <th>smoothness_worst</th>\n",
              "      <th>compactness_worst</th>\n",
              "      <th>concavity_worst</th>\n",
              "      <th>concave_points_worst</th>\n",
              "      <th>symmetry_worst</th>\n",
              "      <th>fractal_dimension_worst</th>\n",
              "    </tr>\n",
              "  </thead>\n",
              "  <tbody>\n",
              "    <tr>\n",
              "      <th>0</th>\n",
              "      <td>1</td>\n",
              "      <td>17.99</td>\n",
              "      <td>10.38</td>\n",
              "      <td>122.8</td>\n",
              "      <td>1001</td>\n",
              "      <td>0.1184</td>\n",
              "      <td>0.2776</td>\n",
              "      <td>0.3001</td>\n",
              "      <td>0.1471</td>\n",
              "      <td>0.2419</td>\n",
              "      <td>0.07871</td>\n",
              "      <td>1.095</td>\n",
              "      <td>0.9053</td>\n",
              "      <td>8.589</td>\n",
              "      <td>153.4</td>\n",
              "      <td>0.006399</td>\n",
              "      <td>0.04904</td>\n",
              "      <td>0.05373</td>\n",
              "      <td>0.01587</td>\n",
              "      <td>0.03003</td>\n",
              "      <td>0.006193</td>\n",
              "      <td>25.38</td>\n",
              "      <td>17.33</td>\n",
              "      <td>184.6</td>\n",
              "      <td>2019</td>\n",
              "      <td>0.1622</td>\n",
              "      <td>0.6656</td>\n",
              "      <td>0.7119</td>\n",
              "      <td>0.2654</td>\n",
              "      <td>0.4601</td>\n",
              "      <td>0.1189</td>\n",
              "    </tr>\n",
              "    <tr>\n",
              "      <th>1</th>\n",
              "      <td>1</td>\n",
              "      <td>20.57</td>\n",
              "      <td>17.77</td>\n",
              "      <td>132.9</td>\n",
              "      <td>1326</td>\n",
              "      <td>0.08474</td>\n",
              "      <td>0.07864</td>\n",
              "      <td>0.0869</td>\n",
              "      <td>0.07017</td>\n",
              "      <td>0.1812</td>\n",
              "      <td>0.05667</td>\n",
              "      <td>0.5435</td>\n",
              "      <td>0.7339</td>\n",
              "      <td>3.398</td>\n",
              "      <td>74.08</td>\n",
              "      <td>0.005225</td>\n",
              "      <td>0.01308</td>\n",
              "      <td>0.0186</td>\n",
              "      <td>0.0134</td>\n",
              "      <td>0.01389</td>\n",
              "      <td>0.003532</td>\n",
              "      <td>24.99</td>\n",
              "      <td>23.41</td>\n",
              "      <td>158.8</td>\n",
              "      <td>1956</td>\n",
              "      <td>0.1238</td>\n",
              "      <td>0.1866</td>\n",
              "      <td>0.2416</td>\n",
              "      <td>0.186</td>\n",
              "      <td>0.275</td>\n",
              "      <td>0.08902</td>\n",
              "    </tr>\n",
              "    <tr>\n",
              "      <th>2</th>\n",
              "      <td>1</td>\n",
              "      <td>11.42</td>\n",
              "      <td>20.38</td>\n",
              "      <td>77.58</td>\n",
              "      <td>386.1</td>\n",
              "      <td>0.1425</td>\n",
              "      <td>0.2839</td>\n",
              "      <td>0.2414</td>\n",
              "      <td>0.1052</td>\n",
              "      <td>0.2597</td>\n",
              "      <td>0.09744</td>\n",
              "      <td>0.4956</td>\n",
              "      <td>1.156</td>\n",
              "      <td>3.445</td>\n",
              "      <td>27.23</td>\n",
              "      <td>0.00911</td>\n",
              "      <td>0.07458</td>\n",
              "      <td>0.05661</td>\n",
              "      <td>0.01867</td>\n",
              "      <td>0.05963</td>\n",
              "      <td>0.009208</td>\n",
              "      <td>14.91</td>\n",
              "      <td>26.5</td>\n",
              "      <td>98.87</td>\n",
              "      <td>567.7</td>\n",
              "      <td>0.2098</td>\n",
              "      <td>0.8663</td>\n",
              "      <td>0.6869</td>\n",
              "      <td>0.2575</td>\n",
              "      <td>0.6638</td>\n",
              "      <td>0.173</td>\n",
              "    </tr>\n",
              "    <tr>\n",
              "      <th>3</th>\n",
              "      <td>1</td>\n",
              "      <td>18.25</td>\n",
              "      <td>19.98</td>\n",
              "      <td>119.6</td>\n",
              "      <td>1040</td>\n",
              "      <td>0.09463</td>\n",
              "      <td>0.109</td>\n",
              "      <td>0.1127</td>\n",
              "      <td>0.074</td>\n",
              "      <td>0.1794</td>\n",
              "      <td>0.05742</td>\n",
              "      <td>0.4467</td>\n",
              "      <td>0.7732</td>\n",
              "      <td>3.18</td>\n",
              "      <td>53.91</td>\n",
              "      <td>0.004314</td>\n",
              "      <td>0.01382</td>\n",
              "      <td>0.02254</td>\n",
              "      <td>0.01039</td>\n",
              "      <td>0.01369</td>\n",
              "      <td>0.002179</td>\n",
              "      <td>22.88</td>\n",
              "      <td>27.66</td>\n",
              "      <td>153.2</td>\n",
              "      <td>1606</td>\n",
              "      <td>0.1442</td>\n",
              "      <td>0.2576</td>\n",
              "      <td>0.3784</td>\n",
              "      <td>0.1932</td>\n",
              "      <td>0.3063</td>\n",
              "      <td>0.08368</td>\n",
              "    </tr>\n",
              "    <tr>\n",
              "      <th>4</th>\n",
              "      <td>1</td>\n",
              "      <td>13.71</td>\n",
              "      <td>20.83</td>\n",
              "      <td>90.2</td>\n",
              "      <td>577.9</td>\n",
              "      <td>0.1189</td>\n",
              "      <td>0.1645</td>\n",
              "      <td>0.09366</td>\n",
              "      <td>0.05985</td>\n",
              "      <td>0.2196</td>\n",
              "      <td>0.07451</td>\n",
              "      <td>0.5835</td>\n",
              "      <td>1.377</td>\n",
              "      <td>3.856</td>\n",
              "      <td>50.96</td>\n",
              "      <td>0.008805</td>\n",
              "      <td>0.03029</td>\n",
              "      <td>0.02488</td>\n",
              "      <td>0.01448</td>\n",
              "      <td>0.01486</td>\n",
              "      <td>0.005412</td>\n",
              "      <td>17.06</td>\n",
              "      <td>28.14</td>\n",
              "      <td>110.6</td>\n",
              "      <td>897</td>\n",
              "      <td>0.1654</td>\n",
              "      <td>0.3682</td>\n",
              "      <td>0.2678</td>\n",
              "      <td>0.1556</td>\n",
              "      <td>0.3196</td>\n",
              "      <td>0.1151</td>\n",
              "    </tr>\n",
              "    <tr>\n",
              "      <th>...</th>\n",
              "      <td>...</td>\n",
              "      <td>...</td>\n",
              "      <td>...</td>\n",
              "      <td>...</td>\n",
              "      <td>...</td>\n",
              "      <td>...</td>\n",
              "      <td>...</td>\n",
              "      <td>...</td>\n",
              "      <td>...</td>\n",
              "      <td>...</td>\n",
              "      <td>...</td>\n",
              "      <td>...</td>\n",
              "      <td>...</td>\n",
              "      <td>...</td>\n",
              "      <td>...</td>\n",
              "      <td>...</td>\n",
              "      <td>...</td>\n",
              "      <td>...</td>\n",
              "      <td>...</td>\n",
              "      <td>...</td>\n",
              "      <td>...</td>\n",
              "      <td>...</td>\n",
              "      <td>...</td>\n",
              "      <td>...</td>\n",
              "      <td>...</td>\n",
              "      <td>...</td>\n",
              "      <td>...</td>\n",
              "      <td>...</td>\n",
              "      <td>...</td>\n",
              "      <td>...</td>\n",
              "      <td>...</td>\n",
              "    </tr>\n",
              "    <tr>\n",
              "      <th>279</th>\n",
              "      <td>0</td>\n",
              "      <td>11.2</td>\n",
              "      <td>29.37</td>\n",
              "      <td>70.67</td>\n",
              "      <td>386</td>\n",
              "      <td>0.07449</td>\n",
              "      <td>0.03558</td>\n",
              "      <td>0</td>\n",
              "      <td>0</td>\n",
              "      <td>0.106</td>\n",
              "      <td>0.05502</td>\n",
              "      <td>0.3141</td>\n",
              "      <td>3.896</td>\n",
              "      <td>2.041</td>\n",
              "      <td>22.81</td>\n",
              "      <td>0.007594</td>\n",
              "      <td>0.008878</td>\n",
              "      <td>0</td>\n",
              "      <td>0</td>\n",
              "      <td>0.01989</td>\n",
              "      <td>0.001773</td>\n",
              "      <td>11.92</td>\n",
              "      <td>38.3</td>\n",
              "      <td>75.19</td>\n",
              "      <td>439.6</td>\n",
              "      <td>0.09267</td>\n",
              "      <td>0.05494</td>\n",
              "      <td>0</td>\n",
              "      <td>0</td>\n",
              "      <td>0.1566</td>\n",
              "      <td>0.05905</td>\n",
              "    </tr>\n",
              "    <tr>\n",
              "      <th>280</th>\n",
              "      <td>1</td>\n",
              "      <td>21.56</td>\n",
              "      <td>22.39</td>\n",
              "      <td>142</td>\n",
              "      <td>1479</td>\n",
              "      <td>0.111</td>\n",
              "      <td>0.1159</td>\n",
              "      <td>0.2439</td>\n",
              "      <td>0.1389</td>\n",
              "      <td>0.1726</td>\n",
              "      <td>0.05623</td>\n",
              "      <td>1.176</td>\n",
              "      <td>1.256</td>\n",
              "      <td>7.673</td>\n",
              "      <td>158.7</td>\n",
              "      <td>0.0103</td>\n",
              "      <td>0.02891</td>\n",
              "      <td>0.05198</td>\n",
              "      <td>0.02454</td>\n",
              "      <td>0.01114</td>\n",
              "      <td>0.004239</td>\n",
              "      <td>25.45</td>\n",
              "      <td>26.4</td>\n",
              "      <td>166.1</td>\n",
              "      <td>2027</td>\n",
              "      <td>0.141</td>\n",
              "      <td>0.2113</td>\n",
              "      <td>0.4107</td>\n",
              "      <td>0.2216</td>\n",
              "      <td>0.206</td>\n",
              "      <td>0.07115</td>\n",
              "    </tr>\n",
              "    <tr>\n",
              "      <th>281</th>\n",
              "      <td>1</td>\n",
              "      <td>20.13</td>\n",
              "      <td>28.25</td>\n",
              "      <td>131.2</td>\n",
              "      <td>1261</td>\n",
              "      <td>0.0978</td>\n",
              "      <td>0.1034</td>\n",
              "      <td>0.144</td>\n",
              "      <td>0.09791</td>\n",
              "      <td>0.1752</td>\n",
              "      <td>0.05533</td>\n",
              "      <td>0.7655</td>\n",
              "      <td>2.463</td>\n",
              "      <td>5.203</td>\n",
              "      <td>99.04</td>\n",
              "      <td>0.005769</td>\n",
              "      <td>0.02423</td>\n",
              "      <td>0.0395</td>\n",
              "      <td>0.01678</td>\n",
              "      <td>0.01898</td>\n",
              "      <td>0.002498</td>\n",
              "      <td>23.69</td>\n",
              "      <td>38.25</td>\n",
              "      <td>155</td>\n",
              "      <td>1731</td>\n",
              "      <td>0.1166</td>\n",
              "      <td>0.1922</td>\n",
              "      <td>0.3215</td>\n",
              "      <td>0.1628</td>\n",
              "      <td>0.2572</td>\n",
              "      <td>0.06637</td>\n",
              "    </tr>\n",
              "    <tr>\n",
              "      <th>282</th>\n",
              "      <td>1</td>\n",
              "      <td>20.6</td>\n",
              "      <td>29.33</td>\n",
              "      <td>140.1</td>\n",
              "      <td>1265</td>\n",
              "      <td>0.1178</td>\n",
              "      <td>0.277</td>\n",
              "      <td>0.3514</td>\n",
              "      <td>0.152</td>\n",
              "      <td>0.2397</td>\n",
              "      <td>0.07016</td>\n",
              "      <td>0.726</td>\n",
              "      <td>1.595</td>\n",
              "      <td>5.772</td>\n",
              "      <td>86.22</td>\n",
              "      <td>0.006522</td>\n",
              "      <td>0.06158</td>\n",
              "      <td>0.07117</td>\n",
              "      <td>0.01664</td>\n",
              "      <td>0.02324</td>\n",
              "      <td>0.006185</td>\n",
              "      <td>25.74</td>\n",
              "      <td>39.42</td>\n",
              "      <td>184.6</td>\n",
              "      <td>1821</td>\n",
              "      <td>0.165</td>\n",
              "      <td>0.8681</td>\n",
              "      <td>0.9387</td>\n",
              "      <td>0.265</td>\n",
              "      <td>0.4087</td>\n",
              "      <td>0.124</td>\n",
              "    </tr>\n",
              "    <tr>\n",
              "      <th>283</th>\n",
              "      <td>0</td>\n",
              "      <td>7.76</td>\n",
              "      <td>24.54</td>\n",
              "      <td>47.92</td>\n",
              "      <td>181</td>\n",
              "      <td>0.05263</td>\n",
              "      <td>0.04362</td>\n",
              "      <td>0</td>\n",
              "      <td>0</td>\n",
              "      <td>0.1587</td>\n",
              "      <td>0.05884</td>\n",
              "      <td>0.3857</td>\n",
              "      <td>1.428</td>\n",
              "      <td>2.548</td>\n",
              "      <td>19.15</td>\n",
              "      <td>0.007189</td>\n",
              "      <td>0.00466</td>\n",
              "      <td>0</td>\n",
              "      <td>0</td>\n",
              "      <td>0.02676</td>\n",
              "      <td>0.002783</td>\n",
              "      <td>9.456</td>\n",
              "      <td>30.37</td>\n",
              "      <td>59.16</td>\n",
              "      <td>268.6</td>\n",
              "      <td>0.08996</td>\n",
              "      <td>0.06444</td>\n",
              "      <td>0</td>\n",
              "      <td>0</td>\n",
              "      <td>0.2871</td>\n",
              "      <td>0.07039</td>\n",
              "    </tr>\n",
              "  </tbody>\n",
              "</table>\n",
              "<p>284 rows × 31 columns</p>\n",
              "</div>"
            ],
            "text/plain": [
              "    diagnosis radius_mean  ... symmetry_worst fractal_dimension_worst\n",
              "0           1       17.99  ...         0.4601                  0.1189\n",
              "1           1       20.57  ...          0.275                 0.08902\n",
              "2           1       11.42  ...         0.6638                   0.173\n",
              "3           1       18.25  ...         0.3063                 0.08368\n",
              "4           1       13.71  ...         0.3196                  0.1151\n",
              "..        ...         ...  ...            ...                     ...\n",
              "279         0        11.2  ...         0.1566                 0.05905\n",
              "280         1       21.56  ...          0.206                 0.07115\n",
              "281         1       20.13  ...         0.2572                 0.06637\n",
              "282         1        20.6  ...         0.4087                   0.124\n",
              "283         0        7.76  ...         0.2871                 0.07039\n",
              "\n",
              "[284 rows x 31 columns]"
            ]
          },
          "metadata": {
            "tags": []
          },
          "execution_count": 34
        }
      ]
    },
    {
      "cell_type": "code",
      "metadata": {
        "id": "SKJOw6hzzGRt",
        "colab": {
          "base_uri": "https://localhost:8080/"
        },
        "outputId": "3770074d-0079-4642-bd15-c187c48e48e8"
      },
      "source": [
        "df1.count()"
      ],
      "execution_count": 35,
      "outputs": [
        {
          "output_type": "execute_result",
          "data": {
            "text/plain": [
              "284"
            ]
          },
          "metadata": {
            "tags": []
          },
          "execution_count": 35
        }
      ]
    },
    {
      "cell_type": "code",
      "metadata": {
        "id": "-n-aNDk70wHy",
        "colab": {
          "base_uri": "https://localhost:8080/"
        },
        "outputId": "9c8e8770-40a3-4376-f7a6-d9650337e9bc"
      },
      "source": [
        "df1.crosstab(\"radius_mean\", \"texture_mean\").show()"
      ],
      "execution_count": 36,
      "outputs": [
        {
          "output_type": "stream",
          "text": [
            "+------------------------+-----+-----+-----+-----+-----+-----+-----+-----+-----+-----+-----+-----+-----+-----+-----+-----+----+-----+-----+-----+-----+-----+-----+-----+-----+-----+-----+-----+-----+-----+-----+-----+-----+-----+----+-----+-----+-----+-----+----+-----+-----+-----+-----+-----+-----+-----+----+-----+-----+-----+-----+-----+-----+-----+-----+-----+-----+-----+-----+-----+-----+-----+-----+-----+-----+-----+-----+-----+-----+-----+-----+-----+---+-----+-----+-----+-----+-----+-----+-----+-----+----+-----+-----+-----+-----+-----+-----+-----+-----+-----+-----+-----+-----+-----+-----+-----+-----+-----+-----+-----+-----+-----+-----+----+-----+-----+-----+-----+-----+----+-----+-----+----+-----+-----+-----+----+-----+-----+----+-----+-----+-----+-----+-----+-----+-----+-----+-----+-----+-----+-----+-----+-----+-----+-----+----+-----+-----+-----+-----+-----+-----+-----+-----+-----+-----+-----+-----+-----+-----+-----+----+-----+-----+-----+-----+-----+-----+-----+-----+-----+-----+-----+----+-----+-----+-----+-----+-----+-----+-----+-----+-----+-----+-----+-----+-----+-----+-----+-----+-----+-----+----+----+-----+-----+-----+-----+-----+-----+-----+-----+-----+-----+-----+----+-----+-----+-----+-----+-----+-----+-----+-----+-----+----+-----+-----+-----+-----+-----+-----+-----+-----+-----+-----+-----+-----+-----+-----+-----+-----+-----+-----+-----+-----+-----+-----+-----+-----+-----+-----+-----+-----+-----+-----+-----+-----+-----+-----+-----+-----+----+-----+-----+-----+-----+-----+-----+-----+-----+-----+-----+-----+-----+-----+-----+----+\n",
            "|radius_mean_texture_mean|10.38|10.72|10.89|10.91|11.28|11.79|11.97|12.17|12.22|12.39|12.44|12.74|12.87|12.96|13.04|13.06|13.1|13.12|13.16|13.17|13.23|13.29|13.32|13.37|13.43|13.44|13.72|13.84|13.93|14.06|14.08|14.09|14.16|14.36|14.4|14.59|14.64|14.65|14.69|14.7|14.78|14.86|14.92|14.93|14.96|14.97|15.05|15.1|15.11|15.21|15.51|15.68|15.69|15.71|15.86|15.92|15.98|16.02|16.03|16.15|16.16|16.35|16.39|16.49|16.52|16.54|16.58|16.62|16.67|16.68|16.82|16.84|16.95| 17|17.02|17.08|17.12|17.15|17.18|17.19|17.25|17.27|17.3|17.31|17.33|17.36|17.39|17.43|17.46|17.48|17.52|17.53|17.56|17.57|17.62|17.64|17.67|17.68|17.72|17.77|17.89|17.92|17.94|18.03|18.07|18.1|18.14|18.15|18.17|18.18|18.22|18.3|18.33|18.36|18.4|18.42|18.57|18.59|18.6|18.61|18.77|18.8|18.84|18.87|18.91|18.94|19.08|19.11|19.22|19.24|19.29|19.31|19.32|19.34|19.35|19.48|19.54|19.56|19.6|19.62|19.63|19.65|19.66|19.76|19.77|19.82|19.83|19.86|19.94|19.97|19.98|20.02|20.04|20.11|20.2|20.21|20.25|20.28|20.31|20.38|20.52|20.53|20.58|20.66|20.67|20.68|20.7|20.74|20.76|20.82|20.83|20.86|20.97|21.02|21.24|21.28|21.31|21.41|21.43|21.46|21.51|21.53|21.54|21.56|21.59|21.6|21.7|21.72|21.81|21.82|21.84|22.02|22.04|22.11|22.14|22.15|22.22|22.28|22.3|22.33|22.39|22.41|22.53|22.55|22.72|22.91|23.03|23.09|23.2|23.24|23.29|23.33|23.56|23.81|23.84|23.86|23.93|23.97|24.02|24.04|24.44|24.48|24.49|24.52|24.54|24.59|24.68|24.99|25.22|25.25|25.42|25.49|25.56|25.74|26.47|26.57|26.67|26.86|27.08|27.61|27.81|27.85|27.88|28.03|28.06|28.2|28.21|28.23|28.25|28.77|28.92|29.29|29.33|29.37|29.81|29.97|30.72|32.47|33.56|39.28|9.71|\n",
            "+------------------------+-----+-----+-----+-----+-----+-----+-----+-----+-----+-----+-----+-----+-----+-----+-----+-----+----+-----+-----+-----+-----+-----+-----+-----+-----+-----+-----+-----+-----+-----+-----+-----+-----+-----+----+-----+-----+-----+-----+----+-----+-----+-----+-----+-----+-----+-----+----+-----+-----+-----+-----+-----+-----+-----+-----+-----+-----+-----+-----+-----+-----+-----+-----+-----+-----+-----+-----+-----+-----+-----+-----+-----+---+-----+-----+-----+-----+-----+-----+-----+-----+----+-----+-----+-----+-----+-----+-----+-----+-----+-----+-----+-----+-----+-----+-----+-----+-----+-----+-----+-----+-----+-----+-----+----+-----+-----+-----+-----+-----+----+-----+-----+----+-----+-----+-----+----+-----+-----+----+-----+-----+-----+-----+-----+-----+-----+-----+-----+-----+-----+-----+-----+-----+-----+-----+----+-----+-----+-----+-----+-----+-----+-----+-----+-----+-----+-----+-----+-----+-----+-----+----+-----+-----+-----+-----+-----+-----+-----+-----+-----+-----+-----+----+-----+-----+-----+-----+-----+-----+-----+-----+-----+-----+-----+-----+-----+-----+-----+-----+-----+-----+----+----+-----+-----+-----+-----+-----+-----+-----+-----+-----+-----+-----+----+-----+-----+-----+-----+-----+-----+-----+-----+-----+----+-----+-----+-----+-----+-----+-----+-----+-----+-----+-----+-----+-----+-----+-----+-----+-----+-----+-----+-----+-----+-----+-----+-----+-----+-----+-----+-----+-----+-----+-----+-----+-----+-----+-----+-----+-----+----+-----+-----+-----+-----+-----+-----+-----+-----+-----+-----+-----+-----+-----+-----+----+\n",
            "|                   9.668|    0|    0|    0|    0|    0|    0|    0|    0|    0|    0|    0|    0|    0|    0|    0|    0|   0|    0|    0|    0|    0|    0|    0|    0|    0|    0|    0|    0|    0|    0|    0|    0|    0|    0|   0|    0|    0|    0|    0|   0|    0|    0|    0|    0|    0|    0|    0|   0|    0|    0|    0|    0|    0|    0|    0|    0|    0|    0|    0|    0|    0|    0|    0|    0|    0|    0|    0|    0|    0|    0|    0|    0|    0|  0|    0|    0|    0|    0|    0|    0|    0|    0|   0|    0|    0|    0|    0|    0|    0|    0|    0|    0|    0|    0|    0|    0|    0|    0|    0|    0|    0|    0|    0|    0|    0|   1|    0|    0|    0|    0|    0|   0|    0|    0|   0|    0|    0|    0|   0|    0|    0|   0|    0|    0|    0|    0|    0|    0|    0|    0|    0|    0|    0|    0|    0|    0|    0|    0|   0|    0|    0|    0|    0|    0|    0|    0|    0|    0|    0|    0|    0|    0|    0|    0|   0|    0|    0|    0|    0|    0|    0|    0|    0|    0|    0|    0|   0|    0|    0|    0|    0|    0|    0|    0|    0|    0|    0|    0|    0|    0|    0|    0|    0|    0|    0|   0|   0|    0|    0|    0|    0|    0|    0|    0|    0|    0|    0|    0|   0|    0|    0|    0|    0|    0|    0|    0|    0|    0|   0|    0|    0|    0|    0|    0|    0|    0|    0|    0|    0|    0|    0|    0|    0|    0|    0|    0|    0|    0|    0|    0|    0|    0|    0|    0|    0|    0|    0|    0|    0|    0|    0|    0|    0|    0|    0|   0|    0|    0|    0|    0|    0|    0|    0|    0|    0|    0|    0|    0|    0|    0|   0|\n",
            "|                    7.76|    0|    0|    0|    0|    0|    0|    0|    0|    0|    0|    0|    0|    0|    0|    0|    0|   0|    0|    0|    0|    0|    0|    0|    0|    0|    0|    0|    0|    0|    0|    0|    0|    0|    0|   0|    0|    0|    0|    0|   0|    0|    0|    0|    0|    0|    0|    0|   0|    0|    0|    0|    0|    0|    0|    0|    0|    0|    0|    0|    0|    0|    0|    0|    0|    0|    0|    0|    0|    0|    0|    0|    0|    0|  0|    0|    0|    0|    0|    0|    0|    0|    0|   0|    0|    0|    0|    0|    0|    0|    0|    0|    0|    0|    0|    0|    0|    0|    0|    0|    0|    0|    0|    0|    0|    0|   0|    0|    0|    0|    0|    0|   0|    0|    0|   0|    0|    0|    0|   0|    0|    0|   0|    0|    0|    0|    0|    0|    0|    0|    0|    0|    0|    0|    0|    0|    0|    0|    0|   0|    0|    0|    0|    0|    0|    0|    0|    0|    0|    0|    0|    0|    0|    0|    0|   0|    0|    0|    0|    0|    0|    0|    0|    0|    0|    0|    0|   0|    0|    0|    0|    0|    0|    0|    0|    0|    0|    0|    0|    0|    0|    0|    0|    0|    0|    0|   0|   0|    0|    0|    0|    0|    0|    0|    0|    0|    0|    0|    0|   0|    0|    0|    0|    0|    0|    0|    0|    0|    0|   0|    0|    0|    0|    0|    0|    0|    0|    0|    0|    0|    0|    0|    0|    0|    0|    1|    0|    0|    0|    0|    0|    0|    0|    0|    0|    0|    0|    0|    0|    0|    0|    0|    0|    0|    0|    0|   0|    0|    0|    0|    0|    0|    0|    0|    0|    0|    0|    0|    0|    0|    0|   0|\n",
            "|                   13.46|    0|    0|    0|    0|    0|    0|    0|    0|    0|    0|    0|    0|    0|    0|    0|    0|   0|    0|    0|    0|    0|    0|    0|    0|    0|    0|    0|    0|    0|    0|    0|    0|    0|    0|   0|    0|    0|    0|    0|   0|    0|    0|    0|    0|    0|    0|    0|   0|    0|    0|    0|    0|    0|    0|    0|    0|    0|    0|    0|    0|    0|    0|    0|    0|    0|    0|    0|    0|    0|    0|    0|    0|    0|  0|    0|    0|    0|    0|    0|    0|    0|    0|   0|    0|    0|    0|    0|    0|    0|    0|    0|    0|    0|    0|    0|    0|    0|    0|    0|    0|    0|    0|    0|    0|    0|   0|    0|    0|    0|    0|    0|   0|    0|    0|   0|    0|    0|    0|   0|    0|    0|   0|    0|    0|    0|    0|    0|    0|    0|    0|    0|    0|    0|    0|    0|    0|    0|    0|   0|    0|    0|    0|    0|    0|    0|    0|    0|    0|    0|    0|    0|    0|    0|    0|   0|    0|    0|    0|    0|    0|    0|    0|    0|    0|    0|    0|   0|    0|    0|    0|    0|    0|    0|    0|    0|    0|    0|    0|    0|    0|    0|    0|    0|    0|    0|   0|   0|    0|    0|    0|    0|    0|    0|    0|    0|    0|    0|    0|   0|    0|    0|    0|    0|    0|    0|    0|    0|    0|   0|    0|    0|    0|    0|    0|    0|    0|    0|    0|    0|    0|    0|    0|    0|    0|    0|    0|    0|    0|    0|    0|    0|    0|    0|    0|    0|    0|    0|    0|    0|    0|    0|    0|    0|    0|    0|   0|    1|    0|    0|    0|    0|    0|    0|    0|    0|    0|    0|    0|    0|    0|   0|\n",
            "|                   14.22|    0|    0|    0|    0|    0|    0|    0|    0|    0|    0|    0|    0|    0|    0|    0|    0|   0|    0|    0|    0|    0|    0|    0|    0|    0|    0|    0|    0|    0|    0|    0|    0|    0|    0|   0|    0|    0|    0|    0|   0|    0|    0|    0|    0|    0|    0|    0|   0|    0|    0|    0|    0|    0|    0|    0|    0|    0|    0|    0|    0|    0|    0|    0|    0|    0|    0|    0|    0|    0|    0|    0|    0|    0|  0|    0|    0|    0|    0|    0|    0|    0|    0|   0|    0|    0|    0|    0|    0|    0|    0|    0|    0|    0|    0|    0|    0|    0|    0|    0|    0|    0|    0|    0|    0|    0|   0|    0|    0|    0|    0|    0|   0|    0|    0|   0|    0|    0|    0|   0|    0|    0|   0|    0|    0|    0|    0|    0|    0|    0|    0|    0|    0|    0|    0|    0|    0|    0|    0|   0|    0|    0|    0|    0|    0|    0|    0|    0|    0|    0|    0|    0|    0|    0|    0|   0|    0|    0|    0|    0|    0|    0|    0|    0|    0|    0|    0|   0|    0|    0|    0|    0|    0|    0|    0|    0|    0|    0|    0|    0|    0|    0|    0|    0|    0|    0|   0|   0|    0|    0|    0|    0|    0|    0|    0|    0|    0|    0|    0|   0|    0|    0|    0|    0|    0|    0|    0|    0|    0|   0|    0|    0|    0|    0|    0|    0|    0|    0|    0|    0|    0|    0|    0|    0|    0|    0|    0|    0|    0|    0|    0|    0|    0|    0|    0|    0|    0|    0|    0|    0|    0|    0|    1|    0|    0|    0|   0|    0|    0|    0|    0|    0|    0|    0|    0|    0|    0|    0|    0|    0|    0|   0|\n",
            "|                   12.43|    0|    0|    0|    0|    0|    0|    0|    0|    0|    0|    0|    0|    0|    0|    0|    0|   0|    0|    0|    0|    0|    0|    0|    0|    0|    0|    0|    0|    0|    0|    0|    0|    0|    0|   0|    0|    0|    0|    0|   0|    0|    0|    0|    0|    0|    0|    0|   0|    0|    0|    0|    0|    0|    0|    0|    0|    0|    0|    0|    0|    0|    0|    0|    0|    0|    0|    0|    0|    0|    0|    0|    0|    0|  1|    0|    0|    0|    0|    0|    0|    0|    0|   0|    0|    0|    0|    0|    0|    0|    0|    0|    0|    0|    0|    0|    0|    0|    0|    0|    0|    0|    0|    0|    0|    0|   0|    0|    0|    0|    0|    0|   0|    0|    0|   0|    0|    0|    0|   0|    0|    0|   0|    0|    0|    0|    0|    0|    0|    0|    0|    0|    0|    0|    0|    0|    0|    0|    0|   0|    0|    0|    0|    0|    0|    0|    0|    0|    0|    0|    0|    0|    0|    0|    0|   0|    0|    0|    0|    0|    0|    0|    0|    0|    0|    0|    0|   0|    0|    0|    0|    0|    0|    0|    0|    0|    0|    0|    0|    0|    0|    0|    0|    0|    0|    0|   0|   0|    0|    0|    0|    0|    0|    0|    0|    0|    0|    0|    0|   0|    0|    0|    0|    0|    0|    0|    0|    0|    0|   0|    0|    0|    0|    0|    0|    0|    0|    0|    0|    0|    0|    0|    0|    0|    0|    0|    0|    0|    0|    0|    0|    0|    0|    0|    0|    0|    0|    0|    0|    0|    0|    0|    0|    0|    0|    0|   0|    0|    0|    0|    0|    0|    0|    0|    0|    0|    0|    0|    0|    0|    0|   0|\n",
            "|                   12.21|    0|    0|    0|    0|    0|    0|    0|    0|    0|    0|    0|    0|    0|    0|    0|    0|   0|    0|    0|    0|    0|    0|    0|    0|    0|    0|    0|    0|    0|    0|    0|    1|    0|    0|   0|    0|    0|    0|    0|   0|    0|    0|    0|    0|    0|    0|    0|   0|    0|    0|    0|    0|    0|    0|    0|    0|    0|    0|    0|    0|    0|    0|    0|    0|    0|    0|    0|    0|    0|    0|    0|    0|    0|  0|    0|    0|    0|    0|    0|    0|    0|    0|   0|    0|    0|    0|    0|    0|    0|    0|    0|    0|    0|    0|    0|    0|    0|    0|    0|    0|    0|    0|    0|    0|    0|   0|    0|    0|    0|    0|    0|   0|    0|    0|   0|    0|    0|    0|   0|    0|    0|   0|    0|    0|    0|    0|    0|    0|    0|    0|    0|    0|    0|    0|    0|    0|    0|    0|   0|    0|    0|    0|    0|    0|    0|    0|    0|    0|    0|    0|    0|    0|    0|    0|   0|    0|    0|    0|    0|    0|    0|    0|    0|    0|    0|    0|   0|    0|    0|    0|    0|    0|    0|    0|    0|    0|    0|    0|    0|    0|    0|    0|    0|    0|    0|   0|   0|    0|    0|    0|    0|    0|    0|    0|    0|    0|    0|    0|   0|    0|    0|    0|    0|    0|    0|    0|    0|    0|   0|    0|    0|    0|    0|    0|    0|    0|    0|    0|    0|    0|    0|    0|    0|    0|    0|    0|    0|    0|    0|    0|    0|    0|    0|    0|    0|    0|    0|    0|    0|    0|    0|    0|    0|    0|    0|   0|    0|    0|    0|    0|    0|    0|    0|    0|    0|    0|    0|    0|    0|    0|   0|\n",
            "|                    10.8|    0|    0|    0|    0|    0|    0|    0|    0|    0|    0|    0|    0|    0|    0|    0|    0|   0|    0|    0|    0|    0|    0|    0|    0|    0|    0|    0|    0|    0|    0|    0|    0|    0|    0|   0|    0|    0|    0|    0|   0|    0|    0|    0|    0|    0|    0|    0|   0|    0|    0|    0|    0|    0|    0|    0|    0|    0|    0|    0|    0|    0|    0|    0|    0|    0|    0|    0|    0|    0|    0|    0|    0|    0|  0|    0|    0|    0|    0|    0|    0|    0|    0|   0|    0|    0|    0|    0|    0|    0|    0|    0|    0|    0|    0|    0|    0|    0|    0|    0|    0|    0|    0|    0|    0|    0|   0|    0|    0|    0|    0|    0|   0|    0|    0|   0|    0|    0|    0|   0|    0|    0|   0|    0|    0|    0|    0|    0|    0|    0|    0|    0|    0|    0|    0|    0|    0|    0|    0|   0|    0|    0|    0|    0|    0|    0|    0|    0|    0|    0|    0|    0|    0|    0|    0|   0|    0|    0|    0|    0|    0|    0|    0|    0|    0|    0|    0|   0|    0|    0|    0|    0|    0|    0|    0|    0|    0|    0|    0|    0|    0|    0|    0|    0|    0|    0|   0|   0|    0|    0|    0|    0|    0|    0|    0|    0|    0|    0|    0|   0|    0|    0|    0|    0|    0|    0|    0|    0|    0|   0|    0|    0|    0|    0|    0|    0|    0|    0|    0|    0|    0|    0|    0|    0|    0|    0|    0|    0|    0|    0|    0|    0|    0|    0|    0|    0|    0|    0|    0|    0|    0|    0|    0|    0|    0|    0|   0|    0|    0|    0|    0|    0|    0|    0|    0|    0|    0|    0|    0|    0|    0|   1|\n",
            "|                   6.981|    0|    0|    0|    0|    0|    0|    0|    0|    0|    0|    0|    0|    0|    0|    0|    0|   0|    0|    0|    0|    0|    0|    0|    0|    1|    0|    0|    0|    0|    0|    0|    0|    0|    0|   0|    0|    0|    0|    0|   0|    0|    0|    0|    0|    0|    0|    0|   0|    0|    0|    0|    0|    0|    0|    0|    0|    0|    0|    0|    0|    0|    0|    0|    0|    0|    0|    0|    0|    0|    0|    0|    0|    0|  0|    0|    0|    0|    0|    0|    0|    0|    0|   0|    0|    0|    0|    0|    0|    0|    0|    0|    0|    0|    0|    0|    0|    0|    0|    0|    0|    0|    0|    0|    0|    0|   0|    0|    0|    0|    0|    0|   0|    0|    0|   0|    0|    0|    0|   0|    0|    0|   0|    0|    0|    0|    0|    0|    0|    0|    0|    0|    0|    0|    0|    0|    0|    0|    0|   0|    0|    0|    0|    0|    0|    0|    0|    0|    0|    0|    0|    0|    0|    0|    0|   0|    0|    0|    0|    0|    0|    0|    0|    0|    0|    0|    0|   0|    0|    0|    0|    0|    0|    0|    0|    0|    0|    0|    0|    0|    0|    0|    0|    0|    0|    0|   0|   0|    0|    0|    0|    0|    0|    0|    0|    0|    0|    0|    0|   0|    0|    0|    0|    0|    0|    0|    0|    0|    0|   0|    0|    0|    0|    0|    0|    0|    0|    0|    0|    0|    0|    0|    0|    0|    0|    0|    0|    0|    0|    0|    0|    0|    0|    0|    0|    0|    0|    0|    0|    0|    0|    0|    0|    0|    0|    0|   0|    0|    0|    0|    0|    0|    0|    0|    0|    0|    0|    0|    0|    0|    0|   0|\n",
            "|                   10.29|    0|    0|    0|    0|    0|    0|    0|    0|    0|    0|    0|    0|    0|    0|    0|    0|   0|    0|    0|    0|    0|    0|    0|    0|    0|    0|    0|    0|    0|    0|    0|    0|    0|    0|   0|    0|    0|    0|    0|   0|    0|    0|    0|    0|    0|    0|    0|   0|    0|    0|    0|    0|    0|    0|    0|    0|    0|    0|    0|    0|    0|    0|    0|    0|    0|    0|    0|    0|    0|    0|    0|    0|    0|  0|    0|    0|    0|    0|    0|    0|    0|    0|   0|    0|    0|    0|    0|    0|    0|    0|    0|    0|    0|    0|    0|    0|    0|    0|    0|    0|    0|    0|    0|    0|    0|   0|    0|    0|    0|    0|    0|   0|    0|    0|   0|    0|    0|    0|   0|    0|    0|   0|    0|    0|    0|    0|    0|    0|    0|    0|    0|    0|    0|    0|    0|    0|    0|    0|   0|    0|    0|    0|    0|    0|    0|    0|    0|    0|    0|    0|    0|    0|    0|    0|   0|    0|    0|    0|    0|    0|    0|    0|    0|    0|    0|    0|   0|    0|    0|    0|    0|    0|    0|    0|    0|    0|    0|    0|    0|    0|    0|    0|    0|    0|    0|   0|   0|    0|    0|    0|    0|    0|    0|    0|    0|    0|    0|    0|   0|    0|    0|    0|    0|    0|    0|    0|    0|    0|   0|    0|    0|    0|    0|    0|    0|    0|    0|    0|    0|    0|    0|    0|    0|    0|    0|    0|    0|    0|    0|    0|    0|    0|    0|    0|    0|    0|    0|    0|    0|    1|    0|    0|    0|    0|    0|   0|    0|    0|    0|    0|    0|    0|    0|    0|    0|    0|    0|    0|    0|    0|   0|\n",
            "|                   12.32|    0|    0|    0|    0|    0|    0|    0|    0|    0|    1|    0|    0|    0|    0|    0|    0|   0|    0|    0|    0|    0|    0|    0|    0|    0|    0|    0|    0|    0|    0|    0|    0|    0|    0|   0|    0|    0|    0|    0|   0|    0|    0|    0|    0|    0|    0|    0|   0|    0|    0|    0|    0|    0|    0|    0|    0|    0|    0|    0|    0|    0|    0|    0|    0|    0|    0|    0|    0|    0|    0|    0|    0|    0|  0|    0|    0|    0|    0|    0|    0|    0|    0|   0|    0|    0|    0|    0|    0|    0|    0|    0|    0|    0|    0|    0|    0|    0|    0|    0|    0|    0|    0|    0|    0|    0|   0|    0|    0|    0|    0|    0|   0|    0|    0|   0|    0|    0|    0|   0|    0|    0|   0|    0|    0|    0|    0|    0|    0|    0|    0|    0|    0|    0|    0|    0|    0|    0|    0|   0|    0|    0|    0|    0|    0|    0|    0|    0|    0|    0|    0|    0|    0|    0|    0|   0|    0|    0|    0|    0|    0|    0|    0|    0|    0|    0|    0|   0|    0|    0|    0|    0|    0|    0|    0|    0|    0|    0|    0|    0|    0|    0|    0|    0|    0|    0|   0|   0|    0|    0|    0|    0|    0|    0|    0|    0|    0|    0|    0|   0|    0|    0|    0|    0|    0|    0|    0|    0|    0|   0|    0|    0|    0|    0|    0|    0|    0|    0|    0|    0|    0|    0|    0|    0|    0|    0|    0|    0|    0|    0|    0|    0|    0|    0|    0|    0|    0|    0|    0|    0|    0|    0|    0|    0|    0|    0|   0|    0|    0|    0|    0|    0|    0|    0|    0|    0|    0|    0|    0|    0|    0|   0|\n",
            "|                   14.71|    0|    0|    0|    0|    0|    0|    0|    0|    0|    0|    0|    0|    0|    0|    0|    0|   0|    0|    0|    0|    0|    0|    0|    0|    0|    0|    0|    0|    0|    0|    0|    0|    0|    0|   0|    0|    0|    0|    0|   0|    0|    0|    0|    0|    0|    0|    0|   0|    0|    0|    0|    0|    0|    0|    0|    0|    0|    0|    0|    0|    0|    0|    0|    0|    0|    0|    0|    0|    0|    0|    0|    0|    0|  0|    0|    0|    0|    0|    0|    0|    0|    0|   0|    0|    0|    0|    0|    0|    0|    0|    0|    0|    0|    0|    0|    0|    0|    0|    0|    0|    0|    0|    0|    0|    0|   0|    0|    0|    0|    0|    0|   0|    0|    0|   0|    0|    0|    0|   0|    0|    0|   0|    0|    0|    0|    0|    0|    0|    0|    0|    0|    0|    0|    0|    0|    0|    0|    0|   0|    0|    0|    0|    0|    0|    0|    0|    0|    0|    0|    0|    0|    0|    0|    0|   0|    0|    0|    0|    0|    0|    0|    0|    0|    0|    0|    0|   0|    0|    0|    0|    0|    0|    0|    0|    0|    0|    0|    0|    0|    0|    0|    0|    0|    0|    1|   0|   0|    0|    0|    0|    0|    0|    0|    0|    0|    0|    0|    0|   0|    0|    0|    0|    0|    0|    0|    0|    0|    0|   0|    0|    0|    0|    0|    0|    0|    0|    0|    0|    0|    0|    0|    0|    0|    0|    0|    0|    0|    0|    0|    0|    0|    0|    0|    0|    0|    0|    0|    0|    0|    0|    0|    0|    0|    0|    0|   0|    0|    0|    0|    0|    0|    0|    0|    0|    0|    0|    0|    0|    0|    0|   0|\n",
            "|                      12|    0|    0|    0|    0|    0|    0|    0|    0|    0|    0|    0|    0|    0|    0|    0|    0|   0|    0|    0|    0|    0|    0|    0|    0|    0|    0|    0|    0|    0|    0|    0|    0|    0|    0|   0|    0|    0|    0|    0|   0|    0|    0|    0|    0|    0|    0|    0|   0|    0|    0|    0|    0|    0|    0|    0|    0|    0|    0|    0|    0|    0|    0|    0|    0|    0|    0|    0|    0|    0|    0|    0|    0|    0|  0|    0|    0|    0|    0|    0|    0|    0|    0|   0|    0|    0|    0|    0|    0|    0|    0|    0|    0|    0|    0|    0|    0|    0|    0|    0|    0|    0|    0|    0|    0|    0|   0|    0|    0|    0|    0|    0|   0|    0|    0|   0|    0|    0|    0|   0|    0|    0|   0|    0|    0|    0|    0|    0|    0|    0|    0|    0|    0|    0|    0|    0|    0|    0|    0|   0|    0|    0|    0|    0|    0|    0|    0|    0|    0|    0|    0|    0|    0|    0|    0|   0|    0|    0|    0|    0|    0|    0|    0|    0|    0|    0|    0|   0|    0|    0|    0|    0|    0|    0|    0|    0|    0|    0|    0|    0|    0|    0|    0|    0|    0|    0|   0|   0|    0|    0|    0|    0|    0|    0|    0|    0|    0|    0|    0|   0|    0|    0|    0|    0|    0|    0|    0|    0|    0|   0|    0|    0|    0|    0|    0|    0|    0|    0|    0|    0|    0|    0|    0|    0|    0|    0|    0|    0|    0|    0|    0|    0|    0|    0|    0|    0|    0|    0|    0|    0|    0|    0|    0|    0|    0|    0|   0|    0|    1|    0|    0|    0|    0|    0|    0|    0|    0|    0|    0|    0|    0|   0|\n",
            "|                   11.75|    0|    0|    0|    0|    0|    0|    0|    0|    0|    0|    0|    0|    0|    0|    0|    0|   0|    0|    0|    0|    0|    0|    0|    0|    0|    0|    0|    0|    0|    0|    0|    0|    0|    0|   0|    0|    0|    0|    0|   0|    0|    0|    0|    0|    0|    0|    0|   0|    0|    0|    0|    0|    0|    0|    0|    0|    0|    0|    0|    0|    0|    0|    0|    0|    0|    0|    0|    0|    0|    0|    0|    0|    0|  0|    0|    0|    0|    0|    0|    0|    0|    0|   0|    0|    0|    0|    0|    0|    0|    0|    0|    0|    1|    0|    0|    0|    0|    0|    0|    0|    0|    0|    0|    0|    0|   0|    0|    0|    0|    0|    0|   0|    0|    0|   0|    0|    0|    0|   0|    0|    0|   0|    0|    0|    0|    0|    0|    0|    0|    0|    0|    0|    0|    0|    0|    0|    0|    0|   0|    0|    0|    0|    0|    0|    0|    0|    0|    0|    0|    0|    0|    0|    0|    0|   0|    0|    0|    0|    0|    0|    0|    0|    0|    0|    0|    0|   0|    0|    0|    0|    0|    0|    0|    0|    0|    0|    0|    0|    0|    0|    0|    0|    0|    0|    0|   0|   0|    0|    0|    0|    0|    0|    0|    0|    0|    0|    0|    0|   0|    0|    0|    0|    0|    0|    0|    0|    0|    0|   0|    0|    0|    0|    0|    0|    0|    0|    0|    0|    0|    0|    0|    0|    0|    0|    0|    0|    0|    0|    0|    0|    0|    0|    0|    0|    0|    0|    0|    0|    0|    0|    0|    0|    0|    0|    0|   0|    0|    0|    0|    0|    0|    0|    0|    0|    0|    0|    0|    0|    0|    0|   0|\n",
            "|                   14.62|    0|    0|    0|    0|    0|    0|    0|    0|    0|    0|    0|    0|    0|    0|    0|    0|   0|    0|    0|    0|    0|    0|    0|    0|    0|    0|    0|    0|    0|    0|    0|    0|    0|    0|   0|    0|    0|    0|    0|   0|    0|    0|    0|    0|    0|    0|    0|   0|    0|    0|    0|    0|    0|    0|    0|    0|    0|    0|    0|    0|    0|    0|    0|    0|    0|    0|    0|    0|    0|    0|    0|    0|    0|  0|    0|    0|    0|    0|    0|    0|    0|    0|   0|    0|    0|    0|    0|    0|    0|    0|    0|    0|    0|    0|    0|    0|    0|    0|    0|    0|    0|    0|    0|    0|    0|   0|    0|    0|    0|    0|    0|   0|    0|    0|   0|    0|    0|    0|   0|    0|    0|   0|    0|    0|    0|    0|    0|    0|    0|    0|    0|    0|    0|    0|    0|    0|    0|    0|   0|    0|    0|    0|    0|    0|    0|    0|    0|    0|    0|    0|    0|    0|    0|    0|   0|    0|    0|    0|    0|    0|    0|    0|    0|    0|    0|    0|   0|    0|    0|    0|    0|    0|    0|    0|    0|    0|    0|    0|    0|    0|    0|    0|    0|    0|    0|   0|   0|    0|    0|    0|    0|    0|    0|    0|    0|    0|    0|    0|   0|    0|    0|    0|    0|    0|    0|    0|    0|    0|   0|    0|    0|    0|    0|    0|    0|    0|    0|    0|    1|    0|    0|    0|    0|    0|    0|    0|    0|    0|    0|    0|    0|    0|    0|    0|    0|    0|    0|    0|    0|    0|    0|    0|    0|    0|    0|   0|    0|    0|    0|    0|    0|    0|    0|    0|    0|    0|    0|    0|    0|    0|   0|\n",
            "|                   20.26|    0|    0|    0|    0|    0|    0|    0|    0|    0|    0|    0|    0|    0|    0|    0|    0|   0|    0|    0|    0|    0|    0|    0|    0|    0|    0|    0|    0|    0|    0|    0|    0|    0|    0|   0|    0|    0|    0|    0|   0|    0|    0|    0|    0|    0|    0|    0|   0|    0|    0|    0|    0|    0|    0|    0|    0|    0|    0|    0|    0|    0|    0|    0|    0|    0|    0|    0|    0|    0|    0|    0|    0|    0|  0|    0|    0|    0|    0|    0|    0|    0|    0|   0|    0|    0|    0|    0|    0|    0|    0|    0|    0|    0|    0|    0|    0|    0|    0|    0|    0|    0|    0|    0|    0|    0|   0|    0|    0|    0|    0|    0|   0|    0|    0|   0|    0|    0|    0|   0|    0|    0|   0|    0|    0|    0|    0|    0|    0|    0|    0|    0|    0|    0|    0|    0|    0|    0|    0|   0|    0|    0|    0|    0|    0|    0|    0|    0|    0|    0|    0|    0|    0|    0|    0|   0|    0|    0|    0|    0|    0|    0|    0|    0|    0|    0|    0|   0|    0|    0|    0|    0|    0|    0|    0|    0|    0|    0|    0|    0|    0|    0|    0|    0|    0|    0|   0|   0|    0|    0|    0|    0|    0|    0|    0|    0|    0|    0|    0|   0|    0|    0|    0|    0|    0|    0|    0|    1|    0|   0|    0|    0|    0|    0|    0|    0|    0|    0|    0|    0|    0|    0|    0|    0|    0|    0|    0|    0|    0|    0|    0|    0|    0|    0|    0|    0|    0|    0|    0|    0|    0|    0|    0|    0|    0|    0|   0|    0|    0|    0|    0|    0|    0|    0|    0|    0|    0|    0|    0|    0|    0|   0|\n",
            "|                   11.69|    0|    0|    0|    0|    0|    0|    0|    0|    0|    0|    0|    0|    0|    0|    0|    0|   0|    0|    0|    0|    0|    0|    0|    0|    0|    0|    0|    0|    0|    0|    0|    0|    0|    0|   0|    0|    0|    0|    0|   0|    0|    0|    0|    0|    0|    0|    0|   0|    0|    0|    0|    0|    0|    0|    0|    0|    0|    0|    0|    0|    0|    0|    0|    0|    0|    0|    0|    0|    0|    0|    0|    0|    0|  0|    0|    0|    0|    0|    0|    0|    0|    0|   0|    0|    0|    0|    0|    0|    0|    0|    0|    0|    0|    0|    0|    0|    0|    0|    0|    0|    0|    0|    0|    0|    0|   0|    0|    0|    0|    0|    0|   0|    0|    0|   0|    0|    0|    0|   0|    0|    0|   0|    0|    0|    0|    0|    0|    0|    0|    0|    0|    0|    0|    0|    0|    0|    0|    0|   0|    0|    0|    0|    0|    0|    0|    0|    0|    0|    0|    0|    0|    0|    0|    0|   0|    0|    0|    0|    0|    0|    0|    0|    0|    0|    0|    0|   0|    0|    0|    0|    0|    0|    0|    0|    0|    0|    0|    0|    0|    0|    0|    0|    0|    0|    0|   0|   0|    0|    0|    0|    0|    0|    0|    0|    0|    0|    0|    0|   0|    0|    0|    0|    0|    0|    0|    0|    0|    0|   0|    0|    0|    0|    0|    0|    0|    0|    0|    0|    0|    0|    1|    0|    0|    0|    0|    0|    0|    0|    0|    0|    0|    0|    0|    0|    0|    0|    0|    0|    0|    0|    0|    0|    0|    0|    0|   0|    0|    0|    0|    0|    0|    0|    0|    0|    0|    0|    0|    0|    0|    0|   0|\n",
            "|                   12.58|    0|    0|    0|    0|    0|    0|    0|    0|    0|    0|    0|    0|    0|    0|    0|    0|   0|    0|    0|    0|    0|    0|    0|    0|    0|    0|    0|    0|    0|    0|    0|    0|    0|    0|   0|    0|    0|    0|    0|   0|    0|    0|    0|    0|    0|    0|    0|   0|    0|    0|    0|    0|    0|    0|    0|    0|    0|    0|    0|    0|    0|    0|    0|    0|    0|    0|    0|    0|    0|    0|    0|    0|    0|  0|    0|    0|    0|    0|    0|    0|    0|    0|   0|    0|    0|    0|    0|    0|    0|    0|    0|    0|    0|    0|    0|    0|    0|    0|    0|    0|    0|    0|    0|    0|    0|   0|    0|    0|    0|    0|    0|   0|    0|    0|   1|    0|    0|    0|   0|    0|    0|   0|    0|    0|    0|    0|    0|    0|    0|    0|    0|    0|    0|    0|    0|    0|    0|    0|   0|    0|    0|    0|    0|    0|    0|    0|    0|    0|    0|    0|    0|    0|    0|    0|   0|    0|    0|    0|    0|    0|    0|    0|    0|    0|    0|    0|   0|    0|    0|    0|    0|    0|    0|    0|    0|    0|    0|    0|    0|    0|    0|    0|    0|    0|    0|   0|   0|    0|    0|    0|    0|    0|    0|    0|    0|    0|    0|    0|   0|    0|    0|    0|    0|    0|    0|    0|    0|    0|   0|    0|    0|    0|    0|    0|    0|    0|    0|    0|    0|    0|    0|    0|    0|    0|    0|    0|    0|    0|    0|    0|    0|    0|    0|    0|    0|    0|    0|    0|    0|    0|    0|    0|    0|    0|    0|   0|    0|    0|    0|    0|    0|    0|    0|    0|    0|    0|    0|    0|    0|    0|   0|\n",
            "|                   14.27|    0|    0|    0|    0|    0|    0|    0|    0|    0|    0|    0|    0|    0|    0|    0|    0|   0|    0|    0|    0|    0|    0|    0|    0|    0|    0|    0|    0|    0|    0|    0|    0|    0|    0|   0|    0|    0|    0|    0|   0|    0|    0|    0|    0|    0|    0|    0|   0|    0|    0|    0|    0|    0|    0|    0|    0|    0|    0|    0|    0|    0|    0|    0|    0|    0|    0|    0|    0|    0|    0|    0|    0|    0|  0|    0|    0|    0|    0|    0|    0|    0|    0|   0|    0|    0|    0|    0|    0|    0|    0|    0|    0|    0|    0|    0|    0|    0|    0|    0|    0|    0|    0|    0|    0|    0|   0|    0|    0|    0|    0|    0|   0|    0|    0|   0|    0|    0|    0|   0|    0|    0|   0|    0|    0|    0|    0|    0|    0|    0|    0|    0|    0|    0|    0|    0|    0|    0|    0|   0|    0|    0|    0|    0|    0|    0|    0|    0|    0|    0|    0|    0|    0|    0|    0|   0|    0|    0|    0|    0|    0|    0|    0|    0|    0|    0|    0|   0|    0|    0|    0|    0|    0|    0|    0|    0|    0|    0|    0|    0|    0|    0|    0|    0|    0|    0|   0|   0|    0|    0|    0|    0|    0|    0|    0|    0|    0|    0|    0|   0|    0|    0|    0|    0|    1|    0|    0|    0|    0|   0|    0|    0|    0|    0|    0|    0|    0|    0|    0|    0|    0|    0|    0|    0|    0|    0|    0|    0|    0|    0|    0|    0|    0|    0|    0|    0|    0|    0|    0|    0|    0|    0|    0|    0|    0|    0|   0|    0|    0|    0|    0|    0|    0|    0|    0|    0|    0|    0|    0|    0|    0|   0|\n",
            "|                   20.58|    0|    0|    0|    0|    0|    0|    0|    0|    0|    0|    0|    0|    0|    0|    0|    0|   0|    0|    0|    0|    0|    0|    0|    0|    0|    0|    0|    0|    0|    0|    0|    0|    0|    0|   0|    0|    0|    0|    0|   0|    0|    0|    0|    0|    0|    0|    0|   0|    0|    0|    0|    0|    0|    0|    0|    0|    0|    0|    0|    0|    0|    0|    0|    0|    0|    0|    0|    0|    0|    0|    0|    0|    0|  0|    0|    0|    0|    0|    0|    0|    0|    0|   0|    0|    0|    0|    0|    0|    0|    0|    0|    0|    0|    0|    0|    0|    0|    0|    0|    0|    0|    0|    0|    0|    0|   0|    0|    0|    0|    0|    0|   0|    0|    0|   0|    0|    0|    0|   0|    0|    0|   0|    0|    0|    0|    0|    0|    0|    0|    0|    0|    0|    0|    0|    0|    0|    0|    0|   0|    0|    0|    0|    0|    0|    0|    0|    0|    0|    0|    0|    0|    0|    0|    0|   0|    0|    0|    0|    0|    0|    0|    0|    0|    0|    0|    0|   0|    0|    0|    0|    0|    0|    0|    0|    0|    0|    0|    0|    0|    0|    0|    0|    0|    0|    0|   0|   0|    0|    0|    0|    0|    0|    0|    0|    1|    0|    0|    0|   0|    0|    0|    0|    0|    0|    0|    0|    0|    0|   0|    0|    0|    0|    0|    0|    0|    0|    0|    0|    0|    0|    0|    0|    0|    0|    0|    0|    0|    0|    0|    0|    0|    0|    0|    0|    0|    0|    0|    0|    0|    0|    0|    0|    0|    0|    0|   0|    0|    0|    0|    0|    0|    0|    0|    0|    0|    0|    0|    0|    0|    0|   0|\n",
            "|                   20.47|    0|    0|    0|    0|    0|    0|    0|    0|    0|    0|    0|    0|    0|    0|    0|    0|   0|    0|    0|    0|    0|    0|    0|    0|    0|    0|    0|    0|    0|    0|    0|    0|    0|    0|   0|    0|    0|    0|    0|   0|    0|    0|    0|    0|    0|    0|    0|   0|    0|    0|    0|    0|    0|    0|    0|    0|    0|    0|    0|    0|    0|    0|    0|    0|    0|    0|    0|    0|    0|    0|    0|    0|    0|  0|    0|    0|    0|    0|    0|    0|    0|    0|   0|    0|    0|    0|    0|    0|    0|    0|    0|    0|    0|    0|    0|    0|    0|    0|    0|    0|    0|    0|    0|    0|    0|   0|    0|    0|    0|    0|    0|   0|    0|    0|   0|    0|    0|    0|   0|    0|    0|   0|    0|    0|    0|    0|    0|    0|    0|    0|    0|    0|    0|    0|    0|    0|    0|    0|   0|    0|    0|    0|    0|    0|    0|    0|    0|    0|    0|    0|    0|    0|    0|    0|   0|    0|    0|    0|    0|    0|    0|    0|    0|    0|    1|    0|   0|    0|    0|    0|    0|    0|    0|    0|    0|    0|    0|    0|    0|    0|    0|    0|    0|    0|    0|   0|   0|    0|    0|    0|    0|    0|    0|    0|    0|    0|    0|    0|   0|    0|    0|    0|    0|    0|    0|    0|    0|    0|   0|    0|    0|    0|    0|    0|    0|    0|    0|    0|    0|    0|    0|    0|    0|    0|    0|    0|    0|    0|    0|    0|    0|    0|    0|    0|    0|    0|    0|    0|    0|    0|    0|    0|    0|    0|    0|   0|    0|    0|    0|    0|    0|    0|    0|    0|    0|    0|    0|    0|    0|    0|   0|\n",
            "+------------------------+-----+-----+-----+-----+-----+-----+-----+-----+-----+-----+-----+-----+-----+-----+-----+-----+----+-----+-----+-----+-----+-----+-----+-----+-----+-----+-----+-----+-----+-----+-----+-----+-----+-----+----+-----+-----+-----+-----+----+-----+-----+-----+-----+-----+-----+-----+----+-----+-----+-----+-----+-----+-----+-----+-----+-----+-----+-----+-----+-----+-----+-----+-----+-----+-----+-----+-----+-----+-----+-----+-----+-----+---+-----+-----+-----+-----+-----+-----+-----+-----+----+-----+-----+-----+-----+-----+-----+-----+-----+-----+-----+-----+-----+-----+-----+-----+-----+-----+-----+-----+-----+-----+-----+----+-----+-----+-----+-----+-----+----+-----+-----+----+-----+-----+-----+----+-----+-----+----+-----+-----+-----+-----+-----+-----+-----+-----+-----+-----+-----+-----+-----+-----+-----+-----+----+-----+-----+-----+-----+-----+-----+-----+-----+-----+-----+-----+-----+-----+-----+-----+----+-----+-----+-----+-----+-----+-----+-----+-----+-----+-----+-----+----+-----+-----+-----+-----+-----+-----+-----+-----+-----+-----+-----+-----+-----+-----+-----+-----+-----+-----+----+----+-----+-----+-----+-----+-----+-----+-----+-----+-----+-----+-----+----+-----+-----+-----+-----+-----+-----+-----+-----+-----+----+-----+-----+-----+-----+-----+-----+-----+-----+-----+-----+-----+-----+-----+-----+-----+-----+-----+-----+-----+-----+-----+-----+-----+-----+-----+-----+-----+-----+-----+-----+-----+-----+-----+-----+-----+-----+----+-----+-----+-----+-----+-----+-----+-----+-----+-----+-----+-----+-----+-----+-----+----+\n",
            "only showing top 20 rows\n",
            "\n"
          ],
          "name": "stdout"
        }
      ]
    },
    {
      "cell_type": "code",
      "metadata": {
        "id": "zBLPmQPA080D",
        "colab": {
          "base_uri": "https://localhost:8080/"
        },
        "outputId": "71c4cfb1-7dd4-4228-aadd-eb3af7fd5cf7"
      },
      "source": [
        "cols = [\"radius_mean\", \"texture_mean\"]\n",
        "df1.select(*cols).show()"
      ],
      "execution_count": 38,
      "outputs": [
        {
          "output_type": "stream",
          "text": [
            "+-----------+------------+\n",
            "|radius_mean|texture_mean|\n",
            "+-----------+------------+\n",
            "|      17.99|       10.38|\n",
            "|      20.57|       17.77|\n",
            "|      11.42|       20.38|\n",
            "|      18.25|       19.98|\n",
            "|      13.71|       20.83|\n",
            "|         13|       21.82|\n",
            "|      12.46|       24.04|\n",
            "|      16.02|       23.24|\n",
            "|      15.78|       17.89|\n",
            "|      16.13|       20.68|\n",
            "|      19.81|       22.15|\n",
            "|      13.54|       14.36|\n",
            "|      13.08|       15.71|\n",
            "|      9.504|       12.44|\n",
            "|      18.61|       20.25|\n",
            "|      17.57|       15.05|\n",
            "|      19.27|       26.47|\n",
            "|      14.25|       21.72|\n",
            "|      13.03|       18.42|\n",
            "|      13.48|       20.82|\n",
            "+-----------+------------+\n",
            "only showing top 20 rows\n",
            "\n"
          ],
          "name": "stdout"
        }
      ]
    },
    {
      "cell_type": "code",
      "metadata": {
        "id": "QElZtbdH1Z-l",
        "colab": {
          "base_uri": "https://localhost:8080/"
        },
        "outputId": "867fe9d2-737f-469f-e3ef-821194cd75c4"
      },
      "source": [
        "df1.selectExpr(\"radius_mean * 2\" , \"texture_mean/3\").show()"
      ],
      "execution_count": 64,
      "outputs": [
        {
          "output_type": "stream",
          "text": [
            "+-----------------+------------------+\n",
            "|(radius_mean * 2)|(texture_mean / 3)|\n",
            "+-----------------+------------------+\n",
            "|            35.98|3.4600000000000004|\n",
            "|            41.14| 5.923333333333333|\n",
            "|            22.84| 6.793333333333333|\n",
            "|             36.5|              6.66|\n",
            "|            27.42|6.9433333333333325|\n",
            "|             26.0| 7.273333333333333|\n",
            "|            24.92| 8.013333333333334|\n",
            "|            32.04| 7.746666666666666|\n",
            "|            31.56| 5.963333333333334|\n",
            "|            32.26|6.8933333333333335|\n",
            "|            39.62| 7.383333333333333|\n",
            "|            27.08| 4.786666666666666|\n",
            "|            26.16| 5.236666666666667|\n",
            "|           19.008|4.1466666666666665|\n",
            "|            37.22|              6.75|\n",
            "|            35.14| 5.016666666666667|\n",
            "|            38.54| 8.823333333333332|\n",
            "|             28.5| 7.239999999999999|\n",
            "|            26.06| 6.140000000000001|\n",
            "|            26.96|              6.94|\n",
            "+-----------------+------------------+\n",
            "only showing top 20 rows\n",
            "\n"
          ],
          "name": "stdout"
        }
      ]
    },
    {
      "cell_type": "code",
      "metadata": {
        "id": "xpfAnSeGDkYr",
        "outputId": "3a4e6cf0-88e6-4fd0-ba46-c792067e3197",
        "colab": {
          "base_uri": "https://localhost:8080/"
        }
      },
      "source": [
        "df1.selectExpr(\"radius_mean * texture_mean\").alias(\"abcd\").show()"
      ],
      "execution_count": 68,
      "outputs": [
        {
          "output_type": "stream",
          "text": [
            "+----------------------------+\n",
            "|(radius_mean * texture_mean)|\n",
            "+----------------------------+\n",
            "|                    186.7362|\n",
            "|                    365.5289|\n",
            "|                    232.7396|\n",
            "|                     364.635|\n",
            "|                    285.5793|\n",
            "|                      283.66|\n",
            "|                    299.5384|\n",
            "|          372.30479999999994|\n",
            "|                    282.3042|\n",
            "|                    333.5684|\n",
            "|           438.7914999999999|\n",
            "|          194.43439999999998|\n",
            "|          205.48680000000002|\n",
            "|          118.22975999999998|\n",
            "|          376.85249999999996|\n",
            "|          264.42850000000004|\n",
            "|          510.07689999999997|\n",
            "|                      309.51|\n",
            "|          240.01260000000002|\n",
            "|          280.65360000000004|\n",
            "+----------------------------+\n",
            "only showing top 20 rows\n",
            "\n"
          ],
          "name": "stdout"
        }
      ]
    },
    {
      "cell_type": "code",
      "metadata": {
        "id": "zBXkOyN8IWLb",
        "outputId": "05836946-585f-42a2-b8fd-9dbef375e6d8",
        "colab": {
          "base_uri": "https://localhost:8080/"
        }
      },
      "source": [
        "cols = [\"radius_mean\", \"texture_mean\"]\n",
        "df1.sort(*cols).show()"
      ],
      "execution_count": 71,
      "outputs": [
        {
          "output_type": "stream",
          "text": [
            "+---------+-----------+------------+--------------+---------+---------------+----------------+--------------+-------------------+-------------+----------------------+---------+----------+------------+-------+-------------+--------------+------------+-----------------+-----------+--------------------+------------+-------------+---------------+----------+----------------+-----------------+---------------+--------------------+--------------+-----------------------+\n",
            "|diagnosis|radius_mean|texture_mean|perimeter_mean|area_mean|smoothness_mean|compactness_mean|concavity_mean|concave_points_mean|symmetry_mean|fractal_dimension_mean|radius_se|texture_se|perimeter_se|area_se|smoothness_se|compactness_se|concavity_se|concave_points_se|symmetry_se|fractal_dimension_se|radius_worst|texture_worst|perimeter_worst|area_worst|smoothness_worst|compactness_worst|concavity_worst|concave_points_worst|symmetry_worst|fractal_dimension_worst|\n",
            "+---------+-----------+------------+--------------+---------+---------------+----------------+--------------+-------------------+-------------+----------------------+---------+----------+------------+-------+-------------+--------------+------------+-----------------+-----------+--------------------+------------+-------------+---------------+----------+----------------+-----------------+---------------+--------------------+--------------+-----------------------+\n",
            "|        0|      10.03|       21.28|         63.19|    307.3|        0.08117|         0.03912|       0.00247|           0.005159|        0.163|               0.06439|   0.1851|     1.341|       1.184|   11.6|     0.005724|      0.005697|    0.002074|         0.003527|    0.01445|            0.002411|       11.11|        28.94|          69.92|     376.3|          0.1126|          0.07094|        0.01235|             0.02579|        0.2349|                0.08061|\n",
            "|        0|      10.05|       17.53|         64.41|    310.8|         0.1007|         0.07326|       0.02511|            0.01775|        0.189|               0.06331|   0.2619|     2.015|       1.778|  16.85|     0.007803|       0.01449|      0.0169|         0.008043|      0.021|            0.002778|       11.16|        26.84|          71.98|       384|          0.1402|           0.1402|         0.1055|             0.06499|        0.2894|                0.07664|\n",
            "|        0|      10.08|       15.11|         63.76|    317.5|        0.09267|         0.04695|      0.001597|           0.002404|       0.1703|               0.06048|   0.4245|     1.268|        2.68|  26.43|      0.01439|         0.012|    0.001597|         0.002404|    0.02538|             0.00347|       11.87|        21.18|          75.39|       437|          0.1521|           0.1019|        0.00692|             0.01042|        0.2933|                0.07697|\n",
            "|        0|       10.2|       17.48|         65.05|    321.2|        0.08054|         0.05907|       0.05774|            0.01071|       0.1964|               0.06315|   0.3567|     1.922|       2.747|  22.79|      0.00468|        0.0312|     0.05774|          0.01071|     0.0256|            0.004613|       11.48|        24.47|           75.4|     403.7|         0.09527|           0.1397|         0.1925|             0.03571|        0.2868|                0.07809|\n",
            "|        0|      10.26|       12.22|         65.75|    321.6|        0.09996|         0.07542|       0.01923|            0.01968|         0.18|               0.06569|   0.1911|    0.5477|       1.348|  11.88|     0.005682|       0.01365|    0.008496|         0.006929|    0.01938|            0.002371|       11.38|        15.65|          73.23|     394.5|          0.1343|            0.165|        0.08615|             0.06696|        0.2937|                0.07722|\n",
            "|        0|      10.26|       16.58|         65.85|    320.8|        0.08877|         0.08066|       0.04358|            0.02438|       0.1669|               0.06714|   0.1144|     1.023|      0.9887|  7.326|      0.01027|       0.03084|     0.02613|          0.01097|    0.02277|             0.00589|       10.83|        22.04|          71.08|     357.4|          0.1461|           0.2246|         0.1783|             0.08333|        0.2691|                0.09479|\n",
            "|        0|      10.29|       27.61|         65.67|    321.4|         0.0903|         0.07658|       0.05999|            0.02738|       0.1593|               0.06127|   0.2199|     2.239|       1.437|  14.46|      0.01205|       0.02736|     0.04804|          0.01721|    0.01843|            0.004938|       10.84|        34.91|          69.57|     357.6|          0.1384|            0.171|            0.2|             0.09127|        0.2226|                0.08283|\n",
            "|        0|      10.32|       16.35|         65.31|    324.9|        0.09434|         0.04994|       0.01012|           0.005495|       0.1885|               0.06201|   0.2104|     0.967|       1.356|  12.97|     0.007086|      0.007247|     0.01012|         0.005495|     0.0156|            0.002606|       11.25|        21.77|          71.12|     384.9|          0.1285|          0.08842|        0.04384|             0.02381|        0.2681|                0.07399|\n",
            "|        0|      10.48|       19.86|         66.72|    337.7|          0.107|         0.05971|       0.04831|             0.0307|       0.1737|                0.0644|   0.3719|     2.612|       2.517|  23.22|      0.01604|       0.01386|     0.01865|          0.01133|    0.03476|             0.00356|       11.48|        29.46|          73.68|     402.8|          0.1515|           0.1026|         0.1181|             0.06736|        0.2883|                0.07748|\n",
            "|        0|      10.49|       18.61|         66.86|    334.3|         0.1068|         0.06678|       0.02297|             0.0178|       0.1482|                 0.066|   0.1485|     1.563|       1.035|  10.08|     0.008875|      0.009362|     0.01808|         0.009199|    0.01791|            0.003317|       11.06|        24.54|          70.76|     375.4|          0.1413|           0.1044|        0.08423|             0.06528|        0.2213|                0.07842|\n",
            "|        0|      10.49|       19.29|         67.41|    336.1|        0.09989|         0.08578|       0.02995|            0.01201|       0.2217|               0.06481|    0.355|     1.534|       2.302|  23.13|     0.007595|       0.02219|      0.0288|         0.008614|     0.0271|            0.003451|       11.54|        23.31|          74.22|     402.8|          0.1219|           0.1486|        0.07987|             0.03203|        0.2826|                0.07552|\n",
            "|        0|      10.51|       23.09|         66.85|    334.2|         0.1015|         0.06797|       0.02495|            0.01875|       0.1695|               0.06556|   0.2868|     1.143|       2.289|  20.56|      0.01017|       0.01443|     0.01861|           0.0125|    0.03464|            0.001971|       10.93|        24.22|           70.1|     362.7|          0.1143|          0.08614|        0.04158|             0.03125|        0.2227|                0.06777|\n",
            "|        0|      10.65|       25.22|         68.01|      347|        0.09657|         0.07234|       0.02379|            0.01615|       0.1897|               0.06329|   0.2497|     1.493|       1.497|  16.64|     0.007189|       0.01035|     0.01081|         0.006245|    0.02158|            0.002619|       12.25|        35.19|          77.98|     455.7|          0.1499|           0.1398|         0.1125|             0.06136|        0.3409|                0.08147|\n",
            "|        0|      10.75|       14.97|         68.26|    355.3|        0.07793|         0.05139|       0.02251|           0.007875|       0.1399|               0.05688|   0.2525|     1.239|       1.806|  17.74|     0.006547|       0.01781|     0.02018|         0.005612|    0.01671|             0.00236|       11.95|        20.72|          77.79|     441.2|          0.1076|           0.1223|        0.09755|             0.03413|          0.23|                0.06769|\n",
            "|        0|       10.8|        9.71|         68.77|    357.6|        0.09594|         0.05736|       0.02531|            0.01698|       0.1381|                 0.064|   0.1728|    0.4064|       1.126|  11.48|     0.007809|      0.009816|     0.01099|         0.005344|    0.01254|             0.00212|        11.6|        12.02|          73.66|       414|          0.1436|           0.1257|         0.1047|             0.04603|         0.209|                0.07699|\n",
            "|        0|       10.9|       12.96|         68.69|    366.8|        0.07515|         0.03718|       0.00309|           0.006588|       0.1442|               0.05743|   0.2818|    0.7614|       1.808|  18.54|     0.006142|      0.006134|    0.001835|         0.003576|    0.01637|            0.002665|       12.36|         18.2|          78.07|       470|          0.1171|          0.08294|        0.01854|             0.03953|        0.2738|                0.07685|\n",
            "|        0|      10.94|       18.59|         70.39|      370|         0.1004|          0.0746|       0.04944|            0.02932|       0.1486|               0.06615|   0.3796|     1.743|       3.018|  25.78|     0.009519|       0.02134|      0.0199|          0.01155|    0.02079|            0.002701|        12.4|        25.58|          82.76|     472.4|          0.1363|           0.1644|         0.1412|             0.07887|        0.2251|                0.07732|\n",
            "|        0|      10.96|       17.62|         70.79|    365.6|        0.09687|         0.09752|       0.05263|            0.02788|       0.1619|               0.06408|   0.1507|     1.583|       1.165|  10.09|     0.009501|       0.03378|     0.04401|          0.01346|    0.01322|            0.003534|       11.62|        26.51|          76.43|     407.5|          0.1428|            0.251|         0.2123|             0.09861|        0.2289|                0.08278|\n",
            "|        0|      11.06|       14.96|         71.49|    373.9|         0.1033|         0.09097|       0.05397|            0.03341|       0.1776|               0.06907|   0.1601|    0.8225|       1.355|   10.8|     0.007416|       0.01877|     0.02758|           0.0101|    0.02348|            0.002917|       11.92|         19.9|          79.76|       440|          0.1418|            0.221|         0.2299|              0.1075|        0.3301|                 0.0908|\n",
            "|        0|      11.06|       17.12|         71.25|    366.5|         0.1194|          0.1071|       0.04063|            0.04268|       0.1954|               0.07976|   0.1779|      1.03|       1.318|   12.3|      0.01262|       0.02348|       0.018|          0.01285|     0.0222|            0.008313|       11.69|        20.74|          76.08|     411.1|          0.1662|           0.2031|         0.1256|             0.09514|         0.278|                 0.1168|\n",
            "+---------+-----------+------------+--------------+---------+---------------+----------------+--------------+-------------------+-------------+----------------------+---------+----------+------------+-------+-------------+--------------+------------+-----------------+-----------+--------------------+------------+-------------+---------------+----------+----------------+-----------------+---------------+--------------------+--------------+-----------------------+\n",
            "only showing top 20 rows\n",
            "\n"
          ],
          "name": "stdout"
        }
      ]
    },
    {
      "cell_type": "code",
      "metadata": {
        "id": "MAAelBKTI_on",
        "outputId": "7d09ee6b-071e-437c-f700-cd013936de37",
        "colab": {
          "base_uri": "https://localhost:8080/"
        }
      },
      "source": [
        "df1.take(5)"
      ],
      "execution_count": 72,
      "outputs": [
        {
          "output_type": "execute_result",
          "data": {
            "text/plain": [
              "[Row(diagnosis='1', radius_mean='17.99', texture_mean='10.38', perimeter_mean='122.8', area_mean='1001', smoothness_mean='0.1184', compactness_mean='0.2776', concavity_mean='0.3001', concave_points_mean='0.1471', symmetry_mean='0.2419', fractal_dimension_mean='0.07871', radius_se='1.095', texture_se='0.9053', perimeter_se='8.589', area_se='153.4', smoothness_se='0.006399', compactness_se='0.04904', concavity_se='0.05373', concave_points_se='0.01587', symmetry_se='0.03003', fractal_dimension_se='0.006193', radius_worst='25.38', texture_worst='17.33', perimeter_worst='184.6', area_worst='2019', smoothness_worst='0.1622', compactness_worst='0.6656', concavity_worst='0.7119', concave_points_worst='0.2654', symmetry_worst='0.4601', fractal_dimension_worst='0.1189'),\n",
              " Row(diagnosis='1', radius_mean='20.57', texture_mean='17.77', perimeter_mean='132.9', area_mean='1326', smoothness_mean='0.08474', compactness_mean='0.07864', concavity_mean='0.0869', concave_points_mean='0.07017', symmetry_mean='0.1812', fractal_dimension_mean='0.05667', radius_se='0.5435', texture_se='0.7339', perimeter_se='3.398', area_se='74.08', smoothness_se='0.005225', compactness_se='0.01308', concavity_se='0.0186', concave_points_se='0.0134', symmetry_se='0.01389', fractal_dimension_se='0.003532', radius_worst='24.99', texture_worst='23.41', perimeter_worst='158.8', area_worst='1956', smoothness_worst='0.1238', compactness_worst='0.1866', concavity_worst='0.2416', concave_points_worst='0.186', symmetry_worst='0.275', fractal_dimension_worst='0.08902'),\n",
              " Row(diagnosis='1', radius_mean='11.42', texture_mean='20.38', perimeter_mean='77.58', area_mean='386.1', smoothness_mean='0.1425', compactness_mean='0.2839', concavity_mean='0.2414', concave_points_mean='0.1052', symmetry_mean='0.2597', fractal_dimension_mean='0.09744', radius_se='0.4956', texture_se='1.156', perimeter_se='3.445', area_se='27.23', smoothness_se='0.00911', compactness_se='0.07458', concavity_se='0.05661', concave_points_se='0.01867', symmetry_se='0.05963', fractal_dimension_se='0.009208', radius_worst='14.91', texture_worst='26.5', perimeter_worst='98.87', area_worst='567.7', smoothness_worst='0.2098', compactness_worst='0.8663', concavity_worst='0.6869', concave_points_worst='0.2575', symmetry_worst='0.6638', fractal_dimension_worst='0.173'),\n",
              " Row(diagnosis='1', radius_mean='18.25', texture_mean='19.98', perimeter_mean='119.6', area_mean='1040', smoothness_mean='0.09463', compactness_mean='0.109', concavity_mean='0.1127', concave_points_mean='0.074', symmetry_mean='0.1794', fractal_dimension_mean='0.05742', radius_se='0.4467', texture_se='0.7732', perimeter_se='3.18', area_se='53.91', smoothness_se='0.004314', compactness_se='0.01382', concavity_se='0.02254', concave_points_se='0.01039', symmetry_se='0.01369', fractal_dimension_se='0.002179', radius_worst='22.88', texture_worst='27.66', perimeter_worst='153.2', area_worst='1606', smoothness_worst='0.1442', compactness_worst='0.2576', concavity_worst='0.3784', concave_points_worst='0.1932', symmetry_worst='0.3063', fractal_dimension_worst='0.08368'),\n",
              " Row(diagnosis='1', radius_mean='13.71', texture_mean='20.83', perimeter_mean='90.2', area_mean='577.9', smoothness_mean='0.1189', compactness_mean='0.1645', concavity_mean='0.09366', concave_points_mean='0.05985', symmetry_mean='0.2196', fractal_dimension_mean='0.07451', radius_se='0.5835', texture_se='1.377', perimeter_se='3.856', area_se='50.96', smoothness_se='0.008805', compactness_se='0.03029', concavity_se='0.02488', concave_points_se='0.01448', symmetry_se='0.01486', fractal_dimension_se='0.005412', radius_worst='17.06', texture_worst='28.14', perimeter_worst='110.6', area_worst='897', smoothness_worst='0.1654', compactness_worst='0.3682', concavity_worst='0.2678', concave_points_worst='0.1556', symmetry_worst='0.3196', fractal_dimension_worst='0.1151')]"
            ]
          },
          "metadata": {
            "tags": []
          },
          "execution_count": 72
        }
      ]
    },
    {
      "cell_type": "code",
      "metadata": {
        "id": "YZfIzJuiMMRs",
        "outputId": "eb44dfa3-be87-4e19-e61a-e2ad31eae434",
        "colab": {
          "base_uri": "https://localhost:8080/"
        }
      },
      "source": [
        "df1.tail(5)"
      ],
      "execution_count": 73,
      "outputs": [
        {
          "output_type": "execute_result",
          "data": {
            "text/plain": [
              "[Row(diagnosis='0', radius_mean='11.2', texture_mean='29.37', perimeter_mean='70.67', area_mean='386', smoothness_mean='0.07449', compactness_mean='0.03558', concavity_mean='0', concave_points_mean='0', symmetry_mean='0.106', fractal_dimension_mean='0.05502', radius_se='0.3141', texture_se='3.896', perimeter_se='2.041', area_se='22.81', smoothness_se='0.007594', compactness_se='0.008878', concavity_se='0', concave_points_se='0', symmetry_se='0.01989', fractal_dimension_se='0.001773', radius_worst='11.92', texture_worst='38.3', perimeter_worst='75.19', area_worst='439.6', smoothness_worst='0.09267', compactness_worst='0.05494', concavity_worst='0', concave_points_worst='0', symmetry_worst='0.1566', fractal_dimension_worst='0.05905'),\n",
              " Row(diagnosis='1', radius_mean='21.56', texture_mean='22.39', perimeter_mean='142', area_mean='1479', smoothness_mean='0.111', compactness_mean='0.1159', concavity_mean='0.2439', concave_points_mean='0.1389', symmetry_mean='0.1726', fractal_dimension_mean='0.05623', radius_se='1.176', texture_se='1.256', perimeter_se='7.673', area_se='158.7', smoothness_se='0.0103', compactness_se='0.02891', concavity_se='0.05198', concave_points_se='0.02454', symmetry_se='0.01114', fractal_dimension_se='0.004239', radius_worst='25.45', texture_worst='26.4', perimeter_worst='166.1', area_worst='2027', smoothness_worst='0.141', compactness_worst='0.2113', concavity_worst='0.4107', concave_points_worst='0.2216', symmetry_worst='0.206', fractal_dimension_worst='0.07115'),\n",
              " Row(diagnosis='1', radius_mean='20.13', texture_mean='28.25', perimeter_mean='131.2', area_mean='1261', smoothness_mean='0.0978', compactness_mean='0.1034', concavity_mean='0.144', concave_points_mean='0.09791', symmetry_mean='0.1752', fractal_dimension_mean='0.05533', radius_se='0.7655', texture_se='2.463', perimeter_se='5.203', area_se='99.04', smoothness_se='0.005769', compactness_se='0.02423', concavity_se='0.0395', concave_points_se='0.01678', symmetry_se='0.01898', fractal_dimension_se='0.002498', radius_worst='23.69', texture_worst='38.25', perimeter_worst='155', area_worst='1731', smoothness_worst='0.1166', compactness_worst='0.1922', concavity_worst='0.3215', concave_points_worst='0.1628', symmetry_worst='0.2572', fractal_dimension_worst='0.06637'),\n",
              " Row(diagnosis='1', radius_mean='20.6', texture_mean='29.33', perimeter_mean='140.1', area_mean='1265', smoothness_mean='0.1178', compactness_mean='0.277', concavity_mean='0.3514', concave_points_mean='0.152', symmetry_mean='0.2397', fractal_dimension_mean='0.07016', radius_se='0.726', texture_se='1.595', perimeter_se='5.772', area_se='86.22', smoothness_se='0.006522', compactness_se='0.06158', concavity_se='0.07117', concave_points_se='0.01664', symmetry_se='0.02324', fractal_dimension_se='0.006185', radius_worst='25.74', texture_worst='39.42', perimeter_worst='184.6', area_worst='1821', smoothness_worst='0.165', compactness_worst='0.8681', concavity_worst='0.9387', concave_points_worst='0.265', symmetry_worst='0.4087', fractal_dimension_worst='0.124'),\n",
              " Row(diagnosis='0', radius_mean='7.76', texture_mean='24.54', perimeter_mean='47.92', area_mean='181', smoothness_mean='0.05263', compactness_mean='0.04362', concavity_mean='0', concave_points_mean='0', symmetry_mean='0.1587', fractal_dimension_mean='0.05884', radius_se='0.3857', texture_se='1.428', perimeter_se='2.548', area_se='19.15', smoothness_se='0.007189', compactness_se='0.00466', concavity_se='0', concave_points_se='0', symmetry_se='0.02676', fractal_dimension_se='0.002783', radius_worst='9.456', texture_worst='30.37', perimeter_worst='59.16', area_worst='268.6', smoothness_worst='0.08996', compactness_worst='0.06444', concavity_worst='0', concave_points_worst='0', symmetry_worst='0.2871', fractal_dimension_worst='0.07039')]"
            ]
          },
          "metadata": {
            "tags": []
          },
          "execution_count": 73
        }
      ]
    },
    {
      "cell_type": "code",
      "metadata": {
        "id": "9vaQ7eCAMPu0"
      },
      "source": [
        "help(df1.take(5))"
      ],
      "execution_count": null,
      "outputs": []
    },
    {
      "cell_type": "code",
      "metadata": {
        "id": "NVUWmz1oMTJw"
      },
      "source": [
        "fd = df1.to_koalas()"
      ],
      "execution_count": 79,
      "outputs": []
    },
    {
      "cell_type": "code",
      "metadata": {
        "id": "_PYQTy0FPEcA",
        "outputId": "552e3cc6-c1fe-4881-ca5a-d100f0facaa1",
        "colab": {
          "base_uri": "https://localhost:8080/"
        }
      },
      "source": [
        "fd['diagnosis'].value_counts()"
      ],
      "execution_count": 82,
      "outputs": [
        {
          "output_type": "execute_result",
          "data": {
            "text/plain": [
              "0    176\n",
              "1    108\n",
              "Name: diagnosis, dtype: int64"
            ]
          },
          "metadata": {
            "tags": []
          },
          "execution_count": 82
        }
      ]
    },
    {
      "cell_type": "code",
      "metadata": {
        "id": "YpesiaVsPO45"
      },
      "source": [
        "grd = fd.groupby('diagnosis')"
      ],
      "execution_count": 83,
      "outputs": []
    },
    {
      "cell_type": "code",
      "metadata": {
        "id": "iuJgV0O8QFQC",
        "outputId": "ec703339-9275-4117-a6bd-2e33bbe47e81",
        "colab": {
          "base_uri": "https://localhost:8080/",
          "height": 402
        }
      },
      "source": [
        "grd['radius_mean'].aggregate(sum)"
      ],
      "execution_count": 94,
      "outputs": [
        {
          "output_type": "error",
          "ename": "PandasNotImplementedError",
          "evalue": "ignored",
          "traceback": [
            "\u001b[0;31m---------------------------------------------------------------------------\u001b[0m",
            "\u001b[0;31mPandasNotImplementedError\u001b[0m                 Traceback (most recent call last)",
            "\u001b[0;32m<ipython-input-94-845be49e6612>\u001b[0m in \u001b[0;36m<module>\u001b[0;34m()\u001b[0m\n\u001b[0;32m----> 1\u001b[0;31m \u001b[0mgrd\u001b[0m\u001b[0;34m[\u001b[0m\u001b[0;34m'radius_mean'\u001b[0m\u001b[0;34m]\u001b[0m\u001b[0;34m.\u001b[0m\u001b[0maggregate\u001b[0m\u001b[0;34m(\u001b[0m\u001b[0msum\u001b[0m\u001b[0;34m)\u001b[0m\u001b[0;34m\u001b[0m\u001b[0;34m\u001b[0m\u001b[0m\n\u001b[0m",
            "\u001b[0;32m/usr/local/lib/python3.7/dist-packages/databricks/koalas/groupby.py\u001b[0m in \u001b[0;36maggregate\u001b[0;34m(self, *args, **kwargs)\u001b[0m\n\u001b[1;32m   2828\u001b[0m \u001b[0;34m\u001b[0m\u001b[0m\n\u001b[1;32m   2829\u001b[0m     \u001b[0;32mdef\u001b[0m \u001b[0maggregate\u001b[0m\u001b[0;34m(\u001b[0m\u001b[0mself\u001b[0m\u001b[0;34m,\u001b[0m \u001b[0;34m*\u001b[0m\u001b[0margs\u001b[0m\u001b[0;34m,\u001b[0m \u001b[0;34m**\u001b[0m\u001b[0mkwargs\u001b[0m\u001b[0;34m)\u001b[0m \u001b[0;34m->\u001b[0m \u001b[0;32mNone\u001b[0m\u001b[0;34m:\u001b[0m\u001b[0;34m\u001b[0m\u001b[0;34m\u001b[0m\u001b[0m\n\u001b[0;32m-> 2830\u001b[0;31m         \u001b[0;32mreturn\u001b[0m \u001b[0mMissingPandasLikeSeriesGroupBy\u001b[0m\u001b[0;34m.\u001b[0m\u001b[0maggregate\u001b[0m\u001b[0;34m(\u001b[0m\u001b[0mself\u001b[0m\u001b[0;34m,\u001b[0m \u001b[0;34m*\u001b[0m\u001b[0margs\u001b[0m\u001b[0;34m,\u001b[0m \u001b[0;34m**\u001b[0m\u001b[0mkwargs\u001b[0m\u001b[0;34m)\u001b[0m\u001b[0;34m\u001b[0m\u001b[0;34m\u001b[0m\u001b[0m\n\u001b[0m\u001b[1;32m   2831\u001b[0m \u001b[0;34m\u001b[0m\u001b[0m\n\u001b[1;32m   2832\u001b[0m     \u001b[0;32mdef\u001b[0m \u001b[0mtransform\u001b[0m\u001b[0;34m(\u001b[0m\u001b[0mself\u001b[0m\u001b[0;34m,\u001b[0m \u001b[0mfunc\u001b[0m\u001b[0;34m,\u001b[0m \u001b[0;34m*\u001b[0m\u001b[0margs\u001b[0m\u001b[0;34m,\u001b[0m \u001b[0;34m**\u001b[0m\u001b[0mkwargs\u001b[0m\u001b[0;34m)\u001b[0m \u001b[0;34m->\u001b[0m \u001b[0mSeries\u001b[0m\u001b[0;34m:\u001b[0m\u001b[0;34m\u001b[0m\u001b[0;34m\u001b[0m\u001b[0m\n",
            "\u001b[0;32m/usr/local/lib/python3.7/dist-packages/databricks/koalas/missing/__init__.py\u001b[0m in \u001b[0;36munsupported_function\u001b[0;34m(*args, **kwargs)\u001b[0m\n\u001b[1;32m     21\u001b[0m     \u001b[0;32mdef\u001b[0m \u001b[0munsupported_function\u001b[0m\u001b[0;34m(\u001b[0m\u001b[0;34m*\u001b[0m\u001b[0margs\u001b[0m\u001b[0;34m,\u001b[0m \u001b[0;34m**\u001b[0m\u001b[0mkwargs\u001b[0m\u001b[0;34m)\u001b[0m\u001b[0;34m:\u001b[0m\u001b[0;34m\u001b[0m\u001b[0;34m\u001b[0m\u001b[0m\n\u001b[1;32m     22\u001b[0m         raise PandasNotImplementedError(\n\u001b[0;32m---> 23\u001b[0;31m             \u001b[0mclass_name\u001b[0m\u001b[0;34m=\u001b[0m\u001b[0mclass_name\u001b[0m\u001b[0;34m,\u001b[0m \u001b[0mmethod_name\u001b[0m\u001b[0;34m=\u001b[0m\u001b[0mmethod_name\u001b[0m\u001b[0;34m,\u001b[0m \u001b[0mreason\u001b[0m\u001b[0;34m=\u001b[0m\u001b[0mreason\u001b[0m\u001b[0;34m\u001b[0m\u001b[0;34m\u001b[0m\u001b[0m\n\u001b[0m\u001b[1;32m     24\u001b[0m         )\n\u001b[1;32m     25\u001b[0m \u001b[0;34m\u001b[0m\u001b[0m\n",
            "\u001b[0;31mPandasNotImplementedError\u001b[0m: The method `pd.groupby.GroupBy.aggregate()` is not implemented yet."
          ]
        }
      ]
    },
    {
      "cell_type": "code",
      "metadata": {
        "id": "rs1DEs24QOas",
        "outputId": "171319d9-7c74-467f-b0e3-9ab2cf2ef1ca",
        "colab": {
          "base_uri": "https://localhost:8080/"
        }
      },
      "source": [
        "grd['radius_mean'].apply(sum)"
      ],
      "execution_count": 96,
      "outputs": [
        {
          "output_type": "execute_result",
          "data": {
            "text/plain": [
              "diagnosis\n",
              "0    13.5413.089.50413.0313.4911.7613.058.6189.0291...\n",
              "1    17.9920.5711.4218.2513.711312.4616.0215.7816.1...\n",
              "Name: radius_mean, dtype: object"
            ]
          },
          "metadata": {
            "tags": []
          },
          "execution_count": 96
        }
      ]
    },
    {
      "cell_type": "code",
      "metadata": {
        "id": "qeQfs-3_SAC5",
        "outputId": "5fd25046-6987-41c8-d833-702d5b4780d3",
        "colab": {
          "base_uri": "https://localhost:8080/"
        }
      },
      "source": [
        "df1.agg({'radius_mean': 'sum'}).show()"
      ],
      "execution_count": 98,
      "outputs": [
        {
          "output_type": "stream",
          "text": [
            "+------------------+\n",
            "|  sum(radius_mean)|\n",
            "+------------------+\n",
            "|4030.0239999999994|\n",
            "+------------------+\n",
            "\n"
          ],
          "name": "stdout"
        }
      ]
    },
    {
      "cell_type": "code",
      "metadata": {
        "id": "oAPE67YTUYn_"
      },
      "source": [
        "grd = df1.groupby('diagnosis')"
      ],
      "execution_count": 99,
      "outputs": []
    },
    {
      "cell_type": "code",
      "metadata": {
        "id": "lpDjMsX7Uj3n",
        "outputId": "75061777-685c-49f0-a48f-89099319b278",
        "colab": {
          "base_uri": "https://localhost:8080/"
        }
      },
      "source": [
        "grd.agg({'radius_mean': 'sum'}).show()"
      ],
      "execution_count": 101,
      "outputs": [
        {
          "output_type": "stream",
          "text": [
            "+---------+-----------------+\n",
            "|diagnosis| sum(radius_mean)|\n",
            "+---------+-----------------+\n",
            "|        0|2144.744000000001|\n",
            "|        1|          1885.28|\n",
            "+---------+-----------------+\n",
            "\n"
          ],
          "name": "stdout"
        }
      ]
    },
    {
      "cell_type": "code",
      "metadata": {
        "id": "uuGdF0l3UvSs"
      },
      "source": [
        ""
      ],
      "execution_count": null,
      "outputs": []
    }
  ]
}