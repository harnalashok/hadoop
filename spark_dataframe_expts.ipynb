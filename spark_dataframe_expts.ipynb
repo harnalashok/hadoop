{
  "nbformat": 4,
  "nbformat_minor": 0,
  "metadata": {
    "colab": {
      "name": "spark install.ipynb",
      "provenance": [],
      "collapsed_sections": [
        "yC40UHIKPJEL"
      ],
      "include_colab_link": true
    },
    "kernelspec": {
      "name": "python3",
      "display_name": "Python 3"
    },
    "language_info": {
      "name": "python"
    }
  },
  "cells": [
    {
      "cell_type": "markdown",
      "metadata": {
        "id": "view-in-github",
        "colab_type": "text"
      },
      "source": [
        "<a href=\"https://colab.research.google.com/github/harnalashok/hadoop/blob/main/spark_dataframe_expts.ipynb\" target=\"_parent\"><img src=\"https://colab.research.google.com/assets/colab-badge.svg\" alt=\"Open In Colab\"/></a>"
      ]
    },
    {
      "cell_type": "code",
      "metadata": {
        "id": "4q64Z8IYb8fr"
      },
      "source": [
        "# Last amended: 12th June, 2021\n",
        "# Myfolder: github/hadoop\n",
        "# Objectives:\n",
        "#             i) Install pyspark on colab\n",
        "#             ii) Install koalas on colab\n",
        "#\n",
        "#\n",
        "# Java 8 install: https://stackoverflow.com/a/58191107\n",
        "# Hadoop install: https://hadoop.apache.org/docs/stable/hadoop-project-dist/hadoop-common/SingleCluster.html\n",
        "# Spark install:  https://stackoverflow.com/a/64183749\n",
        "#                 https://www.analyticsvidhya.com/blog/2020/11/a-must-read-guide-on-how-to-work-with-pyspark-on-google-colab-for-data-scientists/"
      ],
      "execution_count": null,
      "outputs": []
    },
    {
      "cell_type": "markdown",
      "metadata": {
        "id": "Y3vw_quGSgrW"
      },
      "source": [
        "# Full spark install"
      ]
    },
    {
      "cell_type": "markdown",
      "metadata": {
        "id": "yC40UHIKPJEL"
      },
      "source": [
        "### 1.0 Libraries"
      ]
    },
    {
      "cell_type": "code",
      "metadata": {
        "id": "HBVUrlkidyaE"
      },
      "source": [
        "# 1.0 How to set environment variable\n",
        "import os  \n",
        "import time  "
      ],
      "execution_count": 4,
      "outputs": []
    },
    {
      "cell_type": "markdown",
      "metadata": {
        "id": "w8cVWRNoPOS6"
      },
      "source": [
        "## 2.0 Define some functions"
      ]
    },
    {
      "cell_type": "markdown",
      "metadata": {
        "id": "mfFBQ0FLcolo"
      },
      "source": [
        "#### ssh_install()"
      ]
    },
    {
      "cell_type": "code",
      "metadata": {
        "id": "mgS9HNCyR7C0"
      },
      "source": [
        "# 2.0 Function to install ssh client and sshd (Server)\n",
        "def ssh_install():\n",
        "  print(\"\\n--1. Download and install ssh server----\\n\")\n",
        "  ! sudo apt-get remove openssh-client openssh-server\n",
        "  ! sudo apt install openssh-client openssh-server\n",
        "  \n",
        "  print(\"\\n--2. Restart ssh server----\\n\")\n",
        "  ! service ssh restart"
      ],
      "execution_count": 5,
      "outputs": []
    },
    {
      "cell_type": "markdown",
      "metadata": {
        "id": "IJNKSScPcsDS"
      },
      "source": [
        "#### Java install"
      ]
    },
    {
      "cell_type": "code",
      "metadata": {
        "id": "BsFu84PSR9jR"
      },
      "source": [
        "# 3.0 Function to download and install java 8\n",
        "def install_java():\n",
        "  ! rm -rf /usr/java\n",
        "\n",
        "  print(\"\\n--Download and install Java 8----\\n\")\n",
        "  !apt-get install -y openjdk-8-jdk-headless -qq > /dev/null        # install openjdk\n",
        "  os.environ[\"JAVA_HOME\"] = \"/usr/lib/jvm/java-8-openjdk-amd64\"     # set environment variable\n",
        "\n",
        "  !update-alternatives --set java /usr/lib/jvm/java-8-openjdk-amd64/jre/bin/java\n",
        "  !update-alternatives --set javac /usr/lib/jvm/java-8-openjdk-amd64/bin/javac\n",
        "  \n",
        "  !mkdir -p /usr/java\n",
        "  ! ln -s \"/usr/lib/jvm/java-8-openjdk-amd64\"  \"/usr/java\"\n",
        "  ! mv \"/usr/java/java-8-openjdk-amd64\"  \"/usr/java/latest\"\n",
        "  \n",
        "  !java -version       #check java version\n",
        "  !javac -version"
      ],
      "execution_count": 6,
      "outputs": []
    },
    {
      "cell_type": "markdown",
      "metadata": {
        "id": "Y159J8TDc3wS"
      },
      "source": [
        "#### setup ssh passphrase"
      ]
    },
    {
      "cell_type": "code",
      "metadata": {
        "id": "EOFbfw7n0Pps"
      },
      "source": [
        "# 6.0 Function tp setup ssh passphrase\n",
        "def set_keys():\n",
        "  print(\"\\n---22. Generate SSH keys----\\n\")\n",
        "  ! cd ~ ; pwd \n",
        "  ! cd ~ ; ssh-keygen -t rsa -P '' -f ~/.ssh/id_rsa\n",
        "  ! cd ~ ; cat ~/.ssh/id_rsa.pub >> ~/.ssh/authorized_keys\n",
        "  ! cd ~ ; chmod 0600 ~/.ssh/authorized_keys\n"
      ],
      "execution_count": 7,
      "outputs": []
    },
    {
      "cell_type": "markdown",
      "metadata": {
        "id": "7M2kWg3dc6FT"
      },
      "source": [
        "#### Set environment"
      ]
    },
    {
      "cell_type": "code",
      "metadata": {
        "id": "CRSn9XAV4rsR"
      },
      "source": [
        "# 7.0 Function to set up environmental variables\n",
        "def set_env():\n",
        "  print(\"\\n---23. Set Environment variables----\\n\")\n",
        "  # 'export' command does not work in colab\n",
        "  # https://stackoverflow.com/a/57240319\n",
        "  os.environ[\"JAVA_HOME\"] = \"/usr/lib/jvm/java-8-openjdk-amd64\"     #set environment variable\n",
        "  os.environ[\"JRE_HOME\"] = \"/usr/lib/jvm/java-8-openjdk-amd64/jre\"   \n",
        "  "
      ],
      "execution_count": 8,
      "outputs": []
    },
    {
      "cell_type": "markdown",
      "metadata": {
        "id": "WII-UNCzc9qJ"
      },
      "source": [
        "#### function to install prerequisites\n",
        "java and ssh<br>\n"
      ]
    },
    {
      "cell_type": "code",
      "metadata": {
        "id": "oh1Mi0rHFpkU"
      },
      "source": [
        "# 8.0 Function to call all functions\n",
        "def install_components():\n",
        "  print(\"\\n--Install java----\\n\")\n",
        "  ssh_install()\n",
        "  install_java()  \n",
        "  #set_keys()\n",
        "  set_env()\n"
      ],
      "execution_count": 9,
      "outputs": []
    },
    {
      "cell_type": "markdown",
      "metadata": {
        "id": "iHJyHMhUdCRZ"
      },
      "source": [
        "## 3.0 Install components\n",
        "Start downloading, install and configure. Takes around 2 minutes<br>\n",
        "Your <u>input *'y'* is required </u>at one place while overwriting earlier ssh keys"
      ]
    },
    {
      "cell_type": "code",
      "metadata": {
        "id": "77YQikvsJiTm",
        "colab": {
          "base_uri": "https://localhost:8080/"
        },
        "outputId": "b4fb1097-fc4b-4aad-c586-ff8c1530e217"
      },
      "source": [
        "# 9.0 Start installation\n",
        "start = time.time()\n",
        "install_components()\n",
        "end = time.time()\n",
        "print(\"\\n---Time taken----\\n\")\n",
        "print((end- start)/60)"
      ],
      "execution_count": 10,
      "outputs": [
        {
          "output_type": "stream",
          "text": [
            "\n",
            "--Install java----\n",
            "\n",
            "\n",
            "--1. Download and install ssh server----\n",
            "\n",
            "Reading package lists... Done\n",
            "Building dependency tree       \n",
            "Reading state information... Done\n",
            "Package 'openssh-server' is not installed, so not removed\n",
            "The following packages will be REMOVED:\n",
            "  openssh-client\n",
            "0 upgraded, 0 newly installed, 1 to remove and 39 not upgraded.\n",
            "After this operation, 4,162 kB disk space will be freed.\n",
            "(Reading database ... 160772 files and directories currently installed.)\n",
            "Removing openssh-client (1:7.6p1-4ubuntu0.3) ...\n",
            "Processing triggers for man-db (2.8.3-2ubuntu0.1) ...\n",
            "Reading package lists... Done\n",
            "Building dependency tree       \n",
            "Reading state information... Done\n",
            "The following additional packages will be installed:\n",
            "  ncurses-term openssh-sftp-server python3-certifi python3-chardet\n",
            "  python3-idna python3-pkg-resources python3-requests python3-six\n",
            "  python3-urllib3 ssh-import-id\n",
            "Suggested packages:\n",
            "  keychain libpam-ssh monkeysphere ssh-askpass molly-guard rssh ufw\n",
            "  python3-setuptools python3-cryptography python3-openssl python3-socks\n",
            "The following NEW packages will be installed:\n",
            "  ncurses-term openssh-client openssh-server openssh-sftp-server\n",
            "  python3-certifi python3-chardet python3-idna python3-pkg-resources\n",
            "  python3-requests python3-six python3-urllib3 ssh-import-id\n",
            "0 upgraded, 12 newly installed, 0 to remove and 39 not upgraded.\n",
            "Need to get 1,762 kB of archives.\n",
            "After this operation, 11.8 MB of additional disk space will be used.\n",
            "Get:1 http://archive.ubuntu.com/ubuntu bionic-updates/main amd64 openssh-client amd64 1:7.6p1-4ubuntu0.3 [614 kB]\n",
            "Get:2 http://archive.ubuntu.com/ubuntu bionic-updates/main amd64 ncurses-term all 6.1-1ubuntu1.18.04 [248 kB]\n",
            "Get:3 http://archive.ubuntu.com/ubuntu bionic-updates/main amd64 openssh-sftp-server amd64 1:7.6p1-4ubuntu0.3 [45.6 kB]\n",
            "Get:4 http://archive.ubuntu.com/ubuntu bionic-updates/main amd64 openssh-server amd64 1:7.6p1-4ubuntu0.3 [333 kB]\n",
            "Get:5 http://archive.ubuntu.com/ubuntu bionic/main amd64 python3-certifi all 2018.1.18-2 [144 kB]\n",
            "Get:6 http://archive.ubuntu.com/ubuntu bionic/main amd64 python3-pkg-resources all 39.0.1-2 [98.8 kB]\n",
            "Get:7 http://archive.ubuntu.com/ubuntu bionic/main amd64 python3-chardet all 3.0.4-1 [80.3 kB]\n",
            "Get:8 http://archive.ubuntu.com/ubuntu bionic/main amd64 python3-idna all 2.6-1 [32.5 kB]\n",
            "Get:9 http://archive.ubuntu.com/ubuntu bionic/main amd64 python3-six all 1.11.0-2 [11.4 kB]\n",
            "Get:10 http://archive.ubuntu.com/ubuntu bionic-updates/main amd64 python3-urllib3 all 1.22-1ubuntu0.18.04.2 [86.2 kB]\n",
            "Get:11 http://archive.ubuntu.com/ubuntu bionic-updates/main amd64 python3-requests all 2.18.4-2ubuntu0.1 [58.3 kB]\n",
            "Get:12 http://archive.ubuntu.com/ubuntu bionic-updates/main amd64 ssh-import-id all 5.7-0ubuntu1.1 [10.9 kB]\n",
            "Fetched 1,762 kB in 0s (12.9 MB/s)\n",
            "debconf: unable to initialize frontend: Dialog\n",
            "debconf: (No usable dialog-like program is installed, so the dialog based frontend cannot be used. at /usr/share/perl5/Debconf/FrontEnd/Dialog.pm line 76, <> line 12.)\n",
            "debconf: falling back to frontend: Readline\n",
            "debconf: unable to initialize frontend: Readline\n",
            "debconf: (This frontend requires a controlling tty.)\n",
            "debconf: falling back to frontend: Teletype\n",
            "dpkg-preconfigure: unable to re-open stdin: \n",
            "Selecting previously unselected package openssh-client.\n",
            "(Reading database ... 160729 files and directories currently installed.)\n",
            "Preparing to unpack .../00-openssh-client_1%3a7.6p1-4ubuntu0.3_amd64.deb ...\n",
            "Unpacking openssh-client (1:7.6p1-4ubuntu0.3) ...\n",
            "Selecting previously unselected package ncurses-term.\n",
            "Preparing to unpack .../01-ncurses-term_6.1-1ubuntu1.18.04_all.deb ...\n",
            "Unpacking ncurses-term (6.1-1ubuntu1.18.04) ...\n",
            "Selecting previously unselected package openssh-sftp-server.\n",
            "Preparing to unpack .../02-openssh-sftp-server_1%3a7.6p1-4ubuntu0.3_amd64.deb ...\n",
            "Unpacking openssh-sftp-server (1:7.6p1-4ubuntu0.3) ...\n",
            "Selecting previously unselected package openssh-server.\n",
            "Preparing to unpack .../03-openssh-server_1%3a7.6p1-4ubuntu0.3_amd64.deb ...\n",
            "Unpacking openssh-server (1:7.6p1-4ubuntu0.3) ...\n",
            "Selecting previously unselected package python3-certifi.\n",
            "Preparing to unpack .../04-python3-certifi_2018.1.18-2_all.deb ...\n",
            "Unpacking python3-certifi (2018.1.18-2) ...\n",
            "Selecting previously unselected package python3-pkg-resources.\n",
            "Preparing to unpack .../05-python3-pkg-resources_39.0.1-2_all.deb ...\n",
            "Unpacking python3-pkg-resources (39.0.1-2) ...\n",
            "Selecting previously unselected package python3-chardet.\n",
            "Preparing to unpack .../06-python3-chardet_3.0.4-1_all.deb ...\n",
            "Unpacking python3-chardet (3.0.4-1) ...\n",
            "Selecting previously unselected package python3-idna.\n",
            "Preparing to unpack .../07-python3-idna_2.6-1_all.deb ...\n",
            "Unpacking python3-idna (2.6-1) ...\n",
            "Selecting previously unselected package python3-six.\n",
            "Preparing to unpack .../08-python3-six_1.11.0-2_all.deb ...\n",
            "Unpacking python3-six (1.11.0-2) ...\n",
            "Selecting previously unselected package python3-urllib3.\n",
            "Preparing to unpack .../09-python3-urllib3_1.22-1ubuntu0.18.04.2_all.deb ...\n",
            "Unpacking python3-urllib3 (1.22-1ubuntu0.18.04.2) ...\n",
            "Selecting previously unselected package python3-requests.\n",
            "Preparing to unpack .../10-python3-requests_2.18.4-2ubuntu0.1_all.deb ...\n",
            "Unpacking python3-requests (2.18.4-2ubuntu0.1) ...\n",
            "Selecting previously unselected package ssh-import-id.\n",
            "Preparing to unpack .../11-ssh-import-id_5.7-0ubuntu1.1_all.deb ...\n",
            "Unpacking ssh-import-id (5.7-0ubuntu1.1) ...\n",
            "Setting up ncurses-term (6.1-1ubuntu1.18.04) ...\n",
            "Setting up python3-idna (2.6-1) ...\n",
            "Setting up python3-six (1.11.0-2) ...\n",
            "Setting up python3-certifi (2018.1.18-2) ...\n",
            "Setting up python3-pkg-resources (39.0.1-2) ...\n",
            "Setting up python3-chardet (3.0.4-1) ...\n",
            "Setting up python3-urllib3 (1.22-1ubuntu0.18.04.2) ...\n",
            "Setting up openssh-client (1:7.6p1-4ubuntu0.3) ...\n",
            "Setting up openssh-sftp-server (1:7.6p1-4ubuntu0.3) ...\n",
            "Setting up python3-requests (2.18.4-2ubuntu0.1) ...\n",
            "Setting up ssh-import-id (5.7-0ubuntu1.1) ...\n",
            "Setting up openssh-server (1:7.6p1-4ubuntu0.3) ...\n",
            "debconf: unable to initialize frontend: Dialog\n",
            "debconf: (No usable dialog-like program is installed, so the dialog based frontend cannot be used. at /usr/share/perl5/Debconf/FrontEnd/Dialog.pm line 76.)\n",
            "debconf: falling back to frontend: Readline\n",
            "\n",
            "Creating config file /etc/ssh/sshd_config with new version\n",
            "Creating SSH2 RSA key; this may take some time ...\n",
            "2048 SHA256:gtlOkJmQRBseuX1x6n/YlgK3noGxcSUJF8NSWkFO//M root@4ecba5d0b8cf (RSA)\n",
            "Creating SSH2 ECDSA key; this may take some time ...\n",
            "256 SHA256:FK3eMochAGf4aXSDFXWG0aGJNFNIpHbVg6HKFb0Wzzc root@4ecba5d0b8cf (ECDSA)\n",
            "Creating SSH2 ED25519 key; this may take some time ...\n",
            "256 SHA256:z8FkGHmPDDGSZQqFm8mfO+Gh5sOwy7hR0/jbTktotHQ root@4ecba5d0b8cf (ED25519)\n",
            "Created symlink /etc/systemd/system/sshd.service → /lib/systemd/system/ssh.service.\n",
            "Created symlink /etc/systemd/system/multi-user.target.wants/ssh.service → /lib/systemd/system/ssh.service.\n",
            "invoke-rc.d: could not determine current runlevel\n",
            "invoke-rc.d: policy-rc.d denied execution of start.\n",
            "Processing triggers for man-db (2.8.3-2ubuntu0.1) ...\n",
            "Processing triggers for systemd (237-3ubuntu10.47) ...\n",
            "\n",
            "--2. Restart ssh server----\n",
            "\n",
            " * Restarting OpenBSD Secure Shell server sshd\n",
            "   ...done.\n",
            "\n",
            "--Download and install Java 8----\n",
            "\n",
            "update-alternatives: using /usr/lib/jvm/java-8-openjdk-amd64/jre/bin/java to provide /usr/bin/java (java) in manual mode\n",
            "update-alternatives: using /usr/lib/jvm/java-8-openjdk-amd64/bin/javac to provide /usr/bin/javac (javac) in manual mode\n",
            "openjdk version \"1.8.0_292\"\n",
            "OpenJDK Runtime Environment (build 1.8.0_292-8u292-b10-0ubuntu1~18.04-b10)\n",
            "OpenJDK 64-Bit Server VM (build 25.292-b10, mixed mode)\n",
            "javac 1.8.0_292\n",
            "\n",
            "---23. Set Environment variables----\n",
            "\n",
            "\n",
            "---Time taken----\n",
            "\n",
            "0.40513484477996825\n"
          ],
          "name": "stdout"
        }
      ]
    },
    {
      "cell_type": "markdown",
      "metadata": {
        "id": "XBFVWWuafLBL"
      },
      "source": [
        "## 4.0 Install spark\n",
        "koalas will also be installed"
      ]
    },
    {
      "cell_type": "markdown",
      "metadata": {
        "id": "CyuLCFRJsvW3"
      },
      "source": [
        "### Define functions"
      ]
    },
    {
      "cell_type": "markdown",
      "metadata": {
        "id": "kk3BP0OfYpT1"
      },
      "source": [
        "`findspark`: PySpark isn't on `sys.path` by default, but that doesn't mean it can't be used as a regular library. You can address this by either symlinking pyspark into your site-packages, or adding `pyspark` to `sys.path` at runtime. `findspark` does the latter."
      ]
    },
    {
      "cell_type": "code",
      "metadata": {
        "id": "opLGqtPRfM_5"
      },
      "source": [
        "# 1.0 Function to download and unzip spark\n",
        "def spark_koalas_install():\n",
        "  print(\"\\n--1.1 Install findspark----\\n\")\n",
        "  !pip install -q findspark\n",
        "\n",
        "  print(\"\\n--1.2 Install databricks Koalas----\\n\")\n",
        "  !pip install koalas\n",
        "\n",
        "  print(\"\\n--1.3 Download Apache tar.gz----\\n\")\n",
        "  ! wget -c https://apachemirror.wuchna.com/spark/spark-3.1.2/spark-3.1.2-bin-hadoop3.2.tgz\n",
        "\n",
        "  print(\"\\n--1.4 Transfer downloaded content and unzip tar.gz----\\n\")\n",
        "  !  mv /content/spark*   /opt/\n",
        "  ! tar -xzf /opt/spark-3.1.2-bin-hadoop3.2.tgz  --directory /opt/\n",
        "\n",
        "  print(\"\\n--1.5 Check folder for files----\\n\")\n",
        "  ! ls -la /opt\n"
      ],
      "execution_count": 11,
      "outputs": []
    },
    {
      "cell_type": "code",
      "metadata": {
        "id": "ebXfvQ1qiQHz"
      },
      "source": [
        "# 1.1 Function to set environment\n",
        "def set_spark_env():\n",
        "  print(\"\\n---2. Set Environment variables----\\n\")\n",
        "  os.environ[\"JAVA_HOME\"] = \"/usr/lib/jvm/java-8-openjdk-amd64\" \n",
        "  os.environ[\"JRE_HOME\"] = \"/usr/lib/jvm/java-8-openjdk-amd64/jre\" \n",
        "  os.environ[\"SPARK_HOME\"] = \"/opt/spark-3.1.2-bin-hadoop3.2\"     \n",
        "  os.environ[\"LD_LIBRARY_PATH\"] += \":/opt/spark-3.1.2-bin-hadoop3.2/lib/native\"\n",
        "  os.environ[\"PATH\"] += \":/opt/spark-3.1.2-bin-hadoop3.2/bin:/opt/spark-3.1.2-bin-hadoop3.2/sbin\"\n",
        "  print(\"\\n---2.1. Check Environment variables----\\n\")\n",
        "  # Check\n",
        "  ! echo $PATH\n",
        "  ! echo $LD_LIBRARY_PATH"
      ],
      "execution_count": 12,
      "outputs": []
    },
    {
      "cell_type": "code",
      "metadata": {
        "id": "qUsZggDHj13U"
      },
      "source": [
        "# 1.2 Function to configure spark \n",
        "def spark_conf():\n",
        "  print(\"\\n---3. Configure spark to access hadoop----\\n\")\n",
        "  !mv /opt/spark-3.1.2-bin-hadoop3.2/conf/spark-env.sh.template  /opt/spark-3.1.2-bin-hadoop3.2/conf/spark-env.sh\n",
        "  #!echo \"HADOOP_CONF_DIR=/opt/hadoop-3.2.2/etc/hadoop/\" >> /opt/spark-3.1.2-bin-hadoop3.2/conf/spark-env.sh\n",
        "  print(\"\\n---3.1 Check ----\\n\")\n",
        "  #!cat /opt/spark-3.1.1-bin-hadoop3.2/conf/spark-env.sh"
      ],
      "execution_count": 13,
      "outputs": []
    },
    {
      "cell_type": "markdown",
      "metadata": {
        "id": "M7kLbAFLszN3"
      },
      "source": [
        "### Install spark\n"
      ]
    },
    {
      "cell_type": "code",
      "metadata": {
        "id": "z_eaLhtPktHJ"
      },
      "source": [
        "# 2.0 Call all the three functions\n",
        "def install_spark():\n",
        "  spark_koalas_install()\n",
        "  set_spark_env()\n",
        "  spark_conf()\n"
      ],
      "execution_count": 14,
      "outputs": []
    },
    {
      "cell_type": "code",
      "metadata": {
        "id": "emaHs1XxRt5z",
        "colab": {
          "base_uri": "https://localhost:8080/"
        },
        "outputId": "242bdebc-e3c4-46a3-d9fd-1c5bc1479aac"
      },
      "source": [
        "# 2.1 \n",
        "install_spark()"
      ],
      "execution_count": 15,
      "outputs": [
        {
          "output_type": "stream",
          "text": [
            "\n",
            "--1.1 Install findspark----\n",
            "\n",
            "\n",
            "--1.2 Install databricks Koalas----\n",
            "\n",
            "Collecting koalas\n",
            "\u001b[?25l  Downloading https://files.pythonhosted.org/packages/b8/6f/d0454b8b7a8ac4cd9838f510ceff0d9eb20d64245c4627f425c06ca6b685/koalas-1.8.0-py3-none-any.whl (720kB)\n",
            "\u001b[K     |████████████████████████████████| 727kB 14.7MB/s \n",
            "\u001b[?25hRequirement already satisfied: pandas>=0.23.2 in /usr/local/lib/python3.7/dist-packages (from koalas) (1.1.5)\n",
            "Requirement already satisfied: pyarrow>=0.10 in /usr/local/lib/python3.7/dist-packages (from koalas) (3.0.0)\n",
            "Requirement already satisfied: numpy<1.20.0,>=1.14 in /usr/local/lib/python3.7/dist-packages (from koalas) (1.19.5)\n",
            "Requirement already satisfied: python-dateutil>=2.7.3 in /usr/local/lib/python3.7/dist-packages (from pandas>=0.23.2->koalas) (2.8.1)\n",
            "Requirement already satisfied: pytz>=2017.2 in /usr/local/lib/python3.7/dist-packages (from pandas>=0.23.2->koalas) (2018.9)\n",
            "Requirement already satisfied: six>=1.5 in /usr/local/lib/python3.7/dist-packages (from python-dateutil>=2.7.3->pandas>=0.23.2->koalas) (1.15.0)\n",
            "Installing collected packages: koalas\n",
            "Successfully installed koalas-1.8.0\n",
            "\n",
            "--1.3 Download Apache tar.gz----\n",
            "\n",
            "--2021-06-14 07:15:33--  https://apachemirror.wuchna.com/spark/spark-3.1.2/spark-3.1.2-bin-hadoop3.2.tgz\n",
            "Resolving apachemirror.wuchna.com (apachemirror.wuchna.com)... 143.110.177.196\n",
            "Connecting to apachemirror.wuchna.com (apachemirror.wuchna.com)|143.110.177.196|:443... connected.\n",
            "HTTP request sent, awaiting response... 200 OK\n",
            "Length: 228834641 (218M) [application/x-gzip]\n",
            "Saving to: ‘spark-3.1.2-bin-hadoop3.2.tgz’\n",
            "\n",
            "spark-3.1.2-bin-had 100%[===================>] 218.23M  13.4MB/s    in 18s     \n",
            "\n",
            "2021-06-14 07:15:52 (12.1 MB/s) - ‘spark-3.1.2-bin-hadoop3.2.tgz’ saved [228834641/228834641]\n",
            "\n",
            "\n",
            "--1.4 Transfer downloaded content and unzip tar.gz----\n",
            "\n",
            "\n",
            "--1.5 Check folder for files----\n",
            "\n",
            "total 223492\n",
            "drwxr-xr-x  1 root root      4096 Jun 14 07:15 .\n",
            "drwxr-xr-x  1 root root      4096 Jun 14 07:05 ..\n",
            "drwxr-xr-x  1 root root      4096 Jun  1 13:35 google\n",
            "drwxr-xr-x  4 root root      4096 Jun  1 13:29 nvidia\n",
            "drwxr-xr-x 13 1000 1000      4096 May 24 04:45 spark-3.1.2-bin-hadoop3.2\n",
            "-rw-r--r--  1 root root 228834641 May 24 05:01 spark-3.1.2-bin-hadoop3.2.tgz\n",
            "\n",
            "---2. Set Environment variables----\n",
            "\n",
            "\n",
            "---2.1. Check Environment variables----\n",
            "\n",
            "/usr/local/nvidia/bin:/usr/local/cuda/bin:/usr/local/sbin:/usr/local/bin:/usr/sbin:/usr/bin:/sbin:/bin:/tools/node/bin:/tools/google-cloud-sdk/bin:/opt/bin:/opt/spark-3.1.2-bin-hadoop3.2/bin:/opt/spark-3.1.2-bin-hadoop3.2/sbin\n",
            "/usr/local/nvidia/lib:/usr/local/nvidia/lib64:/opt/spark-3.1.2-bin-hadoop3.2/lib/native\n",
            "\n",
            "---3. Configure spark to access hadoop----\n",
            "\n",
            "\n",
            "---3.1 Check ----\n",
            "\n"
          ],
          "name": "stdout"
        }
      ]
    },
    {
      "cell_type": "markdown",
      "metadata": {
        "id": "L6XYg1IGs17n"
      },
      "source": [
        "# Test spark\n"
      ]
    },
    {
      "cell_type": "markdown",
      "metadata": {
        "id": "eZwLRxQWZryJ"
      },
      "source": [
        "Call some libraries"
      ]
    },
    {
      "cell_type": "code",
      "metadata": {
        "id": "6_1RXFGClfCy",
        "colab": {
          "base_uri": "https://localhost:8080/"
        },
        "outputId": "09753960-27b7-417f-b922-2e74964269a3"
      },
      "source": [
        "# 3.0 Just call some libraries to test\n",
        "import pandas as pd\n",
        "import numpy as np\n",
        "import os\n",
        "\n",
        "# 3.1 Get spark in sys.path\n",
        "import findspark\n",
        "findspark.init()\n",
        "\n",
        "# 3.2 Call other spark libraries\n",
        "#     Just to test\n",
        "from pyspark.sql import SparkSession\n",
        "import databricks.koalas as ks\n",
        "from pyspark.ml.feature import VectorAssembler\n",
        "from pyspark.ml.regression import LinearRegression"
      ],
      "execution_count": 16,
      "outputs": [
        {
          "output_type": "stream",
          "text": [
            "WARNING:root:'PYARROW_IGNORE_TIMEZONE' environment variable was not set. It is required to set this environment variable to '1' in both driver and executor sides if you use pyarrow>=2.0.0. Koalas will set it for you but it does not work if there is a Spark context already launched.\n"
          ],
          "name": "stderr"
        }
      ]
    },
    {
      "cell_type": "markdown",
      "metadata": {
        "id": "JRcydbfmqzGX"
      },
      "source": [
        "### Understanding SparkSession\n",
        "For Spark configuration options, see [here](http://spark.apache.org/docs/latest/configuration.html#spark-properties)"
      ]
    },
    {
      "cell_type": "code",
      "metadata": {
        "id": "ISNdxVmMmUVz"
      },
      "source": [
        "# 3.1 Build  spark session\n",
        "#     with certain configuration options\n",
        "#     .master => Connect to spark which URL? \"local\" to run locally, \n",
        "#                \"local[4]\" to run locally with 4 cores,\n",
        "#                or \"spark://master:7077\" to run on a Spark standalone cluster.\n",
        "#\n",
        "spark = SparkSession. \\\n",
        "                    builder. \\\n",
        "                    master(\"local[*]\"). \\\n",
        "                    config(\"spark.driver.memory\", \"1g\"). \\\n",
        "                    getOrCreate()\n"
      ],
      "execution_count": 17,
      "outputs": []
    },
    {
      "cell_type": "code",
      "metadata": {
        "id": "GhFDaRinqTBg",
        "colab": {
          "base_uri": "https://localhost:8080/",
          "height": 0
        },
        "outputId": "7aba4e34-c903-46ce-cf1f-b5532dc8a481"
      },
      "source": [
        "# 3.1.1\n",
        "# Get spark configuration\n",
        "spark.conf.get(\"spark.driver.memory\")"
      ],
      "execution_count": 18,
      "outputs": [
        {
          "output_type": "execute_result",
          "data": {
            "application/vnd.google.colaboratory.intrinsic+json": {
              "type": "string"
            },
            "text/plain": [
              "'1g'"
            ]
          },
          "metadata": {
            "tags": []
          },
          "execution_count": 18
        }
      ]
    },
    {
      "cell_type": "code",
      "metadata": {
        "id": "_RD05F9IqZOs"
      },
      "source": [
        "# 3.1.2 \n",
        "# Get spark session \n",
        "abc = spark.builder.getOrCreate()"
      ],
      "execution_count": 19,
      "outputs": []
    },
    {
      "cell_type": "markdown",
      "metadata": {
        "id": "YkeUhzdMsDwZ"
      },
      "source": [
        "### Creating spark dataframe"
      ]
    },
    {
      "cell_type": "markdown",
      "metadata": {
        "id": "4Hkt2OyksJAh"
      },
      "source": [
        "#### From pandas dataframe"
      ]
    },
    {
      "cell_type": "code",
      "metadata": {
        "id": "oVlRiGQJmk58",
        "colab": {
          "base_uri": "https://localhost:8080/",
          "height": 0
        },
        "outputId": "9c14c8f4-3d0b-4e8a-dc8f-39c017fa6508"
      },
      "source": [
        "# 4.0 Pandas DataFrame\n",
        "pdf = pd.DataFrame({\n",
        "        'x1': ['a','a','b','b', 'b', 'c', 'd','d'],\n",
        "        'x2': ['apple', 'orange', 'orange','orange', 'peach', 'peach','apple','orange'],\n",
        "        'x3': [1, 1, 2, 2, 2, 4, 1, 2],\n",
        "        'x4': [2.4, 2.5, 3.5, 1.4, 2.1,1.5, 3.0, 2.0],\n",
        "        'y1': [1, 0, 1, 0, 0, 1, 1, 0],\n",
        "        'y2': ['yes', 'no', 'no', 'yes', 'yes', 'yes', 'no', 'yes']\n",
        "    })\n",
        "\n",
        "# 4.1\n",
        "pdf"
      ],
      "execution_count": 20,
      "outputs": [
        {
          "output_type": "execute_result",
          "data": {
            "text/html": [
              "<div>\n",
              "<style scoped>\n",
              "    .dataframe tbody tr th:only-of-type {\n",
              "        vertical-align: middle;\n",
              "    }\n",
              "\n",
              "    .dataframe tbody tr th {\n",
              "        vertical-align: top;\n",
              "    }\n",
              "\n",
              "    .dataframe thead th {\n",
              "        text-align: right;\n",
              "    }\n",
              "</style>\n",
              "<table border=\"1\" class=\"dataframe\">\n",
              "  <thead>\n",
              "    <tr style=\"text-align: right;\">\n",
              "      <th></th>\n",
              "      <th>x1</th>\n",
              "      <th>x2</th>\n",
              "      <th>x3</th>\n",
              "      <th>x4</th>\n",
              "      <th>y1</th>\n",
              "      <th>y2</th>\n",
              "    </tr>\n",
              "  </thead>\n",
              "  <tbody>\n",
              "    <tr>\n",
              "      <th>0</th>\n",
              "      <td>a</td>\n",
              "      <td>apple</td>\n",
              "      <td>1</td>\n",
              "      <td>2.4</td>\n",
              "      <td>1</td>\n",
              "      <td>yes</td>\n",
              "    </tr>\n",
              "    <tr>\n",
              "      <th>1</th>\n",
              "      <td>a</td>\n",
              "      <td>orange</td>\n",
              "      <td>1</td>\n",
              "      <td>2.5</td>\n",
              "      <td>0</td>\n",
              "      <td>no</td>\n",
              "    </tr>\n",
              "    <tr>\n",
              "      <th>2</th>\n",
              "      <td>b</td>\n",
              "      <td>orange</td>\n",
              "      <td>2</td>\n",
              "      <td>3.5</td>\n",
              "      <td>1</td>\n",
              "      <td>no</td>\n",
              "    </tr>\n",
              "    <tr>\n",
              "      <th>3</th>\n",
              "      <td>b</td>\n",
              "      <td>orange</td>\n",
              "      <td>2</td>\n",
              "      <td>1.4</td>\n",
              "      <td>0</td>\n",
              "      <td>yes</td>\n",
              "    </tr>\n",
              "    <tr>\n",
              "      <th>4</th>\n",
              "      <td>b</td>\n",
              "      <td>peach</td>\n",
              "      <td>2</td>\n",
              "      <td>2.1</td>\n",
              "      <td>0</td>\n",
              "      <td>yes</td>\n",
              "    </tr>\n",
              "    <tr>\n",
              "      <th>5</th>\n",
              "      <td>c</td>\n",
              "      <td>peach</td>\n",
              "      <td>4</td>\n",
              "      <td>1.5</td>\n",
              "      <td>1</td>\n",
              "      <td>yes</td>\n",
              "    </tr>\n",
              "    <tr>\n",
              "      <th>6</th>\n",
              "      <td>d</td>\n",
              "      <td>apple</td>\n",
              "      <td>1</td>\n",
              "      <td>3.0</td>\n",
              "      <td>1</td>\n",
              "      <td>no</td>\n",
              "    </tr>\n",
              "    <tr>\n",
              "      <th>7</th>\n",
              "      <td>d</td>\n",
              "      <td>orange</td>\n",
              "      <td>2</td>\n",
              "      <td>2.0</td>\n",
              "      <td>0</td>\n",
              "      <td>yes</td>\n",
              "    </tr>\n",
              "  </tbody>\n",
              "</table>\n",
              "</div>"
            ],
            "text/plain": [
              "  x1      x2  x3   x4  y1   y2\n",
              "0  a   apple   1  2.4   1  yes\n",
              "1  a  orange   1  2.5   0   no\n",
              "2  b  orange   2  3.5   1   no\n",
              "3  b  orange   2  1.4   0  yes\n",
              "4  b   peach   2  2.1   0  yes\n",
              "5  c   peach   4  1.5   1  yes\n",
              "6  d   apple   1  3.0   1   no\n",
              "7  d  orange   2  2.0   0  yes"
            ]
          },
          "metadata": {
            "tags": []
          },
          "execution_count": 20
        }
      ]
    },
    {
      "cell_type": "code",
      "metadata": {
        "id": "L3pSQ7sDmnjt",
        "colab": {
          "base_uri": "https://localhost:8080/"
        },
        "outputId": "afb061da-4b70-4a82-a0bb-b7eaf158fce0"
      },
      "source": [
        "# 4.2 Transform to Spark DataFrame\n",
        "#     and print\n",
        "df = spark.createDataFrame(pdf)\n",
        "df.show()"
      ],
      "execution_count": 21,
      "outputs": [
        {
          "output_type": "stream",
          "text": [
            "+---+------+---+---+---+---+\n",
            "| x1|    x2| x3| x4| y1| y2|\n",
            "+---+------+---+---+---+---+\n",
            "|  a| apple|  1|2.4|  1|yes|\n",
            "|  a|orange|  1|2.5|  0| no|\n",
            "|  b|orange|  2|3.5|  1| no|\n",
            "|  b|orange|  2|1.4|  0|yes|\n",
            "|  b| peach|  2|2.1|  0|yes|\n",
            "|  c| peach|  4|1.5|  1|yes|\n",
            "|  d| apple|  1|3.0|  1| no|\n",
            "|  d|orange|  2|2.0|  0|yes|\n",
            "+---+------+---+---+---+---+\n",
            "\n"
          ],
          "name": "stdout"
        }
      ]
    },
    {
      "cell_type": "code",
      "metadata": {
        "id": "p91zAEU2qo9q",
        "colab": {
          "base_uri": "https://localhost:8080/"
        },
        "outputId": "b02f4f3b-9873-4ed5-c0de-5cb7d55dec4b"
      },
      "source": [
        "df1 = abc.createDataFrame(pdf)\n",
        "df1.show()"
      ],
      "execution_count": 22,
      "outputs": [
        {
          "output_type": "stream",
          "text": [
            "+---+------+---+---+---+---+\n",
            "| x1|    x2| x3| x4| y1| y2|\n",
            "+---+------+---+---+---+---+\n",
            "|  a| apple|  1|2.4|  1|yes|\n",
            "|  a|orange|  1|2.5|  0| no|\n",
            "|  b|orange|  2|3.5|  1| no|\n",
            "|  b|orange|  2|1.4|  0|yes|\n",
            "|  b| peach|  2|2.1|  0|yes|\n",
            "|  c| peach|  4|1.5|  1|yes|\n",
            "|  d| apple|  1|3.0|  1| no|\n",
            "|  d|orange|  2|2.0|  0|yes|\n",
            "+---+------+---+---+---+---+\n",
            "\n"
          ],
          "name": "stdout"
        }
      ]
    },
    {
      "cell_type": "code",
      "metadata": {
        "id": "sTjT6sQYbgz3"
      },
      "source": [
        "############"
      ],
      "execution_count": 23,
      "outputs": []
    },
    {
      "cell_type": "markdown",
      "metadata": {
        "id": "Zn3xhm6LdXvK"
      },
      "source": [
        "# Your experiments"
      ]
    },
    {
      "cell_type": "code",
      "metadata": {
        "id": "qpTXf5CwFhDt",
        "outputId": "dba528c1-9fd9-4898-a565-1d75f525a822",
        "colab": {
          "base_uri": "https://localhost:8080/"
        }
      },
      "source": [
        "from google.colab import drive\n",
        "drive.mount('/content/drive')"
      ],
      "execution_count": 24,
      "outputs": [
        {
          "output_type": "stream",
          "text": [
            "Mounted at /content/drive\n"
          ],
          "name": "stdout"
        }
      ]
    },
    {
      "cell_type": "code",
      "metadata": {
        "id": "s4zk5AxcSe6s"
      },
      "source": [
        "pathToFolder = \"/content/drive/MyDrive/healthcare-analytics/breast_cancer_wisconsin/\""
      ],
      "execution_count": 25,
      "outputs": []
    },
    {
      "cell_type": "code",
      "metadata": {
        "id": "iIqjW83OfmMq"
      },
      "source": [
        "# Get existing spark session using builder object\n",
        "abc = SparkSession.builder.getOrCreate()"
      ],
      "execution_count": 27,
      "outputs": []
    },
    {
      "cell_type": "code",
      "metadata": {
        "id": "pbF3f4b4fm8y",
        "colab": {
          "base_uri": "https://localhost:8080/",
          "height": 35
        },
        "outputId": "4b91a8ea-560a-4d97-e678-8148da110b49"
      },
      "source": [
        "abc.conf.get(\"spark.driver.memory\")"
      ],
      "execution_count": 28,
      "outputs": [
        {
          "output_type": "execute_result",
          "data": {
            "application/vnd.google.colaboratory.intrinsic+json": {
              "type": "string"
            },
            "text/plain": [
              "'1g'"
            ]
          },
          "metadata": {
            "tags": []
          },
          "execution_count": 28
        }
      ]
    },
    {
      "cell_type": "code",
      "metadata": {
        "id": "OrqJj2_rp0mg"
      },
      "source": [
        "df = spark.read.csv(\n",
        "                     pathToFolder+\"breast_cancer.csv\",\n",
        "                     header = True\n",
        "                     )"
      ],
      "execution_count": 29,
      "outputs": []
    },
    {
      "cell_type": "code",
      "metadata": {
        "id": "1FeKt1eruCDI",
        "colab": {
          "base_uri": "https://localhost:8080/"
        },
        "outputId": "ea0a1085-2aa4-41d3-d3dc-0a2c3ea05cf0"
      },
      "source": [
        "df.show(5)"
      ],
      "execution_count": 30,
      "outputs": [
        {
          "output_type": "stream",
          "text": [
            "+--------+---------+-----------+------------+--------------+---------+---------------+----------------+--------------+-------------------+-------------+----------------------+---------+----------+------------+-------+-------------+--------------+------------+-----------------+-----------+--------------------+------------+-------------+---------------+----------+----------------+-----------------+---------------+--------------------+--------------+-----------------------+----+\n",
            "|      id|diagnosis|radius_mean|texture_mean|perimeter_mean|area_mean|smoothness_mean|compactness_mean|concavity_mean|concave points_mean|symmetry_mean|fractal_dimension_mean|radius_se|texture_se|perimeter_se|area_se|smoothness_se|compactness_se|concavity_se|concave points_se|symmetry_se|fractal_dimension_se|radius_worst|texture_worst|perimeter_worst|area_worst|smoothness_worst|compactness_worst|concavity_worst|concave points_worst|symmetry_worst|fractal_dimension_worst|_c32|\n",
            "+--------+---------+-----------+------------+--------------+---------+---------------+----------------+--------------+-------------------+-------------+----------------------+---------+----------+------------+-------+-------------+--------------+------------+-----------------+-----------+--------------------+------------+-------------+---------------+----------+----------------+-----------------+---------------+--------------------+--------------+-----------------------+----+\n",
            "|  842302|        M|      17.99|       10.38|         122.8|     1001|         0.1184|          0.2776|        0.3001|             0.1471|       0.2419|               0.07871|    1.095|    0.9053|       8.589|  153.4|     0.006399|       0.04904|     0.05373|          0.01587|    0.03003|            0.006193|       25.38|        17.33|          184.6|      2019|          0.1622|           0.6656|         0.7119|              0.2654|        0.4601|                 0.1189|null|\n",
            "|  842517|        M|      20.57|       17.77|         132.9|     1326|        0.08474|         0.07864|        0.0869|            0.07017|       0.1812|               0.05667|   0.5435|    0.7339|       3.398|  74.08|     0.005225|       0.01308|      0.0186|           0.0134|    0.01389|            0.003532|       24.99|        23.41|          158.8|      1956|          0.1238|           0.1866|         0.2416|               0.186|         0.275|                0.08902|null|\n",
            "|84300903|        M|      19.69|       21.25|           130|     1203|         0.1096|          0.1599|        0.1974|             0.1279|       0.2069|               0.05999|   0.7456|    0.7869|       4.585|  94.03|      0.00615|       0.04006|     0.03832|          0.02058|     0.0225|            0.004571|       23.57|        25.53|          152.5|      1709|          0.1444|           0.4245|         0.4504|               0.243|        0.3613|                0.08758|null|\n",
            "|84348301|        M|      11.42|       20.38|         77.58|    386.1|         0.1425|          0.2839|        0.2414|             0.1052|       0.2597|               0.09744|   0.4956|     1.156|       3.445|  27.23|      0.00911|       0.07458|     0.05661|          0.01867|    0.05963|            0.009208|       14.91|         26.5|          98.87|     567.7|          0.2098|           0.8663|         0.6869|              0.2575|        0.6638|                  0.173|null|\n",
            "|84358402|        M|      20.29|       14.34|         135.1|     1297|         0.1003|          0.1328|         0.198|             0.1043|       0.1809|               0.05883|   0.7572|    0.7813|       5.438|  94.44|      0.01149|       0.02461|     0.05688|          0.01885|    0.01756|            0.005115|       22.54|        16.67|          152.2|      1575|          0.1374|            0.205|            0.4|              0.1625|        0.2364|                0.07678|null|\n",
            "+--------+---------+-----------+------------+--------------+---------+---------------+----------------+--------------+-------------------+-------------+----------------------+---------+----------+------------+-------+-------------+--------------+------------+-----------------+-----------+--------------------+------------+-------------+---------------+----------+----------------+-----------------+---------------+--------------------+--------------+-----------------------+----+\n",
            "only showing top 5 rows\n",
            "\n"
          ],
          "name": "stdout"
        }
      ]
    },
    {
      "cell_type": "code",
      "metadata": {
        "id": "duU5VmxDuKfi"
      },
      "source": [
        "df1 = df.sample(fraction = 0.5)\n",
        "df2 = df.sample(fraction = 0.5)"
      ],
      "execution_count": 31,
      "outputs": []
    },
    {
      "cell_type": "code",
      "metadata": {
        "id": "yYDS1oEXvp0R",
        "colab": {
          "base_uri": "https://localhost:8080/"
        },
        "outputId": "c0f998c6-8e12-43a6-872c-8f3038b3b75d"
      },
      "source": [
        "df1.head(4)"
      ],
      "execution_count": 32,
      "outputs": [
        {
          "output_type": "execute_result",
          "data": {
            "text/plain": [
              "[Row(id='842517', diagnosis='M', radius_mean='20.57', texture_mean='17.77', perimeter_mean='132.9', area_mean='1326', smoothness_mean='0.08474', compactness_mean='0.07864', concavity_mean='0.0869', concave points_mean='0.07017', symmetry_mean='0.1812', fractal_dimension_mean='0.05667', radius_se='0.5435', texture_se='0.7339', perimeter_se='3.398', area_se='74.08', smoothness_se='0.005225', compactness_se='0.01308', concavity_se='0.0186', concave points_se='0.0134', symmetry_se='0.01389', fractal_dimension_se='0.003532', radius_worst='24.99', texture_worst='23.41', perimeter_worst='158.8', area_worst='1956', smoothness_worst='0.1238', compactness_worst='0.1866', concavity_worst='0.2416', concave points_worst='0.186', symmetry_worst='0.275', fractal_dimension_worst='0.08902', _c32=None),\n",
              " Row(id='84348301', diagnosis='M', radius_mean='11.42', texture_mean='20.38', perimeter_mean='77.58', area_mean='386.1', smoothness_mean='0.1425', compactness_mean='0.2839', concavity_mean='0.2414', concave points_mean='0.1052', symmetry_mean='0.2597', fractal_dimension_mean='0.09744', radius_se='0.4956', texture_se='1.156', perimeter_se='3.445', area_se='27.23', smoothness_se='0.00911', compactness_se='0.07458', concavity_se='0.05661', concave points_se='0.01867', symmetry_se='0.05963', fractal_dimension_se='0.009208', radius_worst='14.91', texture_worst='26.5', perimeter_worst='98.87', area_worst='567.7', smoothness_worst='0.2098', compactness_worst='0.8663', concavity_worst='0.6869', concave points_worst='0.2575', symmetry_worst='0.6638', fractal_dimension_worst='0.173', _c32=None),\n",
              " Row(id='843786', diagnosis='M', radius_mean='12.45', texture_mean='15.7', perimeter_mean='82.57', area_mean='477.1', smoothness_mean='0.1278', compactness_mean='0.17', concavity_mean='0.1578', concave points_mean='0.08089', symmetry_mean='0.2087', fractal_dimension_mean='0.07613', radius_se='0.3345', texture_se='0.8902', perimeter_se='2.217', area_se='27.19', smoothness_se='0.00751', compactness_se='0.03345', concavity_se='0.03672', concave points_se='0.01137', symmetry_se='0.02165', fractal_dimension_se='0.005082', radius_worst='15.47', texture_worst='23.75', perimeter_worst='103.4', area_worst='741.6', smoothness_worst='0.1791', compactness_worst='0.5249', concavity_worst='0.5355', concave points_worst='0.1741', symmetry_worst='0.3985', fractal_dimension_worst='0.1244', _c32=None),\n",
              " Row(id='844359', diagnosis='M', radius_mean='18.25', texture_mean='19.98', perimeter_mean='119.6', area_mean='1040', smoothness_mean='0.09463', compactness_mean='0.109', concavity_mean='0.1127', concave points_mean='0.074', symmetry_mean='0.1794', fractal_dimension_mean='0.05742', radius_se='0.4467', texture_se='0.7732', perimeter_se='3.18', area_se='53.91', smoothness_se='0.004314', compactness_se='0.01382', concavity_se='0.02254', concave points_se='0.01039', symmetry_se='0.01369', fractal_dimension_se='0.002179', radius_worst='22.88', texture_worst='27.66', perimeter_worst='153.2', area_worst='1606', smoothness_worst='0.1442', compactness_worst='0.2576', concavity_worst='0.3784', concave points_worst='0.1932', symmetry_worst='0.3063', fractal_dimension_worst='0.08368', _c32=None)]"
            ]
          },
          "metadata": {
            "tags": []
          },
          "execution_count": 32
        }
      ]
    },
    {
      "cell_type": "code",
      "metadata": {
        "id": "8Uhqo_ydwUhg"
      },
      "source": [
        "df1.collect()"
      ],
      "execution_count": null,
      "outputs": []
    },
    {
      "cell_type": "code",
      "metadata": {
        "id": "3DSQKHmvwtv1",
        "colab": {
          "base_uri": "https://localhost:8080/"
        },
        "outputId": "acaee93e-06f2-4b21-e951-4e86baff7114"
      },
      "source": [
        "len(df1.columns)"
      ],
      "execution_count": null,
      "outputs": [
        {
          "output_type": "execute_result",
          "data": {
            "text/plain": [
              "31"
            ]
          },
          "metadata": {
            "tags": []
          },
          "execution_count": 30
        }
      ]
    },
    {
      "cell_type": "code",
      "metadata": {
        "id": "z4ioiyB7xPg2",
        "colab": {
          "base_uri": "https://localhost:8080/"
        },
        "outputId": "fabf5c47-34dc-414f-a7f6-9fa9a72a21fb"
      },
      "source": [
        "df1.summary().show()"
      ],
      "execution_count": 34,
      "outputs": [
        {
          "output_type": "stream",
          "text": [
            "+-------+--------------------+---------+------------------+------------------+------------------+-----------------+--------------------+-------------------+-------------------+-------------------+-------------------+----------------------+-------------------+------------------+-----------------+------------------+--------------------+--------------------+--------------------+--------------------+--------------------+--------------------+------------------+-----------------+------------------+-----------------+-------------------+-------------------+-------------------+--------------------+-------------------+-----------------------+----+\n",
            "|summary|                  id|diagnosis|       radius_mean|      texture_mean|    perimeter_mean|        area_mean|     smoothness_mean|   compactness_mean|     concavity_mean|concave points_mean|      symmetry_mean|fractal_dimension_mean|          radius_se|        texture_se|     perimeter_se|           area_se|       smoothness_se|      compactness_se|        concavity_se|   concave points_se|         symmetry_se|fractal_dimension_se|      radius_worst|    texture_worst|   perimeter_worst|       area_worst|   smoothness_worst|  compactness_worst|    concavity_worst|concave points_worst|     symmetry_worst|fractal_dimension_worst|_c32|\n",
            "+-------+--------------------+---------+------------------+------------------+------------------+-----------------+--------------------+-------------------+-------------------+-------------------+-------------------+----------------------+-------------------+------------------+-----------------+------------------+--------------------+--------------------+--------------------+--------------------+--------------------+--------------------+------------------+-----------------+------------------+-----------------+-------------------+-------------------+-------------------+--------------------+-------------------+-----------------------+----+\n",
            "|  count|                 274|      274|               274|               274|               274|              274|                 274|                274|                274|                274|                274|                   274|                274|               274|              274|               274|                 274|                 274|                 274|                 274|                 274|                 274|               274|              274|               274|              274|                274|                274|                274|                 274|                274|                    274|   0|\n",
            "|   mean| 3.179266706569343E7|     null|13.960364963503652|19.168832116788323| 90.75894160583942|640.0080291970798| 0.09605843065693434|0.10098846715328463|0.08214554014598545|0.04598049635036501|0.17939306569343055|    0.0628154744525547|0.39018722627737235| 1.188510218978102|2.773473357664236|38.503726277372294|0.006877715328467...|0.024175689781021914|0.030031959489051102| 0.01136518248175182|0.020725770072992717|0.003734288686131383|16.013135036496372|25.34901459854014|105.48715328467155|854.2605839416059| 0.1313738686131387|0.24261171532846695|0.25562523722627734| 0.10961371897810218|0.28917481751824825|    0.08353941605839413|null|\n",
            "| stddev|1.3269553903412111E8|     null|3.5308172125809714|4.2867295979224815|24.262623434931673|352.1788425664056|0.014022041835449665|0.04960273328446858|0.07382356360698064|0.03706928439961116|0.02621268579894481|  0.006834144664151741|  0.272611434924544|0.5539978329105167|2.032742807807761| 44.63957063287503|0.002963924395700264|0.016287951614077582| 0.02739341856376051|0.005860317258434808|0.008114194699020142|0.002393752659727423| 4.819666088172353|5.861880654958178| 33.39915932895886|561.1403638050223|0.02270122792012746|0.14392056530192995|0.20229615401441553| 0.06383618309550461|0.06377588151608249|    0.01660250414787201|null|\n",
            "|    min|              842517|        B|             10.03|             10.72|               100|             1006|             0.06251|            0.01938|                  0|                  0|              0.106|               0.05024|             0.1194|            0.3602|           0.9812|              10.5|            0.001713|            0.002252|                   0|                   0|            0.007882|           0.0008948|             10.01|            12.02|             100.3|             1021|            0.07117|            0.02729|                  0|                   0|             0.1565|                0.05504|null|\n",
            "|    25%|            866203.0|     null|             11.52|             16.21|             73.99|            406.3|             0.08597|            0.06141|            0.02688|            0.01915|             0.1632|                0.0578|             0.2241|            0.8285|            1.545|             17.74|             0.00502|             0.01263|             0.01453|            0.007096|             0.01518|            0.002153|             12.81|            20.92|             83.51|            496.2|             0.1148|              0.144|             0.1055|             0.06136|             0.2506|                0.07238|null|\n",
            "|    50%|            902975.0|     null|             13.01|             18.75|             84.18|            525.2|             0.09639|             0.0889|            0.05724|            0.03085|             0.1779|               0.06194|              0.306|             1.069|            2.203|             22.81|            0.006248|             0.01957|             0.02348|             0.01071|               0.019|            0.003187|             14.67|            25.47|             96.05|            656.7|             0.1311|             0.2101|             0.2151|             0.09678|             0.2829|                0.08022|null|\n",
            "|    75%|           8812844.0|     null|             15.27|              21.6|             100.0|            719.5|              0.1049|             0.1273|              0.118|            0.06759|             0.1949|               0.06612|             0.4426|              1.46|            3.176|             40.09|            0.007997|             0.03206|             0.04029|             0.01471|              0.0237|            0.004584|             17.73|            28.94|             119.1|            973.1|             0.1436|             0.3124|             0.3538|              0.1565|             0.3157|                0.09215|null|\n",
            "|    max|              926125|        M|             9.876|              9.71|             99.58|            998.9|              0.1634|             0.2839|             0.3368|             0.1913|             0.2743|               0.09744|              2.873|             4.885|            8.867|             97.85|             0.03113|              0.1064|              0.3038|              0.0409|             0.05963|             0.02286|             9.968|            44.87|             99.71|            988.6|             0.2184|             0.9379|              1.252|              0.2867|             0.6638|                  0.173|null|\n",
            "+-------+--------------------+---------+------------------+------------------+------------------+-----------------+--------------------+-------------------+-------------------+-------------------+-------------------+----------------------+-------------------+------------------+-----------------+------------------+--------------------+--------------------+--------------------+--------------------+--------------------+--------------------+------------------+-----------------+------------------+-----------------+-------------------+-------------------+-------------------+--------------------+-------------------+-----------------------+----+\n",
            "\n"
          ],
          "name": "stdout"
        }
      ]
    },
    {
      "cell_type": "code",
      "metadata": {
        "id": "qiHqyoYGxRn3",
        "colab": {
          "base_uri": "https://localhost:8080/"
        },
        "outputId": "a9dacb24-7736-4a5a-b354-e25329642d17"
      },
      "source": [
        "print(df1.schema)"
      ],
      "execution_count": null,
      "outputs": [
        {
          "output_type": "stream",
          "text": [
            "StructType(List(StructField(diagnosis,StringType,true),StructField(radius_mean,StringType,true),StructField(texture_mean,StringType,true),StructField(perimeter_mean,StringType,true),StructField(area_mean,StringType,true),StructField(smoothness_mean,StringType,true),StructField(compactness_mean,StringType,true),StructField(concavity_mean,StringType,true),StructField(concave_points_mean,StringType,true),StructField(symmetry_mean,StringType,true),StructField(fractal_dimension_mean,StringType,true),StructField(radius_se,StringType,true),StructField(texture_se,StringType,true),StructField(perimeter_se,StringType,true),StructField(area_se,StringType,true),StructField(smoothness_se,StringType,true),StructField(compactness_se,StringType,true),StructField(concavity_se,StringType,true),StructField(concave_points_se,StringType,true),StructField(symmetry_se,StringType,true),StructField(fractal_dimension_se,StringType,true),StructField(radius_worst,StringType,true),StructField(texture_worst,StringType,true),StructField(perimeter_worst,StringType,true),StructField(area_worst,StringType,true),StructField(smoothness_worst,StringType,true),StructField(compactness_worst,StringType,true),StructField(concavity_worst,StringType,true),StructField(concave_points_worst,StringType,true),StructField(symmetry_worst,StringType,true),StructField(fractal_dimension_worst,StringType,true)))\n"
          ],
          "name": "stdout"
        }
      ]
    },
    {
      "cell_type": "code",
      "metadata": {
        "id": "SiUfxoHUyNt5",
        "colab": {
          "base_uri": "https://localhost:8080/"
        },
        "outputId": "17bbd1d7-c66b-4097-c19c-30cd3b212eb9"
      },
      "source": [
        "df1.describe().show()"
      ],
      "execution_count": null,
      "outputs": [
        {
          "output_type": "stream",
          "text": [
            "+-------+-------------------+------------------+-----------------+------------------+------------------+-------------------+-------------------+-------------------+-------------------+-------------------+----------------------+-------------------+------------------+------------------+-----------------+--------------------+--------------------+--------------------+--------------------+--------------------+--------------------+------------------+------------------+------------------+-----------------+-------------------+-------------------+-------------------+--------------------+-------------------+-----------------------+\n",
            "|summary|          diagnosis|       radius_mean|     texture_mean|    perimeter_mean|         area_mean|    smoothness_mean|   compactness_mean|     concavity_mean|concave_points_mean|      symmetry_mean|fractal_dimension_mean|          radius_se|        texture_se|      perimeter_se|          area_se|       smoothness_se|      compactness_se|        concavity_se|   concave_points_se|         symmetry_se|fractal_dimension_se|      radius_worst|     texture_worst|   perimeter_worst|       area_worst|   smoothness_worst|  compactness_worst|    concavity_worst|concave_points_worst|     symmetry_worst|fractal_dimension_worst|\n",
            "+-------+-------------------+------------------+-----------------+------------------+------------------+-------------------+-------------------+-------------------+-------------------+-------------------+----------------------+-------------------+------------------+------------------+-----------------+--------------------+--------------------+--------------------+--------------------+--------------------+--------------------+------------------+------------------+------------------+-----------------+-------------------+-------------------+-------------------+--------------------+-------------------+-----------------------+\n",
            "|  count|                284|               284|              284|               284|               284|                284|                284|                284|                284|                284|                   284|                284|               284|               284|              284|                 284|                 284|                 284|                 284|                 284|                 284|               284|               284|               284|              284|                284|                284|                284|                 284|                284|                    284|\n",
            "|   mean|0.38028169014084506|14.190225352112675|19.48109154929578| 92.29024647887317| 658.0968309859156|0.09593489436619722|0.10236366197183099|0.08638257992957746|0.04855973591549297|0.17815985915492963|   0.06249193661971829|  0.392426408450704| 1.221938028169014| 2.744973591549297|38.64550000000002|0.006960880281690144|0.023830221830985925|0.029511924647887326| 0.01132731338028169| 0.01957597535211267|0.003639799295774648|16.373228873239437|26.012007042253508|107.63059859154924|887.6693661971833|0.13253288732394367| 0.2525753873239436| 0.2681345704225353|  0.1153099366197183|0.28639330985915507|    0.08418711267605634|\n",
            "| stddev|  0.486312938062693| 3.436532406487548| 4.57402157434941|23.626830654875345|333.55357157973407|0.01417760034628244|0.05341629684064613|0.07827952943645514|0.03790182074107148|0.02553210010299071|  0.007013739276525632|0.24053273185822838|0.5646402491736761|1.6541260464360055|35.42149263429898|0.003105514774378...|0.015841491373493933|0.026898792544792795|0.005742027406665837|0.007319652666272313|0.002238416131132141| 4.736409270515022|6.3164284525125405| 32.54972936865338|541.9420573368992|0.02266037188187156|0.15793492197645237|0.20896498790681664|  0.0669692151743633|0.06022234882367214|   0.018277936556919606|\n",
            "|    min|                  0|             10.03|            10.38|             100.3|              1001|            0.05263|             0.0265|                  0|                  0|              0.106|               0.04996|             0.1144|            0.3602|            0.8439|            10.08|            0.002667|             0.00371|                   0|                   0|            0.009947|           0.0008948|             10.17|             12.02|             100.9|             1021|            0.08409|            0.04327|                  0|                   0|             0.1566|                0.05521|\n",
            "|    max|                  1|             9.876|             9.71|             99.58|             998.9|             0.1634|             0.3114|             0.4268|             0.2012|             0.2655|               0.09744|              1.509|             3.896|             9.807|            99.04|             0.03113|             0.09806|              0.3038|             0.03927|             0.06146|             0.02193|             9.733|             49.54|             99.71|            993.6|             0.2098|              1.058|              1.252|              0.2903|             0.6638|                 0.2075|\n",
            "+-------+-------------------+------------------+-----------------+------------------+------------------+-------------------+-------------------+-------------------+-------------------+-------------------+----------------------+-------------------+------------------+------------------+-----------------+--------------------+--------------------+--------------------+--------------------+--------------------+--------------------+------------------+------------------+------------------+-----------------+-------------------+-------------------+-------------------+--------------------+-------------------+-----------------------+\n",
            "\n"
          ],
          "name": "stdout"
        }
      ]
    },
    {
      "cell_type": "code",
      "metadata": {
        "id": "LzNQSebvy4Ne",
        "colab": {
          "base_uri": "https://localhost:8080/",
          "height": 461
        },
        "outputId": "7bfdb585-08e2-4423-f0cc-7df61b86c860"
      },
      "source": [
        "df1.toPandas()"
      ],
      "execution_count": 51,
      "outputs": [
        {
          "output_type": "execute_result",
          "data": {
            "text/html": [
              "<div>\n",
              "<style scoped>\n",
              "    .dataframe tbody tr th:only-of-type {\n",
              "        vertical-align: middle;\n",
              "    }\n",
              "\n",
              "    .dataframe tbody tr th {\n",
              "        vertical-align: top;\n",
              "    }\n",
              "\n",
              "    .dataframe thead th {\n",
              "        text-align: right;\n",
              "    }\n",
              "</style>\n",
              "<table border=\"1\" class=\"dataframe\">\n",
              "  <thead>\n",
              "    <tr style=\"text-align: right;\">\n",
              "      <th></th>\n",
              "      <th>id</th>\n",
              "      <th>diagnosis</th>\n",
              "      <th>radius_mean</th>\n",
              "      <th>texture_mean</th>\n",
              "      <th>perimeter_mean</th>\n",
              "      <th>area_mean</th>\n",
              "      <th>smoothness_mean</th>\n",
              "      <th>compactness_mean</th>\n",
              "      <th>concavity_mean</th>\n",
              "      <th>concave points_mean</th>\n",
              "      <th>symmetry_mean</th>\n",
              "      <th>fractal_dimension_mean</th>\n",
              "      <th>radius_se</th>\n",
              "      <th>texture_se</th>\n",
              "      <th>perimeter_se</th>\n",
              "      <th>area_se</th>\n",
              "      <th>smoothness_se</th>\n",
              "      <th>compactness_se</th>\n",
              "      <th>concavity_se</th>\n",
              "      <th>concave points_se</th>\n",
              "      <th>symmetry_se</th>\n",
              "      <th>fractal_dimension_se</th>\n",
              "      <th>radius_worst</th>\n",
              "      <th>texture_worst</th>\n",
              "      <th>perimeter_worst</th>\n",
              "      <th>area_worst</th>\n",
              "      <th>smoothness_worst</th>\n",
              "      <th>compactness_worst</th>\n",
              "      <th>concavity_worst</th>\n",
              "      <th>concave points_worst</th>\n",
              "      <th>symmetry_worst</th>\n",
              "      <th>fractal_dimension_worst</th>\n",
              "      <th>_c32</th>\n",
              "    </tr>\n",
              "  </thead>\n",
              "  <tbody>\n",
              "    <tr>\n",
              "      <th>0</th>\n",
              "      <td>84300903</td>\n",
              "      <td>M</td>\n",
              "      <td>19.69</td>\n",
              "      <td>21.25</td>\n",
              "      <td>130</td>\n",
              "      <td>1203</td>\n",
              "      <td>0.1096</td>\n",
              "      <td>0.1599</td>\n",
              "      <td>0.1974</td>\n",
              "      <td>0.1279</td>\n",
              "      <td>0.2069</td>\n",
              "      <td>0.05999</td>\n",
              "      <td>0.7456</td>\n",
              "      <td>0.7869</td>\n",
              "      <td>4.585</td>\n",
              "      <td>94.03</td>\n",
              "      <td>0.00615</td>\n",
              "      <td>0.04006</td>\n",
              "      <td>0.03832</td>\n",
              "      <td>0.02058</td>\n",
              "      <td>0.0225</td>\n",
              "      <td>0.004571</td>\n",
              "      <td>23.57</td>\n",
              "      <td>25.53</td>\n",
              "      <td>152.5</td>\n",
              "      <td>1709</td>\n",
              "      <td>0.1444</td>\n",
              "      <td>0.4245</td>\n",
              "      <td>0.4504</td>\n",
              "      <td>0.243</td>\n",
              "      <td>0.3613</td>\n",
              "      <td>0.08758</td>\n",
              "      <td>None</td>\n",
              "    </tr>\n",
              "    <tr>\n",
              "      <th>1</th>\n",
              "      <td>844359</td>\n",
              "      <td>M</td>\n",
              "      <td>18.25</td>\n",
              "      <td>19.98</td>\n",
              "      <td>119.6</td>\n",
              "      <td>1040</td>\n",
              "      <td>0.09463</td>\n",
              "      <td>0.109</td>\n",
              "      <td>0.1127</td>\n",
              "      <td>0.074</td>\n",
              "      <td>0.1794</td>\n",
              "      <td>0.05742</td>\n",
              "      <td>0.4467</td>\n",
              "      <td>0.7732</td>\n",
              "      <td>3.18</td>\n",
              "      <td>53.91</td>\n",
              "      <td>0.004314</td>\n",
              "      <td>0.01382</td>\n",
              "      <td>0.02254</td>\n",
              "      <td>0.01039</td>\n",
              "      <td>0.01369</td>\n",
              "      <td>0.002179</td>\n",
              "      <td>22.88</td>\n",
              "      <td>27.66</td>\n",
              "      <td>153.2</td>\n",
              "      <td>1606</td>\n",
              "      <td>0.1442</td>\n",
              "      <td>0.2576</td>\n",
              "      <td>0.3784</td>\n",
              "      <td>0.1932</td>\n",
              "      <td>0.3063</td>\n",
              "      <td>0.08368</td>\n",
              "      <td>None</td>\n",
              "    </tr>\n",
              "    <tr>\n",
              "      <th>2</th>\n",
              "      <td>84458202</td>\n",
              "      <td>M</td>\n",
              "      <td>13.71</td>\n",
              "      <td>20.83</td>\n",
              "      <td>90.2</td>\n",
              "      <td>577.9</td>\n",
              "      <td>0.1189</td>\n",
              "      <td>0.1645</td>\n",
              "      <td>0.09366</td>\n",
              "      <td>0.05985</td>\n",
              "      <td>0.2196</td>\n",
              "      <td>0.07451</td>\n",
              "      <td>0.5835</td>\n",
              "      <td>1.377</td>\n",
              "      <td>3.856</td>\n",
              "      <td>50.96</td>\n",
              "      <td>0.008805</td>\n",
              "      <td>0.03029</td>\n",
              "      <td>0.02488</td>\n",
              "      <td>0.01448</td>\n",
              "      <td>0.01486</td>\n",
              "      <td>0.005412</td>\n",
              "      <td>17.06</td>\n",
              "      <td>28.14</td>\n",
              "      <td>110.6</td>\n",
              "      <td>897</td>\n",
              "      <td>0.1654</td>\n",
              "      <td>0.3682</td>\n",
              "      <td>0.2678</td>\n",
              "      <td>0.1556</td>\n",
              "      <td>0.3196</td>\n",
              "      <td>0.1151</td>\n",
              "      <td>None</td>\n",
              "    </tr>\n",
              "    <tr>\n",
              "      <th>3</th>\n",
              "      <td>844981</td>\n",
              "      <td>M</td>\n",
              "      <td>13</td>\n",
              "      <td>21.82</td>\n",
              "      <td>87.5</td>\n",
              "      <td>519.8</td>\n",
              "      <td>0.1273</td>\n",
              "      <td>0.1932</td>\n",
              "      <td>0.1859</td>\n",
              "      <td>0.09353</td>\n",
              "      <td>0.235</td>\n",
              "      <td>0.07389</td>\n",
              "      <td>0.3063</td>\n",
              "      <td>1.002</td>\n",
              "      <td>2.406</td>\n",
              "      <td>24.32</td>\n",
              "      <td>0.005731</td>\n",
              "      <td>0.03502</td>\n",
              "      <td>0.03553</td>\n",
              "      <td>0.01226</td>\n",
              "      <td>0.02143</td>\n",
              "      <td>0.003749</td>\n",
              "      <td>15.49</td>\n",
              "      <td>30.73</td>\n",
              "      <td>106.2</td>\n",
              "      <td>739.3</td>\n",
              "      <td>0.1703</td>\n",
              "      <td>0.5401</td>\n",
              "      <td>0.539</td>\n",
              "      <td>0.206</td>\n",
              "      <td>0.4378</td>\n",
              "      <td>0.1072</td>\n",
              "      <td>None</td>\n",
              "    </tr>\n",
              "    <tr>\n",
              "      <th>4</th>\n",
              "      <td>84501001</td>\n",
              "      <td>M</td>\n",
              "      <td>12.46</td>\n",
              "      <td>24.04</td>\n",
              "      <td>83.97</td>\n",
              "      <td>475.9</td>\n",
              "      <td>0.1186</td>\n",
              "      <td>0.2396</td>\n",
              "      <td>0.2273</td>\n",
              "      <td>0.08543</td>\n",
              "      <td>0.203</td>\n",
              "      <td>0.08243</td>\n",
              "      <td>0.2976</td>\n",
              "      <td>1.599</td>\n",
              "      <td>2.039</td>\n",
              "      <td>23.94</td>\n",
              "      <td>0.007149</td>\n",
              "      <td>0.07217</td>\n",
              "      <td>0.07743</td>\n",
              "      <td>0.01432</td>\n",
              "      <td>0.01789</td>\n",
              "      <td>0.01008</td>\n",
              "      <td>15.09</td>\n",
              "      <td>40.68</td>\n",
              "      <td>97.65</td>\n",
              "      <td>711.4</td>\n",
              "      <td>0.1853</td>\n",
              "      <td>1.058</td>\n",
              "      <td>1.105</td>\n",
              "      <td>0.221</td>\n",
              "      <td>0.4366</td>\n",
              "      <td>0.2075</td>\n",
              "      <td>None</td>\n",
              "    </tr>\n",
              "    <tr>\n",
              "      <th>...</th>\n",
              "      <td>...</td>\n",
              "      <td>...</td>\n",
              "      <td>...</td>\n",
              "      <td>...</td>\n",
              "      <td>...</td>\n",
              "      <td>...</td>\n",
              "      <td>...</td>\n",
              "      <td>...</td>\n",
              "      <td>...</td>\n",
              "      <td>...</td>\n",
              "      <td>...</td>\n",
              "      <td>...</td>\n",
              "      <td>...</td>\n",
              "      <td>...</td>\n",
              "      <td>...</td>\n",
              "      <td>...</td>\n",
              "      <td>...</td>\n",
              "      <td>...</td>\n",
              "      <td>...</td>\n",
              "      <td>...</td>\n",
              "      <td>...</td>\n",
              "      <td>...</td>\n",
              "      <td>...</td>\n",
              "      <td>...</td>\n",
              "      <td>...</td>\n",
              "      <td>...</td>\n",
              "      <td>...</td>\n",
              "      <td>...</td>\n",
              "      <td>...</td>\n",
              "      <td>...</td>\n",
              "      <td>...</td>\n",
              "      <td>...</td>\n",
              "      <td>...</td>\n",
              "    </tr>\n",
              "    <tr>\n",
              "      <th>275</th>\n",
              "      <td>925311</td>\n",
              "      <td>B</td>\n",
              "      <td>11.2</td>\n",
              "      <td>29.37</td>\n",
              "      <td>70.67</td>\n",
              "      <td>386</td>\n",
              "      <td>0.07449</td>\n",
              "      <td>0.03558</td>\n",
              "      <td>0</td>\n",
              "      <td>0</td>\n",
              "      <td>0.106</td>\n",
              "      <td>0.05502</td>\n",
              "      <td>0.3141</td>\n",
              "      <td>3.896</td>\n",
              "      <td>2.041</td>\n",
              "      <td>22.81</td>\n",
              "      <td>0.007594</td>\n",
              "      <td>0.008878</td>\n",
              "      <td>0</td>\n",
              "      <td>0</td>\n",
              "      <td>0.01989</td>\n",
              "      <td>0.001773</td>\n",
              "      <td>11.92</td>\n",
              "      <td>38.3</td>\n",
              "      <td>75.19</td>\n",
              "      <td>439.6</td>\n",
              "      <td>0.09267</td>\n",
              "      <td>0.05494</td>\n",
              "      <td>0</td>\n",
              "      <td>0</td>\n",
              "      <td>0.1566</td>\n",
              "      <td>0.05905</td>\n",
              "      <td>None</td>\n",
              "    </tr>\n",
              "    <tr>\n",
              "      <th>276</th>\n",
              "      <td>925622</td>\n",
              "      <td>M</td>\n",
              "      <td>15.22</td>\n",
              "      <td>30.62</td>\n",
              "      <td>103.4</td>\n",
              "      <td>716.9</td>\n",
              "      <td>0.1048</td>\n",
              "      <td>0.2087</td>\n",
              "      <td>0.255</td>\n",
              "      <td>0.09429</td>\n",
              "      <td>0.2128</td>\n",
              "      <td>0.07152</td>\n",
              "      <td>0.2602</td>\n",
              "      <td>1.205</td>\n",
              "      <td>2.362</td>\n",
              "      <td>22.65</td>\n",
              "      <td>0.004625</td>\n",
              "      <td>0.04844</td>\n",
              "      <td>0.07359</td>\n",
              "      <td>0.01608</td>\n",
              "      <td>0.02137</td>\n",
              "      <td>0.006142</td>\n",
              "      <td>17.52</td>\n",
              "      <td>42.79</td>\n",
              "      <td>128.7</td>\n",
              "      <td>915</td>\n",
              "      <td>0.1417</td>\n",
              "      <td>0.7917</td>\n",
              "      <td>1.17</td>\n",
              "      <td>0.2356</td>\n",
              "      <td>0.4089</td>\n",
              "      <td>0.1409</td>\n",
              "      <td>None</td>\n",
              "    </tr>\n",
              "    <tr>\n",
              "      <th>277</th>\n",
              "      <td>926125</td>\n",
              "      <td>M</td>\n",
              "      <td>20.92</td>\n",
              "      <td>25.09</td>\n",
              "      <td>143</td>\n",
              "      <td>1347</td>\n",
              "      <td>0.1099</td>\n",
              "      <td>0.2236</td>\n",
              "      <td>0.3174</td>\n",
              "      <td>0.1474</td>\n",
              "      <td>0.2149</td>\n",
              "      <td>0.06879</td>\n",
              "      <td>0.9622</td>\n",
              "      <td>1.026</td>\n",
              "      <td>8.758</td>\n",
              "      <td>118.8</td>\n",
              "      <td>0.006399</td>\n",
              "      <td>0.0431</td>\n",
              "      <td>0.07845</td>\n",
              "      <td>0.02624</td>\n",
              "      <td>0.02057</td>\n",
              "      <td>0.006213</td>\n",
              "      <td>24.29</td>\n",
              "      <td>29.41</td>\n",
              "      <td>179.1</td>\n",
              "      <td>1819</td>\n",
              "      <td>0.1407</td>\n",
              "      <td>0.4186</td>\n",
              "      <td>0.6599</td>\n",
              "      <td>0.2542</td>\n",
              "      <td>0.2929</td>\n",
              "      <td>0.09873</td>\n",
              "      <td>None</td>\n",
              "    </tr>\n",
              "    <tr>\n",
              "      <th>278</th>\n",
              "      <td>926424</td>\n",
              "      <td>M</td>\n",
              "      <td>21.56</td>\n",
              "      <td>22.39</td>\n",
              "      <td>142</td>\n",
              "      <td>1479</td>\n",
              "      <td>0.111</td>\n",
              "      <td>0.1159</td>\n",
              "      <td>0.2439</td>\n",
              "      <td>0.1389</td>\n",
              "      <td>0.1726</td>\n",
              "      <td>0.05623</td>\n",
              "      <td>1.176</td>\n",
              "      <td>1.256</td>\n",
              "      <td>7.673</td>\n",
              "      <td>158.7</td>\n",
              "      <td>0.0103</td>\n",
              "      <td>0.02891</td>\n",
              "      <td>0.05198</td>\n",
              "      <td>0.02454</td>\n",
              "      <td>0.01114</td>\n",
              "      <td>0.004239</td>\n",
              "      <td>25.45</td>\n",
              "      <td>26.4</td>\n",
              "      <td>166.1</td>\n",
              "      <td>2027</td>\n",
              "      <td>0.141</td>\n",
              "      <td>0.2113</td>\n",
              "      <td>0.4107</td>\n",
              "      <td>0.2216</td>\n",
              "      <td>0.206</td>\n",
              "      <td>0.07115</td>\n",
              "      <td>None</td>\n",
              "    </tr>\n",
              "    <tr>\n",
              "      <th>279</th>\n",
              "      <td>927241</td>\n",
              "      <td>M</td>\n",
              "      <td>20.6</td>\n",
              "      <td>29.33</td>\n",
              "      <td>140.1</td>\n",
              "      <td>1265</td>\n",
              "      <td>0.1178</td>\n",
              "      <td>0.277</td>\n",
              "      <td>0.3514</td>\n",
              "      <td>0.152</td>\n",
              "      <td>0.2397</td>\n",
              "      <td>0.07016</td>\n",
              "      <td>0.726</td>\n",
              "      <td>1.595</td>\n",
              "      <td>5.772</td>\n",
              "      <td>86.22</td>\n",
              "      <td>0.006522</td>\n",
              "      <td>0.06158</td>\n",
              "      <td>0.07117</td>\n",
              "      <td>0.01664</td>\n",
              "      <td>0.02324</td>\n",
              "      <td>0.006185</td>\n",
              "      <td>25.74</td>\n",
              "      <td>39.42</td>\n",
              "      <td>184.6</td>\n",
              "      <td>1821</td>\n",
              "      <td>0.165</td>\n",
              "      <td>0.8681</td>\n",
              "      <td>0.9387</td>\n",
              "      <td>0.265</td>\n",
              "      <td>0.4087</td>\n",
              "      <td>0.124</td>\n",
              "      <td>None</td>\n",
              "    </tr>\n",
              "  </tbody>\n",
              "</table>\n",
              "<p>280 rows × 33 columns</p>\n",
              "</div>"
            ],
            "text/plain": [
              "           id diagnosis  ... fractal_dimension_worst  _c32\n",
              "0    84300903         M  ...                 0.08758  None\n",
              "1      844359         M  ...                 0.08368  None\n",
              "2    84458202         M  ...                  0.1151  None\n",
              "3      844981         M  ...                  0.1072  None\n",
              "4    84501001         M  ...                  0.2075  None\n",
              "..        ...       ...  ...                     ...   ...\n",
              "275    925311         B  ...                 0.05905  None\n",
              "276    925622         M  ...                  0.1409  None\n",
              "277    926125         M  ...                 0.09873  None\n",
              "278    926424         M  ...                 0.07115  None\n",
              "279    927241         M  ...                   0.124  None\n",
              "\n",
              "[280 rows x 33 columns]"
            ]
          },
          "metadata": {
            "tags": []
          },
          "execution_count": 51
        }
      ]
    },
    {
      "cell_type": "code",
      "metadata": {
        "id": "SKJOw6hzzGRt",
        "colab": {
          "base_uri": "https://localhost:8080/"
        },
        "outputId": "3770074d-0079-4642-bd15-c187c48e48e8"
      },
      "source": [
        "df1.count()"
      ],
      "execution_count": null,
      "outputs": [
        {
          "output_type": "execute_result",
          "data": {
            "text/plain": [
              "284"
            ]
          },
          "metadata": {
            "tags": []
          },
          "execution_count": 35
        }
      ]
    },
    {
      "cell_type": "code",
      "metadata": {
        "id": "-n-aNDk70wHy",
        "colab": {
          "base_uri": "https://localhost:8080/"
        },
        "outputId": "9c8e8770-40a3-4376-f7a6-d9650337e9bc"
      },
      "source": [
        "df1.crosstab(\"radius_mean\", \"texture_mean\").show()"
      ],
      "execution_count": null,
      "outputs": [
        {
          "output_type": "stream",
          "text": [
            "+------------------------+-----+-----+-----+-----+-----+-----+-----+-----+-----+-----+-----+-----+-----+-----+-----+-----+----+-----+-----+-----+-----+-----+-----+-----+-----+-----+-----+-----+-----+-----+-----+-----+-----+-----+----+-----+-----+-----+-----+----+-----+-----+-----+-----+-----+-----+-----+----+-----+-----+-----+-----+-----+-----+-----+-----+-----+-----+-----+-----+-----+-----+-----+-----+-----+-----+-----+-----+-----+-----+-----+-----+-----+---+-----+-----+-----+-----+-----+-----+-----+-----+----+-----+-----+-----+-----+-----+-----+-----+-----+-----+-----+-----+-----+-----+-----+-----+-----+-----+-----+-----+-----+-----+-----+----+-----+-----+-----+-----+-----+----+-----+-----+----+-----+-----+-----+----+-----+-----+----+-----+-----+-----+-----+-----+-----+-----+-----+-----+-----+-----+-----+-----+-----+-----+-----+----+-----+-----+-----+-----+-----+-----+-----+-----+-----+-----+-----+-----+-----+-----+-----+----+-----+-----+-----+-----+-----+-----+-----+-----+-----+-----+-----+----+-----+-----+-----+-----+-----+-----+-----+-----+-----+-----+-----+-----+-----+-----+-----+-----+-----+-----+----+----+-----+-----+-----+-----+-----+-----+-----+-----+-----+-----+-----+----+-----+-----+-----+-----+-----+-----+-----+-----+-----+----+-----+-----+-----+-----+-----+-----+-----+-----+-----+-----+-----+-----+-----+-----+-----+-----+-----+-----+-----+-----+-----+-----+-----+-----+-----+-----+-----+-----+-----+-----+-----+-----+-----+-----+-----+-----+----+-----+-----+-----+-----+-----+-----+-----+-----+-----+-----+-----+-----+-----+-----+----+\n",
            "|radius_mean_texture_mean|10.38|10.72|10.89|10.91|11.28|11.79|11.97|12.17|12.22|12.39|12.44|12.74|12.87|12.96|13.04|13.06|13.1|13.12|13.16|13.17|13.23|13.29|13.32|13.37|13.43|13.44|13.72|13.84|13.93|14.06|14.08|14.09|14.16|14.36|14.4|14.59|14.64|14.65|14.69|14.7|14.78|14.86|14.92|14.93|14.96|14.97|15.05|15.1|15.11|15.21|15.51|15.68|15.69|15.71|15.86|15.92|15.98|16.02|16.03|16.15|16.16|16.35|16.39|16.49|16.52|16.54|16.58|16.62|16.67|16.68|16.82|16.84|16.95| 17|17.02|17.08|17.12|17.15|17.18|17.19|17.25|17.27|17.3|17.31|17.33|17.36|17.39|17.43|17.46|17.48|17.52|17.53|17.56|17.57|17.62|17.64|17.67|17.68|17.72|17.77|17.89|17.92|17.94|18.03|18.07|18.1|18.14|18.15|18.17|18.18|18.22|18.3|18.33|18.36|18.4|18.42|18.57|18.59|18.6|18.61|18.77|18.8|18.84|18.87|18.91|18.94|19.08|19.11|19.22|19.24|19.29|19.31|19.32|19.34|19.35|19.48|19.54|19.56|19.6|19.62|19.63|19.65|19.66|19.76|19.77|19.82|19.83|19.86|19.94|19.97|19.98|20.02|20.04|20.11|20.2|20.21|20.25|20.28|20.31|20.38|20.52|20.53|20.58|20.66|20.67|20.68|20.7|20.74|20.76|20.82|20.83|20.86|20.97|21.02|21.24|21.28|21.31|21.41|21.43|21.46|21.51|21.53|21.54|21.56|21.59|21.6|21.7|21.72|21.81|21.82|21.84|22.02|22.04|22.11|22.14|22.15|22.22|22.28|22.3|22.33|22.39|22.41|22.53|22.55|22.72|22.91|23.03|23.09|23.2|23.24|23.29|23.33|23.56|23.81|23.84|23.86|23.93|23.97|24.02|24.04|24.44|24.48|24.49|24.52|24.54|24.59|24.68|24.99|25.22|25.25|25.42|25.49|25.56|25.74|26.47|26.57|26.67|26.86|27.08|27.61|27.81|27.85|27.88|28.03|28.06|28.2|28.21|28.23|28.25|28.77|28.92|29.29|29.33|29.37|29.81|29.97|30.72|32.47|33.56|39.28|9.71|\n",
            "+------------------------+-----+-----+-----+-----+-----+-----+-----+-----+-----+-----+-----+-----+-----+-----+-----+-----+----+-----+-----+-----+-----+-----+-----+-----+-----+-----+-----+-----+-----+-----+-----+-----+-----+-----+----+-----+-----+-----+-----+----+-----+-----+-----+-----+-----+-----+-----+----+-----+-----+-----+-----+-----+-----+-----+-----+-----+-----+-----+-----+-----+-----+-----+-----+-----+-----+-----+-----+-----+-----+-----+-----+-----+---+-----+-----+-----+-----+-----+-----+-----+-----+----+-----+-----+-----+-----+-----+-----+-----+-----+-----+-----+-----+-----+-----+-----+-----+-----+-----+-----+-----+-----+-----+-----+----+-----+-----+-----+-----+-----+----+-----+-----+----+-----+-----+-----+----+-----+-----+----+-----+-----+-----+-----+-----+-----+-----+-----+-----+-----+-----+-----+-----+-----+-----+-----+----+-----+-----+-----+-----+-----+-----+-----+-----+-----+-----+-----+-----+-----+-----+-----+----+-----+-----+-----+-----+-----+-----+-----+-----+-----+-----+-----+----+-----+-----+-----+-----+-----+-----+-----+-----+-----+-----+-----+-----+-----+-----+-----+-----+-----+-----+----+----+-----+-----+-----+-----+-----+-----+-----+-----+-----+-----+-----+----+-----+-----+-----+-----+-----+-----+-----+-----+-----+----+-----+-----+-----+-----+-----+-----+-----+-----+-----+-----+-----+-----+-----+-----+-----+-----+-----+-----+-----+-----+-----+-----+-----+-----+-----+-----+-----+-----+-----+-----+-----+-----+-----+-----+-----+-----+----+-----+-----+-----+-----+-----+-----+-----+-----+-----+-----+-----+-----+-----+-----+----+\n",
            "|                   9.668|    0|    0|    0|    0|    0|    0|    0|    0|    0|    0|    0|    0|    0|    0|    0|    0|   0|    0|    0|    0|    0|    0|    0|    0|    0|    0|    0|    0|    0|    0|    0|    0|    0|    0|   0|    0|    0|    0|    0|   0|    0|    0|    0|    0|    0|    0|    0|   0|    0|    0|    0|    0|    0|    0|    0|    0|    0|    0|    0|    0|    0|    0|    0|    0|    0|    0|    0|    0|    0|    0|    0|    0|    0|  0|    0|    0|    0|    0|    0|    0|    0|    0|   0|    0|    0|    0|    0|    0|    0|    0|    0|    0|    0|    0|    0|    0|    0|    0|    0|    0|    0|    0|    0|    0|    0|   1|    0|    0|    0|    0|    0|   0|    0|    0|   0|    0|    0|    0|   0|    0|    0|   0|    0|    0|    0|    0|    0|    0|    0|    0|    0|    0|    0|    0|    0|    0|    0|    0|   0|    0|    0|    0|    0|    0|    0|    0|    0|    0|    0|    0|    0|    0|    0|    0|   0|    0|    0|    0|    0|    0|    0|    0|    0|    0|    0|    0|   0|    0|    0|    0|    0|    0|    0|    0|    0|    0|    0|    0|    0|    0|    0|    0|    0|    0|    0|   0|   0|    0|    0|    0|    0|    0|    0|    0|    0|    0|    0|    0|   0|    0|    0|    0|    0|    0|    0|    0|    0|    0|   0|    0|    0|    0|    0|    0|    0|    0|    0|    0|    0|    0|    0|    0|    0|    0|    0|    0|    0|    0|    0|    0|    0|    0|    0|    0|    0|    0|    0|    0|    0|    0|    0|    0|    0|    0|    0|   0|    0|    0|    0|    0|    0|    0|    0|    0|    0|    0|    0|    0|    0|    0|   0|\n",
            "|                    7.76|    0|    0|    0|    0|    0|    0|    0|    0|    0|    0|    0|    0|    0|    0|    0|    0|   0|    0|    0|    0|    0|    0|    0|    0|    0|    0|    0|    0|    0|    0|    0|    0|    0|    0|   0|    0|    0|    0|    0|   0|    0|    0|    0|    0|    0|    0|    0|   0|    0|    0|    0|    0|    0|    0|    0|    0|    0|    0|    0|    0|    0|    0|    0|    0|    0|    0|    0|    0|    0|    0|    0|    0|    0|  0|    0|    0|    0|    0|    0|    0|    0|    0|   0|    0|    0|    0|    0|    0|    0|    0|    0|    0|    0|    0|    0|    0|    0|    0|    0|    0|    0|    0|    0|    0|    0|   0|    0|    0|    0|    0|    0|   0|    0|    0|   0|    0|    0|    0|   0|    0|    0|   0|    0|    0|    0|    0|    0|    0|    0|    0|    0|    0|    0|    0|    0|    0|    0|    0|   0|    0|    0|    0|    0|    0|    0|    0|    0|    0|    0|    0|    0|    0|    0|    0|   0|    0|    0|    0|    0|    0|    0|    0|    0|    0|    0|    0|   0|    0|    0|    0|    0|    0|    0|    0|    0|    0|    0|    0|    0|    0|    0|    0|    0|    0|    0|   0|   0|    0|    0|    0|    0|    0|    0|    0|    0|    0|    0|    0|   0|    0|    0|    0|    0|    0|    0|    0|    0|    0|   0|    0|    0|    0|    0|    0|    0|    0|    0|    0|    0|    0|    0|    0|    0|    0|    1|    0|    0|    0|    0|    0|    0|    0|    0|    0|    0|    0|    0|    0|    0|    0|    0|    0|    0|    0|    0|   0|    0|    0|    0|    0|    0|    0|    0|    0|    0|    0|    0|    0|    0|    0|   0|\n",
            "|                   13.46|    0|    0|    0|    0|    0|    0|    0|    0|    0|    0|    0|    0|    0|    0|    0|    0|   0|    0|    0|    0|    0|    0|    0|    0|    0|    0|    0|    0|    0|    0|    0|    0|    0|    0|   0|    0|    0|    0|    0|   0|    0|    0|    0|    0|    0|    0|    0|   0|    0|    0|    0|    0|    0|    0|    0|    0|    0|    0|    0|    0|    0|    0|    0|    0|    0|    0|    0|    0|    0|    0|    0|    0|    0|  0|    0|    0|    0|    0|    0|    0|    0|    0|   0|    0|    0|    0|    0|    0|    0|    0|    0|    0|    0|    0|    0|    0|    0|    0|    0|    0|    0|    0|    0|    0|    0|   0|    0|    0|    0|    0|    0|   0|    0|    0|   0|    0|    0|    0|   0|    0|    0|   0|    0|    0|    0|    0|    0|    0|    0|    0|    0|    0|    0|    0|    0|    0|    0|    0|   0|    0|    0|    0|    0|    0|    0|    0|    0|    0|    0|    0|    0|    0|    0|    0|   0|    0|    0|    0|    0|    0|    0|    0|    0|    0|    0|    0|   0|    0|    0|    0|    0|    0|    0|    0|    0|    0|    0|    0|    0|    0|    0|    0|    0|    0|    0|   0|   0|    0|    0|    0|    0|    0|    0|    0|    0|    0|    0|    0|   0|    0|    0|    0|    0|    0|    0|    0|    0|    0|   0|    0|    0|    0|    0|    0|    0|    0|    0|    0|    0|    0|    0|    0|    0|    0|    0|    0|    0|    0|    0|    0|    0|    0|    0|    0|    0|    0|    0|    0|    0|    0|    0|    0|    0|    0|    0|   0|    1|    0|    0|    0|    0|    0|    0|    0|    0|    0|    0|    0|    0|    0|   0|\n",
            "|                   14.22|    0|    0|    0|    0|    0|    0|    0|    0|    0|    0|    0|    0|    0|    0|    0|    0|   0|    0|    0|    0|    0|    0|    0|    0|    0|    0|    0|    0|    0|    0|    0|    0|    0|    0|   0|    0|    0|    0|    0|   0|    0|    0|    0|    0|    0|    0|    0|   0|    0|    0|    0|    0|    0|    0|    0|    0|    0|    0|    0|    0|    0|    0|    0|    0|    0|    0|    0|    0|    0|    0|    0|    0|    0|  0|    0|    0|    0|    0|    0|    0|    0|    0|   0|    0|    0|    0|    0|    0|    0|    0|    0|    0|    0|    0|    0|    0|    0|    0|    0|    0|    0|    0|    0|    0|    0|   0|    0|    0|    0|    0|    0|   0|    0|    0|   0|    0|    0|    0|   0|    0|    0|   0|    0|    0|    0|    0|    0|    0|    0|    0|    0|    0|    0|    0|    0|    0|    0|    0|   0|    0|    0|    0|    0|    0|    0|    0|    0|    0|    0|    0|    0|    0|    0|    0|   0|    0|    0|    0|    0|    0|    0|    0|    0|    0|    0|    0|   0|    0|    0|    0|    0|    0|    0|    0|    0|    0|    0|    0|    0|    0|    0|    0|    0|    0|    0|   0|   0|    0|    0|    0|    0|    0|    0|    0|    0|    0|    0|    0|   0|    0|    0|    0|    0|    0|    0|    0|    0|    0|   0|    0|    0|    0|    0|    0|    0|    0|    0|    0|    0|    0|    0|    0|    0|    0|    0|    0|    0|    0|    0|    0|    0|    0|    0|    0|    0|    0|    0|    0|    0|    0|    0|    1|    0|    0|    0|   0|    0|    0|    0|    0|    0|    0|    0|    0|    0|    0|    0|    0|    0|    0|   0|\n",
            "|                   12.43|    0|    0|    0|    0|    0|    0|    0|    0|    0|    0|    0|    0|    0|    0|    0|    0|   0|    0|    0|    0|    0|    0|    0|    0|    0|    0|    0|    0|    0|    0|    0|    0|    0|    0|   0|    0|    0|    0|    0|   0|    0|    0|    0|    0|    0|    0|    0|   0|    0|    0|    0|    0|    0|    0|    0|    0|    0|    0|    0|    0|    0|    0|    0|    0|    0|    0|    0|    0|    0|    0|    0|    0|    0|  1|    0|    0|    0|    0|    0|    0|    0|    0|   0|    0|    0|    0|    0|    0|    0|    0|    0|    0|    0|    0|    0|    0|    0|    0|    0|    0|    0|    0|    0|    0|    0|   0|    0|    0|    0|    0|    0|   0|    0|    0|   0|    0|    0|    0|   0|    0|    0|   0|    0|    0|    0|    0|    0|    0|    0|    0|    0|    0|    0|    0|    0|    0|    0|    0|   0|    0|    0|    0|    0|    0|    0|    0|    0|    0|    0|    0|    0|    0|    0|    0|   0|    0|    0|    0|    0|    0|    0|    0|    0|    0|    0|    0|   0|    0|    0|    0|    0|    0|    0|    0|    0|    0|    0|    0|    0|    0|    0|    0|    0|    0|    0|   0|   0|    0|    0|    0|    0|    0|    0|    0|    0|    0|    0|    0|   0|    0|    0|    0|    0|    0|    0|    0|    0|    0|   0|    0|    0|    0|    0|    0|    0|    0|    0|    0|    0|    0|    0|    0|    0|    0|    0|    0|    0|    0|    0|    0|    0|    0|    0|    0|    0|    0|    0|    0|    0|    0|    0|    0|    0|    0|    0|   0|    0|    0|    0|    0|    0|    0|    0|    0|    0|    0|    0|    0|    0|    0|   0|\n",
            "|                   12.21|    0|    0|    0|    0|    0|    0|    0|    0|    0|    0|    0|    0|    0|    0|    0|    0|   0|    0|    0|    0|    0|    0|    0|    0|    0|    0|    0|    0|    0|    0|    0|    1|    0|    0|   0|    0|    0|    0|    0|   0|    0|    0|    0|    0|    0|    0|    0|   0|    0|    0|    0|    0|    0|    0|    0|    0|    0|    0|    0|    0|    0|    0|    0|    0|    0|    0|    0|    0|    0|    0|    0|    0|    0|  0|    0|    0|    0|    0|    0|    0|    0|    0|   0|    0|    0|    0|    0|    0|    0|    0|    0|    0|    0|    0|    0|    0|    0|    0|    0|    0|    0|    0|    0|    0|    0|   0|    0|    0|    0|    0|    0|   0|    0|    0|   0|    0|    0|    0|   0|    0|    0|   0|    0|    0|    0|    0|    0|    0|    0|    0|    0|    0|    0|    0|    0|    0|    0|    0|   0|    0|    0|    0|    0|    0|    0|    0|    0|    0|    0|    0|    0|    0|    0|    0|   0|    0|    0|    0|    0|    0|    0|    0|    0|    0|    0|    0|   0|    0|    0|    0|    0|    0|    0|    0|    0|    0|    0|    0|    0|    0|    0|    0|    0|    0|    0|   0|   0|    0|    0|    0|    0|    0|    0|    0|    0|    0|    0|    0|   0|    0|    0|    0|    0|    0|    0|    0|    0|    0|   0|    0|    0|    0|    0|    0|    0|    0|    0|    0|    0|    0|    0|    0|    0|    0|    0|    0|    0|    0|    0|    0|    0|    0|    0|    0|    0|    0|    0|    0|    0|    0|    0|    0|    0|    0|    0|   0|    0|    0|    0|    0|    0|    0|    0|    0|    0|    0|    0|    0|    0|    0|   0|\n",
            "|                    10.8|    0|    0|    0|    0|    0|    0|    0|    0|    0|    0|    0|    0|    0|    0|    0|    0|   0|    0|    0|    0|    0|    0|    0|    0|    0|    0|    0|    0|    0|    0|    0|    0|    0|    0|   0|    0|    0|    0|    0|   0|    0|    0|    0|    0|    0|    0|    0|   0|    0|    0|    0|    0|    0|    0|    0|    0|    0|    0|    0|    0|    0|    0|    0|    0|    0|    0|    0|    0|    0|    0|    0|    0|    0|  0|    0|    0|    0|    0|    0|    0|    0|    0|   0|    0|    0|    0|    0|    0|    0|    0|    0|    0|    0|    0|    0|    0|    0|    0|    0|    0|    0|    0|    0|    0|    0|   0|    0|    0|    0|    0|    0|   0|    0|    0|   0|    0|    0|    0|   0|    0|    0|   0|    0|    0|    0|    0|    0|    0|    0|    0|    0|    0|    0|    0|    0|    0|    0|    0|   0|    0|    0|    0|    0|    0|    0|    0|    0|    0|    0|    0|    0|    0|    0|    0|   0|    0|    0|    0|    0|    0|    0|    0|    0|    0|    0|    0|   0|    0|    0|    0|    0|    0|    0|    0|    0|    0|    0|    0|    0|    0|    0|    0|    0|    0|    0|   0|   0|    0|    0|    0|    0|    0|    0|    0|    0|    0|    0|    0|   0|    0|    0|    0|    0|    0|    0|    0|    0|    0|   0|    0|    0|    0|    0|    0|    0|    0|    0|    0|    0|    0|    0|    0|    0|    0|    0|    0|    0|    0|    0|    0|    0|    0|    0|    0|    0|    0|    0|    0|    0|    0|    0|    0|    0|    0|    0|   0|    0|    0|    0|    0|    0|    0|    0|    0|    0|    0|    0|    0|    0|    0|   1|\n",
            "|                   6.981|    0|    0|    0|    0|    0|    0|    0|    0|    0|    0|    0|    0|    0|    0|    0|    0|   0|    0|    0|    0|    0|    0|    0|    0|    1|    0|    0|    0|    0|    0|    0|    0|    0|    0|   0|    0|    0|    0|    0|   0|    0|    0|    0|    0|    0|    0|    0|   0|    0|    0|    0|    0|    0|    0|    0|    0|    0|    0|    0|    0|    0|    0|    0|    0|    0|    0|    0|    0|    0|    0|    0|    0|    0|  0|    0|    0|    0|    0|    0|    0|    0|    0|   0|    0|    0|    0|    0|    0|    0|    0|    0|    0|    0|    0|    0|    0|    0|    0|    0|    0|    0|    0|    0|    0|    0|   0|    0|    0|    0|    0|    0|   0|    0|    0|   0|    0|    0|    0|   0|    0|    0|   0|    0|    0|    0|    0|    0|    0|    0|    0|    0|    0|    0|    0|    0|    0|    0|    0|   0|    0|    0|    0|    0|    0|    0|    0|    0|    0|    0|    0|    0|    0|    0|    0|   0|    0|    0|    0|    0|    0|    0|    0|    0|    0|    0|    0|   0|    0|    0|    0|    0|    0|    0|    0|    0|    0|    0|    0|    0|    0|    0|    0|    0|    0|    0|   0|   0|    0|    0|    0|    0|    0|    0|    0|    0|    0|    0|    0|   0|    0|    0|    0|    0|    0|    0|    0|    0|    0|   0|    0|    0|    0|    0|    0|    0|    0|    0|    0|    0|    0|    0|    0|    0|    0|    0|    0|    0|    0|    0|    0|    0|    0|    0|    0|    0|    0|    0|    0|    0|    0|    0|    0|    0|    0|    0|   0|    0|    0|    0|    0|    0|    0|    0|    0|    0|    0|    0|    0|    0|    0|   0|\n",
            "|                   10.29|    0|    0|    0|    0|    0|    0|    0|    0|    0|    0|    0|    0|    0|    0|    0|    0|   0|    0|    0|    0|    0|    0|    0|    0|    0|    0|    0|    0|    0|    0|    0|    0|    0|    0|   0|    0|    0|    0|    0|   0|    0|    0|    0|    0|    0|    0|    0|   0|    0|    0|    0|    0|    0|    0|    0|    0|    0|    0|    0|    0|    0|    0|    0|    0|    0|    0|    0|    0|    0|    0|    0|    0|    0|  0|    0|    0|    0|    0|    0|    0|    0|    0|   0|    0|    0|    0|    0|    0|    0|    0|    0|    0|    0|    0|    0|    0|    0|    0|    0|    0|    0|    0|    0|    0|    0|   0|    0|    0|    0|    0|    0|   0|    0|    0|   0|    0|    0|    0|   0|    0|    0|   0|    0|    0|    0|    0|    0|    0|    0|    0|    0|    0|    0|    0|    0|    0|    0|    0|   0|    0|    0|    0|    0|    0|    0|    0|    0|    0|    0|    0|    0|    0|    0|    0|   0|    0|    0|    0|    0|    0|    0|    0|    0|    0|    0|    0|   0|    0|    0|    0|    0|    0|    0|    0|    0|    0|    0|    0|    0|    0|    0|    0|    0|    0|    0|   0|   0|    0|    0|    0|    0|    0|    0|    0|    0|    0|    0|    0|   0|    0|    0|    0|    0|    0|    0|    0|    0|    0|   0|    0|    0|    0|    0|    0|    0|    0|    0|    0|    0|    0|    0|    0|    0|    0|    0|    0|    0|    0|    0|    0|    0|    0|    0|    0|    0|    0|    0|    0|    0|    1|    0|    0|    0|    0|    0|   0|    0|    0|    0|    0|    0|    0|    0|    0|    0|    0|    0|    0|    0|    0|   0|\n",
            "|                   12.32|    0|    0|    0|    0|    0|    0|    0|    0|    0|    1|    0|    0|    0|    0|    0|    0|   0|    0|    0|    0|    0|    0|    0|    0|    0|    0|    0|    0|    0|    0|    0|    0|    0|    0|   0|    0|    0|    0|    0|   0|    0|    0|    0|    0|    0|    0|    0|   0|    0|    0|    0|    0|    0|    0|    0|    0|    0|    0|    0|    0|    0|    0|    0|    0|    0|    0|    0|    0|    0|    0|    0|    0|    0|  0|    0|    0|    0|    0|    0|    0|    0|    0|   0|    0|    0|    0|    0|    0|    0|    0|    0|    0|    0|    0|    0|    0|    0|    0|    0|    0|    0|    0|    0|    0|    0|   0|    0|    0|    0|    0|    0|   0|    0|    0|   0|    0|    0|    0|   0|    0|    0|   0|    0|    0|    0|    0|    0|    0|    0|    0|    0|    0|    0|    0|    0|    0|    0|    0|   0|    0|    0|    0|    0|    0|    0|    0|    0|    0|    0|    0|    0|    0|    0|    0|   0|    0|    0|    0|    0|    0|    0|    0|    0|    0|    0|    0|   0|    0|    0|    0|    0|    0|    0|    0|    0|    0|    0|    0|    0|    0|    0|    0|    0|    0|    0|   0|   0|    0|    0|    0|    0|    0|    0|    0|    0|    0|    0|    0|   0|    0|    0|    0|    0|    0|    0|    0|    0|    0|   0|    0|    0|    0|    0|    0|    0|    0|    0|    0|    0|    0|    0|    0|    0|    0|    0|    0|    0|    0|    0|    0|    0|    0|    0|    0|    0|    0|    0|    0|    0|    0|    0|    0|    0|    0|    0|   0|    0|    0|    0|    0|    0|    0|    0|    0|    0|    0|    0|    0|    0|    0|   0|\n",
            "|                   14.71|    0|    0|    0|    0|    0|    0|    0|    0|    0|    0|    0|    0|    0|    0|    0|    0|   0|    0|    0|    0|    0|    0|    0|    0|    0|    0|    0|    0|    0|    0|    0|    0|    0|    0|   0|    0|    0|    0|    0|   0|    0|    0|    0|    0|    0|    0|    0|   0|    0|    0|    0|    0|    0|    0|    0|    0|    0|    0|    0|    0|    0|    0|    0|    0|    0|    0|    0|    0|    0|    0|    0|    0|    0|  0|    0|    0|    0|    0|    0|    0|    0|    0|   0|    0|    0|    0|    0|    0|    0|    0|    0|    0|    0|    0|    0|    0|    0|    0|    0|    0|    0|    0|    0|    0|    0|   0|    0|    0|    0|    0|    0|   0|    0|    0|   0|    0|    0|    0|   0|    0|    0|   0|    0|    0|    0|    0|    0|    0|    0|    0|    0|    0|    0|    0|    0|    0|    0|    0|   0|    0|    0|    0|    0|    0|    0|    0|    0|    0|    0|    0|    0|    0|    0|    0|   0|    0|    0|    0|    0|    0|    0|    0|    0|    0|    0|    0|   0|    0|    0|    0|    0|    0|    0|    0|    0|    0|    0|    0|    0|    0|    0|    0|    0|    0|    1|   0|   0|    0|    0|    0|    0|    0|    0|    0|    0|    0|    0|    0|   0|    0|    0|    0|    0|    0|    0|    0|    0|    0|   0|    0|    0|    0|    0|    0|    0|    0|    0|    0|    0|    0|    0|    0|    0|    0|    0|    0|    0|    0|    0|    0|    0|    0|    0|    0|    0|    0|    0|    0|    0|    0|    0|    0|    0|    0|    0|   0|    0|    0|    0|    0|    0|    0|    0|    0|    0|    0|    0|    0|    0|    0|   0|\n",
            "|                      12|    0|    0|    0|    0|    0|    0|    0|    0|    0|    0|    0|    0|    0|    0|    0|    0|   0|    0|    0|    0|    0|    0|    0|    0|    0|    0|    0|    0|    0|    0|    0|    0|    0|    0|   0|    0|    0|    0|    0|   0|    0|    0|    0|    0|    0|    0|    0|   0|    0|    0|    0|    0|    0|    0|    0|    0|    0|    0|    0|    0|    0|    0|    0|    0|    0|    0|    0|    0|    0|    0|    0|    0|    0|  0|    0|    0|    0|    0|    0|    0|    0|    0|   0|    0|    0|    0|    0|    0|    0|    0|    0|    0|    0|    0|    0|    0|    0|    0|    0|    0|    0|    0|    0|    0|    0|   0|    0|    0|    0|    0|    0|   0|    0|    0|   0|    0|    0|    0|   0|    0|    0|   0|    0|    0|    0|    0|    0|    0|    0|    0|    0|    0|    0|    0|    0|    0|    0|    0|   0|    0|    0|    0|    0|    0|    0|    0|    0|    0|    0|    0|    0|    0|    0|    0|   0|    0|    0|    0|    0|    0|    0|    0|    0|    0|    0|    0|   0|    0|    0|    0|    0|    0|    0|    0|    0|    0|    0|    0|    0|    0|    0|    0|    0|    0|    0|   0|   0|    0|    0|    0|    0|    0|    0|    0|    0|    0|    0|    0|   0|    0|    0|    0|    0|    0|    0|    0|    0|    0|   0|    0|    0|    0|    0|    0|    0|    0|    0|    0|    0|    0|    0|    0|    0|    0|    0|    0|    0|    0|    0|    0|    0|    0|    0|    0|    0|    0|    0|    0|    0|    0|    0|    0|    0|    0|    0|   0|    0|    1|    0|    0|    0|    0|    0|    0|    0|    0|    0|    0|    0|    0|   0|\n",
            "|                   11.75|    0|    0|    0|    0|    0|    0|    0|    0|    0|    0|    0|    0|    0|    0|    0|    0|   0|    0|    0|    0|    0|    0|    0|    0|    0|    0|    0|    0|    0|    0|    0|    0|    0|    0|   0|    0|    0|    0|    0|   0|    0|    0|    0|    0|    0|    0|    0|   0|    0|    0|    0|    0|    0|    0|    0|    0|    0|    0|    0|    0|    0|    0|    0|    0|    0|    0|    0|    0|    0|    0|    0|    0|    0|  0|    0|    0|    0|    0|    0|    0|    0|    0|   0|    0|    0|    0|    0|    0|    0|    0|    0|    0|    1|    0|    0|    0|    0|    0|    0|    0|    0|    0|    0|    0|    0|   0|    0|    0|    0|    0|    0|   0|    0|    0|   0|    0|    0|    0|   0|    0|    0|   0|    0|    0|    0|    0|    0|    0|    0|    0|    0|    0|    0|    0|    0|    0|    0|    0|   0|    0|    0|    0|    0|    0|    0|    0|    0|    0|    0|    0|    0|    0|    0|    0|   0|    0|    0|    0|    0|    0|    0|    0|    0|    0|    0|    0|   0|    0|    0|    0|    0|    0|    0|    0|    0|    0|    0|    0|    0|    0|    0|    0|    0|    0|    0|   0|   0|    0|    0|    0|    0|    0|    0|    0|    0|    0|    0|    0|   0|    0|    0|    0|    0|    0|    0|    0|    0|    0|   0|    0|    0|    0|    0|    0|    0|    0|    0|    0|    0|    0|    0|    0|    0|    0|    0|    0|    0|    0|    0|    0|    0|    0|    0|    0|    0|    0|    0|    0|    0|    0|    0|    0|    0|    0|    0|   0|    0|    0|    0|    0|    0|    0|    0|    0|    0|    0|    0|    0|    0|    0|   0|\n",
            "|                   14.62|    0|    0|    0|    0|    0|    0|    0|    0|    0|    0|    0|    0|    0|    0|    0|    0|   0|    0|    0|    0|    0|    0|    0|    0|    0|    0|    0|    0|    0|    0|    0|    0|    0|    0|   0|    0|    0|    0|    0|   0|    0|    0|    0|    0|    0|    0|    0|   0|    0|    0|    0|    0|    0|    0|    0|    0|    0|    0|    0|    0|    0|    0|    0|    0|    0|    0|    0|    0|    0|    0|    0|    0|    0|  0|    0|    0|    0|    0|    0|    0|    0|    0|   0|    0|    0|    0|    0|    0|    0|    0|    0|    0|    0|    0|    0|    0|    0|    0|    0|    0|    0|    0|    0|    0|    0|   0|    0|    0|    0|    0|    0|   0|    0|    0|   0|    0|    0|    0|   0|    0|    0|   0|    0|    0|    0|    0|    0|    0|    0|    0|    0|    0|    0|    0|    0|    0|    0|    0|   0|    0|    0|    0|    0|    0|    0|    0|    0|    0|    0|    0|    0|    0|    0|    0|   0|    0|    0|    0|    0|    0|    0|    0|    0|    0|    0|    0|   0|    0|    0|    0|    0|    0|    0|    0|    0|    0|    0|    0|    0|    0|    0|    0|    0|    0|    0|   0|   0|    0|    0|    0|    0|    0|    0|    0|    0|    0|    0|    0|   0|    0|    0|    0|    0|    0|    0|    0|    0|    0|   0|    0|    0|    0|    0|    0|    0|    0|    0|    0|    1|    0|    0|    0|    0|    0|    0|    0|    0|    0|    0|    0|    0|    0|    0|    0|    0|    0|    0|    0|    0|    0|    0|    0|    0|    0|    0|   0|    0|    0|    0|    0|    0|    0|    0|    0|    0|    0|    0|    0|    0|    0|   0|\n",
            "|                   20.26|    0|    0|    0|    0|    0|    0|    0|    0|    0|    0|    0|    0|    0|    0|    0|    0|   0|    0|    0|    0|    0|    0|    0|    0|    0|    0|    0|    0|    0|    0|    0|    0|    0|    0|   0|    0|    0|    0|    0|   0|    0|    0|    0|    0|    0|    0|    0|   0|    0|    0|    0|    0|    0|    0|    0|    0|    0|    0|    0|    0|    0|    0|    0|    0|    0|    0|    0|    0|    0|    0|    0|    0|    0|  0|    0|    0|    0|    0|    0|    0|    0|    0|   0|    0|    0|    0|    0|    0|    0|    0|    0|    0|    0|    0|    0|    0|    0|    0|    0|    0|    0|    0|    0|    0|    0|   0|    0|    0|    0|    0|    0|   0|    0|    0|   0|    0|    0|    0|   0|    0|    0|   0|    0|    0|    0|    0|    0|    0|    0|    0|    0|    0|    0|    0|    0|    0|    0|    0|   0|    0|    0|    0|    0|    0|    0|    0|    0|    0|    0|    0|    0|    0|    0|    0|   0|    0|    0|    0|    0|    0|    0|    0|    0|    0|    0|    0|   0|    0|    0|    0|    0|    0|    0|    0|    0|    0|    0|    0|    0|    0|    0|    0|    0|    0|    0|   0|   0|    0|    0|    0|    0|    0|    0|    0|    0|    0|    0|    0|   0|    0|    0|    0|    0|    0|    0|    0|    1|    0|   0|    0|    0|    0|    0|    0|    0|    0|    0|    0|    0|    0|    0|    0|    0|    0|    0|    0|    0|    0|    0|    0|    0|    0|    0|    0|    0|    0|    0|    0|    0|    0|    0|    0|    0|    0|    0|   0|    0|    0|    0|    0|    0|    0|    0|    0|    0|    0|    0|    0|    0|    0|   0|\n",
            "|                   11.69|    0|    0|    0|    0|    0|    0|    0|    0|    0|    0|    0|    0|    0|    0|    0|    0|   0|    0|    0|    0|    0|    0|    0|    0|    0|    0|    0|    0|    0|    0|    0|    0|    0|    0|   0|    0|    0|    0|    0|   0|    0|    0|    0|    0|    0|    0|    0|   0|    0|    0|    0|    0|    0|    0|    0|    0|    0|    0|    0|    0|    0|    0|    0|    0|    0|    0|    0|    0|    0|    0|    0|    0|    0|  0|    0|    0|    0|    0|    0|    0|    0|    0|   0|    0|    0|    0|    0|    0|    0|    0|    0|    0|    0|    0|    0|    0|    0|    0|    0|    0|    0|    0|    0|    0|    0|   0|    0|    0|    0|    0|    0|   0|    0|    0|   0|    0|    0|    0|   0|    0|    0|   0|    0|    0|    0|    0|    0|    0|    0|    0|    0|    0|    0|    0|    0|    0|    0|    0|   0|    0|    0|    0|    0|    0|    0|    0|    0|    0|    0|    0|    0|    0|    0|    0|   0|    0|    0|    0|    0|    0|    0|    0|    0|    0|    0|    0|   0|    0|    0|    0|    0|    0|    0|    0|    0|    0|    0|    0|    0|    0|    0|    0|    0|    0|    0|   0|   0|    0|    0|    0|    0|    0|    0|    0|    0|    0|    0|    0|   0|    0|    0|    0|    0|    0|    0|    0|    0|    0|   0|    0|    0|    0|    0|    0|    0|    0|    0|    0|    0|    0|    1|    0|    0|    0|    0|    0|    0|    0|    0|    0|    0|    0|    0|    0|    0|    0|    0|    0|    0|    0|    0|    0|    0|    0|    0|   0|    0|    0|    0|    0|    0|    0|    0|    0|    0|    0|    0|    0|    0|    0|   0|\n",
            "|                   12.58|    0|    0|    0|    0|    0|    0|    0|    0|    0|    0|    0|    0|    0|    0|    0|    0|   0|    0|    0|    0|    0|    0|    0|    0|    0|    0|    0|    0|    0|    0|    0|    0|    0|    0|   0|    0|    0|    0|    0|   0|    0|    0|    0|    0|    0|    0|    0|   0|    0|    0|    0|    0|    0|    0|    0|    0|    0|    0|    0|    0|    0|    0|    0|    0|    0|    0|    0|    0|    0|    0|    0|    0|    0|  0|    0|    0|    0|    0|    0|    0|    0|    0|   0|    0|    0|    0|    0|    0|    0|    0|    0|    0|    0|    0|    0|    0|    0|    0|    0|    0|    0|    0|    0|    0|    0|   0|    0|    0|    0|    0|    0|   0|    0|    0|   1|    0|    0|    0|   0|    0|    0|   0|    0|    0|    0|    0|    0|    0|    0|    0|    0|    0|    0|    0|    0|    0|    0|    0|   0|    0|    0|    0|    0|    0|    0|    0|    0|    0|    0|    0|    0|    0|    0|    0|   0|    0|    0|    0|    0|    0|    0|    0|    0|    0|    0|    0|   0|    0|    0|    0|    0|    0|    0|    0|    0|    0|    0|    0|    0|    0|    0|    0|    0|    0|    0|   0|   0|    0|    0|    0|    0|    0|    0|    0|    0|    0|    0|    0|   0|    0|    0|    0|    0|    0|    0|    0|    0|    0|   0|    0|    0|    0|    0|    0|    0|    0|    0|    0|    0|    0|    0|    0|    0|    0|    0|    0|    0|    0|    0|    0|    0|    0|    0|    0|    0|    0|    0|    0|    0|    0|    0|    0|    0|    0|    0|   0|    0|    0|    0|    0|    0|    0|    0|    0|    0|    0|    0|    0|    0|    0|   0|\n",
            "|                   14.27|    0|    0|    0|    0|    0|    0|    0|    0|    0|    0|    0|    0|    0|    0|    0|    0|   0|    0|    0|    0|    0|    0|    0|    0|    0|    0|    0|    0|    0|    0|    0|    0|    0|    0|   0|    0|    0|    0|    0|   0|    0|    0|    0|    0|    0|    0|    0|   0|    0|    0|    0|    0|    0|    0|    0|    0|    0|    0|    0|    0|    0|    0|    0|    0|    0|    0|    0|    0|    0|    0|    0|    0|    0|  0|    0|    0|    0|    0|    0|    0|    0|    0|   0|    0|    0|    0|    0|    0|    0|    0|    0|    0|    0|    0|    0|    0|    0|    0|    0|    0|    0|    0|    0|    0|    0|   0|    0|    0|    0|    0|    0|   0|    0|    0|   0|    0|    0|    0|   0|    0|    0|   0|    0|    0|    0|    0|    0|    0|    0|    0|    0|    0|    0|    0|    0|    0|    0|    0|   0|    0|    0|    0|    0|    0|    0|    0|    0|    0|    0|    0|    0|    0|    0|    0|   0|    0|    0|    0|    0|    0|    0|    0|    0|    0|    0|    0|   0|    0|    0|    0|    0|    0|    0|    0|    0|    0|    0|    0|    0|    0|    0|    0|    0|    0|    0|   0|   0|    0|    0|    0|    0|    0|    0|    0|    0|    0|    0|    0|   0|    0|    0|    0|    0|    1|    0|    0|    0|    0|   0|    0|    0|    0|    0|    0|    0|    0|    0|    0|    0|    0|    0|    0|    0|    0|    0|    0|    0|    0|    0|    0|    0|    0|    0|    0|    0|    0|    0|    0|    0|    0|    0|    0|    0|    0|    0|   0|    0|    0|    0|    0|    0|    0|    0|    0|    0|    0|    0|    0|    0|    0|   0|\n",
            "|                   20.58|    0|    0|    0|    0|    0|    0|    0|    0|    0|    0|    0|    0|    0|    0|    0|    0|   0|    0|    0|    0|    0|    0|    0|    0|    0|    0|    0|    0|    0|    0|    0|    0|    0|    0|   0|    0|    0|    0|    0|   0|    0|    0|    0|    0|    0|    0|    0|   0|    0|    0|    0|    0|    0|    0|    0|    0|    0|    0|    0|    0|    0|    0|    0|    0|    0|    0|    0|    0|    0|    0|    0|    0|    0|  0|    0|    0|    0|    0|    0|    0|    0|    0|   0|    0|    0|    0|    0|    0|    0|    0|    0|    0|    0|    0|    0|    0|    0|    0|    0|    0|    0|    0|    0|    0|    0|   0|    0|    0|    0|    0|    0|   0|    0|    0|   0|    0|    0|    0|   0|    0|    0|   0|    0|    0|    0|    0|    0|    0|    0|    0|    0|    0|    0|    0|    0|    0|    0|    0|   0|    0|    0|    0|    0|    0|    0|    0|    0|    0|    0|    0|    0|    0|    0|    0|   0|    0|    0|    0|    0|    0|    0|    0|    0|    0|    0|    0|   0|    0|    0|    0|    0|    0|    0|    0|    0|    0|    0|    0|    0|    0|    0|    0|    0|    0|    0|   0|   0|    0|    0|    0|    0|    0|    0|    0|    1|    0|    0|    0|   0|    0|    0|    0|    0|    0|    0|    0|    0|    0|   0|    0|    0|    0|    0|    0|    0|    0|    0|    0|    0|    0|    0|    0|    0|    0|    0|    0|    0|    0|    0|    0|    0|    0|    0|    0|    0|    0|    0|    0|    0|    0|    0|    0|    0|    0|    0|   0|    0|    0|    0|    0|    0|    0|    0|    0|    0|    0|    0|    0|    0|    0|   0|\n",
            "|                   20.47|    0|    0|    0|    0|    0|    0|    0|    0|    0|    0|    0|    0|    0|    0|    0|    0|   0|    0|    0|    0|    0|    0|    0|    0|    0|    0|    0|    0|    0|    0|    0|    0|    0|    0|   0|    0|    0|    0|    0|   0|    0|    0|    0|    0|    0|    0|    0|   0|    0|    0|    0|    0|    0|    0|    0|    0|    0|    0|    0|    0|    0|    0|    0|    0|    0|    0|    0|    0|    0|    0|    0|    0|    0|  0|    0|    0|    0|    0|    0|    0|    0|    0|   0|    0|    0|    0|    0|    0|    0|    0|    0|    0|    0|    0|    0|    0|    0|    0|    0|    0|    0|    0|    0|    0|    0|   0|    0|    0|    0|    0|    0|   0|    0|    0|   0|    0|    0|    0|   0|    0|    0|   0|    0|    0|    0|    0|    0|    0|    0|    0|    0|    0|    0|    0|    0|    0|    0|    0|   0|    0|    0|    0|    0|    0|    0|    0|    0|    0|    0|    0|    0|    0|    0|    0|   0|    0|    0|    0|    0|    0|    0|    0|    0|    0|    1|    0|   0|    0|    0|    0|    0|    0|    0|    0|    0|    0|    0|    0|    0|    0|    0|    0|    0|    0|    0|   0|   0|    0|    0|    0|    0|    0|    0|    0|    0|    0|    0|    0|   0|    0|    0|    0|    0|    0|    0|    0|    0|    0|   0|    0|    0|    0|    0|    0|    0|    0|    0|    0|    0|    0|    0|    0|    0|    0|    0|    0|    0|    0|    0|    0|    0|    0|    0|    0|    0|    0|    0|    0|    0|    0|    0|    0|    0|    0|    0|   0|    0|    0|    0|    0|    0|    0|    0|    0|    0|    0|    0|    0|    0|    0|   0|\n",
            "+------------------------+-----+-----+-----+-----+-----+-----+-----+-----+-----+-----+-----+-----+-----+-----+-----+-----+----+-----+-----+-----+-----+-----+-----+-----+-----+-----+-----+-----+-----+-----+-----+-----+-----+-----+----+-----+-----+-----+-----+----+-----+-----+-----+-----+-----+-----+-----+----+-----+-----+-----+-----+-----+-----+-----+-----+-----+-----+-----+-----+-----+-----+-----+-----+-----+-----+-----+-----+-----+-----+-----+-----+-----+---+-----+-----+-----+-----+-----+-----+-----+-----+----+-----+-----+-----+-----+-----+-----+-----+-----+-----+-----+-----+-----+-----+-----+-----+-----+-----+-----+-----+-----+-----+-----+----+-----+-----+-----+-----+-----+----+-----+-----+----+-----+-----+-----+----+-----+-----+----+-----+-----+-----+-----+-----+-----+-----+-----+-----+-----+-----+-----+-----+-----+-----+-----+----+-----+-----+-----+-----+-----+-----+-----+-----+-----+-----+-----+-----+-----+-----+-----+----+-----+-----+-----+-----+-----+-----+-----+-----+-----+-----+-----+----+-----+-----+-----+-----+-----+-----+-----+-----+-----+-----+-----+-----+-----+-----+-----+-----+-----+-----+----+----+-----+-----+-----+-----+-----+-----+-----+-----+-----+-----+-----+----+-----+-----+-----+-----+-----+-----+-----+-----+-----+----+-----+-----+-----+-----+-----+-----+-----+-----+-----+-----+-----+-----+-----+-----+-----+-----+-----+-----+-----+-----+-----+-----+-----+-----+-----+-----+-----+-----+-----+-----+-----+-----+-----+-----+-----+-----+----+-----+-----+-----+-----+-----+-----+-----+-----+-----+-----+-----+-----+-----+-----+----+\n",
            "only showing top 20 rows\n",
            "\n"
          ],
          "name": "stdout"
        }
      ]
    },
    {
      "cell_type": "code",
      "metadata": {
        "id": "zBLPmQPA080D",
        "colab": {
          "base_uri": "https://localhost:8080/"
        },
        "outputId": "71c4cfb1-7dd4-4228-aadd-eb3af7fd5cf7"
      },
      "source": [
        "cols = [\"radius_mean\", \"texture_mean\"]\n",
        "df1.select(*cols).show()"
      ],
      "execution_count": null,
      "outputs": [
        {
          "output_type": "stream",
          "text": [
            "+-----------+------------+\n",
            "|radius_mean|texture_mean|\n",
            "+-----------+------------+\n",
            "|      17.99|       10.38|\n",
            "|      20.57|       17.77|\n",
            "|      11.42|       20.38|\n",
            "|      18.25|       19.98|\n",
            "|      13.71|       20.83|\n",
            "|         13|       21.82|\n",
            "|      12.46|       24.04|\n",
            "|      16.02|       23.24|\n",
            "|      15.78|       17.89|\n",
            "|      16.13|       20.68|\n",
            "|      19.81|       22.15|\n",
            "|      13.54|       14.36|\n",
            "|      13.08|       15.71|\n",
            "|      9.504|       12.44|\n",
            "|      18.61|       20.25|\n",
            "|      17.57|       15.05|\n",
            "|      19.27|       26.47|\n",
            "|      14.25|       21.72|\n",
            "|      13.03|       18.42|\n",
            "|      13.48|       20.82|\n",
            "+-----------+------------+\n",
            "only showing top 20 rows\n",
            "\n"
          ],
          "name": "stdout"
        }
      ]
    },
    {
      "cell_type": "code",
      "metadata": {
        "id": "QElZtbdH1Z-l",
        "colab": {
          "base_uri": "https://localhost:8080/"
        },
        "outputId": "867fe9d2-737f-469f-e3ef-821194cd75c4"
      },
      "source": [
        "df1.selectExpr(\"radius_mean * 2\" , \"texture_mean/3\").show()"
      ],
      "execution_count": null,
      "outputs": [
        {
          "output_type": "stream",
          "text": [
            "+-----------------+------------------+\n",
            "|(radius_mean * 2)|(texture_mean / 3)|\n",
            "+-----------------+------------------+\n",
            "|            35.98|3.4600000000000004|\n",
            "|            41.14| 5.923333333333333|\n",
            "|            22.84| 6.793333333333333|\n",
            "|             36.5|              6.66|\n",
            "|            27.42|6.9433333333333325|\n",
            "|             26.0| 7.273333333333333|\n",
            "|            24.92| 8.013333333333334|\n",
            "|            32.04| 7.746666666666666|\n",
            "|            31.56| 5.963333333333334|\n",
            "|            32.26|6.8933333333333335|\n",
            "|            39.62| 7.383333333333333|\n",
            "|            27.08| 4.786666666666666|\n",
            "|            26.16| 5.236666666666667|\n",
            "|           19.008|4.1466666666666665|\n",
            "|            37.22|              6.75|\n",
            "|            35.14| 5.016666666666667|\n",
            "|            38.54| 8.823333333333332|\n",
            "|             28.5| 7.239999999999999|\n",
            "|            26.06| 6.140000000000001|\n",
            "|            26.96|              6.94|\n",
            "+-----------------+------------------+\n",
            "only showing top 20 rows\n",
            "\n"
          ],
          "name": "stdout"
        }
      ]
    },
    {
      "cell_type": "code",
      "metadata": {
        "id": "xpfAnSeGDkYr",
        "colab": {
          "base_uri": "https://localhost:8080/"
        },
        "outputId": "3a4e6cf0-88e6-4fd0-ba46-c792067e3197"
      },
      "source": [
        "df1.selectExpr(\"radius_mean * texture_mean\").alias(\"abcd\").show()"
      ],
      "execution_count": null,
      "outputs": [
        {
          "output_type": "stream",
          "text": [
            "+----------------------------+\n",
            "|(radius_mean * texture_mean)|\n",
            "+----------------------------+\n",
            "|                    186.7362|\n",
            "|                    365.5289|\n",
            "|                    232.7396|\n",
            "|                     364.635|\n",
            "|                    285.5793|\n",
            "|                      283.66|\n",
            "|                    299.5384|\n",
            "|          372.30479999999994|\n",
            "|                    282.3042|\n",
            "|                    333.5684|\n",
            "|           438.7914999999999|\n",
            "|          194.43439999999998|\n",
            "|          205.48680000000002|\n",
            "|          118.22975999999998|\n",
            "|          376.85249999999996|\n",
            "|          264.42850000000004|\n",
            "|          510.07689999999997|\n",
            "|                      309.51|\n",
            "|          240.01260000000002|\n",
            "|          280.65360000000004|\n",
            "+----------------------------+\n",
            "only showing top 20 rows\n",
            "\n"
          ],
          "name": "stdout"
        }
      ]
    },
    {
      "cell_type": "code",
      "metadata": {
        "id": "zBXkOyN8IWLb",
        "colab": {
          "base_uri": "https://localhost:8080/"
        },
        "outputId": "05836946-585f-42a2-b8fd-9dbef375e6d8"
      },
      "source": [
        "cols = [\"radius_mean\", \"texture_mean\"]\n",
        "df1.sort(*cols).show()"
      ],
      "execution_count": null,
      "outputs": [
        {
          "output_type": "stream",
          "text": [
            "+---------+-----------+------------+--------------+---------+---------------+----------------+--------------+-------------------+-------------+----------------------+---------+----------+------------+-------+-------------+--------------+------------+-----------------+-----------+--------------------+------------+-------------+---------------+----------+----------------+-----------------+---------------+--------------------+--------------+-----------------------+\n",
            "|diagnosis|radius_mean|texture_mean|perimeter_mean|area_mean|smoothness_mean|compactness_mean|concavity_mean|concave_points_mean|symmetry_mean|fractal_dimension_mean|radius_se|texture_se|perimeter_se|area_se|smoothness_se|compactness_se|concavity_se|concave_points_se|symmetry_se|fractal_dimension_se|radius_worst|texture_worst|perimeter_worst|area_worst|smoothness_worst|compactness_worst|concavity_worst|concave_points_worst|symmetry_worst|fractal_dimension_worst|\n",
            "+---------+-----------+------------+--------------+---------+---------------+----------------+--------------+-------------------+-------------+----------------------+---------+----------+------------+-------+-------------+--------------+------------+-----------------+-----------+--------------------+------------+-------------+---------------+----------+----------------+-----------------+---------------+--------------------+--------------+-----------------------+\n",
            "|        0|      10.03|       21.28|         63.19|    307.3|        0.08117|         0.03912|       0.00247|           0.005159|        0.163|               0.06439|   0.1851|     1.341|       1.184|   11.6|     0.005724|      0.005697|    0.002074|         0.003527|    0.01445|            0.002411|       11.11|        28.94|          69.92|     376.3|          0.1126|          0.07094|        0.01235|             0.02579|        0.2349|                0.08061|\n",
            "|        0|      10.05|       17.53|         64.41|    310.8|         0.1007|         0.07326|       0.02511|            0.01775|        0.189|               0.06331|   0.2619|     2.015|       1.778|  16.85|     0.007803|       0.01449|      0.0169|         0.008043|      0.021|            0.002778|       11.16|        26.84|          71.98|       384|          0.1402|           0.1402|         0.1055|             0.06499|        0.2894|                0.07664|\n",
            "|        0|      10.08|       15.11|         63.76|    317.5|        0.09267|         0.04695|      0.001597|           0.002404|       0.1703|               0.06048|   0.4245|     1.268|        2.68|  26.43|      0.01439|         0.012|    0.001597|         0.002404|    0.02538|             0.00347|       11.87|        21.18|          75.39|       437|          0.1521|           0.1019|        0.00692|             0.01042|        0.2933|                0.07697|\n",
            "|        0|       10.2|       17.48|         65.05|    321.2|        0.08054|         0.05907|       0.05774|            0.01071|       0.1964|               0.06315|   0.3567|     1.922|       2.747|  22.79|      0.00468|        0.0312|     0.05774|          0.01071|     0.0256|            0.004613|       11.48|        24.47|           75.4|     403.7|         0.09527|           0.1397|         0.1925|             0.03571|        0.2868|                0.07809|\n",
            "|        0|      10.26|       12.22|         65.75|    321.6|        0.09996|         0.07542|       0.01923|            0.01968|         0.18|               0.06569|   0.1911|    0.5477|       1.348|  11.88|     0.005682|       0.01365|    0.008496|         0.006929|    0.01938|            0.002371|       11.38|        15.65|          73.23|     394.5|          0.1343|            0.165|        0.08615|             0.06696|        0.2937|                0.07722|\n",
            "|        0|      10.26|       16.58|         65.85|    320.8|        0.08877|         0.08066|       0.04358|            0.02438|       0.1669|               0.06714|   0.1144|     1.023|      0.9887|  7.326|      0.01027|       0.03084|     0.02613|          0.01097|    0.02277|             0.00589|       10.83|        22.04|          71.08|     357.4|          0.1461|           0.2246|         0.1783|             0.08333|        0.2691|                0.09479|\n",
            "|        0|      10.29|       27.61|         65.67|    321.4|         0.0903|         0.07658|       0.05999|            0.02738|       0.1593|               0.06127|   0.2199|     2.239|       1.437|  14.46|      0.01205|       0.02736|     0.04804|          0.01721|    0.01843|            0.004938|       10.84|        34.91|          69.57|     357.6|          0.1384|            0.171|            0.2|             0.09127|        0.2226|                0.08283|\n",
            "|        0|      10.32|       16.35|         65.31|    324.9|        0.09434|         0.04994|       0.01012|           0.005495|       0.1885|               0.06201|   0.2104|     0.967|       1.356|  12.97|     0.007086|      0.007247|     0.01012|         0.005495|     0.0156|            0.002606|       11.25|        21.77|          71.12|     384.9|          0.1285|          0.08842|        0.04384|             0.02381|        0.2681|                0.07399|\n",
            "|        0|      10.48|       19.86|         66.72|    337.7|          0.107|         0.05971|       0.04831|             0.0307|       0.1737|                0.0644|   0.3719|     2.612|       2.517|  23.22|      0.01604|       0.01386|     0.01865|          0.01133|    0.03476|             0.00356|       11.48|        29.46|          73.68|     402.8|          0.1515|           0.1026|         0.1181|             0.06736|        0.2883|                0.07748|\n",
            "|        0|      10.49|       18.61|         66.86|    334.3|         0.1068|         0.06678|       0.02297|             0.0178|       0.1482|                 0.066|   0.1485|     1.563|       1.035|  10.08|     0.008875|      0.009362|     0.01808|         0.009199|    0.01791|            0.003317|       11.06|        24.54|          70.76|     375.4|          0.1413|           0.1044|        0.08423|             0.06528|        0.2213|                0.07842|\n",
            "|        0|      10.49|       19.29|         67.41|    336.1|        0.09989|         0.08578|       0.02995|            0.01201|       0.2217|               0.06481|    0.355|     1.534|       2.302|  23.13|     0.007595|       0.02219|      0.0288|         0.008614|     0.0271|            0.003451|       11.54|        23.31|          74.22|     402.8|          0.1219|           0.1486|        0.07987|             0.03203|        0.2826|                0.07552|\n",
            "|        0|      10.51|       23.09|         66.85|    334.2|         0.1015|         0.06797|       0.02495|            0.01875|       0.1695|               0.06556|   0.2868|     1.143|       2.289|  20.56|      0.01017|       0.01443|     0.01861|           0.0125|    0.03464|            0.001971|       10.93|        24.22|           70.1|     362.7|          0.1143|          0.08614|        0.04158|             0.03125|        0.2227|                0.06777|\n",
            "|        0|      10.65|       25.22|         68.01|      347|        0.09657|         0.07234|       0.02379|            0.01615|       0.1897|               0.06329|   0.2497|     1.493|       1.497|  16.64|     0.007189|       0.01035|     0.01081|         0.006245|    0.02158|            0.002619|       12.25|        35.19|          77.98|     455.7|          0.1499|           0.1398|         0.1125|             0.06136|        0.3409|                0.08147|\n",
            "|        0|      10.75|       14.97|         68.26|    355.3|        0.07793|         0.05139|       0.02251|           0.007875|       0.1399|               0.05688|   0.2525|     1.239|       1.806|  17.74|     0.006547|       0.01781|     0.02018|         0.005612|    0.01671|             0.00236|       11.95|        20.72|          77.79|     441.2|          0.1076|           0.1223|        0.09755|             0.03413|          0.23|                0.06769|\n",
            "|        0|       10.8|        9.71|         68.77|    357.6|        0.09594|         0.05736|       0.02531|            0.01698|       0.1381|                 0.064|   0.1728|    0.4064|       1.126|  11.48|     0.007809|      0.009816|     0.01099|         0.005344|    0.01254|             0.00212|        11.6|        12.02|          73.66|       414|          0.1436|           0.1257|         0.1047|             0.04603|         0.209|                0.07699|\n",
            "|        0|       10.9|       12.96|         68.69|    366.8|        0.07515|         0.03718|       0.00309|           0.006588|       0.1442|               0.05743|   0.2818|    0.7614|       1.808|  18.54|     0.006142|      0.006134|    0.001835|         0.003576|    0.01637|            0.002665|       12.36|         18.2|          78.07|       470|          0.1171|          0.08294|        0.01854|             0.03953|        0.2738|                0.07685|\n",
            "|        0|      10.94|       18.59|         70.39|      370|         0.1004|          0.0746|       0.04944|            0.02932|       0.1486|               0.06615|   0.3796|     1.743|       3.018|  25.78|     0.009519|       0.02134|      0.0199|          0.01155|    0.02079|            0.002701|        12.4|        25.58|          82.76|     472.4|          0.1363|           0.1644|         0.1412|             0.07887|        0.2251|                0.07732|\n",
            "|        0|      10.96|       17.62|         70.79|    365.6|        0.09687|         0.09752|       0.05263|            0.02788|       0.1619|               0.06408|   0.1507|     1.583|       1.165|  10.09|     0.009501|       0.03378|     0.04401|          0.01346|    0.01322|            0.003534|       11.62|        26.51|          76.43|     407.5|          0.1428|            0.251|         0.2123|             0.09861|        0.2289|                0.08278|\n",
            "|        0|      11.06|       14.96|         71.49|    373.9|         0.1033|         0.09097|       0.05397|            0.03341|       0.1776|               0.06907|   0.1601|    0.8225|       1.355|   10.8|     0.007416|       0.01877|     0.02758|           0.0101|    0.02348|            0.002917|       11.92|         19.9|          79.76|       440|          0.1418|            0.221|         0.2299|              0.1075|        0.3301|                 0.0908|\n",
            "|        0|      11.06|       17.12|         71.25|    366.5|         0.1194|          0.1071|       0.04063|            0.04268|       0.1954|               0.07976|   0.1779|      1.03|       1.318|   12.3|      0.01262|       0.02348|       0.018|          0.01285|     0.0222|            0.008313|       11.69|        20.74|          76.08|     411.1|          0.1662|           0.2031|         0.1256|             0.09514|         0.278|                 0.1168|\n",
            "+---------+-----------+------------+--------------+---------+---------------+----------------+--------------+-------------------+-------------+----------------------+---------+----------+------------+-------+-------------+--------------+------------+-----------------+-----------+--------------------+------------+-------------+---------------+----------+----------------+-----------------+---------------+--------------------+--------------+-----------------------+\n",
            "only showing top 20 rows\n",
            "\n"
          ],
          "name": "stdout"
        }
      ]
    },
    {
      "cell_type": "code",
      "metadata": {
        "id": "MAAelBKTI_on",
        "colab": {
          "base_uri": "https://localhost:8080/"
        },
        "outputId": "7d09ee6b-071e-437c-f700-cd013936de37"
      },
      "source": [
        "df1.take(5)"
      ],
      "execution_count": null,
      "outputs": [
        {
          "output_type": "execute_result",
          "data": {
            "text/plain": [
              "[Row(diagnosis='1', radius_mean='17.99', texture_mean='10.38', perimeter_mean='122.8', area_mean='1001', smoothness_mean='0.1184', compactness_mean='0.2776', concavity_mean='0.3001', concave_points_mean='0.1471', symmetry_mean='0.2419', fractal_dimension_mean='0.07871', radius_se='1.095', texture_se='0.9053', perimeter_se='8.589', area_se='153.4', smoothness_se='0.006399', compactness_se='0.04904', concavity_se='0.05373', concave_points_se='0.01587', symmetry_se='0.03003', fractal_dimension_se='0.006193', radius_worst='25.38', texture_worst='17.33', perimeter_worst='184.6', area_worst='2019', smoothness_worst='0.1622', compactness_worst='0.6656', concavity_worst='0.7119', concave_points_worst='0.2654', symmetry_worst='0.4601', fractal_dimension_worst='0.1189'),\n",
              " Row(diagnosis='1', radius_mean='20.57', texture_mean='17.77', perimeter_mean='132.9', area_mean='1326', smoothness_mean='0.08474', compactness_mean='0.07864', concavity_mean='0.0869', concave_points_mean='0.07017', symmetry_mean='0.1812', fractal_dimension_mean='0.05667', radius_se='0.5435', texture_se='0.7339', perimeter_se='3.398', area_se='74.08', smoothness_se='0.005225', compactness_se='0.01308', concavity_se='0.0186', concave_points_se='0.0134', symmetry_se='0.01389', fractal_dimension_se='0.003532', radius_worst='24.99', texture_worst='23.41', perimeter_worst='158.8', area_worst='1956', smoothness_worst='0.1238', compactness_worst='0.1866', concavity_worst='0.2416', concave_points_worst='0.186', symmetry_worst='0.275', fractal_dimension_worst='0.08902'),\n",
              " Row(diagnosis='1', radius_mean='11.42', texture_mean='20.38', perimeter_mean='77.58', area_mean='386.1', smoothness_mean='0.1425', compactness_mean='0.2839', concavity_mean='0.2414', concave_points_mean='0.1052', symmetry_mean='0.2597', fractal_dimension_mean='0.09744', radius_se='0.4956', texture_se='1.156', perimeter_se='3.445', area_se='27.23', smoothness_se='0.00911', compactness_se='0.07458', concavity_se='0.05661', concave_points_se='0.01867', symmetry_se='0.05963', fractal_dimension_se='0.009208', radius_worst='14.91', texture_worst='26.5', perimeter_worst='98.87', area_worst='567.7', smoothness_worst='0.2098', compactness_worst='0.8663', concavity_worst='0.6869', concave_points_worst='0.2575', symmetry_worst='0.6638', fractal_dimension_worst='0.173'),\n",
              " Row(diagnosis='1', radius_mean='18.25', texture_mean='19.98', perimeter_mean='119.6', area_mean='1040', smoothness_mean='0.09463', compactness_mean='0.109', concavity_mean='0.1127', concave_points_mean='0.074', symmetry_mean='0.1794', fractal_dimension_mean='0.05742', radius_se='0.4467', texture_se='0.7732', perimeter_se='3.18', area_se='53.91', smoothness_se='0.004314', compactness_se='0.01382', concavity_se='0.02254', concave_points_se='0.01039', symmetry_se='0.01369', fractal_dimension_se='0.002179', radius_worst='22.88', texture_worst='27.66', perimeter_worst='153.2', area_worst='1606', smoothness_worst='0.1442', compactness_worst='0.2576', concavity_worst='0.3784', concave_points_worst='0.1932', symmetry_worst='0.3063', fractal_dimension_worst='0.08368'),\n",
              " Row(diagnosis='1', radius_mean='13.71', texture_mean='20.83', perimeter_mean='90.2', area_mean='577.9', smoothness_mean='0.1189', compactness_mean='0.1645', concavity_mean='0.09366', concave_points_mean='0.05985', symmetry_mean='0.2196', fractal_dimension_mean='0.07451', radius_se='0.5835', texture_se='1.377', perimeter_se='3.856', area_se='50.96', smoothness_se='0.008805', compactness_se='0.03029', concavity_se='0.02488', concave_points_se='0.01448', symmetry_se='0.01486', fractal_dimension_se='0.005412', radius_worst='17.06', texture_worst='28.14', perimeter_worst='110.6', area_worst='897', smoothness_worst='0.1654', compactness_worst='0.3682', concavity_worst='0.2678', concave_points_worst='0.1556', symmetry_worst='0.3196', fractal_dimension_worst='0.1151')]"
            ]
          },
          "metadata": {
            "tags": []
          },
          "execution_count": 72
        }
      ]
    },
    {
      "cell_type": "code",
      "metadata": {
        "id": "YZfIzJuiMMRs",
        "colab": {
          "base_uri": "https://localhost:8080/",
          "height": 167
        },
        "outputId": "2dea7aba-56cc-496c-c7a4-5d307ea79e48"
      },
      "source": [
        "df1.tail(5)"
      ],
      "execution_count": 2,
      "outputs": [
        {
          "output_type": "error",
          "ename": "NameError",
          "evalue": "ignored",
          "traceback": [
            "\u001b[0;31m---------------------------------------------------------------------------\u001b[0m",
            "\u001b[0;31mNameError\u001b[0m                                 Traceback (most recent call last)",
            "\u001b[0;32m<ipython-input-2-11ccfb407407>\u001b[0m in \u001b[0;36m<module>\u001b[0;34m()\u001b[0m\n\u001b[0;32m----> 1\u001b[0;31m \u001b[0mdf1\u001b[0m\u001b[0;34m.\u001b[0m\u001b[0mtail\u001b[0m\u001b[0;34m(\u001b[0m\u001b[0;36m5\u001b[0m\u001b[0;34m)\u001b[0m\u001b[0;34m\u001b[0m\u001b[0;34m\u001b[0m\u001b[0m\n\u001b[0m",
            "\u001b[0;31mNameError\u001b[0m: name 'df1' is not defined"
          ]
        }
      ]
    },
    {
      "cell_type": "code",
      "metadata": {
        "id": "9vaQ7eCAMPu0"
      },
      "source": [
        "help(df1.take(5))"
      ],
      "execution_count": null,
      "outputs": []
    },
    {
      "cell_type": "code",
      "metadata": {
        "id": "NVUWmz1oMTJw"
      },
      "source": [
        "fd = df1.to_koalas()"
      ],
      "execution_count": null,
      "outputs": []
    },
    {
      "cell_type": "code",
      "metadata": {
        "id": "_PYQTy0FPEcA",
        "colab": {
          "base_uri": "https://localhost:8080/"
        },
        "outputId": "552e3cc6-c1fe-4881-ca5a-d100f0facaa1"
      },
      "source": [
        "fd['diagnosis'].value_counts()"
      ],
      "execution_count": null,
      "outputs": [
        {
          "output_type": "execute_result",
          "data": {
            "text/plain": [
              "0    176\n",
              "1    108\n",
              "Name: diagnosis, dtype: int64"
            ]
          },
          "metadata": {
            "tags": []
          },
          "execution_count": 82
        }
      ]
    },
    {
      "cell_type": "code",
      "metadata": {
        "id": "YpesiaVsPO45"
      },
      "source": [
        "grd = fd.groupby('diagnosis')"
      ],
      "execution_count": null,
      "outputs": []
    },
    {
      "cell_type": "code",
      "metadata": {
        "id": "iuJgV0O8QFQC"
      },
      "source": [
        "grd['radius_mean'].aggregate(sum)"
      ],
      "execution_count": null,
      "outputs": []
    },
    {
      "cell_type": "code",
      "metadata": {
        "id": "rs1DEs24QOas",
        "colab": {
          "base_uri": "https://localhost:8080/"
        },
        "outputId": "171319d9-7c74-467f-b0e3-9ab2cf2ef1ca"
      },
      "source": [
        "grd['radius_mean'].apply(sum)"
      ],
      "execution_count": null,
      "outputs": [
        {
          "output_type": "execute_result",
          "data": {
            "text/plain": [
              "diagnosis\n",
              "0    13.5413.089.50413.0313.4911.7613.058.6189.0291...\n",
              "1    17.9920.5711.4218.2513.711312.4616.0215.7816.1...\n",
              "Name: radius_mean, dtype: object"
            ]
          },
          "metadata": {
            "tags": []
          },
          "execution_count": 96
        }
      ]
    },
    {
      "cell_type": "code",
      "metadata": {
        "id": "qeQfs-3_SAC5",
        "colab": {
          "base_uri": "https://localhost:8080/"
        },
        "outputId": "5fd25046-6987-41c8-d833-702d5b4780d3"
      },
      "source": [
        "df1.agg({'radius_mean': 'sum'}).show()"
      ],
      "execution_count": null,
      "outputs": [
        {
          "output_type": "stream",
          "text": [
            "+------------------+\n",
            "|  sum(radius_mean)|\n",
            "+------------------+\n",
            "|4030.0239999999994|\n",
            "+------------------+\n",
            "\n"
          ],
          "name": "stdout"
        }
      ]
    },
    {
      "cell_type": "code",
      "metadata": {
        "id": "oAPE67YTUYn_"
      },
      "source": [
        "grd = df1.groupby('diagnosis')"
      ],
      "execution_count": null,
      "outputs": []
    },
    {
      "cell_type": "code",
      "metadata": {
        "id": "lpDjMsX7Uj3n",
        "colab": {
          "base_uri": "https://localhost:8080/"
        },
        "outputId": "75061777-685c-49f0-a48f-89099319b278"
      },
      "source": [
        "grd.agg({'radius_mean': 'sum'}).show()"
      ],
      "execution_count": null,
      "outputs": [
        {
          "output_type": "stream",
          "text": [
            "+---------+-----------------+\n",
            "|diagnosis| sum(radius_mean)|\n",
            "+---------+-----------------+\n",
            "|        0|2144.744000000001|\n",
            "|        1|          1885.28|\n",
            "+---------+-----------------+\n",
            "\n"
          ],
          "name": "stdout"
        }
      ]
    },
    {
      "cell_type": "code",
      "metadata": {
        "id": "uuGdF0l3UvSs",
        "outputId": "624b06e4-120e-477c-a44d-fdd8fa3c2ccc",
        "colab": {
          "base_uri": "https://localhost:8080/"
        }
      },
      "source": [
        "df1.limit(10).select('radius_mean').show()"
      ],
      "execution_count": 37,
      "outputs": [
        {
          "output_type": "stream",
          "text": [
            "+-----------+\n",
            "|radius_mean|\n",
            "+-----------+\n",
            "|      20.57|\n",
            "|      11.42|\n",
            "|      12.45|\n",
            "|      18.25|\n",
            "|         13|\n",
            "|      19.17|\n",
            "|      14.54|\n",
            "|      16.13|\n",
            "|      19.81|\n",
            "|      13.08|\n",
            "+-----------+\n",
            "\n"
          ],
          "name": "stdout"
        }
      ]
    },
    {
      "cell_type": "code",
      "metadata": {
        "id": "A3vw_IpNXp_y",
        "outputId": "34c24fd1-fbbc-41c3-dabd-6c0bac4bf9fa",
        "colab": {
          "base_uri": "https://localhost:8080/"
        }
      },
      "source": [
        "df1.columns"
      ],
      "execution_count": 38,
      "outputs": [
        {
          "output_type": "execute_result",
          "data": {
            "text/plain": [
              "['id',\n",
              " 'diagnosis',\n",
              " 'radius_mean',\n",
              " 'texture_mean',\n",
              " 'perimeter_mean',\n",
              " 'area_mean',\n",
              " 'smoothness_mean',\n",
              " 'compactness_mean',\n",
              " 'concavity_mean',\n",
              " 'concave points_mean',\n",
              " 'symmetry_mean',\n",
              " 'fractal_dimension_mean',\n",
              " 'radius_se',\n",
              " 'texture_se',\n",
              " 'perimeter_se',\n",
              " 'area_se',\n",
              " 'smoothness_se',\n",
              " 'compactness_se',\n",
              " 'concavity_se',\n",
              " 'concave points_se',\n",
              " 'symmetry_se',\n",
              " 'fractal_dimension_se',\n",
              " 'radius_worst',\n",
              " 'texture_worst',\n",
              " 'perimeter_worst',\n",
              " 'area_worst',\n",
              " 'smoothness_worst',\n",
              " 'compactness_worst',\n",
              " 'concavity_worst',\n",
              " 'concave points_worst',\n",
              " 'symmetry_worst',\n",
              " 'fractal_dimension_worst',\n",
              " '_c32']"
            ]
          },
          "metadata": {
            "tags": []
          },
          "execution_count": 38
        }
      ]
    },
    {
      "cell_type": "code",
      "metadata": {
        "id": "o3am5ei5Y7D1",
        "outputId": "bc4fbace-7977-4c66-a031-d7e873a20d5b",
        "colab": {
          "base_uri": "https://localhost:8080/"
        }
      },
      "source": [
        "df1.withColumnRenamed(\"symmetry_se\", \"symmeterySE\").limit(10).show()"
      ],
      "execution_count": 39,
      "outputs": [
        {
          "output_type": "stream",
          "text": [
            "+--------+---------+-----------+------------+--------------+---------+---------------+----------------+--------------+-------------------+-------------+----------------------+---------+----------+------------+-------+-------------+--------------+------------+-----------------+-----------+--------------------+------------+-------------+---------------+----------+----------------+-----------------+---------------+--------------------+--------------+-----------------------+----+\n",
            "|      id|diagnosis|radius_mean|texture_mean|perimeter_mean|area_mean|smoothness_mean|compactness_mean|concavity_mean|concave points_mean|symmetry_mean|fractal_dimension_mean|radius_se|texture_se|perimeter_se|area_se|smoothness_se|compactness_se|concavity_se|concave points_se|symmeterySE|fractal_dimension_se|radius_worst|texture_worst|perimeter_worst|area_worst|smoothness_worst|compactness_worst|concavity_worst|concave points_worst|symmetry_worst|fractal_dimension_worst|_c32|\n",
            "+--------+---------+-----------+------------+--------------+---------+---------------+----------------+--------------+-------------------+-------------+----------------------+---------+----------+------------+-------+-------------+--------------+------------+-----------------+-----------+--------------------+------------+-------------+---------------+----------+----------------+-----------------+---------------+--------------------+--------------+-----------------------+----+\n",
            "|  842517|        M|      20.57|       17.77|         132.9|     1326|        0.08474|         0.07864|        0.0869|            0.07017|       0.1812|               0.05667|   0.5435|    0.7339|       3.398|  74.08|     0.005225|       0.01308|      0.0186|           0.0134|    0.01389|            0.003532|       24.99|        23.41|          158.8|      1956|          0.1238|           0.1866|         0.2416|               0.186|         0.275|                0.08902|null|\n",
            "|84348301|        M|      11.42|       20.38|         77.58|    386.1|         0.1425|          0.2839|        0.2414|             0.1052|       0.2597|               0.09744|   0.4956|     1.156|       3.445|  27.23|      0.00911|       0.07458|     0.05661|          0.01867|    0.05963|            0.009208|       14.91|         26.5|          98.87|     567.7|          0.2098|           0.8663|         0.6869|              0.2575|        0.6638|                  0.173|null|\n",
            "|  843786|        M|      12.45|        15.7|         82.57|    477.1|         0.1278|            0.17|        0.1578|            0.08089|       0.2087|               0.07613|   0.3345|    0.8902|       2.217|  27.19|      0.00751|       0.03345|     0.03672|          0.01137|    0.02165|            0.005082|       15.47|        23.75|          103.4|     741.6|          0.1791|           0.5249|         0.5355|              0.1741|        0.3985|                 0.1244|null|\n",
            "|  844359|        M|      18.25|       19.98|         119.6|     1040|        0.09463|           0.109|        0.1127|              0.074|       0.1794|               0.05742|   0.4467|    0.7732|        3.18|  53.91|     0.004314|       0.01382|     0.02254|          0.01039|    0.01369|            0.002179|       22.88|        27.66|          153.2|      1606|          0.1442|           0.2576|         0.3784|              0.1932|        0.3063|                0.08368|null|\n",
            "|  844981|        M|         13|       21.82|          87.5|    519.8|         0.1273|          0.1932|        0.1859|            0.09353|        0.235|               0.07389|   0.3063|     1.002|       2.406|  24.32|     0.005731|       0.03502|     0.03553|          0.01226|    0.02143|            0.003749|       15.49|        30.73|          106.2|     739.3|          0.1703|           0.5401|          0.539|               0.206|        0.4378|                 0.1072|null|\n",
            "|  846226|        M|      19.17|        24.8|         132.4|     1123|         0.0974|          0.2458|        0.2065|             0.1118|       0.2397|                 0.078|   0.9555|     3.568|       11.07|  116.2|     0.003139|       0.08297|      0.0889|           0.0409|    0.04484|             0.01284|       20.96|        29.94|          151.7|      1332|          0.1037|           0.3903|         0.3639|              0.1767|        0.3176|                 0.1023|null|\n",
            "|84799002|        M|      14.54|       27.54|         96.73|    658.8|         0.1139|          0.1595|        0.1639|            0.07364|       0.2303|               0.07077|     0.37|     1.033|       2.879|  32.55|     0.005607|        0.0424|     0.04741|           0.0109|    0.01857|            0.005466|       17.46|        37.13|          124.1|     943.2|          0.1678|           0.6577|         0.7026|              0.1712|        0.4218|                 0.1341|null|\n",
            "|84862001|        M|      16.13|       20.68|         108.1|    798.8|          0.117|          0.2022|        0.1722|             0.1028|       0.2164|               0.07356|   0.5692|     1.073|       3.854|  54.18|     0.007026|       0.02501|     0.03188|          0.01297|    0.01689|            0.004142|       20.96|        31.48|          136.8|      1315|          0.1789|           0.4233|         0.4784|              0.2073|        0.3706|                 0.1142|null|\n",
            "|  849014|        M|      19.81|       22.15|           130|     1260|        0.09831|          0.1027|        0.1479|            0.09498|       0.1582|               0.05395|   0.7582|     1.017|       5.865|  112.4|     0.006494|       0.01893|     0.03391|          0.01521|    0.01356|            0.001997|       27.32|        30.88|          186.8|      2398|          0.1512|            0.315|         0.5372|              0.2388|        0.2768|                0.07615|null|\n",
            "| 8510653|        B|      13.08|       15.71|         85.63|      520|         0.1075|           0.127|       0.04568|             0.0311|       0.1967|               0.06811|   0.1852|    0.7477|       1.383|  14.67|     0.004097|       0.01898|     0.01698|          0.00649|    0.01678|            0.002425|        14.5|        20.49|          96.09|     630.5|          0.1312|           0.2776|          0.189|             0.07283|        0.3184|                0.08183|null|\n",
            "+--------+---------+-----------+------------+--------------+---------+---------------+----------------+--------------+-------------------+-------------+----------------------+---------+----------+------------+-------+-------------+--------------+------------+-----------------+-----------+--------------------+------------+-------------+---------------+----------+----------------+-----------------+---------------+--------------------+--------------+-----------------------+----+\n",
            "\n"
          ],
          "name": "stdout"
        }
      ]
    },
    {
      "cell_type": "code",
      "metadata": {
        "id": "5lSE9SM5ZK9e"
      },
      "source": [
        "c = [ i.replace(\"_\", \"\") for i in df1.columns]"
      ],
      "execution_count": 41,
      "outputs": []
    },
    {
      "cell_type": "code",
      "metadata": {
        "id": "hUZuI4crcLMv"
      },
      "source": [
        "c"
      ],
      "execution_count": null,
      "outputs": []
    },
    {
      "cell_type": "code",
      "metadata": {
        "id": "F0GCJ5vwZs0W",
        "outputId": "3318b5f1-becd-4675-9ba3-34b902762336",
        "colab": {
          "base_uri": "https://localhost:8080/"
        }
      },
      "source": [
        "df1.toDF(*c).limit(10).show()"
      ],
      "execution_count": 46,
      "outputs": [
        {
          "output_type": "stream",
          "text": [
            "+--------+---------+----------+-----------+-------------+--------+--------------+---------------+-------------+------------------+------------+--------------------+--------+---------+-----------+------+------------+-------------+-----------+----------------+----------+------------------+-----------+------------+--------------+---------+---------------+----------------+--------------+-------------------+-------------+---------------------+----+\n",
            "|      id|diagnosis|radiusmean|texturemean|perimetermean|areamean|smoothnessmean|compactnessmean|concavitymean|concave pointsmean|symmetrymean|fractaldimensionmean|radiusse|texturese|perimeterse|arease|smoothnessse|compactnessse|concavityse|concave pointsse|symmetryse|fractaldimensionse|radiusworst|textureworst|perimeterworst|areaworst|smoothnessworst|compactnessworst|concavityworst|concave pointsworst|symmetryworst|fractaldimensionworst| c32|\n",
            "+--------+---------+----------+-----------+-------------+--------+--------------+---------------+-------------+------------------+------------+--------------------+--------+---------+-----------+------+------------+-------------+-----------+----------------+----------+------------------+-----------+------------+--------------+---------+---------------+----------------+--------------+-------------------+-------------+---------------------+----+\n",
            "|  842517|        M|     20.57|      17.77|        132.9|    1326|       0.08474|        0.07864|       0.0869|           0.07017|      0.1812|             0.05667|  0.5435|   0.7339|      3.398| 74.08|    0.005225|      0.01308|     0.0186|          0.0134|   0.01389|          0.003532|      24.99|       23.41|         158.8|     1956|         0.1238|          0.1866|        0.2416|              0.186|        0.275|              0.08902|null|\n",
            "|84348301|        M|     11.42|      20.38|        77.58|   386.1|        0.1425|         0.2839|       0.2414|            0.1052|      0.2597|             0.09744|  0.4956|    1.156|      3.445| 27.23|     0.00911|      0.07458|    0.05661|         0.01867|   0.05963|          0.009208|      14.91|        26.5|         98.87|    567.7|         0.2098|          0.8663|        0.6869|             0.2575|       0.6638|                0.173|null|\n",
            "|  843786|        M|     12.45|       15.7|        82.57|   477.1|        0.1278|           0.17|       0.1578|           0.08089|      0.2087|             0.07613|  0.3345|   0.8902|      2.217| 27.19|     0.00751|      0.03345|    0.03672|         0.01137|   0.02165|          0.005082|      15.47|       23.75|         103.4|    741.6|         0.1791|          0.5249|        0.5355|             0.1741|       0.3985|               0.1244|null|\n",
            "|  844359|        M|     18.25|      19.98|        119.6|    1040|       0.09463|          0.109|       0.1127|             0.074|      0.1794|             0.05742|  0.4467|   0.7732|       3.18| 53.91|    0.004314|      0.01382|    0.02254|         0.01039|   0.01369|          0.002179|      22.88|       27.66|         153.2|     1606|         0.1442|          0.2576|        0.3784|             0.1932|       0.3063|              0.08368|null|\n",
            "|  844981|        M|        13|      21.82|         87.5|   519.8|        0.1273|         0.1932|       0.1859|           0.09353|       0.235|             0.07389|  0.3063|    1.002|      2.406| 24.32|    0.005731|      0.03502|    0.03553|         0.01226|   0.02143|          0.003749|      15.49|       30.73|         106.2|    739.3|         0.1703|          0.5401|         0.539|              0.206|       0.4378|               0.1072|null|\n",
            "|  846226|        M|     19.17|       24.8|        132.4|    1123|        0.0974|         0.2458|       0.2065|            0.1118|      0.2397|               0.078|  0.9555|    3.568|      11.07| 116.2|    0.003139|      0.08297|     0.0889|          0.0409|   0.04484|           0.01284|      20.96|       29.94|         151.7|     1332|         0.1037|          0.3903|        0.3639|             0.1767|       0.3176|               0.1023|null|\n",
            "|84799002|        M|     14.54|      27.54|        96.73|   658.8|        0.1139|         0.1595|       0.1639|           0.07364|      0.2303|             0.07077|    0.37|    1.033|      2.879| 32.55|    0.005607|       0.0424|    0.04741|          0.0109|   0.01857|          0.005466|      17.46|       37.13|         124.1|    943.2|         0.1678|          0.6577|        0.7026|             0.1712|       0.4218|               0.1341|null|\n",
            "|84862001|        M|     16.13|      20.68|        108.1|   798.8|         0.117|         0.2022|       0.1722|            0.1028|      0.2164|             0.07356|  0.5692|    1.073|      3.854| 54.18|    0.007026|      0.02501|    0.03188|         0.01297|   0.01689|          0.004142|      20.96|       31.48|         136.8|     1315|         0.1789|          0.4233|        0.4784|             0.2073|       0.3706|               0.1142|null|\n",
            "|  849014|        M|     19.81|      22.15|          130|    1260|       0.09831|         0.1027|       0.1479|           0.09498|      0.1582|             0.05395|  0.7582|    1.017|      5.865| 112.4|    0.006494|      0.01893|    0.03391|         0.01521|   0.01356|          0.001997|      27.32|       30.88|         186.8|     2398|         0.1512|           0.315|        0.5372|             0.2388|       0.2768|              0.07615|null|\n",
            "| 8510653|        B|     13.08|      15.71|        85.63|     520|        0.1075|          0.127|      0.04568|            0.0311|      0.1967|             0.06811|  0.1852|   0.7477|      1.383| 14.67|    0.004097|      0.01898|    0.01698|         0.00649|   0.01678|          0.002425|       14.5|       20.49|         96.09|    630.5|         0.1312|          0.2776|         0.189|            0.07283|       0.3184|              0.08183|null|\n",
            "+--------+---------+----------+-----------+-------------+--------+--------------+---------------+-------------+------------------+------------+--------------------+--------+---------+-----------+------+------------+-------------+-----------+----------------+----------+------------------+-----------+------------+--------------+---------+---------------+----------------+--------------+-------------------+-------------+---------------------+----+\n",
            "\n"
          ],
          "name": "stdout"
        }
      ]
    },
    {
      "cell_type": "code",
      "metadata": {
        "id": "38oDN8cBao4O",
        "outputId": "d7a1064c-e9d8-425a-8e56-7fc7b00540ab",
        "colab": {
          "base_uri": "https://localhost:8080/"
        }
      },
      "source": [
        "df1.select(*df1.columns[:4]).sort(\"radius_mean\",ascending = False).show()"
      ],
      "execution_count": 52,
      "outputs": [
        {
          "output_type": "stream",
          "text": [
            "+---------+---------+-----------+------------+\n",
            "|       id|diagnosis|radius_mean|texture_mean|\n",
            "+---------+---------+-----------+------------+\n",
            "|   862980|        B|      9.876|        19.4|\n",
            "|   862261|        B|      9.787|       19.94|\n",
            "|  8910996|        B|      9.742|       15.67|\n",
            "|   875099|        B|       9.72|       18.22|\n",
            "|  9113514|        B|      9.668|        18.1|\n",
            "|901034301|        B|      9.436|       18.32|\n",
            "|   905978|        B|      9.405|        21.7|\n",
            "|   924342|        B|      9.333|       21.94|\n",
            "|   915186|        B|      9.268|       12.87|\n",
            "|   859196|        B|      9.173|       13.86|\n",
            "|   859471|        B|      9.029|       17.33|\n",
            "|    89346|        B|          9|        14.4|\n",
            "|   864496|        B|      8.726|       15.83|\n",
            "|   872113|        B|      8.671|       14.45|\n",
            "|   858981|        B|      8.598|       20.98|\n",
            "|    91805|        B|      8.571|        13.1|\n",
            "| 85713702|        B|      8.196|       16.84|\n",
            "|   921092|        B|      7.729|       25.49|\n",
            "|   921362|        B|      7.691|       25.44|\n",
            "|   862722|        B|      6.981|       13.43|\n",
            "+---------+---------+-----------+------------+\n",
            "only showing top 20 rows\n",
            "\n"
          ],
          "name": "stdout"
        }
      ]
    },
    {
      "cell_type": "code",
      "metadata": {
        "id": "xrfsnQk2cprC"
      },
      "source": [
        "df1.select(\"radius_mean\").a"
      ],
      "execution_count": null,
      "outputs": []
    }
  ]
}