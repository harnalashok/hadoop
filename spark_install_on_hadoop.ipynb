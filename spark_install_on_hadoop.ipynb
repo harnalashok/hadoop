{
  "nbformat": 4,
  "nbformat_minor": 0,
  "metadata": {
    "colab": {
      "provenance": [],
      "collapsed_sections": [
        "zDmuRsOCchey",
        "uvfQ6c1KeqIh",
        "rNFqr9mJzIQI",
        "XBFVWWuafLBL",
        "L6XYg1IGs17n",
        "ltqKE7eYBltz",
        "eoPV_5RPBo2D",
        "XTZ7T0Z7JaIf",
        "1FMRm5hXJsGg"
      ],
      "include_colab_link": true
    },
    "kernelspec": {
      "name": "python3",
      "display_name": "Python 3"
    },
    "language_info": {
      "name": "python"
    }
  },
  "cells": [
    {
      "cell_type": "markdown",
      "metadata": {
        "id": "view-in-github",
        "colab_type": "text"
      },
      "source": [
        "<a href=\"https://colab.research.google.com/github/harnalashok/hadoop/blob/main/spark_install_on_hadoop.ipynb\" target=\"_parent\"><img src=\"https://colab.research.google.com/assets/colab-badge.svg\" alt=\"Open In Colab\"/></a>"
      ]
    },
    {
      "cell_type": "code",
      "metadata": {
        "id": "4q64Z8IYb8fr"
      },
      "source": [
        "# Last amended: 27th March, 2023\n",
        "# Myfolder: github/hadoop\n",
        "# Objective:\n",
        "#            i)  Install hadoop on colab\n",
        "#                hadoop version is 3.3.5\n",
        "#            ii) Experiments with hadoop\n",
        "#           iii) Install spark on colab\n",
        "#                 spark version is 3.3.2\n",
        "#            iv) Access file on hadoop from spark\n",
        "#\n",
        "# ****************************************\n",
        "#  Anytime hadoop is in safemode, execute:           \n",
        "#  !hdfs dfsadmin -safemode leave\n",
        "# ****************************************\n",
        "#\n",
        "# Java 8 install: https://stackoverflow.com/a/58191107\n",
        "# Hadoop install: https://hadoop.apache.org/docs/stable/hadoop-project-dist/hadoop-common/SingleCluster.html\n",
        "# Spark install:  https://stackoverflow.com/a/64183749\n",
        "#                 https://www.analyticsvidhya.com/blog/2020/11/a-must-read-guide-on-how-to-work-with-pyspark-on-google-colab-for-data-scientists/"
      ],
      "execution_count": null,
      "outputs": []
    },
    {
      "cell_type": "markdown",
      "metadata": {
        "id": "zDmuRsOCchey"
      },
      "source": [
        "## Install hadoop\n",
        "Install and configure hadoop"
      ]
    },
    {
      "cell_type": "markdown",
      "metadata": {
        "id": "P-v7l17LclsR"
      },
      "source": [
        "### Define functions\n",
        "No downloads. Just function definitions"
      ]
    },
    {
      "cell_type": "code",
      "metadata": {
        "id": "HBVUrlkidyaE"
      },
      "source": [
        "# 1.0 How to set environment variable\n",
        "import os  \n",
        "import time  "
      ],
      "execution_count": 1,
      "outputs": []
    },
    {
      "cell_type": "markdown",
      "metadata": {
        "id": "mfFBQ0FLcolo"
      },
      "source": [
        "#### ssh_install()"
      ]
    },
    {
      "cell_type": "code",
      "metadata": {
        "id": "mgS9HNCyR7C0"
      },
      "source": [
        "# 2.0 Function to install ssh client and sshd (Server)\n",
        "def ssh_install():\n",
        "  print(\"\\n--1. Download and install ssh server----\\n\")\n",
        "  ! sudo apt-get remove openssh-client openssh-server\n",
        "  ! sudo apt install openssh-client openssh-server\n",
        "  \n",
        "  print(\"\\n--2. Restart ssh server----\\n\")\n",
        "  ! service ssh restart"
      ],
      "execution_count": 2,
      "outputs": []
    },
    {
      "cell_type": "markdown",
      "metadata": {
        "id": "IJNKSScPcsDS"
      },
      "source": [
        "#### Java install"
      ]
    },
    {
      "cell_type": "code",
      "metadata": {
        "id": "BsFu84PSR9jR"
      },
      "source": [
        "# 3.0 Function to download and install java 8\n",
        "def install_java():\n",
        "  ! rm -rf /usr/java\n",
        "\n",
        "  print(\"\\n--Download and install Java 8----\\n\")\n",
        "  !apt-get install -y openjdk-8-jdk-headless -qq > /dev/null        # install openjdk\n",
        "  os.environ[\"JAVA_HOME\"] = \"/usr/lib/jvm/java-8-openjdk-amd64\"     # set environment variable\n",
        "\n",
        "  !update-alternatives --set java /usr/lib/jvm/java-8-openjdk-amd64/jre/bin/java\n",
        "  !update-alternatives --set javac /usr/lib/jvm/java-8-openjdk-amd64/bin/javac\n",
        "  \n",
        "  !mkdir -p /usr/java\n",
        "  ! ln -s \"/usr/lib/jvm/java-8-openjdk-amd64\"  \"/usr/java\"\n",
        "  ! mv \"/usr/java/java-8-openjdk-amd64\"  \"/usr/java/latest\"\n",
        "  \n",
        "  !java -version       #check java version\n",
        "  !javac -version"
      ],
      "execution_count": 3,
      "outputs": []
    },
    {
      "cell_type": "markdown",
      "metadata": {
        "id": "cuZPLoqrcvtp"
      },
      "source": [
        "#### hadoop install"
      ]
    },
    {
      "cell_type": "code",
      "metadata": {
        "id": "dg2fSk_ylMbr"
      },
      "source": [
        "# 4.0 Function to download and install hadoop\n",
        "def hadoop_install():\n",
        "  print(\"\\n--5. Download hadoop tar.gz----\\n\")\n",
        "  ! wget -c https://dlcdn.apache.org/hadoop/common/hadoop-3.3.5/hadoop-3.3.5.tar.gz\n",
        "\n",
        "  print(\"\\n--6. Transfer downloaded content and unzip tar.gz----\\n\")\n",
        "  !  mv /content/hadoop*   /opt/\n",
        "  ! tar -xzf /opt/hadoop-3.3.5.tar.gz  --directory /opt/\n",
        "\n",
        "  print(\"\\n--7. Create hadoop folder----\\n\")\n",
        "  ! rm -r /app/hadoop/tmp\n",
        "  ! mkdir  -p   /app/hadoop/tmp\n",
        "  \n",
        "  print(\"\\n--8. Check folder for files----\\n\")\n",
        "  ! ls -la /opt"
      ],
      "execution_count": 4,
      "outputs": []
    },
    {
      "cell_type": "markdown",
      "metadata": {
        "id": "5iPTRV2qc0Pg"
      },
      "source": [
        "#### hadoop config"
      ]
    },
    {
      "cell_type": "code",
      "metadata": {
        "id": "SChb4dXsurlC"
      },
      "source": [
        "# 5.0 Function for setting hadoop configuration\n",
        "def hadoop_config():\n",
        "  print(\"\\n--Begin Configuring hadoop---\\n\")\n",
        "  print(\"\\n=============================\\n\")\n",
        "  print(\"\\n--9. core-site.xml----\\n\")\n",
        "  ! cat  /opt/hadoop-3.3.5/etc/hadoop/core-site.xml\n",
        "\n",
        "  print(\"\\n--10. Amend core-site.xml----\\n\")\n",
        "  !  echo  '<?xml version=\"1.0\" encoding=\"UTF-8\"?>' >  /opt/hadoop-3.3.5/etc/hadoop/core-site.xml\n",
        "  !  echo  '<?xml-stylesheet type=\"text/xsl\" href=\"configuration.xsl\"?>' >>  /opt/hadoop-3.3.5/etc/hadoop/core-site.xml\n",
        "  !  echo  ' <configuration>' >>  /opt/hadoop-3.3.5/etc/hadoop/core-site.xml\n",
        "  !  echo  '    <property>' >>  /opt/hadoop-3.3.5/etc/hadoop/core-site.xml\n",
        "  !  echo  '        <name>fs.defaultFS</name>' >>  /opt/hadoop-3.3.5/etc/hadoop/core-site.xml\n",
        "  !  echo  '        <value>hdfs://localhost:9000</value>' >>  /opt/hadoop-3.3.5/etc/hadoop/core-site.xml\n",
        "  !  echo  '    </property>' >>  /opt/hadoop-3.3.5/etc/hadoop/core-site.xml\n",
        "  !  echo  '    <property>' >>  /opt/hadoop-3.3.5/etc/hadoop/core-site.xml\n",
        "  !  echo  '          <name>hadoop.tmp.dir</name>' >>  /opt/hadoop-3.3.5/etc/hadoop/core-site.xml\n",
        "  !  echo  '          <value>/app/hadoop/tmp</value>' >>  /opt/hadoop-3.3.5/etc/hadoop/core-site.xml\n",
        "  !  echo  '       <description>A base for other temporary directories.</description>' >>  /opt/hadoop-3.3.5/etc/hadoop/core-site.xml\n",
        "  !  echo  '     </property>' >>  /opt/hadoop-3.3.5/etc/hadoop/core-site.xml\n",
        "  # Added following regarding safemode from here:\n",
        "  # https://stackoverflow.com/a/33800253\n",
        "  !  echo  '     <property>'    >> /opt/hadoop-3.3.5/etc/hadoop/core-site.xml\n",
        "  !  echo  '      <name>dfs.safemode.threshold.pct</name>'  >> /opt/hadoop-3.3.5/etc/hadoop/core-site.xml\n",
        "  !  echo  '    <value>0</value>'  >> /opt/hadoop-3.3.5/etc/hadoop/core-site.xml\n",
        "  !  echo  '  </property>'  >> /opt/hadoop-3.3.5/etc/hadoop/core-site.xml\n",
        "  !  echo  '  </configuration>' >>  /opt/hadoop-3.3.5/etc/hadoop/core-site.xml\n",
        "\n",
        "  print(\"\\n--11. Amended core-site.xml----\\n\")\n",
        "  ! cat  /opt/hadoop-3.3.5/etc/hadoop/core-site.xml\n",
        "\n",
        "  print(\"\\n--12. yarn-site.xml----\\n\")\n",
        "  !cat /opt/hadoop-3.3.5/etc/hadoop/yarn-site.xml\n",
        "\n",
        "  !echo '<?xml version=\"1.0\" encoding=\"UTF-8\"?>' > /opt/hadoop-3.3.5/etc/hadoop/yarn-site.xml\n",
        "  !echo '<configuration>' >> /opt/hadoop-3.3.5/etc/hadoop/yarn-site.xml\n",
        "  !echo '    <property>' >> /opt/hadoop-3.3.5/etc/hadoop/yarn-site.xml\n",
        "  !echo '        <name>yarn.nodemanager.aux-services</name>' >> /opt/hadoop-3.3.5/etc/hadoop/yarn-site.xml\n",
        "  !echo '        <value>mapreduce_shuffle</value>' >> /opt/hadoop-3.3.5/etc/hadoop/yarn-site.xml\n",
        "  !echo '    </property>' >> /opt/hadoop-3.3.5/etc/hadoop/yarn-site.xml\n",
        "  !echo '    <property>'  >> /opt/hadoop-3.3.5/etc/hadoop/yarn-site.xml\n",
        "  !echo '       <name>yarn.nodemanager.vmem-check-enabled</name>'  >> /opt/hadoop-3.3.5/etc/hadoop/yarn-site.xml\n",
        "  !echo '       <value>false</value>'  >> /opt/hadoop-3.3.5/etc/hadoop/yarn-site.xml\n",
        "  !echo '    </property>'  >> /opt/hadoop-3.3.5/etc/hadoop/yarn-site.xml\n",
        "  !echo ' </configuration>'  >> /opt/hadoop-3.3.5/etc/hadoop/yarn-site.xml\n",
        "  \n",
        "  print(\"\\n--13. Amended yarn-site.xml----\\n\")\n",
        "  !cat /opt/hadoop-3.3.5/etc/hadoop/yarn-site.xml\n",
        "\n",
        "  print(\"\\n--14. mapred-site.xml----\\n\")\n",
        "  !cat  /opt/hadoop-3.3.5/etc/hadoop/mapred-site.xml\n",
        "\n",
        "  print(\"\\n--15. Amend mapred-site.xml----\\n\")\n",
        "  !echo '<?xml version=\"1.0\"?>'  > /opt/hadoop-3.3.5/etc/hadoop/mapred-site.xml\n",
        "  !echo '<?xml-stylesheet type=\"text/xsl\" href=\"configuration.xsl\"?>'  >> /opt/hadoop-3.3.5/etc/hadoop/mapred-site.xml\n",
        "  !echo '<configuration>'  >> /opt/hadoop-3.3.5/etc/hadoop/mapred-site.xml\n",
        "  !echo '    <property>'  >> /opt/hadoop-3.3.5/etc/hadoop/mapred-site.xml\n",
        "  !echo '       <name>mapreduce.framework.name</name>'  >> /opt/hadoop-3.3.5/etc/hadoop/mapred-site.xml\n",
        "  !echo '        <value>yarn</value>'  >> /opt/hadoop-3.3.5/etc/hadoop/mapred-site.xml\n",
        "  !echo '    </property>'  >> /opt/hadoop-3.3.5/etc/hadoop/mapred-site.xml\n",
        "  !echo '    <property>'  >> /opt/hadoop-3.3.5/etc/hadoop/mapred-site.xml\n",
        "  !echo '        <name>yarn.app.mapreduce.am.env</name>'  >> /opt/hadoop-3.3.5/etc/hadoop/mapred-site.xml\n",
        "  !echo '        <value>HADOOP_MAPRED_HOME=${HADOOP_HOME}</value>'  >> /opt/hadoop-3.3.5/etc/hadoop/mapred-site.xml\n",
        "  !echo '    </property>'  >> /opt/hadoop-3.3.5/etc/hadoop/mapred-site.xml\n",
        "  !echo '    <property>'  >> /opt/hadoop-3.3.5/etc/hadoop/mapred-site.xml\n",
        "  !echo '       <name>mapreduce.map.env</name>'  >> /opt/hadoop-3.3.5/etc/hadoop/mapred-site.xml\n",
        "  !echo '       <value>HADOOP_MAPRED_HOME=${HADOOP_HOME}</value>'  >> /opt/hadoop-3.3.5/etc/hadoop/mapred-site.xml\n",
        "  !echo '    </property>'  >> /opt/hadoop-3.3.5/etc/hadoop/mapred-site.xml\n",
        "  !echo '    <property>'  >> /opt/hadoop-3.3.5/etc/hadoop/mapred-site.xml\n",
        "  !echo '      <name>mapreduce.reduce.env</name>'  >> /opt/hadoop-3.3.5/etc/hadoop/mapred-site.xml\n",
        "  !echo '      <value>HADOOP_MAPRED_HOME=${HADOOP_HOME}</value>'  >> /opt/hadoop-3.3.5/etc/hadoop/mapred-site.xml\n",
        "  !echo '   </property>'  >> /opt/hadoop-3.3.5/etc/hadoop/mapred-site.xml\n",
        "  !echo '</configuration>'  >> /opt/hadoop-3.3.5/etc/hadoop/mapred-site.xml\n",
        "\n",
        "  print(\"\\n--16, Amended mapred-site.xml----\\n\")\n",
        "  !cat  /opt/hadoop-3.3.5/etc/hadoop/mapred-site.xml\n",
        "\n",
        "  print(\"\\n---17. hdfs-site.xml----\\n\")\n",
        "  !cat  /opt/hadoop-3.3.5/etc/hadoop/hdfs-site.xml\n",
        "  \n",
        "  print(\"\\n---18. Amend hdfs-site.xml----\\n\")\n",
        "  !echo  '<?xml version=\"1.0\" encoding=\"UTF-8\"?> '   > /opt/hadoop-3.3.5/etc/hadoop/hdfs-site.xml\n",
        "  !echo  '<?xml-stylesheet type=\"text/xsl\" href=\"configuration.xsl\"?>' >> /opt/hadoop-3.3.5/etc/hadoop/hdfs-site.xml\n",
        "  !echo  '<configuration>'  >> /opt/hadoop-3.3.5/etc/hadoop/hdfs-site.xml\n",
        "  !echo  '    <property>'  >> /opt/hadoop-3.3.5/etc/hadoop/hdfs-site.xml\n",
        "  !echo  '        <name>dfs.replication</name>'  >> /opt/hadoop-3.3.5/etc/hadoop/hdfs-site.xml\n",
        "  !echo  '        <value>1</value>'  >> /opt/hadoop-3.3.5/etc/hadoop/hdfs-site.xml\n",
        "  !echo  '    </property>'  >> /opt/hadoop-3.3.5/etc/hadoop/hdfs-site.xml\n",
        "  !echo  '   <property>'   >> /opt/hadoop-3.3.5/etc/hadoop/hdfs-site.xml\n",
        "  !echo  '        <name>dfs.block.size</name>'  >> /opt/hadoop-3.3.5/etc/hadoop/hdfs-site.xml\n",
        "  !echo  '        <value>16777216</value>'  >> /opt/hadoop-3.3.5/etc/hadoop/hdfs-site.xml\n",
        "  !echo  '        <description>Block size</description>'  >> /opt/hadoop-3.3.5/etc/hadoop/hdfs-site.xml\n",
        "  !echo  '  </property>'  >> /opt/hadoop-3.3.5/etc/hadoop/hdfs-site.xml\n",
        "  !echo  '</configuration>'  >> /opt/hadoop-3.3.5/etc/hadoop/hdfs-site.xml\n",
        "\n",
        "  print(\"\\n---19. Amended hdfs-site.xml----\\n\")\n",
        "  !cat  /opt/hadoop-3.3.5/etc/hadoop/hdfs-site.xml\n",
        "\n",
        "  print(\"\\n---20. hadoop-env.sh----\\n\")\n",
        "  # https://stackoverflow.com/a/53140448\n",
        "  !cat /opt/hadoop-3.3.5/etc/hadoop/hadoop-env.sh\n",
        "  ! echo 'export JAVA_HOME=\"/usr/lib/jvm/java-8-openjdk-amd64\"' >> /opt/hadoop-3.3.5/etc/hadoop/hadoop-env.sh\n",
        "  ! echo 'export HDFS_NAMENODE_USER=\"root\"'  >> /opt/hadoop-3.3.5/etc/hadoop/hadoop-env.sh\n",
        "  ! echo 'export HDFS_DATANODE_USER=\"root\"'  >> /opt/hadoop-3.3.5/etc/hadoop/hadoop-env.sh\n",
        "  ! echo 'export HDFS_SECONDARYNAMENODE_USER=\"root\"'  >> /opt/hadoop-3.3.5/etc/hadoop/hadoop-env.sh\n",
        "  ! echo 'export YARN_RESOURCEMANAGER_USER=\"root\"'  >> /opt/hadoop-3.3.5/etc/hadoop/hadoop-env.sh\n",
        "  ! echo 'export YARN_NODEMANAGER_USER=\"root\"'  >> /opt/hadoop-3.3.5/etc/hadoop/hadoop-env.sh\n",
        "  \n",
        "  print(\"\\n---21. Amended hadoop-env.sh----\\n\")\n",
        "  !cat /opt/hadoop-3.3.5/etc/hadoop/hadoop-env.sh\n"
      ],
      "execution_count": 5,
      "outputs": []
    },
    {
      "cell_type": "markdown",
      "metadata": {
        "id": "Y159J8TDc3wS"
      },
      "source": [
        "#### ssh keys"
      ]
    },
    {
      "cell_type": "code",
      "metadata": {
        "id": "EOFbfw7n0Pps"
      },
      "source": [
        "# 6.0 Function tp setup ssh passphrase\n",
        "def set_keys():\n",
        "  print(\"\\n---22.0 Deleting existing SSH keys----\\n\")\n",
        "  ! rm -r -f /root/.ssh\n",
        "\n",
        "  print(\"\\n---22.1 Generate SSH keys----\\n\")\n",
        "  ! cd ~ ; pwd \n",
        "  ! cd ~ ; ssh-keygen -t rsa -P '' -f ~/.ssh/id_rsa\n",
        "  ! cd ~ ; cat ~/.ssh/id_rsa.pub >> ~/.ssh/authorized_keys\n",
        "  ! cd ~ ; chmod 0600 ~/.ssh/authorized_keys\n"
      ],
      "execution_count": 6,
      "outputs": []
    },
    {
      "cell_type": "markdown",
      "metadata": {
        "id": "7M2kWg3dc6FT"
      },
      "source": [
        "#### Set environment"
      ]
    },
    {
      "cell_type": "code",
      "metadata": {
        "id": "CRSn9XAV4rsR"
      },
      "source": [
        "# 7.0 Function to set up environmental variables\n",
        "def set_env():\n",
        "  print(\"\\n---23. Set Environment variables----\\n\")\n",
        "  # 'export' command does not work in colab\n",
        "  # https://stackoverflow.com/a/57240319\n",
        "  os.environ[\"JAVA_HOME\"] = \"/usr/lib/jvm/java-8-openjdk-amd64\"     #set environment variable\n",
        "  os.environ[\"JRE_HOME\"] = \"/usr/lib/jvm/java-8-openjdk-amd64/jre\"   \n",
        "  os.environ[\"HADOOP_HOME\"] = \"/opt/hadoop-3.3.5\"\n",
        "  os.environ[\"HADOOP_CONF_DIR\"] = \"/opt/hadoop-3.3.5/etc/hadoop\" \n",
        "  os.environ[\"LD_LIBRARY_PATH\"] += \":/opt/hadoop-3.3.5/lib/native\"\n",
        "  os.environ[\"PATH\"] += \":/opt/hadoop-3.3.5/bin:/opt/hadoop-3.3.5/sbin\""
      ],
      "execution_count": 7,
      "outputs": []
    },
    {
      "cell_type": "markdown",
      "metadata": {
        "id": "WII-UNCzc9qJ"
      },
      "source": [
        "#### Install all function"
      ]
    },
    {
      "cell_type": "code",
      "metadata": {
        "id": "oh1Mi0rHFpkU"
      },
      "source": [
        "# 8.0 Function to call all functions\n",
        "def install_hadoop():\n",
        "  print(\"\\n--Install java----\\n\")\n",
        "  ssh_install()\n",
        "  install_java()  \n",
        "  hadoop_install()\n",
        "  hadoop_config()\n",
        "  set_keys()\n",
        "  set_env()\n"
      ],
      "execution_count": 8,
      "outputs": []
    },
    {
      "cell_type": "markdown",
      "metadata": {
        "id": "iHJyHMhUdCRZ"
      },
      "source": [
        "### Begin install\n",
        "Start downloading, install and configure. Takes around 1 minute"
      ]
    },
    {
      "cell_type": "code",
      "metadata": {
        "id": "77YQikvsJiTm"
      },
      "source": [
        "# 9.0 Start installation\n",
        "start = time.time()\n",
        "install_hadoop()\n",
        "end = time.time()\n",
        "print(\"\\n---Time taken----\\n\")\n",
        "print((end- start)/60)"
      ],
      "execution_count": null,
      "outputs": []
    },
    {
      "cell_type": "markdown",
      "metadata": {
        "id": "MW3SwbcLdGaY"
      },
      "source": [
        "### Format hadoop"
      ]
    },
    {
      "cell_type": "code",
      "metadata": {
        "id": "lhLO-fzv3EpE"
      },
      "source": [
        "# 10.0 Format hadoop\n",
        "print(\"\\n---24. Format namenode----\\n\")\n",
        "!hdfs namenode  -format"
      ],
      "execution_count": null,
      "outputs": []
    },
    {
      "cell_type": "markdown",
      "metadata": {
        "id": "uvfQ6c1KeqIh"
      },
      "source": [
        "## Start hadoop\n",
        "And create folders\n"
      ]
    },
    {
      "cell_type": "markdown",
      "source": [
        "\n",
        ">If namenode is in safemode, use the command:   \n",
        "`!hdfs dfsadmin -safemode leave`\n",
        "\n",
        "\n",
        ">If start fails with 'Connection refused', run once again  \n",
        " `ssh_install()` OR restart runtime `(ctrl+M)`\n",
        "\n",
        "> Folders created are:\n",
        ">> /user <br>\n",
        ">> /user/ashok\n",
        "\n",
        ">> A file `airports.csv` is also created and deposited in /user/ashok "
      ],
      "metadata": {
        "id": "TRun_r5P81Qi"
      }
    },
    {
      "cell_type": "code",
      "metadata": {
        "id": "QlT89iZz_aeh",
        "outputId": "26160cbe-14d6-4f5e-cdc5-cea2e497d12f",
        "colab": {
          "base_uri": "https://localhost:8080/"
        }
      },
      "source": [
        "# 11.0 Start namenode\n",
        "#      If this fails, run\n",
        "#       ssh_install() below\n",
        "#        and start hadoop again:\n",
        "\n",
        "print(\"\\n---25. Start namenode----\\n\")\n",
        "! start-dfs.sh"
      ],
      "execution_count": 19,
      "outputs": [
        {
          "output_type": "stream",
          "name": "stdout",
          "text": [
            "\n",
            "---25. Start namenode----\n",
            "\n",
            "Starting namenodes on [localhost]\n",
            "localhost: namenode is running as process 39485.  Stop it first and ensure /tmp/hadoop-root-namenode.pid file is empty before retry.\n",
            "Starting datanodes\n",
            "Starting secondary namenodes [d89213ccffe7]\n",
            "d89213ccffe7: secondarynamenode is running as process 5960.  Stop it first and ensure /tmp/hadoop-root-secondarynamenode.pid file is empty before retry.\n"
          ]
        }
      ]
    },
    {
      "cell_type": "code",
      "metadata": {
        "id": "ScVvdOPiuAaI"
      },
      "source": [
        "#ssh_install()"
      ],
      "execution_count": 20,
      "outputs": []
    },
    {
      "cell_type": "markdown",
      "metadata": {
        "id": "azR2g9vkes4K"
      },
      "source": [
        "#### Start yarn"
      ]
    },
    {
      "cell_type": "code",
      "metadata": {
        "id": "x8Qx_vc9PHZj",
        "colab": {
          "base_uri": "https://localhost:8080/"
        },
        "outputId": "96394678-05f7-45b6-ce81-59cbe699a4aa"
      },
      "source": [
        "# 11.1 Start yarn\n",
        "! start-yarn.sh"
      ],
      "execution_count": 21,
      "outputs": [
        {
          "output_type": "stream",
          "name": "stdout",
          "text": [
            "Starting resourcemanager\n",
            "resourcemanager is running as process 39969.  Stop it first and ensure /tmp/hadoop-root-resourcemanager.pid file is empty before retry.\n",
            "Starting nodemanagers\n",
            "localhost: nodemanager is running as process 6341.  Stop it first and ensure /tmp/hadoop-root-nodemanager.pid file is empty before retry.\n"
          ]
        }
      ]
    },
    {
      "cell_type": "markdown",
      "metadata": {
        "id": "UI-wzZD6ccBM"
      },
      "source": [
        "If `start-dfs.sh` fails, issue the following three commands, one after another:<br>  \n",
        "`! sudo apt-get remove openssh-client openssh-server`<br>\n",
        "`! sudo apt-get install openssh-client openssh-server`<br>\n",
        "`! service ssh restart`<br>\n",
        "\n",
        "And then try to start hadoop again, as: `start-dfs.sh`"
      ]
    },
    {
      "cell_type": "code",
      "source": [
        "# If in safemode leave it\n",
        "!hdfs dfsadmin -safemode leave"
      ],
      "metadata": {
        "colab": {
          "base_uri": "https://localhost:8080/"
        },
        "id": "aooCoIsN4b7b",
        "outputId": "f212079e-2a37-4a02-b040-027e17243561"
      },
      "execution_count": 22,
      "outputs": [
        {
          "output_type": "stream",
          "name": "stdout",
          "text": [
            "Safe mode is OFF\n"
          ]
        }
      ]
    },
    {
      "cell_type": "markdown",
      "metadata": {
        "id": "QJZLpxOYev7y"
      },
      "source": [
        "### Create folders in hadoop\n",
        "Folders created are:\n",
        "> /user <br>\n",
        "> /user/ashok\n",
        "\n",
        " A file `airports.csv` is also created and deposited in /user/ashok \n"
      ]
    },
    {
      "cell_type": "code",
      "metadata": {
        "id": "pMt89uLNCUVC",
        "colab": {
          "base_uri": "https://localhost:8080/"
        },
        "outputId": "4add01d4-e6b8-4ab1-8fb2-647748720375"
      },
      "source": [
        "# 11.1\n",
        "print(\"\\n---26. Make folders in hadoop----\\n\")\n",
        "! hdfs dfs -mkdir /user\n",
        "! hdfs dfs -mkdir /user/ashok"
      ],
      "execution_count": 23,
      "outputs": [
        {
          "output_type": "stream",
          "name": "stdout",
          "text": [
            "\n",
            "---26. Make folders in hadoop----\n",
            "\n",
            "mkdir: `/user': File exists\n",
            "mkdir: `/user/ashok': File exists\n"
          ]
        }
      ]
    },
    {
      "cell_type": "code",
      "source": [
        "# 11.1.1 Create a csv file \n",
        "#          and tranfer it to hdfs:\n",
        "\n",
        "!echo \"a,b,c,d\"   > /content/airports.csv\n",
        "!echo \"5,4,6,7\"   >> /content/airports.csv\n",
        "!echo \"2,3,4,5\"   >> /content/airports.csv\n",
        "!echo \"8,9,0,1\"   >> /content/airports.csv\n",
        "!echo \"2,3,4,1\"   >> /content/airports.csv\n",
        "!echo \"1,2,2,1\"   >> /content/airports.csv\n",
        "!echo \"0,1,2,6\"   >> /content/airports.csv\n",
        "!echo \"9,3,1,8\"   >> /content/airports.csv\n",
        "\n",
        "\n",
        "# 4.4\n",
        "!hdfs dfs -rm -f /user/ashok/airports.csv\n",
        "!hdfs dfs -put /content/airports.csv  /user/ashok/\n"
      ],
      "metadata": {
        "id": "3zWhThAEzgta"
      },
      "execution_count": 24,
      "outputs": []
    },
    {
      "cell_type": "markdown",
      "source": [
        "## Check if folders created\n",
        "Folders are:\n",
        ">> /user <br>\n",
        ">> /user/ashok"
      ],
      "metadata": {
        "id": "rNFqr9mJzIQI"
      }
    },
    {
      "cell_type": "code",
      "metadata": {
        "id": "-ez0FPw3CtOi",
        "colab": {
          "base_uri": "https://localhost:8080/"
        },
        "outputId": "847ca518-c0ae-4fd5-81ee-918cdbecb9ff"
      },
      "source": [
        "# 11.2 Run hadoop commands\n",
        "#  If hadoop in safemode, execute\n",
        "# !hdfs dfsadmin -safemode leave\n",
        "\n",
        "\n",
        "! hdfs dfs -ls /\n",
        "! hdfs dfs -ls /user\n",
        "! hdfs dfs -ls /user/ashok"
      ],
      "execution_count": 25,
      "outputs": [
        {
          "output_type": "stream",
          "name": "stdout",
          "text": [
            "Found 1 items\n",
            "drwxr-xr-x   - root supergroup          0 2023-03-27 07:37 /user\n",
            "Found 1 items\n",
            "drwxr-xr-x   - root supergroup          0 2023-03-27 07:41 /user/ashok\n",
            "Found 1 items\n",
            "-rw-r--r--   1 root supergroup         64 2023-03-27 07:41 /user/ashok/airports.csv\n"
          ]
        }
      ]
    },
    {
      "cell_type": "code",
      "metadata": {
        "id": "1-fSbrEWH643"
      },
      "source": [
        "# 11.3 Stopping hadoop\n",
        "#      Gives some errors\n",
        "#      But hadoop stops\n",
        "#!stop-dfs.sh"
      ],
      "execution_count": 26,
      "outputs": []
    },
    {
      "cell_type": "markdown",
      "metadata": {
        "id": "EwBD74dadYfz"
      },
      "source": [
        "Run the `ssh_install()` again if hadoop fails to start with `start-dfs.sh` and then try to start hadoop again."
      ]
    },
    {
      "cell_type": "markdown",
      "metadata": {
        "id": "XBFVWWuafLBL"
      },
      "source": [
        "## Install spark"
      ]
    },
    {
      "cell_type": "markdown",
      "metadata": {
        "id": "CyuLCFRJsvW3"
      },
      "source": [
        "### Define functions"
      ]
    },
    {
      "cell_type": "markdown",
      "metadata": {
        "id": "kk3BP0OfYpT1"
      },
      "source": [
        "`findspark`: PySpark isn't on `sys.path` by default, but that doesn't mean it can't be used as a regular library. You can address this by either symlinking pyspark into your site-packages, or adding `pyspark` to `sys.path` at runtime. `findspark` does the latter."
      ]
    },
    {
      "cell_type": "code",
      "metadata": {
        "id": "opLGqtPRfM_5"
      },
      "source": [
        "# 1.0 Function to download and unzip spark\n",
        "def spark_koalas_install():\n",
        "  print(\"\\n--1.1 Install findspark----\\n\")\n",
        "  !pip install -q findspark\n",
        "\n",
        "  #print(\"\\n--1.2 Install databricks Koalas----\\n\")\n",
        "  #!pip install koalas\n",
        "\n",
        "  print(\"\\n--1.3 Download Apache tar.gz----\\n\")\n",
        "  \n",
        "  ! wget -c https://dlcdn.apache.org/spark/spark-3.3.2/spark-3.3.2-bin-hadoop3.tgz\n",
        "\n",
        "  print(\"\\n--1.4 Transfer downloaded content and unzip tar.gz----\\n\")\n",
        "  !  mv /content/spark*   /opt/\n",
        "  ! tar -xzf /opt/spark-3.3.2-bin-hadoop3.tgz  --directory /opt/\n",
        "\n",
        "  print(\"\\n--1.5 Check folder for files----\\n\")\n",
        "  ! ls -la /opt\n"
      ],
      "execution_count": 48,
      "outputs": []
    },
    {
      "cell_type": "code",
      "metadata": {
        "id": "ebXfvQ1qiQHz"
      },
      "source": [
        "# 1.1 Function to set environment\n",
        "def set_spark_env():\n",
        "  print(\"\\n---2. Set Environment variables----\\n\")\n",
        "  os.environ[\"JAVA_HOME\"] = \"/usr/lib/jvm/java-8-openjdk-amd64\" \n",
        "  os.environ[\"JRE_HOME\"] = \"/usr/lib/jvm/java-8-openjdk-amd64/jre\" \n",
        "  os.environ[\"SPARK_HOME\"] = \"/opt/spark-3.3.2-bin-hadoop3\"     \n",
        "  os.environ[\"LD_LIBRARY_PATH\"] += \":/opt/spark-3.3.2-bin-hadoop3/lib/native\"\n",
        "  os.environ[\"PATH\"] += \":/opt/spark-3.3.2-bin-hadoop3/bin:/opt/spark-3.3.2-bin-hadoop3/sbin\"\n",
        "  print(\"\\n---2.1. Check Environment variables----\\n\")\n",
        "  # Check\n",
        "  ! echo $PATH\n",
        "  ! echo $LD_LIBRARY_PATH"
      ],
      "execution_count": 49,
      "outputs": []
    },
    {
      "cell_type": "code",
      "metadata": {
        "id": "qUsZggDHj13U"
      },
      "source": [
        "# 1.2 Function to configure spark \n",
        "def spark_conf():\n",
        "  \n",
        "  print(\"\\n---3. Configure spark to access hadoop----\\n\")\n",
        "  !mv /opt/spark-3.3.2-bin-hadoop3/conf/spark-env.sh.template  /opt/spark-3.3.2-bin-hadoop3/conf/spark-env.sh\n",
        "  !echo \"HADOOP_CONF_DIR=/opt/hadoop-3.3.5/etc/hadoop/\" >> /opt/spark-3.3.2-bin-hadoop3/conf/spark-env.sh\n",
        "  print(\"\\n---3. Done....----\\n\")\n",
        "  # Amend properties\n",
        "  # Create spark-defaults.conf\n",
        "  print(\"\\n---3.1 Increase spark memory----\\n\") \n",
        "  ! cp /opt/spark-3.3.2-bin-hadoop3/conf/spark-defaults.conf.template  /opt/spark-3.3.2-bin-hadoop3/conf/spark-defaults.conf\n",
        "  ! echo \"spark.driver.memory 6g\" >> /opt/spark-3.3.2-bin-hadoop3/conf/spark-defaults.conf\n",
        "  ! echo \"spark.executor.memory 3g\" >> /opt/spark-3.3.2-bin-hadoop3/conf/spark-defaults.conf\n",
        "  print(\"\\n---3.1 Done....----\\n\")\n",
        "  #!cat /opt/spark-3.3.2-bin-hadoop3/conf/spark-env.sh"
      ],
      "execution_count": 50,
      "outputs": []
    },
    {
      "cell_type": "markdown",
      "metadata": {
        "id": "M7kLbAFLszN3"
      },
      "source": [
        "### Install spark"
      ]
    },
    {
      "cell_type": "code",
      "metadata": {
        "id": "z_eaLhtPktHJ"
      },
      "source": [
        "# 2.0 Call all the three functions\n",
        "def install_spark():\n",
        "  spark_koalas_install()\n",
        "  set_spark_env()\n",
        "  spark_conf()\n"
      ],
      "execution_count": 51,
      "outputs": []
    },
    {
      "cell_type": "code",
      "metadata": {
        "id": "emaHs1XxRt5z",
        "outputId": "50863ad7-05d1-4774-b1e3-3325cf4c6e7c",
        "colab": {
          "base_uri": "https://localhost:8080/"
        }
      },
      "source": [
        "# 2.1 \n",
        "# Delete earlier key store\n",
        "install_spark()"
      ],
      "execution_count": 52,
      "outputs": [
        {
          "output_type": "stream",
          "name": "stdout",
          "text": [
            "\n",
            "--1.1 Install findspark----\n",
            "\n",
            "\n",
            "--1.3 Download Apache tar.gz----\n",
            "\n",
            "--2023-03-27 08:15:42--  https://dlcdn.apache.org/spark/spark-3.3.2/spark-3.3.2-bin-hadoop3.tgz\n",
            "Resolving dlcdn.apache.org (dlcdn.apache.org)... 151.101.2.132, 2a04:4e42::644\n",
            "Connecting to dlcdn.apache.org (dlcdn.apache.org)|151.101.2.132|:443... connected.\n",
            "HTTP request sent, awaiting response... 200 OK\n",
            "Length: 299360284 (285M) [application/x-gzip]\n",
            "Saving to: ‘spark-3.3.2-bin-hadoop3.tgz’\n",
            "\n",
            "spark-3.3.2-bin-had 100%[===================>] 285.49M   143MB/s    in 2.0s    \n",
            "\n",
            "2023-03-27 08:15:44 (143 MB/s) - ‘spark-3.3.2-bin-hadoop3.tgz’ saved [299360284/299360284]\n",
            "\n",
            "\n",
            "--1.4 Transfer downloaded content and unzip tar.gz----\n",
            "\n",
            "\n",
            "--1.5 Check folder for files----\n",
            "\n",
            "total 982352\n",
            "drwxr-xr-x  1 root root      4096 Mar 27 08:15 .\n",
            "drwxr-xr-x  1 root root      4096 Mar 27 05:54 ..\n",
            "drwxr-xr-x  1 root root      4096 Mar 23 19:09 google\n",
            "drwxr-xr-x 11 2002 2002      4096 Mar 15 16:58 hadoop-3.3.5\n",
            "-rw-r--r--  1 root root 706533213 Mar 15 19:35 hadoop-3.3.5.tar.gz\n",
            "drwxr-xr-x  1 root root      4096 Mar 23 18:49 nvidia\n",
            "drwxr-xr-x 13  501 1000      4096 Feb 10 20:40 spark-3.3.2-bin-hadoop3\n",
            "-rw-r--r--  1 root root 299360284 Feb 10 21:28 spark-3.3.2-bin-hadoop3.tgz\n",
            "\n",
            "---2. Set Environment variables----\n",
            "\n",
            "\n",
            "---2.1. Check Environment variables----\n",
            "\n",
            "/opt/bin:/usr/local/nvidia/bin:/usr/local/cuda/bin:/usr/local/sbin:/usr/local/bin:/usr/sbin:/usr/bin:/sbin:/bin:/tools/node/bin:/tools/google-cloud-sdk/bin:/opt/hadoop-3.3.5/bin:/opt/hadoop-3.3.5/sbin:/opt/spark-3.3.2-bin-hadoop3/bin:/opt/spark-3.3.2-bin-hadoop3/sbin:/opt/spark-3.3.2-bin-hadoop3/bin:/opt/spark-3.3.2-bin-hadoop3/sbin:/opt/spark-3.3.2-bin-hadoop3/bin:/opt/spark-3.3.2-bin-hadoop3/sbin:/opt/spark-3.3.2-bin-hadoop3/bin:/opt/spark-3.3.2-bin-hadoop3/sbin\n",
            "/usr/local/nvidia/lib:/usr/local/nvidia/lib64:/opt/hadoop-3.3.5/lib/native:/opt/spark-3.3.2-bin-hadoop3/lib/native:/opt/spark-3.3.2-bin-hadoop3/lib/native:/opt/spark-3.3.2-bin-hadoop3/lib/native:/opt/spark-3.3.2-bin-hadoop3/lib/native\n",
            "\n",
            "---3. Configure spark to access hadoop----\n",
            "\n",
            "\n",
            "---3. Done....----\n",
            "\n",
            "\n",
            "---3.1 Increase spark memory----\n",
            "\n",
            "\n",
            "---3.1 Done....----\n",
            "\n"
          ]
        }
      ]
    },
    {
      "cell_type": "markdown",
      "metadata": {
        "id": "L6XYg1IGs17n"
      },
      "source": [
        "## Call libraries\n",
        "Hadoop should have been started<br>\n",
        "Instead of `pandas`, `pyspark pandas` imported as `ps`\n"
      ]
    },
    {
      "cell_type": "markdown",
      "metadata": {
        "id": "eZwLRxQWZryJ"
      },
      "source": [
        "Call some libraries"
      ]
    },
    {
      "cell_type": "code",
      "metadata": {
        "id": "6_1RXFGClfCy"
      },
      "source": [
        "# 3.0 Just call some libraries to test\n",
        "import numpy as np\n",
        "\n",
        "# 3.1 Get spark in sys.path\n",
        "import findspark\n",
        "findspark.init()\n",
        "\n",
        "# 3.2 Call other spark libraries\n",
        "#     Just to test\n",
        "from pyspark.sql import SparkSession\n",
        "import pyspark.pandas as ps\n",
        "from pyspark.ml.feature import VectorAssembler\n",
        "from pyspark.ml.regression import LinearRegression"
      ],
      "execution_count": 53,
      "outputs": []
    },
    {
      "cell_type": "markdown",
      "source": [
        "## Create Spark session\n",
        "Access spark as `spark`"
      ],
      "metadata": {
        "id": "ltqKE7eYBltz"
      }
    },
    {
      "cell_type": "code",
      "metadata": {
        "id": "ISNdxVmMmUVz"
      },
      "source": [
        "# 3.1 Build spark session\n",
        "spark = SparkSession. \\\n",
        "                    builder. \\\n",
        "                    master(\"local[*]\"). \\\n",
        "                    appName(\"myexpt\"). \\\n",
        "                    getOrCreate()\n"
      ],
      "execution_count": 54,
      "outputs": []
    },
    {
      "cell_type": "markdown",
      "source": [
        "## Test spark"
      ],
      "metadata": {
        "id": "eoPV_5RPBo2D"
      }
    },
    {
      "cell_type": "code",
      "metadata": {
        "id": "oVlRiGQJmk58",
        "colab": {
          "base_uri": "https://localhost:8080/",
          "height": 300
        },
        "outputId": "b3cd47eb-90bd-4b4f-97c7-f827edf6622d"
      },
      "source": [
        "# 4.0 pyspark pandas DataFrame\n",
        "pdf = ps.DataFrame({\n",
        "        'x1': ['a','a','b','b', 'b', 'c', 'd','d'],\n",
        "        'x2': ['apple', 'orange', 'orange','orange', 'peach', 'peach','apple','orange'],\n",
        "        'x3': [1, 1, 2, 2, 2, 4, 1, 2],\n",
        "        'x4': [2.4, 2.5, 3.5, 1.4, 2.1,1.5, 3.0, 2.0],\n",
        "        'y1': [1, 0, 1, 0, 0, 1, 1, 0],\n",
        "        'y2': ['yes', 'no', 'no', 'yes', 'yes', 'yes', 'no', 'yes']\n",
        "    })\n",
        "\n",
        "# 4.1\n",
        "pdf"
      ],
      "execution_count": 55,
      "outputs": [
        {
          "output_type": "execute_result",
          "data": {
            "text/plain": [
              "  x1      x2  x3   x4  y1   y2\n",
              "0  a   apple   1  2.4   1  yes\n",
              "1  a  orange   1  2.5   0   no\n",
              "2  b  orange   2  3.5   1   no\n",
              "3  b  orange   2  1.4   0  yes\n",
              "4  b   peach   2  2.1   0  yes\n",
              "5  c   peach   4  1.5   1  yes\n",
              "6  d   apple   1  3.0   1   no\n",
              "7  d  orange   2  2.0   0  yes"
            ],
            "text/html": [
              "<div>\n",
              "<style scoped>\n",
              "    .dataframe tbody tr th:only-of-type {\n",
              "        vertical-align: middle;\n",
              "    }\n",
              "\n",
              "    .dataframe tbody tr th {\n",
              "        vertical-align: top;\n",
              "    }\n",
              "\n",
              "    .dataframe thead th {\n",
              "        text-align: right;\n",
              "    }\n",
              "</style>\n",
              "<table border=\"1\" class=\"dataframe\">\n",
              "  <thead>\n",
              "    <tr style=\"text-align: right;\">\n",
              "      <th></th>\n",
              "      <th>x1</th>\n",
              "      <th>x2</th>\n",
              "      <th>x3</th>\n",
              "      <th>x4</th>\n",
              "      <th>y1</th>\n",
              "      <th>y2</th>\n",
              "    </tr>\n",
              "  </thead>\n",
              "  <tbody>\n",
              "    <tr>\n",
              "      <th>0</th>\n",
              "      <td>a</td>\n",
              "      <td>apple</td>\n",
              "      <td>1</td>\n",
              "      <td>2.4</td>\n",
              "      <td>1</td>\n",
              "      <td>yes</td>\n",
              "    </tr>\n",
              "    <tr>\n",
              "      <th>1</th>\n",
              "      <td>a</td>\n",
              "      <td>orange</td>\n",
              "      <td>1</td>\n",
              "      <td>2.5</td>\n",
              "      <td>0</td>\n",
              "      <td>no</td>\n",
              "    </tr>\n",
              "    <tr>\n",
              "      <th>2</th>\n",
              "      <td>b</td>\n",
              "      <td>orange</td>\n",
              "      <td>2</td>\n",
              "      <td>3.5</td>\n",
              "      <td>1</td>\n",
              "      <td>no</td>\n",
              "    </tr>\n",
              "    <tr>\n",
              "      <th>3</th>\n",
              "      <td>b</td>\n",
              "      <td>orange</td>\n",
              "      <td>2</td>\n",
              "      <td>1.4</td>\n",
              "      <td>0</td>\n",
              "      <td>yes</td>\n",
              "    </tr>\n",
              "    <tr>\n",
              "      <th>4</th>\n",
              "      <td>b</td>\n",
              "      <td>peach</td>\n",
              "      <td>2</td>\n",
              "      <td>2.1</td>\n",
              "      <td>0</td>\n",
              "      <td>yes</td>\n",
              "    </tr>\n",
              "    <tr>\n",
              "      <th>5</th>\n",
              "      <td>c</td>\n",
              "      <td>peach</td>\n",
              "      <td>4</td>\n",
              "      <td>1.5</td>\n",
              "      <td>1</td>\n",
              "      <td>yes</td>\n",
              "    </tr>\n",
              "    <tr>\n",
              "      <th>6</th>\n",
              "      <td>d</td>\n",
              "      <td>apple</td>\n",
              "      <td>1</td>\n",
              "      <td>3.0</td>\n",
              "      <td>1</td>\n",
              "      <td>no</td>\n",
              "    </tr>\n",
              "    <tr>\n",
              "      <th>7</th>\n",
              "      <td>d</td>\n",
              "      <td>orange</td>\n",
              "      <td>2</td>\n",
              "      <td>2.0</td>\n",
              "      <td>0</td>\n",
              "      <td>yes</td>\n",
              "    </tr>\n",
              "  </tbody>\n",
              "</table>\n",
              "</div>"
            ]
          },
          "metadata": {},
          "execution_count": 55
        }
      ]
    },
    {
      "cell_type": "code",
      "metadata": {
        "id": "L3pSQ7sDmnjt",
        "colab": {
          "base_uri": "https://localhost:8080/"
        },
        "outputId": "50d073d6-c4b4-43b2-cae4-746d80218c16"
      },
      "source": [
        "# 4.2 Transform pyspark pandas DataFrame \n",
        "#       to SparkSQL DataFrame:\n",
        "\n",
        "df = pdf.to_spark()\n",
        "df.show()"
      ],
      "execution_count": 56,
      "outputs": [
        {
          "output_type": "stream",
          "name": "stderr",
          "text": [
            "/opt/spark-3.3.2-bin-hadoop3/python/pyspark/pandas/utils.py:975: PandasAPIOnSparkAdviceWarning: If `index_col` is not specified for `to_spark`, the existing index is lost when converting to Spark DataFrame.\n",
            "  warnings.warn(message, PandasAPIOnSparkAdviceWarning)\n"
          ]
        },
        {
          "output_type": "stream",
          "name": "stdout",
          "text": [
            "+---+------+---+---+---+---+\n",
            "| x1|    x2| x3| x4| y1| y2|\n",
            "+---+------+---+---+---+---+\n",
            "|  a| apple|  1|2.4|  1|yes|\n",
            "|  a|orange|  1|2.5|  0| no|\n",
            "|  b|orange|  2|3.5|  1| no|\n",
            "|  b|orange|  2|1.4|  0|yes|\n",
            "|  b| peach|  2|2.1|  0|yes|\n",
            "|  c| peach|  4|1.5|  1|yes|\n",
            "|  d| apple|  1|3.0|  1| no|\n",
            "|  d|orange|  2|2.0|  0|yes|\n",
            "+---+------+---+---+---+---+\n",
            "\n"
          ]
        }
      ]
    },
    {
      "cell_type": "code",
      "metadata": {
        "id": "OzVBbgLkmsIR",
        "colab": {
          "base_uri": "https://localhost:8080/"
        },
        "outputId": "7cacf2ed-6a1e-4f44-fc04-e16b510e8358"
      },
      "source": [
        "# 4.3 Create a csv file \n",
        "#     and tranfer it to hdfs\n",
        "\n",
        "!echo \"a,b,c,d\"   > /content/airports.csv\n",
        "!echo \"5,4,6,7\"   >> /content/airports.csv\n",
        "!echo \"2,3,4,5\"   >> /content/airports.csv\n",
        "!echo \"8,9,0,1\"   >> /content/airports.csv\n",
        "!echo \"2,3,4,1\"   >> /content/airports.csv\n",
        "!echo \"1,2,2,1\"   >> /content/airports.csv\n",
        "!echo \"0,1,2,6\"   >> /content/airports.csv\n",
        "!echo \"9,3,1,8\"   >> /content/airports.csv\n",
        "!ls -la /content\n",
        "\n",
        "# 4.4\n",
        "!hdfs dfs -rm -f /user/ashok/airports.csv\n",
        "!hdfs dfs -put /content/airports.csv  /user/ashok/\n",
        "!hdfs dfs -ls /user/ashok"
      ],
      "execution_count": 36,
      "outputs": [
        {
          "output_type": "stream",
          "name": "stdout",
          "text": [
            "total 24\n",
            "drwxr-xr-x 1 root root 4096 Mar 27 07:41 .\n",
            "drwxr-xr-x 1 root root 4096 Mar 27 05:54 ..\n",
            "-rw-r--r-- 1 root root   64 Mar 27 07:42 airports.csv\n",
            "drwxr-xr-x 4 root root 4096 Mar 23 18:56 .config\n",
            "drwxr-xr-x 1 root root 4096 Mar 23 18:57 sample_data\n",
            "-rwxr-xr-x 1 root root   92 Mar 27 07:15 xyz.sh\n",
            "Deleted /user/ashok/airports.csv\n",
            "Found 1 items\n",
            "-rw-r--r--   1 root supergroup         64 2023-03-27 07:42 /user/ashok/airports.csv\n"
          ]
        }
      ]
    },
    {
      "cell_type": "code",
      "metadata": {
        "id": "6fxfT0ysnmEK",
        "colab": {
          "base_uri": "https://localhost:8080/"
        },
        "outputId": "0a4e09fb-0c5b-441d-c6ac-bac7de128972"
      },
      "source": [
        "# 5.0 Read file directly from hadoop\n",
        "#      using sparkSQL  dataframe:\n",
        "\n",
        "airports_df = spark.read.csv( \n",
        "                              \"/user/ashok/airports.csv\",\n",
        "                              inferSchema = True,\n",
        "                              header = True\n",
        "                             )\n",
        "\n",
        "# 5.1 Show file\n",
        "airports_df.show()"
      ],
      "execution_count": 37,
      "outputs": [
        {
          "output_type": "stream",
          "name": "stdout",
          "text": [
            "+---+---+---+---+\n",
            "|  a|  b|  c|  d|\n",
            "+---+---+---+---+\n",
            "|  5|  4|  6|  7|\n",
            "|  2|  3|  4|  5|\n",
            "|  8|  9|  0|  1|\n",
            "|  2|  3|  4|  1|\n",
            "|  1|  2|  2|  1|\n",
            "|  0|  1|  2|  6|\n",
            "|  9|  3|  1|  8|\n",
            "+---+---+---+---+\n",
            "\n"
          ]
        }
      ]
    },
    {
      "cell_type": "markdown",
      "source": [
        "## Mount gdrive\n",
        "And begin your work"
      ],
      "metadata": {
        "id": "XTZ7T0Z7JaIf"
      }
    },
    {
      "cell_type": "code",
      "source": [
        "# Mount gdrive\n",
        "from google.colab import drive\n",
        "drive.mount('/gdrive')"
      ],
      "metadata": {
        "colab": {
          "base_uri": "https://localhost:8080/"
        },
        "id": "3NhxLOUgJg33",
        "outputId": "4fd9eb5c-5840-4a61-818d-23f911520d82"
      },
      "execution_count": 57,
      "outputs": [
        {
          "output_type": "stream",
          "name": "stdout",
          "text": [
            "Mounted at /gdrive\n"
          ]
        }
      ]
    },
    {
      "cell_type": "markdown",
      "source": [
        "## Your code here\n",
        "Call machine learning libraries as needed"
      ],
      "metadata": {
        "id": "1FMRm5hXJsGg"
      }
    },
    {
      "cell_type": "code",
      "source": [
        "# Begin writing your code"
      ],
      "metadata": {
        "id": "NYNnhegOJk4P"
      },
      "execution_count": 58,
      "outputs": []
    },
    {
      "cell_type": "code",
      "source": [
        "###############################"
      ],
      "metadata": {
        "id": "yIy4x3KWJ0LU"
      },
      "execution_count": null,
      "outputs": []
    }
  ]
}