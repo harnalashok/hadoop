{
  "nbformat": 4,
  "nbformat_minor": 0,
  "metadata": {
    "colab": {
      "provenance": [],
      "collapsed_sections": [
        "GuuFSunM_rL2",
        "Y3vw_quGSgrW",
        "yC40UHIKPJEL",
        "w8cVWRNoPOS6",
        "mfFBQ0FLcolo",
        "IJNKSScPcsDS",
        "Y159J8TDc3wS",
        "7M2kWg3dc6FT",
        "WII-UNCzc9qJ",
        "iHJyHMhUdCRZ",
        "XBFVWWuafLBL",
        "CyuLCFRJsvW3",
        "M7kLbAFLszN3",
        "MYRPnQhTRdOn",
        "iHd3YFPHO1SV",
        "k5Kb-o82T0oQ",
        "Obzrn0jTVslw"
      ],
      "include_colab_link": true
    },
    "kernelspec": {
      "name": "python3",
      "display_name": "Python 3"
    },
    "language_info": {
      "name": "python"
    }
  },
  "cells": [
    {
      "cell_type": "markdown",
      "metadata": {
        "id": "view-in-github",
        "colab_type": "text"
      },
      "source": [
        "<a href=\"https://colab.research.google.com/github/harnalashok/hadoop/blob/main/spark_classification.ipynb\" target=\"_parent\"><img src=\"https://colab.research.google.com/assets/colab-badge.svg\" alt=\"Open In Colab\"/></a>"
      ]
    },
    {
      "cell_type": "code",
      "metadata": {
        "id": "4q64Z8IYb8fr"
      },
      "source": [
        "# Last amended: 28th March 2023\n",
        "# Myfolder: github/hadoop\n",
        "# Objectives:\n",
        "#             i)  Learn to perform regression using pyspark\n",
        "# Ref: https://towardsdatascience.com/building-a-linear-regression-with-pyspark-and-mllib-d065c3ba246a\n"
      ],
      "execution_count": null,
      "outputs": []
    },
    {
      "cell_type": "markdown",
      "metadata": {
        "id": "GuuFSunM_rL2"
      },
      "source": [
        "## Spark Reference API\n",
        "a. [Quickstart](https://spark.apache.org/docs/latest/quick-start.html) <br>\n",
        "b. Dataframe [APIs list](https://spark.apache.org/docs/latest/api/python/reference/pyspark.sql/dataframe.html) at a glance<br>\n",
        "c. Pandas [API](https://spark.apache.org/docs/latest/api/python/reference/pyspark.pandas/index.html) on spark <br>\n",
        "c. ALso look at useful [this source code](https://spark.apache.org/docs/latest/api/python/_modules/pyspark/sql/functions.html) of functions that has examples<br>\n",
        "\n"
      ]
    },
    {
      "cell_type": "markdown",
      "metadata": {
        "id": "Y3vw_quGSgrW"
      },
      "source": [
        "## A. Full spark install\n",
        "Installs `pyspark (spark-3.3.2-bin-hadoop3)`.<br>\n",
        "Takes less than a minute to install"
      ]
    },
    {
      "cell_type": "markdown",
      "metadata": {
        "id": "yC40UHIKPJEL"
      },
      "source": [
        "### 1.0 Libraries"
      ]
    },
    {
      "cell_type": "code",
      "metadata": {
        "id": "HBVUrlkidyaE"
      },
      "source": [
        "# 1.0 How to set environment variable\n",
        "import os  \n",
        "import time  "
      ],
      "execution_count": 1,
      "outputs": []
    },
    {
      "cell_type": "markdown",
      "metadata": {
        "id": "w8cVWRNoPOS6"
      },
      "source": [
        "### 2.0 Define some functions"
      ]
    },
    {
      "cell_type": "markdown",
      "metadata": {
        "id": "mfFBQ0FLcolo"
      },
      "source": [
        "#### ssh_install()"
      ]
    },
    {
      "cell_type": "code",
      "metadata": {
        "id": "mgS9HNCyR7C0"
      },
      "source": [
        "# 2.0 Function to install ssh client and sshd (Server)\n",
        "def ssh_install():\n",
        "  print(\"\\n--1. Download and install ssh server----\\n\")\n",
        "  ! sudo apt-get remove openssh-client openssh-server\n",
        "  ! sudo apt install openssh-client openssh-server\n",
        "  \n",
        "  print(\"\\n--2. Restart ssh server----\\n\")\n",
        "  ! service ssh restart"
      ],
      "execution_count": 2,
      "outputs": []
    },
    {
      "cell_type": "markdown",
      "metadata": {
        "id": "IJNKSScPcsDS"
      },
      "source": [
        "#### Java install"
      ]
    },
    {
      "cell_type": "code",
      "metadata": {
        "id": "BsFu84PSR9jR"
      },
      "source": [
        "# 3.0 Function to download and install java 8\n",
        "def install_java():\n",
        "  ! rm -rf /usr/java\n",
        "\n",
        "  print(\"\\n--Download and install Java 8----\\n\")\n",
        "  !apt-get install -y openjdk-8-jdk-headless -qq > /dev/null        # install openjdk\n",
        "  os.environ[\"JAVA_HOME\"] = \"/usr/lib/jvm/java-8-openjdk-amd64\"     # set environment variable\n",
        "\n",
        "  !update-alternatives --set java /usr/lib/jvm/java-8-openjdk-amd64/jre/bin/java\n",
        "  !update-alternatives --set javac /usr/lib/jvm/java-8-openjdk-amd64/bin/javac\n",
        "  \n",
        "  !mkdir -p /usr/java\n",
        "  ! ln -s \"/usr/lib/jvm/java-8-openjdk-amd64\"  \"/usr/java\"\n",
        "  ! mv \"/usr/java/java-8-openjdk-amd64\"  \"/usr/java/latest\"\n",
        "  \n",
        "  !java -version       #check java version\n",
        "  !javac -version"
      ],
      "execution_count": 3,
      "outputs": []
    },
    {
      "cell_type": "markdown",
      "metadata": {
        "id": "Y159J8TDc3wS"
      },
      "source": [
        "#### setup ssh passphrase"
      ]
    },
    {
      "cell_type": "code",
      "metadata": {
        "id": "EOFbfw7n0Pps"
      },
      "source": [
        "# 6.0 Function tp setup ssh passphrase\n",
        "def set_keys():\n",
        "  print(\"\\n---22. Generate SSH keys----\\n\")\n",
        "  ! cd ~ ; pwd \n",
        "  ! cd ~ ; ssh-keygen -t rsa -P '' -f ~/.ssh/id_rsa\n",
        "  ! cd ~ ; cat ~/.ssh/id_rsa.pub >> ~/.ssh/authorized_keys\n",
        "  ! cd ~ ; chmod 0600 ~/.ssh/authorized_keys\n"
      ],
      "execution_count": 4,
      "outputs": []
    },
    {
      "cell_type": "markdown",
      "metadata": {
        "id": "7M2kWg3dc6FT"
      },
      "source": [
        "#### Set environment"
      ]
    },
    {
      "cell_type": "code",
      "metadata": {
        "id": "CRSn9XAV4rsR"
      },
      "source": [
        "# 7.0 Function to set up environmental variables\n",
        "def set_env():\n",
        "  print(\"\\n---23. Set Environment variables----\\n\")\n",
        "  # 'export' command does not work in colab\n",
        "  # https://stackoverflow.com/a/57240319\n",
        "  os.environ[\"JAVA_HOME\"] = \"/usr/lib/jvm/java-8-openjdk-amd64\"     #set environment variable\n",
        "  os.environ[\"JRE_HOME\"] = \"/usr/lib/jvm/java-8-openjdk-amd64/jre\"   \n",
        "  "
      ],
      "execution_count": 5,
      "outputs": []
    },
    {
      "cell_type": "markdown",
      "metadata": {
        "id": "WII-UNCzc9qJ"
      },
      "source": [
        "#### function to install prerequisites\n",
        "java and ssh<br>\n"
      ]
    },
    {
      "cell_type": "code",
      "metadata": {
        "id": "oh1Mi0rHFpkU"
      },
      "source": [
        "# 8.0 Function to call all functions\n",
        "def install_components():\n",
        "  print(\"\\n--Install java----\\n\")\n",
        "  ssh_install()\n",
        "  install_java()  \n",
        "  #set_keys()\n",
        "  set_env()\n"
      ],
      "execution_count": 6,
      "outputs": []
    },
    {
      "cell_type": "markdown",
      "metadata": {
        "id": "iHJyHMhUdCRZ"
      },
      "source": [
        "### 3.0 Install components\n",
        "Start downloading, install and configure. Takes around 2 minutes<br>\n",
        "Your <u>input *'y'* is required </u>at one place while overwriting earlier ssh keys"
      ]
    },
    {
      "cell_type": "code",
      "metadata": {
        "id": "77YQikvsJiTm",
        "outputId": "9257ae99-b43f-4402-a53a-4cfd86a92feb",
        "colab": {
          "base_uri": "https://localhost:8080/"
        }
      },
      "source": [
        "# 9.0 Start installation\n",
        "start = time.time()\n",
        "install_components()\n",
        "end = time.time()\n",
        "print(\"\\n---Time taken----\\n\")\n",
        "print((end- start)/60)"
      ],
      "execution_count": 7,
      "outputs": [
        {
          "output_type": "stream",
          "name": "stdout",
          "text": [
            "\n",
            "--Install java----\n",
            "\n",
            "\n",
            "--1. Download and install ssh server----\n",
            "\n",
            "Reading package lists... Done\n",
            "Building dependency tree       \n",
            "Reading state information... Done\n",
            "Package 'openssh-server' is not installed, so not removed\n",
            "The following packages were automatically installed and are no longer required:\n",
            "  libboost-atomic-dev libboost-atomic1.71-dev libboost-atomic1.71.0\n",
            "  libboost-chrono-dev libboost-chrono1.71-dev libboost-chrono1.71.0\n",
            "  libboost-container-dev libboost-container1.71-dev libboost-container1.71.0\n",
            "  libboost-context-dev libboost-context1.71-dev libboost-context1.71.0\n",
            "  libboost-coroutine-dev libboost-coroutine1.71-dev libboost-coroutine1.71.0\n",
            "  libboost-date-time-dev libboost-date-time1.71-dev libboost-date-time1.71.0\n",
            "  libboost-exception-dev libboost-exception1.71-dev libboost-fiber-dev\n",
            "  libboost-fiber1.71-dev libboost-fiber1.71.0 libboost-filesystem-dev\n",
            "  libboost-filesystem1.71-dev libboost-filesystem1.71.0 libboost-graph-dev\n",
            "  libboost-graph-parallel-dev libboost-graph-parallel1.71-dev\n",
            "  libboost-graph-parallel1.71.0 libboost-graph1.71-dev libboost-graph1.71.0\n",
            "  libboost-iostreams-dev libboost-iostreams1.71-dev libboost-locale-dev\n",
            "  libboost-locale1.71-dev libboost-locale1.71.0 libboost-log-dev\n",
            "  libboost-log1.71-dev libboost-log1.71.0 libboost-math-dev\n",
            "  libboost-math1.71-dev libboost-math1.71.0 libboost-mpi1.71.0\n",
            "  libboost-numpy-dev libboost-numpy1.71-dev libboost-numpy1.71.0\n",
            "  libboost-program-options-dev libboost-program-options1.71-dev\n",
            "  libboost-program-options1.71.0 libboost-python-dev libboost-python1.71-dev\n",
            "  libboost-python1.71.0 libboost-random-dev libboost-random1.71-dev\n",
            "  libboost-random1.71.0 libboost-regex-dev libboost-regex1.71-dev\n",
            "  libboost-regex1.71.0 libboost-serialization-dev\n",
            "  libboost-serialization1.71-dev libboost-serialization1.71.0\n",
            "  libboost-stacktrace-dev libboost-stacktrace1.71-dev\n",
            "  libboost-stacktrace1.71.0 libboost-system-dev libboost-system1.71-dev\n",
            "  libboost-system1.71.0 libboost-test-dev libboost-test1.71-dev\n",
            "  libboost-test1.71.0 libboost-thread-dev libboost-thread1.71-dev\n",
            "  libboost-timer-dev libboost-timer1.71-dev libboost-timer1.71.0\n",
            "  libboost-tools-dev libboost-type-erasure-dev libboost-type-erasure1.71-dev\n",
            "  libboost-type-erasure1.71.0 libboost-wave-dev libboost-wave1.71-dev\n",
            "  libboost-wave1.71.0 libboost1.71-tools-dev libcbor0.6 libevent-dev\n",
            "  libevent-extra-2.1-7 libevent-openssl-2.1-7 libfido2-1 libhwloc-dev\n",
            "  libibverbs-dev libnl-3-dev libnl-route-3-dev libnuma-dev\n",
            "  libnvidia-common-525 openmpi-common python3-dev python3-distutils\n",
            "  python3-lib2to3 python3.8-dev\n",
            "Use 'sudo apt autoremove' to remove them.\n",
            "The following packages will be REMOVED:\n",
            "  libboost-all-dev libboost-mpi-dev libboost-mpi-python-dev\n",
            "  libboost-mpi-python1.71-dev libboost-mpi-python1.71.0 libboost-mpi1.71-dev\n",
            "  libopenmpi-dev mpi-default-bin mpi-default-dev openmpi-bin openssh-client\n",
            "0 upgraded, 0 newly installed, 11 to remove and 23 not upgraded.\n",
            "After this operation, 20.2 MB disk space will be freed.\n",
            "(Reading database ... 128293 files and directories currently installed.)\n",
            "Removing libboost-all-dev (1.71.0.0ubuntu2) ...\n",
            "Removing libboost-mpi-dev (1.71.0.0ubuntu2) ...\n",
            "Removing libboost-mpi-python-dev (1.71.0.0ubuntu2) ...\n",
            "Removing libboost-mpi-python1.71-dev (1.71.0-6ubuntu6) ...\n",
            "Removing libboost-mpi-python1.71.0 (1.71.0-6ubuntu6) ...\n",
            "Removing libboost-mpi1.71-dev (1.71.0-6ubuntu6) ...\n",
            "Removing mpi-default-dev (1.13) ...\n",
            "Removing libopenmpi-dev:amd64 (4.0.3-0ubuntu1) ...\n",
            "Removing mpi-default-bin (1.13) ...\n",
            "Removing openmpi-bin (4.0.3-0ubuntu1) ...\n",
            "Removing openssh-client (1:8.2p1-4ubuntu0.5) ...\n",
            "Processing triggers for man-db (2.9.1-1) ...\n",
            "Processing triggers for libc-bin (2.31-0ubuntu9.9) ...\n",
            "Reading package lists... Done\n",
            "Building dependency tree       \n",
            "Reading state information... Done\n",
            "The following packages were automatically installed and are no longer required:\n",
            "  libboost-atomic-dev libboost-atomic1.71-dev libboost-atomic1.71.0\n",
            "  libboost-chrono-dev libboost-chrono1.71-dev libboost-chrono1.71.0\n",
            "  libboost-container-dev libboost-container1.71-dev libboost-container1.71.0\n",
            "  libboost-context-dev libboost-context1.71-dev libboost-context1.71.0\n",
            "  libboost-coroutine-dev libboost-coroutine1.71-dev libboost-coroutine1.71.0\n",
            "  libboost-date-time-dev libboost-date-time1.71-dev libboost-date-time1.71.0\n",
            "  libboost-exception-dev libboost-exception1.71-dev libboost-fiber-dev\n",
            "  libboost-fiber1.71-dev libboost-fiber1.71.0 libboost-filesystem-dev\n",
            "  libboost-filesystem1.71-dev libboost-filesystem1.71.0 libboost-graph-dev\n",
            "  libboost-graph-parallel-dev libboost-graph-parallel1.71-dev\n",
            "  libboost-graph-parallel1.71.0 libboost-graph1.71-dev libboost-graph1.71.0\n",
            "  libboost-iostreams-dev libboost-iostreams1.71-dev libboost-locale-dev\n",
            "  libboost-locale1.71-dev libboost-locale1.71.0 libboost-log-dev\n",
            "  libboost-log1.71-dev libboost-log1.71.0 libboost-math-dev\n",
            "  libboost-math1.71-dev libboost-math1.71.0 libboost-mpi1.71.0\n",
            "  libboost-numpy-dev libboost-numpy1.71-dev libboost-numpy1.71.0\n",
            "  libboost-program-options-dev libboost-program-options1.71-dev\n",
            "  libboost-program-options1.71.0 libboost-python-dev libboost-python1.71-dev\n",
            "  libboost-python1.71.0 libboost-random-dev libboost-random1.71-dev\n",
            "  libboost-random1.71.0 libboost-regex-dev libboost-regex1.71-dev\n",
            "  libboost-regex1.71.0 libboost-serialization-dev\n",
            "  libboost-serialization1.71-dev libboost-serialization1.71.0\n",
            "  libboost-stacktrace-dev libboost-stacktrace1.71-dev\n",
            "  libboost-stacktrace1.71.0 libboost-system-dev libboost-system1.71-dev\n",
            "  libboost-system1.71.0 libboost-test-dev libboost-test1.71-dev\n",
            "  libboost-test1.71.0 libboost-thread-dev libboost-thread1.71-dev\n",
            "  libboost-timer-dev libboost-timer1.71-dev libboost-timer1.71.0\n",
            "  libboost-tools-dev libboost-type-erasure-dev libboost-type-erasure1.71-dev\n",
            "  libboost-type-erasure1.71.0 libboost-wave-dev libboost-wave1.71-dev\n",
            "  libboost-wave1.71.0 libboost1.71-tools-dev libevent-dev libevent-extra-2.1-7\n",
            "  libevent-openssl-2.1-7 libhwloc-dev libibverbs-dev libnl-3-dev\n",
            "  libnl-route-3-dev libnuma-dev libnvidia-common-525 openmpi-common\n",
            "  python3-dev python3-distutils python3-lib2to3 python3.8-dev\n",
            "Use 'sudo apt autoremove' to remove them.\n",
            "The following additional packages will be installed:\n",
            "  ncurses-term openssh-sftp-server python3-distro ssh-import-id\n",
            "Suggested packages:\n",
            "  keychain libpam-ssh monkeysphere ssh-askpass molly-guard ufw\n",
            "The following NEW packages will be installed:\n",
            "  ncurses-term openssh-client openssh-server openssh-sftp-server\n",
            "  python3-distro ssh-import-id\n",
            "0 upgraded, 6 newly installed, 0 to remove and 23 not upgraded.\n",
            "Need to get 1,373 kB of archives.\n",
            "After this operation, 10.3 MB of additional disk space will be used.\n",
            "Get:1 http://archive.ubuntu.com/ubuntu focal-updates/main amd64 openssh-client amd64 1:8.2p1-4ubuntu0.5 [671 kB]\n",
            "Get:2 http://archive.ubuntu.com/ubuntu focal/main amd64 ncurses-term all 6.2-0ubuntu2 [249 kB]\n",
            "Get:3 http://archive.ubuntu.com/ubuntu focal-updates/main amd64 openssh-sftp-server amd64 1:8.2p1-4ubuntu0.5 [51.5 kB]\n",
            "Get:4 http://archive.ubuntu.com/ubuntu focal-updates/main amd64 openssh-server amd64 1:8.2p1-4ubuntu0.5 [377 kB]\n",
            "Get:5 http://archive.ubuntu.com/ubuntu focal/main amd64 python3-distro all 1.4.0-1 [14.6 kB]\n",
            "Get:6 http://archive.ubuntu.com/ubuntu focal/main amd64 ssh-import-id all 5.10-0ubuntu1 [10.0 kB]\n",
            "Fetched 1,373 kB in 0s (4,273 kB/s)\n",
            "debconf: unable to initialize frontend: Dialog\n",
            "debconf: (No usable dialog-like program is installed, so the dialog based frontend cannot be used. at /usr/share/perl5/Debconf/FrontEnd/Dialog.pm line 76, <> line 6.)\n",
            "debconf: falling back to frontend: Readline\n",
            "debconf: unable to initialize frontend: Readline\n",
            "debconf: (This frontend requires a controlling tty.)\n",
            "debconf: falling back to frontend: Teletype\n",
            "dpkg-preconfigure: unable to re-open stdin: \n",
            "Selecting previously unselected package openssh-client.\n",
            "(Reading database ... 127453 files and directories currently installed.)\n",
            "Preparing to unpack .../0-openssh-client_1%3a8.2p1-4ubuntu0.5_amd64.deb ...\n",
            "Unpacking openssh-client (1:8.2p1-4ubuntu0.5) ...\n",
            "Selecting previously unselected package ncurses-term.\n",
            "Preparing to unpack .../1-ncurses-term_6.2-0ubuntu2_all.deb ...\n",
            "Unpacking ncurses-term (6.2-0ubuntu2) ...\n",
            "Selecting previously unselected package openssh-sftp-server.\n",
            "Preparing to unpack .../2-openssh-sftp-server_1%3a8.2p1-4ubuntu0.5_amd64.deb ...\n",
            "Unpacking openssh-sftp-server (1:8.2p1-4ubuntu0.5) ...\n",
            "Selecting previously unselected package openssh-server.\n",
            "Preparing to unpack .../3-openssh-server_1%3a8.2p1-4ubuntu0.5_amd64.deb ...\n",
            "Unpacking openssh-server (1:8.2p1-4ubuntu0.5) ...\n",
            "Selecting previously unselected package python3-distro.\n",
            "Preparing to unpack .../4-python3-distro_1.4.0-1_all.deb ...\n",
            "Unpacking python3-distro (1.4.0-1) ...\n",
            "Selecting previously unselected package ssh-import-id.\n",
            "Preparing to unpack .../5-ssh-import-id_5.10-0ubuntu1_all.deb ...\n",
            "Unpacking ssh-import-id (5.10-0ubuntu1) ...\n",
            "Setting up python3-distro (1.4.0-1) ...\n",
            "Setting up openssh-client (1:8.2p1-4ubuntu0.5) ...\n",
            "Setting up ssh-import-id (5.10-0ubuntu1) ...\n",
            "Attempting to convert /etc/ssh/ssh_import_id\n",
            "Setting up ncurses-term (6.2-0ubuntu2) ...\n",
            "Setting up openssh-sftp-server (1:8.2p1-4ubuntu0.5) ...\n",
            "Setting up openssh-server (1:8.2p1-4ubuntu0.5) ...\n",
            "debconf: unable to initialize frontend: Dialog\n",
            "debconf: (No usable dialog-like program is installed, so the dialog based frontend cannot be used. at /usr/share/perl5/Debconf/FrontEnd/Dialog.pm line 76.)\n",
            "debconf: falling back to frontend: Readline\n",
            "\n",
            "Creating config file /etc/ssh/sshd_config with new version\n",
            "Creating SSH2 RSA key; this may take some time ...\n",
            "3072 SHA256:LnXpaarM65lMpjIkCdHzyBEOgSC/75Dsvqth4QnWVOM root@4131f2c8631a (RSA)\n",
            "Creating SSH2 ECDSA key; this may take some time ...\n",
            "256 SHA256:KrYsV+ZkIy9iIcAEgqJv4No7+lZAo1dDB6gzhtB5A4w root@4131f2c8631a (ECDSA)\n",
            "Creating SSH2 ED25519 key; this may take some time ...\n",
            "256 SHA256:e+RMl73Hy+5nfUABeNoO2VEdUYUI44qFygjZnSqWOb0 root@4131f2c8631a (ED25519)\n",
            "Created symlink /etc/systemd/system/sshd.service → /lib/systemd/system/ssh.service.\n",
            "Created symlink /etc/systemd/system/multi-user.target.wants/ssh.service → /lib/systemd/system/ssh.service.\n",
            "invoke-rc.d: could not determine current runlevel\n",
            "invoke-rc.d: policy-rc.d denied execution of start.\n",
            "Processing triggers for man-db (2.9.1-1) ...\n",
            "Processing triggers for systemd (245.4-4ubuntu3.20) ...\n",
            "\n",
            "--2. Restart ssh server----\n",
            "\n",
            " * Restarting OpenBSD Secure Shell server sshd\n",
            "   ...done.\n",
            "\n",
            "--Download and install Java 8----\n",
            "\n",
            "update-alternatives: using /usr/lib/jvm/java-8-openjdk-amd64/jre/bin/java to provide /usr/bin/java (java) in manual mode\n",
            "update-alternatives: using /usr/lib/jvm/java-8-openjdk-amd64/bin/javac to provide /usr/bin/javac (javac) in manual mode\n",
            "openjdk version \"1.8.0_362\"\n",
            "OpenJDK Runtime Environment (build 1.8.0_362-8u362-ga-0ubuntu1~20.04.1-b09)\n",
            "OpenJDK 64-Bit Server VM (build 25.362-b09, mixed mode)\n",
            "javac 1.8.0_362\n",
            "\n",
            "---23. Set Environment variables----\n",
            "\n",
            "\n",
            "---Time taken----\n",
            "\n",
            "0.5721633195877075\n"
          ]
        }
      ]
    },
    {
      "cell_type": "markdown",
      "metadata": {
        "id": "CyuLCFRJsvW3"
      },
      "source": [
        "### 4.0 Define functions"
      ]
    },
    {
      "cell_type": "markdown",
      "metadata": {
        "id": "kk3BP0OfYpT1"
      },
      "source": [
        "`findspark`: PySpark isn't on `sys.path` by default, but that doesn't mean it can't be used as a regular library. You can address this by either symlinking pyspark into your site-packages, or adding `pyspark` to `sys.path` at runtime. `findspark` does the latter."
      ]
    },
    {
      "cell_type": "code",
      "metadata": {
        "id": "opLGqtPRfM_5"
      },
      "source": [
        "# 1.0 Function to download and unzip spark\n",
        "def spark_koalas_install():\n",
        "  print(\"\\n--1.1 Install findspark----\\n\")\n",
        "  !pip install -q findspark\n",
        "\n",
        "  #print(\"\\n--1.2 Install databricks Koalas----\\n\")\n",
        "  #!pip install koalas\n",
        "  \n",
        "  # This download link NEEDS TO BE CHECKED AGAIN\n",
        "  print(\"\\n--1.3 Download Apache tar.gz----\\n\")\n",
        "            \n",
        "  ! wget -c https://dlcdn.apache.org/spark/spark-3.3.2/spark-3.3.2-bin-hadoop3.tgz \n",
        "\n",
        "  print(\"\\n--1.4 Transfer downloaded content and unzip tar.gz----\\n\")\n",
        "  !  mv /content/spark*   /opt/\n",
        "  ! tar -xzf /opt/spark-3.3.2-bin-hadoop3.tgz  --directory /opt/\n",
        "\n",
        "  print(\"\\n--1.5 Check folder for files----\\n\")\n",
        "  ! ls -la /opt\n"
      ],
      "execution_count": 8,
      "outputs": []
    },
    {
      "cell_type": "code",
      "metadata": {
        "id": "ebXfvQ1qiQHz"
      },
      "source": [
        "# 1.1 Function to set environment\n",
        "def set_spark_env():\n",
        "  print(\"\\n---2. Set Environment variables----\\n\")\n",
        "  os.environ[\"JAVA_HOME\"] = \"/usr/lib/jvm/java-8-openjdk-amd64\" \n",
        "  os.environ[\"JRE_HOME\"] = \"/usr/lib/jvm/java-8-openjdk-amd64/jre\" \n",
        "  os.environ[\"SPARK_HOME\"] = \"/opt/spark-3.3.2-bin-hadoop3\" \n",
        "  os.environ[\"SPARK_CONF_DIR\"] = \"/opt/spark-3.3.2-bin-hadoop3/conf\"     \n",
        "  os.environ[\"LD_LIBRARY_PATH\"] += \":/opt/spark-3.3.2-bin-hadoop3/lib/native\"\n",
        "  os.environ[\"PATH\"] += \":/opt/spark-3.3.2-bin-hadoop3/bin:/opt/spark-3.3.2-bin-hadoop3/sbin\"\n",
        "  print(\"\\n---2.1. Check Environment variables----\\n\")\n",
        "  # Check\n",
        "  ! echo $PATH\n",
        "  ! echo $LD_LIBRARY_PATH"
      ],
      "execution_count": 9,
      "outputs": []
    },
    {
      "cell_type": "code",
      "metadata": {
        "id": "qUsZggDHj13U"
      },
      "source": [
        "# 1.2 Function to configure spark \n",
        "def spark_conf():\n",
        "  print(\"\\n---3. Configure spark to access hadoop----\\n\")\n",
        "  !mv /opt/spark-3.3.2-bin-hadoop3/conf/spark-env.sh.template  /opt/spark-3.3.2-bin-hadoop3/conf/spark-env.sh\n",
        "  #!echo \"HADOOP_CONF_DIR=/opt/hadoop-3.2.2/etc/hadoop/\" >> /opt/spark-3.1.2-bin-hadoop3.2/conf/spark-env.sh\n",
        "  print(\"\\n---3.1 Check ----\\n\")\n",
        "  #!cat /opt/spark-3.1.1-bin-hadoop3.2/conf/spark-env.sh"
      ],
      "execution_count": 10,
      "outputs": []
    },
    {
      "cell_type": "markdown",
      "metadata": {
        "id": "M7kLbAFLszN3"
      },
      "source": [
        "### 5.0 Install spark\n"
      ]
    },
    {
      "cell_type": "code",
      "metadata": {
        "id": "z_eaLhtPktHJ"
      },
      "source": [
        "# 2.0 Call all the three functions\n",
        "def install_spark():\n",
        "  spark_koalas_install()\n",
        "  set_spark_env()\n",
        "  spark_conf()\n"
      ],
      "execution_count": 11,
      "outputs": []
    },
    {
      "cell_type": "code",
      "metadata": {
        "id": "emaHs1XxRt5z",
        "outputId": "95b70e5a-5929-4348-c3c2-98e873375f3c",
        "colab": {
          "base_uri": "https://localhost:8080/"
        }
      },
      "source": [
        "# 2.1 \n",
        "install_spark()"
      ],
      "execution_count": 12,
      "outputs": [
        {
          "output_type": "stream",
          "name": "stdout",
          "text": [
            "\n",
            "--1.1 Install findspark----\n",
            "\n",
            "\n",
            "--1.3 Download Apache tar.gz----\n",
            "\n",
            "--2023-04-04 01:01:47--  https://dlcdn.apache.org/spark/spark-3.3.2/spark-3.3.2-bin-hadoop3.tgz\n",
            "Resolving dlcdn.apache.org (dlcdn.apache.org)... 151.101.2.132, 2a04:4e42::644\n",
            "Connecting to dlcdn.apache.org (dlcdn.apache.org)|151.101.2.132|:443... connected.\n",
            "HTTP request sent, awaiting response... 200 OK\n",
            "Length: 299360284 (285M) [application/x-gzip]\n",
            "Saving to: ‘spark-3.3.2-bin-hadoop3.tgz’\n",
            "\n",
            "spark-3.3.2-bin-had 100%[===================>] 285.49M   187MB/s    in 1.5s    \n",
            "\n",
            "2023-04-04 01:01:49 (187 MB/s) - ‘spark-3.3.2-bin-hadoop3.tgz’ saved [299360284/299360284]\n",
            "\n",
            "\n",
            "--1.4 Transfer downloaded content and unzip tar.gz----\n",
            "\n",
            "\n",
            "--1.5 Check folder for files----\n",
            "\n",
            "total 292368\n",
            "drwxr-xr-x  1 root root      4096 Apr  4 01:01 .\n",
            "drwxr-xr-x  1 root root      4096 Apr  4 00:59 ..\n",
            "drwxr-xr-x  1 root root      4096 Mar 31 13:52 google\n",
            "drwxr-xr-x  1 root root      4096 Mar 31 13:28 nvidia\n",
            "drwxr-xr-x 13  501 1000      4096 Feb 10 20:40 spark-3.3.2-bin-hadoop3\n",
            "-rw-r--r--  1 root root 299360284 Feb 10 21:28 spark-3.3.2-bin-hadoop3.tgz\n",
            "\n",
            "---2. Set Environment variables----\n",
            "\n",
            "\n",
            "---2.1. Check Environment variables----\n",
            "\n",
            "/opt/bin:/usr/local/nvidia/bin:/usr/local/cuda/bin:/usr/local/sbin:/usr/local/bin:/usr/sbin:/usr/bin:/sbin:/bin:/tools/node/bin:/tools/google-cloud-sdk/bin:/opt/spark-3.3.2-bin-hadoop3/bin:/opt/spark-3.3.2-bin-hadoop3/sbin\n",
            "/usr/local/nvidia/lib:/usr/local/nvidia/lib64:/opt/spark-3.3.2-bin-hadoop3/lib/native\n",
            "\n",
            "---3. Configure spark to access hadoop----\n",
            "\n",
            "\n",
            "---3.1 Check ----\n",
            "\n"
          ]
        }
      ]
    },
    {
      "cell_type": "markdown",
      "metadata": {
        "id": "MYRPnQhTRdOn"
      },
      "source": [
        "## B. Call Essential libraries\n",
        "We do not import `pandas` but `pyspark.pandas` as `ps`."
      ]
    },
    {
      "cell_type": "code",
      "metadata": {
        "id": "AiO4shcjRjNO",
        "outputId": "717d554f-3883-4f28-f4cb-c911252dd9de",
        "colab": {
          "base_uri": "https://localhost:8080/"
        }
      },
      "source": [
        "# 3.0 Just call some libraries to test\n",
        "import numpy as np\n",
        "import os\n",
        "import time \n",
        "\n",
        "# 3.1 Get spark in sys.path\n",
        "import findspark\n",
        "findspark.init()\n",
        "\n",
        "# 3.2 Call other spark libraries\n",
        "#     Just to test\n",
        "import pyspark.pandas as ps\n",
        "from pyspark.sql import SparkSession"
      ],
      "execution_count": 13,
      "outputs": [
        {
          "output_type": "stream",
          "name": "stderr",
          "text": [
            "/opt/spark-3.3.2-bin-hadoop3/python/pyspark/pandas/__init__.py:49: UserWarning: 'PYARROW_IGNORE_TIMEZONE' environment variable was not set. It is required to set this environment variable to '1' in both driver and executor sides if you use pyarrow>=2.0.0. pandas-on-Spark will set it for you but it does not work if there is a Spark context already launched.\n",
            "  warnings.warn(\n"
          ]
        }
      ]
    },
    {
      "cell_type": "code",
      "metadata": {
        "id": "i7lb_6xCwrZm"
      },
      "source": [
        "# 3.3\n",
        "from IPython.core.interactiveshell import InteractiveShell\n",
        "InteractiveShell.ast_node_interactivity = \"all\""
      ],
      "execution_count": 14,
      "outputs": []
    },
    {
      "cell_type": "code",
      "metadata": {
        "id": "VCOPgKGO60_I",
        "colab": {
          "base_uri": "https://localhost:8080/",
          "height": 37
        },
        "outputId": "7308a420-634e-4d04-a2f8-33fbed3340d1"
      },
      "source": [
        "# 3.4 Increase cell width to display wide columnar output\n",
        "from IPython.core.display import display, HTML\n",
        "display(HTML(\"<style>.container { width:100% !important; }</style>\"))"
      ],
      "execution_count": 15,
      "outputs": [
        {
          "output_type": "display_data",
          "data": {
            "text/plain": [
              "<IPython.core.display.HTML object>"
            ],
            "text/html": [
              "<style>.container { width:100% !important; }</style>"
            ]
          },
          "metadata": {}
        }
      ]
    },
    {
      "cell_type": "markdown",
      "metadata": {
        "id": "iHd3YFPHO1SV"
      },
      "source": [
        "## C. Build spark session\n",
        "You can modify spark driver/executor memory here<br>\n",
        "SparkSession name is `spark`<br>\n"
      ]
    },
    {
      "cell_type": "markdown",
      "metadata": {
        "id": "k5Kb-o82T0oQ"
      },
      "source": [
        "### Modifying spark configuraion\n",
        "Increase driver and executor memory"
      ]
    },
    {
      "cell_type": "code",
      "metadata": {
        "id": "3M6d5xfNJSwx",
        "outputId": "7e4c1de2-d0d5-4c8e-8ec5-db8b3a0c95b8",
        "colab": {
          "base_uri": "https://localhost:8080/"
        }
      },
      "source": [
        "# 4.0 Check template file\n",
        "! cat /opt/spark-3.3.2-bin-hadoop3/conf/spark-defaults.conf.template"
      ],
      "execution_count": 16,
      "outputs": [
        {
          "output_type": "stream",
          "name": "stdout",
          "text": [
            "#\n",
            "# Licensed to the Apache Software Foundation (ASF) under one or more\n",
            "# contributor license agreements.  See the NOTICE file distributed with\n",
            "# this work for additional information regarding copyright ownership.\n",
            "# The ASF licenses this file to You under the Apache License, Version 2.0\n",
            "# (the \"License\"); you may not use this file except in compliance with\n",
            "# the License.  You may obtain a copy of the License at\n",
            "#\n",
            "#    http://www.apache.org/licenses/LICENSE-2.0\n",
            "#\n",
            "# Unless required by applicable law or agreed to in writing, software\n",
            "# distributed under the License is distributed on an \"AS IS\" BASIS,\n",
            "# WITHOUT WARRANTIES OR CONDITIONS OF ANY KIND, either express or implied.\n",
            "# See the License for the specific language governing permissions and\n",
            "# limitations under the License.\n",
            "#\n",
            "\n",
            "# Default system properties included when running spark-submit.\n",
            "# This is useful for setting default environmental settings.\n",
            "\n",
            "# Example:\n",
            "# spark.master                     spark://master:7077\n",
            "# spark.eventLog.enabled           true\n",
            "# spark.eventLog.dir               hdfs://namenode:8021/directory\n",
            "# spark.serializer                 org.apache.spark.serializer.KryoSerializer\n",
            "# spark.driver.memory              5g\n",
            "# spark.executor.extraJavaOptions  -XX:+PrintGCDetails -Dkey=value -Dnumbers=\"one two three\"\n"
          ]
        }
      ]
    },
    {
      "cell_type": "code",
      "metadata": {
        "id": "SXEkJxzyNYn4"
      },
      "source": [
        "# 4.1 Create spark-defaults.conf \n",
        "! cp /opt/spark-3.3.2-bin-hadoop3/conf/spark-defaults.conf.template  /opt/spark-3.3.2-bin-hadoop3/conf/spark-defaults.conf\n"
      ],
      "execution_count": 17,
      "outputs": []
    },
    {
      "cell_type": "code",
      "metadata": {
        "id": "oZD3i2MXNacY"
      },
      "source": [
        "# 4.2 Amend properties\n",
        "! echo \"spark.driver.memory 6g\" >> /opt/spark-3.3.2-bin-hadoop3/conf/spark-defaults.conf\n",
        "! echo \"spark.executor.memory 3g\" >> /opt/spark-3.3.2-bin-hadoop3/conf/spark-defaults.conf"
      ],
      "execution_count": 18,
      "outputs": []
    },
    {
      "cell_type": "code",
      "metadata": {
        "id": "JtFbJ5UEObIg",
        "outputId": "19a210cc-7eff-493d-dfcb-addcfc5825fb",
        "colab": {
          "base_uri": "https://localhost:8080/"
        }
      },
      "source": [
        "# 4.3 Check now\n",
        "! cat /opt/spark-3.3.2-bin-hadoop3/conf/spark-defaults.conf"
      ],
      "execution_count": 19,
      "outputs": [
        {
          "output_type": "stream",
          "name": "stdout",
          "text": [
            "#\n",
            "# Licensed to the Apache Software Foundation (ASF) under one or more\n",
            "# contributor license agreements.  See the NOTICE file distributed with\n",
            "# this work for additional information regarding copyright ownership.\n",
            "# The ASF licenses this file to You under the Apache License, Version 2.0\n",
            "# (the \"License\"); you may not use this file except in compliance with\n",
            "# the License.  You may obtain a copy of the License at\n",
            "#\n",
            "#    http://www.apache.org/licenses/LICENSE-2.0\n",
            "#\n",
            "# Unless required by applicable law or agreed to in writing, software\n",
            "# distributed under the License is distributed on an \"AS IS\" BASIS,\n",
            "# WITHOUT WARRANTIES OR CONDITIONS OF ANY KIND, either express or implied.\n",
            "# See the License for the specific language governing permissions and\n",
            "# limitations under the License.\n",
            "#\n",
            "\n",
            "# Default system properties included when running spark-submit.\n",
            "# This is useful for setting default environmental settings.\n",
            "\n",
            "# Example:\n",
            "# spark.master                     spark://master:7077\n",
            "# spark.eventLog.enabled           true\n",
            "# spark.eventLog.dir               hdfs://namenode:8021/directory\n",
            "# spark.serializer                 org.apache.spark.serializer.KryoSerializer\n",
            "# spark.driver.memory              5g\n",
            "# spark.executor.extraJavaOptions  -XX:+PrintGCDetails -Dkey=value -Dnumbers=\"one two three\"\n",
            "spark.driver.memory 6g\n",
            "spark.executor.memory 3g\n"
          ]
        }
      ]
    },
    {
      "cell_type": "markdown",
      "metadata": {
        "id": "Obzrn0jTVslw"
      },
      "source": [
        "### Stop and start SparkSession"
      ]
    },
    {
      "cell_type": "code",
      "metadata": {
        "id": "JDGr6SWsOqox"
      },
      "source": [
        "# 5.0 Build spark session:\n",
        "# Stop spark, if started\n",
        "#spark.stop()\n",
        "# 5.1 Now start spark\n",
        "spark = SparkSession. \\\n",
        "                    builder. \\\n",
        "                    master(\"local[*]\"). \\\n",
        "                    appName(\"myexpt\"). \\\n",
        "                    getOrCreate()"
      ],
      "execution_count": 20,
      "outputs": []
    },
    {
      "cell_type": "code",
      "metadata": {
        "id": "dFOjGwWiaNZH",
        "outputId": "e7d4e4e7-b32b-4638-a942-2722d9c1ee8c",
        "colab": {
          "base_uri": "https://localhost:8080/"
        }
      },
      "source": [
        "sc = spark.sparkContext\n",
        "spark.sparkContext.getConf().getAll()"
      ],
      "execution_count": 21,
      "outputs": [
        {
          "output_type": "execute_result",
          "data": {
            "text/plain": [
              "[('spark.driver.extraJavaOptions',\n",
              "  '-XX:+IgnoreUnrecognizedVMOptions --add-opens=java.base/java.lang=ALL-UNNAMED --add-opens=java.base/java.lang.invoke=ALL-UNNAMED --add-opens=java.base/java.lang.reflect=ALL-UNNAMED --add-opens=java.base/java.io=ALL-UNNAMED --add-opens=java.base/java.net=ALL-UNNAMED --add-opens=java.base/java.nio=ALL-UNNAMED --add-opens=java.base/java.util=ALL-UNNAMED --add-opens=java.base/java.util.concurrent=ALL-UNNAMED --add-opens=java.base/java.util.concurrent.atomic=ALL-UNNAMED --add-opens=java.base/sun.nio.ch=ALL-UNNAMED --add-opens=java.base/sun.nio.cs=ALL-UNNAMED --add-opens=java.base/sun.security.action=ALL-UNNAMED --add-opens=java.base/sun.util.calendar=ALL-UNNAMED --add-opens=java.security.jgss/sun.security.krb5=ALL-UNNAMED'),\n",
              " ('spark.executor.memory', '3g'),\n",
              " ('spark.app.name', 'myexpt'),\n",
              " ('spark.driver.port', '37455'),\n",
              " ('spark.executor.id', 'driver'),\n",
              " ('spark.app.submitTime', '1680570147794'),\n",
              " ('spark.app.id', 'local-1680570150167'),\n",
              " ('spark.driver.memory', '6g'),\n",
              " ('spark.app.startTime', '1680570148062'),\n",
              " ('spark.rdd.compress', 'True'),\n",
              " ('spark.executor.extraJavaOptions',\n",
              "  '-XX:+IgnoreUnrecognizedVMOptions --add-opens=java.base/java.lang=ALL-UNNAMED --add-opens=java.base/java.lang.invoke=ALL-UNNAMED --add-opens=java.base/java.lang.reflect=ALL-UNNAMED --add-opens=java.base/java.io=ALL-UNNAMED --add-opens=java.base/java.net=ALL-UNNAMED --add-opens=java.base/java.nio=ALL-UNNAMED --add-opens=java.base/java.util=ALL-UNNAMED --add-opens=java.base/java.util.concurrent=ALL-UNNAMED --add-opens=java.base/java.util.concurrent.atomic=ALL-UNNAMED --add-opens=java.base/sun.nio.ch=ALL-UNNAMED --add-opens=java.base/sun.nio.cs=ALL-UNNAMED --add-opens=java.base/sun.security.action=ALL-UNNAMED --add-opens=java.base/sun.util.calendar=ALL-UNNAMED --add-opens=java.security.jgss/sun.security.krb5=ALL-UNNAMED'),\n",
              " ('spark.driver.host', '4131f2c8631a'),\n",
              " ('spark.serializer.objectStreamReset', '100'),\n",
              " ('spark.master', 'local[*]'),\n",
              " ('spark.submit.pyFiles', ''),\n",
              " ('spark.submit.deployMode', 'client'),\n",
              " ('spark.ui.showConsoleProgress', 'true')]"
            ]
          },
          "metadata": {},
          "execution_count": 21
        }
      ]
    },
    {
      "cell_type": "code",
      "metadata": {
        "colab": {
          "base_uri": "https://localhost:8080/"
        },
        "id": "jimCCywmPJmm",
        "outputId": "d5dec098-1750-4d46-fce6-8c5344af6a1e"
      },
      "source": [
        "# 5.2\n",
        "print(spark.sparkContext._conf.getAll())"
      ],
      "execution_count": 22,
      "outputs": [
        {
          "output_type": "stream",
          "name": "stdout",
          "text": [
            "[('spark.driver.extraJavaOptions', '-XX:+IgnoreUnrecognizedVMOptions --add-opens=java.base/java.lang=ALL-UNNAMED --add-opens=java.base/java.lang.invoke=ALL-UNNAMED --add-opens=java.base/java.lang.reflect=ALL-UNNAMED --add-opens=java.base/java.io=ALL-UNNAMED --add-opens=java.base/java.net=ALL-UNNAMED --add-opens=java.base/java.nio=ALL-UNNAMED --add-opens=java.base/java.util=ALL-UNNAMED --add-opens=java.base/java.util.concurrent=ALL-UNNAMED --add-opens=java.base/java.util.concurrent.atomic=ALL-UNNAMED --add-opens=java.base/sun.nio.ch=ALL-UNNAMED --add-opens=java.base/sun.nio.cs=ALL-UNNAMED --add-opens=java.base/sun.security.action=ALL-UNNAMED --add-opens=java.base/sun.util.calendar=ALL-UNNAMED --add-opens=java.security.jgss/sun.security.krb5=ALL-UNNAMED'), ('spark.executor.memory', '3g'), ('spark.app.name', 'myexpt'), ('spark.driver.port', '37455'), ('spark.executor.id', 'driver'), ('spark.app.submitTime', '1680570147794'), ('spark.app.id', 'local-1680570150167'), ('spark.driver.memory', '6g'), ('spark.app.startTime', '1680570148062'), ('spark.rdd.compress', 'True'), ('spark.executor.extraJavaOptions', '-XX:+IgnoreUnrecognizedVMOptions --add-opens=java.base/java.lang=ALL-UNNAMED --add-opens=java.base/java.lang.invoke=ALL-UNNAMED --add-opens=java.base/java.lang.reflect=ALL-UNNAMED --add-opens=java.base/java.io=ALL-UNNAMED --add-opens=java.base/java.net=ALL-UNNAMED --add-opens=java.base/java.nio=ALL-UNNAMED --add-opens=java.base/java.util=ALL-UNNAMED --add-opens=java.base/java.util.concurrent=ALL-UNNAMED --add-opens=java.base/java.util.concurrent.atomic=ALL-UNNAMED --add-opens=java.base/sun.nio.ch=ALL-UNNAMED --add-opens=java.base/sun.nio.cs=ALL-UNNAMED --add-opens=java.base/sun.security.action=ALL-UNNAMED --add-opens=java.base/sun.util.calendar=ALL-UNNAMED --add-opens=java.security.jgss/sun.security.krb5=ALL-UNNAMED'), ('spark.driver.host', '4131f2c8631a'), ('spark.serializer.objectStreamReset', '100'), ('spark.master', 'local[*]'), ('spark.submit.pyFiles', ''), ('spark.submit.deployMode', 'client'), ('spark.ui.showConsoleProgress', 'true')]\n"
          ]
        }
      ]
    },
    {
      "cell_type": "markdown",
      "metadata": {
        "id": "L6XYg1IGs17n"
      },
      "source": [
        "## D. Mount gdrive"
      ]
    },
    {
      "cell_type": "code",
      "source": [
        "# 1.0\n",
        "from google.colab import drive\n",
        "drive.mount('/gdrive')"
      ],
      "metadata": {
        "colab": {
          "base_uri": "https://localhost:8080/"
        },
        "id": "HqXmp8A3XLWu",
        "outputId": "0972f9e3-025d-4292-8fcf-670328085f7e"
      },
      "execution_count": 23,
      "outputs": [
        {
          "output_type": "stream",
          "name": "stdout",
          "text": [
            "Mounted at /gdrive\n"
          ]
        }
      ]
    },
    {
      "cell_type": "markdown",
      "source": [
        "## Read Data\n",
        "Read and explore data"
      ],
      "metadata": {
        "id": "R6PnJsxJmINH"
      }
    },
    {
      "cell_type": "code",
      "source": [
        "# 1.1 List path to folder containg csv file. \n",
        "#      Note '/' at the end:\n",
        "\n",
        "pathToFolder = \"/gdrive/MyDrive/Colab_data_files/bankmarketing/\""
      ],
      "metadata": {
        "id": "7SixHUkoXSZn"
      },
      "execution_count": 93,
      "outputs": []
    },
    {
      "cell_type": "markdown",
      "source": [
        "A label indexer that maps a string column of labels to an ML column of label indices. If the input column is numeric, we cast it to string and index the string values. The indices are in [0, numLabels). By default, this is ordered by label frequencies so the most frequent label gets index 0. "
      ],
      "metadata": {
        "id": "Z697JeIREnkh"
      }
    },
    {
      "cell_type": "code",
      "source": [
        "# 1.2 Read data:\n",
        "df = ps.read_csv(\n",
        "                 pathToFolder + \"bank-full.csv\",\n",
        "                 sep= \";\"\n",
        "                 )\n"
      ],
      "metadata": {
        "colab": {
          "base_uri": "https://localhost:8080/"
        },
        "id": "4wL9BsFXXraE",
        "outputId": "98f9eac9-fa00-4415-ddf3-b1192c4ffa07"
      },
      "execution_count": 94,
      "outputs": [
        {
          "output_type": "stream",
          "name": "stderr",
          "text": [
            "/opt/spark-3.3.2-bin-hadoop3/python/pyspark/pandas/utils.py:975: PandasAPIOnSparkAdviceWarning: If `index_col` is not specified for `read_csv`, the default index is attached which can cause additional overhead.\n",
            "  warnings.warn(message, PandasAPIOnSparkAdviceWarning)\n"
          ]
        }
      ]
    },
    {
      "cell_type": "code",
      "source": [
        "# 2.0 Explore data:\n",
        "df.shape\n",
        "\n",
        "print(\"\\n=====\\n\")\n",
        "\n",
        "df.head()\n"
      ],
      "metadata": {
        "colab": {
          "base_uri": "https://localhost:8080/",
          "height": 297
        },
        "id": "ulRJHbnWYEuU",
        "outputId": "28973a6d-4e0b-4462-9512-d9d8f59380ab"
      },
      "execution_count": 95,
      "outputs": [
        {
          "output_type": "execute_result",
          "data": {
            "text/plain": [
              "(45211, 17)"
            ]
          },
          "metadata": {},
          "execution_count": 95
        },
        {
          "output_type": "stream",
          "name": "stdout",
          "text": [
            "\n",
            "=====\n",
            "\n"
          ]
        },
        {
          "output_type": "execute_result",
          "data": {
            "text/plain": [
              "   age           job  marital  education hascreditindefault  avgyearlybalance hashousingloan haspersonalloan contactCommType  lastContactdayOfMonth lastContactmonthOfYear  contactDuration  noOfContactsPerformedDuringcampaign  pdays  noOfContprevious_tocampaign outcomeOfPreMarketingcampaign   y\n",
              "0   58    management  married   tertiary                 no              2143            yes              no         unknown                      5                    may              261                                    1     -1                            0                       unknown  no\n",
              "1   44    technician   single  secondary                 no                29            yes              no         unknown                      5                    may              151                                    1     -1                            0                       unknown  no\n",
              "2   33  entrepreneur  married  secondary                 no                 2            yes             yes         unknown                      5                    may               76                                    1     -1                            0                       unknown  no\n",
              "3   47   blue-collar  married    unknown                 no              1506            yes              no         unknown                      5                    may               92                                    1     -1                            0                       unknown  no\n",
              "4   33       unknown   single    unknown                 no                 1             no              no         unknown                      5                    may              198                                    1     -1                            0                       unknown  no"
            ],
            "text/html": [
              "<div>\n",
              "<style scoped>\n",
              "    .dataframe tbody tr th:only-of-type {\n",
              "        vertical-align: middle;\n",
              "    }\n",
              "\n",
              "    .dataframe tbody tr th {\n",
              "        vertical-align: top;\n",
              "    }\n",
              "\n",
              "    .dataframe thead th {\n",
              "        text-align: right;\n",
              "    }\n",
              "</style>\n",
              "<table border=\"1\" class=\"dataframe\">\n",
              "  <thead>\n",
              "    <tr style=\"text-align: right;\">\n",
              "      <th></th>\n",
              "      <th>age</th>\n",
              "      <th>job</th>\n",
              "      <th>marital</th>\n",
              "      <th>education</th>\n",
              "      <th>hascreditindefault</th>\n",
              "      <th>avgyearlybalance</th>\n",
              "      <th>hashousingloan</th>\n",
              "      <th>haspersonalloan</th>\n",
              "      <th>contactCommType</th>\n",
              "      <th>lastContactdayOfMonth</th>\n",
              "      <th>lastContactmonthOfYear</th>\n",
              "      <th>contactDuration</th>\n",
              "      <th>noOfContactsPerformedDuringcampaign</th>\n",
              "      <th>pdays</th>\n",
              "      <th>noOfContprevious_tocampaign</th>\n",
              "      <th>outcomeOfPreMarketingcampaign</th>\n",
              "      <th>y</th>\n",
              "    </tr>\n",
              "  </thead>\n",
              "  <tbody>\n",
              "    <tr>\n",
              "      <th>0</th>\n",
              "      <td>58</td>\n",
              "      <td>management</td>\n",
              "      <td>married</td>\n",
              "      <td>tertiary</td>\n",
              "      <td>no</td>\n",
              "      <td>2143</td>\n",
              "      <td>yes</td>\n",
              "      <td>no</td>\n",
              "      <td>unknown</td>\n",
              "      <td>5</td>\n",
              "      <td>may</td>\n",
              "      <td>261</td>\n",
              "      <td>1</td>\n",
              "      <td>-1</td>\n",
              "      <td>0</td>\n",
              "      <td>unknown</td>\n",
              "      <td>no</td>\n",
              "    </tr>\n",
              "    <tr>\n",
              "      <th>1</th>\n",
              "      <td>44</td>\n",
              "      <td>technician</td>\n",
              "      <td>single</td>\n",
              "      <td>secondary</td>\n",
              "      <td>no</td>\n",
              "      <td>29</td>\n",
              "      <td>yes</td>\n",
              "      <td>no</td>\n",
              "      <td>unknown</td>\n",
              "      <td>5</td>\n",
              "      <td>may</td>\n",
              "      <td>151</td>\n",
              "      <td>1</td>\n",
              "      <td>-1</td>\n",
              "      <td>0</td>\n",
              "      <td>unknown</td>\n",
              "      <td>no</td>\n",
              "    </tr>\n",
              "    <tr>\n",
              "      <th>2</th>\n",
              "      <td>33</td>\n",
              "      <td>entrepreneur</td>\n",
              "      <td>married</td>\n",
              "      <td>secondary</td>\n",
              "      <td>no</td>\n",
              "      <td>2</td>\n",
              "      <td>yes</td>\n",
              "      <td>yes</td>\n",
              "      <td>unknown</td>\n",
              "      <td>5</td>\n",
              "      <td>may</td>\n",
              "      <td>76</td>\n",
              "      <td>1</td>\n",
              "      <td>-1</td>\n",
              "      <td>0</td>\n",
              "      <td>unknown</td>\n",
              "      <td>no</td>\n",
              "    </tr>\n",
              "    <tr>\n",
              "      <th>3</th>\n",
              "      <td>47</td>\n",
              "      <td>blue-collar</td>\n",
              "      <td>married</td>\n",
              "      <td>unknown</td>\n",
              "      <td>no</td>\n",
              "      <td>1506</td>\n",
              "      <td>yes</td>\n",
              "      <td>no</td>\n",
              "      <td>unknown</td>\n",
              "      <td>5</td>\n",
              "      <td>may</td>\n",
              "      <td>92</td>\n",
              "      <td>1</td>\n",
              "      <td>-1</td>\n",
              "      <td>0</td>\n",
              "      <td>unknown</td>\n",
              "      <td>no</td>\n",
              "    </tr>\n",
              "    <tr>\n",
              "      <th>4</th>\n",
              "      <td>33</td>\n",
              "      <td>unknown</td>\n",
              "      <td>single</td>\n",
              "      <td>unknown</td>\n",
              "      <td>no</td>\n",
              "      <td>1</td>\n",
              "      <td>no</td>\n",
              "      <td>no</td>\n",
              "      <td>unknown</td>\n",
              "      <td>5</td>\n",
              "      <td>may</td>\n",
              "      <td>198</td>\n",
              "      <td>1</td>\n",
              "      <td>-1</td>\n",
              "      <td>0</td>\n",
              "      <td>unknown</td>\n",
              "      <td>no</td>\n",
              "    </tr>\n",
              "  </tbody>\n",
              "</table>\n",
              "</div>"
            ]
          },
          "metadata": {},
          "execution_count": 95
        }
      ]
    },
    {
      "cell_type": "code",
      "source": [
        "# 2.3 Check nulls:\n",
        "df.isnull().sum()"
      ],
      "metadata": {
        "colab": {
          "base_uri": "https://localhost:8080/"
        },
        "id": "zyI8XFr7rTmw",
        "outputId": "d0448e27-34ae-4446-9253-d7c2a5cebf45"
      },
      "execution_count": 96,
      "outputs": [
        {
          "output_type": "execute_result",
          "data": {
            "text/plain": [
              "age                                    0\n",
              "job                                    0\n",
              "marital                                0\n",
              "education                              0\n",
              "hascreditindefault                     0\n",
              "avgyearlybalance                       0\n",
              "hashousingloan                         0\n",
              "haspersonalloan                        0\n",
              "contactCommType                        0\n",
              "lastContactdayOfMonth                  0\n",
              "lastContactmonthOfYear                 0\n",
              "contactDuration                        0\n",
              "noOfContactsPerformedDuringcampaign    0\n",
              "pdays                                  0\n",
              "noOfContprevious_tocampaign            0\n",
              "outcomeOfPreMarketingcampaign          0\n",
              "y                                      0\n",
              "dtype: int64"
            ]
          },
          "metadata": {},
          "execution_count": 96
        }
      ]
    },
    {
      "cell_type": "code",
      "source": [
        "df.dtypes"
      ],
      "metadata": {
        "colab": {
          "base_uri": "https://localhost:8080/"
        },
        "id": "B883ZgLMem51",
        "outputId": "e045e87e-6528-4d54-e9b6-f2547daa607e"
      },
      "execution_count": 97,
      "outputs": [
        {
          "output_type": "execute_result",
          "data": {
            "text/plain": [
              "age                                     int32\n",
              "job                                    object\n",
              "marital                                object\n",
              "education                              object\n",
              "hascreditindefault                     object\n",
              "avgyearlybalance                        int32\n",
              "hashousingloan                         object\n",
              "haspersonalloan                        object\n",
              "contactCommType                        object\n",
              "lastContactdayOfMonth                   int32\n",
              "lastContactmonthOfYear                 object\n",
              "contactDuration                         int32\n",
              "noOfContactsPerformedDuringcampaign     int32\n",
              "pdays                                   int32\n",
              "noOfContprevious_tocampaign             int32\n",
              "outcomeOfPreMarketingcampaign          object\n",
              "y                                      object\n",
              "dtype: object"
            ]
          },
          "metadata": {},
          "execution_count": 97
        }
      ]
    },
    {
      "cell_type": "code",
      "source": [
        "catCols = df.select_dtypes(include = ['object']).columns\n",
        "catCols = catCols.to_list()"
      ],
      "metadata": {
        "id": "7xYRs2DAepW-"
      },
      "execution_count": 98,
      "outputs": []
    },
    {
      "cell_type": "code",
      "source": [
        "numCols = df.select_dtypes(include = ['int32']).columns\n",
        "numCols = numCols.to_list()"
      ],
      "metadata": {
        "id": "tof_w8aofFfe"
      },
      "execution_count": 99,
      "outputs": []
    },
    {
      "cell_type": "code",
      "source": [
        "df[numCols].head()"
      ],
      "metadata": {
        "colab": {
          "base_uri": "https://localhost:8080/",
          "height": 226
        },
        "id": "mLVsEZyqfPkA",
        "outputId": "d2625885-b00b-400a-a900-297bcf362c6c"
      },
      "execution_count": 100,
      "outputs": [
        {
          "output_type": "execute_result",
          "data": {
            "text/plain": [
              "   age  avgyearlybalance  lastContactdayOfMonth  contactDuration  noOfContactsPerformedDuringcampaign  pdays  noOfContprevious_tocampaign\n",
              "0   58              2143                      5              261                                    1     -1                            0\n",
              "1   44                29                      5              151                                    1     -1                            0\n",
              "2   33                 2                      5               76                                    1     -1                            0\n",
              "3   47              1506                      5               92                                    1     -1                            0\n",
              "4   33                 1                      5              198                                    1     -1                            0"
            ],
            "text/html": [
              "<div>\n",
              "<style scoped>\n",
              "    .dataframe tbody tr th:only-of-type {\n",
              "        vertical-align: middle;\n",
              "    }\n",
              "\n",
              "    .dataframe tbody tr th {\n",
              "        vertical-align: top;\n",
              "    }\n",
              "\n",
              "    .dataframe thead th {\n",
              "        text-align: right;\n",
              "    }\n",
              "</style>\n",
              "<table border=\"1\" class=\"dataframe\">\n",
              "  <thead>\n",
              "    <tr style=\"text-align: right;\">\n",
              "      <th></th>\n",
              "      <th>age</th>\n",
              "      <th>avgyearlybalance</th>\n",
              "      <th>lastContactdayOfMonth</th>\n",
              "      <th>contactDuration</th>\n",
              "      <th>noOfContactsPerformedDuringcampaign</th>\n",
              "      <th>pdays</th>\n",
              "      <th>noOfContprevious_tocampaign</th>\n",
              "    </tr>\n",
              "  </thead>\n",
              "  <tbody>\n",
              "    <tr>\n",
              "      <th>0</th>\n",
              "      <td>58</td>\n",
              "      <td>2143</td>\n",
              "      <td>5</td>\n",
              "      <td>261</td>\n",
              "      <td>1</td>\n",
              "      <td>-1</td>\n",
              "      <td>0</td>\n",
              "    </tr>\n",
              "    <tr>\n",
              "      <th>1</th>\n",
              "      <td>44</td>\n",
              "      <td>29</td>\n",
              "      <td>5</td>\n",
              "      <td>151</td>\n",
              "      <td>1</td>\n",
              "      <td>-1</td>\n",
              "      <td>0</td>\n",
              "    </tr>\n",
              "    <tr>\n",
              "      <th>2</th>\n",
              "      <td>33</td>\n",
              "      <td>2</td>\n",
              "      <td>5</td>\n",
              "      <td>76</td>\n",
              "      <td>1</td>\n",
              "      <td>-1</td>\n",
              "      <td>0</td>\n",
              "    </tr>\n",
              "    <tr>\n",
              "      <th>3</th>\n",
              "      <td>47</td>\n",
              "      <td>1506</td>\n",
              "      <td>5</td>\n",
              "      <td>92</td>\n",
              "      <td>1</td>\n",
              "      <td>-1</td>\n",
              "      <td>0</td>\n",
              "    </tr>\n",
              "    <tr>\n",
              "      <th>4</th>\n",
              "      <td>33</td>\n",
              "      <td>1</td>\n",
              "      <td>5</td>\n",
              "      <td>198</td>\n",
              "      <td>1</td>\n",
              "      <td>-1</td>\n",
              "      <td>0</td>\n",
              "    </tr>\n",
              "  </tbody>\n",
              "</table>\n",
              "</div>"
            ]
          },
          "metadata": {},
          "execution_count": 100
        }
      ]
    },
    {
      "cell_type": "code",
      "source": [
        "len(np.unique(df['noOfContactsPerformedDuringcampaign'].to_numpy()))\n",
        "\n",
        "print(\"\\n===========\\n\")\n",
        "\n",
        "len(np.unique(df['pdays'].to_numpy()))\n",
        "\n"
      ],
      "metadata": {
        "colab": {
          "base_uri": "https://localhost:8080/"
        },
        "id": "SjN208AfgLPs",
        "outputId": "a278239a-6e75-4752-9545-ac330359ed7f"
      },
      "execution_count": 101,
      "outputs": [
        {
          "output_type": "stream",
          "name": "stderr",
          "text": [
            "/opt/spark-3.3.2-bin-hadoop3/python/pyspark/pandas/utils.py:975: PandasAPIOnSparkAdviceWarning: `to_numpy` loads all data into the driver's memory. It should only be used if the resulting NumPy ndarray is expected to be small.\n",
            "  warnings.warn(message, PandasAPIOnSparkAdviceWarning)\n"
          ]
        },
        {
          "output_type": "execute_result",
          "data": {
            "text/plain": [
              "48"
            ]
          },
          "metadata": {},
          "execution_count": 101
        },
        {
          "output_type": "stream",
          "name": "stdout",
          "text": [
            "\n",
            "===========\n",
            "\n"
          ]
        },
        {
          "output_type": "stream",
          "name": "stderr",
          "text": [
            "/opt/spark-3.3.2-bin-hadoop3/python/pyspark/pandas/utils.py:975: PandasAPIOnSparkAdviceWarning: `to_numpy` loads all data into the driver's memory. It should only be used if the resulting NumPy ndarray is expected to be small.\n",
            "  warnings.warn(message, PandasAPIOnSparkAdviceWarning)\n"
          ]
        },
        {
          "output_type": "execute_result",
          "data": {
            "text/plain": [
              "559"
            ]
          },
          "metadata": {},
          "execution_count": 101
        }
      ]
    },
    {
      "cell_type": "markdown",
      "source": [
        "## About Label encoding and StringIndexer\n",
        "Reference [here](https://spark.apache.org/docs/latest/ml-features.html#stringindexer)"
      ],
      "metadata": {
        "id": "BjR_cCYMpWxM"
      }
    },
    {
      "cell_type": "markdown",
      "source": [
        "StringIndexer encodes a string column of labels to a column of label indices. StringIndexer can encode multiple columns. The indices are in [0, numLabels), and four ordering options are supported: “frequencyDesc”: descending order by label frequency (most frequent label assigned 0), “frequencyAsc”: ascending order by label frequency (least frequent label assigned 0), “alphabetDesc”: descending alphabetical order, and “alphabetAsc”: ascending alphabetical order (default = “frequencyDesc”). Note that in case of equal frequency when under “frequencyDesc”/”frequencyAsc”, the strings are further sorted by alphabet.\n",
        "\n",
        "The unseen labels will be put at index numLabels if user chooses to keep them. If the input column is numeric, we cast it to string and index the string values. When downstream pipeline components such as Estimator or Transformer make use of this string-indexed label, you must set the input column of the component to this string-indexed column name. In many cases, you can set the input column with setInputCol."
      ],
      "metadata": {
        "id": "IsIgK0WNqgvS"
      }
    },
    {
      "cell_type": "markdown",
      "source": [
        "![image.png](data:image/png;base64,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)"
      ],
      "metadata": {
        "id": "IHLDIZWIq2I1"
      }
    },
    {
      "cell_type": "markdown",
      "source": [
        "![image.png](data:image/png;base64,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)"
      ],
      "metadata": {
        "id": "TzJliHX6rDYL"
      }
    },
    {
      "cell_type": "markdown",
      "source": [
        "![image.png](data:image/png;base64,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)"
      ],
      "metadata": {
        "id": "TuxLb36rrMZc"
      }
    },
    {
      "cell_type": "markdown",
      "source": [
        "## StringIndex data now\n",
        "StrinIndexing is same as LabelEncoding"
      ],
      "metadata": {
        "id": "zXSinTZBsy3R"
      }
    },
    {
      "cell_type": "code",
      "source": [
        "# 3.0 \n",
        "from pyspark.ml.feature import StringIndexer"
      ],
      "metadata": {
        "id": "qaFu0LpOrP_s"
      },
      "execution_count": 102,
      "outputs": []
    },
    {
      "cell_type": "code",
      "source": [
        "# 3.1 Transform pyspark pandas DataFrame to \n",
        "#      SparkSQL DataFrame:\n",
        "\n",
        "df = df.to_spark()\n",
        "df.show(3)"
      ],
      "metadata": {
        "id": "jo5ajSe0rxoK",
        "outputId": "454262df-6874-4d39-fa5e-069ca4fc85dc",
        "colab": {
          "base_uri": "https://localhost:8080/"
        }
      },
      "execution_count": 103,
      "outputs": [
        {
          "output_type": "stream",
          "name": "stdout",
          "text": [
            "+---+------------+-------+---------+------------------+----------------+--------------+---------------+---------------+---------------------+----------------------+---------------+-----------------------------------+-----+---------------------------+-----------------------------+---+\n",
            "|age|         job|marital|education|hascreditindefault|avgyearlybalance|hashousingloan|haspersonalloan|contactCommType|lastContactdayOfMonth|lastContactmonthOfYear|contactDuration|noOfContactsPerformedDuringcampaign|pdays|noOfContprevious_tocampaign|outcomeOfPreMarketingcampaign|  y|\n",
            "+---+------------+-------+---------+------------------+----------------+--------------+---------------+---------------+---------------------+----------------------+---------------+-----------------------------------+-----+---------------------------+-----------------------------+---+\n",
            "| 58|  management|married| tertiary|                no|            2143|           yes|             no|        unknown|                    5|                   may|            261|                                  1|   -1|                          0|                      unknown| no|\n",
            "| 44|  technician| single|secondary|                no|              29|           yes|             no|        unknown|                    5|                   may|            151|                                  1|   -1|                          0|                      unknown| no|\n",
            "| 33|entrepreneur|married|secondary|                no|               2|           yes|            yes|        unknown|                    5|                   may|             76|                                  1|   -1|                          0|                      unknown| no|\n",
            "+---+------------+-------+---------+------------------+----------------+--------------+---------------+---------------+---------------------+----------------------+---------------+-----------------------------------+-----+---------------------------+-----------------------------+---+\n",
            "only showing top 3 rows\n",
            "\n"
          ]
        },
        {
          "output_type": "stream",
          "name": "stderr",
          "text": [
            "/opt/spark-3.3.2-bin-hadoop3/python/pyspark/pandas/utils.py:975: PandasAPIOnSparkAdviceWarning: If `index_col` is not specified for `to_spark`, the existing index is lost when converting to Spark DataFrame.\n",
            "  warnings.warn(message, PandasAPIOnSparkAdviceWarning)\n"
          ]
        }
      ]
    },
    {
      "cell_type": "code",
      "source": [
        "outCols = [i + \"_index\" for i in list(catCols)[:-1]]  # Exclude y\n",
        "outCols\n",
        "oheCols = [i + \"_vec\" for i in list(catCols)[:-1]]\n",
        "oheCols\n"
      ],
      "metadata": {
        "id": "6azLY6vdj5mA",
        "outputId": "f9727442-346f-485d-81c2-d8c37c231e50",
        "colab": {
          "base_uri": "https://localhost:8080/"
        }
      },
      "execution_count": 104,
      "outputs": [
        {
          "output_type": "execute_result",
          "data": {
            "text/plain": [
              "['job_index',\n",
              " 'marital_index',\n",
              " 'education_index',\n",
              " 'hascreditindefault_index',\n",
              " 'hashousingloan_index',\n",
              " 'haspersonalloan_index',\n",
              " 'contactCommType_index',\n",
              " 'lastContactmonthOfYear_index',\n",
              " 'outcomeOfPreMarketingcampaign_index']"
            ]
          },
          "metadata": {},
          "execution_count": 104
        },
        {
          "output_type": "execute_result",
          "data": {
            "text/plain": [
              "['job_vec',\n",
              " 'marital_vec',\n",
              " 'education_vec',\n",
              " 'hascreditindefault_vec',\n",
              " 'hashousingloan_vec',\n",
              " 'haspersonalloan_vec',\n",
              " 'contactCommType_vec',\n",
              " 'lastContactmonthOfYear_vec',\n",
              " 'outcomeOfPreMarketingcampaign_vec']"
            ]
          },
          "metadata": {},
          "execution_count": 104
        }
      ]
    },
    {
      "cell_type": "code",
      "source": [
        "# 3.2 Instantiate StringIndexer for multiple columns:\n",
        "\n",
        "indexer = StringIndexer(\n",
        "                        inputCols=catCols[:-1],   # Exclude y\n",
        "                        outputCols=outCols\n",
        "                        )\n",
        "\n"
      ],
      "metadata": {
        "id": "rTFv0v_2rTud"
      },
      "execution_count": 105,
      "outputs": []
    },
    {
      "cell_type": "code",
      "source": [
        "# 3.3 Fit and transform df:\n",
        "\n",
        "df = indexer.fit(df).transform(df)\n",
        "df.show(3)"
      ],
      "metadata": {
        "id": "yDi1UaKPrwXU",
        "outputId": "849d813c-ae11-4ae4-abfc-dea983969942",
        "colab": {
          "base_uri": "https://localhost:8080/"
        }
      },
      "execution_count": 106,
      "outputs": [
        {
          "output_type": "stream",
          "name": "stdout",
          "text": [
            "+---+------------+-------+---------+------------------+----------------+--------------+---------------+---------------+---------------------+----------------------+---------------+-----------------------------------+-----+---------------------------+-----------------------------+---+---------+-------------+---------------+------------------------+--------------------+---------------------+---------------------+----------------------------+-----------------------------------+\n",
            "|age|         job|marital|education|hascreditindefault|avgyearlybalance|hashousingloan|haspersonalloan|contactCommType|lastContactdayOfMonth|lastContactmonthOfYear|contactDuration|noOfContactsPerformedDuringcampaign|pdays|noOfContprevious_tocampaign|outcomeOfPreMarketingcampaign|  y|job_index|marital_index|education_index|hascreditindefault_index|hashousingloan_index|haspersonalloan_index|contactCommType_index|lastContactmonthOfYear_index|outcomeOfPreMarketingcampaign_index|\n",
            "+---+------------+-------+---------+------------------+----------------+--------------+---------------+---------------+---------------------+----------------------+---------------+-----------------------------------+-----+---------------------------+-----------------------------+---+---------+-------------+---------------+------------------------+--------------------+---------------------+---------------------+----------------------------+-----------------------------------+\n",
            "| 58|  management|married| tertiary|                no|            2143|           yes|             no|        unknown|                    5|                   may|            261|                                  1|   -1|                          0|                      unknown| no|      1.0|          0.0|            1.0|                     0.0|                 0.0|                  0.0|                  1.0|                         0.0|                                0.0|\n",
            "| 44|  technician| single|secondary|                no|              29|           yes|             no|        unknown|                    5|                   may|            151|                                  1|   -1|                          0|                      unknown| no|      2.0|          1.0|            0.0|                     0.0|                 0.0|                  0.0|                  1.0|                         0.0|                                0.0|\n",
            "| 33|entrepreneur|married|secondary|                no|               2|           yes|            yes|        unknown|                    5|                   may|             76|                                  1|   -1|                          0|                      unknown| no|      7.0|          0.0|            0.0|                     0.0|                 0.0|                  1.0|                  1.0|                         0.0|                                0.0|\n",
            "+---+------------+-------+---------+------------------+----------------+--------------+---------------+---------------+---------------------+----------------------+---------------+-----------------------------------+-----+---------------------------+-----------------------------+---+---------+-------------+---------------+------------------------+--------------------+---------------------+---------------------+----------------------------+-----------------------------------+\n",
            "only showing top 3 rows\n",
            "\n"
          ]
        }
      ]
    },
    {
      "cell_type": "markdown",
      "source": [
        "## About OneHotEncoder\n",
        "See [here](https://spark.apache.org/docs/latest/ml-features.html#onehotencoder)"
      ],
      "metadata": {
        "id": "MGGG10vQshyA"
      }
    },
    {
      "cell_type": "markdown",
      "source": [
        "One-hot encoding maps a categorical feature, represented as a label index, to a binary vector with at most a single one-value indicating the presence of a specific feature value from among the set of all feature values. This encoding allows algorithms which expect continuous features, such as Logistic Regression, to use categorical features. For string type input data, it is common to encode categorical features using StringIndexer first.\n",
        "\n",
        "OneHotEncoder can transform multiple columns, returning an one-hot-encoded output vector column for each input column. It is common to merge these vectors into a single feature vector using VectorAssembler.\n",
        "\n",
        "OneHotEncoder supports the handleInvalid parameter to choose how to handle invalid input during transforming data. Available options include ‘keep’ (any invalid inputs are assigned to an extra categorical index) and ‘error’ (throw an error)."
      ],
      "metadata": {
        "id": "aWGEwVG5s8Z2"
      }
    },
    {
      "cell_type": "markdown",
      "source": [
        "## OHE data now"
      ],
      "metadata": {
        "id": "Cx5DoKBKs9yH"
      }
    },
    {
      "cell_type": "code",
      "source": [
        "# 4.0 Call OHE library:\n",
        "\n",
        "from pyspark.ml.feature import OneHotEncoder\n"
      ],
      "metadata": {
        "id": "3-bG9NVitCXP"
      },
      "execution_count": 107,
      "outputs": []
    },
    {
      "cell_type": "code",
      "source": [
        "# 4.1 Instantiate OneHotEncoder\n",
        "#      for multiple columns:\n",
        "\n",
        "encoder = OneHotEncoder(inputCols=outCols,\n",
        "                        outputCols=oheCols)\n"
      ],
      "metadata": {
        "id": "sqc1VEZ1tGSP"
      },
      "execution_count": 108,
      "outputs": []
    },
    {
      "cell_type": "code",
      "source": [
        "# 4.2 Fit the encoder:\n",
        "\n",
        "model = encoder.fit(df)"
      ],
      "metadata": {
        "id": "T0Gxl4cMtH5W"
      },
      "execution_count": 109,
      "outputs": []
    },
    {
      "cell_type": "code",
      "source": [
        "# 4.3 And transform df:\n",
        "\n",
        "df = model.transform(df)\n",
        "\n",
        "# 4.3.1 Note two new vector columns:\n",
        "df.show(3)"
      ],
      "metadata": {
        "id": "k5ROBlJ_tTK2",
        "colab": {
          "base_uri": "https://localhost:8080/"
        },
        "outputId": "8b050e43-bd6f-42c2-c76b-f1f97deff2f0"
      },
      "execution_count": 110,
      "outputs": [
        {
          "output_type": "stream",
          "name": "stdout",
          "text": [
            "+---+------------+-------+---------+------------------+----------------+--------------+---------------+---------------+---------------------+----------------------+---------------+-----------------------------------+-----+---------------------------+-----------------------------+---+---------+-------------+---------------+------------------------+--------------------+---------------------+---------------------+----------------------------+-----------------------------------+--------------+-------------+-------------+----------------------+------------------+-------------------+-------------------+--------------------------+---------------------------------+\n",
            "|age|         job|marital|education|hascreditindefault|avgyearlybalance|hashousingloan|haspersonalloan|contactCommType|lastContactdayOfMonth|lastContactmonthOfYear|contactDuration|noOfContactsPerformedDuringcampaign|pdays|noOfContprevious_tocampaign|outcomeOfPreMarketingcampaign|  y|job_index|marital_index|education_index|hascreditindefault_index|hashousingloan_index|haspersonalloan_index|contactCommType_index|lastContactmonthOfYear_index|outcomeOfPreMarketingcampaign_index|       job_vec|  marital_vec|education_vec|hascreditindefault_vec|hashousingloan_vec|haspersonalloan_vec|contactCommType_vec|lastContactmonthOfYear_vec|outcomeOfPreMarketingcampaign_vec|\n",
            "+---+------------+-------+---------+------------------+----------------+--------------+---------------+---------------+---------------------+----------------------+---------------+-----------------------------------+-----+---------------------------+-----------------------------+---+---------+-------------+---------------+------------------------+--------------------+---------------------+---------------------+----------------------------+-----------------------------------+--------------+-------------+-------------+----------------------+------------------+-------------------+-------------------+--------------------------+---------------------------------+\n",
            "| 58|  management|married| tertiary|                no|            2143|           yes|             no|        unknown|                    5|                   may|            261|                                  1|   -1|                          0|                      unknown| no|      1.0|          0.0|            1.0|                     0.0|                 0.0|                  0.0|                  1.0|                         0.0|                                0.0|(11,[1],[1.0])|(2,[0],[1.0])|(3,[1],[1.0])|         (1,[0],[1.0])|     (1,[0],[1.0])|      (1,[0],[1.0])|      (2,[1],[1.0])|            (11,[0],[1.0])|                    (3,[0],[1.0])|\n",
            "| 44|  technician| single|secondary|                no|              29|           yes|             no|        unknown|                    5|                   may|            151|                                  1|   -1|                          0|                      unknown| no|      2.0|          1.0|            0.0|                     0.0|                 0.0|                  0.0|                  1.0|                         0.0|                                0.0|(11,[2],[1.0])|(2,[1],[1.0])|(3,[0],[1.0])|         (1,[0],[1.0])|     (1,[0],[1.0])|      (1,[0],[1.0])|      (2,[1],[1.0])|            (11,[0],[1.0])|                    (3,[0],[1.0])|\n",
            "| 33|entrepreneur|married|secondary|                no|               2|           yes|            yes|        unknown|                    5|                   may|             76|                                  1|   -1|                          0|                      unknown| no|      7.0|          0.0|            0.0|                     0.0|                 0.0|                  1.0|                  1.0|                         0.0|                                0.0|(11,[7],[1.0])|(2,[0],[1.0])|(3,[0],[1.0])|         (1,[0],[1.0])|     (1,[0],[1.0])|          (1,[],[])|      (2,[1],[1.0])|            (11,[0],[1.0])|                    (3,[0],[1.0])|\n",
            "+---+------------+-------+---------+------------------+----------------+--------------+---------------+---------------+---------------------+----------------------+---------------+-----------------------------------+-----+---------------------------+-----------------------------+---+---------+-------------+---------------+------------------------+--------------------+---------------------+---------------------+----------------------------+-----------------------------------+--------------+-------------+-------------+----------------------+------------------+-------------------+-------------------+--------------------------+---------------------------------+\n",
            "only showing top 3 rows\n",
            "\n"
          ]
        }
      ]
    },
    {
      "cell_type": "markdown",
      "source": [
        "## What is VectorAssembler?"
      ],
      "metadata": {
        "id": "UklZ-UQTtY1G"
      }
    },
    {
      "cell_type": "markdown",
      "source": [
        "![image.png](data:image/png;base64,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)"
      ],
      "metadata": {
        "id": "QZVDQQDQtcae"
      }
    },
    {
      "cell_type": "markdown",
      "source": [
        "### Interprerting vectors"
      ],
      "metadata": {
        "id": "I81XhkuOjRsh"
      }
    },
    {
      "cell_type": "markdown",
      "source": [
        "We start with the following columns:"
      ],
      "metadata": {
        "id": "0lgkLOQZj0mQ"
      }
    },
    {
      "cell_type": "markdown",
      "source": [
        "![image.png](data:image/png;base64,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)"
      ],
      "metadata": {
        "id": "NaWMvCcMkFEA"
      }
    },
    {
      "cell_type": "markdown",
      "source": [
        "The first column is a numerical column and the other two columns represent the transformed data set for `OneHotEncoded` categorical features. After applying `VectorAssembler()`, the output becomes: "
      ],
      "metadata": {
        "id": "lJ1bwRF0kIxg"
      }
    },
    {
      "cell_type": "markdown",
      "source": [
        "![image.png](data:image/png;base64,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)"
      ],
      "metadata": {
        "id": "43g783pKkKxb"
      }
    },
    {
      "cell_type": "markdown",
      "source": [
        "This output is not specific to `VectorAssembler`. It is just a string representation of `SparseVector` with the leading number representing the length of a vector, the first first set of numbers in brackets is a list of non-zero indices, the second set of numbers in brackets is a list of values corresponding to the indices\n",
        "\n",
        "So `(48,[0,1,9],[14460.0,1.0,1.0])` represents a vector of length 48, with three non-zero entries:\n",
        "\n",
        ">14460.0 at the 0th position<br>\n",
        ">1.0 at the 1st position<br>\n",
        ">1.0 at the 9th position\n"
      ],
      "metadata": {
        "id": "G1Chbo6CjbEq"
      }
    },
    {
      "cell_type": "markdown",
      "source": [
        "## Vector Assemble data now\n",
        "Vectorassemble numeric and _vec columns "
      ],
      "metadata": {
        "id": "vsHVWQe6uelk"
      }
    },
    {
      "cell_type": "code",
      "source": [
        "# 5.0 Import VectorAssembler:\n",
        "from pyspark.ml.feature import VectorAssembler"
      ],
      "metadata": {
        "id": "2a48743CiIXR"
      },
      "execution_count": 111,
      "outputs": []
    },
    {
      "cell_type": "code",
      "source": [
        "# 5.0.1 Let us see columns once again:\n",
        "df.columns"
      ],
      "metadata": {
        "id": "le-UDc1rgawg"
      },
      "execution_count": null,
      "outputs": []
    },
    {
      "cell_type": "code",
      "source": [
        "# 5.0.2 Which all cols to assemble:\n",
        "\n",
        "colsToAssemble= oheCols.copy()\n",
        "colsToAssemble.extend(numCols)\n",
        "colsToAssemble"
      ],
      "metadata": {
        "id": "mOeUXVYV0aEK"
      },
      "execution_count": null,
      "outputs": []
    },
    {
      "cell_type": "code",
      "source": [
        "# 5.1 Instantiate VectorAssembler:\n",
        "                 \n",
        "vectorAssembler = VectorAssembler(\n",
        "                                   inputCols = colsToAssemble ,\n",
        "                                   outputCol = 'features'\n",
        "                                  )"
      ],
      "metadata": {
        "id": "vVGxqM2liNIV"
      },
      "execution_count": 115,
      "outputs": []
    },
    {
      "cell_type": "code",
      "source": [
        "# 5.2 Transform df.\n",
        "#     Note that THERE IS NO fitting:\n",
        "\n",
        "df = vectorAssembler.transform(df)\n",
        "\n"
      ],
      "metadata": {
        "id": "lt2nGc5_ieJ6"
      },
      "execution_count": 116,
      "outputs": []
    },
    {
      "cell_type": "code",
      "source": [
        "# 5.2.1 A column 'features' gets added:\n",
        "df.show(3, truncate = False)"
      ],
      "metadata": {
        "colab": {
          "base_uri": "https://localhost:8080/"
        },
        "id": "hIGXIxOPicRk",
        "outputId": "c2ef1032-963a-43b2-910d-78525b7833d1"
      },
      "execution_count": 117,
      "outputs": [
        {
          "output_type": "stream",
          "name": "stdout",
          "text": [
            "+---+------------+-------+---------+------------------+----------------+--------------+---------------+---------------+---------------------+----------------------+---------------+-----------------------------------+-----+---------------------------+-----------------------------+---+---------+-------------+---------------+------------------------+--------------------+---------------------+---------------------+----------------------------+-----------------------------------+--------------+-------------+-------------+----------------------+------------------+-------------------+-------------------+--------------------------+---------------------------------+-----------------------------------------------------------------------------------------------------------------------+\n",
            "|age|job         |marital|education|hascreditindefault|avgyearlybalance|hashousingloan|haspersonalloan|contactCommType|lastContactdayOfMonth|lastContactmonthOfYear|contactDuration|noOfContactsPerformedDuringcampaign|pdays|noOfContprevious_tocampaign|outcomeOfPreMarketingcampaign|y  |job_index|marital_index|education_index|hascreditindefault_index|hashousingloan_index|haspersonalloan_index|contactCommType_index|lastContactmonthOfYear_index|outcomeOfPreMarketingcampaign_index|job_vec       |marital_vec  |education_vec|hascreditindefault_vec|hashousingloan_vec|haspersonalloan_vec|contactCommType_vec|lastContactmonthOfYear_vec|outcomeOfPreMarketingcampaign_vec|features                                                                                                               |\n",
            "+---+------------+-------+---------+------------------+----------------+--------------+---------------+---------------+---------------------+----------------------+---------------+-----------------------------------+-----+---------------------------+-----------------------------+---+---------+-------------+---------------+------------------------+--------------------+---------------------+---------------------+----------------------------+-----------------------------------+--------------+-------------+-------------+----------------------+------------------+-------------------+-------------------+--------------------------+---------------------------------+-----------------------------------------------------------------------------------------------------------------------+\n",
            "|58 |management  |married|tertiary |no                |2143            |yes           |no             |unknown        |5                    |may                   |261            |1                                  |-1   |0                          |unknown                      |no |1.0      |0.0          |1.0            |0.0                     |0.0                 |0.0                  |1.0                  |0.0                         |0.0                                |(11,[1],[1.0])|(2,[0],[1.0])|(3,[1],[1.0])|(1,[0],[1.0])         |(1,[0],[1.0])     |(1,[0],[1.0])      |(2,[1],[1.0])      |(11,[0],[1.0])            |(3,[0],[1.0])                    |(42,[1,11,14,16,17,18,20,21,32,35,36,37,38,39,40],[1.0,1.0,1.0,1.0,1.0,1.0,1.0,1.0,1.0,58.0,2143.0,5.0,261.0,1.0,-1.0])|\n",
            "|44 |technician  |single |secondary|no                |29              |yes           |no             |unknown        |5                    |may                   |151            |1                                  |-1   |0                          |unknown                      |no |2.0      |1.0          |0.0            |0.0                     |0.0                 |0.0                  |1.0                  |0.0                         |0.0                                |(11,[2],[1.0])|(2,[1],[1.0])|(3,[0],[1.0])|(1,[0],[1.0])         |(1,[0],[1.0])     |(1,[0],[1.0])      |(2,[1],[1.0])      |(11,[0],[1.0])            |(3,[0],[1.0])                    |(42,[2,12,13,16,17,18,20,21,32,35,36,37,38,39,40],[1.0,1.0,1.0,1.0,1.0,1.0,1.0,1.0,1.0,44.0,29.0,5.0,151.0,1.0,-1.0])  |\n",
            "|33 |entrepreneur|married|secondary|no                |2               |yes           |yes            |unknown        |5                    |may                   |76             |1                                  |-1   |0                          |unknown                      |no |7.0      |0.0          |0.0            |0.0                     |0.0                 |1.0                  |1.0                  |0.0                         |0.0                                |(11,[7],[1.0])|(2,[0],[1.0])|(3,[0],[1.0])|(1,[0],[1.0])         |(1,[0],[1.0])     |(1,[],[])          |(2,[1],[1.0])      |(11,[0],[1.0])            |(3,[0],[1.0])                    |(42,[7,11,13,16,17,20,21,32,35,36,37,38,39,40],[1.0,1.0,1.0,1.0,1.0,1.0,1.0,1.0,33.0,2.0,5.0,76.0,1.0,-1.0])           |\n",
            "+---+------------+-------+---------+------------------+----------------+--------------+---------------+---------------+---------------------+----------------------+---------------+-----------------------------------+-----+---------------------------+-----------------------------+---+---------+-------------+---------------+------------------------+--------------------+---------------------+---------------------+----------------------------+-----------------------------------+--------------+-------------+-------------+----------------------+------------------+-------------------+-------------------+--------------------------+---------------------------------+-----------------------------------------------------------------------------------------------------------------------+\n",
            "only showing top 3 rows\n",
            "\n"
          ]
        }
      ]
    },
    {
      "cell_type": "code",
      "source": [
        "# 5.2.2 Check dtypes:\n",
        "#       Note the dtype of 'features' column:\n",
        "\n",
        "df.dtypes"
      ],
      "metadata": {
        "id": "rW0Sm1xLuYcW"
      },
      "execution_count": null,
      "outputs": []
    },
    {
      "cell_type": "markdown",
      "source": [
        "## Transform target (y) now"
      ],
      "metadata": {
        "id": "bjiNlc163BQh"
      }
    },
    {
      "cell_type": "code",
      "source": [
        "# 6.0\n",
        "yindex = StringIndexer(inputCol = 'y',\n",
        "                       outputCol = 'y_index')\n",
        "\n",
        "# 6.1\n",
        "df = yindex.fit(df).transform(df)\n",
        "\n",
        "# 6.2 \n",
        "df.show(2)"
      ],
      "metadata": {
        "id": "Zn7XZSJR3NWB"
      },
      "execution_count": 121,
      "outputs": []
    },
    {
      "cell_type": "markdown",
      "source": [
        "## train/test split"
      ],
      "metadata": {
        "id": "1pT7jNv4hM6Y"
      }
    },
    {
      "cell_type": "code",
      "source": [
        "# 6.0 Rename the target column, 'annualIncome' to label:\n",
        "df = df.withColumnRenamed( \"y_index\", \"label\")\n",
        "\n",
        "# 6.0.1\n",
        "print(df.columns)"
      ],
      "metadata": {
        "colab": {
          "base_uri": "https://localhost:8080/"
        },
        "id": "LRXVry2mnBo3",
        "outputId": "91723f4e-ec7f-4862-a41c-1b4c7f8f0413"
      },
      "execution_count": 126,
      "outputs": [
        {
          "output_type": "stream",
          "name": "stdout",
          "text": [
            "['age', 'job', 'marital', 'education', 'hascreditindefault', 'avgyearlybalance', 'hashousingloan', 'haspersonalloan', 'contactCommType', 'lastContactdayOfMonth', 'lastContactmonthOfYear', 'contactDuration', 'noOfContactsPerformedDuringcampaign', 'pdays', 'noOfContprevious_tocampaign', 'outcomeOfPreMarketingcampaign', 'y', 'job_index', 'marital_index', 'education_index', 'hascreditindefault_index', 'hashousingloan_index', 'haspersonalloan_index', 'contactCommType_index', 'lastContactmonthOfYear_index', 'outcomeOfPreMarketingcampaign_index', 'job_vec', 'marital_vec', 'education_vec', 'hascreditindefault_vec', 'hashousingloan_vec', 'haspersonalloan_vec', 'contactCommType_vec', 'lastContactmonthOfYear_vec', 'outcomeOfPreMarketingcampaign_vec', 'features', 'label']\n"
          ]
        }
      ]
    },
    {
      "cell_type": "code",
      "source": [
        "# 6.1 Split spark_df into train/test:\n",
        "\n",
        "splits = df.randomSplit([0.7, 0.3])\n",
        "type(splits)   # list\n"
      ],
      "metadata": {
        "colab": {
          "base_uri": "https://localhost:8080/"
        },
        "id": "quUf1BRakCxh",
        "outputId": "3ec74b52-adbe-4fff-e51a-d2cf2cd35291"
      },
      "execution_count": 127,
      "outputs": [
        {
          "output_type": "execute_result",
          "data": {
            "text/plain": [
              "list"
            ]
          },
          "metadata": {},
          "execution_count": 127
        }
      ]
    },
    {
      "cell_type": "code",
      "source": [
        "# 6.2\n",
        "train_df = splits[0]\n",
        "test_df = splits[1]"
      ],
      "metadata": {
        "id": "jI-Tnb7qu1nt"
      },
      "execution_count": 128,
      "outputs": []
    },
    {
      "cell_type": "code",
      "source": [
        "# 6.3\n",
        "train_df.show(3)\n",
        "print(\"\\n==========\\n\")\n",
        "train_df.count()\n",
        "print(\"\\n==========\\n\")\n",
        "test_df.count()"
      ],
      "metadata": {
        "colab": {
          "base_uri": "https://localhost:8080/"
        },
        "id": "oXQMtpwHkIJ7",
        "outputId": "7c4730aa-e5ef-4dab-fef4-d8cd3ff045f4"
      },
      "execution_count": 129,
      "outputs": [
        {
          "output_type": "stream",
          "name": "stdout",
          "text": [
            "+---+-------+-------+---------+------------------+----------------+--------------+---------------+---------------+---------------------+----------------------+---------------+-----------------------------------+-----+---------------------------+-----------------------------+---+---------+-------------+---------------+------------------------+--------------------+---------------------+---------------------+----------------------------+-----------------------------------+---------------+-------------+-------------+----------------------+------------------+-------------------+-------------------+--------------------------+---------------------------------+--------------------+-----+\n",
            "|age|    job|marital|education|hascreditindefault|avgyearlybalance|hashousingloan|haspersonalloan|contactCommType|lastContactdayOfMonth|lastContactmonthOfYear|contactDuration|noOfContactsPerformedDuringcampaign|pdays|noOfContprevious_tocampaign|outcomeOfPreMarketingcampaign|  y|job_index|marital_index|education_index|hascreditindefault_index|hashousingloan_index|haspersonalloan_index|contactCommType_index|lastContactmonthOfYear_index|outcomeOfPreMarketingcampaign_index|        job_vec|  marital_vec|education_vec|hascreditindefault_vec|hashousingloan_vec|haspersonalloan_vec|contactCommType_vec|lastContactmonthOfYear_vec|outcomeOfPreMarketingcampaign_vec|            features|label|\n",
            "+---+-------+-------+---------+------------------+----------------+--------------+---------------+---------------+---------------------+----------------------+---------------+-----------------------------------+-----+---------------------------+-----------------------------+---+---------+-------------+---------------+------------------------+--------------------+---------------------+---------------------+----------------------------+-----------------------------------+---------------+-------------+-------------+----------------------+------------------+-------------------+-------------------+--------------------------+---------------------------------+--------------------+-----+\n",
            "| 18|student| single|  primary|                no|             608|            no|             no|       cellular|                   12|                   aug|            267|                                  1|   -1|                          0|                      unknown|yes|     10.0|          1.0|            2.0|                     0.0|                 1.0|                  0.0|                  0.0|                         2.0|                                0.0|(11,[10],[1.0])|(2,[1],[1.0])|(3,[2],[1.0])|         (1,[0],[1.0])|         (1,[],[])|      (1,[0],[1.0])|      (2,[0],[1.0])|            (11,[2],[1.0])|                    (3,[0],[1.0])|(42,[10,12,15,16,...|  1.0|\n",
            "| 18|student| single|  primary|                no|             608|            no|             no|       cellular|                   13|                   nov|            210|                                  1|   93|                          1|                      success|yes|     10.0|          1.0|            2.0|                     0.0|                 1.0|                  0.0|                  0.0|                         4.0|                                3.0|(11,[10],[1.0])|(2,[1],[1.0])|(3,[2],[1.0])|         (1,[0],[1.0])|         (1,[],[])|      (1,[0],[1.0])|      (2,[0],[1.0])|            (11,[4],[1.0])|                        (3,[],[])|(42,[10,12,15,16,...|  1.0|\n",
            "| 18|student| single|  primary|                no|            1944|            no|             no|      telephone|                   10|                   aug|            122|                                  3|   -1|                          0|                      unknown| no|     10.0|          1.0|            2.0|                     0.0|                 1.0|                  0.0|                  2.0|                         2.0|                                0.0|(11,[10],[1.0])|(2,[1],[1.0])|(3,[2],[1.0])|         (1,[0],[1.0])|         (1,[],[])|      (1,[0],[1.0])|          (2,[],[])|            (11,[2],[1.0])|                    (3,[0],[1.0])|(42,[10,12,15,16,...|  0.0|\n",
            "+---+-------+-------+---------+------------------+----------------+--------------+---------------+---------------+---------------------+----------------------+---------------+-----------------------------------+-----+---------------------------+-----------------------------+---+---------+-------------+---------------+------------------------+--------------------+---------------------+---------------------+----------------------------+-----------------------------------+---------------+-------------+-------------+----------------------+------------------+-------------------+-------------------+--------------------------+---------------------------------+--------------------+-----+\n",
            "only showing top 3 rows\n",
            "\n",
            "\n",
            "==========\n",
            "\n"
          ]
        },
        {
          "output_type": "execute_result",
          "data": {
            "text/plain": [
              "31599"
            ]
          },
          "metadata": {},
          "execution_count": 129
        },
        {
          "output_type": "stream",
          "name": "stdout",
          "text": [
            "\n",
            "==========\n",
            "\n"
          ]
        },
        {
          "output_type": "execute_result",
          "data": {
            "text/plain": [
              "13612"
            ]
          },
          "metadata": {},
          "execution_count": 129
        }
      ]
    },
    {
      "cell_type": "markdown",
      "source": [
        "## Classification\n",
        "For MLlib(DataFrame) based, see [here](https://spark.apache.org/docs/latest/api/python/reference/api/pyspark.ml.classification.RandomForestClassifier.html#pyspark.ml.classification.RandomForestClassifier)"
      ],
      "metadata": {
        "id": "QIaWU70J9MXb"
      }
    },
    {
      "cell_type": "code",
      "source": [
        "from pyspark.ml.classification import RandomForestClassifier"
      ],
      "metadata": {
        "id": "6m7FRhcZ9b8B"
      },
      "execution_count": 131,
      "outputs": []
    },
    {
      "cell_type": "code",
      "source": [
        "rf = RandomForestClassifier(numTrees=100)"
      ],
      "metadata": {
        "id": "v5vdPwit9-15"
      },
      "execution_count": 133,
      "outputs": []
    },
    {
      "cell_type": "code",
      "source": [
        "model = rf.fit(train_df)"
      ],
      "metadata": {
        "id": "hSrG63BYC3OH"
      },
      "execution_count": 134,
      "outputs": []
    },
    {
      "cell_type": "code",
      "source": [
        "model.summary.areaUnderROC   # 0.89372476\n",
        "\n",
        "print(\"\\n============\\n\")\n",
        "\n",
        "model.summary.accuracy       # 0.88439507\n"
      ],
      "metadata": {
        "id": "qKENJGvLDFln",
        "outputId": "fc56dcbc-7002-4516-d9d6-22a9fe4539e8",
        "colab": {
          "base_uri": "https://localhost:8080/"
        }
      },
      "execution_count": 138,
      "outputs": [
        {
          "output_type": "execute_result",
          "data": {
            "text/plain": [
              "0.8937247677054334"
            ]
          },
          "metadata": {},
          "execution_count": 138
        },
        {
          "output_type": "stream",
          "name": "stdout",
          "text": [
            "\n",
            "============\n",
            "\n"
          ]
        },
        {
          "output_type": "execute_result",
          "data": {
            "text/plain": [
              "0.8843950757935378"
            ]
          },
          "metadata": {},
          "execution_count": 138
        }
      ]
    },
    {
      "cell_type": "code",
      "source": [
        "test_df = model.transform(test_df)"
      ],
      "metadata": {
        "id": "iwrmNmnpD684"
      },
      "execution_count": 139,
      "outputs": []
    },
    {
      "cell_type": "code",
      "source": [
        "# rawPrediction column is same as probbaility column:\n",
        "\n",
        "test_df.show(3, truncate = False)"
      ],
      "metadata": {
        "id": "3d_LxjI1D___",
        "outputId": "d02840de-ec28-4792-ebd4-266dc92bdb12",
        "colab": {
          "base_uri": "https://localhost:8080/"
        }
      },
      "execution_count": 142,
      "outputs": [
        {
          "output_type": "stream",
          "name": "stdout",
          "text": [
            "+---+-------+-------+---------+------------------+----------------+--------------+---------------+---------------+---------------------+----------------------+---------------+-----------------------------------+-----+---------------------------+-----------------------------+---+---------+-------------+---------------+------------------------+--------------------+---------------------+---------------------+----------------------------+-----------------------------------+---------------+-------------+-------------+----------------------+------------------+-------------------+-------------------+--------------------------+---------------------------------+-----------------------------------------------------------------------------------------------------------------------+-----+--------------------------------------+----------------------------------------+----------+\n",
            "|age|job    |marital|education|hascreditindefault|avgyearlybalance|hashousingloan|haspersonalloan|contactCommType|lastContactdayOfMonth|lastContactmonthOfYear|contactDuration|noOfContactsPerformedDuringcampaign|pdays|noOfContprevious_tocampaign|outcomeOfPreMarketingcampaign|y  |job_index|marital_index|education_index|hascreditindefault_index|hashousingloan_index|haspersonalloan_index|contactCommType_index|lastContactmonthOfYear_index|outcomeOfPreMarketingcampaign_index|job_vec        |marital_vec  |education_vec|hascreditindefault_vec|hashousingloan_vec|haspersonalloan_vec|contactCommType_vec|lastContactmonthOfYear_vec|outcomeOfPreMarketingcampaign_vec|features                                                                                                               |label|rawPrediction                         |probability                             |prediction|\n",
            "+---+-------+-------+---------+------------------+----------------+--------------+---------------+---------------+---------------------+----------------------+---------------+-----------------------------------+-----+---------------------------+-----------------------------+---+---------+-------------+---------------+------------------------+--------------------+---------------------+---------------------+----------------------------+-----------------------------------+---------------+-------------+-------------+----------------------+------------------+-------------------+-------------------+--------------------------+---------------------------------+-----------------------------------------------------------------------------------------------------------------------+-----+--------------------------------------+----------------------------------------+----------+\n",
            "|18 |student|single |secondary|no                |156             |no            |no             |cellular       |4                    |nov                   |298            |2                                  |82   |4                          |other                        |no |10.0     |1.0          |0.0            |0.0                     |1.0                 |0.0                  |0.0                  |4.0                         |2.0                                |(11,[10],[1.0])|(2,[1],[1.0])|(3,[0],[1.0])|(1,[0],[1.0])         |(1,[],[])         |(1,[0],[1.0])      |(2,[0],[1.0])      |(11,[4],[1.0])            |(3,[2],[1.0])                    |(42,[10,12,13,16,18,19,25,34,35,36,37,38,39,40,41],[1.0,1.0,1.0,1.0,1.0,1.0,1.0,1.0,18.0,156.0,4.0,298.0,2.0,82.0,4.0])|0.0  |[66.38171649646021,33.618283503539814]|[0.663817164964602,0.33618283503539803] |0.0       |\n",
            "|18 |student|single |unknown  |no                |108             |no            |no             |cellular       |8                    |sep                   |169            |1                                  |-1   |0                          |unknown                      |yes|10.0     |1.0          |3.0            |0.0                     |1.0                 |0.0                  |0.0                  |9.0                         |0.0                                |(11,[10],[1.0])|(2,[1],[1.0])|(3,[],[])    |(1,[0],[1.0])         |(1,[],[])         |(1,[0],[1.0])      |(2,[0],[1.0])      |(11,[9],[1.0])            |(3,[0],[1.0])                    |(42,[10,12,16,18,19,30,32,35,36,37,38,39,40],[1.0,1.0,1.0,1.0,1.0,1.0,1.0,18.0,108.0,8.0,169.0,1.0,-1.0])              |1.0  |[88.35581629004884,11.644183709951179]|[0.8835581629004883,0.11644183709951177]|0.0       |\n",
            "|19 |student|single |secondary|no                |88              |no            |no             |cellular       |8                    |sep                   |191            |1                                  |-1   |0                          |unknown                      |no |10.0     |1.0          |0.0            |0.0                     |1.0                 |0.0                  |0.0                  |9.0                         |0.0                                |(11,[10],[1.0])|(2,[1],[1.0])|(3,[0],[1.0])|(1,[0],[1.0])         |(1,[],[])         |(1,[0],[1.0])      |(2,[0],[1.0])      |(11,[9],[1.0])            |(3,[0],[1.0])                    |(42,[10,12,13,16,18,19,30,32,35,36,37,38,39,40],[1.0,1.0,1.0,1.0,1.0,1.0,1.0,1.0,19.0,88.0,8.0,191.0,1.0,-1.0])        |0.0  |[86.52353846135028,13.476461538649723]|[0.8652353846135028,0.13476461538649723]|0.0       |\n",
            "+---+-------+-------+---------+------------------+----------------+--------------+---------------+---------------+---------------------+----------------------+---------------+-----------------------------------+-----+---------------------------+-----------------------------+---+---------+-------------+---------------+------------------------+--------------------+---------------------+---------------------+----------------------------+-----------------------------------+---------------+-------------+-------------+----------------------+------------------+-------------------+-------------------+--------------------------+---------------------------------+-----------------------------------------------------------------------------------------------------------------------+-----+--------------------------------------+----------------------------------------+----------+\n",
            "only showing top 3 rows\n",
            "\n"
          ]
        }
      ]
    },
    {
      "cell_type": "markdown",
      "source": [
        "## Evaluation\n",
        "See [here](https://spark.apache.org/docs/latest/api/python/reference/api/pyspark.ml.evaluation.BinaryClassificationEvaluator.html#pyspark.ml.evaluation.BinaryClassificationEvaluator)<br>\n",
        "Evaluator for binary classification, expects input columns rawPrediction, label and an optional weight column. The rawPrediction column can be of type double (binary 0/1 prediction, or probability of label 1) or of type vector (length-2 vector of raw predictions, scores, or label probabilities)."
      ],
      "metadata": {
        "id": "y_jcbZVaEpvW"
      }
    },
    {
      "cell_type": "code",
      "source": [
        "from pyspark.ml.evaluation import BinaryClassificationEvaluator"
      ],
      "metadata": {
        "id": "c69n6KJ3Eg5m"
      },
      "execution_count": 141,
      "outputs": []
    },
    {
      "cell_type": "markdown",
      "source": [
        "## Linear Regression"
      ],
      "metadata": {
        "id": "LOq8xUC-vcjN"
      }
    },
    {
      "cell_type": "markdown",
      "source": [
        "The learning objective is to minimize the specified loss function, with regularization. This supports two kinds of loss:\n",
        "\n",
        ">squaredError (a.k.a squared loss)<br>\n",
        "\n",
        ">huber (a hybrid of squared error for relatively small errors and absolute error for relatively large ones, and we estimate the scale parameter from training data)\n",
        "\n",
        "This supports multiple types of regularization:\n",
        "\n",
        ">none (a.k.a. ordinary least squares)<br>\n",
        ">L2 (ridge regression)<br>\n",
        ">L1 (Lasso)<br>\n",
        ">L2 + L1 (elastic net)<br>\n"
      ],
      "metadata": {
        "id": "g-UWDab6vhN1"
      }
    },
    {
      "cell_type": "markdown",
      "source": [
        "Elastic net includes both L1 and L2 regularisation as special instances when set properly. For example, a Lasso model is created by training a linear regression model with the elastic net parameter α set to 1. If α set to 0, on the other hand, the trained model is reduced to a ridge regression model. (Refer [here](https://www.edureka.co/community/170787/how-can-import-elastic-net-lasso-and-ridge-regression-pyspark))<br>\n",
        "\n",
        "Where:\n",
        "\n",
        "elasticNetParam is equivalent to α and regParam is equivalent to λ."
      ],
      "metadata": {
        "id": "LwKx2MvKx1FA"
      }
    },
    {
      "cell_type": "code",
      "source": [
        "# 6.0 Import LinearRegression library:\n",
        "from pyspark.ml.regression import LinearRegression"
      ],
      "metadata": {
        "id": "uqXozdrakbEP"
      },
      "execution_count": null,
      "outputs": []
    },
    {
      "cell_type": "code",
      "source": [
        "# 6.3 Linear Regression coefficinets\n",
        "str(lr_model.coefficients)\n",
        "print(\"\\n---------\\n\")\n",
        "str(lr_model.intercept)"
      ],
      "metadata": {
        "colab": {
          "base_uri": "https://localhost:8080/",
          "height": 124
        },
        "id": "ZIgUgFdDkYfg",
        "outputId": "48fdaeaa-20f9-4635-b557-a237bcaa05f9"
      },
      "execution_count": null,
      "outputs": [
        {
          "output_type": "execute_result",
          "data": {
            "text/plain": [
              "'[14.220316455953915,33.89948770248696,1056.82971802819,2383.3633021265655,-374.0152713399049,-7997.097615071705,-4649.179384189036,-8520.998179245978,-6569.409420267956,-8475.703337147701,-4140.979212552063,-5089.815047576629,-6940.439770942137,-8660.27331025183]'"
            ],
            "application/vnd.google.colaboratory.intrinsic+json": {
              "type": "string"
            }
          },
          "metadata": {},
          "execution_count": 201
        },
        {
          "output_type": "stream",
          "name": "stdout",
          "text": [
            "\n",
            "---------\n",
            "\n"
          ]
        },
        {
          "output_type": "execute_result",
          "data": {
            "text/plain": [
              "'103124.1261044718'"
            ],
            "application/vnd.google.colaboratory.intrinsic+json": {
              "type": "string"
            }
          },
          "metadata": {},
          "execution_count": 201
        }
      ]
    },
    {
      "cell_type": "code",
      "source": [
        "# 6.4\n",
        "trainingSummary = lr_model.summary\n",
        "# RMSE?\n",
        "trainingSummary.rootMeanSquaredError\n",
        "print(\"\\n---------\\n\")\n",
        "# R2 ?\n",
        "trainingSummary.r2\n"
      ],
      "metadata": {
        "colab": {
          "base_uri": "https://localhost:8080/"
        },
        "id": "YIlj8xYjkotb",
        "outputId": "2a6e779a-611c-4426-b122-cbfe48cf1c1b"
      },
      "execution_count": null,
      "outputs": [
        {
          "output_type": "execute_result",
          "data": {
            "text/plain": [
              "44766.84556112754"
            ]
          },
          "metadata": {},
          "execution_count": 205
        },
        {
          "output_type": "stream",
          "name": "stdout",
          "text": [
            "\n",
            "---------\n",
            "\n"
          ]
        },
        {
          "output_type": "execute_result",
          "data": {
            "text/plain": [
              "0.022143507304166143"
            ]
          },
          "metadata": {},
          "execution_count": 205
        }
      ]
    },
    {
      "cell_type": "code",
      "source": [
        "# 7.0 Make predictions:\n",
        "lr_predictions = lr_model.transform(test_df)"
      ],
      "metadata": {
        "id": "PMBzyul9rftW"
      },
      "execution_count": null,
      "outputs": []
    },
    {
      "cell_type": "code",
      "source": [
        "# 7.1 Observe predictions\n",
        "lr_predictions.select(\"prediction\",\"label\",\"features\").show(5)"
      ],
      "metadata": {
        "colab": {
          "base_uri": "https://localhost:8080/"
        },
        "id": "LEm4I3DUriBL",
        "outputId": "c7f71db3-65c9-4ed2-f003-f7fa83f76717"
      },
      "execution_count": null,
      "outputs": [
        {
          "output_type": "stream",
          "name": "stdout",
          "text": [
            "+------------------+------+--------------------+\n",
            "|        prediction| label|            features|\n",
            "+------------------+------+--------------------+\n",
            "|102368.78882487194| 22000|(14,[1,2,3,4,5],[...|\n",
            "|114295.83262455862|143910|(14,[1,2,3,4,12],...|\n",
            "|117326.74624139917|111424|(14,[0,1,2,3,4,7]...|\n",
            "|116383.55968014583|138656|(14,[0,1,2,3,4],[...|\n",
            "|119053.47363736406|161212|(14,[0,1,2,3,4,5]...|\n",
            "+------------------+------+--------------------+\n",
            "only showing top 5 rows\n",
            "\n"
          ]
        }
      ]
    },
    {
      "cell_type": "code",
      "source": [
        "# 7.2 Evaluate using test data:\n",
        "from pyspark.ml.evaluation import RegressionEvaluator"
      ],
      "metadata": {
        "id": "TQcpGS9UrqxF"
      },
      "execution_count": null,
      "outputs": []
    },
    {
      "cell_type": "markdown",
      "source": [
        "R2 is very low. May be we should try non-linearregression using RandomForest or othe ML techniques."
      ],
      "metadata": {
        "id": "nkNvjeG-uabK"
      }
    },
    {
      "cell_type": "code",
      "source": [
        "# &.3\n",
        "lr_evaluator = RegressionEvaluator(\n",
        "                                    predictionCol=\"prediction\", \\\n",
        "                                    labelCol=\"label\",\n",
        "                                    metricName=\"r2\"\n",
        "                                    )\n",
        "\n",
        "# 7.3.1 R2 is very low. \n",
        "lr_evaluator.evaluate(lr_predictions)"
      ],
      "metadata": {
        "colab": {
          "base_uri": "https://localhost:8080/"
        },
        "id": "nZ-mCdz1l3ou",
        "outputId": "da21c9fb-33a6-4d62-c5dc-c4295088d9e0"
      },
      "execution_count": null,
      "outputs": [
        {
          "output_type": "execute_result",
          "data": {
            "text/plain": [
              "0.0007174510707147475"
            ]
          },
          "metadata": {},
          "execution_count": 209
        }
      ]
    },
    {
      "cell_type": "code",
      "source": [
        "# 7.4\n",
        "test_result = lr_model.evaluate(test_df)\n",
        "print(\"RMSE on test data = %g\" % test_result.rootMeanSquaredError)"
      ],
      "metadata": {
        "colab": {
          "base_uri": "https://localhost:8080/"
        },
        "id": "to8rwFClmUix",
        "outputId": "e291404a-937a-43cf-bb2e-8e9a34a6cb1b"
      },
      "execution_count": null,
      "outputs": [
        {
          "output_type": "stream",
          "name": "stdout",
          "text": [
            "Root Mean Squared Error (RMSE) on test data = 46682.6\n"
          ]
        }
      ]
    },
    {
      "cell_type": "code",
      "source": [
        "# 7.5 Residuals\n",
        "trainingSummary.residuals.show()"
      ],
      "metadata": {
        "colab": {
          "base_uri": "https://localhost:8080/"
        },
        "id": "E2dqXpxor85Q",
        "outputId": "bcd5c21c-a446-4623-b736-1905c153a89f"
      },
      "execution_count": null,
      "outputs": [
        {
          "output_type": "stream",
          "name": "stdout",
          "text": [
            "+-------------------+\n",
            "|          residuals|\n",
            "+-------------------+\n",
            "| -63043.73909138997|\n",
            "| -51103.98068857494|\n",
            "| -40031.97051532951|\n",
            "| -43448.19984487438|\n",
            "|-25391.658233982278|\n",
            "| -6042.919313044185|\n",
            "| 5452.2453495635855|\n",
            "|-1873.9597932282777|\n",
            "|  8438.193275077065|\n",
            "| 13094.653890318878|\n",
            "|  40064.57710585806|\n",
            "|  36977.39910719983|\n",
            "| 30033.676505971453|\n",
            "| 29402.975439116708|\n",
            "| -92218.47571042378|\n",
            "| -48171.13040793249|\n",
            "|-31184.722945510774|\n",
            "|-11833.107285322083|\n",
            "| -6353.254001069392|\n",
            "|   3108.51247180684|\n",
            "+-------------------+\n",
            "only showing top 20 rows\n",
            "\n"
          ]
        }
      ]
    },
    {
      "cell_type": "code",
      "source": [
        "############### Done #################"
      ],
      "metadata": {
        "id": "k9OsQbaYs4kA"
      },
      "execution_count": null,
      "outputs": []
    }
  ]
}