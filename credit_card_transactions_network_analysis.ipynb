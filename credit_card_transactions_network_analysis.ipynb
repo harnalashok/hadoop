{
  "cells": [
    {
      "cell_type": "markdown",
      "metadata": {
        "id": "view-in-github",
        "colab_type": "text"
      },
      "source": [
        "<a href=\"https://colab.research.google.com/github/harnalashok/hadoop/blob/main/credit_card_transactions_network_analysis.ipynb\" target=\"_parent\"><img src=\"https://colab.research.google.com/assets/colab-badge.svg\" alt=\"Open In Colab\"/></a>"
      ]
    },
    {
      "cell_type": "code",
      "source": [
        "# Last amended: 18th March, 2022\n",
        "#               Holi\n",
        "# Data source: https://ibm.ent.box.com/v/tabformer-data/folder/130747715605\n",
        "# Data source simulator: https://fraud-detection-handbook.github.io/fraud-detection-handbook/Foreword.html\n",
        "# Objective: Discovering community or collaboration among\n",
        "#            credit-card fraudsters."
      ],
      "metadata": {
        "id": "L7pwqS06Qjg7"
      },
      "execution_count": null,
      "outputs": []
    },
    {
      "cell_type": "markdown",
      "source": [
        "## Generate user/merchant nodes"
      ],
      "metadata": {
        "id": "xfpr3si055yL"
      }
    },
    {
      "cell_type": "markdown",
      "metadata": {
        "id": "ScywqgKa24i-"
      },
      "source": [
        "### 1.0 Call libraries"
      ]
    },
    {
      "cell_type": "code",
      "execution_count": 1,
      "metadata": {
        "id": "RrEnqgtcc_Jj"
      },
      "outputs": [],
      "source": [
        "# 1.0\n",
        "import pandas as pd\n",
        "import numpy as np\n",
        "import os"
      ]
    },
    {
      "cell_type": "code",
      "execution_count": 2,
      "metadata": {
        "colab": {
          "base_uri": "https://localhost:8080/",
          "height": 149
        },
        "id": "lipWk3qBfogn",
        "outputId": "e275b616-1bbc-4288-d34f-16b3ca32434b"
      },
      "outputs": [
        {
          "output_type": "execute_result",
          "data": {
            "text/plain": [
              "'1.3.5'"
            ],
            "application/vnd.google.colaboratory.intrinsic+json": {
              "type": "string"
            }
          },
          "metadata": {},
          "execution_count": 2
        }
      ],
      "source": [
        "# 1.1\n",
        "pd.__version__  # 1.3.5"
      ]
    },
    {
      "cell_type": "code",
      "execution_count": 3,
      "metadata": {
        "id": "8rIKh6Zi_r6N"
      },
      "outputs": [],
      "source": [
        "# 1.2 Display cell outputs from multiple commands\n",
        "from IPython.core.interactiveshell import InteractiveShell\n",
        "InteractiveShell.ast_node_interactivity = \"all\""
      ]
    },
    {
      "cell_type": "markdown",
      "metadata": {
        "id": "bMGlu-vT29w4"
      },
      "source": [
        "### 2.0 Mount google drive"
      ]
    },
    {
      "cell_type": "code",
      "execution_count": 4,
      "metadata": {
        "colab": {
          "base_uri": "https://localhost:8080/"
        },
        "id": "rexx2uo_dCU2",
        "outputId": "91333c04-ac0a-44ad-a0c6-5f94d63fcd50"
      },
      "outputs": [
        {
          "output_type": "stream",
          "name": "stdout",
          "text": [
            "Drive already mounted at /gdrive; to attempt to forcibly remount, call drive.mount(\"/gdrive\", force_remount=True).\n"
          ]
        }
      ],
      "source": [
        "# 2.0 Mount to ccma@fsm.ac.in\n",
        "from google.colab import drive\n",
        "drive.mount('/gdrive')"
      ]
    },
    {
      "cell_type": "code",
      "execution_count": 5,
      "metadata": {
        "colab": {
          "base_uri": "https://localhost:8080/"
        },
        "id": "H1_RNtMhg9Ta",
        "outputId": "5066391f-5543-4b80-b9a9-cd07b3e215fc"
      },
      "outputs": [
        {
          "output_type": "stream",
          "name": "stdout",
          "text": [
            "card_transaction_v1.csv  creditCard_edges.csv\t   creditCard_users.csv\n",
            "card_transaction_v1.zip  creditCard_merchants.csv  sample_2002.csv\n"
          ]
        }
      ],
      "source": [
        "# 2.1 Check credit card data files\n",
        "!ls /gdrive/MyDrive/credit_card_transactions/"
      ]
    },
    {
      "cell_type": "code",
      "execution_count": 6,
      "metadata": {
        "colab": {
          "base_uri": "https://localhost:8080/"
        },
        "id": "v-Ya-vGmhFE4",
        "outputId": "2057192d-d915-4c15-8ff4-8eed01a17775"
      },
      "outputs": [
        {
          "output_type": "execute_result",
          "data": {
            "text/plain": [
              "['.ipynb_checkpoints',\n",
              " 'card_transaction_v1.csv',\n",
              " 'card_transaction_v1.zip',\n",
              " 'creditCard_users.csv',\n",
              " 'creditCard_merchants.csv',\n",
              " 'creditCard_edges.csv',\n",
              " 'sample_2002.csv']"
            ]
          },
          "metadata": {},
          "execution_count": 6
        }
      ],
      "source": [
        "# 2.2 Change current directory\n",
        "path = \"/gdrive/MyDrive/credit_card_transactions/\"\n",
        "os.chdir(path)\n",
        "os.listdir()"
      ]
    },
    {
      "cell_type": "markdown",
      "metadata": {
        "id": "zR5m9Wz6j-My"
      },
      "source": [
        "column names:  \n",
        "User,Card,Year,Month,Day,Time,Amount,Use Chip,Merchant Name,Merchant City,Merchant State,Zip,MCC,Errors?,Is Fraud?   \n",
        "Sample data:  \n",
        "0,0,2002,9,1,06:21,$134.09,Swipe Transaction,3527213246127876953,La Verne,CA,91750.0,5300,,No\n",
        "0,0,2002,9,1,06:42,$38.48,Swipe Transaction,-727612092139916043,Monterey Park,CA,91754.0,5411,,No\n",
        "\n"
      ]
    },
    {
      "cell_type": "markdown",
      "metadata": {
        "id": "E_oEFphd3DYq"
      },
      "source": [
        "### 3.0 Read full data and store a sample"
      ]
    },
    {
      "cell_type": "code",
      "execution_count": 8,
      "metadata": {
        "colab": {
          "base_uri": "https://localhost:8080/"
        },
        "id": "epWybLX0goOk",
        "outputId": "4957eba6-d672-4900-944d-7575edd5d767"
      },
      "outputs": [
        {
          "output_type": "stream",
          "name": "stdout",
          "text": [
            "CPU times: user 26.9 s, sys: 4.64 s, total: 31.6 s\n",
            "Wall time: 44 s\n"
          ]
        }
      ],
      "source": [
        "# 3.0 Read data. File size is > 2gb\n",
        "#     Takes around \n",
        "#     User,Card,Year,Month,Day,Time,Amount,Use Chip,Merchant Name,Merchant City,Merchant State,Zip,MCC,Errors?,Is Fraud?\n",
        "#     MCC : Merchant Category code:  A four-digit number that describes a merchant's primary business activities. \n",
        "#     Feel free to include more fields (city, time of transaction etc) and analyse:\n",
        "#\n",
        "%%time\n",
        "df = pd.read_csv(\"card_transaction_v1.csv\",\n",
        "                 usecols = [\"User\", \"Year\", \"Merchant Name\", \"Merchant City\", \"Amount\", \"MCC\", \"Is Fraud?\"])"
      ]
    },
    {
      "cell_type": "code",
      "execution_count": 9,
      "metadata": {
        "colab": {
          "base_uri": "https://localhost:8080/",
          "height": 414
        },
        "id": "J8mjB_1Ekw01",
        "outputId": "44dedb1f-08e4-41b9-e98c-88260641bbd0"
      },
      "outputs": [
        {
          "output_type": "execute_result",
          "data": {
            "text/plain": [
              "   User  Year   Amount        Merchant Name  Merchant City   MCC Is Fraud?\n",
              "0     0  2002  $134.09  3527213246127876953       La Verne  5300        No\n",
              "1     0  2002   $38.48  -727612092139916043  Monterey Park  5411        No\n",
              "2     0  2002  $120.34  -727612092139916043  Monterey Park  5411        No\n",
              "3     0  2002  $128.95  3414527459579106770  Monterey Park  5651        No\n",
              "4     0  2002  $104.71  5817218446178736267       La Verne  5912        No"
            ],
            "text/html": [
              "\n",
              "  <div id=\"df-7c528d64-f3cf-4dac-a96a-312aea80161b\">\n",
              "    <div class=\"colab-df-container\">\n",
              "      <div>\n",
              "<style scoped>\n",
              "    .dataframe tbody tr th:only-of-type {\n",
              "        vertical-align: middle;\n",
              "    }\n",
              "\n",
              "    .dataframe tbody tr th {\n",
              "        vertical-align: top;\n",
              "    }\n",
              "\n",
              "    .dataframe thead th {\n",
              "        text-align: right;\n",
              "    }\n",
              "</style>\n",
              "<table border=\"1\" class=\"dataframe\">\n",
              "  <thead>\n",
              "    <tr style=\"text-align: right;\">\n",
              "      <th></th>\n",
              "      <th>User</th>\n",
              "      <th>Year</th>\n",
              "      <th>Amount</th>\n",
              "      <th>Merchant Name</th>\n",
              "      <th>Merchant City</th>\n",
              "      <th>MCC</th>\n",
              "      <th>Is Fraud?</th>\n",
              "    </tr>\n",
              "  </thead>\n",
              "  <tbody>\n",
              "    <tr>\n",
              "      <th>0</th>\n",
              "      <td>0</td>\n",
              "      <td>2002</td>\n",
              "      <td>$134.09</td>\n",
              "      <td>3527213246127876953</td>\n",
              "      <td>La Verne</td>\n",
              "      <td>5300</td>\n",
              "      <td>No</td>\n",
              "    </tr>\n",
              "    <tr>\n",
              "      <th>1</th>\n",
              "      <td>0</td>\n",
              "      <td>2002</td>\n",
              "      <td>$38.48</td>\n",
              "      <td>-727612092139916043</td>\n",
              "      <td>Monterey Park</td>\n",
              "      <td>5411</td>\n",
              "      <td>No</td>\n",
              "    </tr>\n",
              "    <tr>\n",
              "      <th>2</th>\n",
              "      <td>0</td>\n",
              "      <td>2002</td>\n",
              "      <td>$120.34</td>\n",
              "      <td>-727612092139916043</td>\n",
              "      <td>Monterey Park</td>\n",
              "      <td>5411</td>\n",
              "      <td>No</td>\n",
              "    </tr>\n",
              "    <tr>\n",
              "      <th>3</th>\n",
              "      <td>0</td>\n",
              "      <td>2002</td>\n",
              "      <td>$128.95</td>\n",
              "      <td>3414527459579106770</td>\n",
              "      <td>Monterey Park</td>\n",
              "      <td>5651</td>\n",
              "      <td>No</td>\n",
              "    </tr>\n",
              "    <tr>\n",
              "      <th>4</th>\n",
              "      <td>0</td>\n",
              "      <td>2002</td>\n",
              "      <td>$104.71</td>\n",
              "      <td>5817218446178736267</td>\n",
              "      <td>La Verne</td>\n",
              "      <td>5912</td>\n",
              "      <td>No</td>\n",
              "    </tr>\n",
              "  </tbody>\n",
              "</table>\n",
              "</div>\n",
              "      <button class=\"colab-df-convert\" onclick=\"convertToInteractive('df-7c528d64-f3cf-4dac-a96a-312aea80161b')\"\n",
              "              title=\"Convert this dataframe to an interactive table.\"\n",
              "              style=\"display:none;\">\n",
              "        \n",
              "  <svg xmlns=\"http://www.w3.org/2000/svg\" height=\"24px\"viewBox=\"0 0 24 24\"\n",
              "       width=\"24px\">\n",
              "    <path d=\"M0 0h24v24H0V0z\" fill=\"none\"/>\n",
              "    <path d=\"M18.56 5.44l.94 2.06.94-2.06 2.06-.94-2.06-.94-.94-2.06-.94 2.06-2.06.94zm-11 1L8.5 8.5l.94-2.06 2.06-.94-2.06-.94L8.5 2.5l-.94 2.06-2.06.94zm10 10l.94 2.06.94-2.06 2.06-.94-2.06-.94-.94-2.06-.94 2.06-2.06.94z\"/><path d=\"M17.41 7.96l-1.37-1.37c-.4-.4-.92-.59-1.43-.59-.52 0-1.04.2-1.43.59L10.3 9.45l-7.72 7.72c-.78.78-.78 2.05 0 2.83L4 21.41c.39.39.9.59 1.41.59.51 0 1.02-.2 1.41-.59l7.78-7.78 2.81-2.81c.8-.78.8-2.07 0-2.86zM5.41 20L4 18.59l7.72-7.72 1.47 1.35L5.41 20z\"/>\n",
              "  </svg>\n",
              "      </button>\n",
              "      \n",
              "  <style>\n",
              "    .colab-df-container {\n",
              "      display:flex;\n",
              "      flex-wrap:wrap;\n",
              "      gap: 12px;\n",
              "    }\n",
              "\n",
              "    .colab-df-convert {\n",
              "      background-color: #E8F0FE;\n",
              "      border: none;\n",
              "      border-radius: 50%;\n",
              "      cursor: pointer;\n",
              "      display: none;\n",
              "      fill: #1967D2;\n",
              "      height: 32px;\n",
              "      padding: 0 0 0 0;\n",
              "      width: 32px;\n",
              "    }\n",
              "\n",
              "    .colab-df-convert:hover {\n",
              "      background-color: #E2EBFA;\n",
              "      box-shadow: 0px 1px 2px rgba(60, 64, 67, 0.3), 0px 1px 3px 1px rgba(60, 64, 67, 0.15);\n",
              "      fill: #174EA6;\n",
              "    }\n",
              "\n",
              "    [theme=dark] .colab-df-convert {\n",
              "      background-color: #3B4455;\n",
              "      fill: #D2E3FC;\n",
              "    }\n",
              "\n",
              "    [theme=dark] .colab-df-convert:hover {\n",
              "      background-color: #434B5C;\n",
              "      box-shadow: 0px 1px 3px 1px rgba(0, 0, 0, 0.15);\n",
              "      filter: drop-shadow(0px 1px 2px rgba(0, 0, 0, 0.3));\n",
              "      fill: #FFFFFF;\n",
              "    }\n",
              "  </style>\n",
              "\n",
              "      <script>\n",
              "        const buttonEl =\n",
              "          document.querySelector('#df-7c528d64-f3cf-4dac-a96a-312aea80161b button.colab-df-convert');\n",
              "        buttonEl.style.display =\n",
              "          google.colab.kernel.accessAllowed ? 'block' : 'none';\n",
              "\n",
              "        async function convertToInteractive(key) {\n",
              "          const element = document.querySelector('#df-7c528d64-f3cf-4dac-a96a-312aea80161b');\n",
              "          const dataTable =\n",
              "            await google.colab.kernel.invokeFunction('convertToInteractive',\n",
              "                                                     [key], {});\n",
              "          if (!dataTable) return;\n",
              "\n",
              "          const docLinkHtml = 'Like what you see? Visit the ' +\n",
              "            '<a target=\"_blank\" href=https://colab.research.google.com/notebooks/data_table.ipynb>data table notebook</a>'\n",
              "            + ' to learn more about interactive tables.';\n",
              "          element.innerHTML = '';\n",
              "          dataTable['output_type'] = 'display_data';\n",
              "          await google.colab.output.renderOutput(dataTable, element);\n",
              "          const docLink = document.createElement('div');\n",
              "          docLink.innerHTML = docLinkHtml;\n",
              "          element.appendChild(docLink);\n",
              "        }\n",
              "      </script>\n",
              "    </div>\n",
              "  </div>\n",
              "  "
            ]
          },
          "metadata": {},
          "execution_count": 9
        },
        {
          "output_type": "execute_result",
          "data": {
            "text/plain": [
              "          User  Year   Amount        Merchant Name Merchant City   MCC  \\\n",
              "24386895  1999  2020  $-54.00 -5162038175624867091     Merrimack  5541   \n",
              "24386896  1999  2020   $54.00 -5162038175624867091     Merrimack  5541   \n",
              "24386897  1999  2020   $59.15  2500998799892805156     Merrimack  4121   \n",
              "24386898  1999  2020   $43.12  2500998799892805156     Merrimack  4121   \n",
              "24386899  1999  2020   $45.13  4751695835751691036     Merrimack  5814   \n",
              "\n",
              "         Is Fraud?  \n",
              "24386895        No  \n",
              "24386896        No  \n",
              "24386897        No  \n",
              "24386898        No  \n",
              "24386899        No  "
            ],
            "text/html": [
              "\n",
              "  <div id=\"df-748ae1d9-ce3e-4f83-9d60-91d78d2600ca\">\n",
              "    <div class=\"colab-df-container\">\n",
              "      <div>\n",
              "<style scoped>\n",
              "    .dataframe tbody tr th:only-of-type {\n",
              "        vertical-align: middle;\n",
              "    }\n",
              "\n",
              "    .dataframe tbody tr th {\n",
              "        vertical-align: top;\n",
              "    }\n",
              "\n",
              "    .dataframe thead th {\n",
              "        text-align: right;\n",
              "    }\n",
              "</style>\n",
              "<table border=\"1\" class=\"dataframe\">\n",
              "  <thead>\n",
              "    <tr style=\"text-align: right;\">\n",
              "      <th></th>\n",
              "      <th>User</th>\n",
              "      <th>Year</th>\n",
              "      <th>Amount</th>\n",
              "      <th>Merchant Name</th>\n",
              "      <th>Merchant City</th>\n",
              "      <th>MCC</th>\n",
              "      <th>Is Fraud?</th>\n",
              "    </tr>\n",
              "  </thead>\n",
              "  <tbody>\n",
              "    <tr>\n",
              "      <th>24386895</th>\n",
              "      <td>1999</td>\n",
              "      <td>2020</td>\n",
              "      <td>$-54.00</td>\n",
              "      <td>-5162038175624867091</td>\n",
              "      <td>Merrimack</td>\n",
              "      <td>5541</td>\n",
              "      <td>No</td>\n",
              "    </tr>\n",
              "    <tr>\n",
              "      <th>24386896</th>\n",
              "      <td>1999</td>\n",
              "      <td>2020</td>\n",
              "      <td>$54.00</td>\n",
              "      <td>-5162038175624867091</td>\n",
              "      <td>Merrimack</td>\n",
              "      <td>5541</td>\n",
              "      <td>No</td>\n",
              "    </tr>\n",
              "    <tr>\n",
              "      <th>24386897</th>\n",
              "      <td>1999</td>\n",
              "      <td>2020</td>\n",
              "      <td>$59.15</td>\n",
              "      <td>2500998799892805156</td>\n",
              "      <td>Merrimack</td>\n",
              "      <td>4121</td>\n",
              "      <td>No</td>\n",
              "    </tr>\n",
              "    <tr>\n",
              "      <th>24386898</th>\n",
              "      <td>1999</td>\n",
              "      <td>2020</td>\n",
              "      <td>$43.12</td>\n",
              "      <td>2500998799892805156</td>\n",
              "      <td>Merrimack</td>\n",
              "      <td>4121</td>\n",
              "      <td>No</td>\n",
              "    </tr>\n",
              "    <tr>\n",
              "      <th>24386899</th>\n",
              "      <td>1999</td>\n",
              "      <td>2020</td>\n",
              "      <td>$45.13</td>\n",
              "      <td>4751695835751691036</td>\n",
              "      <td>Merrimack</td>\n",
              "      <td>5814</td>\n",
              "      <td>No</td>\n",
              "    </tr>\n",
              "  </tbody>\n",
              "</table>\n",
              "</div>\n",
              "      <button class=\"colab-df-convert\" onclick=\"convertToInteractive('df-748ae1d9-ce3e-4f83-9d60-91d78d2600ca')\"\n",
              "              title=\"Convert this dataframe to an interactive table.\"\n",
              "              style=\"display:none;\">\n",
              "        \n",
              "  <svg xmlns=\"http://www.w3.org/2000/svg\" height=\"24px\"viewBox=\"0 0 24 24\"\n",
              "       width=\"24px\">\n",
              "    <path d=\"M0 0h24v24H0V0z\" fill=\"none\"/>\n",
              "    <path d=\"M18.56 5.44l.94 2.06.94-2.06 2.06-.94-2.06-.94-.94-2.06-.94 2.06-2.06.94zm-11 1L8.5 8.5l.94-2.06 2.06-.94-2.06-.94L8.5 2.5l-.94 2.06-2.06.94zm10 10l.94 2.06.94-2.06 2.06-.94-2.06-.94-.94-2.06-.94 2.06-2.06.94z\"/><path d=\"M17.41 7.96l-1.37-1.37c-.4-.4-.92-.59-1.43-.59-.52 0-1.04.2-1.43.59L10.3 9.45l-7.72 7.72c-.78.78-.78 2.05 0 2.83L4 21.41c.39.39.9.59 1.41.59.51 0 1.02-.2 1.41-.59l7.78-7.78 2.81-2.81c.8-.78.8-2.07 0-2.86zM5.41 20L4 18.59l7.72-7.72 1.47 1.35L5.41 20z\"/>\n",
              "  </svg>\n",
              "      </button>\n",
              "      \n",
              "  <style>\n",
              "    .colab-df-container {\n",
              "      display:flex;\n",
              "      flex-wrap:wrap;\n",
              "      gap: 12px;\n",
              "    }\n",
              "\n",
              "    .colab-df-convert {\n",
              "      background-color: #E8F0FE;\n",
              "      border: none;\n",
              "      border-radius: 50%;\n",
              "      cursor: pointer;\n",
              "      display: none;\n",
              "      fill: #1967D2;\n",
              "      height: 32px;\n",
              "      padding: 0 0 0 0;\n",
              "      width: 32px;\n",
              "    }\n",
              "\n",
              "    .colab-df-convert:hover {\n",
              "      background-color: #E2EBFA;\n",
              "      box-shadow: 0px 1px 2px rgba(60, 64, 67, 0.3), 0px 1px 3px 1px rgba(60, 64, 67, 0.15);\n",
              "      fill: #174EA6;\n",
              "    }\n",
              "\n",
              "    [theme=dark] .colab-df-convert {\n",
              "      background-color: #3B4455;\n",
              "      fill: #D2E3FC;\n",
              "    }\n",
              "\n",
              "    [theme=dark] .colab-df-convert:hover {\n",
              "      background-color: #434B5C;\n",
              "      box-shadow: 0px 1px 3px 1px rgba(0, 0, 0, 0.15);\n",
              "      filter: drop-shadow(0px 1px 2px rgba(0, 0, 0, 0.3));\n",
              "      fill: #FFFFFF;\n",
              "    }\n",
              "  </style>\n",
              "\n",
              "      <script>\n",
              "        const buttonEl =\n",
              "          document.querySelector('#df-748ae1d9-ce3e-4f83-9d60-91d78d2600ca button.colab-df-convert');\n",
              "        buttonEl.style.display =\n",
              "          google.colab.kernel.accessAllowed ? 'block' : 'none';\n",
              "\n",
              "        async function convertToInteractive(key) {\n",
              "          const element = document.querySelector('#df-748ae1d9-ce3e-4f83-9d60-91d78d2600ca');\n",
              "          const dataTable =\n",
              "            await google.colab.kernel.invokeFunction('convertToInteractive',\n",
              "                                                     [key], {});\n",
              "          if (!dataTable) return;\n",
              "\n",
              "          const docLinkHtml = 'Like what you see? Visit the ' +\n",
              "            '<a target=\"_blank\" href=https://colab.research.google.com/notebooks/data_table.ipynb>data table notebook</a>'\n",
              "            + ' to learn more about interactive tables.';\n",
              "          element.innerHTML = '';\n",
              "          dataTable['output_type'] = 'display_data';\n",
              "          await google.colab.output.renderOutput(dataTable, element);\n",
              "          const docLink = document.createElement('div');\n",
              "          docLink.innerHTML = docLinkHtml;\n",
              "          element.appendChild(docLink);\n",
              "        }\n",
              "      </script>\n",
              "    </div>\n",
              "  </div>\n",
              "  "
            ]
          },
          "metadata": {},
          "execution_count": 9
        },
        {
          "output_type": "execute_result",
          "data": {
            "text/plain": [
              "(24386900, 7)"
            ]
          },
          "metadata": {},
          "execution_count": 9
        }
      ],
      "source": [
        "# 3.1 Our data:\n",
        "df.head()\n",
        "df.tail()\n",
        "df.shape   # (24386900, 6)"
      ]
    },
    {
      "cell_type": "code",
      "execution_count": 10,
      "metadata": {
        "colab": {
          "base_uri": "https://localhost:8080/"
        },
        "id": "4tsl525Z1ZyG",
        "outputId": "7c65f27f-bcfe-4f99-fd7e-c58054edf464"
      },
      "outputs": [
        {
          "output_type": "execute_result",
          "data": {
            "text/plain": [
              "User              int64\n",
              "Year              int64\n",
              "Amount           object\n",
              "Merchant Name     int64\n",
              "Merchant City    object\n",
              "MCC               int64\n",
              "Is Fraud?        object\n",
              "dtype: object"
            ]
          },
          "metadata": {},
          "execution_count": 10
        }
      ],
      "source": [
        "# 3.2 Attempt should be made to\n",
        "#     reduce data size:\n",
        "\n",
        "df.dtypes"
      ]
    },
    {
      "cell_type": "code",
      "execution_count": 11,
      "metadata": {
        "colab": {
          "base_uri": "https://localhost:8080/"
        },
        "id": "VApkcDFd7hRM",
        "outputId": "0988aa95-75b9-4867-a9ac-3e4fc03f39ba"
      },
      "outputs": [
        {
          "output_type": "execute_result",
          "data": {
            "text/plain": [
              "No     24357143\n",
              "Yes       29757\n",
              "Name: Is Fraud?, dtype: int64"
            ]
          },
          "metadata": {},
          "execution_count": 11
        },
        {
          "output_type": "stream",
          "name": "stdout",
          "text": [
            "\n",
            "\n"
          ]
        },
        {
          "output_type": "execute_result",
          "data": {
            "text/plain": [
              "No     0.99878\n",
              "Yes    0.00122\n",
              "Name: Is Fraud?, dtype: float64"
            ]
          },
          "metadata": {},
          "execution_count": 11
        }
      ],
      "source": [
        "# 3.3 Is data balanced?\n",
        "\n",
        "df['Is Fraud?'].value_counts()\n",
        "print(\"\\n\")\n",
        "df['Is Fraud?'].value_counts(normalize = True)  # 99.78% vs 0.12%"
      ]
    },
    {
      "cell_type": "code",
      "execution_count": 12,
      "metadata": {
        "colab": {
          "base_uri": "https://localhost:8080/"
        },
        "id": "Xs_fkZBF1frd",
        "outputId": "cea91082-7943-4179-f537-03a9e15afb5c"
      },
      "outputs": [
        {
          "output_type": "stream",
          "name": "stderr",
          "text": [
            "/usr/local/lib/python3.7/dist-packages/ipykernel_launcher.py:1: FutureWarning: The default value of regex will change from True to False in a future version. In addition, single character regular expressions will *not* be treated as literal strings when regex=True.\n",
            "  \"\"\"Entry point for launching an IPython kernel.\n"
          ]
        },
        {
          "output_type": "stream",
          "name": "stdout",
          "text": [
            "CPU times: user 11.7 s, sys: 996 ms, total: 12.7 s\n",
            "Wall time: 13.5 s\n"
          ]
        }
      ],
      "source": [
        "# 3.4 Remove '$' sign from 'Amount':\n",
        "#     Takes time 15 secs:\n",
        "%%time\n",
        "df['Amount']=df['Amount'].str.replace(\"$\", \"\")"
      ]
    },
    {
      "cell_type": "code",
      "execution_count": 13,
      "metadata": {
        "id": "IFB68Ssy2X6d"
      },
      "outputs": [],
      "source": [
        "# 3.5 Convert 'Amount' to numeric:\n",
        "df['Amount'] = pd.to_numeric(df['Amount'])"
      ]
    },
    {
      "cell_type": "code",
      "execution_count": 15,
      "metadata": {
        "colab": {
          "base_uri": "https://localhost:8080/"
        },
        "id": "32myJt4slHzt",
        "outputId": "c65f245b-0031-4da8-d305-c05790636822"
      },
      "outputs": [
        {
          "output_type": "execute_result",
          "data": {
            "text/plain": [
              "(24386900, 7)"
            ]
          },
          "metadata": {},
          "execution_count": 15
        }
      ],
      "source": [
        "# 3.6 Data shape\n",
        "df.shape   # rows: 243,86,900; cols: 6)"
      ]
    },
    {
      "cell_type": "markdown",
      "metadata": {
        "id": "y5yO8OtM3JBq"
      },
      "source": [
        "#### Store a sample of data"
      ]
    },
    {
      "cell_type": "code",
      "execution_count": 16,
      "metadata": {
        "id": "SQFp8w_YM8qq"
      },
      "outputs": [],
      "source": [
        "# 4.0 As RAM is limited, we will work\n",
        "#     with a sample for the year 2002:\n",
        "\n",
        "dfsample = df.loc[df['Year'] == 2002, :]"
      ]
    },
    {
      "cell_type": "code",
      "execution_count": 17,
      "metadata": {
        "id": "Jr3R9QTz8vYk",
        "colab": {
          "base_uri": "https://localhost:8080/"
        },
        "outputId": "de9c9735-6228-4f72-d414-225cc000ad3f"
      },
      "outputs": [
        {
          "output_type": "execute_result",
          "data": {
            "text/plain": [
              "(350732, 7)"
            ]
          },
          "metadata": {},
          "execution_count": 17
        }
      ],
      "source": [
        "# 4.1 Sample size: \n",
        "dfsample.shape   # (350732, 6)"
      ]
    },
    {
      "cell_type": "code",
      "execution_count": 18,
      "metadata": {
        "id": "H7OBvscfrWOT",
        "outputId": "a2f0bb87-9657-442f-fa87-fc8404800598",
        "colab": {
          "base_uri": "https://localhost:8080/"
        }
      },
      "outputs": [
        {
          "output_type": "execute_result",
          "data": {
            "text/plain": [
              "No     350593\n",
              "Yes       139\n",
              "Name: Is Fraud?, dtype: int64"
            ]
          },
          "metadata": {},
          "execution_count": 18
        }
      ],
      "source": [
        "# 4.2 How many incidents of frauds?\n",
        "dfsample['Is Fraud?'].value_counts()   # Yes: 139, No: 350593"
      ]
    },
    {
      "cell_type": "code",
      "execution_count": 19,
      "metadata": {
        "id": "9B26j_IrNWvC"
      },
      "outputs": [],
      "source": [
        "# 4.3 Should you like to save this sample\n",
        "#     for latter quick reading?\n",
        "\n",
        "dfsample.to_csv(\"sample_2002.csv\", index = False)"
      ]
    },
    {
      "cell_type": "markdown",
      "source": [
        "### 4.0 Read sample of data"
      ],
      "metadata": {
        "id": "CJVM5RDua7SC"
      }
    },
    {
      "cell_type": "code",
      "source": [
        "%%time\n",
        "df = pd.read_csv(path+\"sample_2002.csv\")                 "
      ],
      "metadata": {
        "colab": {
          "base_uri": "https://localhost:8080/"
        },
        "id": "sr-zKvDHbGYj",
        "outputId": "7fb2640d-043e-47f4-e41f-4c13e7349450"
      },
      "execution_count": 7,
      "outputs": [
        {
          "output_type": "stream",
          "name": "stdout",
          "text": [
            "CPU times: user 239 ms, sys: 73.8 ms, total: 312 ms\n",
            "Wall time: 341 ms\n"
          ]
        }
      ]
    },
    {
      "cell_type": "markdown",
      "source": [
        "### 5.0 Perform processing on data"
      ],
      "metadata": {
        "id": "9FHD0elLb5_h"
      }
    },
    {
      "cell_type": "code",
      "source": [
        "# 4.4 We work with a copy of data\n",
        "#     If, we make mistakes, we come back here:\n",
        "\n",
        "df_sample = df.copy()"
      ],
      "metadata": {
        "id": "ckPbrmWrVBuh"
      },
      "execution_count": 8,
      "outputs": []
    },
    {
      "cell_type": "code",
      "source": [
        "# 4.5 And our data:\n",
        "df_sample.head()"
      ],
      "metadata": {
        "colab": {
          "base_uri": "https://localhost:8080/",
          "height": 206
        },
        "id": "4HXN_bdQVSlM",
        "outputId": "71c9c6a0-be69-474f-b49b-d22cd2ae742d"
      },
      "execution_count": 9,
      "outputs": [
        {
          "output_type": "execute_result",
          "data": {
            "text/plain": [
              "   User  Year  Amount        Merchant Name  Merchant City   MCC Is Fraud?\n",
              "0     0  2002  134.09  3527213246127876953       La Verne  5300        No\n",
              "1     0  2002   38.48  -727612092139916043  Monterey Park  5411        No\n",
              "2     0  2002  120.34  -727612092139916043  Monterey Park  5411        No\n",
              "3     0  2002  128.95  3414527459579106770  Monterey Park  5651        No\n",
              "4     0  2002  104.71  5817218446178736267       La Verne  5912        No"
            ],
            "text/html": [
              "\n",
              "  <div id=\"df-63dcc087-2b4e-4f48-b96f-05cc9544d498\">\n",
              "    <div class=\"colab-df-container\">\n",
              "      <div>\n",
              "<style scoped>\n",
              "    .dataframe tbody tr th:only-of-type {\n",
              "        vertical-align: middle;\n",
              "    }\n",
              "\n",
              "    .dataframe tbody tr th {\n",
              "        vertical-align: top;\n",
              "    }\n",
              "\n",
              "    .dataframe thead th {\n",
              "        text-align: right;\n",
              "    }\n",
              "</style>\n",
              "<table border=\"1\" class=\"dataframe\">\n",
              "  <thead>\n",
              "    <tr style=\"text-align: right;\">\n",
              "      <th></th>\n",
              "      <th>User</th>\n",
              "      <th>Year</th>\n",
              "      <th>Amount</th>\n",
              "      <th>Merchant Name</th>\n",
              "      <th>Merchant City</th>\n",
              "      <th>MCC</th>\n",
              "      <th>Is Fraud?</th>\n",
              "    </tr>\n",
              "  </thead>\n",
              "  <tbody>\n",
              "    <tr>\n",
              "      <th>0</th>\n",
              "      <td>0</td>\n",
              "      <td>2002</td>\n",
              "      <td>134.09</td>\n",
              "      <td>3527213246127876953</td>\n",
              "      <td>La Verne</td>\n",
              "      <td>5300</td>\n",
              "      <td>No</td>\n",
              "    </tr>\n",
              "    <tr>\n",
              "      <th>1</th>\n",
              "      <td>0</td>\n",
              "      <td>2002</td>\n",
              "      <td>38.48</td>\n",
              "      <td>-727612092139916043</td>\n",
              "      <td>Monterey Park</td>\n",
              "      <td>5411</td>\n",
              "      <td>No</td>\n",
              "    </tr>\n",
              "    <tr>\n",
              "      <th>2</th>\n",
              "      <td>0</td>\n",
              "      <td>2002</td>\n",
              "      <td>120.34</td>\n",
              "      <td>-727612092139916043</td>\n",
              "      <td>Monterey Park</td>\n",
              "      <td>5411</td>\n",
              "      <td>No</td>\n",
              "    </tr>\n",
              "    <tr>\n",
              "      <th>3</th>\n",
              "      <td>0</td>\n",
              "      <td>2002</td>\n",
              "      <td>128.95</td>\n",
              "      <td>3414527459579106770</td>\n",
              "      <td>Monterey Park</td>\n",
              "      <td>5651</td>\n",
              "      <td>No</td>\n",
              "    </tr>\n",
              "    <tr>\n",
              "      <th>4</th>\n",
              "      <td>0</td>\n",
              "      <td>2002</td>\n",
              "      <td>104.71</td>\n",
              "      <td>5817218446178736267</td>\n",
              "      <td>La Verne</td>\n",
              "      <td>5912</td>\n",
              "      <td>No</td>\n",
              "    </tr>\n",
              "  </tbody>\n",
              "</table>\n",
              "</div>\n",
              "      <button class=\"colab-df-convert\" onclick=\"convertToInteractive('df-63dcc087-2b4e-4f48-b96f-05cc9544d498')\"\n",
              "              title=\"Convert this dataframe to an interactive table.\"\n",
              "              style=\"display:none;\">\n",
              "        \n",
              "  <svg xmlns=\"http://www.w3.org/2000/svg\" height=\"24px\"viewBox=\"0 0 24 24\"\n",
              "       width=\"24px\">\n",
              "    <path d=\"M0 0h24v24H0V0z\" fill=\"none\"/>\n",
              "    <path d=\"M18.56 5.44l.94 2.06.94-2.06 2.06-.94-2.06-.94-.94-2.06-.94 2.06-2.06.94zm-11 1L8.5 8.5l.94-2.06 2.06-.94-2.06-.94L8.5 2.5l-.94 2.06-2.06.94zm10 10l.94 2.06.94-2.06 2.06-.94-2.06-.94-.94-2.06-.94 2.06-2.06.94z\"/><path d=\"M17.41 7.96l-1.37-1.37c-.4-.4-.92-.59-1.43-.59-.52 0-1.04.2-1.43.59L10.3 9.45l-7.72 7.72c-.78.78-.78 2.05 0 2.83L4 21.41c.39.39.9.59 1.41.59.51 0 1.02-.2 1.41-.59l7.78-7.78 2.81-2.81c.8-.78.8-2.07 0-2.86zM5.41 20L4 18.59l7.72-7.72 1.47 1.35L5.41 20z\"/>\n",
              "  </svg>\n",
              "      </button>\n",
              "      \n",
              "  <style>\n",
              "    .colab-df-container {\n",
              "      display:flex;\n",
              "      flex-wrap:wrap;\n",
              "      gap: 12px;\n",
              "    }\n",
              "\n",
              "    .colab-df-convert {\n",
              "      background-color: #E8F0FE;\n",
              "      border: none;\n",
              "      border-radius: 50%;\n",
              "      cursor: pointer;\n",
              "      display: none;\n",
              "      fill: #1967D2;\n",
              "      height: 32px;\n",
              "      padding: 0 0 0 0;\n",
              "      width: 32px;\n",
              "    }\n",
              "\n",
              "    .colab-df-convert:hover {\n",
              "      background-color: #E2EBFA;\n",
              "      box-shadow: 0px 1px 2px rgba(60, 64, 67, 0.3), 0px 1px 3px 1px rgba(60, 64, 67, 0.15);\n",
              "      fill: #174EA6;\n",
              "    }\n",
              "\n",
              "    [theme=dark] .colab-df-convert {\n",
              "      background-color: #3B4455;\n",
              "      fill: #D2E3FC;\n",
              "    }\n",
              "\n",
              "    [theme=dark] .colab-df-convert:hover {\n",
              "      background-color: #434B5C;\n",
              "      box-shadow: 0px 1px 3px 1px rgba(0, 0, 0, 0.15);\n",
              "      filter: drop-shadow(0px 1px 2px rgba(0, 0, 0, 0.3));\n",
              "      fill: #FFFFFF;\n",
              "    }\n",
              "  </style>\n",
              "\n",
              "      <script>\n",
              "        const buttonEl =\n",
              "          document.querySelector('#df-63dcc087-2b4e-4f48-b96f-05cc9544d498 button.colab-df-convert');\n",
              "        buttonEl.style.display =\n",
              "          google.colab.kernel.accessAllowed ? 'block' : 'none';\n",
              "\n",
              "        async function convertToInteractive(key) {\n",
              "          const element = document.querySelector('#df-63dcc087-2b4e-4f48-b96f-05cc9544d498');\n",
              "          const dataTable =\n",
              "            await google.colab.kernel.invokeFunction('convertToInteractive',\n",
              "                                                     [key], {});\n",
              "          if (!dataTable) return;\n",
              "\n",
              "          const docLinkHtml = 'Like what you see? Visit the ' +\n",
              "            '<a target=\"_blank\" href=https://colab.research.google.com/notebooks/data_table.ipynb>data table notebook</a>'\n",
              "            + ' to learn more about interactive tables.';\n",
              "          element.innerHTML = '';\n",
              "          dataTable['output_type'] = 'display_data';\n",
              "          await google.colab.output.renderOutput(dataTable, element);\n",
              "          const docLink = document.createElement('div');\n",
              "          docLink.innerHTML = docLinkHtml;\n",
              "          element.appendChild(docLink);\n",
              "        }\n",
              "      </script>\n",
              "    </div>\n",
              "  </div>\n",
              "  "
            ]
          },
          "metadata": {},
          "execution_count": 9
        }
      ]
    },
    {
      "cell_type": "markdown",
      "metadata": {
        "id": "6BR0dY8mNXCF"
      },
      "source": [
        "### Change user IDs\n",
        "> 1.0 Know unique user names and transform them to short names  \n",
        "> 2.0 Prepare a dictionary of user-ids and proposed Ids  \n",
        "> 3.0 Make changes to our dataset using the dictionary  "
      ]
    },
    {
      "cell_type": "code",
      "execution_count": 60,
      "metadata": {
        "id": "uBERVUv6NXCG"
      },
      "outputs": [],
      "source": [
        "# 5.0 To distinguish userids on network graph,\n",
        "#     we will prefix userids with 'u' and also assign\n",
        "#      them a short name so that they fit within nodes \n",
        "#       when displayed on graph:\n",
        "\n",
        "#    First get unique user names\n",
        "u_user = df_sample['User'].unique()"
      ]
    },
    {
      "cell_type": "code",
      "execution_count": null,
      "metadata": {
        "id": "d5VVi8CXNXCG"
      },
      "outputs": [],
      "source": [
        "# 5.1\n",
        "u_user.sort()\n",
        "u_user\n",
        "print(\"\\n\")  \n",
        "len(u_user)  # 426"
      ]
    },
    {
      "cell_type": "code",
      "source": [
        "# 5.2 Code due to Alakshendra\n",
        "u_code = [\"u\" + str(i) for i in range(len(u_user)) ]\n",
        "map_dict = dict(zip(u_user, u_code))\n",
        "map_dict"
      ],
      "metadata": {
        "id": "mH8hY3fw7YSz"
      },
      "execution_count": 27,
      "outputs": []
    },
    {
      "cell_type": "code",
      "execution_count": null,
      "metadata": {
        "id": "1194CydSNXCH"
      },
      "outputs": [],
      "source": [
        "# 5.2 Get alternate names by prefixing userids with 'u'\n",
        "\n",
        "# 5.2.1 Transform sorted-user array to a dataframe; Get its index as a column; Rename new column as 'alt_name'\n",
        "#       So, alternate names are sequenial: 0,1,2,3.. and final names will be: u1,u2,u3...\n",
        "dx = pd.DataFrame(u_user, columns = [\"u_user\"]).reset_index().rename(columns = {'index' : 'alt_name' })\n",
        "\n",
        "# 5.2.2 Transform the new column to string\n",
        "dx['alt_name'] = dx['alt_name'].apply(str)\n",
        "\n",
        "# 5.2.3 Create a new column 'a' with a constant value:\n",
        "dx['a'] = \"u\"\n",
        "\n",
        "# 5.2.4 Concatenate 'a' column and 'alt_name' column:\n",
        "dx['alt_name'] = dx['a'].str.cat(dx['alt_name']) \n",
        "\n",
        "# 5.2.5 Drop 'a'\n",
        "_=dx.pop('a')\n",
        "\n",
        "# 5.2.6 Check:\n",
        "dx.head()"
      ]
    },
    {
      "cell_type": "code",
      "execution_count": null,
      "metadata": {
        "id": "l3P43smFNXCH"
      },
      "outputs": [],
      "source": [
        "# 5.3 Prepare a dictionary having\n",
        "#     old names (key) and new names (value) \n",
        "#     for further transformation:\n",
        "\n",
        "# https://stackoverflow.com/a/20250947/3282777\n",
        "map_dict = dict(zip(dx['u_user'], dx['alt_name']))\n",
        "map_dict"
      ]
    },
    {
      "cell_type": "code",
      "execution_count": 28,
      "metadata": {
        "id": "RPE88zt5NXCI"
      },
      "outputs": [],
      "source": [
        "# 5.4 Use 'replace' method to replace values in column 'User':\n",
        "\n",
        "df_sample['User'] = df_sample['User'].replace(map_dict, inplace= False)"
      ]
    },
    {
      "cell_type": "code",
      "execution_count": null,
      "metadata": {
        "id": "i5fdZypLNXCJ"
      },
      "outputs": [],
      "source": [
        "# 5.5 Check:\n",
        "df_sample.head()"
      ]
    },
    {
      "cell_type": "markdown",
      "metadata": {
        "id": "CHPI6eCgOZka"
      },
      "source": [
        "### Change merchant IDs\n",
        "Same steps for changing long merchantIds with short IDs. We prefix these Ids with 'm'"
      ]
    },
    {
      "cell_type": "code",
      "execution_count": 30,
      "metadata": {
        "id": "aropvq0_OZkb"
      },
      "outputs": [],
      "source": [
        "# 6.0 Unique merchant ids\n",
        "mn = df_sample['Merchant Name'].unique()"
      ]
    },
    {
      "cell_type": "code",
      "execution_count": 31,
      "metadata": {
        "id": "TKI0ubUNOZkc"
      },
      "outputs": [],
      "source": [
        "# 6.1 Sort them in place\n",
        "mn.sort()"
      ]
    },
    {
      "cell_type": "code",
      "source": [
        "# Code due to Alakshendra\n",
        "merchant_code = [\"m\" + str(i) for i in range(len(mn)) ]\n",
        "map_dict = dict(zip(mn, merchant_code))\n",
        "map_dict"
      ],
      "metadata": {
        "id": "OqxfOydu91Fi"
      },
      "execution_count": null,
      "outputs": []
    },
    {
      "cell_type": "code",
      "execution_count": null,
      "metadata": {
        "id": "1SY2gh89OZkc"
      },
      "outputs": [],
      "source": [
        "# 6.2 Prepare a dataframe of existing and alternate names:\n",
        "dx = pd.DataFrame(mn, columns = [\"mt\"]).reset_index().rename(columns = {'index' : 'alt_name' })\n",
        "dx['alt_name'] = dx['alt_name'].apply(str)\n",
        "dx['a'] = \"m\"\n",
        "dx['alt_name'] = dx['a'].str.cat(dx['alt_name']) \n",
        "_=dx.pop('a')\n",
        "dx.head()"
      ]
    },
    {
      "cell_type": "code",
      "execution_count": null,
      "metadata": {
        "id": "ZdOdXYaCOZkd"
      },
      "outputs": [],
      "source": [
        "# 6.3 Create a dictionary for transformation:\n",
        "# https://stackoverflow.com/a/20250947/3282777\n",
        "map_dict = dict(zip(dx['mt'], dx['alt_name']))\n",
        "map_dict"
      ]
    },
    {
      "cell_type": "code",
      "execution_count": 33,
      "metadata": {
        "id": "oVvk9AiQOZke",
        "outputId": "59146bc3-3f3b-47e7-9923-362ce3745230",
        "colab": {
          "base_uri": "https://localhost:8080/"
        }
      },
      "outputs": [
        {
          "output_type": "stream",
          "name": "stdout",
          "text": [
            "CPU times: user 13.8 s, sys: 2min 18s, total: 2min 32s\n",
            "Wall time: 2min 34s\n"
          ]
        }
      ],
      "source": [
        "# 6.4 Transform values in 'Merchant Name' using map_dict:\n",
        "#     Takes time 4 minutes\n",
        "%%time\n",
        "df_sample['Merchant Name'] = df_sample['Merchant Name'].replace(map_dict, inplace= False)"
      ]
    },
    {
      "cell_type": "code",
      "execution_count": null,
      "metadata": {
        "id": "LqnkyMy6OZkf"
      },
      "outputs": [],
      "source": [
        "# 6.5 And check\n",
        "df_sample.head()"
      ]
    },
    {
      "cell_type": "markdown",
      "metadata": {
        "id": "M78FAIGv3a_a"
      },
      "source": [
        "### User Nodes   \n"
      ]
    },
    {
      "cell_type": "markdown",
      "source": [
        "#### Fields"
      ],
      "metadata": {
        "id": "05tbsdei3n3o"
      }
    },
    {
      "cell_type": "markdown",
      "source": [
        ">This node must have two <i>must</i> fields: Id and Label. Besides these two, to distinguish Users from Merchants, we also have a 'Cat' field. The 'Cat' field has two values: *Member* for Users and *Institution* for Merchants.  \n",
        "\n",
        "> Besides, these three common field names, other fields may also be there and may carry any names.\n",
        "\n",
        "\n",
        "> If a user has committed fraud, even once, we mark him with propensity to commit frauds. A column 'suspect' is added to records this propensity.  "
      ],
      "metadata": {
        "id": "6pOuOCtu3m7g"
      }
    },
    {
      "cell_type": "code",
      "execution_count": null,
      "metadata": {
        "id": "4SznTbvQsz5s"
      },
      "outputs": [],
      "source": [
        "## 7.0 Group by user to get user node charteristics:\n",
        "# StackOverflow:  https://stackoverflow.com/a/68726106/3282777\n",
        "grpd_user = df_sample.groupby(['User'])\n",
        "user_nodes = grpd_user.agg({'Amount' : [('u_min','min'),('u_max','max'),('u_mean','mean'),('u_std',np.std)] }).reset_index()\n",
        "user_nodes = user_nodes.round(decimals = 2)\n",
        "user_nodes.head()"
      ]
    },
    {
      "cell_type": "code",
      "execution_count": 36,
      "metadata": {
        "colab": {
          "base_uri": "https://localhost:8080/"
        },
        "id": "x0dQQS1OtZEG",
        "outputId": "46223b46-0461-4968-930e-07de456e8ff0"
      },
      "outputs": [
        {
          "output_type": "execute_result",
          "data": {
            "text/plain": [
              "25"
            ]
          },
          "metadata": {},
          "execution_count": 36
        }
      ],
      "source": [
        "# 7.1 Which of the users have committed fraud\n",
        "users_suspect = df_sample.loc[df_sample[\"Is Fraud?\"] == \"Yes\", 'User' ].unique()\n",
        "len(users_suspect)  # 25"
      ]
    },
    {
      "cell_type": "code",
      "execution_count": 37,
      "metadata": {
        "id": "6pZSO_c9t8Fi"
      },
      "outputs": [],
      "source": [
        "# 7.2 Add a column 'suspect' with default value of 'No'\n",
        "user_nodes['suspect'] = \"No\" \n",
        "\n",
        "# 7.3 To distinguish user nodes from merchant nodes on the graph\n",
        "#     we add a 'Cat' column.\n",
        "\n",
        "user_nodes['Cat'] = 'Member'"
      ]
    },
    {
      "cell_type": "code",
      "execution_count": 38,
      "metadata": {
        "id": "7NlY1hpPudP4"
      },
      "outputs": [],
      "source": [
        "# 7.4 Even if a user committed fraud once, we set value\n",
        "#     in 'suspect' as 'Yes' for every transaction:\n",
        "\n",
        "for i in users_suspect:\n",
        "  user_nodes.loc[user_nodes['User'] == i, 'suspect' ] = \"Yes\"  "
      ]
    },
    {
      "cell_type": "code",
      "execution_count": null,
      "metadata": {
        "id": "kz72GNVLu5n7"
      },
      "outputs": [],
      "source": [
        "# 7.5 So how many of them?\n",
        "\n",
        "user_nodes['suspect'].value_counts()  # No: 401, 'Yes: 25\n",
        "user_nodes.head()"
      ]
    },
    {
      "cell_type": "code",
      "execution_count": 40,
      "metadata": {
        "id": "aitxnUrw8Okc"
      },
      "outputs": [],
      "source": [
        "# 7.6 Create a 'Label' column\n",
        "#     that simply records userids.\n",
        "#     Or, rather a copy of 'User' feature\n",
        "#     'Label' column is a MUST in a graph:\n",
        "\n",
        "user_nodes['Label'] = user_nodes['User']\n",
        "\n",
        "# 7.7 Also a graph should have an 'Id' column\n",
        "#     We rename 'User' field as 'Id'\n",
        "\n",
        "user_nodes = user_nodes.rename(columns = {'User': \"Id\"})"
      ]
    },
    {
      "cell_type": "code",
      "execution_count": null,
      "metadata": {
        "id": "NVtF92uq80em"
      },
      "outputs": [],
      "source": [
        "# 7.8 our user nodes data:\n",
        "user_nodes.head()"
      ]
    },
    {
      "cell_type": "code",
      "source": [
        "# 7.9 We also create a column 'suspect_n' that records\n",
        "#     1 for 'Yes' fraud and 0 for 'No' fraud\n",
        "#     It is simply a numeric transformation of 'suspect' field:\n",
        "#     We do this as data manipulation capabilities within gephi\n",
        "#     are limited:\n",
        "\n",
        "user_nodes['suspect_n'] = user_nodes['suspect']\n",
        "user_nodes['suspect_n'] = user_nodes['suspect_n'].map({\"Yes\":1 , \"No\" : 0})"
      ],
      "metadata": {
        "id": "AukCYt30l8Yh"
      },
      "execution_count": 42,
      "outputs": []
    },
    {
      "cell_type": "code",
      "source": [
        "# 7.11\n",
        "user_nodes.head()"
      ],
      "metadata": {
        "id": "odPwd6Tle4CR"
      },
      "execution_count": null,
      "outputs": []
    },
    {
      "cell_type": "code",
      "source": [
        "! rm  /gdrive/MyDrive/credit_card_transactions/creditCard_users.csv"
      ],
      "metadata": {
        "id": "lJFnBjET5m-6"
      },
      "execution_count": 44,
      "outputs": []
    },
    {
      "cell_type": "code",
      "execution_count": 45,
      "metadata": {
        "id": "64jA8Uph8spe"
      },
      "outputs": [],
      "source": [
        "# 7.12 Save usernodes to gdrive with semicolon separator:\n",
        "#     Header is stored as:\n",
        "#       Id;Amount;Amount;Amount;Amount;suspect;Cat;Label;suspect_n\n",
        "#       ;u_min;u_max;u_mean;u_std;;;;\n",
        "#     Change this manually to:\n",
        "#       Id;u_min;u_max;u_mean;u_std;suspect;Cat;Label;suspect_n\n",
        "\n",
        "user_nodes.to_csv(\"creditCard_users.csv\",\n",
        "                  index = False,\n",
        "                  sep = \";\"\n",
        "                  )"
      ]
    },
    {
      "cell_type": "markdown",
      "metadata": {
        "id": "-lvUgJ2k3jr1"
      },
      "source": [
        "### Merchant nodes"
      ]
    },
    {
      "cell_type": "code",
      "source": [
        "df_sample.head()"
      ],
      "metadata": {
        "id": "em9DEb3Sg4Jq"
      },
      "execution_count": null,
      "outputs": []
    },
    {
      "cell_type": "code",
      "execution_count": null,
      "metadata": {
        "id": "UoEwt3sC1sql"
      },
      "outputs": [],
      "source": [
        "## 8.0 Group by merchant and get merchant charteristics:\n",
        "grpd_merchant = df_sample.groupby(['Merchant Name'])\n",
        "merchant_nodes = grpd_merchant.agg({'Amount' : [('m_min','min'),('m_max','max'),('m_mean','mean'),('m_std', 'std')]}).reset_index()\n",
        "merchant_nodes = merchant_nodes.round(2)\n",
        "merchant_nodes.head()\n",
        "merchant_nodes.shape   # (10853, 2)"
      ]
    },
    {
      "cell_type": "code",
      "source": [
        "## 8.01 Group by merchant and merchant city:\n",
        "grpd_merchant1 = df_sample.groupby(['Merchant Name','Merchant City'])\n",
        "merchant_nodes1 = grpd_merchant1['Amount'].mean().reset_index()\n",
        "merchant_nodes1 = merchant_nodes1.round(2)\n",
        "merchant_nodes1.head()\n",
        "merchant_nodes1.shape    # (25984, 3). It appears a Merchant operates in more than one City"
      ],
      "metadata": {
        "id": "t_qRusEaibMq"
      },
      "execution_count": null,
      "outputs": []
    },
    {
      "cell_type": "code",
      "source": [
        "## 8.01 Group by merchant and MCC:\n",
        "grpd_merchant2 = df_sample.groupby(['Merchant Name','MCC'])\n",
        "merchant_nodes2 = grpd_merchant2['Amount'].mean().reset_index()\n",
        "merchant_nodes2 = merchant_nodes2.round(2)\n",
        "merchant_nodes2.head()\n",
        "merchant_nodes2.shape    # (10875, 3). It appears a Merchant has more than one line of business\n",
        "                         #  or two merchants have the same name. "
      ],
      "metadata": {
        "id": "0e9krpjGiwaq"
      },
      "execution_count": null,
      "outputs": []
    },
    {
      "cell_type": "code",
      "execution_count": null,
      "metadata": {
        "id": "bssD94a52CU5"
      },
      "outputs": [],
      "source": [
        "# 8.1 With which one of the merchants fraud comitted:\n",
        "df_sample.loc[df_sample[\"Is Fraud?\"] == \"Yes\", 'Merchant Name' ].unique()\n",
        "merchant_suspect = df_sample.loc[df_sample[\"Is Fraud?\"] == \"Yes\", 'Merchant Name' ].unique()\n",
        "len(merchant_suspect)"
      ]
    },
    {
      "cell_type": "code",
      "execution_count": 51,
      "metadata": {
        "id": "bPPlPaOy2VmE"
      },
      "outputs": [],
      "source": [
        "# 8.2 We record this also in 'victim':\n",
        "merchant_nodes['victim'] = \"No\" \n",
        "\n",
        "# 8.3 Merchant 'Cat' we designate as 'Institution'\n",
        "merchant_nodes['Cat'] = 'Institution'"
      ]
    },
    {
      "cell_type": "code",
      "execution_count": 52,
      "metadata": {
        "id": "D4qCnmvZ2a96"
      },
      "outputs": [],
      "source": [
        "# 8.3 Record which all merchants have propensity to become victims:\n",
        "\n",
        "for i in merchant_suspect:\n",
        "  merchant_nodes.loc[merchant_nodes['Merchant Name'] == i, 'victim' ] = \"Yes\"\n",
        "  "
      ]
    },
    {
      "cell_type": "code",
      "execution_count": null,
      "metadata": {
        "id": "ODCEZt7a4eXi"
      },
      "outputs": [],
      "source": [
        "# 8.4\n",
        "merchant_nodes['victim'].value_counts()  # 10777, 76"
      ]
    },
    {
      "cell_type": "code",
      "execution_count": null,
      "metadata": {
        "id": "7Uu_5Ynf9UGY"
      },
      "outputs": [],
      "source": [
        "# 8.5 Label and Id columns of Merchant nodes:\n",
        "\n",
        "merchant_nodes['Label'] = merchant_nodes['Merchant Name']\n",
        "merchant_nodes = merchant_nodes.rename(columns = {'Merchant Name': \"Id\"})\n",
        "merchant_nodes.head()\n",
        "merchant_nodes.shape"
      ]
    },
    {
      "cell_type": "code",
      "source": [
        "# 8.5 We have a numeric field victim_n recording the\n",
        "#     same information as 'victim':\n",
        "\n",
        "merchant_nodes['victim_n'] = merchant_nodes['victim']\n",
        "merchant_nodes['victim_n'] = merchant_nodes['victim_n'].map({\"Yes\":1 , \"No\" : 0})"
      ],
      "metadata": {
        "id": "zj4ZnS1bmmg6"
      },
      "execution_count": 55,
      "outputs": []
    },
    {
      "cell_type": "code",
      "source": [
        "# 8.5.1\n",
        "merchant_nodes.head()\n",
        "merchant_nodes.shape   # (10853, 6)"
      ],
      "metadata": {
        "id": "OoqgswBzpPsb"
      },
      "execution_count": null,
      "outputs": []
    },
    {
      "cell_type": "code",
      "source": [
        "! rm  /gdrive/MyDrive/credit_card_transactions/creditCard_merchants.csv"
      ],
      "metadata": {
        "id": "y2E2SEv15cKK"
      },
      "execution_count": null,
      "outputs": []
    },
    {
      "cell_type": "code",
      "execution_count": null,
      "metadata": {
        "id": "VhqKw4wS9sO1"
      },
      "outputs": [],
      "source": [
        "# 8.6 Save merchant_nodes information to a file:\n",
        "\n",
        "merchant_nodes.to_csv(\"creditCard_merchants.csv\",\n",
        "                      index = False,\n",
        "                      sep = \";\")"
      ]
    },
    {
      "cell_type": "markdown",
      "metadata": {
        "id": "pq3W5eUF4jlV"
      },
      "source": [
        "### Edges"
      ]
    },
    {
      "cell_type": "markdown",
      "source": [
        "Edges must have three fields: *Source* , *Target* and *Type*. *Type* field records if an edge is directed or undirected. Besides these three, it may have other fields also."
      ],
      "metadata": {
        "id": "5L4Zbn8P8win"
      }
    },
    {
      "cell_type": "code",
      "execution_count": null,
      "metadata": {
        "id": "yl7vhCzW-nsY"
      },
      "outputs": [],
      "source": [
        "# 9.0 Group by User and Merchant Name:\n",
        "#     We also wish to record the number of interactions between\n",
        "#     customer and merchants. These will be edge weights:\n",
        "\n",
        "edges = df_sample.groupby([df_sample['User'], df_sample['Merchant Name']]).size()"
      ]
    },
    {
      "cell_type": "code",
      "execution_count": null,
      "metadata": {
        "id": "0vE1Jj_m4ukD"
      },
      "outputs": [],
      "source": [
        "# 9.1 The size column has a name '0'. We need to rename it:\n",
        "\n",
        "edges = df_sample[['User', 'Merchant Name']].groupby(['User', 'Merchant Name']).size().reset_index()\n",
        "edges = edges.rename(columns = { 0 : \"weight\"})\n",
        "edges.head()"
      ]
    },
    {
      "cell_type": "code",
      "execution_count": null,
      "metadata": {
        "id": "YQXcfGWA5geU"
      },
      "outputs": [],
      "source": [
        "# 9.2 Rename two other columns appropriately:\n",
        "\n",
        "edges = edges.rename(columns = {'User': 'Source', 'Merchant Name': 'Target'})"
      ]
    },
    {
      "cell_type": "code",
      "execution_count": null,
      "metadata": {
        "id": "26AnHHpO6lzx"
      },
      "outputs": [],
      "source": [
        "# 9.3 Our edges are Undirected:\n",
        "\n",
        "edges['Type']= 'Undirected'\n",
        "edges.head()"
      ]
    },
    {
      "cell_type": "code",
      "source": [
        "! rm  /gdrive/MyDrive/credit_card_transactions/creditCard_edges.csv"
      ],
      "metadata": {
        "id": "loRljH5Z5Iz7"
      },
      "execution_count": null,
      "outputs": []
    },
    {
      "cell_type": "code",
      "execution_count": null,
      "metadata": {
        "id": "Rq3qSKGClLf7"
      },
      "outputs": [],
      "source": [
        "# 9.4 Finally save edges information to a file:\n",
        "\n",
        "edges.to_csv(\"creditCard_edges.csv\",\n",
        "             index = False,\n",
        "             sep = \";\"\n",
        "             )"
      ]
    },
    {
      "cell_type": "markdown",
      "source": [
        "### Check files\n"
      ],
      "metadata": {
        "id": "gz65_Na14zL0"
      }
    },
    {
      "cell_type": "code",
      "source": [
        "! ls -la !ls /gdrive/MyDrive/credit_card_transactions/"
      ],
      "metadata": {
        "id": "aT_J8SR841xS"
      },
      "execution_count": null,
      "outputs": []
    },
    {
      "cell_type": "code",
      "source": [
        ""
      ],
      "metadata": {
        "id": "jy7rwImp4xxL"
      },
      "execution_count": null,
      "outputs": []
    }
  ],
  "metadata": {
    "colab": {
      "collapsed_sections": [],
      "name": "credit_card transactions network analysis.ipynb",
      "provenance": [],
      "authorship_tag": "ABX9TyNMjxyNhZK0/MU98ittrBQl",
      "include_colab_link": true
    },
    "kernelspec": {
      "display_name": "Python 3",
      "name": "python3"
    },
    "language_info": {
      "name": "python"
    }
  },
  "nbformat": 4,
  "nbformat_minor": 0
}