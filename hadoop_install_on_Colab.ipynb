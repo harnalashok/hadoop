{
  "nbformat": 4,
  "nbformat_minor": 0,
  "metadata": {
    "colab": {
      "name": "hadoop_install.ipynb",
      "provenance": [],
      "collapsed_sections": [],
      "include_colab_link": true
    },
    "kernelspec": {
      "name": "python3",
      "display_name": "Python 3"
    },
    "language_info": {
      "name": "python"
    }
  },
  "cells": [
    {
      "cell_type": "markdown",
      "metadata": {
        "id": "view-in-github",
        "colab_type": "text"
      },
      "source": [
        "<a href=\"https://colab.research.google.com/github/harnalashok/hadoop/blob/main/hadoop_install_on_Colab.ipynb\" target=\"_parent\"><img src=\"https://colab.research.google.com/assets/colab-badge.svg\" alt=\"Open In Colab\"/></a>"
      ]
    },
    {
      "cell_type": "code",
      "metadata": {
        "id": "4q64Z8IYb8fr"
      },
      "source": [
        "# Last amended: 29th March, 2021\n",
        "# Myfolder: github/hadoop\n",
        "# Objective:\n",
        "#            i)  Install hadoop on colab\n",
        "#            ii) Experiment with hadoop\n",
        "#\n",
        "#\n",
        "# Java 8 install: https://stackoverflow.com/a/58191107\n",
        "# Hadoop install: https://hadoop.apache.org/docs/stable/hadoop-project-dist/hadoop-common/SingleCluster.html\n",
        "# Spark install:  https://stackoverflow.com/a/64183749"
      ],
      "execution_count": null,
      "outputs": []
    },
    {
      "cell_type": "code",
      "metadata": {
        "id": "mgS9HNCyR7C0"
      },
      "source": [
        "print(\"\\n--1. Download and install ssh server----\\n\")\n",
        "! sudo apt install openssh-client openssh-server\n",
        "! sudo apt-get install ssh\n",
        "\n",
        "print(\"\\n--2. Restart ssh server----\\n\")\n",
        "! service ssh restart"
      ],
      "execution_count": null,
      "outputs": []
    },
    {
      "cell_type": "code",
      "metadata": {
        "id": "BsFu84PSR9jR"
      },
      "source": [
        "# Install java 8\n",
        "import os       #importing os to set environment variable\n",
        "! rm -rf /usr/java\n",
        "\n",
        "print(\"\\n--3. Define function to install java----\\n\")\n",
        "\n",
        "def install_java():\n",
        "  print(\"\\n--Download and install Java 8----\\n\")\n",
        "  !apt-get install -y openjdk-8-jdk-headless -qq > /dev/null        # install openjdk\n",
        "  os.environ[\"JAVA_HOME\"] = \"/usr/lib/jvm/java-8-openjdk-amd64\"     # set environment variable\n",
        "\n",
        "  !update-alternatives --set java /usr/lib/jvm/java-8-openjdk-amd64/jre/bin/java\n",
        "  !update-alternatives --set javac /usr/lib/jvm/java-8-openjdk-amd64/bin/javac\n",
        "  \n",
        "  !mkdir -p /usr/java\n",
        "  ! ln -s \"/usr/lib/jvm/java-8-openjdk-amd64\"  \"/usr/java\"\n",
        "  ! mv \"/usr/java/java-8-openjdk-amd64\"  \"/usr/java/latest\"\n",
        "  \n",
        "  !java -version       #check java version\n",
        "  !javac -version\n",
        "\n",
        "print(\"\\n--4. Install java----\\n\")\n",
        "install_java()  \n",
        "! java -version\n",
        "! javac -version"
      ],
      "execution_count": null,
      "outputs": []
    },
    {
      "cell_type": "code",
      "metadata": {
        "id": "dg2fSk_ylMbr"
      },
      "source": [
        "print(\"\\n--5. Download hadoop tar.gz----\\n\")\n",
        "! wget -c https://mirrors.estointernet.in/apache/hadoop/common/hadoop-3.2.2/hadoop-3.2.2.tar.gz\n",
        "\n",
        "print(\"\\n--6. Transfer downloaded content and unzip tar.gz----\\n\")\n",
        "!  mv /content/hadoop*   /opt/\n",
        "! tar -xzvf /opt/hadoop-3.2.2.tar.gz  --directory /opt/\n",
        "\n",
        "print(\"\\n--7. Create hadoop folder----\\n\")\n",
        "! rm -r /app/hadoop/tmp\n",
        "! mkdir  -p   /app/hadoop/tmp\n",
        "\n",
        "print(\"\\n--8. Check folder for files----\\n\")\n",
        "! ls -la /opt"
      ],
      "execution_count": null,
      "outputs": []
    },
    {
      "cell_type": "code",
      "metadata": {
        "id": "SChb4dXsurlC"
      },
      "source": [
        "print(\"\\n--9. core-site.xml----\\n\")\n",
        "! cat  /opt/hadoop-3.2.2/etc/hadoop/core-site.xml\n",
        "\n",
        "print(\"\\n--10. Amend core-site.xml----\\n\")\n",
        "!  echo  '<?xml version=\"1.0\" encoding=\"UTF-8\"?>' >  /opt/hadoop-3.2.2/etc/hadoop/core-site.xml\n",
        "!  echo  '<?xml-stylesheet type=\"text/xsl\" href=\"configuration.xsl\"?>' >>  /opt/hadoop-3.2.2/etc/hadoop/core-site.xml\n",
        "!  echo  ' <configuration>' >>  /opt/hadoop-3.2.2/etc/hadoop/core-site.xml\n",
        "!  echo  '    <property>' >>  /opt/hadoop-3.2.2/etc/hadoop/core-site.xml\n",
        "!  echo  '        <name>fs.defaultFS</name>' >>  /opt/hadoop-3.2.2/etc/hadoop/core-site.xml\n",
        "!  echo  '        <value>hdfs://localhost:9000</value>' >>  /opt/hadoop-3.2.2/etc/hadoop/core-site.xml\n",
        "!  echo  '    </property>' >>  /opt/hadoop-3.2.2/etc/hadoop/core-site.xml\n",
        "!  echo  '    <property>' >>  /opt/hadoop-3.2.2/etc/hadoop/core-site.xml\n",
        "!  echo  '          <name>hadoop.tmp.dir</name>' >>  /opt/hadoop-3.2.2/etc/hadoop/core-site.xml\n",
        "!  echo  '          <value>/app/hadoop/tmp</value>' >>  /opt/hadoop-3.2.2/etc/hadoop/core-site.xml\n",
        "!  echo  '       <description>A base for other temporary directories.</description>' >>  /opt/hadoop-3.2.2/etc/hadoop/core-site.xml\n",
        "!  echo  '     </property>' >>  /opt/hadoop-3.2.2/etc/hadoop/core-site.xml\n",
        "!  echo  '  </configuration>' >>  /opt/hadoop-3.2.2/etc/hadoop/core-site.xml\n",
        "\n",
        "print(\"\\n--11. Amended core-site.xml----\\n\")\n",
        "! cat  /opt/hadoop-3.2.2/etc/hadoop/core-site.xml\n",
        "\n",
        "print(\"\\n--12. yarn-site.xml----\\n\")\n",
        "!cat /opt/hadoop-3.2.2/etc/hadoop/yarn-site.xml\n",
        "\n",
        "!echo '<?xml version=\"1.0\" encoding=\"UTF-8\"?>' > /opt/hadoop-3.2.2/etc/hadoop/yarn-site.xml\n",
        "!echo '<configuration>' >> /opt/hadoop-3.2.2/etc/hadoop/yarn-site.xml\n",
        "!echo '    <property>' >> /opt/hadoop-3.2.2/etc/hadoop/yarn-site.xml\n",
        "!echo '        <name>yarn.nodemanager.aux-services</name>' >> /opt/hadoop-3.2.2/etc/hadoop/yarn-site.xml\n",
        "!echo '        <value>mapreduce_shuffle</value>' >> /opt/hadoop-3.2.2/etc/hadoop/yarn-site.xml\n",
        "!echo '    </property>' >> /opt/hadoop-3.2.2/etc/hadoop/yarn-site.xml\n",
        "!echo '    <property>'  >> /opt/hadoop-3.2.2/etc/hadoop/yarn-site.xml\n",
        "!echo '       <name>yarn.nodemanager.vmem-check-enabled</name>'  >> /opt/hadoop-3.2.2/etc/hadoop/yarn-site.xml\n",
        "!echo '       <value>false</value>'  >> /opt/hadoop-3.2.2/etc/hadoop/yarn-site.xml\n",
        "!echo '    </property>'  >> /opt/hadoop-3.2.2/etc/hadoop/yarn-site.xml\n",
        "!echo ' </configuration>'  >> /opt/hadoop-3.2.2/etc/hadoop/yarn-site.xml\n",
        "\n",
        "print(\"\\n--13. Amended yarn-site.xml----\\n\")\n",
        "!cat /opt/hadoop-3.2.2/etc/hadoop/yarn-site.xml\n",
        "\n",
        "print(\"\\n--14. mapred-site.xml----\\n\")\n",
        "!cat  /opt/hadoop-3.2.2/etc/hadoop/mapred-site.xml\n",
        "\n",
        "print(\"\\n--15. Amend mapred-site.xml----\\n\")\n",
        "!echo '<?xml version=\"1.0\"?>'  > /opt/hadoop-3.2.2/etc/hadoop/mapred-site.xml\n",
        "!echo '<?xml-stylesheet type=\"text/xsl\" href=\"configuration.xsl\"?>'  >> /opt/hadoop-3.2.2/etc/hadoop/mapred-site.xml\n",
        "!echo '<configuration>'  >> /opt/hadoop-3.2.2/etc/hadoop/mapred-site.xml\n",
        "!echo '    <property>'  >> /opt/hadoop-3.2.2/etc/hadoop/mapred-site.xml\n",
        "!echo '       <name>mapreduce.framework.name</name>'  >> /opt/hadoop-3.2.2/etc/hadoop/mapred-site.xml\n",
        "!echo '        <value>yarn</value>'  >> /opt/hadoop-3.2.2/etc/hadoop/mapred-site.xml\n",
        "!echo '    </property>'  >> /opt/hadoop-3.2.2/etc/hadoop/mapred-site.xml\n",
        "!echo '    <property>'  >> /opt/hadoop-3.2.2/etc/hadoop/mapred-site.xml\n",
        "!echo '        <name>yarn.app.mapreduce.am.env</name>'  >> /opt/hadoop-3.2.2/etc/hadoop/mapred-site.xml\n",
        "!echo '        <value>HADOOP_MAPRED_HOME=${HADOOP_HOME}</value>'  >> /opt/hadoop-3.2.2/etc/hadoop/mapred-site.xml\n",
        "!echo '    </property>'  >> /opt/hadoop-3.2.2/etc/hadoop/mapred-site.xml\n",
        "!echo '    <property>'  >> /opt/hadoop-3.2.2/etc/hadoop/mapred-site.xml\n",
        "!echo '       <name>mapreduce.map.env</name>'  >> /opt/hadoop-3.2.2/etc/hadoop/mapred-site.xml\n",
        "!echo '       <value>HADOOP_MAPRED_HOME=${HADOOP_HOME}</value>'  >> /opt/hadoop-3.2.2/etc/hadoop/mapred-site.xml\n",
        "!echo '    </property>'  >> /opt/hadoop-3.2.2/etc/hadoop/mapred-site.xml\n",
        "!echo '    <property>'  >> /opt/hadoop-3.2.2/etc/hadoop/mapred-site.xml\n",
        "!echo '      <name>mapreduce.reduce.env</name>'  >> /opt/hadoop-3.2.2/etc/hadoop/mapred-site.xml\n",
        "!echo '      <value>HADOOP_MAPRED_HOME=${HADOOP_HOME}</value>'  >> /opt/hadoop-3.2.2/etc/hadoop/mapred-site.xml\n",
        "!echo '   </property>'  >> /opt/hadoop-3.2.2/etc/hadoop/mapred-site.xml\n",
        "!echo '</configuration>'  >> /opt/hadoop-3.2.2/etc/hadoop/mapred-site.xml\n",
        "\n",
        "print(\"\\n--16, Amended mapred-site.xml----\\n\")\n",
        "!cat  /opt/hadoop-3.2.2/etc/hadoop/mapred-site.xml\n",
        "\n",
        "print(\"\\n---17. hdfs-site.xml----\\n\")\n",
        "!cat  /opt/hadoop-3.2.2/etc/hadoop/hdfs-site.xml\n",
        "\n",
        "print(\"\\n---18. Amend hdfs-site.xml----\\n\")\n",
        "!echo  '<?xml version=\"1.0\" encoding=\"UTF-8\"?> '   > /opt/hadoop-3.2.2/etc/hadoop/hdfs-site.xml\n",
        "!echo  '<?xml-stylesheet type=\"text/xsl\" href=\"configuration.xsl\"?>' >> /opt/hadoop-3.2.2/etc/hadoop/hdfs-site.xml\n",
        "!echo  '<configuration>'  >> /opt/hadoop-3.2.2/etc/hadoop/hdfs-site.xml\n",
        "!echo  '    <property>'  >> /opt/hadoop-3.2.2/etc/hadoop/hdfs-site.xml\n",
        "!echo  '        <name>dfs.replication</name>'  >> /opt/hadoop-3.2.2/etc/hadoop/hdfs-site.xml\n",
        "!echo  '        <value>1</value>'  >> /opt/hadoop-3.2.2/etc/hadoop/hdfs-site.xml\n",
        "!echo  '    </property>'  >> /opt/hadoop-3.2.2/etc/hadoop/hdfs-site.xml\n",
        "!echo  '   <property>'   >> /opt/hadoop-3.2.2/etc/hadoop/hdfs-site.xml\n",
        "!echo  '        <name>dfs.block.size</name>'  >> /opt/hadoop-3.2.2/etc/hadoop/hdfs-site.xml\n",
        "!echo  '        <value>16777216</value>'  >> /opt/hadoop-3.2.2/etc/hadoop/hdfs-site.xml\n",
        "!echo  '        <description>Block size</description>'  >> /opt/hadoop-3.2.2/etc/hadoop/hdfs-site.xml\n",
        "!echo  '  </property>'  >> /opt/hadoop-3.2.2/etc/hadoop/hdfs-site.xml\n",
        "!echo  '</configuration>'  >> /opt/hadoop-3.2.2/etc/hadoop/hdfs-site.xml\n",
        "\n",
        "print(\"\\n---19. Amended hdfs-site.xml----\\n\")\n",
        "!cat  /opt/hadoop-3.2.2/etc/hadoop/hdfs-site.xml\n",
        "\n",
        "print(\"\\n---20. hadoop-env.sh----\\n\")\n",
        "# https://stackoverflow.com/a/53140448\n",
        "!cat /opt/hadoop-3.2.2/etc/hadoop/hadoop-env.sh\n",
        "\n",
        "! echo 'export JAVA_HOME=\"/usr/lib/jvm/java-8-openjdk-amd64\"' >> /opt/hadoop-3.2.2/etc/hadoop/hadoop-env.sh\n",
        "! echo 'export HDFS_NAMENODE_USER=\"root\"'  >> /opt/hadoop-3.2.2/etc/hadoop/hadoop-env.sh\n",
        "! echo 'export HDFS_DATANODE_USER=\"root\"'  >> /opt/hadoop-3.2.2/etc/hadoop/hadoop-env.sh\n",
        "! echo 'export HDFS_SECONDARYNAMENODE_USER=\"root\"'  >> /opt/hadoop-3.2.2/etc/hadoop/hadoop-env.sh\n",
        "! echo 'export YARN_RESOURCEMANAGER_USER=\"root\"'  >> /opt/hadoop-3.2.2/etc/hadoop/hadoop-env.sh\n",
        "! echo 'export YARN_NODEMANAGER_USER=\"root\"'  >> /opt/hadoop-3.2.2/etc/hadoop/hadoop-env.sh\n",
        "\n",
        "print(\"\\n---21. Amended hadoop-env.sh----\\n\")\n",
        "!cat /opt/hadoop-3.2.2/etc/hadoop/hadoop-env.sh\n"
      ],
      "execution_count": null,
      "outputs": []
    },
    {
      "cell_type": "code",
      "metadata": {
        "id": "EOFbfw7n0Pps"
      },
      "source": [
        "print(\"\\n---22. Generate SSH keys----\\n\")\n",
        "! cd ~ ; pwd \n",
        "! cd ~ ; ssh-keygen -t rsa -P '' -f ~/.ssh/id_rsa\n",
        "! cd ~ ; cat ~/.ssh/id_rsa.pub >> ~/.ssh/authorized_keys\n",
        "! cd ~ ; chmod 0600 ~/.ssh/authorized_keys\n"
      ],
      "execution_count": null,
      "outputs": []
    },
    {
      "cell_type": "code",
      "metadata": {
        "id": "CRSn9XAV4rsR",
        "outputId": "a9362170-e482-46ab-ee0b-9fe71291d5d5",
        "colab": {
          "base_uri": "https://localhost:8080/"
        }
      },
      "source": [
        "print(\"\\n---23. Set Environment variables----\\n\")\n",
        "# 'export' sommand does not work in colab\n",
        "# https://stackoverflow.com/a/57240319\n",
        "os.environ[\"JAVA_HOME\"] = \"/usr/lib/jvm/java-8-openjdk-amd64\"     #set environment variable\n",
        "os.environ[\"JRE_HOME\"] = \"/usr/lib/jvm/java-8-openjdk-amd64/jre\"   \n",
        "os.environ[\"HADOOP_HOME\"] = \"/opt/hadoop-3.2.2\"\n",
        "os.environ[\"HADOOP_CONF_DIR\"] = \"/opt/hadoop-3.2.2/etc/hadoop\" \n",
        "os.environ[\"LD_LIBRARY_PATH\"] += \":/opt/hadoop-3.2.2/lib/native\"\n",
        "os.environ[\"PATH\"] += \":/opt/hadoop-3.2.2/bin:/opt/hadoop-3.2.2/sbin\""
      ],
      "execution_count": 7,
      "outputs": [
        {
          "output_type": "stream",
          "text": [
            "\n",
            "---23. Set Environment variables----\n",
            "\n"
          ],
          "name": "stdout"
        }
      ]
    },
    {
      "cell_type": "code",
      "metadata": {
        "id": "lhLO-fzv3EpE"
      },
      "source": [
        "print(\"\\n---24. Format namenode----\\n\")\n",
        "!hdfs namenode  -format"
      ],
      "execution_count": null,
      "outputs": []
    },
    {
      "cell_type": "code",
      "metadata": {
        "id": "vFag4Tq9KBMJ"
      },
      "source": [
        "#!stop-dfs.sh"
      ],
      "execution_count": null,
      "outputs": []
    },
    {
      "cell_type": "code",
      "metadata": {
        "id": "QlT89iZz_aeh"
      },
      "source": [
        "print(\"\\n---25. Start namenode----\\n\")\n",
        "! start-dfs.sh"
      ],
      "execution_count": null,
      "outputs": []
    },
    {
      "cell_type": "markdown",
      "metadata": {
        "id": "UI-wzZD6ccBM"
      },
      "source": [
        "If `start-dfs.sh` fails, issue the following three commands, one after another:<br>  \n",
        "`! sudo apt-get remove openssh-client openssh-server`<br>\n",
        "`! sudo apt-get install openssh-client openssh-server`<br>\n",
        "`! service ssh restart`<br>\n",
        "\n",
        "And then try to start hadoop again."
      ]
    },
    {
      "cell_type": "code",
      "metadata": {
        "id": "pMt89uLNCUVC",
        "outputId": "fc2cb338-0ef3-4bd1-b5a9-db3ebbc5ee98",
        "colab": {
          "base_uri": "https://localhost:8080/"
        }
      },
      "source": [
        "print(\"\\n---26. Make folders in hadoop----\\n\")\n",
        "! hdfs dfs -mkdir /user\n",
        "! hdfs dfs -mkdir /user/ashok"
      ],
      "execution_count": 13,
      "outputs": [
        {
          "output_type": "stream",
          "text": [
            "\n",
            "---Format namenode----\n",
            "\n"
          ],
          "name": "stdout"
        }
      ]
    },
    {
      "cell_type": "code",
      "metadata": {
        "id": "-ez0FPw3CtOi"
      },
      "source": [
        "# Run hadoop commands\n",
        "! hdfs dfs -ls /\n",
        "! hdfs dfs -ls /user"
      ],
      "execution_count": null,
      "outputs": []
    },
    {
      "cell_type": "markdown",
      "metadata": {
        "id": "EwBD74dadYfz"
      },
      "source": [
        "Run the following commands if hadoop fails to start with `start-dfs.sh` then try again."
      ]
    },
    {
      "cell_type": "code",
      "metadata": {
        "id": "pctDDsoxBRih"
      },
      "source": [
        "# Uninstall openssh\n",
        "! sudo apt-get remove openssh-client openssh-server"
      ],
      "execution_count": null,
      "outputs": []
    },
    {
      "cell_type": "code",
      "metadata": {
        "id": "_oxLd0mDBvjq"
      },
      "source": [
        "# Reinstall openssh\n",
        "! sudo apt-get install openssh-client openssh-server\n",
        "! service ssh restart"
      ],
      "execution_count": null,
      "outputs": []
    },
    {
      "cell_type": "code",
      "metadata": {
        "id": "2rkvPrXrZgey"
      },
      "source": [
        "################# I am done #############"
      ],
      "execution_count": null,
      "outputs": []
    }
  ]
}